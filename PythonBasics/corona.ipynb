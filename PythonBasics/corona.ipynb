{
 "cells": [
  {
   "cell_type": "code",
   "execution_count": 1,
   "id": "08c552d2",
   "metadata": {},
   "outputs": [],
   "source": [
    "#pip install selenium"
   ]
  },
  {
   "cell_type": "code",
   "execution_count": 2,
   "id": "ce9e25e7",
   "metadata": {},
   "outputs": [],
   "source": [
    "#pip install webdriver_manager"
   ]
  },
  {
   "cell_type": "code",
   "execution_count": 3,
   "id": "2b162219",
   "metadata": {},
   "outputs": [],
   "source": [
    "#pip install html5lib"
   ]
  },
  {
   "cell_type": "code",
   "execution_count": 4,
   "id": "7d6f0983",
   "metadata": {},
   "outputs": [],
   "source": [
    "#pip install lxml"
   ]
  },
  {
   "cell_type": "code",
   "execution_count": 5,
   "id": "6a19a22a",
   "metadata": {},
   "outputs": [],
   "source": [
    "# Import statements\n",
    "from bs4 import BeautifulSoup\n",
    "import requests\n",
    "import xlrd\n",
    "from selenium import webdriver\n",
    "from webdriver_manager.chrome import ChromeDriverManager\n",
    "from selenium.webdriver.common.keys import Keys\n",
    "import unittest\n",
    "import time\n"
   ]
  },
  {
   "cell_type": "code",
   "execution_count": 6,
   "id": "db297612",
   "metadata": {},
   "outputs": [],
   "source": [
    "\n",
    "class SubmitCoronaCases(unittest.TestCase):\n",
    "    def setUp(self):\n",
    "        #self.driver = webdriver.Chrome(r'C:\\Program Files (x86)\\Google\\Chrome\\Application\\chrome.exe')\n",
    "        self.driver = webdriver.Chrome(ChromeDriverManager().install())\n",
    "\n",
    "        \n",
    "        \n",
    "    def test_submitData(self):\n",
    "        \n",
    "        driver = self.driver\n",
    "        driver.maximize_window()\n",
    "        for row in range(1, len(data)):\n",
    "            \n",
    "            driver.get(destinationURL)\n",
    "            self.assertEqual(\"Corona Update\", driver.title)\n",
    "\n",
    "            for col in range(0,4):\n",
    "                print(\"Values are: \" + str(data[0][col]) + \" and \" + str(data[row][col]))\n",
    "                elem = driver.find_element_by_id(data[0][col])\n",
    "                elem.clear\n",
    "                elem.send_keys(data[row][col])\n",
    "                time.sleep(1)\n",
    "\n",
    "            elem = driver.find_element_by_id('continue')\n",
    "            elem.send_keys(Keys.RETURN)\n",
    "            time.sleep(10)\n",
    "            obj = driver.switch_to.alert\n",
    "            obj.accept()\n",
    "\n",
    "\n",
    "    def tearDown(self):\n",
    "        self.driver.quit()\n",
    "        \n"
   ]
  },
  {
   "cell_type": "code",
   "execution_count": 7,
   "id": "540e2fc2",
   "metadata": {},
   "outputs": [],
   "source": [
    "# Initialize\n",
    "URL=\"https://www.worldometers.info/coronavirus/country/\"\n",
    "\n",
    "destinationURL =r'http://localhost:8080/corona/index.html'\n",
    "data=[]\n",
    "data.append([])\n",
    "data[0].append(\"country\")\n",
    "data[0].append(\"Total Cases\")\n",
    "#data[0].append(\"Active Cases\")\n",
    "#data[0].append(\"Closed Cases\")\n",
    "\n"
   ]
  },
  {
   "cell_type": "code",
   "execution_count": 8,
   "id": "b5d3bde4",
   "metadata": {},
   "outputs": [
    {
     "name": "stdout",
     "output_type": "stream",
     "text": [
      "(row 0) canada\n",
      "(row 1) india\n",
      "(row 2) Spain\n"
     ]
    }
   ],
   "source": [
    "\n",
    "workbook = xlrd.open_workbook('InputCountry.xls')\n",
    "worksheet = workbook.sheet_by_name('Input')\n",
    "countries = []\n",
    "col_idx = 0\n",
    "for row_idx in range(0, worksheet.nrows):\n",
    "        cell_obj = worksheet.cell(row_idx, col_idx)\n",
    "        print ('(row %s) %s' % (row_idx, cell_obj.value))\n",
    "        countries.append(cell_obj.value)\n"
   ]
  },
  {
   "cell_type": "code",
   "execution_count": 9,
   "id": "65f7c121",
   "metadata": {
    "scrolled": true
   },
   "outputs": [
    {
     "name": "stdout",
     "output_type": "stream",
     "text": [
      "canada\n",
      "https://www.worldometers.info/coronavirus/country/canada\n",
      "<div id=\"maincounter-wrap\" style=\"margin-top:15px\">\n",
      "<h1>Coronavirus Cases:</h1>\n",
      "<div class=\"maincounter-number\">\n",
      "<span style=\"color:#aaa\">4,669,364        </span>\n",
      "</div>\n",
      "</div>\n",
      "<h1>Coronavirus Cases:</h1>\n",
      "This is Total cases\n",
      "<div class=\"maincounter-number\">\n",
      "<span style=\"color:#aaa\">4,669,364        </span>\n",
      "</div>\n",
      "4669364\n",
      "----------------------\n",
      "======\n",
      "<div class=\"panel-heading\" style=\"text-align:center\">\n",
      "<span class=\"panel-title\" style=\"font-size:18px; text-transform:uppercase; font-weight:100\">\n",
      "                            Active Cases\n",
      "                        </span>\n",
      "</div>\n",
      "\n",
      "                            Active Cases\n",
      "                        \n",
      "xxxxxx\n",
      "----------------------\n",
      "======\n",
      "<div class=\"panel-heading\" style=\"text-align:center;\">\n",
      "<span class=\"panel-title\" style=\"font-size:18px; text-transform:uppercase; font-weight:100\">\n",
      "                                    Closed Cases</span>\n",
      "</div>\n",
      "\n",
      "                                    Closed Cases\n",
      "xxxxxx\n",
      "----------------------\n",
      "india\n",
      "https://www.worldometers.info/coronavirus/country/india\n",
      "<div id=\"maincounter-wrap\" style=\"margin-top:15px\">\n",
      "<h1>Coronavirus Cases:</h1>\n",
      "<div class=\"maincounter-number\">\n",
      "<span style=\"color:#aaa\">44,986,461        </span>\n",
      "</div>\n",
      "</div>\n",
      "<h1>Coronavirus Cases:</h1>\n",
      "This is Total cases\n",
      "<div class=\"maincounter-number\">\n",
      "<span style=\"color:#aaa\">44,986,461        </span>\n",
      "</div>\n",
      "44986461\n",
      "----------------------\n",
      "======\n",
      "<div class=\"panel-heading\" style=\"text-align:center;\">\n",
      "<span class=\"panel-title\" style=\"font-size:18px; text-transform:uppercase; font-weight:100\">\n",
      "                                    Closed Cases</span>\n",
      "</div>\n",
      "\n",
      "                                    Closed Cases\n",
      "xxxxxx\n",
      "----------------------\n",
      "Spain\n",
      "https://www.worldometers.info/coronavirus/country/Spain\n",
      "<div id=\"maincounter-wrap\" style=\"margin-top:15px\">\n",
      "<h1>Coronavirus Cases:</h1>\n",
      "<div class=\"maincounter-number\">\n",
      "<span style=\"color:#aaa\">13,845,825        </span>\n",
      "</div>\n",
      "</div>\n",
      "<h1>Coronavirus Cases:</h1>\n",
      "This is Total cases\n",
      "<div class=\"maincounter-number\">\n",
      "<span style=\"color:#aaa\">13,845,825        </span>\n",
      "</div>\n",
      "13845825\n",
      "----------------------\n"
     ]
    }
   ],
   "source": [
    "\n",
    "for country in countries: \n",
    "    rowData=[]\n",
    "    print(country) \n",
    "    rowData.append(country)\n",
    "    sourceURL = URL+country\n",
    "    print(sourceURL)\n",
    "    r=requests.get(sourceURL)\n",
    "    # Read from above URL specified\n",
    "    soup=BeautifulSoup(r.content, 'html.parser')\n",
    "\n",
    "    totalCases = 0\n",
    "    activeCases = 0\n",
    "    closedCase = 0\n",
    "    for main_div in soup.findAll('div',{'id':'maincounter-wrap'}):\n",
    "        print(main_div)\n",
    "        heading = main_div.find('h1')\n",
    "        print (heading)\n",
    "        #print (heading.contents[0])\n",
    "        #print(type(heading))\n",
    "        if(heading.contents[0] == 'Coronavirus Cases:'):\n",
    "            print(\"This is Total cases\")\n",
    "            casesData = main_div.find('div', {'class':'maincounter-number'})\n",
    "            print(casesData)\n",
    "            caseValue = int(casesData.contents[1].contents[0].replace(',', ''))\n",
    "            print(caseValue)\n",
    "            totalCases = caseValue\n",
    "            rowData.append(totalCases)\n",
    "\n",
    "            break\n",
    "    print(\"----------------------\")\n",
    "\n",
    "    for main_div in soup.findAll('div',{'class':'panel panel-default'}):\n",
    "        #print(main_div)\n",
    "        print(\"======\")\n",
    "\n",
    "        heading = main_div.find('div',{'class':'panel-heading'})\n",
    "        print (heading)\n",
    "        print (heading.contents[1].contents[0])\n",
    "        print(\"xxxxxx\")\n",
    "        \n",
    "        #print (heading.contents[0])\n",
    "        #print(type(heading))\n",
    "        if(heading.contents[1].contents[0] == '\\nClosed Cases'):\n",
    "            print(\"This is Closed cases\")\n",
    "            casesData = main_div.find('div',{'class':'panel-body'}).find('div',{'class':'panel_front'}).contents[1].contents[0]\n",
    "            print(casesData)\n",
    "            '''closedCases=int(casesData.replace(',', ''))\n",
    "            print(closedCases)\n",
    "            activeCases = totalCases - closedCases\n",
    "            print(activeCases)\n",
    "\n",
    "            rowData.append(activeCases)\n",
    "            rowData.append(closedCases)\n",
    "            '''\n",
    "\n",
    "            break\n",
    "            \n",
    "        print(\"----------------------\")\n",
    "    data.append(rowData) \n",
    "    # Store data in the html \n",
    "    destinationURL =\"http://localhost:8080/corona/index.html\"\n",
    "\n",
    "    \n"
   ]
  },
  {
   "cell_type": "code",
   "execution_count": 10,
   "id": "7a866c3c",
   "metadata": {},
   "outputs": [
    {
     "name": "stdout",
     "output_type": "stream",
     "text": [
      "[['country', 'Total Cases'], ['canada', 4669364], ['india', 44986461], ['Spain', 13845825]]\n"
     ]
    }
   ],
   "source": [
    "print(data)\n",
    "#unittest.main()"
   ]
  },
  {
   "cell_type": "code",
   "execution_count": null,
   "id": "501179e1",
   "metadata": {},
   "outputs": [],
   "source": []
  }
 ],
 "metadata": {
  "kernelspec": {
   "display_name": "Python 3 (ipykernel)",
   "language": "python",
   "name": "python3"
  },
  "language_info": {
   "codemirror_mode": {
    "name": "ipython",
    "version": 3
   },
   "file_extension": ".py",
   "mimetype": "text/x-python",
   "name": "python",
   "nbconvert_exporter": "python",
   "pygments_lexer": "ipython3",
   "version": "3.9.13"
  }
 },
 "nbformat": 4,
 "nbformat_minor": 5
}
