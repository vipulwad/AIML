{
 "cells": [
  {
   "cell_type": "code",
   "execution_count": 1,
   "metadata": {},
   "outputs": [],
   "source": [
    "import numpy as np\n",
    "import pandas as pd\n",
    "import math\n",
    "import re\n",
    "from itertools import accumulate\n",
    "import operator\n",
    "import functools as ft"
   ]
  },
  {
   "cell_type": "markdown",
   "metadata": {},
   "source": [
    "# 1. Given below are a list of positive and negative words. Also a list ofcomments is provided. Segregate the comments based on positive and negative sentiments. \n",
    "positive = ['good','awesome', 'best', 'nice']\n",
    "negative = ['worst','awful']\n",
    "comments = ['He is a good boy',\n",
    "'Food is the worst here',\n",
    "'He is an awesome player',\n",
    "'She is the best',\n",
    "'This pizza tastes awful',\n",
    "'These burger are really nice']\n"
   ]
  },
  {
   "cell_type": "code",
   "execution_count": 2,
   "metadata": {},
   "outputs": [
    {
     "name": "stdout",
     "output_type": "stream",
     "text": [
      "positive:  He is a good boy\n",
      "negative:  Food is the worst here\n",
      "positive:  He is an awesome player\n",
      "positive:  She is the best\n",
      "negative:  This pizza tastes awful\n",
      "positive:  These burger are really nice\n",
      "['He is a good boy', 'He is an awesome player', 'She is the best', 'These burger are really nice']\n",
      "['Food is the worst here', 'This pizza tastes awful']\n"
     ]
    }
   ],
   "source": [
    "\n",
    "positive = ['good','awesome', 'best', 'nice']\n",
    "negative = ['worst','awful']\n",
    "comments = ['He is a good boy',\n",
    "'Food is the worst here',\n",
    "'He is an awesome player',\n",
    "'She is the best',\n",
    "'This pizza tastes awful',\n",
    "'These burger are really nice']\n",
    "\n",
    "negativecomments = []\n",
    "positivecomments = []\n",
    "for comment in comments:\n",
    "    if re.compile('|'.join(positive),re.IGNORECASE).search(comment): \n",
    "        print('positive: ',comment)\n",
    "        positivecomments.append(comment)\n",
    "    elif re.compile('|'.join(negative),re.IGNORECASE).search(comment): \n",
    "        negativecomments.append(comment)\n",
    "        print('negative: ',comment)\n",
    "    else:\n",
    "        print('notfound: ',comment)\n",
    "\n",
    "print(positivecomments)\n",
    "print(negativecomments)"
   ]
  },
  {
   "cell_type": "markdown",
   "metadata": {},
   "source": [
    "# 2. Create a dictionary containing three lambda functions square, cube and square root.\n",
    "E.g. dict = {'Square': function for squaring, 'Cube': function for cube,\n",
    "'Squareroot': function for square root}\n",
    "Pass the values (input from the user)to the functions in the dictionary\n",
    "respectively. Then add the outputs of each function and print it.\n"
   ]
  },
  {
   "cell_type": "code",
   "execution_count": 3,
   "metadata": {},
   "outputs": [
    {
     "name": "stdout",
     "output_type": "stream",
     "text": [
      "82.0\n"
     ]
    }
   ],
   "source": [
    "def square(x):\n",
    "    return x**2\n",
    "\n",
    "def cube(x):\n",
    "    return x**3\n",
    "\n",
    "def squareroot(x):\n",
    "    return x**.5\n",
    "\n",
    "def addfuncs(n):\n",
    "    funcdict = {'Square':lambda x:square(x), \n",
    "                'Cube':lambda x:cube(x), \n",
    "                'Squareroot': lambda x:squareroot(x)}\n",
    "\n",
    "    sum=0\n",
    "    for key in funcdict.keys():\n",
    "        sum=sum+funcdict[key](n)\n",
    "    return sum\n",
    "\n",
    "\n",
    "print (addfuncs(4))"
   ]
  },
  {
   "cell_type": "markdown",
   "metadata": {},
   "source": [
    "# 3. Find the fruits that are sour in taste from the tuple given below.\n",
    "fruits = (('Lemon','sour'),\n",
    "('DragonFruit', 'Sweet'),\n",
    "('Grapes','soUr'),\n",
    "('Kiwi','Sour'),\n",
    "('Apples','sweet'),\n",
    "('Orange','sour'),\n",
    "('Blueberries','sweet'),\n",
    "('Limes','Sour')\n",
    ")\n",
    "\n",
    "Output:\n",
    "    Sour Fruits: ['Lemon', 'Grapes', 'Kiwi', 'Orange', 'Limes']\n"
   ]
  },
  {
   "cell_type": "code",
   "execution_count": 4,
   "metadata": {},
   "outputs": [
    {
     "data": {
      "text/plain": [
       "['Lemon', 'Grapes', 'Kiwi', 'Orange', 'Limes']"
      ]
     },
     "execution_count": 4,
     "metadata": {},
     "output_type": "execute_result"
    }
   ],
   "source": [
    "fruits = (('Lemon','sour'),\n",
    "('DragonFruit', 'Sweet'),\n",
    "('Grapes','soUr'),\n",
    "('Kiwi','Sour'),\n",
    "('Apples','sweet'),\n",
    "('Orange','sour'),\n",
    "('Blueberries','sweet'),\n",
    "('Limes','Sour')\n",
    ")\n",
    "\n",
    "sour_fruits=[]\n",
    "for fruit in fruits:\n",
    "   if(fruit[1].lower() == 'sour'):\n",
    "        sour_fruits.append(fruit[0])\n",
    "    \n",
    "sour_fruits"
   ]
  },
  {
   "cell_type": "markdown",
   "metadata": {},
   "source": [
    "# 4. A list of words is given. Find the words from the list that have their second character in uppercase.\n",
    "ls = ['hello', 'Dear', 'hOw', 'ARe', 'You']\n",
    "Output: ['hOw', 'ARe']\n"
   ]
  },
  {
   "cell_type": "code",
   "execution_count": 5,
   "metadata": {},
   "outputs": [
    {
     "data": {
      "text/plain": [
       "['hOw', 'ARe']"
      ]
     },
     "execution_count": 5,
     "metadata": {},
     "output_type": "execute_result"
    }
   ],
   "source": [
    "Input = ['hello', 'Dear', 'hOw', 'ARe', 'You']\n",
    "Output=[]\n",
    "for s in Input:\n",
    "    if(s[1].isupper() == True):\n",
    "        Output.append(s)\n",
    "\n",
    "Output"
   ]
  },
  {
   "cell_type": "markdown",
   "metadata": {},
   "source": [
    "# 5. A dictionary of names and their weights on earth is given. Find how much they will weigh on the moon. (Use map and lambda functions)\n",
    "\n",
    "Formula : wMoon = (wEarth * GMoon) / GEarth\n",
    "#### Weight of people in kg\n",
    "WeightOnEarth = {'John':45, 'Shelly':65, 'Marry':35}\n",
    "#### Gravitational force on the Moon: 1.622 m/s2\n",
    "GMoon = 1.622\n",
    "#### Gravitational force on the Earth: 9.81 m/s2\n",
    "GEarth = 9.81\n",
    "#### Output:\n",
    "Weight on Moon: {'John': 7.44, 'Shelly': 10.75, 'Marry': 5.79}\n"
   ]
  },
  {
   "cell_type": "code",
   "execution_count": 6,
   "metadata": {},
   "outputs": [
    {
     "data": {
      "text/plain": [
       "{'John': 7.44, 'Shelly': 10.75, 'Marry': 5.79}"
      ]
     },
     "execution_count": 6,
     "metadata": {},
     "output_type": "execute_result"
    }
   ],
   "source": [
    "WeightOnEarth = {'John':45, 'Shelly':65, 'Marry':35}\n",
    "GMoon = 1.622\n",
    "GEarth = 9.81\n",
    "\n",
    "def WeightOnMoon(x,y,z):\n",
    "    wMoon = (x * y) / z\n",
    "    return wMoon\n",
    "\n",
    "\n",
    "MoonWeight = dict(map(lambda item: (item[0], round(WeightOnMoon(item[1],GMoon, GEarth),2)), WeightOnEarth.items()))\n",
    "MoonWeight"
   ]
  },
  {
   "cell_type": "markdown",
   "metadata": {},
   "source": [
    "# 6. Write a program to fetch the words from the given list which have their first character in uppercase.\n",
    "namesList = ['santa Maria', 'Hello World','Merry christmas', 'tHank\n",
    "You']\n",
    "\n",
    "Output: ['Maria', 'Hello', 'World', 'Merry', 'You']\n"
   ]
  },
  {
   "cell_type": "code",
   "execution_count": 7,
   "metadata": {},
   "outputs": [
    {
     "data": {
      "text/plain": [
       "['Maria', 'Hello', 'World', 'Merry', 'You']"
      ]
     },
     "execution_count": 7,
     "metadata": {},
     "output_type": "execute_result"
    }
   ],
   "source": [
    "namesList = ['santa Maria', 'Hello World','Merry christmas', 'tHank You'] \n",
    "Output=[]\n",
    "for names in namesList:\n",
    "    listnames=names.split()\n",
    "    for s in listnames:\n",
    "        if(s[0].isupper() == True):\n",
    "            Output.append(s)\n",
    "Output"
   ]
  },
  {
   "cell_type": "markdown",
   "metadata": {},
   "source": [
    "# 7. A list containing multiple lists is given. Convert each inner list into sets and find the intersection of all the sets. Use reduce function.\n",
    "given_sets = [[1, 2, 3, 4, 8], [2, 3, 8, 5, 6], [8, 4, 5, 3, 7], [6, 9, 8, 3], [9,\n",
    "12, 3, 7, 6, 8, 4, 6, 21, 1, 6]]\n",
    "\n",
    "Output: {8, 3}\n"
   ]
  },
  {
   "cell_type": "code",
   "execution_count": 8,
   "metadata": {},
   "outputs": [
    {
     "name": "stdout",
     "output_type": "stream",
     "text": [
      "Output using reduce\n",
      "{8, 3}\n",
      "Output using intersection\n",
      "{8, 3}\n"
     ]
    }
   ],
   "source": [
    "given_sets = [[1, 2, 3, 4, 8], \n",
    "              [2, 3, 8, 5, 6], \n",
    "              [8, 4, 5, 3, 7], \n",
    "              [6, 9, 8, 3], \n",
    "              [9, 12, 3, 7, 6, 8, 4, 6, 21, 1, 6]] \n",
    "\n",
    "convertedToSet = []\n",
    "for l in given_sets:\n",
    "    convertedToSet.append(set(l))\n",
    "\n",
    "#output using reduce\n",
    "print('Output using reduce')\n",
    "print (ft.reduce(lambda s1, s2: s1 & s2, convertedToSet))\n",
    "\n",
    "# output using intersection\n",
    "print('Output using intersection')\n",
    "print(set.intersection(*convertedToSet))\n",
    "\n"
   ]
  },
  {
   "cell_type": "markdown",
   "metadata": {},
   "source": [
    "# 8. Find the cumulative average of the list [9,8,7,6,5] using accumulate() and lambda function Input list: [9, 5, 7, 8, 5]\n"
   ]
  },
  {
   "cell_type": "code",
   "execution_count": 9,
   "metadata": {},
   "outputs": [
    {
     "name": "stdout",
     "output_type": "stream",
     "text": [
      "list 1:  [9.0, 8.5, 8.0, 7.5, 7.0]\n",
      "list 2:  [9.0, 7.0, 7.0, 7.25, 6.8]\n"
     ]
    }
   ],
   "source": [
    "\n",
    "inputValues1 = [9,8,7,6,5]\n",
    "inputValues2 = [9,5,7,8,5]\n",
    "\n",
    "def cumval(x):\n",
    "    cumulativeValues=list(accumulate(x,operator.add))\n",
    "    cvaldict={}\n",
    "    counter=1\n",
    "    for i in cumulativeValues:\n",
    "        cvaldict[counter]=i\n",
    "        counter+=1\n",
    "\n",
    "    return(list(map(lambda a: a[1]/a[0], cvaldict.items())))\n",
    "\n",
    "print('list 1: ', cumval(inputValues1))\n",
    "print('list 2: ', cumval(inputValues2))"
   ]
  },
  {
   "cell_type": "markdown",
   "metadata": {},
   "source": [
    "# 9. A list of words is given. Convert the words into uppercase. Use lambda and map functions.\n",
    "lsbool = ['True','FALse','tRUe','tRue','False','faLse']\n",
    "\n",
    "Output: ['TRUE', 'FALSE', 'TRUE', 'TRUE', 'FALSE', 'FALSE']\n"
   ]
  },
  {
   "cell_type": "code",
   "execution_count": 10,
   "metadata": {},
   "outputs": [
    {
     "name": "stdout",
     "output_type": "stream",
     "text": [
      "['TRUE', 'FALSE', 'TRUE', 'TRUE', 'FALSE', 'FALSE']\n"
     ]
    }
   ],
   "source": [
    "Input = ['True','FALse','tRUe','tRue','False','faLse']\n",
    "Output = list(map(lambda x: x.upper(), Input))\n",
    "print(Output)"
   ]
  },
  {
   "cell_type": "markdown",
   "metadata": {},
   "source": [
    "# 10. A list of dates (dd-mm-yyyy)in the form of string is given below. Create a new list that stores years i.e. the 'yyyy' part from the dates in the given list.\n",
    "datesList = ['17-12-1997','22-04-2011','01-05-1993','19-06-2020']\n",
    "\n",
    "Output: ['1997','2011','1993','2020']"
   ]
  },
  {
   "cell_type": "code",
   "execution_count": 11,
   "metadata": {},
   "outputs": [
    {
     "data": {
      "text/plain": [
       "['1997', '2011', '1993', '2020']"
      ]
     },
     "execution_count": 11,
     "metadata": {},
     "output_type": "execute_result"
    }
   ],
   "source": [
    "Output=[]\n",
    "datesList = ['17-12-1997','22-04-2011','01-05-1993','19-06-2020'] \n",
    "for dt in datesList:\n",
    "    detailedDate = dt.split('-')\n",
    "    Output.append(detailedDate[2])\n",
    "Output"
   ]
  }
 ],
 "metadata": {
  "kernelspec": {
   "display_name": "Python 3 (ipykernel)",
   "language": "python",
   "name": "python3"
  },
  "language_info": {
   "codemirror_mode": {
    "name": "ipython",
    "version": 3
   },
   "file_extension": ".py",
   "mimetype": "text/x-python",
   "name": "python",
   "nbconvert_exporter": "python",
   "pygments_lexer": "ipython3",
   "version": "3.9.13"
  }
 },
 "nbformat": 4,
 "nbformat_minor": 2
}
