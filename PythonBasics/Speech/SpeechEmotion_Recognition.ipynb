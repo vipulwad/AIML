{
 "cells": [
  {
   "cell_type": "markdown",
   "metadata": {
    "id": "VPpeZTeSXS-i"
   },
   "source": [
    "content Credit: https://data-flair.training/blogs/python-mini-project-speech-emotion-recognition/"
   ]
  },
  {
   "cell_type": "code",
   "execution_count": 3,
   "metadata": {
    "colab": {
     "base_uri": "https://localhost:8080/"
    },
    "executionInfo": {
     "elapsed": 28166,
     "status": "ok",
     "timestamp": 1681636484482,
     "user": {
      "displayName": "Shikha Baghel",
      "userId": "17762699729719219675"
     },
     "user_tz": -330
    },
    "id": "577sa2WXk8EX",
    "outputId": "a5809b84-8d56-4983-d6ad-98525d705bcb"
   },
   "outputs": [
    {
     "name": "stdout",
     "output_type": "stream",
     "text": [
      "Collecting librosa"
     ]
    },
    {
     "name": "stderr",
     "output_type": "stream",
     "text": [
      "WARNING: You are using pip version 22.0.4; however, version 23.1 is available.\n",
      "You should consider upgrading via the 'C:\\Installed\\Python\\Python310\\python.exe -m pip install --upgrade pip' command.\n"
     ]
    },
    {
     "name": "stdout",
     "output_type": "stream",
     "text": [
      "\n",
      "  Using cached librosa-0.10.0.post2-py3-none-any.whl (253 kB)\n",
      "Collecting soundfile\n",
      "  Using cached soundfile-0.12.1-py2.py3-none-win_amd64.whl (1.0 MB)\n",
      "Requirement already satisfied: numpy in c:\\installed\\python\\python310\\lib\\site-packages (1.22.3)\n",
      "Requirement already satisfied: sklearn in c:\\installed\\python\\python310\\lib\\site-packages (0.0)\n",
      "Collecting pyaudio\n",
      "  Downloading PyAudio-0.2.13-cp310-cp310-win_amd64.whl (164 kB)\n",
      "     -------------------------------------- 164.1/164.1 KB 3.3 MB/s eta 0:00:00\n",
      "Collecting msgpack>=1.0\n",
      "  Downloading msgpack-1.0.5-cp310-cp310-win_amd64.whl (61 kB)\n",
      "     ---------------------------------------- 61.6/61.6 KB 3.2 MB/s eta 0:00:00\n",
      "Collecting audioread>=2.1.9\n",
      "  Using cached audioread-3.0.0.tar.gz (377 kB)\n",
      "  Preparing metadata (setup.py): started\n",
      "  Preparing metadata (setup.py): finished with status 'done'\n",
      "Collecting numba>=0.51.0\n",
      "  Downloading numba-0.56.4-cp310-cp310-win_amd64.whl (2.5 MB)\n",
      "     ---------------------------------------- 2.5/2.5 MB 6.1 MB/s eta 0:00:00\n",
      "Requirement already satisfied: joblib>=0.14 in c:\\installed\\python\\python310\\lib\\site-packages (from librosa) (1.1.0)\n",
      "Collecting lazy-loader>=0.1\n",
      "  Using cached lazy_loader-0.2-py3-none-any.whl (8.6 kB)\n",
      "Collecting pooch<1.7,>=1.0\n",
      "  Using cached pooch-1.6.0-py3-none-any.whl (56 kB)\n",
      "Collecting soxr>=0.3.2\n",
      "  Downloading soxr-0.3.5-cp310-cp310-win_amd64.whl (184 kB)\n",
      "     ------------------------------------- 184.0/184.0 KB 10.9 MB/s eta 0:00:00\n",
      "Requirement already satisfied: scikit-learn>=0.20.0 in c:\\installed\\python\\python310\\lib\\site-packages (from librosa) (1.0.2)\n",
      "Requirement already satisfied: scipy>=1.2.0 in c:\\installed\\python\\python310\\lib\\site-packages (from librosa) (1.8.0)\n",
      "Requirement already satisfied: decorator>=4.3.0 in c:\\installed\\python\\python310\\lib\\site-packages (from librosa) (5.1.1)\n",
      "Requirement already satisfied: typing-extensions>=4.1.1 in c:\\installed\\python\\python310\\lib\\site-packages (from librosa) (4.1.1)\n",
      "Requirement already satisfied: cffi>=1.0 in c:\\installed\\python\\python310\\lib\\site-packages (from soundfile) (1.15.0)\n",
      "Requirement already satisfied: pycparser in c:\\installed\\python\\python310\\lib\\site-packages (from cffi>=1.0->soundfile) (2.21)\n",
      "Collecting llvmlite<0.40,>=0.39.0dev0\n",
      "  Downloading llvmlite-0.39.1-cp310-cp310-win_amd64.whl (23.2 MB)\n",
      "     ---------------------------------------- 23.2/23.2 MB 9.5 MB/s eta 0:00:00\n",
      "Requirement already satisfied: setuptools in c:\\installed\\python\\python310\\lib\\site-packages (from numba>=0.51.0->librosa) (58.1.0)\n",
      "Collecting appdirs>=1.3.0\n",
      "  Downloading appdirs-1.4.4-py2.py3-none-any.whl (9.6 kB)\n",
      "Requirement already satisfied: requests>=2.19.0 in c:\\installed\\python\\python310\\lib\\site-packages (from pooch<1.7,>=1.0->librosa) (2.27.1)\n",
      "Requirement already satisfied: packaging>=20.0 in c:\\installed\\python\\python310\\lib\\site-packages (from pooch<1.7,>=1.0->librosa) (21.3)\n",
      "Requirement already satisfied: threadpoolctl>=2.0.0 in c:\\installed\\python\\python310\\lib\\site-packages (from scikit-learn>=0.20.0->librosa) (3.1.0)\n",
      "Requirement already satisfied: pyparsing!=3.0.5,>=2.0.2 in c:\\installed\\python\\python310\\lib\\site-packages (from packaging>=20.0->pooch<1.7,>=1.0->librosa) (3.0.7)\n",
      "Requirement already satisfied: urllib3<1.27,>=1.21.1 in c:\\installed\\python\\python310\\lib\\site-packages (from requests>=2.19.0->pooch<1.7,>=1.0->librosa) (1.26.8)\n",
      "Requirement already satisfied: charset-normalizer~=2.0.0 in c:\\installed\\python\\python310\\lib\\site-packages (from requests>=2.19.0->pooch<1.7,>=1.0->librosa) (2.0.12)\n",
      "Requirement already satisfied: certifi>=2017.4.17 in c:\\installed\\python\\python310\\lib\\site-packages (from requests>=2.19.0->pooch<1.7,>=1.0->librosa) (2021.10.8)\n",
      "Requirement already satisfied: idna<4,>=2.5 in c:\\installed\\python\\python310\\lib\\site-packages (from requests>=2.19.0->pooch<1.7,>=1.0->librosa) (3.3)\n",
      "Building wheels for collected packages: audioread\n",
      "  Building wheel for audioread (setup.py): started\n",
      "  Building wheel for audioread (setup.py): finished with status 'done'\n",
      "  Created wheel for audioread: filename=audioread-3.0.0-py3-none-any.whl size=23706 sha256=6b9b138c3bff7c7c058f06ed1efb3af9fe3b99df9283eff2dd74f4744dd141da\n",
      "  Stored in directory: c:\\users\\vwadhawan\\appdata\\local\\pip\\cache\\wheels\\da\\4b\\39\\c5f6c4ee93b43281dda4dab5ac5f2bdf9d11074d427493cd55\n",
      "Successfully built audioread\n",
      "Installing collected packages: pyaudio, msgpack, appdirs, soxr, llvmlite, lazy-loader, audioread, soundfile, pooch, numba, librosa\n",
      "Successfully installed appdirs-1.4.4 audioread-3.0.0 lazy-loader-0.2 librosa-0.10.0.post2 llvmlite-0.39.1 msgpack-1.0.5 numba-0.56.4 pooch-1.6.0 pyaudio-0.2.13 soundfile-0.12.1 soxr-0.3.5\n"
     ]
    }
   ],
   "source": [
    "#from google.colab import drive\n",
    "#drive.mount('/content/drive')\n",
    "!pip install librosa soundfile numpy sklearn pyaudio"
   ]
  },
  {
   "cell_type": "markdown",
   "metadata": {
    "id": "xz30YAWdmWUk"
   },
   "source": [
    "! pip install librosa soundfile numpy sklearn pyaudio"
   ]
  },
  {
   "cell_type": "code",
   "execution_count": 18,
   "metadata": {
    "executionInfo": {
     "elapsed": 1040,
     "status": "ok",
     "timestamp": 1681637050241,
     "user": {
      "displayName": "Shikha Baghel",
      "userId": "17762699729719219675"
     },
     "user_tz": -330
    },
    "id": "q7Vcdqh5mGhi"
   },
   "outputs": [],
   "source": [
    "import soundfile # to read audio file\n",
    "import numpy as np\n",
    "import librosa # to extract speech features\n",
    "import glob\n",
    "import os\n",
    "import pickle # to save model after training\n",
    "from sklearn.model_selection import train_test_split # for splitting training and testing\n",
    "from sklearn.neural_network import MLPClassifier # multi-layer perceptron model\n",
    "from sklearn.metrics import accuracy_score # to measure how good we are"
   ]
  },
  {
   "cell_type": "code",
   "execution_count": 19,
   "metadata": {
    "executionInfo": {
     "elapsed": 788,
     "status": "ok",
     "timestamp": 1681639763810,
     "user": {
      "displayName": "Shikha Baghel",
      "userId": "17762699729719219675"
     },
     "user_tz": -330
    },
    "id": "ksqwEzrMmxkx"
   },
   "outputs": [],
   "source": [
    "#DataFlair - Extract features (mfcc, chroma, mel) from a sound file\n",
    "def extract_feature(file_name, mfcc, chroma, mel):\n",
    "    with soundfile.SoundFile(file_name) as sound_file:\n",
    "        X = sound_file.read(dtype=\"float32\")\n",
    "        sample_rate = sound_file.samplerate\n",
    "        result=np.array([])\n",
    "        if chroma:\n",
    "            stft=np.abs(librosa.stft(X))\n",
    "        if mfcc:\n",
    "            mfccs=np.mean(librosa.feature.mfcc(y=X, sr=sample_rate, n_mfcc=40).T, axis=0)\n",
    "            result=np.hstack((result, mfccs))\n",
    "        if chroma:\n",
    "            chroma=np.mean(librosa.feature.chroma_stft(S=stft, sr=sample_rate).T,axis=0)\n",
    "            result=np.hstack((result, chroma))\n",
    "        if mel:\n",
    "            mel=np.mean(librosa.feature.melspectrogram(y =  X, sr = sample_rate).T,axis=0)\n",
    "            result=np.hstack((result, mel))\n",
    "    return result"
   ]
  },
  {
   "cell_type": "code",
   "execution_count": 20,
   "metadata": {
    "executionInfo": {
     "elapsed": 4,
     "status": "ok",
     "timestamp": 1681637065993,
     "user": {
      "displayName": "Shikha Baghel",
      "userId": "17762699729719219675"
     },
     "user_tz": -330
    },
    "id": "aZzIBRHXm_po"
   },
   "outputs": [],
   "source": [
    "#DataFlair - Emotions in the RAVDESS dataset\n",
    "emotions={\n",
    "  '01':'neutral',\n",
    "  '02':'calm',\n",
    "  '03':'happy',\n",
    "  '04':'sad',\n",
    "  '05':'angry',\n",
    "  '06':'fearful',\n",
    "  '07':'disgust',\n",
    "  '08':'surprised'\n",
    "}\n",
    "#DataFlair - Emotions to observe\n",
    "observed_emotions=['calm', 'happy', 'fearful', 'disgust']"
   ]
  },
  {
   "cell_type": "code",
   "execution_count": 21,
   "metadata": {
    "executionInfo": {
     "elapsed": 516,
     "status": "ok",
     "timestamp": 1681639794324,
     "user": {
      "displayName": "Shikha Baghel",
      "userId": "17762699729719219675"
     },
     "user_tz": -330
    },
    "id": "JxXdB2k3nLlr"
   },
   "outputs": [],
   "source": [
    "#DataFlair - Load the data and extract features for each sound file\n",
    "def load_data(test_size=0.2):\n",
    "    x,y=[],[]\n",
    "    file_list = glob.glob(\"data/speech-emotion-recognition-ravdess-data/Actor_*/*.wav\")\n",
    "    # print('file list ', file_list)\n",
    "    for file in glob.glob(\"data/speech-emotion-recognition-ravdess-data/Actor_*/*.wav\"):\n",
    "        # print('file ', file)\n",
    "        file_name=os.path.basename(file)\n",
    "        # print('file_name ', file_name, '   split file name ', file_name.split(\"-\")[2])\n",
    "        emotion = emotions[file_name.split(\"-\")[2]]\n",
    "        # print('emotion ', emotion)\n",
    "        if emotion not in observed_emotions:\n",
    "            continue\n",
    "        feature = extract_feature(file, mfcc=True, chroma=True, mel=True)\n",
    "        x.append(feature)\n",
    "        y.append(emotion)\n",
    "    return train_test_split(np.array(x), y, test_size=test_size, random_state=9)"
   ]
  },
  {
   "cell_type": "code",
   "execution_count": 22,
   "metadata": {
    "colab": {
     "base_uri": "https://localhost:8080/"
    },
    "executionInfo": {
     "elapsed": 178298,
     "status": "ok",
     "timestamp": 1681639997403,
     "user": {
      "displayName": "Shikha Baghel",
      "userId": "17762699729719219675"
     },
     "user_tz": -330
    },
    "id": "Pp0bp-munylP",
    "outputId": "01295d30-7402-4d50-97e7-a17f0ce551d5"
   },
   "outputs": [
    {
     "ename": "ValueError",
     "evalue": "With n_samples=0, test_size=0.1 and train_size=None, the resulting train set will be empty. Adjust any of the aforementioned parameters.",
     "output_type": "error",
     "traceback": [
      "\u001b[1;31m---------------------------------------------------------------------------\u001b[0m",
      "\u001b[1;31mValueError\u001b[0m                                Traceback (most recent call last)",
      "\u001b[1;32mc:\\Users\\vwadhawan\\DataScience\\PythonBasics\\Speech\\SpeechEmotion_Recognition.ipynb Cell 8\u001b[0m in \u001b[0;36m<cell line: 2>\u001b[1;34m()\u001b[0m\n\u001b[0;32m      <a href='vscode-notebook-cell:/c%3A/Users/vwadhawan/DataScience/PythonBasics/Speech/SpeechEmotion_Recognition.ipynb#X10sZmlsZQ%3D%3D?line=0'>1</a>\u001b[0m \u001b[39m#DataFlair - Split the dataset\u001b[39;00m\n\u001b[1;32m----> <a href='vscode-notebook-cell:/c%3A/Users/vwadhawan/DataScience/PythonBasics/Speech/SpeechEmotion_Recognition.ipynb#X10sZmlsZQ%3D%3D?line=1'>2</a>\u001b[0m x_train,x_test,y_train,y_test\u001b[39m=\u001b[39mload_data(test_size\u001b[39m=\u001b[39;49m\u001b[39m0.1\u001b[39;49m)\n",
      "\u001b[1;32mc:\\Users\\vwadhawan\\DataScience\\PythonBasics\\Speech\\SpeechEmotion_Recognition.ipynb Cell 8\u001b[0m in \u001b[0;36mload_data\u001b[1;34m(test_size)\u001b[0m\n\u001b[0;32m     <a href='vscode-notebook-cell:/c%3A/Users/vwadhawan/DataScience/PythonBasics/Speech/SpeechEmotion_Recognition.ipynb#X10sZmlsZQ%3D%3D?line=14'>15</a>\u001b[0m     x\u001b[39m.\u001b[39mappend(feature)\n\u001b[0;32m     <a href='vscode-notebook-cell:/c%3A/Users/vwadhawan/DataScience/PythonBasics/Speech/SpeechEmotion_Recognition.ipynb#X10sZmlsZQ%3D%3D?line=15'>16</a>\u001b[0m     y\u001b[39m.\u001b[39mappend(emotion)\n\u001b[1;32m---> <a href='vscode-notebook-cell:/c%3A/Users/vwadhawan/DataScience/PythonBasics/Speech/SpeechEmotion_Recognition.ipynb#X10sZmlsZQ%3D%3D?line=16'>17</a>\u001b[0m \u001b[39mreturn\u001b[39;00m train_test_split(np\u001b[39m.\u001b[39;49marray(x), y, test_size\u001b[39m=\u001b[39;49mtest_size, random_state\u001b[39m=\u001b[39;49m\u001b[39m9\u001b[39;49m)\n",
      "File \u001b[1;32mc:\\Installed\\Python\\Python310\\lib\\site-packages\\sklearn\\model_selection\\_split.py:2420\u001b[0m, in \u001b[0;36mtrain_test_split\u001b[1;34m(test_size, train_size, random_state, shuffle, stratify, *arrays)\u001b[0m\n\u001b[0;32m   2417\u001b[0m arrays \u001b[39m=\u001b[39m indexable(\u001b[39m*\u001b[39marrays)\n\u001b[0;32m   2419\u001b[0m n_samples \u001b[39m=\u001b[39m _num_samples(arrays[\u001b[39m0\u001b[39m])\n\u001b[1;32m-> 2420\u001b[0m n_train, n_test \u001b[39m=\u001b[39m _validate_shuffle_split(\n\u001b[0;32m   2421\u001b[0m     n_samples, test_size, train_size, default_test_size\u001b[39m=\u001b[39;49m\u001b[39m0.25\u001b[39;49m\n\u001b[0;32m   2422\u001b[0m )\n\u001b[0;32m   2424\u001b[0m \u001b[39mif\u001b[39;00m shuffle \u001b[39mis\u001b[39;00m \u001b[39mFalse\u001b[39;00m:\n\u001b[0;32m   2425\u001b[0m     \u001b[39mif\u001b[39;00m stratify \u001b[39mis\u001b[39;00m \u001b[39mnot\u001b[39;00m \u001b[39mNone\u001b[39;00m:\n",
      "File \u001b[1;32mc:\\Installed\\Python\\Python310\\lib\\site-packages\\sklearn\\model_selection\\_split.py:2098\u001b[0m, in \u001b[0;36m_validate_shuffle_split\u001b[1;34m(n_samples, test_size, train_size, default_test_size)\u001b[0m\n\u001b[0;32m   2095\u001b[0m n_train, n_test \u001b[39m=\u001b[39m \u001b[39mint\u001b[39m(n_train), \u001b[39mint\u001b[39m(n_test)\n\u001b[0;32m   2097\u001b[0m \u001b[39mif\u001b[39;00m n_train \u001b[39m==\u001b[39m \u001b[39m0\u001b[39m:\n\u001b[1;32m-> 2098\u001b[0m     \u001b[39mraise\u001b[39;00m \u001b[39mValueError\u001b[39;00m(\n\u001b[0;32m   2099\u001b[0m         \u001b[39m\"\u001b[39m\u001b[39mWith n_samples=\u001b[39m\u001b[39m{}\u001b[39;00m\u001b[39m, test_size=\u001b[39m\u001b[39m{}\u001b[39;00m\u001b[39m and train_size=\u001b[39m\u001b[39m{}\u001b[39;00m\u001b[39m, the \u001b[39m\u001b[39m\"\u001b[39m\n\u001b[0;32m   2100\u001b[0m         \u001b[39m\"\u001b[39m\u001b[39mresulting train set will be empty. Adjust any of the \u001b[39m\u001b[39m\"\u001b[39m\n\u001b[0;32m   2101\u001b[0m         \u001b[39m\"\u001b[39m\u001b[39maforementioned parameters.\u001b[39m\u001b[39m\"\u001b[39m\u001b[39m.\u001b[39mformat(n_samples, test_size, train_size)\n\u001b[0;32m   2102\u001b[0m     )\n\u001b[0;32m   2104\u001b[0m \u001b[39mreturn\u001b[39;00m n_train, n_test\n",
      "\u001b[1;31mValueError\u001b[0m: With n_samples=0, test_size=0.1 and train_size=None, the resulting train set will be empty. Adjust any of the aforementioned parameters."
     ]
    }
   ],
   "source": [
    "#DataFlair - Split the dataset\n",
    "x_train,x_test,y_train,y_test=load_data(test_size=0.1)\n",
    "\n",
    "\n",
    "#DataFlair - Get the shape of the training and testing datasets\n",
    "#print((x_train.shape[0], x_test.shape[0]))\n",
    "\n",
    "#DataFlair - Get the number of features extracted\n",
    "#print(f'Features extracted: {x_train.shape[1]}')\n"
   ]
  },
  {
   "cell_type": "markdown",
   "metadata": {
    "id": "u40_bZs9n8Uy"
   },
   "source": [
    "* Now, let’s initialize an MLPClassifier. This is a Multi-layer Perceptron Classifier; it optimizes the log-loss function using stochastic gradient descent. Unlike SVM or Naive Bayes, the MLPClassifier has an internal neural network for the purpose of classification. This is a feedforward ANN model.*"
   ]
  },
  {
   "cell_type": "code",
   "execution_count": 13,
   "metadata": {
    "executionInfo": {
     "elapsed": 1298,
     "status": "ok",
     "timestamp": 1681640009469,
     "user": {
      "displayName": "Shikha Baghel",
      "userId": "17762699729719219675"
     },
     "user_tz": -330
    },
    "id": "QRTZLTVJoNA-"
   },
   "outputs": [],
   "source": [
    "#DataFlair - Initialize the Multi Layer Perceptron Classifier\n",
    "model=MLPClassifier(alpha=0.01, batch_size=256, epsilon=1e-08, hidden_layer_sizes=(300,), learning_rate='adaptive', max_iter=500)\n"
   ]
  },
  {
   "cell_type": "code",
   "execution_count": 14,
   "metadata": {
    "colab": {
     "base_uri": "https://localhost:8080/",
     "height": 92
    },
    "executionInfo": {
     "elapsed": 5404,
     "status": "ok",
     "timestamp": 1681640034576,
     "user": {
      "displayName": "Shikha Baghel",
      "userId": "17762699729719219675"
     },
     "user_tz": -330
    },
    "id": "Xp-MN7eIoPvS",
    "outputId": "89a3ab4c-2b03-469f-c2ad-3ee4bb26ef36"
   },
   "outputs": [
    {
     "ename": "NameError",
     "evalue": "name 'x_train' is not defined",
     "output_type": "error",
     "traceback": [
      "\u001b[1;31m---------------------------------------------------------------------------\u001b[0m",
      "\u001b[1;31mNameError\u001b[0m                                 Traceback (most recent call last)",
      "\u001b[1;32mc:\\Users\\vwadhawan\\DataScience\\PythonBasics\\Speech\\SpeechEmotion_Recognition.ipynb Cell 11\u001b[0m in \u001b[0;36m<cell line: 2>\u001b[1;34m()\u001b[0m\n\u001b[0;32m      <a href='vscode-notebook-cell:/c%3A/Users/vwadhawan/DataScience/PythonBasics/Speech/SpeechEmotion_Recognition.ipynb#X13sZmlsZQ%3D%3D?line=0'>1</a>\u001b[0m \u001b[39m#DataFlair - Train the model\u001b[39;00m\n\u001b[1;32m----> <a href='vscode-notebook-cell:/c%3A/Users/vwadhawan/DataScience/PythonBasics/Speech/SpeechEmotion_Recognition.ipynb#X13sZmlsZQ%3D%3D?line=1'>2</a>\u001b[0m model\u001b[39m.\u001b[39mfit(x_train,y_train)\n",
      "\u001b[1;31mNameError\u001b[0m: name 'x_train' is not defined"
     ]
    }
   ],
   "source": [
    "#DataFlair - Train the model\n",
    "model.fit(x_train,y_train)"
   ]
  },
  {
   "cell_type": "code",
   "execution_count": 15,
   "metadata": {
    "executionInfo": {
     "elapsed": 425,
     "status": "ok",
     "timestamp": 1681640041942,
     "user": {
      "displayName": "Shikha Baghel",
      "userId": "17762699729719219675"
     },
     "user_tz": -330
    },
    "id": "sLNkm_6UoS-y"
   },
   "outputs": [
    {
     "ename": "NameError",
     "evalue": "name 'x_test' is not defined",
     "output_type": "error",
     "traceback": [
      "\u001b[1;31m---------------------------------------------------------------------------\u001b[0m",
      "\u001b[1;31mNameError\u001b[0m                                 Traceback (most recent call last)",
      "\u001b[1;32mc:\\Users\\vwadhawan\\DataScience\\PythonBasics\\Speech\\SpeechEmotion_Recognition.ipynb Cell 12\u001b[0m in \u001b[0;36m<cell line: 2>\u001b[1;34m()\u001b[0m\n\u001b[0;32m      <a href='vscode-notebook-cell:/c%3A/Users/vwadhawan/DataScience/PythonBasics/Speech/SpeechEmotion_Recognition.ipynb#X14sZmlsZQ%3D%3D?line=0'>1</a>\u001b[0m \u001b[39m#DataFlair - Predict for the test set\u001b[39;00m\n\u001b[1;32m----> <a href='vscode-notebook-cell:/c%3A/Users/vwadhawan/DataScience/PythonBasics/Speech/SpeechEmotion_Recognition.ipynb#X14sZmlsZQ%3D%3D?line=1'>2</a>\u001b[0m y_pred\u001b[39m=\u001b[39mmodel\u001b[39m.\u001b[39mpredict(x_test)\n",
      "\u001b[1;31mNameError\u001b[0m: name 'x_test' is not defined"
     ]
    }
   ],
   "source": [
    "#DataFlair - Predict for the test set\n",
    "y_pred=model.predict(x_test)"
   ]
  },
  {
   "cell_type": "markdown",
   "metadata": {
    "id": "_DlMZL89oZWW"
   },
   "source": [
    "To calculate the accuracy of our model, we’ll call up the accuracy_score() function we imported from sklearn. Finally, we’ll round the accuracy to 2 decimal places and print it out."
   ]
  },
  {
   "cell_type": "code",
   "execution_count": 16,
   "metadata": {
    "colab": {
     "base_uri": "https://localhost:8080/"
    },
    "executionInfo": {
     "elapsed": 22,
     "status": "ok",
     "timestamp": 1681640049401,
     "user": {
      "displayName": "Shikha Baghel",
      "userId": "17762699729719219675"
     },
     "user_tz": -330
    },
    "id": "62FmqlAqoV7H",
    "outputId": "d0631a2c-74c3-4326-bd7c-809bd0492f0c"
   },
   "outputs": [
    {
     "ename": "NameError",
     "evalue": "name 'y_test' is not defined",
     "output_type": "error",
     "traceback": [
      "\u001b[1;31m---------------------------------------------------------------------------\u001b[0m",
      "\u001b[1;31mNameError\u001b[0m                                 Traceback (most recent call last)",
      "\u001b[1;32mc:\\Users\\vwadhawan\\DataScience\\PythonBasics\\Speech\\SpeechEmotion_Recognition.ipynb Cell 14\u001b[0m in \u001b[0;36m<cell line: 2>\u001b[1;34m()\u001b[0m\n\u001b[0;32m      <a href='vscode-notebook-cell:/c%3A/Users/vwadhawan/DataScience/PythonBasics/Speech/SpeechEmotion_Recognition.ipynb#X16sZmlsZQ%3D%3D?line=0'>1</a>\u001b[0m \u001b[39m#DataFlair - Calculate the accuracy of our model\u001b[39;00m\n\u001b[1;32m----> <a href='vscode-notebook-cell:/c%3A/Users/vwadhawan/DataScience/PythonBasics/Speech/SpeechEmotion_Recognition.ipynb#X16sZmlsZQ%3D%3D?line=1'>2</a>\u001b[0m accuracy\u001b[39m=\u001b[39maccuracy_score(y_true\u001b[39m=\u001b[39my_test, y_pred\u001b[39m=\u001b[39my_pred)\n\u001b[0;32m      <a href='vscode-notebook-cell:/c%3A/Users/vwadhawan/DataScience/PythonBasics/Speech/SpeechEmotion_Recognition.ipynb#X16sZmlsZQ%3D%3D?line=3'>4</a>\u001b[0m \u001b[39m#DataFlair - Print the accuracy\u001b[39;00m\n\u001b[0;32m      <a href='vscode-notebook-cell:/c%3A/Users/vwadhawan/DataScience/PythonBasics/Speech/SpeechEmotion_Recognition.ipynb#X16sZmlsZQ%3D%3D?line=4'>5</a>\u001b[0m \u001b[39mprint\u001b[39m(\u001b[39m\"\u001b[39m\u001b[39mAccuracy: \u001b[39m\u001b[39m{:.2f}\u001b[39;00m\u001b[39m%\u001b[39m\u001b[39m\"\u001b[39m\u001b[39m.\u001b[39mformat(accuracy\u001b[39m*\u001b[39m\u001b[39m100\u001b[39m))\n",
      "\u001b[1;31mNameError\u001b[0m: name 'y_test' is not defined"
     ]
    }
   ],
   "source": [
    "#DataFlair - Calculate the accuracy of our model\n",
    "accuracy=accuracy_score(y_true=y_test, y_pred=y_pred)\n",
    "\n",
    "#DataFlair - Print the accuracy\n",
    "print(\"Accuracy: {:.2f}%\".format(accuracy*100))"
   ]
  }
 ],
 "metadata": {
  "colab": {
   "authorship_tag": "ABX9TyPbo2xsYbER+LSuntgS1pML",
   "provenance": []
  },
  "kernelspec": {
   "display_name": "Python 3 (ipykernel)",
   "language": "python",
   "name": "python3"
  },
  "language_info": {
   "codemirror_mode": {
    "name": "ipython",
    "version": 3
   },
   "file_extension": ".py",
   "mimetype": "text/x-python",
   "name": "python",
   "nbconvert_exporter": "python",
   "pygments_lexer": "ipython3",
   "version": "3.10.2"
  }
 },
 "nbformat": 4,
 "nbformat_minor": 1
}
