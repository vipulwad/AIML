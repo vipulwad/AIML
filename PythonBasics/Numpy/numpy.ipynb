{
 "cells": [
  {
   "cell_type": "markdown",
   "metadata": {
    "id": "fqAtsB2XbV-O"
   },
   "source": [
    "# Introduction\n",
    "* NumPy stands for ‘Numeric Python’\n",
    "* Used for mathematical and scientific computations\n",
    "* Also provides ‘linalg’ module which contains functions of linear algebra like determinants, eigenvalue decomposition , norm to apply linear algebra on NumPy arrays\n",
    "* documentation can be found here https://numpy.org/doc/stable/user/absolute_beginners.html"
   ]
  },
  {
   "cell_type": "markdown",
   "metadata": {
    "id": "DygxRT4Db-ti"
   },
   "source": [
    "## Installation\n",
    "\n",
    "```\n",
    "pip install numpy\n",
    "```"
   ]
  },
  {
   "cell_type": "markdown",
   "metadata": {
    "id": "tY1Yq2DwcH4g"
   },
   "source": [
    "## How to import NumPy"
   ]
  },
  {
   "cell_type": "code",
   "execution_count": 1,
   "metadata": {
    "id": "A4cVolqfbRS9"
   },
   "outputs": [
    {
     "name": "stdout",
     "output_type": "stream",
     "text": [
      "\n",
      "NumPy\n",
      "=====\n",
      "\n",
      "Provides\n",
      "  1. An array object of arbitrary homogeneous items\n",
      "  2. Fast mathematical operations over arrays\n",
      "  3. Linear Algebra, Fourier Transforms, Random Number Generation\n",
      "\n",
      "How to use the documentation\n",
      "----------------------------\n",
      "Documentation is available in two forms: docstrings provided\n",
      "with the code, and a loose standing reference guide, available from\n",
      "`the NumPy homepage <https://www.scipy.org>`_.\n",
      "\n",
      "We recommend exploring the docstrings using\n",
      "`IPython <https://ipython.org>`_, an advanced Python shell with\n",
      "TAB-completion and introspection capabilities.  See below for further\n",
      "instructions.\n",
      "\n",
      "The docstring examples assume that `numpy` has been imported as `np`::\n",
      "\n",
      "  >>> import numpy as np\n",
      "\n",
      "Code snippets are indicated by three greater-than signs::\n",
      "\n",
      "  >>> x = 42\n",
      "  >>> x = x + 1\n",
      "\n",
      "Use the built-in ``help`` function to view a function's docstring::\n",
      "\n",
      "  >>> help(np.sort)\n",
      "  ... # doctest: +SKIP\n",
      "\n",
      "For some objects, ``np.info(obj)`` may provide additional help.  This is\n",
      "particularly true if you see the line \"Help on ufunc object:\" at the top\n",
      "of the help() page.  Ufuncs are implemented in C, not Python, for speed.\n",
      "The native Python help() does not know how to view their help, but our\n",
      "np.info() function does.\n",
      "\n",
      "To search for documents containing a keyword, do::\n",
      "\n",
      "  >>> np.lookfor('keyword')\n",
      "  ... # doctest: +SKIP\n",
      "\n",
      "General-purpose documents like a glossary and help on the basic concepts\n",
      "of numpy are available under the ``doc`` sub-module::\n",
      "\n",
      "  >>> from numpy import doc\n",
      "  >>> help(doc)\n",
      "  ... # doctest: +SKIP\n",
      "\n",
      "Available subpackages\n",
      "---------------------\n",
      "doc\n",
      "    Topical documentation on broadcasting, indexing, etc.\n",
      "lib\n",
      "    Basic functions used by several sub-packages.\n",
      "random\n",
      "    Core Random Tools\n",
      "linalg\n",
      "    Core Linear Algebra Tools\n",
      "fft\n",
      "    Core FFT routines\n",
      "polynomial\n",
      "    Polynomial tools\n",
      "testing\n",
      "    NumPy testing tools\n",
      "f2py\n",
      "    Fortran to Python Interface Generator.\n",
      "distutils\n",
      "    Enhancements to distutils with support for\n",
      "    Fortran compilers support and more.\n",
      "\n",
      "Utilities\n",
      "---------\n",
      "test\n",
      "    Run numpy unittests\n",
      "show_config\n",
      "    Show numpy build configuration\n",
      "dual\n",
      "    Overwrite certain functions with high-performance SciPy tools.\n",
      "    Note: `numpy.dual` is deprecated.  Use the functions from NumPy or Scipy\n",
      "    directly instead of importing them from `numpy.dual`.\n",
      "matlib\n",
      "    Make everything matrices.\n",
      "__version__\n",
      "    NumPy version string\n",
      "\n",
      "Viewing documentation using IPython\n",
      "-----------------------------------\n",
      "Start IPython with the NumPy profile (``ipython -p numpy``), which will\n",
      "import `numpy` under the alias `np`.  Then, use the ``cpaste`` command to\n",
      "paste examples into the shell.  To see which functions are available in\n",
      "`numpy`, type ``np.<TAB>`` (where ``<TAB>`` refers to the TAB key), or use\n",
      "``np.*cos*?<ENTER>`` (where ``<ENTER>`` refers to the ENTER key) to narrow\n",
      "down the list.  To view the docstring for a function, use\n",
      "``np.cos?<ENTER>`` (to view the docstring) and ``np.cos??<ENTER>`` (to view\n",
      "the source code).\n",
      "\n",
      "Copies vs. in-place operation\n",
      "-----------------------------\n",
      "Most of the functions in `numpy` return a copy of the array argument\n",
      "(e.g., `np.sort`).  In-place versions of these functions are often\n",
      "available as array methods, i.e. ``x = np.array([1,2,3]); x.sort()``.\n",
      "Exceptions to this rule are documented.\n",
      "\n",
      "\n"
     ]
    }
   ],
   "source": [
    "import numpy as np\n",
    "print(np.__doc__)\n"
   ]
  },
  {
   "cell_type": "code",
   "execution_count": 2,
   "metadata": {
    "id": "bFqP7lAhcRh8"
   },
   "outputs": [
    {
     "name": "stdout",
     "output_type": "stream",
     "text": [
      "1.21.5\n"
     ]
    }
   ],
   "source": [
    "# check current version of numpy\n",
    "print(np.__version__)"
   ]
  },
  {
   "cell_type": "markdown",
   "metadata": {
    "id": "GZhvDTVLc-Oh"
   },
   "source": [
    "## Numpy array"
   ]
  },
  {
   "cell_type": "code",
   "execution_count": 3,
   "metadata": {
    "id": "9TuRn1Z1dBME"
   },
   "outputs": [
    {
     "name": "stdout",
     "output_type": "stream",
     "text": [
      "<class 'numpy.ndarray'>\n"
     ]
    }
   ],
   "source": [
    "data=np.array(2)\n",
    "print(type(data))"
   ]
  },
  {
   "cell_type": "markdown",
   "metadata": {
    "id": "enpS7OUwdsp8"
   },
   "source": [
    "## numpy vs list\n",
    "* While a Python list can contain different data types within a single list, all of the elements in a NumPy array should be homogeneous. \n",
    "* NumPy arrays are faster and more compact than Python lists.\n",
    "* computation is much faster with numpy then list"
   ]
  },
  {
   "cell_type": "code",
   "execution_count": 4,
   "metadata": {
    "id": "RQgZg16TfWX6"
   },
   "outputs": [],
   "source": [
    "# importing required packages\n",
    "import numpy\n",
    "import time\n",
    "\n",
    "# size of arrays and lists\n",
    "size = 100000000\n",
    "\n",
    "# declaring lists\n",
    "list1 = range(size)\n",
    "list2 = range(size)\n"
   ]
  },
  {
   "cell_type": "code",
   "execution_count": 5,
   "metadata": {},
   "outputs": [
    {
     "name": "stdout",
     "output_type": "stream",
     "text": [
      "Time taken by Lists to perform multiplication: 32.38057208061218 seconds\n",
      "Time taken by NumPy Arrays to perform multiplication: 0.8759458065032959 seconds\n"
     ]
    }
   ],
   "source": [
    "\n",
    "# declaring arrays\n",
    "array1 = numpy.random.randint(0,size,size)\n",
    "array2 = numpy.arange(size)\n",
    "\n",
    "# capturing time before the multiplication of Python lists\n",
    "initialTime = time.time()\n",
    "\n",
    "# multiplying elements of both the lists and stored in another list\n",
    "resultantList = [(a * b) for a, b in zip(list1, list2)]\n",
    "\n",
    "# calculating execution time\n",
    "print(\"Time taken by Lists to perform multiplication:\",\n",
    "\t(time.time() - initialTime),\n",
    "\t\"seconds\")\n",
    "\n",
    "# capturing time before the multiplication of Numpy arrays\n",
    "initialTime = time.time()\n",
    "\n",
    "# multiplying elements of both the Numpy arrays and stored in another Numpy array\n",
    "resultantArray = array1 * array2\n",
    "\n",
    "# calculating execution time\n",
    "print(\"Time taken by NumPy Arrays to perform multiplication:\",\n",
    "\t(time.time() - initialTime),\n",
    "\t\"seconds\")\n"
   ]
  },
  {
   "cell_type": "markdown",
   "metadata": {
    "id": "XaXSyWmahhm2"
   },
   "source": [
    "## Converting a list into NumPy array"
   ]
  },
  {
   "cell_type": "code",
   "execution_count": 5,
   "metadata": {
    "id": "MVkzmyJSgRbf"
   },
   "outputs": [
    {
     "name": "stdout",
     "output_type": "stream",
     "text": [
      "list1  [1, 2, 3, 4, 5, 6]\n",
      "numpy array  [1 2 3 4 5 6]\n"
     ]
    }
   ],
   "source": [
    "# numpy array with numbers\n",
    "list1=[1, 2, 3, 4, 5, 6]\n",
    "a = np.array(list1)\n",
    "\n",
    "print('list1 ', list1)\n",
    "print('numpy array ', a)"
   ]
  },
  {
   "cell_type": "code",
   "execution_count": 6,
   "metadata": {
    "id": "usQcAVXsheY2"
   },
   "outputs": [
    {
     "name": "stdout",
     "output_type": "stream",
     "text": [
      "list1  ['A', 'B', 'C']\n",
      "numpy array  ['A' 'B' 'C']\n"
     ]
    }
   ],
   "source": [
    "# numpy array with strings\n",
    "list1=['A', 'B', 'C']\n",
    "a = np.array(list1)\n",
    "\n",
    "print('list1 ', list1)\n",
    "print('numpy array ', a)"
   ]
  },
  {
   "cell_type": "markdown",
   "metadata": {
    "id": "HSBcIiitD76z"
   },
   "source": [
    "### NOTE: NumPy does not allow heterogeneous data "
   ]
  },
  {
   "cell_type": "code",
   "execution_count": 7,
   "metadata": {
    "id": "P80JL3WQiqSM"
   },
   "outputs": [
    {
     "name": "stdout",
     "output_type": "stream",
     "text": [
      "list1  ['A', 'B', 'C', 1, 34.6]\n",
      "numpy array  ['A' 'B' 'C' '1' '34.6']\n"
     ]
    }
   ],
   "source": [
    "# numpy array with strings and numbers\n",
    "list1=['A', 'B', 'C', 1, 34.6]\n",
    "a = np.array(list1)\n",
    "\n",
    "print('list1 ', list1)\n",
    "print('numpy array ', a)"
   ]
  },
  {
   "cell_type": "markdown",
   "metadata": {
    "id": "POap7OgSjVjP"
   },
   "source": [
    "## 2-D NumPy array creation"
   ]
  },
  {
   "cell_type": "code",
   "execution_count": 8,
   "metadata": {
    "id": "4iQ4YJ9rjY0F"
   },
   "outputs": [],
   "source": [
    "a = np.array([[1, 2, 3], \n",
    "              [4, 5, 6]])\n"
   ]
  },
  {
   "cell_type": "markdown",
   "metadata": {
    "id": "IHYtIpCWjofa"
   },
   "source": [
    "## 3-D NumPy array creation"
   ]
  },
  {
   "cell_type": "code",
   "execution_count": 9,
   "metadata": {
    "id": "ibYNw4ecjjqW"
   },
   "outputs": [],
   "source": [
    "a = np.array([[[1, 2], \n",
    "               [3, 4]], \n",
    "              [[5, 6], \n",
    "               [7, 8]]])\n",
    "\n",
    "\n"
   ]
  },
  {
   "cell_type": "markdown",
   "metadata": {
    "id": "XYdjM02JlUMz"
   },
   "source": [
    "## NumPy Zero array"
   ]
  },
  {
   "cell_type": "code",
   "execution_count": 10,
   "metadata": {
    "id": "hXtIB_w2lYhC"
   },
   "outputs": [
    {
     "name": "stdout",
     "output_type": "stream",
     "text": [
      "[0. 0. 0. 0.]\n"
     ]
    }
   ],
   "source": [
    "zeros=np.zeros(4)\n",
    "print(zeros)"
   ]
  },
  {
   "cell_type": "markdown",
   "metadata": {
    "id": "RNUGM7v6mRnH"
   },
   "source": [
    "##  NumPy array filled with 1 "
   ]
  },
  {
   "cell_type": "code",
   "execution_count": 11,
   "metadata": {
    "id": "2_6D-OKamQ4A"
   },
   "outputs": [
    {
     "name": "stdout",
     "output_type": "stream",
     "text": [
      "[1. 1. 1. 1.]\n"
     ]
    }
   ],
   "source": [
    "ones=np.ones(4)\n",
    "print(ones)"
   ]
  },
  {
   "cell_type": "markdown",
   "metadata": {
    "id": "k2J_LE7ekk9L"
   },
   "source": [
    "## NumPy array of Random Numbers"
   ]
  },
  {
   "cell_type": "markdown",
   "metadata": {
    "id": "Qmtd-yQWlu1x"
   },
   "source": [
    "### Using random()"
   ]
  },
  {
   "cell_type": "code",
   "execution_count": 12,
   "metadata": {
    "id": "r3GPphJej8sv"
   },
   "outputs": [
    {
     "name": "stdout",
     "output_type": "stream",
     "text": [
      "[0.29974023 0.77615887 0.26439837 0.38686116 0.46176076 0.58161907\n",
      " 0.04779438 0.30530042 0.06609942 0.55319976 0.07842803 0.7179427\n",
      " 0.75432041 0.2010009  0.13968984 0.27873838 0.78334661 0.62186375\n",
      " 0.22828174 0.10850132]\n",
      "(20,)\n"
     ]
    }
   ],
   "source": [
    "# 1-d array \n",
    "data=np.random.random(20)\n",
    "print(data)\n",
    "print(data.shape)\n"
   ]
  },
  {
   "cell_type": "code",
   "execution_count": 13,
   "metadata": {
    "id": "hkYQarQRkqZ2"
   },
   "outputs": [
    {
     "name": "stdout",
     "output_type": "stream",
     "text": [
      "[[0.6981457  0.27244996 0.04099498]\n",
      " [0.8851124  0.16574595 0.57710652]]\n",
      "(2, 3)\n"
     ]
    }
   ],
   "source": [
    "# 2-d array \n",
    "data=np.random.random((2,3))\n",
    "print(data)\n",
    "print(data.shape)"
   ]
  },
  {
   "cell_type": "markdown",
   "metadata": {
    "id": "7U-HqiSTlx47"
   },
   "source": [
    "### Using rand()"
   ]
  },
  {
   "cell_type": "code",
   "execution_count": 14,
   "metadata": {
    "id": "9JH9o0hQk9yg"
   },
   "outputs": [
    {
     "name": "stdout",
     "output_type": "stream",
     "text": [
      "[[0.07830118 0.89989715 0.26222623]\n",
      " [0.07105358 0.85511114 0.81493652]]\n",
      "(2, 3)\n"
     ]
    }
   ],
   "source": [
    "# 2-d array \n",
    "data=np.random.rand(2,3)\n",
    "print(data)\n",
    "print(data.shape)"
   ]
  },
  {
   "cell_type": "markdown",
   "metadata": {
    "id": "uGam_mU4pJS9"
   },
   "source": [
    "### Using randn()"
   ]
  },
  {
   "cell_type": "code",
   "execution_count": 15,
   "metadata": {
    "id": "drzfJ7lwpI1q"
   },
   "outputs": [
    {
     "name": "stdout",
     "output_type": "stream",
     "text": [
      "[[ 0.42609025 -0.22757044  0.83917607]\n",
      " [-0.77493664 -0.01930689  0.30015   ]]\n",
      "(2, 3)\n"
     ]
    }
   ],
   "source": [
    "data=np.random.randn(2,3)\n",
    "print(data)\n",
    "print(data.shape)"
   ]
  },
  {
   "cell_type": "markdown",
   "metadata": {
    "id": "aQAlRd0Nl-0t"
   },
   "source": [
    "### NOTE\n",
    "* Both random() and rand() functions generate samples from the uniform distribution on [0, 1).\n",
    "* randn() generates samples from normal distribution."
   ]
  },
  {
   "cell_type": "markdown",
   "metadata": {
    "id": "A1F_ZXE4qJ9E"
   },
   "source": [
    "### randint(a,b,c) for random integer generation\n",
    "* a - lower bound\n",
    "* b - upper bound\n",
    "* c - number of elements"
   ]
  },
  {
   "cell_type": "code",
   "execution_count": 16,
   "metadata": {
    "id": "zgMMPGmnqflm"
   },
   "outputs": [
    {
     "name": "stdout",
     "output_type": "stream",
     "text": [
      "[18  6  6  4  8]\n",
      "(5,)\n"
     ]
    }
   ],
   "source": [
    "data=np.random.randint(1,20, 5)\n",
    "print(data)\n",
    "print(data.shape)"
   ]
  },
  {
   "cell_type": "code",
   "execution_count": 17,
   "metadata": {
    "id": "HmrEpLG2qj1F"
   },
   "outputs": [
    {
     "name": "stdout",
     "output_type": "stream",
     "text": [
      "[[12 12  4]\n",
      " [19  3 13]]\n",
      "(2, 3)\n"
     ]
    }
   ],
   "source": [
    "# 2-D random integer generation\n",
    "data=np.random.randint(1,20, (2,3))\n",
    "print(data)\n",
    "print(data.shape)"
   ]
  },
  {
   "cell_type": "markdown",
   "metadata": {
    "id": "OB6uZpbTm2gs"
   },
   "source": [
    "## Exercise 1\n",
    "\n",
    "* Create a numpy array filled with zeros of dimention [4,5]\n",
    "* Create a numpy array filled with 1's of dimention [3,6]\n",
    "* Create a numpy array filled with random float values of dimention [2,10]\n",
    "* Create a numpy array filled with random integer values of dimention [6,3] in the range of (230,500)"
   ]
  },
  {
   "cell_type": "code",
   "execution_count": 18,
   "metadata": {
    "id": "bDHj4Nj1qtsN"
   },
   "outputs": [
    {
     "name": "stdout",
     "output_type": "stream",
     "text": [
      "[[[0. 0. 0.]\n",
      "  [0. 0. 0.]\n",
      "  [0. 0. 0.]\n",
      "  [0. 0. 0.]\n",
      "  [0. 0. 0.]]\n",
      "\n",
      " [[0. 0. 0.]\n",
      "  [0. 0. 0.]\n",
      "  [0. 0. 0.]\n",
      "  [0. 0. 0.]\n",
      "  [0. 0. 0.]]\n",
      "\n",
      " [[0. 0. 0.]\n",
      "  [0. 0. 0.]\n",
      "  [0. 0. 0.]\n",
      "  [0. 0. 0.]\n",
      "  [0. 0. 0.]]\n",
      "\n",
      " [[0. 0. 0.]\n",
      "  [0. 0. 0.]\n",
      "  [0. 0. 0.]\n",
      "  [0. 0. 0.]\n",
      "  [0. 0. 0.]]]\n"
     ]
    }
   ],
   "source": [
    "zeros=np.zeros([4,5,3])\n",
    "print(zeros)"
   ]
  },
  {
   "cell_type": "code",
   "execution_count": 19,
   "metadata": {},
   "outputs": [
    {
     "name": "stdout",
     "output_type": "stream",
     "text": [
      "[[[1. 1.]\n",
      "  [1. 1.]\n",
      "  [1. 1.]\n",
      "  [1. 1.]\n",
      "  [1. 1.]\n",
      "  [1. 1.]]\n",
      "\n",
      " [[1. 1.]\n",
      "  [1. 1.]\n",
      "  [1. 1.]\n",
      "  [1. 1.]\n",
      "  [1. 1.]\n",
      "  [1. 1.]]\n",
      "\n",
      " [[1. 1.]\n",
      "  [1. 1.]\n",
      "  [1. 1.]\n",
      "  [1. 1.]\n",
      "  [1. 1.]\n",
      "  [1. 1.]]]\n"
     ]
    }
   ],
   "source": [
    "ones=np.ones([3,6,2])\n",
    "print(ones)"
   ]
  },
  {
   "cell_type": "code",
   "execution_count": 20,
   "metadata": {},
   "outputs": [
    {
     "name": "stdout",
     "output_type": "stream",
     "text": [
      "[[0.26310319 0.29316293 0.50520586 0.87423485 0.8039984  0.53101541\n",
      "  0.02621914 0.45217528 0.02484058 0.16224925]\n",
      " [0.27410928 0.81525009 0.0451893  0.73312012 0.4672718  0.07311242\n",
      "  0.52722121 0.23081577 0.12110747 0.5046109 ]]\n",
      "(2, 10)\n"
     ]
    }
   ],
   "source": [
    "\n",
    "data=np.random.random((2,10))\n",
    "print(data)\n",
    "print(data.shape)"
   ]
  },
  {
   "cell_type": "code",
   "execution_count": 21,
   "metadata": {},
   "outputs": [
    {
     "name": "stdout",
     "output_type": "stream",
     "text": [
      "[[270 301 347]\n",
      " [463 414 403]\n",
      " [346 462 462]\n",
      " [299 435 324]\n",
      " [234 360 290]\n",
      " [494 460 451]]\n"
     ]
    }
   ],
   "source": [
    "data=np.random.randint(230,500, (6,3))\n",
    "print(data)"
   ]
  },
  {
   "cell_type": "markdown",
   "metadata": {
    "id": "_YECR79uxmxl"
   },
   "source": [
    "## Creating numpy array using arange()\n",
    "* It creates an instance of ndarray with evenly spaced values.\n",
    "```\n",
    "numpy.arange   (start,    stop,   step,    dtype)\n",
    "```\n",
    "* start : The start of the interval (optional). Default is 0\n",
    "* stop : The end of the interval\n",
    "* step : The “step” between values (optional)\n",
    "* dtype : The data type (optional)"
   ]
  },
  {
   "cell_type": "code",
   "execution_count": 22,
   "metadata": {
    "id": "2gDbixLByNeH"
   },
   "outputs": [
    {
     "name": "stdout",
     "output_type": "stream",
     "text": [
      "[1 2 3 4 5 6 7 8 9]\n",
      "[ 1  4  7 10 13]\n"
     ]
    }
   ],
   "source": [
    "print(np.arange(1,10))\n",
    "print(np.arange(1,15, 3))"
   ]
  },
  {
   "cell_type": "markdown",
   "metadata": {
    "id": "aUaJqJZhHcrW"
   },
   "source": [
    "## Creating numpy array using linspace()\n",
    "* linspace() generates a specified number of values in a specified range\n",
    "```\n",
    "numpy.linspace (  start,    stop ,   num,    dtype  )\n",
    "```"
   ]
  },
  {
   "cell_type": "code",
   "execution_count": 23,
   "metadata": {
    "id": "c4N_JTrFySJ2"
   },
   "outputs": [
    {
     "data": {
      "text/plain": [
       "array([1, 1, 2, 2, 3, 3, 4, 4, 5, 6])"
      ]
     },
     "execution_count": 23,
     "metadata": {},
     "output_type": "execute_result"
    }
   ],
   "source": [
    "np.linspace(1,6, 10, dtype =int)"
   ]
  },
  {
   "cell_type": "markdown",
   "metadata": {
    "id": "eZyUTmxqI_EA"
   },
   "source": [
    "## Creatting a matrix filled with same value\n",
    "```\n",
    "numpy.full(dim, fill_value=<value>)\n",
    "```"
   ]
  },
  {
   "cell_type": "code",
   "execution_count": 24,
   "metadata": {
    "id": "nJKVicmJJPYn"
   },
   "outputs": [
    {
     "data": {
      "text/plain": [
       "array([[5, 5, 5],\n",
       "       [5, 5, 5],\n",
       "       [5, 5, 5]])"
      ]
     },
     "execution_count": 24,
     "metadata": {},
     "output_type": "execute_result"
    }
   ],
   "source": [
    "np.full((3,3), fill_value=5)"
   ]
  },
  {
   "cell_type": "markdown",
   "metadata": {
    "id": "GzX76fyoJbkI"
   },
   "source": [
    "## Create identity matrix \n",
    "```\n",
    "numpy.identity(dim)\n",
    "```"
   ]
  },
  {
   "cell_type": "code",
   "execution_count": 25,
   "metadata": {
    "id": "HdMx4PQLJUd1"
   },
   "outputs": [
    {
     "data": {
      "text/plain": [
       "array([[1., 0., 0., 0.],\n",
       "       [0., 1., 0., 0.],\n",
       "       [0., 0., 1., 0.],\n",
       "       [0., 0., 0., 1.]])"
      ]
     },
     "execution_count": 25,
     "metadata": {},
     "output_type": "execute_result"
    }
   ],
   "source": [
    "np.identity(4)"
   ]
  },
  {
   "cell_type": "markdown",
   "metadata": {
    "id": "xERMl3aDJv_I"
   },
   "source": [
    "## Exercise 2\n",
    "\n",
    "* create a numpy array with 26 equally spaced values in the range 1 - 100\n",
    "* create a numpy array with values in the range 50 - 150, with 3 spaced apart\n",
    "* Create a  $5 × 5$ matrix of number 27 \n",
    "* Create identity matrix of $3 × 4$"
   ]
  },
  {
   "cell_type": "code",
   "execution_count": 26,
   "metadata": {
    "id": "rGEtCxMkBn8S"
   },
   "outputs": [
    {
     "name": "stdout",
     "output_type": "stream",
     "text": [
      "[  1.     4.96   8.92  12.88  16.84  20.8   24.76  28.72  32.68  36.64\n",
      "  40.6   44.56  48.52  52.48  56.44  60.4   64.36  68.32  72.28  76.24\n",
      "  80.2   84.16  88.12  92.08  96.04 100.  ]\n",
      "(26,)\n",
      "--------------------------\n",
      "[ 50  53  56  59  62  65  68  71  74  77  80  83  86  89  92  95  98 101\n",
      " 104 107 110 113 116 119 122 125 128 131 134 137 140 143 146 149]\n",
      "(34,)\n",
      "--------------------------\n",
      "[[27 27 27 27 27]\n",
      " [27 27 27 27 27]\n",
      " [27 27 27 27 27]\n",
      " [27 27 27 27 27]\n",
      " [27 27 27 27 27]]\n",
      "(5, 5)\n",
      "--------------------------\n",
      "--------------------------\n"
     ]
    }
   ],
   "source": [
    "data1 = np.linspace(1,100, 26)\n",
    "data2 = np.arange(50,150,3)\n",
    "data3 = np.full((5,5), fill_value=27)\n",
    "#data4 = np.identity((3,3))\n",
    "\n",
    "print(data1)\n",
    "print(data1.shape)\n",
    "print('--------------------------')\n",
    "print(data2)\n",
    "print(data2.shape)\n",
    "print('--------------------------')\n",
    "print(data3)\n",
    "print(data3.shape)\n",
    "print('--------------------------')\n",
    "#print(data4)\n",
    "print('--------------------------')"
   ]
  },
  {
   "cell_type": "markdown",
   "metadata": {
    "id": "xSQDSAPnKuX5"
   },
   "source": [
    "## numpy.eye() function\n",
    "creates NxM matrix with value ‘1’ on the k-th diagonal and remaining entries as zero.\n",
    "```\n",
    "numpy.eye(N=4,M=5, k=-2)\n",
    "\n",
    "```\n",
    "* K = 0 represents main \n",
    "* K > 0 represents upper diagonal\n",
    "* K < 0 represents lower diagonal"
   ]
  },
  {
   "cell_type": "code",
   "execution_count": 27,
   "metadata": {
    "id": "Kiu-NA4pJyDU"
   },
   "outputs": [
    {
     "name": "stdout",
     "output_type": "stream",
     "text": [
      "[[1. 0. 0. 0.]\n",
      " [0. 1. 0. 0.]\n",
      " [0. 0. 1. 0.]]\n"
     ]
    }
   ],
   "source": [
    "print(np.eye(3,4,0))"
   ]
  },
  {
   "cell_type": "code",
   "execution_count": 28,
   "metadata": {
    "id": "J-Ay1dt7LVBt"
   },
   "outputs": [
    {
     "name": "stdout",
     "output_type": "stream",
     "text": [
      "[[0. 0. 0. 0.]\n",
      " [1. 0. 0. 0.]\n",
      " [0. 1. 0. 0.]]\n"
     ]
    }
   ],
   "source": [
    "print(np.eye(3,4,-1))"
   ]
  },
  {
   "cell_type": "code",
   "execution_count": 29,
   "metadata": {
    "id": "3-XlzJUcLfu5"
   },
   "outputs": [
    {
     "name": "stdout",
     "output_type": "stream",
     "text": [
      "[[0. 1. 0. 0.]\n",
      " [0. 0. 1. 0.]\n",
      " [0. 0. 0. 1.]]\n"
     ]
    }
   ],
   "source": [
    "\n",
    "print(np.eye(3,4,1))"
   ]
  },
  {
   "cell_type": "markdown",
   "metadata": {
    "id": "UZYN5NsNFKvF"
   },
   "source": [
    "## NumPy empty array\n",
    "* empty() create array filled with garbage value.\n",
    "* empty(), unlike zeros(), does not set the array values to zero, and may therefore be marginally faster. On the other hand, it requires the user to manually set all the values in the array, and should be used with caution.\n",
    "```\n",
    "numpy.empty((n,m), dtype=<datatype>)\n",
    "```"
   ]
  },
  {
   "cell_type": "code",
   "execution_count": 30,
   "metadata": {
    "id": "9lX7ugCTFgwA"
   },
   "outputs": [
    {
     "data": {
      "text/plain": [
       "array([     256,    65536, 16777216])"
      ]
     },
     "execution_count": 30,
     "metadata": {},
     "output_type": "execute_result"
    }
   ],
   "source": [
    "# empty array creation\n",
    "np.empty(3, dtype=int)"
   ]
  },
  {
   "cell_type": "code",
   "execution_count": 31,
   "metadata": {
    "id": "MBJkXJp-LgJD"
   },
   "outputs": [
    {
     "data": {
      "text/plain": [
       "array([[  235079898,  1071334672,   982291066, -1077075705],\n",
       "       [ -980900230,  1072355975,  -314004605, -1075262393],\n",
       "       [-1749367069, -1080834769,  1402418076,  1070806440]])"
      ]
     },
     "execution_count": 31,
     "metadata": {},
     "output_type": "execute_result"
    }
   ],
   "source": [
    "# emapty matrix creation\n",
    "np.empty((3,4), dtype=int)"
   ]
  }
 ],
 "metadata": {
  "colab": {
   "authorship_tag": "ABX9TyO6RHKgox+NE8Wi1l6Kyfd1",
   "collapsed_sections": [
    "tY1Yq2DwcH4g",
    "GZhvDTVLc-Oh",
    "enpS7OUwdsp8",
    "XaXSyWmahhm2",
    "POap7OgSjVjP",
    "IHYtIpCWjofa",
    "XYdjM02JlUMz",
    "RNUGM7v6mRnH",
    "k2J_LE7ekk9L",
    "OB6uZpbTm2gs",
    "_YECR79uxmxl",
    "aUaJqJZhHcrW",
    "eZyUTmxqI_EA",
    "GzX76fyoJbkI",
    "xERMl3aDJv_I",
    "xSQDSAPnKuX5",
    "UZYN5NsNFKvF"
   ],
   "provenance": []
  },
  "kernelspec": {
   "display_name": "Python 3 (ipykernel)",
   "language": "python",
   "name": "python3"
  },
  "language_info": {
   "codemirror_mode": {
    "name": "ipython",
    "version": 3
   },
   "file_extension": ".py",
   "mimetype": "text/x-python",
   "name": "python",
   "nbconvert_exporter": "python",
   "pygments_lexer": "ipython3",
   "version": "3.9.13"
  }
 },
 "nbformat": 4,
 "nbformat_minor": 1
}
