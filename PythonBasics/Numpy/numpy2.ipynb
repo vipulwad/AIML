{
 "cells": [
  {
   "cell_type": "code",
   "execution_count": null,
   "metadata": {},
   "outputs": [],
   "source": []
  },
  {
   "cell_type": "markdown",
   "metadata": {
    "id": "mU4b3JbUB2Jl"
   },
   "source": [
    "# NumPy Attributes\n",
    "* Attributes are the features/characteristics of an object that describes the object\n",
    "* Attributes do not have parentheses following them"
   ]
  },
  {
   "cell_type": "markdown",
   "metadata": {
    "id": "2sFrzO9GCCnf"
   },
   "source": [
    "## Shape\n",
    "The shape returns the number of rows and columns of the array respectively"
   ]
  },
  {
   "cell_type": "code",
   "execution_count": 1,
   "metadata": {
    "executionInfo": {
     "elapsed": 418,
     "status": "ok",
     "timestamp": 1677318613732,
     "user": {
      "displayName": "Pankaj Choudhury",
      "userId": "11381187948817891789"
     },
     "user_tz": -330
    },
    "id": "GHEC_H-_CSgc"
   },
   "outputs": [],
   "source": [
    "import numpy as np"
   ]
  },
  {
   "cell_type": "code",
   "execution_count": 2,
   "metadata": {
    "colab": {
     "base_uri": "https://localhost:8080/"
    },
    "executionInfo": {
     "elapsed": 25,
     "status": "ok",
     "timestamp": 1677308708376,
     "user": {
      "displayName": "Pankaj Choudhury",
      "userId": "11381187948817891789"
     },
     "user_tz": -330
    },
    "id": "NiNz7MLyCCLC",
    "outputId": "37cde606-dc97-4661-c630-3bdc8ab4471b"
   },
   "outputs": [
    {
     "data": {
      "text/plain": [
       "(2, 3)"
      ]
     },
     "execution_count": 2,
     "metadata": {},
     "output_type": "execute_result"
    }
   ],
   "source": [
    "a = np.array([[1, 2, 3], \n",
    "              [4, 5, 6]])\n",
    "a.shape"
   ]
  },
  {
   "cell_type": "markdown",
   "metadata": {
    "id": "rnUcM8xeCN5E"
   },
   "source": [
    "## Size\n",
    "The size returns the number of elements in an array"
   ]
  },
  {
   "cell_type": "code",
   "execution_count": 3,
   "metadata": {
    "colab": {
     "base_uri": "https://localhost:8080/"
    },
    "executionInfo": {
     "elapsed": 22,
     "status": "ok",
     "timestamp": 1677308708377,
     "user": {
      "displayName": "Pankaj Choudhury",
      "userId": "11381187948817891789"
     },
     "user_tz": -330
    },
    "id": "GQDL-WbeBy89",
    "outputId": "4e564025-68ba-4916-dc41-883fc33af8da"
   },
   "outputs": [
    {
     "data": {
      "text/plain": [
       "6"
      ]
     },
     "execution_count": 3,
     "metadata": {},
     "output_type": "execute_result"
    }
   ],
   "source": [
    "a = np.array([[1, 2, 3], \n",
    "              [4, 5, 6]])\n",
    "a.size"
   ]
  },
  {
   "cell_type": "markdown",
   "metadata": {
    "id": "30_vf-ZACyzB"
   },
   "source": [
    "## dtype\n",
    "The dtype returns the type of the data along with the size in bytes"
   ]
  },
  {
   "cell_type": "code",
   "execution_count": 4,
   "metadata": {
    "colab": {
     "base_uri": "https://localhost:8080/"
    },
    "executionInfo": {
     "elapsed": 20,
     "status": "ok",
     "timestamp": 1677308708377,
     "user": {
      "displayName": "Pankaj Choudhury",
      "userId": "11381187948817891789"
     },
     "user_tz": -330
    },
    "id": "-VNKp2y8CX4f",
    "outputId": "e4942f7b-4687-432e-deab-4dfd61d589cc"
   },
   "outputs": [
    {
     "data": {
      "text/plain": [
       "dtype('int32')"
      ]
     },
     "execution_count": 4,
     "metadata": {},
     "output_type": "execute_result"
    }
   ],
   "source": [
    "a = np.array([[1, 2, 3], \n",
    "              [4, 5, 6]])\n",
    "a.dtype"
   ]
  },
  {
   "cell_type": "markdown",
   "metadata": {
    "id": "XgIHh5AJDC6l"
   },
   "source": [
    "## ndim\n",
    "The ndim returns the number of axes (dimension) of the array"
   ]
  },
  {
   "cell_type": "code",
   "execution_count": 5,
   "metadata": {
    "colab": {
     "base_uri": "https://localhost:8080/"
    },
    "executionInfo": {
     "elapsed": 18,
     "status": "ok",
     "timestamp": 1677308708377,
     "user": {
      "displayName": "Pankaj Choudhury",
      "userId": "11381187948817891789"
     },
     "user_tz": -330
    },
    "id": "hMYDnIMdC7WU",
    "outputId": "6f34794d-d891-44d1-a734-d7f7385cb2f9"
   },
   "outputs": [
    {
     "data": {
      "text/plain": [
       "3"
      ]
     },
     "execution_count": 5,
     "metadata": {},
     "output_type": "execute_result"
    }
   ],
   "source": [
    "a = np.array([[[1, 2], \n",
    "               [3, 4]], \n",
    "              [[5, 6], \n",
    "               [7, 8]]])\n",
    "\n",
    "a.ndim"
   ]
  },
  {
   "cell_type": "markdown",
   "metadata": {
    "id": "fcQcMbyVELNC"
   },
   "source": [
    "# NumPy array operations"
   ]
  },
  {
   "cell_type": "markdown",
   "metadata": {
    "id": "sFAqHFUXEqrc"
   },
   "source": [
    "## NumPy Array Copy vs View\n",
    "* The main difference between a copy and a view of an array is that the copy is a new array, and the view is just a view of the original array.\n",
    "\n",
    "* The copy owns the data and any changes made to the copy will not affect original array, and any changes made to the original array will not affect the copy.\n",
    "\n",
    "* The view does not own the data and any changes made to the view will affect the original array, and any changes made to the original array will affect the view.\n",
    "\n"
   ]
  },
  {
   "cell_type": "markdown",
   "metadata": {
    "id": "hGd6oFO8E9v_"
   },
   "source": [
    "### Copy"
   ]
  },
  {
   "cell_type": "code",
   "execution_count": 6,
   "metadata": {
    "colab": {
     "base_uri": "https://localhost:8080/"
    },
    "executionInfo": {
     "elapsed": 17,
     "status": "ok",
     "timestamp": 1677308708378,
     "user": {
      "displayName": "Pankaj Choudhury",
      "userId": "11381187948817891789"
     },
     "user_tz": -330
    },
    "id": "Yck0SBjYE8YI",
    "outputId": "9cd664c3-5d03-48c4-eb2c-e5a388e09af9"
   },
   "outputs": [
    {
     "name": "stdout",
     "output_type": "stream",
     "text": [
      "[42  2  3  4  5]\n",
      "[1 2 3 4 5]\n"
     ]
    }
   ],
   "source": [
    "arr = np.array([1, 2, 3, 4, 5])\n",
    "x = arr.copy()\n",
    "arr[0] = 42\n",
    "\n",
    "print(arr)\n",
    "print(x)"
   ]
  },
  {
   "cell_type": "markdown",
   "metadata": {
    "id": "XjEluMLLFZJC"
   },
   "source": [
    "### View"
   ]
  },
  {
   "cell_type": "code",
   "execution_count": 7,
   "metadata": {
    "colab": {
     "base_uri": "https://localhost:8080/"
    },
    "executionInfo": {
     "elapsed": 16,
     "status": "ok",
     "timestamp": 1677308708378,
     "user": {
      "displayName": "Pankaj Choudhury",
      "userId": "11381187948817891789"
     },
     "user_tz": -330
    },
    "id": "vN3eyG0NFI7s",
    "outputId": "5df33a64-6bd4-4404-ab44-c9efd930c3e6"
   },
   "outputs": [
    {
     "name": "stdout",
     "output_type": "stream",
     "text": [
      "[42  2  3  4  5]\n",
      "[42  2  3  4  5]\n"
     ]
    }
   ],
   "source": [
    "\n",
    "arr = np.array([1, 2, 3, 4, 5])\n",
    "x = arr.view()\n",
    "arr[0] = 42\n",
    "\n",
    "print(arr)\n",
    "print(x)"
   ]
  },
  {
   "cell_type": "code",
   "execution_count": 8,
   "metadata": {
    "colab": {
     "base_uri": "https://localhost:8080/"
    },
    "executionInfo": {
     "elapsed": 15,
     "status": "ok",
     "timestamp": 1677308708378,
     "user": {
      "displayName": "Pankaj Choudhury",
      "userId": "11381187948817891789"
     },
     "user_tz": -330
    },
    "id": "_9KLA_7gFR1x",
    "outputId": "910b81fb-566c-4cb1-852a-d54014293823"
   },
   "outputs": [
    {
     "name": "stdout",
     "output_type": "stream",
     "text": [
      "[31  2  3  4  5]\n",
      "[31  2  3  4  5]\n"
     ]
    }
   ],
   "source": [
    "arr = np.array([1, 2, 3, 4, 5])\n",
    "x = arr.view()\n",
    "x[0] = 31\n",
    "\n",
    "print(arr)\n",
    "print(x)"
   ]
  },
  {
   "cell_type": "markdown",
   "metadata": {
    "id": "nziGxnyjFyKx"
   },
   "source": [
    "### Check who Owns the Data using base\n"
   ]
  },
  {
   "cell_type": "code",
   "execution_count": 9,
   "metadata": {
    "colab": {
     "base_uri": "https://localhost:8080/"
    },
    "executionInfo": {
     "elapsed": 15,
     "status": "ok",
     "timestamp": 1677308708379,
     "user": {
      "displayName": "Pankaj Choudhury",
      "userId": "11381187948817891789"
     },
     "user_tz": -330
    },
    "id": "nwT2ki-tFjFh",
    "outputId": "db91128a-6ed3-4b3b-ca01-2709a3854e0b"
   },
   "outputs": [
    {
     "name": "stdout",
     "output_type": "stream",
     "text": [
      "None\n",
      "[1 2 3 4 5]\n"
     ]
    }
   ],
   "source": [
    "arr = np.array([1, 2, 3, 4, 5])\n",
    "\n",
    "x = arr.copy()\n",
    "y = arr.view()\n",
    "\n",
    "print(x.base)\n",
    "print(y.base)"
   ]
  },
  {
   "cell_type": "markdown",
   "metadata": {
    "id": "xTnJkv7SEXTQ"
   },
   "source": [
    "## reshape\n",
    "* Reshaping means changing the shape of an array.\n",
    "\n",
    "* The shape of an array is the number of elements in each dimension.\n",
    "\n",
    "* By reshaping we can add or remove dimensions or change number of elements in each dimension.\n",
    "\n",
    "* reshape() creates a copy and changes the dimension. "
   ]
  },
  {
   "cell_type": "code",
   "execution_count": 10,
   "metadata": {
    "colab": {
     "base_uri": "https://localhost:8080/"
    },
    "executionInfo": {
     "elapsed": 14,
     "status": "ok",
     "timestamp": 1677308708379,
     "user": {
      "displayName": "Pankaj Choudhury",
      "userId": "11381187948817891789"
     },
     "user_tz": -330
    },
    "id": "0Fe3Pk8sDJ4u",
    "outputId": "4a1505b9-d6bd-4fb0-a3a8-d88d11fb4dc5",
    "scrolled": true
   },
   "outputs": [
    {
     "name": "stdout",
     "output_type": "stream",
     "text": [
      "[[ 1  2  3]\n",
      " [ 4  5  6]\n",
      " [ 7  8  9]\n",
      " [10 11 12]]\n",
      "[ 1  2  3  4  5  6  7  8  9 10 11 12]\n"
     ]
    }
   ],
   "source": [
    "arr = np.array([1, 2, 3, 4, 5, 6, 7, 8, 9, 10, 11, 12])\n",
    "\n",
    "newarr = arr.reshape(4, 3)\n",
    "\n",
    "print(newarr)\n",
    "print(arr)"
   ]
  },
  {
   "cell_type": "code",
   "execution_count": 11,
   "metadata": {
    "colab": {
     "base_uri": "https://localhost:8080/"
    },
    "executionInfo": {
     "elapsed": 14,
     "status": "ok",
     "timestamp": 1677308708380,
     "user": {
      "displayName": "Pankaj Choudhury",
      "userId": "11381187948817891789"
     },
     "user_tz": -330
    },
    "id": "EZ7P3GzyGS5N",
    "outputId": "6ee5329c-a2fd-48c0-dd3b-ed688c8608d9",
    "scrolled": true
   },
   "outputs": [
    {
     "data": {
      "text/plain": [
       "array([[[ 1,  2],\n",
       "        [ 3,  4],\n",
       "        [ 5,  6]],\n",
       "\n",
       "       [[ 7,  8],\n",
       "        [ 9, 10],\n",
       "        [11, 12]]])"
      ]
     },
     "execution_count": 11,
     "metadata": {},
     "output_type": "execute_result"
    }
   ],
   "source": [
    "newarr = arr.reshape(2, 3, 2)\n",
    "newarr"
   ]
  },
  {
   "cell_type": "code",
   "execution_count": 12,
   "metadata": {
    "id": "UtWcxzNbGdIj"
   },
   "outputs": [
    {
     "data": {
      "text/plain": [
       "array([[[ 1,  2,  3],\n",
       "        [ 4,  5,  6]],\n",
       "\n",
       "       [[ 7,  8,  9],\n",
       "        [10, 11, 12]]])"
      ]
     },
     "execution_count": 12,
     "metadata": {},
     "output_type": "execute_result"
    }
   ],
   "source": [
    "newarr = arr.reshape(2, 2,3)\n",
    "newarr"
   ]
  },
  {
   "cell_type": "markdown",
   "metadata": {
    "id": "G2COaNmsG_xY"
   },
   "source": [
    "### Unknown Dimension\n",
    "* Meaning that you do not have to specify an exact number for one of the dimensions in the reshape method."
   ]
  },
  {
   "cell_type": "code",
   "execution_count": 13,
   "metadata": {
    "colab": {
     "base_uri": "https://localhost:8080/"
    },
    "executionInfo": {
     "elapsed": 571,
     "status": "ok",
     "timestamp": 1677308722174,
     "user": {
      "displayName": "Pankaj Choudhury",
      "userId": "11381187948817891789"
     },
     "user_tz": -330
    },
    "id": "vZkDZIi9Ghf-",
    "outputId": "fa131118-81d5-4a91-8416-ef1ce160adf1"
   },
   "outputs": [
    {
     "name": "stdout",
     "output_type": "stream",
     "text": [
      "[[[1 2]\n",
      "  [3 4]]\n",
      "\n",
      " [[5 6]\n",
      "  [7 8]]]\n",
      "(2, 2, 2)\n"
     ]
    }
   ],
   "source": [
    "arr = np.array([1, 2, 3, 4, 5, 6, 7, 8])\n",
    "\n",
    "newarr = arr.reshape(2, 2, -1)\n",
    "\n",
    "print(newarr)\n",
    "print(newarr.shape)"
   ]
  },
  {
   "cell_type": "code",
   "execution_count": 14,
   "metadata": {
    "colab": {
     "base_uri": "https://localhost:8080/"
    },
    "executionInfo": {
     "elapsed": 558,
     "status": "ok",
     "timestamp": 1677308725091,
     "user": {
      "displayName": "Pankaj Choudhury",
      "userId": "11381187948817891789"
     },
     "user_tz": -330
    },
    "id": "f_kdmj5XHIVm",
    "outputId": "e15a7e08-a5e4-4ad4-e03b-b1b4dda6ef80"
   },
   "outputs": [
    {
     "name": "stdout",
     "output_type": "stream",
     "text": [
      "[[[ 1  2]\n",
      "  [ 3  4]\n",
      "  [ 5  6]]\n",
      "\n",
      " [[ 7  8]\n",
      "  [ 9 10]\n",
      "  [11 12]]]\n",
      "(2, 3, 2)\n"
     ]
    }
   ],
   "source": [
    "arr = np.array([1, 2, 3, 4, 5, 6, 7, 8, 9, 10, 11, 12])\n",
    "newarr = arr.reshape(2, -1, 2)\n",
    "\n",
    "print(newarr)\n",
    "print(newarr.shape)"
   ]
  },
  {
   "cell_type": "markdown",
   "metadata": {
    "id": "6dUQJkFPHWeN"
   },
   "source": [
    "### Flattening the arrays\n",
    "* Flattening array means converting a multidimensional array into a 1D array."
   ]
  },
  {
   "cell_type": "code",
   "execution_count": 15,
   "metadata": {
    "executionInfo": {
     "elapsed": 11,
     "status": "aborted",
     "timestamp": 1677308708381,
     "user": {
      "displayName": "Pankaj Choudhury",
      "userId": "11381187948817891789"
     },
     "user_tz": -330
    },
    "id": "QNc0Ts5uHSad"
   },
   "outputs": [
    {
     "name": "stdout",
     "output_type": "stream",
     "text": [
      "[1 2 3 4 5 6 7 8]\n",
      "(8,)\n"
     ]
    }
   ],
   "source": [
    "a = np.array([[[1, 2], \n",
    "               [3, 4]], \n",
    "              [[5, 6], \n",
    "               [7, 8]]])\n",
    "\n",
    "b=a.reshape(-1)\n",
    "print(b)\n",
    "print(b.shape)"
   ]
  },
  {
   "cell_type": "markdown",
   "metadata": {
    "id": "LpOitXDuHw48"
   },
   "source": [
    "## Exercise\n",
    "Use the correct NumPy method to change the shape of an array from 2 X 3 to 3 X 2.\n",
    "```\n",
    "a = np.array([[1, 2, 3], \n",
    "              [4, 5, 6]])\n",
    "```\n"
   ]
  },
  {
   "cell_type": "code",
   "execution_count": 16,
   "metadata": {
    "executionInfo": {
     "elapsed": 12,
     "status": "aborted",
     "timestamp": 1677308708382,
     "user": {
      "displayName": "Pankaj Choudhury",
      "userId": "11381187948817891789"
     },
     "user_tz": -330
    },
    "id": "dhESMwgdHjkV"
   },
   "outputs": [
    {
     "data": {
      "text/plain": [
       "array([[1, 2],\n",
       "       [3, 4],\n",
       "       [5, 6]])"
      ]
     },
     "execution_count": 16,
     "metadata": {},
     "output_type": "execute_result"
    }
   ],
   "source": [
    "a = np.array([[1, 2, 3], \n",
    "              [4, 5, 6]])\n",
    "\n",
    "a.reshape(3,2)"
   ]
  },
  {
   "cell_type": "markdown",
   "metadata": {
    "id": "CtDMTOzXc-eL"
   },
   "source": [
    "## Exercise\n",
    "Use the correct NumPy method to change the shape of an array from 2 X 3 X 3 to 2 X 9"
   ]
  },
  {
   "cell_type": "code",
   "execution_count": 17,
   "metadata": {
    "id": "sxWZKurjIYRM"
   },
   "outputs": [
    {
     "data": {
      "text/plain": [
       "array([[ 1,  2, 35,  3,  4, 45, 33, 34, 45],\n",
       "       [ 5,  6,  7,  7,  8,  6, 87, 88, 86]])"
      ]
     },
     "execution_count": 17,
     "metadata": {},
     "output_type": "execute_result"
    }
   ],
   "source": [
    "a = np.array([[[1, 2, 35], \n",
    "               [3, 4, 45], \n",
    "               [33, 34, 45]], \n",
    "              [[5, 6, 7], \n",
    "               [7, 8, 6],\n",
    "               [87, 88, 86]], \n",
    "              ]\n",
    "              )\n",
    "a.reshape(2,9)"
   ]
  },
  {
   "cell_type": "markdown",
   "metadata": {
    "id": "w1vOMfRKIzBV"
   },
   "source": [
    "## Slicing Array \n",
    "Syntax\n",
    "```\n",
    "array[start_row : end_row , start_col : end_col ]\n",
    "```"
   ]
  },
  {
   "cell_type": "code",
   "execution_count": 18,
   "metadata": {
    "colab": {
     "base_uri": "https://localhost:8080/"
    },
    "executionInfo": {
     "elapsed": 647,
     "status": "ok",
     "timestamp": 1677308840048,
     "user": {
      "displayName": "Pankaj Choudhury",
      "userId": "11381187948817891789"
     },
     "user_tz": -330
    },
    "id": "xKVLrFaFZDyv",
    "outputId": "34ebc027-5d62-4cc9-8df0-a69ea62ef520"
   },
   "outputs": [
    {
     "data": {
      "text/plain": [
       "array([4, 5, 6])"
      ]
     },
     "execution_count": 18,
     "metadata": {},
     "output_type": "execute_result"
    }
   ],
   "source": [
    "arr = np.array([1, 2, 3, 4, 5, 6, 7, 8, 9, 10, 11, 12])\n",
    "arr[3:6]"
   ]
  },
  {
   "cell_type": "code",
   "execution_count": 19,
   "metadata": {
    "id": "21WvbOLYZMDV"
   },
   "outputs": [
    {
     "data": {
      "text/plain": [
       "array([1, 4])"
      ]
     },
     "execution_count": 19,
     "metadata": {},
     "output_type": "execute_result"
    }
   ],
   "source": [
    "arr = np.array([1, 2, 3, 4, 5, 6, 7, 8, 9, 10, 11, 12])\n",
    "arr[0:4:3]"
   ]
  },
  {
   "cell_type": "code",
   "execution_count": 20,
   "metadata": {
    "executionInfo": {
     "elapsed": 12,
     "status": "aborted",
     "timestamp": 1677308708382,
     "user": {
      "displayName": "Pankaj Choudhury",
      "userId": "11381187948817891789"
     },
     "user_tz": -330
    },
    "id": "OpZ9REPDJGRi"
   },
   "outputs": [
    {
     "data": {
      "text/plain": [
       "array([[ 1,  2, 35],\n",
       "       [ 3,  4, 75]])"
      ]
     },
     "execution_count": 20,
     "metadata": {},
     "output_type": "execute_result"
    }
   ],
   "source": [
    "a = np.array([[1, 2, 35], \n",
    "               [3, 4, 75], \n",
    "               [33, 34, 45]]) \n",
    "\n",
    "\n",
    "\n",
    "a[0:2, :]"
   ]
  },
  {
   "cell_type": "markdown",
   "metadata": {
    "id": "5dV8Z6m5Z1u0"
   },
   "source": [
    "## Exercise\n",
    "Slice the following 3-D array and get the first row and all columns from all dimension"
   ]
  },
  {
   "cell_type": "code",
   "execution_count": 21,
   "metadata": {
    "id": "I8D1LsypJSAk"
   },
   "outputs": [
    {
     "data": {
      "text/plain": [
       "array([[[ 1,  2, 35]],\n",
       "\n",
       "       [[ 5,  6,  7]]])"
      ]
     },
     "execution_count": 21,
     "metadata": {},
     "output_type": "execute_result"
    }
   ],
   "source": [
    "a = np.array([[[1, 2, 35], \n",
    "               [3, 4, 45], \n",
    "               [33, 34, 45]], \n",
    "              [[5, 6, 7], \n",
    "               [7, 8, 6],\n",
    "               [87, 88, 86]], \n",
    "              [[15, 16, 17], \n",
    "               [17, 18, 16],\n",
    "               [27, 28, 26]]\n",
    "              ])\n",
    "a[:2, :1, :]"
   ]
  },
  {
   "cell_type": "markdown",
   "metadata": {
    "id": "eMkIEVWIadsD"
   },
   "source": [
    "## NumPy Array Iterating"
   ]
  },
  {
   "cell_type": "code",
   "execution_count": 22,
   "metadata": {
    "id": "2UbeV030aKXZ"
   },
   "outputs": [
    {
     "name": "stdout",
     "output_type": "stream",
     "text": [
      "1\n",
      "2\n",
      "3\n"
     ]
    }
   ],
   "source": [
    "# 1D array\n",
    "arr = np.array([1, 2, 3])\n",
    "\n",
    "for x in arr:\n",
    "  print(x)"
   ]
  },
  {
   "cell_type": "code",
   "execution_count": 23,
   "metadata": {
    "id": "erIF-Hp8apFd"
   },
   "outputs": [
    {
     "name": "stdout",
     "output_type": "stream",
     "text": [
      "1\n",
      "2\n",
      "3\n",
      "4\n",
      "5\n",
      "6\n"
     ]
    }
   ],
   "source": [
    "# 2D array\n",
    "arr = np.array([[1, 2, 3], [4, 5, 6]])\n",
    "\n",
    "for x in arr:\n",
    "  for y in x:\n",
    "    print(y)"
   ]
  },
  {
   "cell_type": "code",
   "execution_count": 24,
   "metadata": {
    "id": "ICqyK6EWapB3"
   },
   "outputs": [
    {
     "name": "stdout",
     "output_type": "stream",
     "text": [
      "1\n",
      "2\n",
      "3\n",
      "4\n",
      "5\n",
      "6\n",
      "7\n",
      "8\n",
      "9\n",
      "10\n",
      "11\n",
      "12\n"
     ]
    }
   ],
   "source": [
    "# 3D array\n",
    "arr = np.array([[[1, 2, 3], [4, 5, 6]], [[7, 8, 9], [10, 11, 12]]])\n",
    "\n",
    "for x in arr:\n",
    "  for y in x:\n",
    "    for z in y:\n",
    "      print(z)"
   ]
  },
  {
   "cell_type": "markdown",
   "metadata": {
    "id": "DLVxR5ZhbD1b"
   },
   "source": [
    "### Iterating Arrays Using nditer()"
   ]
  },
  {
   "cell_type": "code",
   "execution_count": 25,
   "metadata": {
    "id": "2BKVIlo3a0ia"
   },
   "outputs": [
    {
     "name": "stdout",
     "output_type": "stream",
     "text": [
      "1\n",
      "2\n",
      "3\n",
      "4\n",
      "5\n",
      "6\n",
      "7\n",
      "8\n",
      "9\n",
      "10\n",
      "11\n",
      "12\n"
     ]
    }
   ],
   "source": [
    "arr = np.array([[[1, 2, 3], [4, 5, 6]], [[7, 8, 9], [10, 11, 12]]])\n",
    "\n",
    "for x in np.nditer(arr):\n",
    "  print(x)"
   ]
  },
  {
   "cell_type": "code",
   "execution_count": 26,
   "metadata": {
    "id": "1dxDMlyBa596"
   },
   "outputs": [
    {
     "name": "stdout",
     "output_type": "stream",
     "text": [
      "1\n",
      "3\n",
      "5\n",
      "7\n"
     ]
    }
   ],
   "source": [
    "arr = np.array([[1, 2, 3, 4], [5, 6, 7, 8]])\n",
    "\n",
    "for x in np.nditer(arr[:, ::2]):\n",
    "  print(x)"
   ]
  },
  {
   "cell_type": "markdown",
   "metadata": {
    "id": "Njwe67-7cSwS"
   },
   "source": [
    "### Enumerated Iteration Using ndenumerate()\n",
    "* The index of the element while iterating, the ndenumerate() method can be used for those usecases."
   ]
  },
  {
   "cell_type": "code",
   "execution_count": 27,
   "metadata": {
    "id": "UV43bJhUbMqS"
   },
   "outputs": [
    {
     "name": "stdout",
     "output_type": "stream",
     "text": [
      "(0, 0, 0) 1\n",
      "(0, 0, 1) 2\n",
      "(0, 0, 2) 3\n",
      "(0, 1, 0) 4\n",
      "(0, 1, 1) 5\n",
      "(0, 1, 2) 6\n",
      "(1, 0, 0) 7\n",
      "(1, 0, 1) 8\n",
      "(1, 0, 2) 9\n",
      "(1, 1, 0) 10\n",
      "(1, 1, 1) 11\n",
      "(1, 1, 2) 12\n"
     ]
    }
   ],
   "source": [
    "arr = np.array([[[1, 2, 3], [4, 5, 6]], [[7, 8, 9], [10, 11, 12]]])\n",
    "for idx, x in np.ndenumerate(arr):\n",
    "  print(idx, x)"
   ]
  },
  {
   "cell_type": "markdown",
   "metadata": {
    "id": "xFBJVQJKdddF"
   },
   "source": [
    "# Arithmetic Operations\n"
   ]
  },
  {
   "cell_type": "markdown",
   "metadata": {
    "id": "-mpAy6b9grag"
   },
   "source": [
    "## Boradcasting\n",
    "* array to single value operations "
   ]
  },
  {
   "cell_type": "code",
   "execution_count": 28,
   "metadata": {
    "colab": {
     "base_uri": "https://localhost:8080/"
    },
    "executionInfo": {
     "elapsed": 712,
     "status": "ok",
     "timestamp": 1677311129266,
     "user": {
      "displayName": "Pankaj Choudhury",
      "userId": "11381187948817891789"
     },
     "user_tz": -330
    },
    "id": "BZ5iuefigrBW",
    "outputId": "0baec171-61a3-4c45-f590-248091247ed6"
   },
   "outputs": [
    {
     "name": "stdout",
     "output_type": "stream",
     "text": [
      "[3 6 9]\n",
      "[4 5 6]\n",
      "[-2 -1  0]\n",
      "[0.33333333 0.66666667 1.        ]\n",
      "[ 1  8 27]\n",
      "[1 2 0]\n"
     ]
    }
   ],
   "source": [
    "arr1 = np.array([1, 2, 3])\n",
    "a=3\n",
    "# Multiplication\n",
    "print(arr1*a)\n",
    "# Addition\n",
    "print(arr1+a)\n",
    "# Subtraction\n",
    "print(arr1-a)\n",
    "# division\n",
    "print(arr1/a)\n",
    "# power\n",
    "print(arr1**a)\n",
    "# modulo\n",
    "print(arr1%a)"
   ]
  },
  {
   "cell_type": "markdown",
   "metadata": {
    "id": "eolX7gdbgKZB"
   },
   "source": [
    "## Addition\n",
    "* array to array operations\n",
    "* array to array operations are done in elementwise fasion"
   ]
  },
  {
   "cell_type": "markdown",
   "metadata": {
    "id": "2mDFbLezh7s6"
   },
   "source": [
    "### 1D array"
   ]
  },
  {
   "cell_type": "code",
   "execution_count": 29,
   "metadata": {
    "colab": {
     "base_uri": "https://localhost:8080/"
    },
    "executionInfo": {
     "elapsed": 558,
     "status": "ok",
     "timestamp": 1677311179909,
     "user": {
      "displayName": "Pankaj Choudhury",
      "userId": "11381187948817891789"
     },
     "user_tz": -330
    },
    "id": "5SvxkTOzcjT_",
    "outputId": "bb92859f-70f6-464d-d1be-5f8130b22642"
   },
   "outputs": [
    {
     "name": "stdout",
     "output_type": "stream",
     "text": [
      "[ 4 10 18]\n",
      "[5 7 9]\n",
      "[-3 -3 -3]\n",
      "[0.25 0.4  0.5 ]\n",
      "[  1  32 729]\n",
      "[0 1 0]\n"
     ]
    }
   ],
   "source": [
    "arr1 = np.array([1, 2, 3])\n",
    "\n",
    "arr2 = np.array([4, 5, 6])\n",
    "\n",
    "# Multiplication arrays elementwise\n",
    "print(arr1*arr2)\n",
    "# Addition arrays elementwise\n",
    "print(arr1+arr2)\n",
    "# Subtraction arrays elementwise\n",
    "print(arr1-arr2)\n",
    "# division arrays elementwise\n",
    "print(arr1/arr2)\n",
    "# power arrays elementwise\n",
    "print(arr1**arr2)\n",
    "# modulo\n",
    "print(arr2%arr1)"
   ]
  },
  {
   "cell_type": "markdown",
   "metadata": {
    "id": "Cgim1gPRh980"
   },
   "source": [
    "## 2D array\n",
    "### Addition"
   ]
  },
  {
   "cell_type": "code",
   "execution_count": 30,
   "metadata": {
    "id": "CRuCmchre2wi"
   },
   "outputs": [
    {
     "name": "stdout",
     "output_type": "stream",
     "text": [
      "[0 1 2 3 4 5 6 7 8]\n",
      "[[0 1 2]\n",
      " [3 4 5]\n",
      " [6 7 8]]\n",
      "[10 11 12]\n"
     ]
    }
   ],
   "source": [
    "a = np.arange(9)\n",
    "print(a)\n",
    "ac=a.reshape(3,3) \n",
    "\n",
    "print(ac)\n",
    "\n",
    "b = np.array([10,11,12])\n",
    "print(b)\n",
    "\n"
   ]
  },
  {
   "cell_type": "code",
   "execution_count": 31,
   "metadata": {
    "colab": {
     "base_uri": "https://localhost:8080/"
    },
    "executionInfo": {
     "elapsed": 557,
     "status": "ok",
     "timestamp": 1677310530691,
     "user": {
      "displayName": "Pankaj Choudhury",
      "userId": "11381187948817891789"
     },
     "user_tz": -330
    },
    "id": "gdJqR-YOfOtr",
    "outputId": "00c2d825-0202-4bf1-a0a4-4ddf43083a4d"
   },
   "outputs": [
    {
     "name": "stdout",
     "output_type": "stream",
     "text": [
      "array addition [[10 12 14]\n",
      " [13 15 17]\n",
      " [16 18 20]]\n"
     ]
    }
   ],
   "source": [
    "print('array addition', ac+b)\n"
   ]
  },
  {
   "cell_type": "code",
   "execution_count": 32,
   "metadata": {
    "id": "Em_Q-nmwff-K",
    "scrolled": true
   },
   "outputs": [
    {
     "name": "stdout",
     "output_type": "stream",
     "text": [
      "[[10]\n",
      " [11]\n",
      " [12]]\n",
      "[[0 1 2]\n",
      " [3 4 5]\n",
      " [6 7 8]]\n",
      "array addition\n",
      "[[10 11 12]\n",
      " [14 15 16]\n",
      " [18 19 20]]\n"
     ]
    }
   ],
   "source": [
    "bc=b.reshape(3,1)\n",
    "print(bc)\n",
    "print(ac)\n",
    "print('array addition') \n",
    "print(ac+bc)"
   ]
  },
  {
   "cell_type": "markdown",
   "metadata": {
    "id": "3vZltWlxhTGR"
   },
   "source": [
    "### Subtraction"
   ]
  },
  {
   "cell_type": "code",
   "execution_count": 33,
   "metadata": {
    "id": "CsTGIydThV25"
   },
   "outputs": [
    {
     "name": "stdout",
     "output_type": "stream",
     "text": [
      "[0 1 2 3 4 5 6 7 8]\n",
      "[[0 1 2]\n",
      " [3 4 5]\n",
      " [6 7 8]]\n",
      "[10 11 12]\n",
      "b-ac [[10 10 10]\n",
      " [ 7  7  7]\n",
      " [ 4  4  4]]\n"
     ]
    }
   ],
   "source": [
    "a = np.arange(9)\n",
    "print(a)\n",
    "ac=a.reshape(3,3) \n",
    "\n",
    "print(ac)\n",
    "\n",
    "b = np.array([10,11,12])\n",
    "print(b)\n",
    "print ('b-ac',b-ac )"
   ]
  },
  {
   "cell_type": "markdown",
   "metadata": {
    "id": "G3cS5iCcgOyA"
   },
   "source": [
    "### Multiplication"
   ]
  },
  {
   "cell_type": "code",
   "execution_count": 34,
   "metadata": {
    "id": "xrgSReGkfwrL"
   },
   "outputs": [
    {
     "name": "stdout",
     "output_type": "stream",
     "text": [
      "[0 1 2 3 4 5 6 7 8]\n",
      "[[0 1 2]\n",
      " [3 4 5]\n",
      " [6 7 8]]\n",
      "[10 11 12]\n",
      "[[ 0 11 24]\n",
      " [30 44 60]\n",
      " [60 77 96]]\n"
     ]
    }
   ],
   "source": [
    "a = np.arange(9)\n",
    "print(a)\n",
    "ac=a.reshape(3,3) \n",
    "\n",
    "print(ac)\n",
    "\n",
    "b = np.array([10,11,12])\n",
    "print(b)\n",
    "\n",
    "print(ac*b)"
   ]
  },
  {
   "cell_type": "markdown",
   "metadata": {
    "id": "jWyLaLRIgZNh"
   },
   "source": [
    "### Division"
   ]
  },
  {
   "cell_type": "code",
   "execution_count": 35,
   "metadata": {
    "id": "Wz_f0JS6gUx0"
   },
   "outputs": [
    {
     "name": "stdout",
     "output_type": "stream",
     "text": [
      "[0 1 2 3 4 5 6 7 8]\n",
      "[[0 1 2]\n",
      " [3 4 5]\n",
      " [6 7 8]]\n",
      "[10 10 10]\n",
      "ac/b [[0.  0.1 0.2]\n",
      " [0.3 0.4 0.5]\n",
      " [0.6 0.7 0.8]]\n"
     ]
    }
   ],
   "source": [
    "a = np.arange(9)\n",
    "print(a)\n",
    "ac=a.reshape(3,3) \n",
    "\n",
    "print(ac)\n",
    "\n",
    "b = np.array([10,10,10])\n",
    "print(b)\n",
    "\n",
    "print('ac/b', ac/b)"
   ]
  },
  {
   "cell_type": "markdown",
   "metadata": {
    "id": "w6bdt03SigOP"
   },
   "source": [
    "### Power"
   ]
  },
  {
   "cell_type": "code",
   "execution_count": 36,
   "metadata": {
    "id": "lVQN6NnogcH0"
   },
   "outputs": [
    {
     "name": "stdout",
     "output_type": "stream",
     "text": [
      "[0 1 2 3 4 5 6 7 8]\n",
      "[[0 1 2]\n",
      " [3 4 5]\n",
      " [6 7 8]]\n",
      "[2 2 2]\n",
      "[[ 0  1  4]\n",
      " [ 9 16 25]\n",
      " [36 49 64]]\n"
     ]
    }
   ],
   "source": [
    "a = np.arange(9)\n",
    "print(a)\n",
    "ac=a.reshape(3,3) \n",
    "\n",
    "print(ac)\n",
    "\n",
    "b = np.array([2,2,2])\n",
    "print(b)\n",
    "\n",
    "print(ac**b)"
   ]
  },
  {
   "cell_type": "markdown",
   "metadata": {
    "id": "3g0xcTx9izkr"
   },
   "source": [
    "### Modulo"
   ]
  },
  {
   "cell_type": "code",
   "execution_count": 37,
   "metadata": {
    "id": "dpD6PR3_itFE"
   },
   "outputs": [
    {
     "name": "stdout",
     "output_type": "stream",
     "text": [
      "[0 1 2 3 4 5 6 7 8]\n",
      "[[0 1 2]\n",
      " [3 4 5]\n",
      " [6 7 8]]\n",
      "[2 2 2]\n",
      "[[0 1 0]\n",
      " [1 0 1]\n",
      " [0 1 0]]\n"
     ]
    }
   ],
   "source": [
    "a = np.arange(9)\n",
    "print(a)\n",
    "ac=a.reshape(3,3) \n",
    "\n",
    "print(ac)\n",
    "\n",
    "b = np.array([2,2,2])\n",
    "print(b)\n",
    "\n",
    "print(ac%b)"
   ]
  },
  {
   "cell_type": "markdown",
   "metadata": {
    "id": "At8lYTaDjME5"
   },
   "source": [
    "## Exercise\n",
    "* Create one numpy array using arange of 9 values and perform all arithmatic operation with a scaler value 7\n",
    "\n",
    "* Create two numpy array using arange of 9 values each, reshape them in to 3 X 3 matrix  and perform all arithmatic operation"
   ]
  },
  {
   "cell_type": "code",
   "execution_count": 38,
   "metadata": {
    "id": "s1tNYn3Ei3nh"
   },
   "outputs": [
    {
     "name": "stdout",
     "output_type": "stream",
     "text": [
      "[0 1 2 3 4 5 6 7 8]\n",
      "--------------------------------------------------------------------------------\n",
      "multiply [ 0  7 14 21 28 35 42 49 56]\n",
      "--------------------------------------------------------------------------------\n",
      "devide [0.         0.14285714 0.28571429 0.42857143 0.57142857 0.71428571\n",
      " 0.85714286 1.         1.14285714]\n",
      "--------------------------------------------------------------------------------\n",
      "Add [ 7  8  9 10 11 12 13 14 15]\n",
      "--------------------------------------------------------------------------------\n",
      "Subtract [-7 -6 -5 -4 -3 -2 -1  0  1]\n",
      "--------------------------------------------------------------------------------\n",
      "power [      0       1     128    2187   16384   78125  279936  823543 2097152]\n",
      "--------------------------------------------------------------------------------\n",
      "modulo [0 1 2 3 4 5 6 0 1]\n"
     ]
    }
   ],
   "source": [
    "a = np.arange(9)\n",
    "print (a)\n",
    "print('-'*80)\n",
    "print('multiply',a*7)\n",
    "print('-'*80)\n",
    "print('devide',a/7)\n",
    "print('-'*80)\n",
    "print('Add',a+7)\n",
    "print('-'*80)\n",
    "print('Subtract',a-7)\n",
    "print('-'*80)\n",
    "print('power',a**7)\n",
    "print('-'*80)\n",
    "print('modulo',a%7)"
   ]
  },
  {
   "cell_type": "code",
   "execution_count": 39,
   "metadata": {},
   "outputs": [
    {
     "name": "stdout",
     "output_type": "stream",
     "text": [
      "[[1 2 3]\n",
      " [4 5 6]\n",
      " [7 8 9]]\n",
      "[[1 2 3]\n",
      " [4 5 6]\n",
      " [7 8 9]]\n",
      "--------------------------------------------------------------------------------\n",
      "multiply [[ 1  4  9]\n",
      " [16 25 36]\n",
      " [49 64 81]]\n",
      "--------------------------------------------------------------------------------\n",
      "devide [[1. 1. 1.]\n",
      " [1. 1. 1.]\n",
      " [1. 1. 1.]]\n",
      "--------------------------------------------------------------------------------\n",
      "Add [[ 2  4  6]\n",
      " [ 8 10 12]\n",
      " [14 16 18]]\n",
      "--------------------------------------------------------------------------------\n",
      "Subtract [[0 0 0]\n",
      " [0 0 0]\n",
      " [0 0 0]]\n",
      "--------------------------------------------------------------------------------\n",
      "power [[        1         4        27]\n",
      " [      256      3125     46656]\n",
      " [   823543  16777216 387420489]]\n",
      "--------------------------------------------------------------------------------\n",
      "modulo [[0 0 0]\n",
      " [0 0 0]\n",
      " [0 0 0]]\n"
     ]
    }
   ],
   "source": [
    "a = np.arange(1,10)\n",
    "a=a.reshape(3,3)\n",
    "print(a)\n",
    "b=a.copy()\n",
    "print (b)\n",
    "\n",
    "print('-'*80)\n",
    "print('multiply',a*b)\n",
    "print('-'*80)\n",
    "print('devide',a/b)\n",
    "print('-'*80)\n",
    "print('Add',a+b)\n",
    "print('-'*80)\n",
    "print('Subtract',a-b)\n",
    "print('-'*80)\n",
    "print('power',a**b)\n",
    "print('-'*80)\n",
    "print('modulo',a%b)"
   ]
  },
  {
   "cell_type": "markdown",
   "metadata": {
    "id": "y1l1NtIJ-N9W"
   },
   "source": [
    "# Statistical Functions"
   ]
  },
  {
   "cell_type": "markdown",
   "metadata": {
    "id": "cxUixoIh-fwO"
   },
   "source": [
    "## mean\n",
    "* The numpy.mean() function returns the arithmetic mean of elements in the array"
   ]
  },
  {
   "cell_type": "code",
   "execution_count": 40,
   "metadata": {
    "colab": {
     "base_uri": "https://localhost:8080/"
    },
    "executionInfo": {
     "elapsed": 418,
     "status": "ok",
     "timestamp": 1677318617600,
     "user": {
      "displayName": "Pankaj Choudhury",
      "userId": "11381187948817891789"
     },
     "user_tz": -330
    },
    "id": "bDtpFuKa-QNV",
    "outputId": "5cff6695-0fdf-4dca-aee8-7d7a24235d5a"
   },
   "outputs": [
    {
     "name": "stdout",
     "output_type": "stream",
     "text": [
      "[[3 7 5]\n",
      " [8 4 3]\n",
      " [2 4 9]]\n"
     ]
    }
   ],
   "source": [
    "a = np.array([[3,7,5],[8,4,3],[2,4,9]]) \n",
    "print(a)"
   ]
  },
  {
   "cell_type": "code",
   "execution_count": 41,
   "metadata": {
    "colab": {
     "base_uri": "https://localhost:8080/"
    },
    "executionInfo": {
     "elapsed": 418,
     "status": "ok",
     "timestamp": 1677318620947,
     "user": {
      "displayName": "Pankaj Choudhury",
      "userId": "11381187948817891789"
     },
     "user_tz": -330
    },
    "id": "SUePE6Eg-q0G",
    "outputId": "5b4c2ecd-a878-412b-c715-2916d482439a"
   },
   "outputs": [
    {
     "name": "stdout",
     "output_type": "stream",
     "text": [
      "5.0\n"
     ]
    }
   ],
   "source": [
    "print(np.mean(a))"
   ]
  },
  {
   "cell_type": "code",
   "execution_count": 42,
   "metadata": {
    "colab": {
     "base_uri": "https://localhost:8080/"
    },
    "executionInfo": {
     "elapsed": 7,
     "status": "ok",
     "timestamp": 1677318634058,
     "user": {
      "displayName": "Pankaj Choudhury",
      "userId": "11381187948817891789"
     },
     "user_tz": -330
    },
    "id": "7c1r3-4h-wE2",
    "outputId": "05d160cc-37c1-4067-e43d-31fa1706a0fd"
   },
   "outputs": [
    {
     "name": "stdout",
     "output_type": "stream",
     "text": [
      "[4.33333333 5.         5.66666667]\n"
     ]
    }
   ],
   "source": [
    "print(np.mean(a, axis=0))"
   ]
  },
  {
   "cell_type": "code",
   "execution_count": 43,
   "metadata": {
    "colab": {
     "base_uri": "https://localhost:8080/"
    },
    "executionInfo": {
     "elapsed": 7,
     "status": "ok",
     "timestamp": 1677318642811,
     "user": {
      "displayName": "Pankaj Choudhury",
      "userId": "11381187948817891789"
     },
     "user_tz": -330
    },
    "id": "W3_FSnWk-zbe",
    "outputId": "131ec516-c47b-485e-f10c-ff8e7c265394"
   },
   "outputs": [
    {
     "name": "stdout",
     "output_type": "stream",
     "text": [
      "[5. 5. 5.]\n"
     ]
    }
   ],
   "source": [
    "print(np.mean(a, axis=1))"
   ]
  },
  {
   "cell_type": "markdown",
   "metadata": {
    "id": "jlr6GNBR_V3F"
   },
   "source": [
    "## average\n",
    "* The numpy.average() function computes the weighted average of elements in an array according to their respective weight given in another array.\n",
    "* Considering an array [1,2,3,4] and corresponding weights [4,3,2,1], the weighted average is calculated by adding the product of the corresponding elements and dividing the sum by the sum of weights.\n",
    "\n",
    "        Weighted average = (1*4+2*3+3*2+4*1)/(4+3+2+1)"
   ]
  },
  {
   "cell_type": "code",
   "execution_count": 44,
   "metadata": {
    "id": "D-TQsBv8_kqf"
   },
   "outputs": [
    {
     "name": "stdout",
     "output_type": "stream",
     "text": [
      "2.5\n"
     ]
    }
   ],
   "source": [
    "a = np.array([1,2,3,4]) \n",
    "wts = np.array([0.25,0.25,0.25,0.25])\n",
    "\n",
    "print(np.average(a,weights = wts))"
   ]
  },
  {
   "cell_type": "code",
   "execution_count": 45,
   "metadata": {
    "id": "q-QhK-4R_9W9"
   },
   "outputs": [
    {
     "name": "stdout",
     "output_type": "stream",
     "text": [
      "[[0 1]\n",
      " [2 3]\n",
      " [4 5]]\n",
      "[0.5 2.5 4.5]\n"
     ]
    }
   ],
   "source": [
    "a = np.arange(6).reshape(3,2) \n",
    "print(a)\n",
    "wt = np.array([.5,.5]) \n",
    "print(np.average(a, axis = 1, weights = wt))"
   ]
  },
  {
   "cell_type": "code",
   "execution_count": null,
   "metadata": {
    "id": "y8VfRNQE__WH"
   },
   "outputs": [],
   "source": []
  },
  {
   "cell_type": "markdown",
   "metadata": {
    "id": "8fpKFWkr-_G8"
   },
   "source": [
    "## Standard Deviation\n",
    "* numpy.std()"
   ]
  },
  {
   "cell_type": "code",
   "execution_count": 46,
   "metadata": {
    "id": "4FkUZCvd-1g2"
   },
   "outputs": [
    {
     "name": "stdout",
     "output_type": "stream",
     "text": [
      "[[3 7 5]\n",
      " [8 4 3]\n",
      " [2 4 9]]\n"
     ]
    }
   ],
   "source": [
    "a = np.array([[3,7,5],[8,4,3],[2,4,9]]) \n",
    "print(a)"
   ]
  },
  {
   "cell_type": "code",
   "execution_count": 47,
   "metadata": {
    "colab": {
     "base_uri": "https://localhost:8080/"
    },
    "executionInfo": {
     "elapsed": 425,
     "status": "ok",
     "timestamp": 1677318728386,
     "user": {
      "displayName": "Pankaj Choudhury",
      "userId": "11381187948817891789"
     },
     "user_tz": -330
    },
    "id": "0wiA-Kol_GpY",
    "outputId": "a8767c39-a344-4004-fa81-76e2fe8ca4ff"
   },
   "outputs": [
    {
     "name": "stdout",
     "output_type": "stream",
     "text": [
      "2.309401076758503\n"
     ]
    }
   ],
   "source": [
    "print(np.std(a))"
   ]
  },
  {
   "cell_type": "code",
   "execution_count": 48,
   "metadata": {
    "colab": {
     "base_uri": "https://localhost:8080/"
    },
    "executionInfo": {
     "elapsed": 8,
     "status": "ok",
     "timestamp": 1677318731723,
     "user": {
      "displayName": "Pankaj Choudhury",
      "userId": "11381187948817891789"
     },
     "user_tz": -330
    },
    "id": "VfZiNWX9_GpZ",
    "outputId": "c6f39fc4-c560-45da-91c7-0a8d998e2e9f"
   },
   "outputs": [
    {
     "name": "stdout",
     "output_type": "stream",
     "text": [
      "[2.62466929 1.41421356 2.49443826]\n"
     ]
    }
   ],
   "source": [
    "print(np.std(a, axis=0))"
   ]
  },
  {
   "cell_type": "code",
   "execution_count": 49,
   "metadata": {
    "id": "kfs5h9xv_Gpa"
   },
   "outputs": [
    {
     "name": "stdout",
     "output_type": "stream",
     "text": [
      "[1.63299316 2.1602469  2.94392029]\n"
     ]
    }
   ],
   "source": [
    "print(np.std(a, axis=1))"
   ]
  },
  {
   "cell_type": "markdown",
   "metadata": {
    "id": "OhPusdVAAq3m"
   },
   "source": [
    "## Variance\n",
    "numpy.var()"
   ]
  },
  {
   "cell_type": "code",
   "execution_count": 50,
   "metadata": {
    "colab": {
     "base_uri": "https://localhost:8080/"
    },
    "executionInfo": {
     "elapsed": 4,
     "status": "ok",
     "timestamp": 1677319498994,
     "user": {
      "displayName": "Pankaj Choudhury",
      "userId": "11381187948817891789"
     },
     "user_tz": -330
    },
    "id": "QTufiiQqCCPl",
    "outputId": "dee4e6dd-0076-442c-bcaf-689ea9fbe6d6"
   },
   "outputs": [
    {
     "name": "stdout",
     "output_type": "stream",
     "text": [
      "[[3 7 5]\n",
      " [8 4 3]\n",
      " [2 4 9]]\n"
     ]
    }
   ],
   "source": [
    "a = np.array([[3,7,5],[8,4,3],[2,4,9]]) \n",
    "print(a)"
   ]
  },
  {
   "cell_type": "code",
   "execution_count": 51,
   "metadata": {
    "colab": {
     "base_uri": "https://localhost:8080/"
    },
    "executionInfo": {
     "elapsed": 3,
     "status": "ok",
     "timestamp": 1677319498994,
     "user": {
      "displayName": "Pankaj Choudhury",
      "userId": "11381187948817891789"
     },
     "user_tz": -330
    },
    "id": "3RYl8cyLCCPm",
    "outputId": "c98b4399-e6e8-4295-ad26-a32634ddfb0b"
   },
   "outputs": [
    {
     "name": "stdout",
     "output_type": "stream",
     "text": [
      "5.333333333333333\n"
     ]
    }
   ],
   "source": [
    "print(np.var(a))"
   ]
  },
  {
   "cell_type": "code",
   "execution_count": 52,
   "metadata": {
    "colab": {
     "base_uri": "https://localhost:8080/"
    },
    "executionInfo": {
     "elapsed": 4,
     "status": "ok",
     "timestamp": 1677319502276,
     "user": {
      "displayName": "Pankaj Choudhury",
      "userId": "11381187948817891789"
     },
     "user_tz": -330
    },
    "id": "ng67HGGMCCPo",
    "outputId": "d04bb4a4-ae79-40bf-ac4c-c3f09df2d2cc"
   },
   "outputs": [
    {
     "name": "stdout",
     "output_type": "stream",
     "text": [
      "[6.88888889 2.         6.22222222]\n"
     ]
    }
   ],
   "source": [
    "print(np.var(a, axis=0))"
   ]
  },
  {
   "cell_type": "code",
   "execution_count": 53,
   "metadata": {
    "colab": {
     "base_uri": "https://localhost:8080/"
    },
    "executionInfo": {
     "elapsed": 8,
     "status": "ok",
     "timestamp": 1677319505068,
     "user": {
      "displayName": "Pankaj Choudhury",
      "userId": "11381187948817891789"
     },
     "user_tz": -330
    },
    "id": "PinE8IxtCCPo",
    "outputId": "6534c11c-03e2-4a99-9001-0d548c805344"
   },
   "outputs": [
    {
     "name": "stdout",
     "output_type": "stream",
     "text": [
      "[2.66666667 4.66666667 8.66666667]\n"
     ]
    }
   ],
   "source": [
    "print(np.var(a, axis=1))"
   ]
  },
  {
   "cell_type": "markdown",
   "metadata": {
    "id": "kWj4UIO1BpxE"
   },
   "source": [
    "## Exercise\n",
    "\n",
    "* create a matrix 3 X 3 of random integer between 1-20 and find the variance in row-wise and column-wise"
   ]
  },
  {
   "cell_type": "code",
   "execution_count": 54,
   "metadata": {
    "id": "R_4DycjoB6dg"
   },
   "outputs": [
    {
     "name": "stdout",
     "output_type": "stream",
     "text": [
      "a: [[17 11  5]\n",
      " [ 2 15  3]\n",
      " [ 7 18 11]]\n",
      "column wise mean: [ 8.66666667 14.66666667  6.33333333]\n",
      "column wise SD: [6.23609564 2.86744176 3.39934634]\n",
      "column wise variance: [38.88888889  8.22222222 11.55555556]\n",
      "row wise mean: [11.          6.66666667 12.        ]\n",
      "row wise SD: [4.89897949 5.90668172 4.54606057]\n",
      "row wise variance: [24.         34.88888889 20.66666667]\n"
     ]
    }
   ],
   "source": [
    "a = np.random.randint(1,20,(3,3))\n",
    "mc= np.mean(a,axis=0)\n",
    "sdc= np.std(a,axis=0)\n",
    "vc= np.var(a,axis=0)\n",
    "\n",
    "mr= np.mean(a,axis=1)\n",
    "sdr= np.std(a,axis=1)\n",
    "vr= np.var(a,axis=1)\n",
    "print('a:',a)\n",
    "print('column wise mean:',mc)\n",
    "print('column wise SD:',sdc)\n",
    "print('column wise variance:',vc)\n",
    "print('row wise mean:',mr)\n",
    "print('row wise SD:',sdr)\n",
    "print('row wise variance:',vr)\n"
   ]
  },
  {
   "cell_type": "markdown",
   "metadata": {
    "id": "TRyKfuOqA525"
   },
   "source": [
    "## Median\n",
    "numpy.median()\n"
   ]
  },
  {
   "cell_type": "code",
   "execution_count": 55,
   "metadata": {
    "colab": {
     "base_uri": "https://localhost:8080/"
    },
    "executionInfo": {
     "elapsed": 4,
     "status": "ok",
     "timestamp": 1677319498994,
     "user": {
      "displayName": "Pankaj Choudhury",
      "userId": "11381187948817891789"
     },
     "user_tz": -330
    },
    "id": "n36F-V0jCMSx",
    "outputId": "dee4e6dd-0076-442c-bcaf-689ea9fbe6d6"
   },
   "outputs": [
    {
     "name": "stdout",
     "output_type": "stream",
     "text": [
      "[[3 7 5]\n",
      " [8 4 3]\n",
      " [2 4 9]]\n"
     ]
    }
   ],
   "source": [
    "a = np.array([[3,7,5],[8,4,3],[2,4,9]]) \n",
    "print(a)"
   ]
  },
  {
   "cell_type": "code",
   "execution_count": 56,
   "metadata": {
    "colab": {
     "base_uri": "https://localhost:8080/"
    },
    "executionInfo": {
     "elapsed": 7,
     "status": "ok",
     "timestamp": 1677319529337,
     "user": {
      "displayName": "Pankaj Choudhury",
      "userId": "11381187948817891789"
     },
     "user_tz": -330
    },
    "id": "-tNM9Mp7CMSx",
    "outputId": "04bc5d0e-9d40-412f-967d-78bb61132054"
   },
   "outputs": [
    {
     "name": "stdout",
     "output_type": "stream",
     "text": [
      "4.0\n"
     ]
    }
   ],
   "source": [
    "print(np.median(a))"
   ]
  },
  {
   "cell_type": "code",
   "execution_count": 57,
   "metadata": {
    "colab": {
     "base_uri": "https://localhost:8080/"
    },
    "executionInfo": {
     "elapsed": 3,
     "status": "ok",
     "timestamp": 1677319542606,
     "user": {
      "displayName": "Pankaj Choudhury",
      "userId": "11381187948817891789"
     },
     "user_tz": -330
    },
    "id": "gClxza30CMSx",
    "outputId": "d6dd658e-ea07-42b2-fe17-242db4c330a9"
   },
   "outputs": [
    {
     "name": "stdout",
     "output_type": "stream",
     "text": [
      "[3. 4. 5.]\n"
     ]
    }
   ],
   "source": [
    "print(np.median(a, axis=0))"
   ]
  },
  {
   "cell_type": "code",
   "execution_count": 58,
   "metadata": {
    "colab": {
     "base_uri": "https://localhost:8080/"
    },
    "executionInfo": {
     "elapsed": 6,
     "status": "ok",
     "timestamp": 1677319543628,
     "user": {
      "displayName": "Pankaj Choudhury",
      "userId": "11381187948817891789"
     },
     "user_tz": -330
    },
    "id": "lqTdODFNCMSy",
    "outputId": "817e7686-4b6c-474b-f4c4-fae3d70b06ad"
   },
   "outputs": [
    {
     "name": "stdout",
     "output_type": "stream",
     "text": [
      "[5. 4. 4.]\n"
     ]
    }
   ],
   "source": [
    "print(np.median(a, axis=1))"
   ]
  },
  {
   "cell_type": "code",
   "execution_count": null,
   "metadata": {
    "id": "-yMGkdmgA8ZY"
   },
   "outputs": [],
   "source": []
  },
  {
   "cell_type": "markdown",
   "metadata": {
    "id": "BsZMopWnB7eV"
   },
   "source": [
    "## Exercise\n",
    "\n",
    "* create a matrix 3 X 3 of random integer between 1-20 and find the median in row-wise and column-wise"
   ]
  },
  {
   "cell_type": "code",
   "execution_count": null,
   "metadata": {
    "id": "0HKlhhcoB9u7"
   },
   "outputs": [],
   "source": []
  },
  {
   "cell_type": "markdown",
   "metadata": {
    "id": "xiMnK-85DBMJ"
   },
   "source": [
    "# Mathematical Functions"
   ]
  },
  {
   "cell_type": "markdown",
   "metadata": {
    "id": "LO4unDboDJti"
   },
   "source": [
    "## Trigonometric Functions\n",
    "NumPy has standard trigonometric functions which return trigonometric ratios for a given angle in radians."
   ]
  },
  {
   "cell_type": "code",
   "execution_count": 59,
   "metadata": {
    "executionInfo": {
     "elapsed": 439,
     "status": "ok",
     "timestamp": 1677319822283,
     "user": {
      "displayName": "Pankaj Choudhury",
      "userId": "11381187948817891789"
     },
     "user_tz": -330
    },
    "id": "mPk7A-L6DJGg"
   },
   "outputs": [],
   "source": [
    "a = np.array([0,30,45,60,90]) "
   ]
  },
  {
   "cell_type": "code",
   "execution_count": 60,
   "metadata": {
    "colab": {
     "base_uri": "https://localhost:8080/"
    },
    "executionInfo": {
     "elapsed": 9,
     "status": "ok",
     "timestamp": 1677319924264,
     "user": {
      "displayName": "Pankaj Choudhury",
      "userId": "11381187948817891789"
     },
     "user_tz": -330
    },
    "id": "-BBqELx8DG69",
    "outputId": "df7111c1-1810-4875-abe2-54149f589127"
   },
   "outputs": [
    {
     "name": "stdout",
     "output_type": "stream",
     "text": [
      "[0.         0.5        0.70710678 0.8660254  1.        ]\n"
     ]
    }
   ],
   "source": [
    "sin_theta=np.sin(a*np.pi/180) \n",
    "print(sin_theta)\n"
   ]
  },
  {
   "cell_type": "code",
   "execution_count": 61,
   "metadata": {
    "colab": {
     "base_uri": "https://localhost:8080/"
    },
    "executionInfo": {
     "elapsed": 427,
     "status": "ok",
     "timestamp": 1677319834063,
     "user": {
      "displayName": "Pankaj Choudhury",
      "userId": "11381187948817891789"
     },
     "user_tz": -330
    },
    "id": "OFi5UjRtDV5W",
    "outputId": "ea461383-e9b0-4f23-b8ec-6a7a119a23ee"
   },
   "outputs": [
    {
     "data": {
      "text/plain": [
       "array([1.00000000e+00, 8.66025404e-01, 7.07106781e-01, 5.00000000e-01,\n",
       "       6.12323400e-17])"
      ]
     },
     "execution_count": 61,
     "metadata": {},
     "output_type": "execute_result"
    }
   ],
   "source": [
    "np.cos(a*np.pi/180) "
   ]
  },
  {
   "cell_type": "code",
   "execution_count": 62,
   "metadata": {
    "colab": {
     "base_uri": "https://localhost:8080/"
    },
    "executionInfo": {
     "elapsed": 522,
     "status": "ok",
     "timestamp": 1677319845064,
     "user": {
      "displayName": "Pankaj Choudhury",
      "userId": "11381187948817891789"
     },
     "user_tz": -330
    },
    "id": "Zal3PU6FDYWF",
    "outputId": "7e6750df-858e-4cec-f65c-d141071aef7f"
   },
   "outputs": [
    {
     "data": {
      "text/plain": [
       "array([0.00000000e+00, 5.77350269e-01, 1.00000000e+00, 1.73205081e+00,\n",
       "       1.63312394e+16])"
      ]
     },
     "execution_count": 62,
     "metadata": {},
     "output_type": "execute_result"
    }
   ],
   "source": [
    "np.tan(a*np.pi/180)"
   ]
  },
  {
   "cell_type": "markdown",
   "metadata": {
    "id": "_srcOZiiD5-u"
   },
   "source": [
    "### Inverse functions\n",
    "* arcsin, arcos, and arctan functions return the trigonometric inverse of sin, cos, and tan of the given angle. The result of these functions can be verified by numpy.degrees() function by converting radians to degrees."
   ]
  },
  {
   "cell_type": "code",
   "execution_count": 63,
   "metadata": {
    "colab": {
     "base_uri": "https://localhost:8080/"
    },
    "executionInfo": {
     "elapsed": 3,
     "status": "ok",
     "timestamp": 1677320074499,
     "user": {
      "displayName": "Pankaj Choudhury",
      "userId": "11381187948817891789"
     },
     "user_tz": -330
    },
    "id": "H3DiwBp4Da_m",
    "outputId": "e66a6784-c1ef-4ae5-eedd-4dbbeee6ab5a"
   },
   "outputs": [
    {
     "name": "stdout",
     "output_type": "stream",
     "text": [
      "[0.         0.5        0.70710678 0.8660254  1.        ]\n",
      "inverse of sin in radian [0.         0.52359878 0.78539816 1.04719755 1.57079633]\n",
      "inverse of sin in degree [ 0. 30. 45. 60. 90.]\n"
     ]
    }
   ],
   "source": [
    "sin_theta=np.sin(a*np.pi/180) \n",
    "print(sin_theta)\n",
    "arc_sin=np.arcsin(sin_theta)\n",
    "print('inverse of sin in radian',arc_sin)\n",
    "print('inverse of sin in degree', np.degrees(arc_sin))"
   ]
  },
  {
   "cell_type": "code",
   "execution_count": 64,
   "metadata": {},
   "outputs": [
    {
     "name": "stdout",
     "output_type": "stream",
     "text": [
      "[ 0 30 45 60 90]\n"
     ]
    },
    {
     "ename": "TypeError",
     "evalue": "only size-1 arrays can be converted to Python scalars",
     "output_type": "error",
     "traceback": [
      "\u001b[1;31m---------------------------------------------------------------------------\u001b[0m",
      "\u001b[1;31mTypeError\u001b[0m                                 Traceback (most recent call last)",
      "\u001b[1;32m~\\AppData\\Local\\Temp\\ipykernel_24468\\886467933.py\u001b[0m in \u001b[0;36m<module>\u001b[1;34m\u001b[0m\n\u001b[0;32m      1\u001b[0m \u001b[1;32mimport\u001b[0m \u001b[0mmath\u001b[0m\u001b[1;33m\u001b[0m\u001b[1;33m\u001b[0m\u001b[0m\n\u001b[0;32m      2\u001b[0m \u001b[0mprint\u001b[0m \u001b[1;33m(\u001b[0m\u001b[0ma\u001b[0m\u001b[1;33m)\u001b[0m\u001b[1;33m\u001b[0m\u001b[1;33m\u001b[0m\u001b[0m\n\u001b[1;32m----> 3\u001b[1;33m \u001b[0mb\u001b[0m\u001b[1;33m=\u001b[0m\u001b[0mmap\u001b[0m\u001b[1;33m(\u001b[0m\u001b[0mmath\u001b[0m\u001b[1;33m.\u001b[0m\u001b[0msin\u001b[0m\u001b[1;33m(\u001b[0m\u001b[0ma\u001b[0m\u001b[1;33m*\u001b[0m\u001b[0mmath\u001b[0m\u001b[1;33m.\u001b[0m\u001b[0mpi\u001b[0m\u001b[1;33m/\u001b[0m\u001b[1;36m180\u001b[0m\u001b[1;33m)\u001b[0m\u001b[1;33m)\u001b[0m\u001b[1;33m\u001b[0m\u001b[1;33m\u001b[0m\u001b[0m\n\u001b[0m\u001b[0;32m      4\u001b[0m \u001b[0mprint\u001b[0m\u001b[1;33m(\u001b[0m\u001b[0mb\u001b[0m\u001b[1;33m)\u001b[0m\u001b[1;33m\u001b[0m\u001b[1;33m\u001b[0m\u001b[0m\n",
      "\u001b[1;31mTypeError\u001b[0m: only size-1 arrays can be converted to Python scalars"
     ]
    }
   ],
   "source": [
    "import math\n",
    "print (a)\n",
    "b=map(math.sin(a*math.pi/180))\n",
    "print(b)"
   ]
  },
  {
   "cell_type": "markdown",
   "metadata": {
    "id": "nhP81c8nDcGR"
   },
   "source": [
    "## Functions for Rounding\n",
    "* numpy.around() - This is a function that returns the value rounded to the desired precision. The function takes the following parameters.\n",
    "```\n",
    "numpy.around(a,decimals)\n",
    "```"
   ]
  },
  {
   "cell_type": "code",
   "execution_count": null,
   "metadata": {
    "id": "gsUi1WaeEm6v"
   },
   "outputs": [],
   "source": [
    "data=np.random.randn(2,3)\n",
    "print(data)\n",
    "print(np.around(data, 1))"
   ]
  },
  {
   "cell_type": "markdown",
   "metadata": {
    "id": "wPenmAwCE5M0"
   },
   "source": [
    "## floor() and ceil()"
   ]
  },
  {
   "cell_type": "code",
   "execution_count": null,
   "metadata": {
    "id": "AeRTaYG0ErG4"
   },
   "outputs": [],
   "source": [
    "a = np.array([-1.7, 1.5, -0.2, 0.6, 10]) \n",
    "print(np.floor(a))"
   ]
  },
  {
   "cell_type": "code",
   "execution_count": null,
   "metadata": {
    "id": "JC-va3ejFJFJ"
   },
   "outputs": [],
   "source": [
    "a = np.array([-1.7, 1.5, -0.2, 0.6, 10]) \n",
    "print(np.ceil(a))"
   ]
  },
  {
   "cell_type": "markdown",
   "metadata": {
    "id": "ATjg1YjFFXQc"
   },
   "source": [
    "## square root\n",
    "np.sqrt()"
   ]
  },
  {
   "cell_type": "code",
   "execution_count": null,
   "metadata": {
    "id": "gbr8rfQEFNi8"
   },
   "outputs": [],
   "source": [
    "a = np.array([25, 49, 16]) \n",
    "print(np.sqrt(a))"
   ]
  }
 ],
 "metadata": {
  "colab": {
   "authorship_tag": "ABX9TyOu/F+e2tT1HDIIOa8amlYl",
   "collapsed_sections": [
    "mU4b3JbUB2Jl",
    "2sFrzO9GCCnf",
    "rnUcM8xeCN5E",
    "30_vf-ZACyzB",
    "XgIHh5AJDC6l",
    "fcQcMbyVELNC",
    "sFAqHFUXEqrc",
    "xTnJkv7SEXTQ",
    "LpOitXDuHw48",
    "CtDMTOzXc-eL",
    "w1vOMfRKIzBV",
    "5dV8Z6m5Z1u0",
    "eMkIEVWIadsD",
    "xFBJVQJKdddF",
    "-mpAy6b9grag",
    "eolX7gdbgKZB",
    "y1l1NtIJ-N9W",
    "cxUixoIh-fwO",
    "8fpKFWkr-_G8",
    "OhPusdVAAq3m",
    "kWj4UIO1BpxE",
    "TRyKfuOqA525",
    "LO4unDboDJti",
    "_srcOZiiD5-u",
    "nhP81c8nDcGR",
    "wPenmAwCE5M0",
    "ATjg1YjFFXQc"
   ],
   "provenance": []
  },
  "kernelspec": {
   "display_name": "Python 3 (ipykernel)",
   "language": "python",
   "name": "python3"
  },
  "language_info": {
   "codemirror_mode": {
    "name": "ipython",
    "version": 3
   },
   "file_extension": ".py",
   "mimetype": "text/x-python",
   "name": "python",
   "nbconvert_exporter": "python",
   "pygments_lexer": "ipython3",
   "version": "3.9.13"
  }
 },
 "nbformat": 4,
 "nbformat_minor": 1
}
