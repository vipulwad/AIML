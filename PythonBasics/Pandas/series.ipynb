{
 "cells": [
  {
   "cell_type": "markdown",
   "metadata": {
    "id": "TG3u1PyaOS27"
   },
   "source": [
    "# Introduction to Pandas\n",
    "* It provides fast, flexible, and expressive data structures designed to make working with structured (tabular, multidimensional, potentially heterogeneous) and time series data.\n",
    "* Pandas is an open source library in Python.\n",
    "* It is useful in data manipulation and analysis.\n",
    "* Pandas library is built on top of NumPy library providing high performance, easy to use data structures and data analysis tools for the python programming language. \n"
   ]
  },
  {
   "cell_type": "markdown",
   "metadata": {
    "id": "uk8HF_a_OqfM"
   },
   "source": [
    "# Installation\n",
    "```\n",
    "pip install pandas\n",
    "```\n"
   ]
  },
  {
   "cell_type": "code",
   "execution_count": 1,
   "metadata": {
    "id": "wPAVzg6DOxz0"
   },
   "outputs": [],
   "source": [
    "import pandas as pd"
   ]
  },
  {
   "cell_type": "markdown",
   "metadata": {
    "id": "rZotFEcTO8YM"
   },
   "source": [
    "# Pandas Components\n",
    "* One Dimensional\n",
    "  * Series\n",
    "* Multi Dimensional\n",
    "  * DataFrame\n",
    "\n"
   ]
  },
  {
   "cell_type": "markdown",
   "metadata": {
    "id": "EZmQkyIRNaES"
   },
   "source": [
    "# Pandas Series\n",
    "* A Pandas Series is a one-dimensional array of indexed data.\n",
    "* Pandas Series can be thought of as a column in the excel sheet.\n",
    "```\n",
    "panda.Series(data, index, dtype, copy)\n",
    "```\n",
    "\n",
    "* data : Data can be in the form of ndarray, lists\n",
    "* index : Values must be hashable and have the same length as data\n",
    "* dtype : Data type for the series\n",
    "* copy : To copy the data"
   ]
  },
  {
   "cell_type": "markdown",
   "metadata": {
    "id": "8w2Yv3jvP05a"
   },
   "source": [
    "# Creating Panda Series from list\n",
    "NOTE : By default, index ranges from 0 to (n-1) for series of length ‘n’\n"
   ]
  },
  {
   "cell_type": "code",
   "execution_count": 2,
   "metadata": {
    "colab": {
     "base_uri": "https://localhost:8080/"
    },
    "id": "a3TS9XqONRXN",
    "outputId": "ba76b232-312f-4b01-bf47-cd3ddd2713f6"
   },
   "outputs": [
    {
     "name": "stdout",
     "output_type": "stream",
     "text": [
      "0    a\n",
      "1    b\n",
      "2    c\n",
      "3    d\n",
      "dtype: object\n"
     ]
    }
   ],
   "source": [
    "list_1 = ['a', 'b', 'c', 'd']\n",
    "ser_1 = pd.Series(data=list_1)\n",
    "print(ser_1)"
   ]
  },
  {
   "cell_type": "markdown",
   "metadata": {
    "id": "0SFI_vo5P6k0"
   },
   "source": [
    "# Creating Panda Series from numpy array\n",
    "\n",
    "\n",
    "\n",
    "\n"
   ]
  },
  {
   "cell_type": "code",
   "execution_count": 3,
   "metadata": {
    "colab": {
     "base_uri": "https://localhost:8080/"
    },
    "id": "wbLexrZUP8O0",
    "outputId": "955378b2-a104-41ea-8820-c5a622142395"
   },
   "outputs": [
    {
     "name": "stdout",
     "output_type": "stream",
     "text": [
      "0    1\n",
      "1    2\n",
      "2    3\n",
      "3    4\n",
      "dtype: int32\n"
     ]
    }
   ],
   "source": [
    "import numpy as np\n",
    "arr_1 = np.array([1, 2, 3, 4])\n",
    "ser_2 = pd.Series(arr_1)\n",
    "print(ser_2)"
   ]
  },
  {
   "cell_type": "markdown",
   "metadata": {
    "id": "wuk9_fSqQwx6"
   },
   "source": [
    "# Setting Index to Series\n",
    "NOTE : We can also specify the strings as index values"
   ]
  },
  {
   "cell_type": "code",
   "execution_count": 4,
   "metadata": {
    "colab": {
     "base_uri": "https://localhost:8080/"
    },
    "id": "SYUdgOt3Q3QN",
    "outputId": "e576ce59-b1da-4289-cf3f-190b37c06bc9"
   },
   "outputs": [
    {
     "name": "stdout",
     "output_type": "stream",
     "text": [
      "a    1\n",
      "b    2\n",
      "c    3\n",
      "d    4\n",
      "dtype: int64\n"
     ]
    }
   ],
   "source": [
    "labels = ['a', 'b', 'c', 'd']\n",
    "list_1  = [1, 2, 3, 4]\n",
    "ser_1 = pd.Series(data=list_1, index=labels)\n",
    "print(ser_1)"
   ]
  },
  {
   "cell_type": "markdown",
   "metadata": {
    "id": "tr-ZgYEbQPD6"
   },
   "source": [
    "# Creating Panda Series from dictionary\n",
    "NOTE : The key becomes the row index while the value is the row value at that row index "
   ]
  },
  {
   "cell_type": "code",
   "execution_count": 5,
   "metadata": {
    "colab": {
     "base_uri": "https://localhost:8080/"
    },
    "id": "ejL3jaOWP-Ks",
    "outputId": "c870e306-2900-4093-f259-b6524be2f940"
   },
   "outputs": [
    {
     "name": "stdout",
     "output_type": "stream",
     "text": [
      "f_name    Derek\n",
      "l_name    Banas\n",
      "age          44\n",
      "dtype: object\n"
     ]
    }
   ],
   "source": [
    "dict_1 = {\"f_name\": \"Derek\", \n",
    "              \"l_name\": \"Banas\", \n",
    "              \"age\": 44}\n",
    "ser_3 = pd.Series(dict_1)\n",
    "print(ser_3)"
   ]
  },
  {
   "cell_type": "markdown",
   "metadata": {
    "id": "8CdNDPRvbjhQ"
   },
   "source": [
    "## Exercise\n",
    "Write a Pandas program to convert a dictionary to a Pandas series. \n",
    "\n",
    "Original dictionary:\n",
    "{'a': 100, 'b': 200, 'c': 300, 'd': 400, 'e': 800}"
   ]
  },
  {
   "cell_type": "code",
   "execution_count": null,
   "metadata": {
    "id": "P8Xvv6fpboRt"
   },
   "outputs": [],
   "source": []
  },
  {
   "cell_type": "markdown",
   "metadata": {
    "id": "6-SzwNdDRZ1V"
   },
   "source": [
    "# Accessing Series Index and Values"
   ]
  },
  {
   "cell_type": "code",
   "execution_count": 6,
   "metadata": {
    "colab": {
     "base_uri": "https://localhost:8080/"
    },
    "id": "r_KmTdCdQUcS",
    "outputId": "63455d65-7ca4-46d8-cb2a-07f02c973be6"
   },
   "outputs": [
    {
     "name": "stdout",
     "output_type": "stream",
     "text": [
      "Index(['f_name', 'l_name', 'age'], dtype='object')\n",
      "['Derek' 'Banas' 44]\n"
     ]
    }
   ],
   "source": [
    "dict_1 = {\"f_name\": \"Derek\", \n",
    "              \"l_name\": \"Banas\", \n",
    "              \"age\": 44}\n",
    "ser_3 = pd.Series(dict_1)\n",
    "# getting index names\n",
    "print(ser_3.index)\n",
    "# getting values\n",
    "print(ser_3.values)"
   ]
  },
  {
   "cell_type": "markdown",
   "metadata": {
    "id": "43zuxxpDR8hn"
   },
   "source": [
    "# Accessing Series Elements\n",
    "NOTE : Access the element in a series using the index operator ‘[]’"
   ]
  },
  {
   "cell_type": "code",
   "execution_count": 7,
   "metadata": {
    "id": "mwWWGpUZRioc"
   },
   "outputs": [
    {
     "name": "stdout",
     "output_type": "stream",
     "text": [
      "0    1\n",
      "1    2\n",
      "2    3\n",
      "3    4\n",
      "4    5\n",
      "dtype: int32\n",
      "4    5\n",
      "5    6\n",
      "6    7\n",
      "7    8\n",
      "8    9\n",
      "dtype: int32\n"
     ]
    }
   ],
   "source": [
    "import numpy as np\n",
    "arr_1 = np.array([1, 2, 3, 4,5,6,7,8,9])\n",
    "ser_2 = pd.Series(arr_1)\n",
    "# Retrieve first five elements\n",
    "print(ser_2[:5])\n",
    "# Retrieve last five elements\n",
    "print(ser_2[-5:])\n",
    "\n"
   ]
  },
  {
   "cell_type": "markdown",
   "metadata": {
    "id": "o8e31eskSloz"
   },
   "source": [
    "## Use index to access the element"
   ]
  },
  {
   "cell_type": "code",
   "execution_count": 8,
   "metadata": {
    "id": "BrYICT4GSL2d"
   },
   "outputs": [
    {
     "name": "stdout",
     "output_type": "stream",
     "text": [
      "44\n"
     ]
    }
   ],
   "source": [
    "dict_1 = {\"f_name\": \"Derek\", \n",
    "              \"l_name\": \"Banas\", \n",
    "              \"age\": 44}\n",
    "\n",
    "ser_3 = pd.Series(dict_1)\n",
    "# getting index names\n",
    "print(ser_3['age'])"
   ]
  },
  {
   "cell_type": "markdown",
   "metadata": {
    "id": "q2XzwlJGS8q8"
   },
   "source": [
    "## Retrieve multiple elements using a list of indices"
   ]
  },
  {
   "cell_type": "code",
   "execution_count": 9,
   "metadata": {
    "id": "9Z-0neIGSsvS"
   },
   "outputs": [
    {
     "name": "stdout",
     "output_type": "stream",
     "text": [
      "f_name    Derek\n",
      "age          44\n",
      "dtype: object\n"
     ]
    }
   ],
   "source": [
    "dict_1 = {\"f_name\": \"Derek\", \n",
    "              \"l_name\": \"Banas\", \n",
    "              \"age\": 44}\n",
    "\n",
    "ser_3 = pd.Series(dict_1)\n",
    "# getting index names\n",
    "print(ser_3[['f_name','age']])"
   ]
  },
  {
   "cell_type": "markdown",
   "metadata": {
    "id": "QFzpE52qTKEx"
   },
   "source": [
    "# Filtering a Series"
   ]
  },
  {
   "cell_type": "markdown",
   "metadata": {
    "id": "L5Vhd-L2TUxH"
   },
   "source": [
    "## Filter the Values"
   ]
  },
  {
   "cell_type": "code",
   "execution_count": 10,
   "metadata": {
    "id": "WQmxE71DTBPi"
   },
   "outputs": [
    {
     "name": "stdout",
     "output_type": "stream",
     "text": [
      "a    59\n",
      "b    68\n",
      "c    42\n",
      "d    53\n",
      "e    80\n",
      "dtype: int32\n",
      "----------------------------------------\n",
      "a     True\n",
      "b     True\n",
      "c    False\n",
      "d     True\n",
      "e     True\n",
      "dtype: bool\n",
      "----------------------------------------\n",
      "a    59\n",
      "b    68\n",
      "d    53\n",
      "e    80\n",
      "dtype: int32\n"
     ]
    }
   ],
   "source": [
    "import numpy as np\n",
    "data=np.array([59, 68, 42, 53, 80])\n",
    "s = pd.Series(data, index=[\"a\", \"b\", \"c\", \"d\", \"e\"])\n",
    "print(s)\n",
    "print('-'*40)\n",
    "print(s>50)\n",
    "print('-'*40)\n",
    "print(s[s>50])"
   ]
  },
  {
   "cell_type": "markdown",
   "metadata": {
    "id": "nc9dEKPDciCc"
   },
   "source": [
    "## Exercise\n",
    "Write a Pandas program to create a subset of a given series based on value (n) and condition (<).\n",
    "\n",
    "[0, 1,2,3,4,5,6,7,8,9,10]\n",
    "\n",
    "n=6"
   ]
  },
  {
   "cell_type": "code",
   "execution_count": 11,
   "metadata": {
    "colab": {
     "base_uri": "https://localhost:8080/"
    },
    "id": "TVI8A8o0c310",
    "outputId": "4b3faea9-3696-441a-9a01-2342f413acd0"
   },
   "outputs": [
    {
     "name": "stdout",
     "output_type": "stream",
     "text": [
      "Original Data Series:\n",
      "0      0\n",
      "1      1\n",
      "2      2\n",
      "3      3\n",
      "4      4\n",
      "5      5\n",
      "6      6\n",
      "7      7\n",
      "8      8\n",
      "9      9\n",
      "10    10\n",
      "dtype: int64\n",
      "\n",
      "Subset of the above Data Series:\n",
      "0    0\n",
      "1    1\n",
      "2    2\n",
      "3    3\n",
      "4    4\n",
      "5    5\n",
      "dtype: int64\n"
     ]
    }
   ],
   "source": [
    "import pandas as pd\n",
    "s = pd.Series([0, 1,2,3,4,5,6,7,8,9,10])\n",
    "print(\"Original Data Series:\")\n",
    "print(s)\n",
    "print(\"\\nSubset of the above Data Series:\")\n",
    "n = 6\n",
    "new_s = s[s < n]\n",
    "print(new_s)\n"
   ]
  },
  {
   "cell_type": "markdown",
   "metadata": {
    "id": "C0D-u91aURzL"
   },
   "source": [
    "# Arithmetic Operations\n"
   ]
  },
  {
   "cell_type": "markdown",
   "metadata": {
    "id": "lJ0eXzuEVWXm"
   },
   "source": [
    "## Series to single value"
   ]
  },
  {
   "cell_type": "code",
   "execution_count": 12,
   "metadata": {
    "id": "Mgj0GTr3Tg1-"
   },
   "outputs": [
    {
     "name": "stdout",
     "output_type": "stream",
     "text": [
      "a    118\n",
      "b    136\n",
      "c     84\n",
      "d    106\n",
      "e    160\n",
      "dtype: int32\n",
      "----------------------------------------\n",
      "a    61\n",
      "b    70\n",
      "c    44\n",
      "d    55\n",
      "e    82\n",
      "dtype: int32\n",
      "----------------------------------------\n",
      "a    57\n",
      "b    66\n",
      "c    40\n",
      "d    51\n",
      "e    78\n",
      "dtype: int32\n",
      "----------------------------------------\n",
      "a    29.5\n",
      "b    34.0\n",
      "c    21.0\n",
      "d    26.5\n",
      "e    40.0\n",
      "dtype: float64\n",
      "----------------------------------------\n"
     ]
    }
   ],
   "source": [
    "import numpy as np\n",
    "data=np.array([59, 68, 42, 53, 80])\n",
    "s = pd.Series(data, index=[\"a\", \"b\", \"c\", \"d\", \"e\"])\n",
    "# multiplication\n",
    "print(s*2)\n",
    "print('-'*40)\n",
    "# addition\n",
    "print(s+2)\n",
    "print('-'*40)\n",
    "# subtraction\n",
    "print(s-2)\n",
    "print('-'*40)\n",
    "# division\n",
    "print(s/2)\n",
    "print('-'*40)"
   ]
  },
  {
   "cell_type": "markdown",
   "metadata": {
    "id": "4Ni32vlyVZ-9"
   },
   "source": [
    "## Series to series"
   ]
  },
  {
   "cell_type": "code",
   "execution_count": 13,
   "metadata": {
    "id": "ty2vRPx1UEWL"
   },
   "outputs": [
    {
     "name": "stdout",
     "output_type": "stream",
     "text": [
      "a    59\n",
      "b    68\n",
      "c    42\n",
      "d    53\n",
      "e    80\n",
      "dtype: int32\n",
      "----------------------------------------\n",
      "a    49\n",
      "b    58\n",
      "c    32\n",
      "d    43\n",
      "e    70\n",
      "dtype: int32\n",
      "----------------------------------------\n",
      "a    2891\n",
      "b    3944\n",
      "c    1344\n",
      "d    2279\n",
      "e    5600\n",
      "dtype: int32\n",
      "----------------------------------------\n",
      "a    108\n",
      "b    126\n",
      "c     74\n",
      "d     96\n",
      "e    150\n",
      "dtype: int32\n",
      "----------------------------------------\n",
      "a    10\n",
      "b    10\n",
      "c    10\n",
      "d    10\n",
      "e    10\n",
      "dtype: int32\n",
      "----------------------------------------\n",
      "a    1.204082\n",
      "b    1.172414\n",
      "c    1.312500\n",
      "d    1.232558\n",
      "e    1.142857\n",
      "dtype: float64\n"
     ]
    }
   ],
   "source": [
    "import numpy as np\n",
    "s1 = pd.Series(np.array([59, 68, 42, 53, 80]), index=[\"a\", \"b\", \"c\", \"d\", \"e\"])\n",
    "s2 = pd.Series(np.array([49, 58, 32, 43, 70]), index=[\"a\", \"b\", \"c\", \"d\", \"e\"])\n",
    "\n",
    "print(s1)\n",
    "print('-'*40)\n",
    "print(s2)\n",
    "print('-'*40)\n",
    "# multiplication\n",
    "print(s1*s2)\n",
    "print('-'*40)\n",
    "# addition\n",
    "print(s1+s2)\n",
    "print('-'*40)\n",
    "# subtraction\n",
    "print(s1-s2)\n",
    "print('-'*40)\n",
    "# division\n",
    "print(s1/s2)\n"
   ]
  },
  {
   "cell_type": "markdown",
   "metadata": {
    "id": "X76E8ppQV2_O"
   },
   "source": [
    "## Series length is not same"
   ]
  },
  {
   "cell_type": "code",
   "execution_count": 14,
   "metadata": {
    "id": "jRywAwPlVGID"
   },
   "outputs": [
    {
     "name": "stdout",
     "output_type": "stream",
     "text": [
      "a    59\n",
      "b    68\n",
      "c    42\n",
      "dtype: int32\n",
      "----------------------------------------\n",
      "a    49\n",
      "b    58\n",
      "c    32\n",
      "d    43\n",
      "e    70\n",
      "dtype: int32\n",
      "----------------------------------------\n",
      "a    2891.0\n",
      "b    3944.0\n",
      "c    1344.0\n",
      "d       NaN\n",
      "e       NaN\n",
      "dtype: float64\n",
      "----------------------------------------\n",
      "a    108.0\n",
      "b    126.0\n",
      "c     74.0\n",
      "d      NaN\n",
      "e      NaN\n",
      "dtype: float64\n",
      "----------------------------------------\n",
      "a    10.0\n",
      "b    10.0\n",
      "c    10.0\n",
      "d     NaN\n",
      "e     NaN\n",
      "dtype: float64\n",
      "----------------------------------------\n",
      "a    1.204082\n",
      "b    1.172414\n",
      "c    1.312500\n",
      "d         NaN\n",
      "e         NaN\n",
      "dtype: float64\n"
     ]
    }
   ],
   "source": [
    "import numpy as np\n",
    "s1 = pd.Series(np.array([59, 68, 42]), index=[\"a\", \"b\", \"c\"])\n",
    "s2 = pd.Series(np.array([49, 58, 32, 43, 70]), index=[\"a\", \"b\", \"c\", \"d\", \"e\"])\n",
    "print(s1)\n",
    "print('-'*40)\n",
    "print(s2)\n",
    "print('-'*40)\n",
    "# multiplication\n",
    "print(s1*s2)\n",
    "print('-'*40)\n",
    "# addition\n",
    "print(s1+s2)\n",
    "print('-'*40)\n",
    "# subtraction\n",
    "print(s1-s2)\n",
    "print('-'*40)\n",
    "# division\n",
    "print(s1/s2)"
   ]
  },
  {
   "cell_type": "markdown",
   "metadata": {
    "id": "uY9TWLlBbDks"
   },
   "source": [
    "## Exercise\n",
    "Write a Pandas program to add, subtract, multiple and divide two Pandas Series\n",
    "\n",
    "Sample Series: [2, 4, 6, 8, 10], [1, 3, 5, 7, 9]"
   ]
  },
  {
   "cell_type": "code",
   "execution_count": 28,
   "metadata": {
    "id": "kKkgJRp-bcuF"
   },
   "outputs": [
    {
     "name": "stdout",
     "output_type": "stream",
     "text": [
      "a     2\n",
      "b     4\n",
      "c     6\n",
      "d     8\n",
      "e    10\n",
      "dtype: int32\n",
      "----------------------------------------\n",
      "a    1\n",
      "b    3\n",
      "c    5\n",
      "d    7\n",
      "e    9\n",
      "dtype: int32\n",
      "----------------------------------------\n",
      "a     2\n",
      "b    12\n",
      "c    30\n",
      "d    56\n",
      "e    90\n",
      "dtype: int32\n",
      "----------------------------------------\n",
      "a     3\n",
      "b     7\n",
      "c    11\n",
      "d    15\n",
      "e    19\n",
      "dtype: int32\n",
      "----------------------------------------\n",
      "a    1\n",
      "b    1\n",
      "c    1\n",
      "d    1\n",
      "e    1\n",
      "dtype: int32\n",
      "----------------------------------------\n",
      "a    2.000000\n",
      "b    1.333333\n",
      "c    1.200000\n",
      "d    1.142857\n",
      "e    1.111111\n",
      "dtype: float64\n"
     ]
    }
   ],
   "source": [
    "import numpy as np\n",
    "s1 = pd.Series(np.array([2, 4, 6, 8, 10]), index=[\"a\", \"b\", \"c\", \"d\", \"e\"])\n",
    "s2 = pd.Series(np.array([1, 3, 5, 7, 9]), index=[\"a\", \"b\", \"c\", \"d\", \"e\"])\n",
    "\n",
    "print(s1)\n",
    "print('-'*40)\n",
    "print(s2)\n",
    "print('-'*40)\n",
    "# multiplication\n",
    "print(s1*s2)\n",
    "print('-'*40)\n",
    "# addition\n",
    "print(s1+s2)\n",
    "print('-'*40)\n",
    "# subtraction\n",
    "print(s1-s2)\n",
    "print('-'*40)\n",
    "# division\n",
    "print(s1/s2)\n"
   ]
  },
  {
   "cell_type": "markdown",
   "metadata": {
    "id": "CXNDS3oZbSk3"
   },
   "source": [
    "## Exercise\n",
    "Write a Pandas program to compare the elements of the two Pandas Series. \n",
    "\n",
    "Sample Series: [2, 4, 6, 8, 10], [1, 3, 5, 7, 10]"
   ]
  },
  {
   "cell_type": "code",
   "execution_count": 15,
   "metadata": {
    "id": "lnGbXgiMbZPw"
   },
   "outputs": [
    {
     "name": "stdout",
     "output_type": "stream",
     "text": [
      "Series1:\n",
      "0     2\n",
      "1     4\n",
      "2     6\n",
      "3     8\n",
      "4    10\n",
      "dtype: int64\n",
      "Series2:\n",
      "0     1\n",
      "1     3\n",
      "2     5\n",
      "3     7\n",
      "4    10\n",
      "dtype: int64\n",
      "Compare the elements of the said Series:\n",
      "Equals:\n",
      "0    False\n",
      "1    False\n",
      "2    False\n",
      "3    False\n",
      "4     True\n",
      "dtype: bool\n",
      "Greater than:\n",
      "0     True\n",
      "1     True\n",
      "2     True\n",
      "3     True\n",
      "4    False\n",
      "dtype: bool\n",
      "Less than:\n",
      "0    False\n",
      "1    False\n",
      "2    False\n",
      "3    False\n",
      "4    False\n",
      "dtype: bool\n"
     ]
    }
   ],
   "source": [
    "import pandas as pd\n",
    "ds1 = pd.Series([2, 4, 6, 8, 10])\n",
    "ds2 = pd.Series([1, 3, 5, 7, 10])\n",
    "print(\"Series1:\")\n",
    "print(ds1)\n",
    "print(\"Series2:\")\n",
    "print(ds2)\n",
    "print(\"Compare the elements of the said Series:\")\n",
    "print(\"Equals:\")\n",
    "print(ds1 == ds2)\n",
    "print(\"Greater than:\")\n",
    "print(ds1 > ds2)\n",
    "print(\"Less than:\")\n",
    "print(ds1 < ds2)\n"
   ]
  },
  {
   "cell_type": "markdown",
   "metadata": {
    "id": "eN8gUl_5WF5b"
   },
   "source": [
    "# Series Ranking and Sorting\n",
    "* The rank() method, by default, returns the ranking in ascending order ."
   ]
  },
  {
   "cell_type": "code",
   "execution_count": 16,
   "metadata": {
    "id": "pJ_beg-5V9Hi"
   },
   "outputs": [
    {
     "name": "stdout",
     "output_type": "stream",
     "text": [
      "a    3.0\n",
      "b    4.0\n",
      "c    1.0\n",
      "d    2.0\n",
      "e    5.0\n",
      "dtype: float64\n"
     ]
    }
   ],
   "source": [
    "s2 = pd.Series(np.array([49, 58, 32, 43, 70]), index=[\"a\", \"b\", \"c\", \"d\", \"e\"])\n",
    "print(s2.rank())"
   ]
  },
  {
   "cell_type": "markdown",
   "metadata": {
    "id": "P9XGjMqtWi7M"
   },
   "source": [
    "### sort_values()"
   ]
  },
  {
   "cell_type": "code",
   "execution_count": 17,
   "metadata": {
    "id": "S_E7C9hMWO8i"
   },
   "outputs": [
    {
     "name": "stdout",
     "output_type": "stream",
     "text": [
      "c    32\n",
      "d    43\n",
      "a    49\n",
      "b    58\n",
      "e    70\n",
      "dtype: int32\n"
     ]
    }
   ],
   "source": [
    "s2 = pd.Series(np.array([49, 58, 32, 43, 70]), index=[\"a\", \"b\", \"c\", \"d\", \"e\"])\n",
    "print(s2.sort_values(ascending=True, na_position='last'))"
   ]
  },
  {
   "cell_type": "markdown",
   "metadata": {
    "id": "Y0-59hyfXQMY"
   },
   "source": [
    "## descending order"
   ]
  },
  {
   "cell_type": "code",
   "execution_count": 18,
   "metadata": {
    "id": "X9Sdqv30XA47"
   },
   "outputs": [
    {
     "name": "stdout",
     "output_type": "stream",
     "text": [
      "e    70\n",
      "b    58\n",
      "a    49\n",
      "d    43\n",
      "c    32\n",
      "dtype: int32\n"
     ]
    }
   ],
   "source": [
    "s2 = pd.Series(np.array([49, 58, 32, 43, 70]), index=[\"a\", \"b\", \"c\", \"d\", \"e\"])\n",
    "print(s2.sort_values(ascending=False, na_position='first'))"
   ]
  },
  {
   "cell_type": "markdown",
   "metadata": {
    "id": "WkBo4FSgW9Dk"
   },
   "source": [
    "## with nan value"
   ]
  },
  {
   "cell_type": "code",
   "execution_count": 19,
   "metadata": {
    "id": "RzEtc4z8Wpq1",
    "scrolled": true
   },
   "outputs": [
    {
     "name": "stdout",
     "output_type": "stream",
     "text": [
      "d     NaN\n",
      "e     NaN\n",
      "c    32.0\n",
      "a    49.0\n",
      "b    58.0\n",
      "dtype: float64\n"
     ]
    }
   ],
   "source": [
    "s2 = pd.Series(np.array([49, 58, 32, np.nan, np.nan]), index=[\"a\", \"b\", \"c\", \"d\", \"e\"])\n",
    "print(s2.sort_values(ascending=True, na_position='first'))"
   ]
  },
  {
   "cell_type": "markdown",
   "metadata": {
    "id": "ve3cORSEXZbp"
   },
   "source": [
    "## sorting index"
   ]
  },
  {
   "cell_type": "code",
   "execution_count": 20,
   "metadata": {
    "id": "c2WhaGBMXiOm"
   },
   "outputs": [
    {
     "name": "stdout",
     "output_type": "stream",
     "text": [
      "e    70\n",
      "d    43\n",
      "c    32\n",
      "b    58\n",
      "a    49\n",
      "dtype: int32\n"
     ]
    }
   ],
   "source": [
    "s2 = pd.Series(np.array([49, 58, 32, 43, 70]), index=[\"a\", \"b\", \"c\", \"d\", \"e\"])\n",
    "print(s2.sort_index(ascending=False))"
   ]
  },
  {
   "cell_type": "markdown",
   "metadata": {
    "id": "7IclEOrkXw5T"
   },
   "source": [
    "# Checking Null Values\n",
    "* The isnull() method returns the boolean output indicating the presence of null values\n",
    "* ‘True’ value indicates that the corresponding value is null"
   ]
  },
  {
   "cell_type": "code",
   "execution_count": 21,
   "metadata": {
    "colab": {
     "base_uri": "https://localhost:8080/"
    },
    "id": "ziiyZ7lcXpgL",
    "outputId": "6c5ce8c3-789e-4673-c89a-3e2b8ad5dbdf"
   },
   "outputs": [
    {
     "name": "stdout",
     "output_type": "stream",
     "text": [
      "a    False\n",
      "b    False\n",
      "c    False\n",
      "d     True\n",
      "e     True\n",
      "dtype: bool\n"
     ]
    }
   ],
   "source": [
    "s2 = pd.Series(np.array([49, 58, 32, np.nan, np.nan]), index=[\"a\", \"b\", \"c\", \"d\", \"e\"])\n",
    "print(s2.isnull())"
   ]
  },
  {
   "cell_type": "markdown",
   "metadata": {
    "id": "-Ock3VIMYEEU"
   },
   "source": [
    "* The notnull() method returns the boolean output indicating the presence of non-null values\n",
    "* ‘False’ in the output indicates that the corresponding value is null"
   ]
  },
  {
   "cell_type": "code",
   "execution_count": 22,
   "metadata": {
    "colab": {
     "base_uri": "https://localhost:8080/"
    },
    "id": "vZ0DDZaXX5rD",
    "outputId": "1aa6fd45-43e6-4e0c-f55f-7469e2bdb028"
   },
   "outputs": [
    {
     "name": "stdout",
     "output_type": "stream",
     "text": [
      "a     True\n",
      "b     True\n",
      "c     True\n",
      "d    False\n",
      "e    False\n",
      "dtype: bool\n"
     ]
    }
   ],
   "source": [
    "s2 = pd.Series(np.array([49, 58, 32, np.nan, np.nan]), index=[\"a\", \"b\", \"c\", \"d\", \"e\"])\n",
    "print(s2.notnull())"
   ]
  },
  {
   "cell_type": "markdown",
   "metadata": {
    "id": "oVJDRRCcYNY7"
   },
   "source": [
    "## Exercise\n",
    "Changing null values to zero\n",
    "\n",
    "[49, 58, 32, np.nan, np.nan]\n",
    "\n",
    "[49, 58, 32, 0, 0]"
   ]
  },
  {
   "cell_type": "code",
   "execution_count": 23,
   "metadata": {
    "colab": {
     "base_uri": "https://localhost:8080/"
    },
    "id": "T8ibLuHjYK4s",
    "outputId": "59d4ff7b-9e5b-421b-f70a-1155749a529e"
   },
   "outputs": [
    {
     "name": "stdout",
     "output_type": "stream",
     "text": [
      "0    49.0\n",
      "1    58.0\n",
      "2    32.0\n",
      "3     0.0\n",
      "4     0.0\n",
      "dtype: float64\n"
     ]
    }
   ],
   "source": [
    "s2 = pd.Series(np.array([49, 58, 32, np.nan, np.nan]))\n",
    "s2[s2.isnull()]=0\n",
    "print(s2)"
   ]
  },
  {
   "cell_type": "markdown",
   "metadata": {
    "id": "_vGay7bwYfcH"
   },
   "source": [
    "# Append a Series\n",
    "* The append() methods are used to append a series\n",
    "* Creates a new series by appending a series with another series"
   ]
  },
  {
   "cell_type": "markdown",
   "metadata": {
    "id": "ReYujyAwZHeQ"
   },
   "source": [
    "### append()"
   ]
  },
  {
   "cell_type": "code",
   "execution_count": 30,
   "metadata": {
    "id": "g1OuCejSYae8"
   },
   "outputs": [
    {
     "name": "stdout",
     "output_type": "stream",
     "text": [
      "a    59\n",
      "b    68\n",
      "c    42\n",
      "d    53\n",
      "e    80\n",
      "a    49\n",
      "b    58\n",
      "c    32\n",
      "d    43\n",
      "e    70\n",
      "dtype: int32\n",
      "a    59\n",
      "b    68\n",
      "c    42\n",
      "d    53\n",
      "e    80\n",
      "dtype: int32\n",
      "a    49\n",
      "b    58\n",
      "c    32\n",
      "d    43\n",
      "e    70\n",
      "dtype: int32\n"
     ]
    },
    {
     "name": "stderr",
     "output_type": "stream",
     "text": [
      "C:\\Users\\vwadhawan\\AppData\\Local\\Temp\\ipykernel_19192\\1038080444.py:4: FutureWarning: The series.append method is deprecated and will be removed from pandas in a future version. Use pandas.concat instead.\n",
      "  print(s1.append(s2))\n"
     ]
    }
   ],
   "source": [
    "s1 = pd.Series(np.array([59, 68, 42, 53, 80]), index=[\"a\", \"b\", \"c\", \"d\", \"e\"])\n",
    "s2 = pd.Series(np.array([49, 58, 32, 43, 70]), index=[\"a\", \"b\", \"c\", \"d\", \"e\"])\n",
    "\n",
    "print(s1.append(s2))\n",
    "print (s1)\n",
    "print(s2)"
   ]
  },
  {
   "cell_type": "markdown",
   "metadata": {},
   "source": [
    "## Concat"
   ]
  },
  {
   "cell_type": "code",
   "execution_count": 32,
   "metadata": {
    "scrolled": true
   },
   "outputs": [
    {
     "name": "stdout",
     "output_type": "stream",
     "text": [
      "a    59\n",
      "b    68\n",
      "c    42\n",
      "d    53\n",
      "e    80\n",
      "a    49\n",
      "b    58\n",
      "c    32\n",
      "d    43\n",
      "e    70\n",
      "dtype: int32\n",
      "a    59\n",
      "b    68\n",
      "c    42\n",
      "d    53\n",
      "e    80\n",
      "dtype: int32\n",
      "a    49\n",
      "b    58\n",
      "c    32\n",
      "d    43\n",
      "e    70\n",
      "dtype: int32\n"
     ]
    }
   ],
   "source": [
    "s1 = pd.Series(np.array([59, 68, 42, 53, 80]), index=[\"a\", \"b\", \"c\", \"d\", \"e\"])\n",
    "s2 = pd.Series(np.array([49, 58, 32, 43, 70]), index=[\"a\", \"b\", \"c\", \"d\", \"e\"])\n",
    "\n",
    "print(pd.concat([s1, s2]))\n",
    "print (s1)\n",
    "print(s2)"
   ]
  },
  {
   "cell_type": "markdown",
   "metadata": {
    "id": "KvEq2GbTZKsn"
   },
   "source": [
    "### ignore index\n",
    "* Ignores the index labels of original series"
   ]
  },
  {
   "cell_type": "code",
   "execution_count": 33,
   "metadata": {
    "id": "qYmIUb3KY5q1"
   },
   "outputs": [
    {
     "data": {
      "text/plain": [
       "0    59\n",
       "1    68\n",
       "2    42\n",
       "3    53\n",
       "4    80\n",
       "5    49\n",
       "6    58\n",
       "7    32\n",
       "8    43\n",
       "9    70\n",
       "dtype: int32"
      ]
     },
     "execution_count": 33,
     "metadata": {},
     "output_type": "execute_result"
    }
   ],
   "source": [
    "s1 = pd.Series(np.array([59, 68, 42, 53, 80]), index=[\"a\", \"b\", \"c\", \"d\", \"e\"])\n",
    "s2 = pd.Series(np.array([49, 58, 32, 43, 70]), index=[\"a\", \"b\", \"c\", \"d\", \"e\"])\n",
    "\n",
    "pd.concat([s1,s2],ignore_index=True)"
   ]
  },
  {
   "cell_type": "markdown",
   "metadata": {
    "id": "OCL0SvbKb_YI"
   },
   "source": [
    "## Exercise\n",
    "Write a Pandas program to add some data to an existing Series.\n",
    "\n",
    "original series : ['100', '200', 'python', '300.12', '400']\n",
    "\n",
    "append : ['500', 'php']\n"
   ]
  },
  {
   "cell_type": "code",
   "execution_count": 42,
   "metadata": {
    "id": "ntC3rOPsZ01V"
   },
   "outputs": [
    {
     "name": "stdout",
     "output_type": "stream",
     "text": [
      "Original Data Series:\n",
      "0       100\n",
      "1       200\n",
      "2    python\n",
      "3    300.12\n",
      "4       400\n",
      "dtype: object\n",
      "\n",
      "Additional Data Deries:\n",
      "0    500\n",
      "1    php\n",
      "dtype: object\n",
      "\n",
      "Data Series after adding concat:\n",
      "0       100\n",
      "1       200\n",
      "2    python\n",
      "3    300.12\n",
      "4       400\n",
      "0       500\n",
      "1       php\n",
      "dtype: object\n"
     ]
    }
   ],
   "source": [
    "import pandas as pd\n",
    "s = pd.Series(['100', '200', 'python', '300.12', '400'])\n",
    "print(\"Original Data Series:\")\n",
    "print(s)\n",
    "t =  pd.Series(['500', 'php'])\n",
    "print(\"\\nAdditional Data Deries:\")\n",
    "print(t)\n",
    "new_s = pd.concat([s,t])\n",
    "print(\"\\nData Series after adding concat:\")\n",
    "print(new_s)\n"
   ]
  }
 ],
 "metadata": {
  "colab": {
   "collapsed_sections": [
    "nc9dEKPDciCc",
    "eN8gUl_5WF5b",
    "oVJDRRCcYNY7",
    "OCL0SvbKb_YI"
   ],
   "provenance": []
  },
  "kernelspec": {
   "display_name": "Python 3 (ipykernel)",
   "language": "python",
   "name": "python3"
  },
  "language_info": {
   "codemirror_mode": {
    "name": "ipython",
    "version": 3
   },
   "file_extension": ".py",
   "mimetype": "text/x-python",
   "name": "python",
   "nbconvert_exporter": "python",
   "pygments_lexer": "ipython3",
   "version": "3.9.13"
  }
 },
 "nbformat": 4,
 "nbformat_minor": 1
}
