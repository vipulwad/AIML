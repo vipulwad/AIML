{
  "nbformat": 4,
  "nbformat_minor": 0,
  "metadata": {
    "colab": {
      "provenance": []
    },
    "kernelspec": {
      "name": "python3",
      "display_name": "Python 3"
    },
    "language_info": {
      "name": "python"
    }
  },
  "cells": [
    {
      "cell_type": "markdown",
      "source": [
        "# Error and Exception in Python\n",
        "* Error in Python can be of two types i.e. Syntax errors and Exceptions. Errors are problems in a program due to which the program will stop the execution. On the other hand, exceptions are raised when some internal events occur which change the normal flow of the program. "
      ],
      "metadata": {
        "id": "gNg5t1o7AkjI"
      }
    },
    {
      "cell_type": "markdown",
      "source": [
        "# Difference between Syntax Error and Exceptions\n",
        "* Syntax Error: As the name suggests this error is caused by the wrong syntax in the code. It leads to the termination of the program. \n",
        "* Exceptions: Exceptions are raised when the program is syntactically correct, but the code results in an error. This error does not stop the execution of the program, however, it changes the normal flow of the program."
      ],
      "metadata": {
        "id": "ramxNyxhA0nx"
      }
    },
    {
      "cell_type": "code",
      "execution_count": null,
      "metadata": {
        "id": "3meRgaRaASTO"
      },
      "outputs": [],
      "source": [
        "# syntax error\n",
        "amount = 10000\n",
        "\n",
        "if(amount > 2999)\n",
        "print(\"You are eligible to purchase Dsa Self Paced"
      ]
    },
    {
      "cell_type": "code",
      "source": [
        "# Exeption\n",
        "# initialize the amount variable\n",
        "marks = 10000\n",
        "\n",
        "# perform division with 0\n",
        "a = marks / 0\n",
        "print(a)\n"
      ],
      "metadata": {
        "id": "ryqWsfsPA9nC"
      },
      "execution_count": null,
      "outputs": []
    },
    {
      "cell_type": "markdown",
      "source": [
        "# Different types of exceptions in python:\n",
        "In Python, there are several built-in exceptions that can be raised when an error occurs during the execution of a program. Here are some of the most common types of exceptions in Python:\n",
        "\n",
        "\n",
        "* SyntaxError: This exception is raised when the interpreter encounters a syntax error in the code, such as a misspelled keyword, a missing colon, or an unbalanced parenthesis.\n",
        "* TypeError: This exception is raised when an operation or function is applied to an object of the wrong type, such as adding a string to an integer.\n",
        "* NameError: This exception is raised when a variable or function name is not found in the current scope.\n",
        "* IndexError: This exception is raised when an index is out of range for a list, tuple, or other sequence types.\n",
        "* KeyError: This exception is raised when a key is not found in a dictionary.\n",
        "* ValueError: This exception is raised when a function or method is called with an invalid argument or input, such as trying to convert a string to an integer when the string does not represent a valid integer.\n",
        "* AttributeError: This exception is raised when an attribute or method is not found on an object, such as trying to access a non-existent attribute of a class instance.\n",
        "* IOError: This exception is raised when an I/O operation, such as reading or writing a file, fails due to an input/output error.\n",
        "* ZeroDivisionError: This exception is raised when an attempt is made to divide a number by zero.\n",
        "* ImportError: This exception is raised when an import statement fails to find or load a module."
      ],
      "metadata": {
        "id": "VfW94rwHBWqL"
      }
    },
    {
      "cell_type": "markdown",
      "source": [
        "# Type Error"
      ],
      "metadata": {
        "id": "FaJg7XWJBsH0"
      }
    },
    {
      "cell_type": "code",
      "source": [
        "x = 5\n",
        "y = \"hello\"\n",
        "z = x + y # Raises a TypeError: unsupported operand type(s) for +: 'int' and 'str'\n",
        "print('Working after exception')\n"
      ],
      "metadata": {
        "id": "QZve3pTuBLPz"
      },
      "execution_count": null,
      "outputs": []
    },
    {
      "cell_type": "markdown",
      "source": [
        "# Handling Exceptions with Try and Except Statement\n",
        "```\n",
        "try:\n",
        "    # code that may cause exception\n",
        "except:\n",
        "    # code to run when exception occurs\n",
        "```\n"
      ],
      "metadata": {
        "id": "UmLNMTg6B0fE"
      }
    },
    {
      "cell_type": "code",
      "source": [
        "x = 5\n",
        "y = \"hello\"\n",
        "try:\n",
        "  z = x + y # Raises a TypeError: unsupported operand type(s) for +: 'int' and 'str'\n",
        "except:\n",
        "  print('Error: Please use both operand as int')"
      ],
      "metadata": {
        "id": "qgSKxI2kBuQd"
      },
      "execution_count": null,
      "outputs": []
    },
    {
      "cell_type": "code",
      "source": [
        "try:\n",
        "    numerator = 10\n",
        "    denominator = 0\n",
        "\n",
        "    result = numerator/denominator\n",
        "\n",
        "    print(result)\n",
        "except:\n",
        "    print(\"Error: Denominator cannot be 0.\")\n",
        "\n",
        "print('Working after exception')\n",
        "\n"
      ],
      "metadata": {
        "id": "NA2v5x8DCU5X"
      },
      "execution_count": null,
      "outputs": []
    },
    {
      "cell_type": "markdown",
      "source": [
        "## Exercise\n",
        "Write a Python program that inputs a integer number and generates an error message if it is not a number.\n",
        "\n"
      ],
      "metadata": {
        "id": "WctQTlHGR_BA"
      }
    },
    {
      "cell_type": "code",
      "source": [
        "while True:\n",
        "    try:\n",
        "        a = int(input(\"Input a number: \"))\n",
        "        break\n",
        "    except ValueError:\n",
        "        print(\"\\nThis is not a integer number. Try again...\")\n",
        "        print()\n",
        "\t\t"
      ],
      "metadata": {
        "id": "CvtWSE0cSBwY"
      },
      "execution_count": null,
      "outputs": []
    },
    {
      "cell_type": "markdown",
      "source": [
        "# Catching Specific Exception \n",
        "* For each try block, there can be zero or more except blocks. Multiple except blocks allow us to handle each exception differently.\n",
        "\n",
        "* The argument type of each except block indicates the type of exception that can be handled by it. "
      ],
      "metadata": {
        "id": "yNPbqVZiCvho"
      }
    },
    {
      "cell_type": "code",
      "source": [
        "try:\n",
        "    \n",
        "    even_numbers = [2,4,6,8]\n",
        "    print(even_numbers[6])\n",
        "    print(10/0)\n",
        "except ZeroDivisionError:\n",
        "    print(\"Denominator cannot be 0.\")\n",
        "    \n",
        "except IndexError:\n",
        "    print(\"Index Out of Bound.\")"
      ],
      "metadata": {
        "id": "fmlF0ZTDCdGn"
      },
      "execution_count": null,
      "outputs": []
    },
    {
      "cell_type": "markdown",
      "source": [
        "# Python try with else clause\n",
        "* In some situations, we might want to run a certain block of code if the code block inside try runs without any errors.\n",
        "\n",
        "* For these cases, you can use the optional else keyword with the try statement."
      ],
      "metadata": {
        "id": "5T5f2nYJDUgA"
      }
    },
    {
      "cell_type": "code",
      "source": [
        "# program to print the reciprocal of even numbers\n",
        "\n",
        "try:\n",
        "    num = int(input(\"Enter a number: \"))\n",
        "    assert num % 2 == 0\n",
        "except:\n",
        "    print(\"Not an even number!\")\n",
        "else:\n",
        "    reciprocal = 1/num\n",
        "    print(reciprocal)"
      ],
      "metadata": {
        "colab": {
          "base_uri": "https://localhost:8080/"
        },
        "id": "kfOoQs9RC53g",
        "outputId": "2999d55b-08f2-45c7-bb17-f19709b08f81"
      },
      "execution_count": null,
      "outputs": [
        {
          "output_type": "stream",
          "name": "stdout",
          "text": [
            "Enter a number: 3\n",
            "Not an even number!\n"
          ]
        }
      ]
    },
    {
      "cell_type": "markdown",
      "source": [
        "# Finally Keyword in Python\n",
        "* In Python, the finally block is always executed no matter whether there is an exception or not.\n",
        "\n",
        "* The finally block is optional. And, for each try block, there can be only one finally block."
      ],
      "metadata": {
        "id": "i1WFYy6AD1qD"
      }
    },
    {
      "cell_type": "code",
      "source": [
        "try:\n",
        "    numerator = 10\n",
        "    denominator = 0\n",
        "\n",
        "    result = numerator/denominator\n",
        "\n",
        "    print(result)\n",
        "except:\n",
        "    print(\"Error: Denominator cannot be 0.\")\n",
        "    \n",
        "finally:\n",
        "    print(\"This is finally block.\")"
      ],
      "metadata": {
        "id": "rp72KVJnDjxb"
      },
      "execution_count": null,
      "outputs": []
    },
    {
      "cell_type": "markdown",
      "source": [
        "# Advantages of Exception Handling:\n",
        "* Improved program reliability: By handling exceptions properly, you can prevent your program from crashing or producing incorrect results due to unexpected errors or input.\n",
        "* Simplified error handling: Exception handling allows you to separate error handling code from the main program logic, making it easier to read and maintain your code.\n",
        "* Cleaner code: With exception handling, you can avoid using complex conditional statements to check for errors, leading to cleaner and more readable code.\n",
        "* Easier debugging: When an exception is raised, the Python interpreter prints a traceback that shows the exact location where the exception occurred, making it easier to debug your code.\n"
      ],
      "metadata": {
        "id": "BaeDI8r4ENGD"
      }
    },
    {
      "cell_type": "markdown",
      "source": [
        "# Disadvantages of Exception Handling:\n",
        "* Performance overhead: Exception handling can be slower than using conditional statements to check for errors, as the interpreter has to perform additional work to catch and handle the exception.\n",
        "* Increased code complexity: Exception handling can make your code more complex, especially if you have to handle multiple types of exceptions or implement complex error handling logic.\n",
        "* Possible security risks: Improperly handled exceptions can potentially reveal sensitive information or create security vulnerabilities in your code, so it’s important to handle exceptions carefully and avoid exposing too much information about your program."
      ],
      "metadata": {
        "id": "-5Wh2327EWGj"
      }
    },
    {
      "cell_type": "markdown",
      "source": [
        "# Python Custom Exceptions\n",
        "* In Python, we can define custom exceptions by creating a new class that is derived from the built-in Exception class.\n",
        "\n",
        "```\n",
        "class CustomError(Exception):\n",
        "    ...\n",
        "    pass\n",
        "\n",
        "try:\n",
        "   ...\n",
        "\n",
        "except CustomError:\n",
        "    ...\n",
        "\n",
        "```\n",
        "\n"
      ],
      "metadata": {
        "id": "uQeelNWvReAA"
      }
    },
    {
      "cell_type": "code",
      "source": [
        "# define Python user-defined exceptions\n",
        "class InvalidAgeException(Exception):\n",
        "    \"Raised when the input value is less than 18\"\n",
        "    pass\n",
        "\n",
        "# you need to guess this number\n",
        "number = 18\n",
        "\n",
        "try:\n",
        "    input_num = int(input(\"Enter a number: \"))\n",
        "    if input_num < number:\n",
        "        raise InvalidAgeException\n",
        "    else:\n",
        "        print(\"Eligible to Vote\")\n",
        "        \n",
        "except InvalidAgeException:\n",
        "    print(\"Exception occurred: Invalid Age\")"
      ],
      "metadata": {
        "id": "kilpJDRDRovJ"
      },
      "execution_count": null,
      "outputs": []
    }
  ]
}