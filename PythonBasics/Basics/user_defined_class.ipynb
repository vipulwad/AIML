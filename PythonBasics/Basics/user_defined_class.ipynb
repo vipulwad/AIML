{
 "cells": [
  {
   "cell_type": "markdown",
   "metadata": {
    "id": "x3LOLZ41BMj_"
   },
   "source": [
    "# Contents\n",
    "* Class defination syntax\n",
    "* Class with method and variable together\n",
    "* Inheritance\n",
    "\n"
   ]
  },
  {
   "cell_type": "markdown",
   "metadata": {
    "id": "icCT8YT7Jn3L"
   },
   "source": [
    "# User defined class\n",
    "* Classes provide a means of bundling data and functionality together.\n",
    "* A class is a user-defined blueprint or prototype from which objects are created.\n",
    "* **Objects** : An object is called an instance of a class. For example, suppose Bike is a class then we can create objects like bike1, bike2, etc from the class\n"
   ]
  },
  {
   "cell_type": "code",
   "execution_count": null,
   "metadata": {
    "id": "NCA0WedsX-ul"
   },
   "outputs": [],
   "source": [
    "# create class\n",
    "class Bike:\n",
    "    name = \"\"\n",
    "    gear = 0\n",
    "\n",
    "# create objects of class\n",
    "bike1 = Bike()"
   ]
  },
  {
   "cell_type": "markdown",
   "metadata": {
    "id": "RwiSUJx9YA8s"
   },
   "source": [
    "### Access Class Attributes Using Objects"
   ]
  },
  {
   "cell_type": "code",
   "execution_count": null,
   "metadata": {
    "id": "azpfT1ANJjZ0"
   },
   "outputs": [],
   "source": [
    "# create a class\n",
    "class MyClass:\n",
    "  x = 5\n",
    "  \n",
    "x=10\n",
    "\n",
    "p1 = MyClass()\n",
    "print(p1.x)\n",
    "p2 = MyClass()\n",
    "print(p2.x)\n",
    "print(x)"
   ]
  },
  {
   "cell_type": "markdown",
   "metadata": {
    "id": "BdRdOu0NZtcV"
   },
   "source": [
    "## Exercise 1\n",
    "* Create a class dog with two variable age and breed.\n",
    "* Create Dog1 object\n",
    "* Display Dog1's breed and age\n"
   ]
  },
  {
   "cell_type": "code",
   "execution_count": null,
   "metadata": {
    "id": "0domF7POaOnN"
   },
   "outputs": [],
   "source": [
    "class Dog:\n",
    " \n",
    "    # A simple class\n",
    "    # attribute\n",
    "    breed = \"labrador\"\n",
    "    age = 5\n",
    "\n",
    "Dog1=Dog()\n",
    "\n",
    "\n",
    "print(Dog1.breed)\n",
    "print(Dog1.age)"
   ]
  },
  {
   "cell_type": "markdown",
   "metadata": {
    "id": "MUu4AUlkOhtA"
   },
   "source": [
    "## Class with method and variable together\n",
    "* We can also define a function inside a Python class. A Python Function defined inside a class is called a method.\n",
    "* By default each method inside a class takes instance as default argument."
   ]
  },
  {
   "cell_type": "code",
   "execution_count": null,
   "metadata": {
    "id": "UC-0Cm59Xiu9"
   },
   "outputs": [],
   "source": [
    "\n",
    "class MyClass:\n",
    "  x = 5\n",
    "  def add_number(MyClass,y):\n",
    "    print(MyClass.x+y)\n",
    "\n",
    "x=15 \n",
    "p1 = MyClass()   \n",
    "p1.add_number(3)"
   ]
  },
  {
   "cell_type": "markdown",
   "metadata": {
    "id": "PX42dh8kU6gm"
   },
   "source": [
    "### The self\n",
    "SELF represents the instance of class. This handy keyword allows you to access variables, attributes, and methods of a defined class in Python"
   ]
  },
  {
   "cell_type": "code",
   "execution_count": null,
   "metadata": {
    "id": "T7mp8m4kWO22"
   },
   "outputs": [],
   "source": [
    "# with  self\n",
    "class MyClass:\n",
    "  x = 5\n",
    "  def add_number(self,y):\n",
    "    print(self.x+y)\n",
    "\n",
    "x=15 \n",
    "p1 = MyClass()   \n",
    "p1.add_number(3)"
   ]
  },
  {
   "cell_type": "code",
   "execution_count": null,
   "metadata": {
    "id": "WGoKX1CrWX82"
   },
   "outputs": [],
   "source": [
    "# with out self\n",
    "class MyClass:\n",
    "  x = 5\n",
    "  def add_number():\n",
    "    print('x')\n",
    "\n",
    "x=15 \n",
    "p1 = MyClass()   \n",
    "p1.add_number()"
   ]
  },
  {
   "cell_type": "markdown",
   "metadata": {
    "id": "fTmyE9ngZBF0"
   },
   "source": [
    "# Constructors\n",
    "* Constructors are generally used for instantiating an object. \n",
    "* The task of constructors is to initialize(assign values) to the data members of the class when an object of the class is created. \n",
    "* In Python the __init__() method is called the constructor and is always called when an object is created."
   ]
  },
  {
   "cell_type": "markdown",
   "metadata": {
    "id": "BAkBaARjMmWN"
   },
   "source": [
    "## The \"__init__()\" Function\n",
    "*  the __init__() function to assign values to object properties, or other operations that are necessary to do when the object is being created\n",
    "* self in class: The self parameter is a reference to the current instance of the class, and is used to access variables that belongs to the class."
   ]
  },
  {
   "cell_type": "code",
   "execution_count": null,
   "metadata": {
    "id": "0xuO82dRMUCM"
   },
   "outputs": [],
   "source": [
    "class MyClass:\n",
    "  def __init__(self, x):\n",
    "    self.x = x\n",
    "\n",
    "p1 = MyClass(3)\n",
    "p2 = MyClass(4)\n",
    "print(p1.x)\n",
    "print(p2.x)"
   ]
  },
  {
   "cell_type": "code",
   "execution_count": null,
   "metadata": {
    "id": "WV6wFTHaNiSZ"
   },
   "outputs": [],
   "source": [
    "# multiple value initialization\n",
    "class Person:\n",
    "  def __init__(self, name, age):\n",
    "    self.name = name\n",
    "    self.age = age\n",
    "\n",
    "p1 = Person(\"John\", 36)\n",
    "p2 = Person(\"XYZ\", 63)\n",
    "\n",
    "print(p1.name)\n",
    "print(p1.age)\n",
    "print('----------------------')\n",
    "print(p2.name)\n",
    "print(p2.age)"
   ]
  },
  {
   "cell_type": "code",
   "execution_count": null,
   "metadata": {
    "id": "F0XYFIIwZU8F"
   },
   "outputs": [],
   "source": [
    "class Person:\n",
    "  def __init__(self, name, age):\n",
    "    self.name = name\n",
    "    self.age = age\n",
    "\n",
    "  def displayPerson(self):\n",
    "    print(\"Hello my name is \", self.name, 'and I am ', self.age)\n",
    "\n",
    "p1 = Person(\"John\", 36)\n",
    "p1.displayPerson()\n",
    "\n",
    "\n",
    "p2 = Person(\"ABC\", 56)\n",
    "p2.displayPerson()"
   ]
  },
  {
   "cell_type": "markdown",
   "metadata": {
    "id": "_gA1x1ckZohV"
   },
   "source": [
    "## Exercise 2\n",
    "* Create a class dog with two variable age and breed.\n",
    "* Create Dog1 and Dog2 objects\n",
    "* Display Dog1's breed and age\n",
    "* Display Dog2's breed and age"
   ]
  },
  {
   "cell_type": "code",
   "execution_count": null,
   "metadata": {
    "id": "p7a9Se4Ta9tk"
   },
   "outputs": [],
   "source": [
    "class Dog:\n",
    " \n",
    "    def __init__(self, name, age):\n",
    "      self.breed = name\n",
    "      self.age = age\n",
    "\n",
    "Dog1=Dog('Labrador Retriever', 12)\n",
    "print(Dog1.breed)\n",
    "print(Dog1.age)\n",
    "\n",
    "\n",
    "Dog2=Dog('German Shepherd', 6)\n",
    "print(Dog2.breed)\n",
    "print(Dog2.age)"
   ]
  },
  {
   "cell_type": "markdown",
   "metadata": {
    "id": "SW3TKP0K11vi"
   },
   "source": [
    "## Exercise 3\n",
    "Write a Python class named Rectangle constructed from length and width and a method that will compute the area of a rectangle."
   ]
  },
  {
   "cell_type": "code",
   "execution_count": null,
   "metadata": {
    "id": "vkV5wdqR151C"
   },
   "outputs": [],
   "source": [
    "class Rectangle():\n",
    "    def __init__(self, l, w):\n",
    "        self.length = l\n",
    "        self.width  = w\n",
    "\n",
    "    def rectangle_area(self):\n",
    "        return self.length*self.width\n",
    "\n",
    "newRectangle = Rectangle(12, 10)\n",
    "print(newRectangle.rectangle_area())\n"
   ]
  },
  {
   "cell_type": "markdown",
   "metadata": {
    "id": "uJ84ro7Izx3K"
   },
   "source": [
    "## Exercise 4\n",
    "Write a Python class named Circle constructed from a radius and two methods that will compute the area and the perimeter of a circle.\n"
   ]
  },
  {
   "cell_type": "code",
   "execution_count": 24,
   "metadata": {
    "colab": {
     "base_uri": "https://localhost:8080/"
    },
    "id": "I5oGaFR7z6eK",
    "outputId": "a8fb345e-6f59-45c3-f9c7-8e9df09e51a8"
   },
   "outputs": [
    {
     "name": "stdout",
     "output_type": "stream",
     "text": [
      "200.96\n",
      "50.24\n"
     ]
    }
   ],
   "source": [
    "class Circle():\n",
    "    def __init__(self, r):\n",
    "        self.radius = r\n",
    "\n",
    "    def area(self):\n",
    "        return self.radius**2*3.14\n",
    "    \n",
    "    def perimeter(self):\n",
    "        return 2*self.radius*3.14\n",
    "\n",
    "NewCircle = Circle(8)\n",
    "print(NewCircle.area())\n",
    "print(NewCircle.perimeter())"
   ]
  },
  {
   "cell_type": "markdown",
   "metadata": {
    "id": "KgE3U4HALWYa"
   },
   "source": [
    "## use-case of Class\n",
    "\n",
    " let’s say you wanted to track the number of dogs that may have different attributes like breed, and age. If a list is used, the first element could be the dog’s breed while the second element could represent its age. Let’s suppose there are 100 different dogs, then how would you know which element is supposed to be which? What if you wanted to add other properties to these dogs? This lacks organization and it’s the exact need for classes. "
   ]
  },
  {
   "cell_type": "code",
   "execution_count": null,
   "metadata": {
    "id": "kwSVFYwPLakX"
   },
   "outputs": [],
   "source": [
    "dog_bread=['A', 'B', 'C']\n",
    "dog_age=[12,11,9]\n",
    "dog_age[dog_bread.index('A')]"
   ]
  },
  {
   "cell_type": "code",
   "execution_count": null,
   "metadata": {
    "id": "rXetNzo0PZZz"
   },
   "outputs": [],
   "source": [
    "class Dog:\n",
    "  def __init__(self, breed, age):\n",
    "    self.breed = breed\n",
    "    self.age = age\n",
    "\n",
    "  def displayDOGinfo(self):\n",
    "    print(\"Dog breed \", self.breed, 'Dog age', self.age)\n",
    "\n",
    "dog1 = Dog(\"A\", 12)\n",
    "\n",
    "dog2 = Dog(\"B\", 11)\n",
    "\n",
    "dog3 = Dog(\"C\", 9)\n",
    "\n",
    "dogs=[dog1,dog2,dog3]\n",
    "\n",
    "for d in dogs:\n",
    "  d.displayDOGinfo()"
   ]
  },
  {
   "cell_type": "code",
   "execution_count": null,
   "metadata": {
    "id": "Ay65VZmlKjPA"
   },
   "outputs": [],
   "source": [
    "from animal.dog import *"
   ]
  },
  {
   "cell_type": "code",
   "execution_count": null,
   "metadata": {
    "id": "J2JOzu4fK2gm"
   },
   "outputs": [],
   "source": [
    "d1=dog.Dog(\"A\", 12)\n",
    "d1.breed"
   ]
  },
  {
   "cell_type": "markdown",
   "metadata": {
    "id": "D0qXVKUUQ9zJ"
   },
   "source": [
    "## Python Inheritance\n",
    "* Inheritance allows us to define a class that inherits all the methods and properties from another class.\n",
    "* Parent class is the class being inherited from, also called base class.\n",
    "* Child class is the class that inherits from another class, also called derived class.\n",
    "![inheritance2.png](data:image/png;base64,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)\n",
    "\n",
    "Syntax\n",
    "```\n",
    "define a superclass\n",
    "class super_class:\n",
    "    attributes and method definition\n",
    "class sub_class(super_class):\n",
    "    attributes and method of super_class\n",
    "    attributes and method of sub_class\n",
    "```"
   ]
  },
  {
   "cell_type": "code",
   "execution_count": 6,
   "metadata": {
    "colab": {
     "base_uri": "https://localhost:8080/"
    },
    "id": "_wEOjMmz5yfw",
    "outputId": "e3356c8e-956d-4c5b-a445-22b39c2ef524"
   },
   "outputs": [
    {
     "name": "stdout",
     "output_type": "stream",
     "text": [
      "Satyam 102\n"
     ]
    }
   ],
   "source": [
    "# A Python program to demonstrate inheritance\n",
    " \n",
    "class Person:\n",
    "   \n",
    "  # Constructor\n",
    "  def __init__(self, name, id):\n",
    "    self.name = name\n",
    "    self.id = id\n",
    " \n",
    "  # To check if this person is an employee\n",
    "  def Display(self):\n",
    "    print(self.name, self.id)\n",
    " \n",
    " \n",
    "# Driver code\n",
    "emp = Person(\"Satyam\", 102) # An Object of Person\n",
    "emp.Display()"
   ]
  },
  {
   "cell_type": "code",
   "execution_count": 7,
   "metadata": {
    "colab": {
     "base_uri": "https://localhost:8080/"
    },
    "id": "CSiTP5Bb52t4",
    "outputId": "cc9f267c-9244-4c3b-8838-9b224a004a5f"
   },
   "outputs": [
    {
     "name": "stdout",
     "output_type": "stream",
     "text": [
      "Mayank 103\n",
      "Emp class called\n"
     ]
    }
   ],
   "source": [
    "\n",
    "class Emp(Person):\n",
    "   \n",
    "  def Print(self):\n",
    "    print(\"Emp class called\")\n",
    "     \n",
    "Emp_details = Emp(\"Mayank\", 103)\n",
    " \n",
    "# calling parent class function\n",
    "Emp_details.Display()\n",
    " \n",
    "# Calling child class function\n",
    "Emp_details.Print()"
   ]
  },
  {
   "cell_type": "markdown",
   "metadata": {
    "id": "3ynrQQlT4sEY"
   },
   "source": [
    "### Benefits of inheritance are: \n",
    "* It represents real-world relationships well.\n",
    "* It provides the reusability of a code. We don’t have to write the same code again and again. Also, it allows us to add more features to a class without modifying it.\n",
    "* It is transitive in nature, which means that if class B inherits from another class A, then all the subclasses of B would automatically inherit from class A.\n",
    "* Inheritance offers a simple, understandable model structure. \n",
    "* Less development and maintenance expenses result from an inheritance. \n",
    "\n"
   ]
  },
  {
   "cell_type": "markdown",
   "metadata": {
    "id": "Wz-dgvqc6Q6A"
   },
   "source": [
    "## Exercise 5\n",
    "Create a Bus child class that inherits from the Vehicle class. The default fare charge of any vehicle is seating capacity * 100. If Vehicle is Bus instance, we need to add an extra 10% on full fare as a maintenance charge. So total fare for bus instance will become the final amount = total fare + 10% of the total fare."
   ]
  },
  {
   "cell_type": "code",
   "execution_count": null,
   "metadata": {
    "id": "eZn2yUdE7XAS"
   },
   "outputs": [],
   "source": [
    "class Vehicle:\n",
    "    def __init__(self, name, mileage, capacity):\n",
    "        self.name = name\n",
    "        self.mileage = mileage\n",
    "        self.capacity = capacity\n",
    "\n",
    "    def fare(self):\n",
    "        return self.capacity * 100\n",
    "\n",
    "class Bus(Vehicle):\n",
    "    def fare(self):\n",
    "        amount = super().fare()\n",
    "        amount += amount * 10 / 100\n",
    "        return amount\n",
    "\n",
    "School_bus = Bus(\"School Volvo\", 12, 50)\n",
    "print(\"Total Bus fare is:\", School_bus.fare())"
   ]
  },
  {
   "cell_type": "markdown",
   "metadata": {
    "id": "S6LR1Yzt81c5"
   },
   "source": [
    "## Method Overriding in Python Inheritance\n",
    "\n",
    "* However, what if the same method is present in both the superclass and subclass?\n",
    "\n",
    "* In this case, the method in the subclass overrides the method in the superclass. This concept is known as method overriding in Python."
   ]
  },
  {
   "cell_type": "code",
   "execution_count": 15,
   "metadata": {
    "colab": {
     "base_uri": "https://localhost:8080/"
    },
    "id": "_Q_n01cl9IQq",
    "outputId": "a2f5f461-4cbe-4ffe-d935-d27e00525f37"
   },
   "outputs": [
    {
     "name": "stdout",
     "output_type": "stream",
     "text": [
      "Satyam 102\n"
     ]
    }
   ],
   "source": [
    "# A Python program to demonstrate inheritance\n",
    " \n",
    "class Person:\n",
    "   \n",
    "  # Constructor\n",
    "  def __init__(self, name, id):\n",
    "    self.name = name\n",
    "    self.id = id\n",
    " \n",
    "  # To check if this person is an employee\n",
    "  def Display(self):\n",
    "    print(self.name, self.id)\n",
    " \n",
    " \n",
    "# Driver code\n",
    "pers = Person(\"Satyam\", 102) # An Object of Person\n",
    "pers.Display()"
   ]
  },
  {
   "cell_type": "code",
   "execution_count": null,
   "metadata": {
    "id": "riTV9fHM9QWT"
   },
   "outputs": [],
   "source": [
    "class Emp(Person):\n",
    "   \n",
    "  def Display(self):\n",
    "    print('Overriding method of class Person in Class Emp', self.name, self.id)\n",
    "     \n",
    "Emp_details = Emp(\"Mayank\", 103)\n",
    " \n",
    "# calling overriding class function\n",
    "Emp_details.Display()\n"
   ]
  },
  {
   "cell_type": "markdown",
   "metadata": {
    "id": "QK9I0fZw9zD-"
   },
   "source": [
    "## The super() Method in Python Inheritance\n",
    "* Previously we saw that the same method in the subclass overrides the method in the superclass.\n",
    "\n",
    "* However, if we need to access the superclass method from the subclass, we use the super() method.\n",
    "\n",
    "* super() method can also be used to call initialized super class"
   ]
  },
  {
   "cell_type": "code",
   "execution_count": null,
   "metadata": {
    "id": "Tc6om-iQ-nyy"
   },
   "outputs": [],
   "source": [
    "class Animal:\n",
    "\n",
    "    def eat(self):\n",
    "        print(\"I can eat\")\n",
    "\n",
    "# inherit from Animal\n",
    "class Dog(Animal):\n",
    "    \n",
    "    # override eat() method\n",
    "    def eat(self):\n",
    "        \n",
    "        # call the eat() method of the superclass using super()\n",
    "        super().eat()\n",
    "        \n",
    "        print(\"I like to eat bones\")\n",
    "\n",
    "# create an object of the subclass\n",
    "labrador = Dog()\n",
    "\n",
    "labrador.eat()"
   ]
  },
  {
   "cell_type": "markdown",
   "metadata": {
    "id": "-7cYTh5Z7Yyh"
   },
   "source": [
    "### Exercise 6\n",
    "* Create a Class Person with variable firstname and lastname. This class also must have a display function to display firstname and lastname.\n",
    "* Create Class Student with graduationyear that inherit Class Person. Print  graduationyear with student name.\n",
    "* Create Class Employee with Salary that inherit Class Person. Print  Salary with student name."
   ]
  },
  {
   "cell_type": "code",
   "execution_count": null,
   "metadata": {
    "id": "Za0EsIktQf4B"
   },
   "outputs": [],
   "source": [
    "class Person:\n",
    "  def __init__(self, fname, lname):\n",
    "    self.firstname = fname\n",
    "    self.lastname = lname\n",
    "\n",
    "  def printname(self):\n",
    "    print(self.firstname, self.lastname)\n",
    "\n",
    "#Use the Person class to create an object, and then execute the printname method:\n",
    "\n",
    "x = Person(\"John\", \"Doe\")\n",
    "x.printname()\n"
   ]
  },
  {
   "cell_type": "code",
   "execution_count": null,
   "metadata": {
    "id": "4qqSn8fvTVqa"
   },
   "outputs": [],
   "source": [
    "class Student(Person):\n",
    "  def __init__(self, fname, lname, year):\n",
    "    super().__init__(fname, lname)\n",
    "    self.graduationyear = year\n",
    "\n",
    "  def printYEAR(self):\n",
    "    print(self.graduationyear)\n",
    "    super().printname()\n",
    "\n",
    "s = Student(\"Mike\", \"Olsen\", 2019)\n",
    "s.printYEAR()"
   ]
  },
  {
   "cell_type": "code",
   "execution_count": null,
   "metadata": {
    "id": "kLGtpUiiUvnR"
   },
   "outputs": [],
   "source": [
    "class Employee(Person):\n",
    "  def __init__(self, fname, lname, salary):\n",
    "    super().__init__(fname, lname)\n",
    "    self.salary = salary\n",
    "\n",
    "  def printSALARY(self):\n",
    "    print(self.salary)\n",
    "    super().printname()\n",
    "E = Employee(\"Mike\", \"Olsen\", 19000)\n",
    "E.printSALARY()"
   ]
  },
  {
   "cell_type": "markdown",
   "metadata": {
    "id": "0AgtwcTH_O0Q"
   },
   "source": [
    "## Different types of Inheritance\n",
    "* **Single inheritance**: When a child class inherits from only one parent class, it is called single inheritance.\n",
    "\n",
    "![inheritance11.png](data:image/png;base64,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)\n",
    "\n",
    "* **Multiple inheritances or Heirarchical**: When a child class inherits from multiple parent classes, it is called multiple inheritances.\n",
    "\n",
    "![multiple-inheritance1.png](data:image/png;base64,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)\n",
    "\n",
    "* **Multi-Level inheritances** : When we have a child and grandchild relationship. \n",
    "\n",
    "![Multilevel-inheritance1.png](data:image/png;base64,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)"
   ]
  },
  {
   "cell_type": "markdown",
   "metadata": {
    "id": "GN_w7TQwAFvn"
   },
   "source": [
    "### Multiple inheritance"
   ]
  },
  {
   "cell_type": "code",
   "execution_count": null,
   "metadata": {
    "id": "OO3kWHALB0MT"
   },
   "outputs": [],
   "source": [
    "class Mammal:\n",
    "    def mammal_info(self):\n",
    "        print(\"From Mammals Class : Mammals can give direct birth.\")\n",
    "\n",
    "class WingedAnimal:\n",
    "    def winged_animal_info(self):\n",
    "        print(\"From WingedAnimal Class : Winged animals can flap.\")\n",
    "\n",
    "class Bat(Mammal, WingedAnimal):\n",
    "    def bat_info(self):\n",
    "      print('Bats can fly as well as give direct birth')\n",
    "\n",
    "# create an object of Bat class\n",
    "b1 = Bat()\n",
    "b1.bat_info()\n",
    "b1.mammal_info()\n",
    "b1.winged_animal_info()"
   ]
  },
  {
   "cell_type": "code",
   "execution_count": null,
   "metadata": {
    "id": "p9oO6UJA_o5w"
   },
   "outputs": [],
   "source": [
    "# Python example to show the working of multiple\n",
    "# inheritance\n",
    "\n",
    "\n",
    "class Base1:\n",
    "\tdef __init__(self):\n",
    "\t\tself.str1 = \"IMARTICUS\"\n",
    "\t\tprint(\"Base1\")\n",
    "\n",
    "\n",
    "class Base2:\n",
    "\tdef __init__(self):\n",
    "\t\tself.str2 = \"LEARNING\"\n",
    "\t\tprint(\"Base2\")\n",
    "\n",
    "\n",
    "class Derived(Base1, Base2):\n",
    "\tdef __init__(self):\n",
    "\n",
    "\t\t# Calling constructors of Base1\n",
    "\t\t# and Base2 classes\n",
    "\t\tBase1.__init__(self)\n",
    "\t\tBase2.__init__(self)\n",
    "\t\tprint(\"Derived\")\n",
    "\n",
    "\tdef printStrs(self):\n",
    "\t\tprint(self.str1, self.str2)\n",
    "\n",
    "\n",
    "ob = Derived()\n",
    "ob.printStrs()\n"
   ]
  },
  {
   "cell_type": "markdown",
   "metadata": {
    "id": "anMAnc5SDZBF"
   },
   "source": [
    "### Exercise 7\n",
    "\n",
    "* Create  two class \n",
    "  * class mother with name variable.\n",
    "  * class father with variable.\n",
    "* Create Class Child that inherits this two class. The display method must print the following\n",
    "```\n",
    "Mothers name \n",
    "Fathers name\n",
    "```"
   ]
  },
  {
   "cell_type": "code",
   "execution_count": 34,
   "metadata": {
    "colab": {
     "base_uri": "https://localhost:8080/"
    },
    "id": "7AFQKbZUEMzH",
    "outputId": "58795725-3093-42b9-e696-4a960dbca18b"
   },
   "outputs": [
    {
     "name": "stdout",
     "output_type": "stream",
     "text": [
      "Father : RAM\n",
      "Mother : SITA\n"
     ]
    }
   ],
   "source": [
    "# Python program to demonstrate\n",
    "# multiple inheritance\n",
    "\n",
    "# Base class1\n",
    "class Mother:\n",
    "\tmothername = \"\"\n",
    "\n",
    "\tdef mother(self):\n",
    "\t\tprint(self.mothername)\n",
    "\n",
    "# Base class2\n",
    "\n",
    "\n",
    "class Father:\n",
    "\tfathername = \"\"\n",
    "\n",
    "\tdef father(self):\n",
    "\t\tprint(self.fathername)\n",
    "\n",
    "# Derived class\n",
    "\n",
    "\n",
    "class Son(Mother, Father):\n",
    "\tdef parents(self):\n",
    "\t\tprint(\"Father :\", self.fathername)\n",
    "\t\tprint(\"Mother :\", self.mothername)\n",
    "\n",
    "\n",
    "# Driver's code\n",
    "s1 = Son()\n",
    "s1.fathername = \"RAM\"\n",
    "s1.mothername = \"SITA\"\n",
    "s1.parents()\n"
   ]
  },
  {
   "cell_type": "markdown",
   "metadata": {
    "id": "ohs9QETKAmdx"
   },
   "source": [
    "### Multi-Level Inheritance"
   ]
  },
  {
   "cell_type": "code",
   "execution_count": null,
   "metadata": {
    "id": "FlNlByXQCr7c"
   },
   "outputs": [],
   "source": [
    "class SuperClass:\n",
    "\n",
    "    def super_method(self):\n",
    "        print(\"Super Class method called\")\n",
    "\n",
    "# define class that derive from SuperClass\n",
    "class DerivedClass1(SuperClass):\n",
    "    def derived1_method(self):\n",
    "        print(\"Derived class 1 method called\")\n",
    "\n",
    "# define class that derive from DerivedClass1\n",
    "class DerivedClass2(DerivedClass1):\n",
    "\n",
    "    def derived2_method(self):\n",
    "        print(\"Derived class 2 method called\")\n",
    "\n",
    "# create an object of DerivedClass2\n",
    "d2 = DerivedClass2()\n",
    "\n",
    "d2.super_method()  # Output: \"Super Class method called\"\n",
    "\n",
    "d2.derived1_method()  # Output: \"Derived class 1 method called\"\n",
    "\n",
    "d2.derived2_method()  # Output: \"Derived class 2 method called\""
   ]
  },
  {
   "cell_type": "code",
   "execution_count": null,
   "metadata": {
    "id": "f0qJb04kAWM5"
   },
   "outputs": [],
   "source": [
    "# A Python program to demonstrate inheritance\n",
    "\n",
    "class Base:\n",
    "\n",
    "\t# Constructor\n",
    "\tdef __init__(self, name):\n",
    "\t\tself.name = name\n",
    "\n",
    "\t# To get name\n",
    "\tdef getName(self):\n",
    "\t\treturn self.name\n",
    "\n",
    "\n",
    "class Child(Base):\n",
    "\n",
    "\t# Constructor\n",
    "\tdef __init__(self, name, age):\n",
    "\t\tBase.__init__(self, name)\n",
    "\t\tself.age = age\n",
    "\n",
    "\t# To get name\n",
    "\tdef getAge(self):\n",
    "\t\treturn self.age\n",
    "\n",
    "# Inherited or Sub class (Note Person in bracket)\n",
    "\n",
    "\n",
    "class GrandChild(Child):\n",
    "\n",
    "\t# Constructor\n",
    "\tdef __init__(self, name, age, address):\n",
    "\t\tChild.__init__(self, name, age)\n",
    "\t\tself.address = address\n",
    "\n",
    "\t# To get address\n",
    "\tdef getAddress(self):\n",
    "\t\treturn self.address\n",
    "\n",
    "\n",
    "# Driver code\n",
    "g = GrandChild(\"IMARTICUS\", 23, \"MUMBAI\")\n",
    "print(g.getName(), g.getAge(), g.getAddress())\n"
   ]
  },
  {
   "cell_type": "code",
   "execution_count": null,
   "metadata": {
    "id": "yySN5ZB_BNm7"
   },
   "outputs": [],
   "source": []
  }
 ],
 "metadata": {
  "colab": {
   "collapsed_sections": [
    "BdRdOu0NZtcV",
    "_gA1x1ckZohV",
    "SW3TKP0K11vi",
    "uJ84ro7Izx3K",
    "Wz-dgvqc6Q6A",
    "anMAnc5SDZBF"
   ],
   "provenance": []
  },
  "kernelspec": {
   "display_name": "Python 3 (ipykernel)",
   "language": "python",
   "name": "python3"
  },
  "language_info": {
   "codemirror_mode": {
    "name": "ipython",
    "version": 3
   },
   "file_extension": ".py",
   "mimetype": "text/x-python",
   "name": "python",
   "nbconvert_exporter": "python",
   "pygments_lexer": "ipython3",
   "version": "3.9.13"
  }
 },
 "nbformat": 4,
 "nbformat_minor": 1
}
