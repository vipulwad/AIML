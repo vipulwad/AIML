{
 "cells": [
  {
   "cell_type": "markdown",
   "id": "601653c4",
   "metadata": {},
   "source": [
    "# Functions\n",
    "- There are 2 types of functions in python\n",
    "1. Built in functions\n",
    "2. User defined functions(UDF)"
   ]
  },
  {
   "cell_type": "markdown",
   "id": "e0fa8e37",
   "metadata": {},
   "source": [
    "## User defined function"
   ]
  },
  {
   "cell_type": "code",
   "execution_count": 1,
   "id": "be5b3070",
   "metadata": {},
   "outputs": [],
   "source": [
    "def area_of_rectangle(length,breadth):\n",
    "    area = length*breadth\n",
    "    return area"
   ]
  },
  {
   "cell_type": "code",
   "execution_count": 2,
   "id": "4279d347",
   "metadata": {},
   "outputs": [
    {
     "data": {
      "text/plain": [
       "240"
      ]
     },
     "execution_count": 2,
     "metadata": {},
     "output_type": "execute_result"
    }
   ],
   "source": [
    "area_of_rectangle(20,12)"
   ]
  },
  {
   "cell_type": "code",
   "execution_count": 3,
   "id": "e7654bbc",
   "metadata": {},
   "outputs": [],
   "source": [
    "def square_of_number(a1):\n",
    "    square = a1*a1\n",
    "    return square"
   ]
  },
  {
   "cell_type": "code",
   "execution_count": 4,
   "id": "20eccc68",
   "metadata": {},
   "outputs": [
    {
     "data": {
      "text/plain": [
       "9"
      ]
     },
     "execution_count": 4,
     "metadata": {},
     "output_type": "execute_result"
    }
   ],
   "source": [
    "square_of_number(3)"
   ]
  },
  {
   "cell_type": "code",
   "execution_count": 5,
   "id": "8f06cba9",
   "metadata": {},
   "outputs": [],
   "source": [
    "l1=[1,2,3,4]\n",
    "l2=[5,6,7,8]"
   ]
  },
  {
   "cell_type": "code",
   "execution_count": 6,
   "id": "63e6a750",
   "metadata": {},
   "outputs": [
    {
     "data": {
      "text/plain": [
       "[1, 2, 3, 4]"
      ]
     },
     "execution_count": 6,
     "metadata": {},
     "output_type": "execute_result"
    }
   ],
   "source": [
    "l1"
   ]
  },
  {
   "cell_type": "code",
   "execution_count": 7,
   "id": "04f2e99c",
   "metadata": {},
   "outputs": [],
   "source": [
    "l1.extend(l2)"
   ]
  },
  {
   "cell_type": "code",
   "execution_count": 8,
   "id": "0de6ec0b",
   "metadata": {},
   "outputs": [
    {
     "data": {
      "text/plain": [
       "[1, 2, 3, 4, 5, 6, 7, 8]"
      ]
     },
     "execution_count": 8,
     "metadata": {},
     "output_type": "execute_result"
    }
   ],
   "source": [
    "l1"
   ]
  },
  {
   "cell_type": "markdown",
   "id": "fc12b91e",
   "metadata": {},
   "source": [
    "## Data Frames\n",
    "- Data Frames is nothing but a two dimensional array which stores data in tabular format"
   ]
  },
  {
   "cell_type": "markdown",
   "id": "d1dd1544",
   "metadata": {},
   "source": []
  },
  {
   "cell_type": "code",
   "execution_count": 9,
   "id": "dd7fd419",
   "metadata": {},
   "outputs": [],
   "source": [
    "# Scalar objects\n",
    "a = 7"
   ]
  },
  {
   "cell_type": "code",
   "execution_count": 10,
   "id": "24e3876b",
   "metadata": {},
   "outputs": [],
   "source": [
    "# Vector object, 1 dimension object\n",
    "b = [7,5]"
   ]
  },
  {
   "cell_type": "code",
   "execution_count": 11,
   "id": "d7a5aa17",
   "metadata": {},
   "outputs": [],
   "source": [
    "# Two dimensional object\n",
    "c = [1,2,3,4],[5,6,7,8],[9,10,11,12]"
   ]
  },
  {
   "cell_type": "code",
   "execution_count": 12,
   "id": "01ee4be7",
   "metadata": {},
   "outputs": [
    {
     "data": {
      "text/plain": [
       "6"
      ]
     },
     "execution_count": 12,
     "metadata": {},
     "output_type": "execute_result"
    }
   ],
   "source": [
    "c[1][1]"
   ]
  },
  {
   "cell_type": "code",
   "execution_count": 13,
   "id": "1e3894f1",
   "metadata": {},
   "outputs": [
    {
     "data": {
      "text/plain": [
       "4"
      ]
     },
     "execution_count": 13,
     "metadata": {},
     "output_type": "execute_result"
    }
   ],
   "source": [
    "c[0][3]"
   ]
  },
  {
   "cell_type": "code",
   "execution_count": 14,
   "id": "1fbe0863",
   "metadata": {},
   "outputs": [
    {
     "data": {
      "text/plain": [
       "8"
      ]
     },
     "execution_count": 14,
     "metadata": {},
     "output_type": "execute_result"
    }
   ],
   "source": [
    "c[1][3]"
   ]
  },
  {
   "cell_type": "code",
   "execution_count": 15,
   "id": "1f2bb014",
   "metadata": {},
   "outputs": [],
   "source": [
    "import pandas as pd"
   ]
  },
  {
   "cell_type": "code",
   "execution_count": 16,
   "id": "3a9329ea",
   "metadata": {},
   "outputs": [],
   "source": [
    "df = pd.DataFrame(c)"
   ]
  },
  {
   "cell_type": "code",
   "execution_count": 17,
   "id": "b06fec2d",
   "metadata": {},
   "outputs": [
    {
     "data": {
      "text/html": [
       "<div>\n",
       "<style scoped>\n",
       "    .dataframe tbody tr th:only-of-type {\n",
       "        vertical-align: middle;\n",
       "    }\n",
       "\n",
       "    .dataframe tbody tr th {\n",
       "        vertical-align: top;\n",
       "    }\n",
       "\n",
       "    .dataframe thead th {\n",
       "        text-align: right;\n",
       "    }\n",
       "</style>\n",
       "<table border=\"1\" class=\"dataframe\">\n",
       "  <thead>\n",
       "    <tr style=\"text-align: right;\">\n",
       "      <th></th>\n",
       "      <th>0</th>\n",
       "      <th>1</th>\n",
       "      <th>2</th>\n",
       "      <th>3</th>\n",
       "    </tr>\n",
       "  </thead>\n",
       "  <tbody>\n",
       "    <tr>\n",
       "      <th>0</th>\n",
       "      <td>1</td>\n",
       "      <td>2</td>\n",
       "      <td>3</td>\n",
       "      <td>4</td>\n",
       "    </tr>\n",
       "    <tr>\n",
       "      <th>1</th>\n",
       "      <td>5</td>\n",
       "      <td>6</td>\n",
       "      <td>7</td>\n",
       "      <td>8</td>\n",
       "    </tr>\n",
       "    <tr>\n",
       "      <th>2</th>\n",
       "      <td>9</td>\n",
       "      <td>10</td>\n",
       "      <td>11</td>\n",
       "      <td>12</td>\n",
       "    </tr>\n",
       "  </tbody>\n",
       "</table>\n",
       "</div>"
      ],
      "text/plain": [
       "   0   1   2   3\n",
       "0  1   2   3   4\n",
       "1  5   6   7   8\n",
       "2  9  10  11  12"
      ]
     },
     "execution_count": 17,
     "metadata": {},
     "output_type": "execute_result"
    }
   ],
   "source": [
    "df"
   ]
  },
  {
   "cell_type": "markdown",
   "id": "96cd7696",
   "metadata": {},
   "source": [
    "# Key Libraries\n",
    "\n",
    "# Pandas\n",
    "- It is used for handling and manipulating DataFrame (2 dimensional objects)\n",
    "- DataFrames is a spacial kind of data structure which allows you to store data in tabular format."
   ]
  },
  {
   "cell_type": "markdown",
   "id": "28bb5fde",
   "metadata": {},
   "source": [
    "# Numpy\n",
    "- Numerical Python\n",
    "- It is used for numerical operations\n"
   ]
  },
  {
   "cell_type": "markdown",
   "id": "f6ce92df",
   "metadata": {},
   "source": [
    "# Matplotlib and Seaborn\n",
    "- It is used for data visualization in python\n",
    "- Seaborn is built on matplotlib\n",
    "- "
   ]
  },
  {
   "cell_type": "markdown",
   "id": "723f066f",
   "metadata": {},
   "source": [
    "# Scipy\n",
    "- Scientific Python\n",
    "- It is used for complex statistical operations (Inferential statistics)\n"
   ]
  },
  {
   "cell_type": "markdown",
   "id": "e6e5573e",
   "metadata": {},
   "source": [
    "# Statsmodel\n",
    "- It is used for statistical modelling"
   ]
  },
  {
   "cell_type": "markdown",
   "id": "4d99a96c",
   "metadata": {},
   "source": [
    "# Sklearn\n",
    "- Sci kit learn\n",
    "- It is used for machine learning algorithm"
   ]
  },
  {
   "cell_type": "markdown",
   "id": "d5d05774",
   "metadata": {},
   "source": [
    "# Deep dive into Pandas"
   ]
  },
  {
   "cell_type": "code",
   "execution_count": 22,
   "id": "0961157d",
   "metadata": {},
   "outputs": [],
   "source": [
    "series1 = pd.Series([0,10,20,30,40,50])"
   ]
  },
  {
   "cell_type": "code",
   "execution_count": 23,
   "id": "3e70ccfa",
   "metadata": {},
   "outputs": [
    {
     "data": {
      "text/plain": [
       "0     0\n",
       "1    10\n",
       "2    20\n",
       "3    30\n",
       "4    40\n",
       "5    50\n",
       "dtype: int64"
      ]
     },
     "execution_count": 23,
     "metadata": {},
     "output_type": "execute_result"
    }
   ],
   "source": [
    "series1"
   ]
  },
  {
   "cell_type": "markdown",
   "id": "c0f26dee",
   "metadata": {},
   "source": [
    "# Difference between Series and DataFrames\n",
    "- Series is 1 Dimensional\n",
    "- Series can only contain single list with index, whereas dataframe can be made of more than one series or we can say that a dataframe is a collection of series that can be used to analyse the data"
   ]
  },
  {
   "cell_type": "code",
   "execution_count": 28,
   "id": "9e89d514",
   "metadata": {},
   "outputs": [
    {
     "data": {
      "text/plain": [
       "30"
      ]
     },
     "execution_count": 28,
     "metadata": {},
     "output_type": "execute_result"
    }
   ],
   "source": [
    "series1.loc[3]"
   ]
  },
  {
   "cell_type": "code",
   "execution_count": 30,
   "id": "b02d8bf9",
   "metadata": {},
   "outputs": [
    {
     "data": {
      "text/plain": [
       "30"
      ]
     },
     "execution_count": 30,
     "metadata": {},
     "output_type": "execute_result"
    }
   ],
   "source": [
    "series1.iloc[3]"
   ]
  },
  {
   "cell_type": "markdown",
   "id": "0e525e71",
   "metadata": {},
   "source": [
    "#### loc and iloc\n",
    "- loc is label-based, which means that you have to specify rows and columns based on their row and column labels. iloc is integer position-based, so you have to specify rows and columns by their integer position values (0-based integer position)."
   ]
  },
  {
   "cell_type": "code",
   "execution_count": 34,
   "id": "ad2ce4e6",
   "metadata": {},
   "outputs": [],
   "source": [
    "# adding dictionary\n",
    "series2 = pd.Series({'a':1, 'b':2, 'c':3})"
   ]
  },
  {
   "cell_type": "code",
   "execution_count": 35,
   "id": "d86f44ea",
   "metadata": {},
   "outputs": [
    {
     "data": {
      "text/plain": [
       "a    1\n",
       "b    2\n",
       "c    3\n",
       "dtype: int64"
      ]
     },
     "execution_count": 35,
     "metadata": {},
     "output_type": "execute_result"
    }
   ],
   "source": [
    "series2"
   ]
  },
  {
   "cell_type": "code",
   "execution_count": 38,
   "id": "da62351c",
   "metadata": {},
   "outputs": [
    {
     "data": {
      "text/plain": [
       "3"
      ]
     },
     "execution_count": 38,
     "metadata": {},
     "output_type": "execute_result"
    }
   ],
   "source": [
    "series2.loc['c']"
   ]
  },
  {
   "cell_type": "code",
   "execution_count": 62,
   "id": "c834b0b2",
   "metadata": {},
   "outputs": [],
   "source": [
    "# adding another dictionary\n",
    "series3 = pd.Series({ '1':'chiranjeev', '2':'sathish', '3':'ashwini'})"
   ]
  },
  {
   "cell_type": "code",
   "execution_count": 63,
   "id": "7e0f752a",
   "metadata": {},
   "outputs": [
    {
     "data": {
      "text/plain": [
       "1    chiranjeev\n",
       "2       sathish\n",
       "3       ashwini\n",
       "dtype: object"
      ]
     },
     "execution_count": 63,
     "metadata": {},
     "output_type": "execute_result"
    }
   ],
   "source": [
    "series3"
   ]
  },
  {
   "cell_type": "code",
   "execution_count": 64,
   "id": "92a5bd1e",
   "metadata": {},
   "outputs": [
    {
     "data": {
      "text/plain": [
       "'sathish'"
      ]
     },
     "execution_count": 64,
     "metadata": {},
     "output_type": "execute_result"
    }
   ],
   "source": [
    "series3.loc['2']"
   ]
  },
  {
   "cell_type": "code",
   "execution_count": 65,
   "id": "28b7826e",
   "metadata": {},
   "outputs": [
    {
     "data": {
      "text/plain": [
       "'ashwini'"
      ]
     },
     "execution_count": 65,
     "metadata": {},
     "output_type": "execute_result"
    }
   ],
   "source": [
    "series3.iloc[2]"
   ]
  },
  {
   "cell_type": "code",
   "execution_count": 72,
   "id": "6d427f7b",
   "metadata": {},
   "outputs": [],
   "source": [
    "df3 = pd.DataFrame({'Rollno':[1,2,3,4,5], 'Name':['ABC', 'dsg', 'wgwre', 'agre', 'aggedy']})"
   ]
  },
  {
   "cell_type": "code",
   "execution_count": 73,
   "id": "56c8bcbb",
   "metadata": {},
   "outputs": [
    {
     "data": {
      "text/html": [
       "<div>\n",
       "<style scoped>\n",
       "    .dataframe tbody tr th:only-of-type {\n",
       "        vertical-align: middle;\n",
       "    }\n",
       "\n",
       "    .dataframe tbody tr th {\n",
       "        vertical-align: top;\n",
       "    }\n",
       "\n",
       "    .dataframe thead th {\n",
       "        text-align: right;\n",
       "    }\n",
       "</style>\n",
       "<table border=\"1\" class=\"dataframe\">\n",
       "  <thead>\n",
       "    <tr style=\"text-align: right;\">\n",
       "      <th></th>\n",
       "      <th>Rollno</th>\n",
       "      <th>Name</th>\n",
       "    </tr>\n",
       "  </thead>\n",
       "  <tbody>\n",
       "    <tr>\n",
       "      <th>0</th>\n",
       "      <td>1</td>\n",
       "      <td>ABC</td>\n",
       "    </tr>\n",
       "    <tr>\n",
       "      <th>1</th>\n",
       "      <td>2</td>\n",
       "      <td>dsg</td>\n",
       "    </tr>\n",
       "    <tr>\n",
       "      <th>2</th>\n",
       "      <td>3</td>\n",
       "      <td>wgwre</td>\n",
       "    </tr>\n",
       "    <tr>\n",
       "      <th>3</th>\n",
       "      <td>4</td>\n",
       "      <td>agre</td>\n",
       "    </tr>\n",
       "    <tr>\n",
       "      <th>4</th>\n",
       "      <td>5</td>\n",
       "      <td>aggedy</td>\n",
       "    </tr>\n",
       "  </tbody>\n",
       "</table>\n",
       "</div>"
      ],
      "text/plain": [
       "   Rollno    Name\n",
       "0       1     ABC\n",
       "1       2     dsg\n",
       "2       3   wgwre\n",
       "3       4    agre\n",
       "4       5  aggedy"
      ]
     },
     "execution_count": 73,
     "metadata": {},
     "output_type": "execute_result"
    }
   ],
   "source": [
    "df3"
   ]
  },
  {
   "cell_type": "code",
   "execution_count": 88,
   "id": "1c17539e",
   "metadata": {},
   "outputs": [],
   "source": [
    "df1 = pd.DataFrame({\n",
    "    'A':['a0', 'a1', 'a2', 'a3'],\n",
    "    'B':['b0', 'b1', 'b2', 'b3'],\n",
    "    'C':['c0', 'c1', 'c2', 'c3'],\n",
    "    'D':['d0', 'd1', 'd2', 'd3']\n",
    "}, \n",
    "    index = [1,2,3,4]\n",
    ")\n",
    "\n",
    "# combination of dictionary and array\n",
    "# also for DataFrame, index can be reset instead of 0, it can start from 1 or be specific for any row"
   ]
  },
  {
   "cell_type": "code",
   "execution_count": 89,
   "id": "1dcc30b8",
   "metadata": {},
   "outputs": [
    {
     "data": {
      "text/html": [
       "<div>\n",
       "<style scoped>\n",
       "    .dataframe tbody tr th:only-of-type {\n",
       "        vertical-align: middle;\n",
       "    }\n",
       "\n",
       "    .dataframe tbody tr th {\n",
       "        vertical-align: top;\n",
       "    }\n",
       "\n",
       "    .dataframe thead th {\n",
       "        text-align: right;\n",
       "    }\n",
       "</style>\n",
       "<table border=\"1\" class=\"dataframe\">\n",
       "  <thead>\n",
       "    <tr style=\"text-align: right;\">\n",
       "      <th></th>\n",
       "      <th>A</th>\n",
       "      <th>B</th>\n",
       "      <th>C</th>\n",
       "      <th>D</th>\n",
       "    </tr>\n",
       "  </thead>\n",
       "  <tbody>\n",
       "    <tr>\n",
       "      <th>1</th>\n",
       "      <td>a0</td>\n",
       "      <td>b0</td>\n",
       "      <td>c0</td>\n",
       "      <td>d0</td>\n",
       "    </tr>\n",
       "    <tr>\n",
       "      <th>2</th>\n",
       "      <td>a1</td>\n",
       "      <td>b1</td>\n",
       "      <td>c1</td>\n",
       "      <td>d1</td>\n",
       "    </tr>\n",
       "    <tr>\n",
       "      <th>3</th>\n",
       "      <td>a2</td>\n",
       "      <td>b2</td>\n",
       "      <td>c2</td>\n",
       "      <td>d2</td>\n",
       "    </tr>\n",
       "    <tr>\n",
       "      <th>4</th>\n",
       "      <td>a3</td>\n",
       "      <td>b3</td>\n",
       "      <td>c3</td>\n",
       "      <td>d3</td>\n",
       "    </tr>\n",
       "  </tbody>\n",
       "</table>\n",
       "</div>"
      ],
      "text/plain": [
       "    A   B   C   D\n",
       "1  a0  b0  c0  d0\n",
       "2  a1  b1  c1  d1\n",
       "3  a2  b2  c2  d2\n",
       "4  a3  b3  c3  d3"
      ]
     },
     "execution_count": 89,
     "metadata": {},
     "output_type": "execute_result"
    }
   ],
   "source": [
    "df1"
   ]
  },
  {
   "cell_type": "code",
   "execution_count": null,
   "id": "d7ae9808",
   "metadata": {},
   "outputs": [],
   "source": []
  }
 ],
 "metadata": {
  "kernelspec": {
   "display_name": "Python 3 (ipykernel)",
   "language": "python",
   "name": "python3"
  },
  "language_info": {
   "codemirror_mode": {
    "name": "ipython",
    "version": 3
   },
   "file_extension": ".py",
   "mimetype": "text/x-python",
   "name": "python",
   "nbconvert_exporter": "python",
   "pygments_lexer": "ipython3",
   "version": "3.9.13"
  }
 },
 "nbformat": 4,
 "nbformat_minor": 5
}
