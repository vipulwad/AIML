{
 "cells": [
  {
   "cell_type": "markdown",
   "metadata": {
    "id": "bdFhhbB8-KvD"
   },
   "source": [
    "# Contents\n",
    "* String"
   ]
  },
  {
   "cell_type": "markdown",
   "metadata": {
    "id": "dzGxNwv1-PKK"
   },
   "source": [
    "## Exercise\n",
    "Write a Python program to calculate the length of a string taken as input from the keyboard. Do not use len() function"
   ]
  },
  {
   "cell_type": "code",
   "execution_count": null,
   "metadata": {
    "id": "_hE53bIx-J11"
   },
   "outputs": [],
   "source": [
    "str1=input()\n",
    "count = 0\n",
    "\n",
    "for char in str1:\n",
    "    count += 1\n",
    "count\n",
    "\n",
    "print(count)\n",
    "print(len(str1))\n"
   ]
  },
  {
   "cell_type": "markdown",
   "metadata": {
    "id": "DnNwzkqy_WmG"
   },
   "source": [
    "## Exercise\n",
    "Write a python program to slice the following string.\n",
    "```\n",
    "IMARTICUSPYTHONLEARNING\n",
    "as\n",
    "PYTHON\n",
    "```"
   ]
  },
  {
   "cell_type": "code",
   "execution_count": null,
   "metadata": {
    "id": "wOQL5s-U-ysp"
   },
   "outputs": [],
   "source": [
    "str1='IMARTICUSPYTHONLEARNING'\n",
    "\n",
    "str2=str1[9:15]\n",
    "str2"
   ]
  },
  {
   "cell_type": "markdown",
   "metadata": {
    "id": "aGKPfIV0GMaJ"
   },
   "source": [
    "## Exercise\n",
    "Write a Python script that takes input from the user and displays that input back in upper and lower cases"
   ]
  },
  {
   "cell_type": "code",
   "execution_count": null,
   "metadata": {
    "id": "KDm7sJblGOiM"
   },
   "outputs": [],
   "source": [
    "user_input = input(\"What's your favourite language? \")\n",
    "print(\"My favourite language is \", user_input.upper())\n",
    "print(\"My favourite language is \", user_input.lower())"
   ]
  },
  {
   "cell_type": "markdown",
   "metadata": {
    "id": "3Lu7PtZYAGIa"
   },
   "source": [
    "## Exercise\n",
    "Write a Python program to get a single string from two given strings, separated by a space and swap the first two characters of each string.\n",
    "```\n",
    "Sample String : 'abc', 'xyz'\n",
    "Expected Result : 'xyc abz'\n",
    "```\n"
   ]
  },
  {
   "cell_type": "code",
   "execution_count": null,
   "metadata": {
    "id": "k0DrMhR3AQh6"
   },
   "outputs": [],
   "source": [
    "a='abc'\n",
    "b='xyz'\n",
    "\n",
    "new_a = b[:2] + a[2:]\n",
    "new_b = a[:2] + b[2:]\n",
    "\n",
    "print(new_a + ' ' + new_b)"
   ]
  },
  {
   "cell_type": "markdown",
   "metadata": {
    "id": "-sDiK_MOAafU"
   },
   "source": [
    "## Exercise\n",
    "Write a Python program to add 'ing' at the end of a given string (length should be at least 3). If the given string already ends with 'ing', add 'ly' instead. If the string length of the given string is less than 3, leave it unchanged. \n",
    "```\n",
    "Sample String : 'abc'\n",
    "Expected Result : 'abcing'\n",
    "Sample String : 'string'\n",
    "Expected Result : 'stringly'\n",
    "```"
   ]
  },
  {
   "cell_type": "code",
   "execution_count": null,
   "metadata": {
    "id": "t9unFzhSAmNh"
   },
   "outputs": [],
   "source": [
    "str1=input()\n",
    "\n",
    "length = len(str1)\n",
    "\n",
    "if length > 2:\n",
    "  if str1[-3:] == 'ing':\n",
    "    str1 += 'ly'\n",
    "  else:\n",
    "    str1 += 'ing'\n",
    "\n",
    "print(str1)"
   ]
  },
  {
   "cell_type": "markdown",
   "metadata": {
    "id": "VZXT6OvlBCPU"
   },
   "source": [
    "## Exercise\n",
    "Write a Python program to find the first appearance of the substrings 'not' and 'poor' in a given string. If 'not' follows 'poor', replace the whole 'not'...'poor' substring with 'good'. Return the resulting string.\n",
    "```\n",
    "Sample String : 'The lyrics is not that poor!'\n",
    "'The lyrics is poor!'\n",
    "Expected Result : 'The lyrics is good!'\n",
    "'The lyrics is poor!'\n",
    "```"
   ]
  },
  {
   "cell_type": "code",
   "execution_count": null,
   "metadata": {
    "id": "7Qh7PsnuBSA_"
   },
   "outputs": [],
   "source": [
    "str1='The lyrics is not that poor!'\n",
    "# str1='The lyrics is poor!'\n",
    "\n",
    "snot = str1.find('not')\n",
    "spoor = str1.find('poor')\n",
    "\n",
    "print(snot)  \n",
    "print(spoor) \n",
    "if spoor > snot and snot>0 and spoor>0:\n",
    "  str1 = str1.replace(str1[snot:(spoor+4)], 'good')\n",
    "  print(str1)\n",
    "else:\n",
    "  print(str1)"
   ]
  },
  {
   "cell_type": "markdown",
   "metadata": {
    "id": "OKqgakKkDU5p"
   },
   "source": [
    "## NOTE"
   ]
  },
  {
   "cell_type": "code",
   "execution_count": null,
   "metadata": {
    "id": "cEJrrLGfCEEq"
   },
   "outputs": [],
   "source": [
    "'''The find() method finds the first occurrence of the specified value. \n",
    "find(the string to be found, start position of the main string, end position of the main string).'''\n",
    "\n",
    "txt = \"Hello, welcome to my world.\"\n",
    "\n",
    "x = txt.find(\"e\", 5, 10)\n",
    "\n",
    "print(x)"
   ]
  },
  {
   "cell_type": "code",
   "execution_count": null,
   "metadata": {
    "id": "CuxBKvokDFFG"
   },
   "outputs": [],
   "source": [
    "# index is similar to find, however it shows error if the string is not found\n",
    "# syntax is also similar to find()\n",
    "str1='The lyrics is not that poor!'\n",
    "str1.index('not')"
   ]
  },
  {
   "cell_type": "markdown",
   "metadata": {
    "id": "mCEzStuWDYCT"
   },
   "source": [
    "## Exercise\n",
    "Write a Python program that takes a string as input and return the longest word and the length of the longest one. Go to the editor\n",
    "```\n",
    "Exercise is a body activity that enhances or maintains physical fitness and overall health and wellness\n",
    "\n",
    "output: The logest word is 'maintains' with length is 9 \n",
    "```"
   ]
  },
  {
   "cell_type": "code",
   "execution_count": null,
   "metadata": {
    "id": "rqEui5EnD0W4"
   },
   "outputs": [],
   "source": [
    "str1='Exercise is a body activity that enhances or maintains physical fitness and overall health and wellness'\n",
    "words=str1.split()\n",
    "max_len=0\n",
    "longest_word=\"\"\n",
    "\n",
    "for w in words:\n",
    "  \n",
    "  word_length=len(w)\n",
    "  print(word_length, w)\n",
    "\n",
    "  if word_length>max_len:\n",
    "    max_len=word_length\n",
    "    longest_word=w\n",
    "\n",
    "print(\"The logest word is '{}' with length is {} \".format(longest_word, max_len))"
   ]
  },
  {
   "cell_type": "markdown",
   "metadata": {
    "id": "6nCordFaFDy-"
   },
   "source": [
    "## Exercise\n",
    "Write a Python program to change a given string to a newly string where the first and last chars have been exchanged\n",
    "```\n",
    "abcd\n",
    "\n",
    "dbca\n",
    "```"
   ]
  },
  {
   "cell_type": "code",
   "execution_count": 2,
   "metadata": {
    "id": "3cPDH00iFLiB"
   },
   "outputs": [
    {
     "name": "stdout",
     "output_type": "stream",
     "text": [
      "d\n",
      "bc\n",
      "a\n"
     ]
    },
    {
     "data": {
      "text/plain": [
       "'dbca'"
      ]
     },
     "execution_count": 2,
     "metadata": {},
     "output_type": "execute_result"
    }
   ],
   "source": [
    "str1='abcd'\n",
    "print(str1[-1:])\n",
    "print(str1[1:-1])\n",
    "print(str1[:1])\n",
    "str2=str1[-1:] + str1[1:-1] + str1[:1]\n",
    "str2"
   ]
  },
  {
   "cell_type": "markdown",
   "metadata": {
    "id": "o_uaftptFp_b"
   },
   "source": [
    "## Exercise\n",
    "Write a Python program to remove characters that have odd index values in a given string\n",
    "```\n",
    "python\n",
    "\n",
    "pto \n",
    "```"
   ]
  },
  {
   "cell_type": "code",
   "execution_count": null,
   "metadata": {
    "id": "G3FetPYRF1fA"
   },
   "outputs": [],
   "source": [
    "str1='python'\n",
    "result = \"\" \n",
    "for i in range(len(str1)):\n",
    "  if i % 2 == 0:\n",
    "    result = result + str1[i]\n",
    "print(result)"
   ]
  },
  {
   "cell_type": "markdown",
   "metadata": {
    "id": "bmRyR5pkKn0d"
   },
   "source": [
    "## NOTE\n",
    "Python list vs string\n",
    "1. Strings are immutable, which means you cannot change individual characters in a string. However, you can create new strings from parts of existing strings. Unlike strings, lists are mutable, which means that their contents can be modified, without having to create a new list.\n",
    "\n",
    "(*What Mutation means is that we can change the value of a list after we have created it on the same list.*\n",
    "\n",
    "*However Immutable means you can not chnage anything on the same string after the creation of a string.*)\n"
   ]
  },
  {
   "cell_type": "code",
   "execution_count": null,
   "metadata": {
    "id": "oP-CEd2HKB4Q"
   },
   "outputs": [],
   "source": [
    "str1=\"PYTHON\"\n",
    "str1[0]='J'"
   ]
  },
  {
   "cell_type": "code",
   "execution_count": 33,
   "metadata": {
    "colab": {
     "base_uri": "https://localhost:8080/",
     "height": 35
    },
    "executionInfo": {
     "elapsed": 441,
     "status": "ok",
     "timestamp": 1676198164796,
     "user": {
      "displayName": "Pankaj Choudhury",
      "userId": "11381187948817891789"
     },
     "user_tz": -330
    },
    "id": "cniwULFoMdWh",
    "outputId": "aa37b1dc-a48c-476c-9dc9-649dde7ad0c7"
   },
   "outputs": [
    {
     "data": {
      "application/vnd.google.colaboratory.intrinsic+json": {
       "type": "string"
      },
      "text/plain": [
       "'PYTHON'"
      ]
     },
     "execution_count": 33,
     "metadata": {},
     "output_type": "execute_result"
    }
   ],
   "source": [
    "str1.replace('P', 'J')\n",
    "str1"
   ]
  },
  {
   "cell_type": "code",
   "execution_count": 34,
   "metadata": {
    "colab": {
     "base_uri": "https://localhost:8080/"
    },
    "executionInfo": {
     "elapsed": 5,
     "status": "ok",
     "timestamp": 1676198189614,
     "user": {
      "displayName": "Pankaj Choudhury",
      "userId": "11381187948817891789"
     },
     "user_tz": -330
    },
    "id": "1ZPGwBUsKKI3",
    "outputId": "9e532e67-d27b-41a8-e892-2c3404fc968c"
   },
   "outputs": [
    {
     "data": {
      "text/plain": [
       "['J', 'Y', 'T', 'H', 'O', 'N', '101']"
      ]
     },
     "execution_count": 34,
     "metadata": {},
     "output_type": "execute_result"
    }
   ],
   "source": [
    "list1=['P', 'Y', 'T', 'H', 'O', 'N']\n",
    "list1[0]='J'\n",
    "list1.append('101')\n",
    "list1"
   ]
  },
  {
   "cell_type": "code",
   "execution_count": 1,
   "metadata": {
    "id": "DN7E9KiCKVSk"
   },
   "outputs": [
    {
     "name": "stdout",
     "output_type": "stream",
     "text": [
      "8\n"
     ]
    }
   ],
   "source": [
    "str = 'He is a good boy'\n",
    "s = str.find('good')\n",
    "print (s)"
   ]
  },
  {
   "cell_type": "code",
   "execution_count": null,
   "metadata": {},
   "outputs": [],
   "source": []
  }
 ],
 "metadata": {
  "colab": {
   "authorship_tag": "ABX9TyNKJ5nT9lZEyjY8sUAcDtJ4",
   "collapsed_sections": [
    "dzGxNwv1-PKK",
    "aGKPfIV0GMaJ",
    "3Lu7PtZYAGIa",
    "-sDiK_MOAafU",
    "VZXT6OvlBCPU",
    "OKqgakKkDU5p",
    "mCEzStuWDYCT",
    "6nCordFaFDy-"
   ],
   "provenance": []
  },
  "kernelspec": {
   "display_name": "Python 3 (ipykernel)",
   "language": "python",
   "name": "python3"
  },
  "language_info": {
   "codemirror_mode": {
    "name": "ipython",
    "version": 3
   },
   "file_extension": ".py",
   "mimetype": "text/x-python",
   "name": "python",
   "nbconvert_exporter": "python",
   "pygments_lexer": "ipython3",
   "version": "3.9.13"
  }
 },
 "nbformat": 4,
 "nbformat_minor": 1
}
