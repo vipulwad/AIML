{
 "cells": [
  {
   "cell_type": "markdown",
   "id": "c54bd07e",
   "metadata": {},
   "source": [
    "# 3.Logical Operators"
   ]
  },
  {
   "cell_type": "code",
   "execution_count": 1,
   "id": "814b235d",
   "metadata": {},
   "outputs": [],
   "source": [
    "a = True\n",
    "b = False"
   ]
  },
  {
   "cell_type": "code",
   "execution_count": 2,
   "id": "2ea888cb",
   "metadata": {},
   "outputs": [
    {
     "data": {
      "text/plain": [
       "False"
      ]
     },
     "execution_count": 2,
     "metadata": {},
     "output_type": "execute_result"
    }
   ],
   "source": [
    "a & b"
   ]
  },
  {
   "cell_type": "code",
   "execution_count": 6,
   "id": "fd77815f",
   "metadata": {},
   "outputs": [
    {
     "data": {
      "text/plain": [
       "True"
      ]
     },
     "execution_count": 6,
     "metadata": {},
     "output_type": "execute_result"
    }
   ],
   "source": [
    "True and True"
   ]
  },
  {
   "cell_type": "code",
   "execution_count": 3,
   "id": "e9dcff75",
   "metadata": {},
   "outputs": [
    {
     "data": {
      "text/plain": [
       "1"
      ]
     },
     "execution_count": 3,
     "metadata": {},
     "output_type": "execute_result"
    }
   ],
   "source": [
    "True * True"
   ]
  },
  {
   "cell_type": "code",
   "execution_count": 4,
   "id": "cf01bea3",
   "metadata": {},
   "outputs": [
    {
     "data": {
      "text/plain": [
       "True"
      ]
     },
     "execution_count": 4,
     "metadata": {},
     "output_type": "execute_result"
    }
   ],
   "source": [
    "a | b"
   ]
  },
  {
   "cell_type": "code",
   "execution_count": 5,
   "id": "7f83a2d4",
   "metadata": {},
   "outputs": [
    {
     "data": {
      "text/plain": [
       "True"
      ]
     },
     "execution_count": 5,
     "metadata": {},
     "output_type": "execute_result"
    }
   ],
   "source": [
    "a or b"
   ]
  },
  {
   "cell_type": "code",
   "execution_count": 7,
   "id": "328481b4",
   "metadata": {},
   "outputs": [
    {
     "data": {
      "text/plain": [
       "False"
      ]
     },
     "execution_count": 7,
     "metadata": {},
     "output_type": "execute_result"
    }
   ],
   "source": [
    "not a"
   ]
  },
  {
   "cell_type": "code",
   "execution_count": 8,
   "id": "3cfee078",
   "metadata": {},
   "outputs": [
    {
     "data": {
      "text/plain": [
       "True"
      ]
     },
     "execution_count": 8,
     "metadata": {},
     "output_type": "execute_result"
    }
   ],
   "source": [
    "True or True"
   ]
  },
  {
   "cell_type": "markdown",
   "id": "2e147046",
   "metadata": {},
   "source": [
    "# 4. Btiwise Operator\n",
    "- They act on bits and perform bit by bit operations they are used to operate on binary numbers"
   ]
  },
  {
   "cell_type": "code",
   "execution_count": 9,
   "id": "15fe7565",
   "metadata": {},
   "outputs": [],
   "source": [
    "a = 1\n",
    "b = 0"
   ]
  },
  {
   "cell_type": "code",
   "execution_count": 10,
   "id": "fbce6946",
   "metadata": {},
   "outputs": [
    {
     "data": {
      "text/plain": [
       "0"
      ]
     },
     "execution_count": 10,
     "metadata": {},
     "output_type": "execute_result"
    }
   ],
   "source": [
    "a and b"
   ]
  },
  {
   "cell_type": "code",
   "execution_count": 11,
   "id": "ac2a9042",
   "metadata": {},
   "outputs": [
    {
     "data": {
      "text/plain": [
       "1"
      ]
     },
     "execution_count": 11,
     "metadata": {},
     "output_type": "execute_result"
    }
   ],
   "source": [
    "a or b"
   ]
  },
  {
   "cell_type": "code",
   "execution_count": 12,
   "id": "8c7e672b",
   "metadata": {},
   "outputs": [
    {
     "data": {
      "text/plain": [
       "1"
      ]
     },
     "execution_count": 12,
     "metadata": {},
     "output_type": "execute_result"
    }
   ],
   "source": [
    "a - b"
   ]
  },
  {
   "cell_type": "code",
   "execution_count": 13,
   "id": "c508d94c",
   "metadata": {},
   "outputs": [
    {
     "data": {
      "text/plain": [
       "False"
      ]
     },
     "execution_count": 13,
     "metadata": {},
     "output_type": "execute_result"
    }
   ],
   "source": [
    "True & False"
   ]
  },
  {
   "cell_type": "code",
   "execution_count": 14,
   "id": "405ff1ba",
   "metadata": {},
   "outputs": [
    {
     "data": {
      "text/plain": [
       "True"
      ]
     },
     "execution_count": 14,
     "metadata": {},
     "output_type": "execute_result"
    }
   ],
   "source": [
    "True | False"
   ]
  },
  {
   "cell_type": "markdown",
   "id": "e81bebaa",
   "metadata": {},
   "source": [
    "# 5. Assignment Operators\n",
    "- They are used to assign values to variables\n",
    "- Different assignment operators are = , -=, +=, /=. //=, *=, %="
   ]
  },
  {
   "cell_type": "code",
   "execution_count": 15,
   "id": "6e463ef0",
   "metadata": {},
   "outputs": [],
   "source": [
    "a = 10\n",
    "b = 20"
   ]
  },
  {
   "cell_type": "code",
   "execution_count": 19,
   "id": "81e0aea2",
   "metadata": {},
   "outputs": [
    {
     "data": {
      "text/plain": [
       "30"
      ]
     },
     "execution_count": 19,
     "metadata": {},
     "output_type": "execute_result"
    }
   ],
   "source": [
    "b +=a\n",
    "b"
   ]
  },
  {
   "cell_type": "code",
   "execution_count": 20,
   "id": "ab26d9d3",
   "metadata": {},
   "outputs": [
    {
     "data": {
      "text/plain": [
       "20"
      ]
     },
     "execution_count": 20,
     "metadata": {},
     "output_type": "execute_result"
    }
   ],
   "source": [
    "b -= a\n",
    "b"
   ]
  },
  {
   "cell_type": "code",
   "execution_count": 21,
   "id": "b845cfbf",
   "metadata": {},
   "outputs": [
    {
     "data": {
      "text/plain": [
       "2.0"
      ]
     },
     "execution_count": 21,
     "metadata": {},
     "output_type": "execute_result"
    }
   ],
   "source": [
    "b /= a\n",
    "b"
   ]
  },
  {
   "cell_type": "code",
   "execution_count": 22,
   "id": "7b983a08",
   "metadata": {},
   "outputs": [
    {
     "data": {
      "text/plain": [
       "2"
      ]
     },
     "execution_count": 22,
     "metadata": {},
     "output_type": "execute_result"
    }
   ],
   "source": [
    "b = 20\n",
    "b //= a\n",
    "b"
   ]
  },
  {
   "cell_type": "code",
   "execution_count": 24,
   "id": "2e5de30f",
   "metadata": {},
   "outputs": [
    {
     "data": {
      "text/plain": [
       "200"
      ]
     },
     "execution_count": 24,
     "metadata": {},
     "output_type": "execute_result"
    }
   ],
   "source": [
    "b = 20\n",
    "b*=a\n",
    "b"
   ]
  },
  {
   "cell_type": "code",
   "execution_count": 25,
   "id": "af2251dd",
   "metadata": {},
   "outputs": [
    {
     "data": {
      "text/plain": [
       "3"
      ]
     },
     "execution_count": 25,
     "metadata": {},
     "output_type": "execute_result"
    }
   ],
   "source": [
    "b = 203\n",
    "b %= a\n",
    "b"
   ]
  },
  {
   "cell_type": "code",
   "execution_count": 1,
   "id": "a44d0790",
   "metadata": {},
   "outputs": [
    {
     "data": {
      "text/plain": [
       "13"
      ]
     },
     "execution_count": 1,
     "metadata": {},
     "output_type": "execute_result"
    }
   ],
   "source": [
    "text='I love python'\n",
    "len(text)\n"
   ]
  },
  {
   "cell_type": "code",
   "execution_count": 3,
   "id": "40578c0a",
   "metadata": {},
   "outputs": [
    {
     "name": "stdout",
     "output_type": "stream",
     "text": [
      "nohtyp evol I\n"
     ]
    }
   ],
   "source": [
    " \n",
    "print(text[::-1])"
   ]
  },
  {
   "cell_type": "code",
   "execution_count": 6,
   "id": "6adcfd54",
   "metadata": {},
   "outputs": [
    {
     "name": "stdout",
     "output_type": "stream",
     "text": [
      "['I', 'love', 'python']\n"
     ]
    }
   ],
   "source": [
    "text.replace('python', 'Data Science')\n",
    "print(text.split())"
   ]
  },
  {
   "cell_type": "code",
   "execution_count": 5,
   "id": "b5f3dea1",
   "metadata": {},
   "outputs": [
    {
     "data": {
      "text/plain": [
       "'08Hello03Hello2023Hello3Hello45'"
      ]
     },
     "execution_count": 5,
     "metadata": {},
     "output_type": "execute_result"
    }
   ],
   "source": [
    "date=['08','03','2023','3','45']\n",
    "sep = 'Hello'\n",
    "sep.join(date)"
   ]
  },
  {
   "cell_type": "code",
   "execution_count": 7,
   "id": "12d30b1a",
   "metadata": {},
   "outputs": [
    {
     "name": "stdout",
     "output_type": "stream",
     "text": [
      "[1, 2, 3, 4, 44]\n",
      "['Data Science', 'Java', 'Python', [1, 2, 3, 4, 44]]\n"
     ]
    }
   ],
   "source": [
    "booklist = ['Data Science', 'Java', 'Python']\n",
    "numlist = [44,1,2,3,4]\n",
    "numlist.sort()\n",
    "print(numlist)\n",
    "booklist.append(numlist)\n",
    "print(booklist)"
   ]
  },
  {
   "cell_type": "code",
   "execution_count": 29,
   "id": "3c65433d",
   "metadata": {},
   "outputs": [
    {
     "name": "stdout",
     "output_type": "stream",
     "text": [
      "['Data Science', 'Java', 'Python', None]\n"
     ]
    }
   ],
   "source": [
    "print(booklist)"
   ]
  },
  {
   "cell_type": "code",
   "execution_count": 32,
   "id": "bd1e1f5f",
   "metadata": {},
   "outputs": [],
   "source": [
    "newbooklist= booklist.copy()\n",
    "newbooklist.append('Jscript')"
   ]
  },
  {
   "cell_type": "code",
   "execution_count": 33,
   "id": "323adccf",
   "metadata": {},
   "outputs": [
    {
     "data": {
      "text/plain": [
       "['Data Science', 'Java', 'Python', [1, 2, 3, 4, 44], 'Jscript']"
      ]
     },
     "execution_count": 33,
     "metadata": {},
     "output_type": "execute_result"
    }
   ],
   "source": [
    "newbooklist"
   ]
  },
  {
   "cell_type": "code",
   "execution_count": 36,
   "id": "6db48cd9",
   "metadata": {},
   "outputs": [
    {
     "data": {
      "text/plain": [
       "['Data Science', 'Java', 'cobol', 'Python', [1, 2, 3, 4, 44]]"
      ]
     },
     "execution_count": 36,
     "metadata": {},
     "output_type": "execute_result"
    }
   ],
   "source": [
    "booklist"
   ]
  },
  {
   "cell_type": "code",
   "execution_count": 35,
   "id": "fdee6c80",
   "metadata": {},
   "outputs": [],
   "source": [
    "booklist.insert(2,'cobol')"
   ]
  },
  {
   "cell_type": "code",
   "execution_count": 37,
   "id": "c94c8d04",
   "metadata": {},
   "outputs": [
    {
     "data": {
      "text/plain": [
       "1"
      ]
     },
     "execution_count": 37,
     "metadata": {},
     "output_type": "execute_result"
    }
   ],
   "source": [
    "booklist.index('Java')"
   ]
  },
  {
   "cell_type": "code",
   "execution_count": 39,
   "id": "59b06e8d",
   "metadata": {},
   "outputs": [
    {
     "data": {
      "text/plain": [
       "[False, True, False, True, True, False]"
      ]
     },
     "execution_count": 39,
     "metadata": {},
     "output_type": "execute_result"
    }
   ],
   "source": [
    "numlist = [3,56,3,63,68,43]\n",
    "filteredlist = [x>50 for x in numlist] \n",
    "filteredlist"
   ]
  },
  {
   "cell_type": "code",
   "execution_count": 41,
   "id": "7aeebe66",
   "metadata": {},
   "outputs": [
    {
     "data": {
      "text/plain": [
       "[9, 9, 1849]"
      ]
     },
     "execution_count": 41,
     "metadata": {},
     "output_type": "execute_result"
    }
   ],
   "source": [
    "X=[i**2 for i in numlist if i<50]\n",
    "X"
   ]
  },
  {
   "cell_type": "code",
   "execution_count": 43,
   "id": "d5c27084",
   "metadata": {},
   "outputs": [
    {
     "data": {
      "text/plain": [
       "[1000, 2022]"
      ]
     },
     "execution_count": 43,
     "metadata": {},
     "output_type": "execute_result"
    }
   ],
   "source": [
    "text='He earner Rs 1000 in 2022'\n",
    "temp=text.split()\n",
    "mylist=[]\n",
    "for t in temp:\n",
    "    if t.isdigit():\n",
    "        mylist.append(int(t))\n",
    "mylist"
   ]
  },
  {
   "cell_type": "code",
   "execution_count": 48,
   "id": "dd1eeafd",
   "metadata": {},
   "outputs": [
    {
     "data": {
      "text/plain": [
       "[1000, 2022]"
      ]
     },
     "execution_count": 48,
     "metadata": {},
     "output_type": "execute_result"
    }
   ],
   "source": [
    "mylist=[int(t) for t in text.split() if t.isdigit()==True]\n",
    "mylist"
   ]
  },
  {
   "cell_type": "code",
   "execution_count": 49,
   "id": "dde19a70",
   "metadata": {},
   "outputs": [],
   "source": [
    "car_dict = {\n",
    "    \"brand\":\"Ford\",\n",
    "    \"model\":\"Mustang\",\n",
    "    \"year\":1964\n",
    "}\n",
    "\n",
    "car_dict2 = {\n",
    "    \"brand\":\"Tata\",\n",
    "    \"model\":\"Nano\",\n",
    "    \"year\":2002\n",
    "}"
   ]
  },
  {
   "cell_type": "code",
   "execution_count": 50,
   "id": "cb343de7",
   "metadata": {},
   "outputs": [],
   "source": [
    "car_dict['price']=20000"
   ]
  },
  {
   "cell_type": "code",
   "execution_count": 51,
   "id": "5fe97135",
   "metadata": {},
   "outputs": [
    {
     "data": {
      "text/plain": [
       "{'brand': 'Ford', 'model': 'Mustang', 'year': 1964, 'price': 20000}"
      ]
     },
     "execution_count": 51,
     "metadata": {},
     "output_type": "execute_result"
    }
   ],
   "source": [
    "car_dict"
   ]
  },
  {
   "cell_type": "code",
   "execution_count": 1,
   "id": "d614eb34",
   "metadata": {},
   "outputs": [],
   "source": [
    "thisset = {'apple', 'banana', 'cherry'}\n",
    "tropical={'pineapple', 'mango', 'papaya'}\n"
   ]
  },
  {
   "cell_type": "code",
   "execution_count": 5,
   "id": "c67f21c6",
   "metadata": {},
   "outputs": [
    {
     "name": "stdout",
     "output_type": "stream",
     "text": [
      "{'cherry', 'banana', 'papaya', 'apple', 'pineapple', 'mango'}\n"
     ]
    }
   ],
   "source": [
    "thisset.update(tropical)\n",
    "print(thisset)"
   ]
  },
  {
   "cell_type": "code",
   "execution_count": 16,
   "id": "fea10772",
   "metadata": {},
   "outputs": [
    {
     "data": {
      "text/plain": [
       "{'apple', 'banana', 'cherry', 'pineapple'}"
      ]
     },
     "execution_count": 16,
     "metadata": {},
     "output_type": "execute_result"
    }
   ],
   "source": [
    "thisset"
   ]
  },
  {
   "cell_type": "code",
   "execution_count": 15,
   "id": "62bdee48",
   "metadata": {},
   "outputs": [],
   "source": [
    "thisset.remove('papaya')"
   ]
  },
  {
   "cell_type": "code",
   "execution_count": 9,
   "id": "6eb2c88b",
   "metadata": {},
   "outputs": [
    {
     "data": {
      "text/plain": [
       "['Data Science', 'Java', 'Python', [1, 2, 3, 4, 44]]"
      ]
     },
     "execution_count": 9,
     "metadata": {},
     "output_type": "execute_result"
    }
   ],
   "source": [
    "booklist"
   ]
  },
  {
   "cell_type": "markdown",
   "id": "ee17bd03",
   "metadata": {},
   "source": [
    "### Write program to check if 2 given sets have common\n"
   ]
  },
  {
   "cell_type": "code",
   "execution_count": 20,
   "id": "df0e4e53",
   "metadata": {},
   "outputs": [
    {
     "name": "stdout",
     "output_type": "stream",
     "text": [
      "{'B'}\n"
     ]
    }
   ],
   "source": [
    "set1 = {'A', 'B'}\n",
    "set2 = {'C', 'D', 'B'}\n",
    "result = set1.intersection(set2)\n",
    "print(result)"
   ]
  },
  {
   "cell_type": "code",
   "execution_count": 21,
   "id": "6b09c178",
   "metadata": {},
   "outputs": [],
   "source": [
    "num1 = {1,2,3,4,5}\n",
    "num2={4,5,6,7,8}\n",
    "diff=num1-num2\n"
   ]
  },
  {
   "cell_type": "code",
   "execution_count": 22,
   "id": "e29f78c6",
   "metadata": {},
   "outputs": [
    {
     "data": {
      "text/plain": [
       "{1, 2, 3}"
      ]
     },
     "execution_count": 22,
     "metadata": {},
     "output_type": "execute_result"
    }
   ],
   "source": [
    "diff"
   ]
  },
  {
   "cell_type": "code",
   "execution_count": 23,
   "id": "a63a8a67",
   "metadata": {},
   "outputs": [],
   "source": [
    "text1='Python is a high-level, general-purpose programming language. Its design philosophy emphasizes code readability with the use of significant indentation. Python is dynamically typed and garbage-collected. It supports multiple programming paradigms, including structured, object-oriented and functional'"
   ]
  },
  {
   "cell_type": "code",
   "execution_count": 24,
   "id": "4c55cc59",
   "metadata": {},
   "outputs": [],
   "source": [
    "text2='C++ is a high-level general-purpose programming language created by Danish computer scientist Bjarne Stroustrup as an extension of the C programming language, or \"C with Classes'"
   ]
  },
  {
   "cell_type": "code",
   "execution_count": 30,
   "id": "d74396bd",
   "metadata": {},
   "outputs": [],
   "source": [
    "words1=text1.split()\n",
    "words1\n",
    "unique_words1=set(words1)"
   ]
  },
  {
   "cell_type": "code",
   "execution_count": 31,
   "id": "595cd8c5",
   "metadata": {},
   "outputs": [],
   "source": [
    "words2=text2.split()\n",
    "words2\n",
    "unique_words2=set(words2)"
   ]
  },
  {
   "cell_type": "code",
   "execution_count": 36,
   "id": "b570187f",
   "metadata": {},
   "outputs": [
    {
     "data": {
      "text/plain": [
       "{'a', 'general-purpose', 'is', 'of', 'programming', 'the', 'with'}"
      ]
     },
     "execution_count": 36,
     "metadata": {},
     "output_type": "execute_result"
    }
   ],
   "source": [
    "common_words=unique_words1 &unique_words2\n",
    "common_words"
   ]
  },
  {
   "cell_type": "code",
   "execution_count": 35,
   "id": "d9e4a3c6",
   "metadata": {},
   "outputs": [
    {
     "data": {
      "text/plain": [
       "{'It',\n",
       " 'Its',\n",
       " 'Python',\n",
       " 'and',\n",
       " 'code',\n",
       " 'design',\n",
       " 'dynamically',\n",
       " 'emphasizes',\n",
       " 'functional',\n",
       " 'garbage-collected.',\n",
       " 'high-level,',\n",
       " 'including',\n",
       " 'indentation.',\n",
       " 'language.',\n",
       " 'multiple',\n",
       " 'object-oriented',\n",
       " 'paradigms,',\n",
       " 'philosophy',\n",
       " 'readability',\n",
       " 'significant',\n",
       " 'structured,',\n",
       " 'supports',\n",
       " 'typed',\n",
       " 'use'}"
      ]
     },
     "execution_count": 35,
     "metadata": {},
     "output_type": "execute_result"
    }
   ],
   "source": [
    "#only in text1\n",
    "onlyin1=unique_words1-unique_words2\n",
    "onlyin1"
   ]
  },
  {
   "cell_type": "code",
   "execution_count": 40,
   "id": "fa047296",
   "metadata": {},
   "outputs": [
    {
     "data": {
      "text/plain": [
       "[1, 3, 6, 10]"
      ]
     },
     "execution_count": 40,
     "metadata": {},
     "output_type": "execute_result"
    }
   ],
   "source": [
    "data=[1,2,3,4]\n",
    "output=[]\n",
    "sum=0\n",
    "for d in data:\n",
    "    sum=sum+d\n",
    "    output.append(sum)\n",
    "output"
   ]
  },
  {
   "cell_type": "code",
   "execution_count": 43,
   "id": "9692fac6",
   "metadata": {},
   "outputs": [
    {
     "data": {
      "text/plain": [
       "[3, 5, 6, 7, 8]"
      ]
     },
     "execution_count": 43,
     "metadata": {},
     "output_type": "execute_result"
    }
   ],
   "source": [
    "#Write a Python program to get a list with n elements removed from the left and right\u000b",
    "\u000b",
    "\n",
    "n=2\n",
    "nums = [1, 2, 3,5,6,7,8,9,10]\n",
    "output=nums[n:-n]\n",
    "output\n",
    "#output: [3, 5, 6, 7, 8]"
   ]
  },
  {
   "cell_type": "code",
   "execution_count": 53,
   "id": "dac2a8a9",
   "metadata": {},
   "outputs": [
    {
     "name": "stdout",
     "output_type": "stream",
     "text": [
      "6\n",
      "9\n"
     ]
    }
   ],
   "source": [
    "#Write a Python program to find the largest odd and even number in a given list of integers.\n",
    "nums = [0, 9, 2, 4, 5, 6]\n",
    "evennums=[i for i in nums if i%2==0]\n",
    "oddnums=[i for i in nums if i%2!=0]\n",
    "maxeven=max(evennums)\n",
    "maxodd=max(oddnums)\n",
    "print(maxeven)\n",
    "print(maxodd)"
   ]
  },
  {
   "cell_type": "code",
   "execution_count": 54,
   "id": "ef8972b9",
   "metadata": {},
   "outputs": [],
   "source": [
    "#### Write a Python program to get a string from a given string where all occurrences of its first char have \n",
    "#### been changed to '$'\n",
    "####  given string result output string resu$t\n",
    "#### Hint: replace()"
   ]
  },
  {
   "cell_type": "code",
   "execution_count": 58,
   "id": "afc89bd0",
   "metadata": {},
   "outputs": [
    {
     "name": "stdout",
     "output_type": "stream",
     "text": [
      "result\n",
      "l\n"
     ]
    },
    {
     "data": {
      "text/plain": [
       "'resu$t'"
      ]
     },
     "execution_count": 58,
     "metadata": {},
     "output_type": "execute_result"
    }
   ],
   "source": [
    "mainstring=input()\n",
    "replacement=input()\n",
    "output=mainstring.replace(replacement, '$')\n",
    "output"
   ]
  },
  {
   "cell_type": "code",
   "execution_count": 60,
   "id": "126e7b86",
   "metadata": {},
   "outputs": [
    {
     "name": "stdout",
     "output_type": "stream",
     "text": [
      "Write a Python program to check whether any string contains duplicate word or not. Print True or False\n",
      "18\n",
      "17\n",
      "False\n"
     ]
    }
   ],
   "source": [
    "# Q2 Write a Python program to check whether any string contains duplicate word or not. Print True or False\n",
    "# Hint: use split() to split the string, then create set, and check length\n",
    "mystr=input()\n",
    "mylist=mystr.split()\n",
    "wordcount=len(mylist)\n",
    "myset=set(mylist)\n",
    "setlen=len(myset)\n",
    "print (wordcount)\n",
    "print (setlen)\n",
    "if(wordcount==setlen):\n",
    "    print(True)\n",
    "else:\n",
    "    print(False)"
   ]
  },
  {
   "cell_type": "code",
   "execution_count": null,
   "id": "8ba4d18e",
   "metadata": {},
   "outputs": [],
   "source": [
    "# Q3. Remove punctuations from a string\u000b",
    "\u000b",
    "Hint: use replace()\n",
    "# Q3. text = \"String! With. Punctuation?\"\u000b",
    "punk=['!','?', '.']"
   ]
  },
  {
   "cell_type": "code",
   "execution_count": 78,
   "id": "08388d2c",
   "metadata": {},
   "outputs": [
    {
     "data": {
      "text/plain": [
       "'String With Punctuation'"
      ]
     },
     "execution_count": 78,
     "metadata": {},
     "output_type": "execute_result"
    }
   ],
   "source": [
    "punk=['!','?', '.']\n",
    "text=\"String! With. Punctuation?\"\n",
    "for i in punk:\n",
    "    text=text.replace(i,'')\n",
    "text\n",
    "\n"
   ]
  },
  {
   "cell_type": "code",
   "execution_count": 87,
   "id": "186d79f2",
   "metadata": {},
   "outputs": [
    {
     "name": "stdout",
     "output_type": "stream",
     "text": [
      "17100\n",
      "17100\n"
     ]
    }
   ],
   "source": [
    "# Write a Python program to add the values of a dictionary.\n",
    "#employee={'salary':12000, 'hrd':1200, 'health':2400, 'DA':1000, 'TA': 500}\n",
    "#Hint: use employee.items()\n",
    "employee={'salary':12000, 'hrd':1200, 'health':2400, 'DA':1000, 'TA': 500}\n",
    "employee.values()\n",
    "\n",
    "total =0\n",
    "for i in employee:\n",
    "    total=total+employee.get(i)\n",
    "print(total)\n",
    "\n",
    "total1=0\n",
    "for k,v in employee.items():\n",
    "    total1=total1+v\n",
    "print(total1)\n"
   ]
  },
  {
   "cell_type": "code",
   "execution_count": null,
   "id": "ca52a667",
   "metadata": {},
   "outputs": [],
   "source": [
    "# Q1. Write a Python program to check whether a given key already exists in a dictionary.\n",
    "# d={'name':'Kenny', 'age':31, 'salary':12000}\n",
    "#check key name is present or not\n",
    "# Hint: use d.keys() and check with in operator\n",
    "\n"
   ]
  },
  {
   "cell_type": "code",
   "execution_count": 90,
   "id": "da1c44b4",
   "metadata": {},
   "outputs": [
    {
     "name": "stdout",
     "output_type": "stream",
     "text": [
      "{1: 1, 2: 4, 3: 9, 4: 16, 5: 25, 6: 36, 7: 49, 8: 64, 9: 81, 10: 100, 11: 121, 12: 144, 13: 169, 14: 196, 15: 225}\n"
     ]
    }
   ],
   "source": [
    "# Q3. Write a Python script to print a dictionary where the keys are numbers between 1 and 15 (both included) and the values are the square of the keys\n",
    "# output: {1: 1, 2: 4, 3: 9, 4: 16, 5: 25, 6: 36, 7: 49, 8: 64, 9: 81, 10: 100, 11: 121, 12: 144, 13: 169, 14: 196, 15: 225}\n",
    "\n",
    "output=dict()\n",
    "for i in range(1, 16):\n",
    "    output[i]=i**2\n",
    "print(output)"
   ]
  },
  {
   "cell_type": "code",
   "execution_count": 98,
   "id": "b8d5465f",
   "metadata": {},
   "outputs": [],
   "source": [
    "def multiply(*numbers):\n",
    "    multiple = 1\n",
    "    for num in numbers:\n",
    "        multiple *= num\n",
    "    return multiple\n"
   ]
  },
  {
   "cell_type": "code",
   "execution_count": 99,
   "id": "15fc84ab",
   "metadata": {},
   "outputs": [
    {
     "data": {
      "text/plain": [
       "1200"
      ]
     },
     "execution_count": 99,
     "metadata": {},
     "output_type": "execute_result"
    }
   ],
   "source": [
    "multiply(3,5,8,10)"
   ]
  },
  {
   "cell_type": "code",
   "execution_count": 101,
   "id": "60e11c2a",
   "metadata": {},
   "outputs": [
    {
     "data": {
      "text/plain": [
       "66"
      ]
     },
     "execution_count": 101,
     "metadata": {},
     "output_type": "execute_result"
    }
   ],
   "source": [
    "greater = lambda num1, num2: num1 if num1>num2 else num2\n",
    "greater (66,34)"
   ]
  },
  {
   "cell_type": "code",
   "execution_count": 1,
   "id": "29671026",
   "metadata": {},
   "outputs": [
    {
     "name": "stdout",
     "output_type": "stream",
     "text": [
      "25\n",
      "48\n"
     ]
    }
   ],
   "source": [
    "r = lambda a : a + 15\n",
    "print(r(10))\n",
    "r = lambda x, y : x * y\n",
    "print(r(12, 4))"
   ]
  },
  {
   "cell_type": "code",
   "execution_count": 2,
   "id": "ef96209f",
   "metadata": {},
   "outputs": [
    {
     "name": "stdout",
     "output_type": "stream",
     "text": [
      "Single IntegerL  113355\n"
     ]
    }
   ],
   "source": [
    "#113355\n",
    "L = [11,33,55]\n",
    "x = int(\"\".join(map(str, L)))\n",
    "# Map converts all values of L into string.\n",
    "# Join function merges all the value\n",
    "print ('Single IntegerL ', x)"
   ]
  },
  {
   "cell_type": "code",
   "execution_count": null,
   "id": "8f9f80b7",
   "metadata": {},
   "outputs": [],
   "source": [
    "# starts from 1; upto to and increment of 2\n",
    "For i in range(1, 10, 2):\n",
    "\tPrint (\"Hello World\")\n",
    "\tPrint (i)\n",
    "\t\n",
    "\n",
    "\n",
    "\n",
    "i = 2\n",
    "While i < 10:\n",
    "\tPrint (i)\n",
    "    i+=1"
   ]
  }
 ],
 "metadata": {
  "kernelspec": {
   "display_name": "Python 3 (ipykernel)",
   "language": "python",
   "name": "python3"
  },
  "language_info": {
   "codemirror_mode": {
    "name": "ipython",
    "version": 3
   },
   "file_extension": ".py",
   "mimetype": "text/x-python",
   "name": "python",
   "nbconvert_exporter": "python",
   "pygments_lexer": "ipython3",
   "version": "3.9.13"
  }
 },
 "nbformat": 4,
 "nbformat_minor": 5
}
