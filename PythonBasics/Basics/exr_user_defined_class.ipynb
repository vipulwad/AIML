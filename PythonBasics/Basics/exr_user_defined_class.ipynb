{
 "cells": [
  {
   "cell_type": "markdown",
   "metadata": {
    "id": "cs5DkmMOS1eA"
   },
   "source": [
    "## Exercise 1\n",
    "Bank Account class\n",
    "\n",
    "* Create a Python class called BankAccount which represents a bank account, having as attributes: accountNumber (numeric type), name (name of the account owner as string type), balance.\n",
    "* Create a constructor with parameters: accountNumber, name, balance.\n",
    "* Create a Deposit() method which manages the deposit actions.\n",
    "* Create a Withdrawal() method  which manages withdrawals actions.\n",
    "* Create an bankFees() method to apply the bank fees with a percentage of 5% of the balance account.\n",
    "* Create a display() method to display account details.\n",
    "* Give the complete code for the  BankAccount class.\n"
   ]
  },
  {
   "cell_type": "code",
   "execution_count": null,
   "metadata": {
    "id": "9jkp7BlmHVqW"
   },
   "outputs": [],
   "source": [
    "class BankAccount:\n",
    "    # create the constuctor with parameters: accountNumber, name and balance \n",
    "    def __init__(self,accountNumber, name, balance):\n",
    "        self.accountNumber = accountNumber\n",
    "        self.name = name\n",
    "        self.balance = balance\n",
    "        \n",
    "    # create Deposit() method\n",
    "    def Deposit(self , d ):\n",
    "        self.balance = self.balance + d\n",
    "    \n",
    "    # create Withdrawal method\n",
    "    def Withdrawal(self , w):\n",
    "        if(self.balance < w):\n",
    "            print(\"impossible operation! Insufficient balance !\")\n",
    "        else:\n",
    "            self.balance = self.balance - w\n",
    "    # create bankFees() method\n",
    "    def bankFees(self):\n",
    "        self.balance = (95/100)*self.balance\n",
    "        \n",
    "    # create display() method\n",
    "    def display(self):\n",
    "        print(\"Account Number : \" , self.accountNumber)\n",
    "        print(\"Account Name : \" , self.name)\n",
    "        print(\"Account Balance : \" , self.balance , \" $\")\n",
    "        \n",
    "# Testing the code :\n",
    "newAccount = BankAccount(2178514584, \"Albert\" , 2700)\n",
    "# Creating Withdrawal Test\n",
    "newAccount.Withdrawal(300)\n",
    "# Create deposit test\n",
    "newAccount.Deposit(200)\n",
    "# Display account informations\n",
    "newAccount.display()"
   ]
  },
  {
   "cell_type": "markdown",
   "metadata": {
    "id": "eX7GenEcS6c1"
   },
   "source": [
    "## Exercise 2\n",
    "Python Book Class example\n",
    "1. Define a Book class with the following attributes: Title, Author (Full name), Price.\n",
    "2. Define a constructor used to initialize the attributes of the method with values entered by the user.\n",
    "3. Set the View() method to display information for the current book.\n",
    "4. Write a program to testing the Book class."
   ]
  },
  {
   "cell_type": "code",
   "execution_count": 2,
   "metadata": {
    "colab": {
     "base_uri": "https://localhost:8080/"
    },
    "id": "aDSxaw5UHuTG",
    "outputId": "35342349-9d47-4b66-9d70-41ba83913e5d"
   },
   "outputs": [
    {
     "name": "stdout",
     "output_type": "stream",
     "text": [
      "('Book Title: ', 'Python Crash Course', 'Book Author: ', 'Eric Matthes', 'Book Price: ', '23 $')\n"
     ]
    }
   ],
   "source": [
    "# Question 1\n",
    "class Book:\n",
    "     # Question 2\n",
    "     def __init__(self , Title , Author , Price):\n",
    "          self.Title    =  Title\n",
    "          self.Author   =  Author\n",
    "          self.Price    =  Price\n",
    "          \n",
    "     # Question 3\n",
    "     def view(self ):\n",
    "          return (\"Book Title: \" , self.Title ,  \"Book Author: \" , self.Author, \"Book Price: \" , self.Price)\n",
    "          \n",
    "# Question 4\n",
    "MyBook = Book(\"Python Crash Course\" , \"Eric Matthes\" , \"23 $\")          \n",
    "print( MyBook.view())\n",
    "# The output: ('Book Title: ', 'Python Crash Course', 'Book Author: ', 'Eric Matthes', 'Book Price: ', '23 $')"
   ]
  },
  {
   "cell_type": "markdown",
   "metadata": {
    "id": "amv3BzJRSsIK"
   },
   "source": [
    "## Exercise 3\n",
    "Write a Python class named Circle constructed from a radius and two methods that will compute the area and the perimeter of a circle.\n",
    "\n"
   ]
  },
  {
   "cell_type": "code",
   "execution_count": null,
   "metadata": {
    "id": "9YKc2miqS9R5"
   },
   "outputs": [],
   "source": [
    "class Circle():\n",
    "    def __init__(self, r):\n",
    "        self.radius = r\n",
    "\n",
    "    def area(self):\n",
    "        return self.radius**2*3.14\n",
    "    \n",
    "    def perimeter(self):\n",
    "        return 2*self.radius*3.14\n",
    "\n",
    "NewCircle = Circle(8)\n",
    "print(NewCircle.area())\n",
    "print(NewCircle.perimeter())\n"
   ]
  },
  {
   "cell_type": "markdown",
   "metadata": {
    "id": "U3vNJiNkR73D"
   },
   "source": [
    "## Exercise 4\n",
    "Write a Python class BankAccount with attributes like account_number, balance, date_of_opening and customer_name, and methods like deposit, withdraw, and check_balance."
   ]
  },
  {
   "cell_type": "code",
   "execution_count": 1,
   "metadata": {
    "id": "ts4NlCwdrPp6"
   },
   "outputs": [],
   "source": [
    "class BankAccount:\n",
    "    def __init__(self, account_number, date_of_opening, balance, customer_name):\n",
    "        self.account_number = account_number\n",
    "        self.date_of_opening  = date_of_opening \n",
    "        self.balance = balance\n",
    "        self.customer_name = customer_name\n",
    "        \n",
    "    def deposit(self, amount):\n",
    "        self.balance += amount\n",
    "        print(f\"${amount} has been deposited in your account.\")\n",
    "    \n",
    "    def withdraw(self, amount):\n",
    "        if amount > self.balance:\n",
    "            print(\"Insufficient balance.\")\n",
    "        else:\n",
    "            self.balance -= amount\n",
    "            print(f\"${amount} has been withdrawn from your account.\")\n",
    "            \n",
    "    def check_balance(self):\n",
    "        print(f\"Current balance is ${self.balance}.\")\n",
    "        \n",
    "    def print_customer_details(self):\n",
    "        print(\"Name:\", self.customer_name)\n",
    "        print(\"Account Number:\", self.account_number)\n",
    "        print(\"Date of opening:\", self.date_of_opening)\n",
    "        print(f\"Balance: ${self.balance}\\n\")   \n",
    "\n"
   ]
  },
  {
   "cell_type": "code",
   "execution_count": null,
   "metadata": {
    "id": "t4TR8JF8SC7M"
   },
   "outputs": [],
   "source": [
    "# Input customer details\n",
    "ac_no_1 = BankAccount(2345, \"01-01-2011\", 1000, \"Toninho Takeo\")\n",
    "ac_no_2 = BankAccount(1234, \"11-03-2011\", 2000, \"Astrid Rugile\")\n",
    "ac_no_3 = BankAccount(2312, \"12-01-2009\", 3000, \"Orli Kerenza\")\n",
    "ac_no_4 = BankAccount(1395, \"01-01-2011\", 3000, \"Luciana Chika\")\n",
    "ac_no_5 = BankAccount(6345, \"01-05-2011\", 4000, \"Toninho Takeo\")\n",
    "\n",
    "print(\"Customer Details:\")\n",
    "ac_no_1.print_customer_details()\n",
    "ac_no_2.print_customer_details()\n",
    "ac_no_3.print_customer_details()\n",
    "ac_no_4.print_customer_details()\n",
    "ac_no_5.print_customer_details()\n",
    "\n",
    "print(\"=============================\")\n",
    "ac_no_4.print_customer_details()\n",
    "# Current balance is $3000.\n",
    "# $1000 has been deposited in your account.\n",
    "ac_no_4.deposit(1000)\n",
    "ac_no_4.check_balance()\n",
    "# Your current balance $4000.\n",
    "# You want to withdraw $5000\n",
    "ac_no_4.withdraw(5000)\n",
    "# Output:\n",
    "# Insufficient balance.\n",
    "#The customer withdraw $3400.\n",
    "ac_no_4.withdraw(3400)\n",
    "ac_no_4.check_balance()\n"
   ]
  },
  {
   "cell_type": "code",
   "execution_count": null,
   "metadata": {
    "id": "sCDaU7TeSOsE"
   },
   "outputs": [],
   "source": []
  },
  {
   "cell_type": "markdown",
   "metadata": {
    "id": "khZy-aRNS7zj"
   },
   "source": [
    "## Exercise"
   ]
  },
  {
   "cell_type": "markdown",
   "metadata": {
    "id": "ogWaBSm_S76c"
   },
   "source": [
    "## Exercise"
   ]
  },
  {
   "cell_type": "markdown",
   "metadata": {
    "id": "iQGbnAQCS78_"
   },
   "source": [
    "## Exercise"
   ]
  },
  {
   "cell_type": "markdown",
   "metadata": {
    "id": "eO8nGrX_S7_e"
   },
   "source": [
    "## Exercise"
   ]
  },
  {
   "cell_type": "markdown",
   "metadata": {
    "id": "41bB9iYgS8CT"
   },
   "source": [
    "## Exercise"
   ]
  },
  {
   "cell_type": "markdown",
   "metadata": {
    "id": "eMktJnLTS8FL"
   },
   "source": [
    "## Exercise"
   ]
  },
  {
   "cell_type": "markdown",
   "metadata": {
    "id": "wlZbtDP0S8IM"
   },
   "source": [
    "## Exercise"
   ]
  },
  {
   "cell_type": "markdown",
   "metadata": {
    "id": "Dtv0EUqRS8K7"
   },
   "source": [
    "## Exercise"
   ]
  },
  {
   "cell_type": "markdown",
   "metadata": {
    "id": "QJbPwnNFS8Nq"
   },
   "source": [
    "## Exercise"
   ]
  },
  {
   "cell_type": "markdown",
   "metadata": {
    "id": "7m9OdpM4S8Qj"
   },
   "source": [
    "## Exercise"
   ]
  }
 ],
 "metadata": {
  "colab": {
   "provenance": []
  },
  "kernelspec": {
   "display_name": "Python 3 (ipykernel)",
   "language": "python",
   "name": "python3"
  },
  "language_info": {
   "codemirror_mode": {
    "name": "ipython",
    "version": 3
   },
   "file_extension": ".py",
   "mimetype": "text/x-python",
   "name": "python",
   "nbconvert_exporter": "python",
   "pygments_lexer": "ipython3",
   "version": "3.9.13"
  }
 },
 "nbformat": 4,
 "nbformat_minor": 1
}
