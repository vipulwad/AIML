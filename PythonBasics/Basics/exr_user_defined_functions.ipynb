{
 "cells": [
  {
   "cell_type": "markdown",
   "metadata": {
    "id": "27H7FiG_lwnW"
   },
   "source": [
    "# Contents\n",
    "* Function"
   ]
  },
  {
   "cell_type": "markdown",
   "metadata": {
    "id": "m1TEcTTiOQlY"
   },
   "source": [
    "## Exercise 1\n",
    "Write a program to create a function that takes two arguments, name and age, and print their value."
   ]
  },
  {
   "cell_type": "code",
   "execution_count": null,
   "metadata": {
    "id": "xZC4dT3EOXDP"
   },
   "outputs": [],
   "source": [
    "def demo(name, age):\n",
    "    # print value\n",
    "    print(name, age)\n",
    "\n",
    "# call function\n",
    "demo(\"Ben\", 25)"
   ]
  },
  {
   "cell_type": "markdown",
   "metadata": {
    "id": "HRWEmpfVl2-C"
   },
   "source": [
    "## Exercise 2\n",
    "Write a function to add two number\n"
   ]
  },
  {
   "cell_type": "code",
   "execution_count": null,
   "metadata": {
    "id": "2M6W_VgOO7iG"
   },
   "outputs": [],
   "source": [
    "def add_number(a, b):\n",
    "  c=a+b\n",
    "  return c\n",
    "\n",
    "d=add_number(2,3)\n",
    "print(d)"
   ]
  },
  {
   "cell_type": "markdown",
   "metadata": {
    "id": "lHaAIFSMOm3l"
   },
   "source": [
    "## Exercise 3\n",
    "Write a function to add two number and multipy two number and retrun both values"
   ]
  },
  {
   "cell_type": "code",
   "execution_count": null,
   "metadata": {
    "id": "shEfjNtvOuLU"
   },
   "outputs": [],
   "source": [
    "def add_number(a, b):\n",
    "  add=a+b\n",
    "  multi=a*b\n",
    "  return add, multi\n",
    "\n",
    "c, d=add_number(2,3)\n",
    "print(c)\n",
    "print(d)"
   ]
  },
  {
   "cell_type": "markdown",
   "metadata": {
    "id": "G8ldIZF8mQda"
   },
   "source": [
    "## Exercise 4\n",
    "Write a Python function to sum all the numbers in a list."
   ]
  },
  {
   "cell_type": "code",
   "execution_count": null,
   "metadata": {
    "id": "rAopQ_WRlwIm"
   },
   "outputs": [],
   "source": [
    "def sum_num(numbers):\n",
    "    total = 0\n",
    "    for x in numbers:\n",
    "        total += x\n",
    "    return total\n",
    "num=[8, 2, 3, 0, 7]\n",
    "total=sum_num(num)\n",
    "print(total)\n"
   ]
  },
  {
   "cell_type": "markdown",
   "metadata": {
    "id": "Tedrl6aummZ1"
   },
   "source": [
    "## Exercise 5\n",
    "Write a Python function to multiply all the numbers in a list"
   ]
  },
  {
   "cell_type": "code",
   "execution_count": null,
   "metadata": {
    "id": "CCsdUuEYmmGm"
   },
   "outputs": [],
   "source": [
    "def multiply(numbers):  \n",
    "    total = 1\n",
    "    for x in numbers:\n",
    "        total *= x  \n",
    "    return total  \n",
    "data=[8, 2, 3, -1, 7]\n",
    "multi=multiply(data)\n",
    "print(multi)\n"
   ]
  },
  {
   "cell_type": "markdown",
   "metadata": {
    "id": "HftRIzugm7qw"
   },
   "source": [
    "## Exercise 6\n",
    "Write a Python function to check whether a number falls in a given range."
   ]
  },
  {
   "cell_type": "code",
   "execution_count": null,
   "metadata": {
    "id": "h3Snt64pmWis"
   },
   "outputs": [],
   "source": [
    "def test_range(n, lrange, urange):\n",
    "    if n in range(lrange,urange):\n",
    "        print( \" {} is in the range between {} and {}\".format(n, lrange, urange))\n",
    "    else :\n",
    "        print(\"The number is outside the given range.\")\n",
    "test_range(15, 1, 9)\n"
   ]
  },
  {
   "cell_type": "markdown",
   "metadata": {
    "id": "_nlRuN1H5i5t"
   },
   "source": [
    "## Exercise 7\n",
    "Write a Python function that accepts a string and calculate the number of upper case letters and lower case letters.\n",
    "\n",
    "```\n",
    "to check the upercase and lowercase use isupper() and islower()\n",
    "```"
   ]
  },
  {
   "cell_type": "code",
   "execution_count": null,
   "metadata": {
    "id": "7vbKRwkP5iqN"
   },
   "outputs": [],
   "source": [
    "def string_test(s):\n",
    "    d={\"UPPER_CASE\":0, \"LOWER_CASE\":0}\n",
    "    for c in s:\n",
    "        if c.isupper():\n",
    "           d[\"UPPER_CASE\"]+=1\n",
    "        elif c.islower():\n",
    "           d[\"LOWER_CASE\"]+=1\n",
    "        else:\n",
    "           pass\n",
    "    print (\"Original String : \", s)\n",
    "    print (\"No. of Upper case characters : \", d[\"UPPER_CASE\"])\n",
    "    print (\"No. of Lower case Characters : \", d[\"LOWER_CASE\"])\n",
    "\n",
    "string_test('The quick Brown Fox')\n"
   ]
  },
  {
   "cell_type": "markdown",
   "metadata": {
    "id": "xsEahIOQ6CgE"
   },
   "source": [
    "## Exercise 8\n",
    "Write a Python function that takes a number as a parameter and check the number is palindrome or not. \n",
    "\n",
    "NOTE : A palindrome is a number or letter that remains the same even if the number and letters are inverted.\n",
    "```\n",
    "12321 ------(reversed)-----> 12321 \n",
    "```"
   ]
  },
  {
   "cell_type": "code",
   "execution_count": null,
   "metadata": {
    "id": "3RwbZJye45Y9"
   },
   "outputs": [],
   "source": [
    "def check_palindrome(x):\n",
    "  num = x\n",
    "  temp = num  \n",
    "  rev = 0  \n",
    "  while num !=0:  \n",
    "      dig = num % 10  \n",
    "      rev = rev * 10 + dig  \n",
    "      num = num // 10  \n",
    "  if(temp == rev):  \n",
    "      print(\"This value is a palindrome number!\")  \n",
    "  else:  \n",
    "      print(\"This value is not a palindrome number!\")  \n",
    "\n",
    "check_palindrome(1213)"
   ]
  },
  {
   "cell_type": "markdown",
   "metadata": {
    "id": "k-xTpo418nlq"
   },
   "source": [
    "## Exercise 9\n",
    "Create an inner function to calculate the addition in the following way\n",
    "\n",
    "* Create an outer function that will accept two parameters, a and b\n",
    "* Create an inner function inside an outer function that will calculate the addition of a and b\n",
    "* At last, an outer function will add 5 into addition and return it"
   ]
  },
  {
   "cell_type": "code",
   "execution_count": null,
   "metadata": {
    "colab": {
     "base_uri": "https://localhost:8080/"
    },
    "executionInfo": {
     "elapsed": 22,
     "status": "ok",
     "timestamp": 1676479130529,
     "user": {
      "displayName": "Pankaj Choudhury",
      "userId": "11381187948817891789"
     },
     "user_tz": -330
    },
    "id": "-_4qbZUL7W4L",
    "outputId": "ac61465a-49c9-4941-f3ff-c804e7484967"
   },
   "outputs": [
    {
     "name": "stdout",
     "output_type": "stream",
     "text": [
      "20\n"
     ]
    }
   ],
   "source": [
    "# outer function\n",
    "def outer_fun(a, b):\n",
    "    square = a ** 2\n",
    "\n",
    "    # inner function\n",
    "    def addition(a, b):\n",
    "        return a + b\n",
    "\n",
    "    # call inner function from outer function\n",
    "    add = addition(a, b)\n",
    "    # add 5 to the result\n",
    "    return add + 5\n",
    "\n",
    "result = outer_fun(5, 10)\n",
    "print(result)\n"
   ]
  },
  {
   "cell_type": "markdown",
   "metadata": {
    "id": "hfiPzWHK8UMn"
   },
   "source": [
    "## Exercise 10\n",
    "Write a Python function that takes a number as a parameter and check the number is prime or not.\n",
    "\n",
    "Note : A prime number (or a prime) is a natural number greater than 1 and that has no positive divisors other than 1 and itself."
   ]
  },
  {
   "cell_type": "code",
   "execution_count": null,
   "metadata": {
    "id": "JObhIZ8P8RYu"
   },
   "outputs": [],
   "source": [
    "def test_prime(n):\n",
    "    if (n==1):\n",
    "        return False\n",
    "    elif (n==2):\n",
    "        return True;\n",
    "    else:\n",
    "        for x in range(2,n):\n",
    "            if(n % x==0):\n",
    "                return False\n",
    "        return True             \n",
    "print(test_prime(17))"
   ]
  },
  {
   "cell_type": "markdown",
   "metadata": {
    "id": "f5206i2BB9Rz"
   },
   "source": [
    "# Lambda Function"
   ]
  },
  {
   "cell_type": "markdown",
   "metadata": {
    "id": "PgaPaM3kCE5C"
   },
   "source": [
    "# Exercise 11\n",
    "Write a Python program to create a lambda function that adds 15 to a given number passed in as an argument, also create a lambda function that multiplies argument x with argument y and prints the result."
   ]
  },
  {
   "cell_type": "code",
   "execution_count": 1,
   "metadata": {
    "id": "3a50xj9EAutl"
   },
   "outputs": [
    {
     "name": "stdout",
     "output_type": "stream",
     "text": [
      "25\n",
      "48\n"
     ]
    }
   ],
   "source": [
    "r = lambda a : a + 15\n",
    "print(r(10))\n",
    "r = lambda x, y : x * y\n",
    "print(r(12, 4))"
   ]
  },
  {
   "cell_type": "markdown",
   "metadata": {
    "id": "FSgivYCcEo2D"
   },
   "source": [
    "## Exercise 12\n",
    "Write a Python program to find whether a given string starts with a given character using Lambda."
   ]
  },
  {
   "cell_type": "code",
   "execution_count": 2,
   "metadata": {
    "id": "sBsWnZ8dGzis"
   },
   "outputs": [
    {
     "name": "stdout",
     "output_type": "stream",
     "text": [
      "True\n"
     ]
    }
   ],
   "source": [
    "starts_with = lambda x: True if x.startswith('P') else False\n",
    "print(starts_with('Python'))"
   ]
  },
  {
   "cell_type": "markdown",
   "metadata": {
    "id": "a0ENaIColJhM"
   },
   "source": [
    "# Python Docstring\n",
    "\n",
    "* Python documentation strings (or docstrings) provide a convenient way of associating documentation with Python modules, functions, classes, and methods.\n",
    "* The docstrings are declared using ”’triple single quotes”’ or “””triple double quotes””” just below the class, method or function declaration. All functions should have a docstring.\n",
    "\n"
   ]
  },
  {
   "cell_type": "code",
   "execution_count": 3,
   "metadata": {
    "executionInfo": {
     "elapsed": 11,
     "status": "ok",
     "timestamp": 1676657854224,
     "user": {
      "displayName": "Pankaj Choudhury",
      "userId": "11381187948817891789"
     },
     "user_tz": -330
    },
    "id": "qyycDIFclMNC"
   },
   "outputs": [],
   "source": [
    "def test_prime(n):\n",
    "  \"\"\" This method finds a number is prime or not.\"\"\"\n",
    "  if (n==1):\n",
    "      return False\n",
    "  elif (n==2):\n",
    "      return True;\n",
    "  else:\n",
    "      for x in range(2,n):\n",
    "          if(n % x==0):\n",
    "              return False\n",
    "      return True   "
   ]
  },
  {
   "cell_type": "code",
   "execution_count": 7,
   "metadata": {
    "colab": {
     "base_uri": "https://localhost:8080/",
     "height": 35
    },
    "executionInfo": {
     "elapsed": 10,
     "status": "ok",
     "timestamp": 1676657854225,
     "user": {
      "displayName": "Pankaj Choudhury",
      "userId": "11381187948817891789"
     },
     "user_tz": -330
    },
    "id": "jaxUMCFRliY9",
    "outputId": "ec694b87-079f-4f72-e10a-ddd509562885",
    "scrolled": true
   },
   "outputs": [
    {
     "data": {
      "application/vnd.google.colaboratory.intrinsic+json": {
       "type": "string"
      },
      "text/plain": [
       "' This method finds a number is prime or not.'"
      ]
     },
     "execution_count": 7,
     "metadata": {},
     "output_type": "execute_result"
    }
   ],
   "source": [
    "test_prime.__doc__"
   ]
  },
  {
   "cell_type": "code",
   "execution_count": 4,
   "metadata": {
    "colab": {
     "base_uri": "https://localhost:8080/"
    },
    "executionInfo": {
     "elapsed": 892,
     "status": "ok",
     "timestamp": 1676657864064,
     "user": {
      "displayName": "Pankaj Choudhury",
      "userId": "11381187948817891789"
     },
     "user_tz": -330
    },
    "id": "g5oNRwPdln-q",
    "outputId": "aa500018-4cf6-47dd-8fc5-167b299fc0d0"
   },
   "outputs": [
    {
     "name": "stdout",
     "output_type": "stream",
     "text": [
      "Help on function test_prime in module __main__:\n",
      "\n",
      "test_prime(n)\n",
      "    This method finds a number is prime or not.\n",
      "\n"
     ]
    }
   ],
   "source": [
    "help(test_prime)"
   ]
  },
  {
   "cell_type": "code",
   "execution_count": null,
   "metadata": {
    "id": "TtrIQPGEl9d9"
   },
   "outputs": [],
   "source": []
  }
 ],
 "metadata": {
  "colab": {
   "authorship_tag": "ABX9TyPjwkOaA3M/ks7ro5TX44ne",
   "collapsed_sections": [
    "m1TEcTTiOQlY"
   ],
   "provenance": []
  },
  "kernelspec": {
   "display_name": "Python 3 (ipykernel)",
   "language": "python",
   "name": "python3"
  },
  "language_info": {
   "codemirror_mode": {
    "name": "ipython",
    "version": 3
   },
   "file_extension": ".py",
   "mimetype": "text/x-python",
   "name": "python",
   "nbconvert_exporter": "python",
   "pygments_lexer": "ipython3",
   "version": "3.9.13"
  }
 },
 "nbformat": 4,
 "nbformat_minor": 1
}
