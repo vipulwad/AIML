{
 "cells": [
  {
   "cell_type": "markdown",
   "metadata": {},
   "source": [
    "# Python Take-home Exercise"
   ]
  },
  {
   "cell_type": "markdown",
   "metadata": {},
   "source": [
    "### 1. Write a program using list comprehension to find primes in range 2 to 100"
   ]
  },
  {
   "cell_type": "code",
   "execution_count": 27,
   "metadata": {},
   "outputs": [],
   "source": [
    "import math"
   ]
  },
  {
   "cell_type": "code",
   "execution_count": 28,
   "metadata": {},
   "outputs": [],
   "source": [
    "primevalues =[]\n",
    "for i in range(2, 100):\n",
    "    primevalue=True\n",
    "    squareroot = math.isqrt(i)\n",
    "    for j in range(2, squareroot+1):\n",
    "        if(i%j==0):\n",
    "            primevalue=False\n",
    "            break\n",
    "            \n",
    "    if(primevalue == True):\n",
    "        primevalues.append(i)\n"
   ]
  },
  {
   "cell_type": "code",
   "execution_count": 29,
   "metadata": {},
   "outputs": [
    {
     "data": {
      "text/plain": [
       "[2,\n",
       " 3,\n",
       " 5,\n",
       " 7,\n",
       " 11,\n",
       " 13,\n",
       " 17,\n",
       " 19,\n",
       " 23,\n",
       " 29,\n",
       " 31,\n",
       " 37,\n",
       " 41,\n",
       " 43,\n",
       " 47,\n",
       " 53,\n",
       " 59,\n",
       " 61,\n",
       " 67,\n",
       " 71,\n",
       " 73,\n",
       " 79,\n",
       " 83,\n",
       " 89,\n",
       " 97]"
      ]
     },
     "execution_count": 29,
     "metadata": {},
     "output_type": "execute_result"
    }
   ],
   "source": [
    "primevalues"
   ]
  },
  {
   "cell_type": "markdown",
   "metadata": {},
   "source": [
    "### 2. Write a function to reverse a string"
   ]
  },
  {
   "cell_type": "markdown",
   "metadata": {},
   "source": [
    "**String = 'Data Science'**"
   ]
  },
  {
   "cell_type": "code",
   "execution_count": 30,
   "metadata": {},
   "outputs": [],
   "source": [
    "def  reversestring(value):\n",
    "    return value[::-1]"
   ]
  },
  {
   "cell_type": "code",
   "execution_count": 31,
   "metadata": {},
   "outputs": [
    {
     "data": {
      "text/plain": [
       "'ecneicS ataD'"
      ]
     },
     "execution_count": 31,
     "metadata": {},
     "output_type": "execute_result"
    }
   ],
   "source": [
    "reversestring(\"Data Science\")"
   ]
  },
  {
   "cell_type": "markdown",
   "metadata": {},
   "source": [
    "### 3. Write a program to extract the words from the given list which have their first character in uppercase"
   ]
  },
  {
   "cell_type": "markdown",
   "metadata": {},
   "source": [
    "**Days = ['Monday', 'tuesday','friday', 'Sunday', 'Saturday']**\n",
    "\n",
    "**Output: ['Monday', 'Sunday', 'Saturday']**"
   ]
  },
  {
   "cell_type": "code",
   "execution_count": 32,
   "metadata": {},
   "outputs": [],
   "source": [
    "Days = ['Monday', 'tuesday','friday', 'Sunday', 'Saturday']\n",
    "Output = []"
   ]
  },
  {
   "cell_type": "code",
   "execution_count": 33,
   "metadata": {},
   "outputs": [
    {
     "data": {
      "text/plain": [
       "['Monday', 'Sunday', 'Saturday']"
      ]
     },
     "execution_count": 33,
     "metadata": {},
     "output_type": "execute_result"
    }
   ],
   "source": [
    "for d in Days:\n",
    "    if(d[0].isupper() == True):\n",
    "        Output.append(d)\n",
    "Output"
   ]
  },
  {
   "cell_type": "markdown",
   "metadata": {},
   "source": [
    "### 4. Write a program to extract the year part from the dates in the given list"
   ]
  },
  {
   "cell_type": "markdown",
   "metadata": {},
   "source": [
    "**Batch = ['15-06-1997','15-06-2011','15-06-1993','15-06-2020']**\n",
    "\n",
    "**Output: ['1997','2011','1993','2020']**"
   ]
  },
  {
   "cell_type": "code",
   "execution_count": 34,
   "metadata": {},
   "outputs": [],
   "source": [
    "Batch = ['15-06-1997','15-06-2011','15-06-1993','15-06-2020']\n",
    "Output = []"
   ]
  },
  {
   "cell_type": "code",
   "execution_count": 35,
   "metadata": {},
   "outputs": [
    {
     "data": {
      "text/plain": [
       "['1997', '2011', '1993', '2020']"
      ]
     },
     "execution_count": 35,
     "metadata": {},
     "output_type": "execute_result"
    }
   ],
   "source": [
    "for dt in Batch:\n",
    "    detailedDate = dt.split('-')\n",
    "    Output.append(detailedDate[2])\n",
    "Output"
   ]
  },
  {
   "cell_type": "markdown",
   "metadata": {},
   "source": [
    "### 5. Write a program swap the keys to values and values to keys of the given dictionary"
   ]
  },
  {
   "cell_type": "markdown",
   "metadata": {},
   "source": [
    "**Module = {'Data Science':1,'Machine Learning':2, 'SQL':3, 'Big Data':4}**\n",
    "\n",
    "**Output: {1:'Data Science',2:'Machine Learning', 3:'SQL', 4:'Big Data'}**\n"
   ]
  },
  {
   "cell_type": "code",
   "execution_count": 36,
   "metadata": {},
   "outputs": [],
   "source": [
    "Module = {'Data Science':1,'Machine Learning':2, 'SQL':3, 'Big Data':4}\n",
    "Output = {}"
   ]
  },
  {
   "cell_type": "code",
   "execution_count": 37,
   "metadata": {},
   "outputs": [
    {
     "data": {
      "text/plain": [
       "{1: 'Data Science', 2: 'Machine Learning', 3: 'SQL', 4: 'Big Data'}"
      ]
     },
     "execution_count": 37,
     "metadata": {},
     "output_type": "execute_result"
    }
   ],
   "source": [
    "for k,v in Module.items(): \n",
    "    Output[v]=k\n",
    "Output\n"
   ]
  },
  {
   "cell_type": "markdown",
   "metadata": {},
   "source": [
    "### 6. Wrote a program to calculate the cumulative average of the given list using accumulate() and lambda function"
   ]
  },
  {
   "cell_type": "markdown",
   "metadata": {},
   "source": [
    "**Input list: [5,2,1,4,6]**"
   ]
  },
  {
   "cell_type": "code",
   "execution_count": 38,
   "metadata": {},
   "outputs": [],
   "source": [
    "from itertools import accumulate\n",
    "import operator\n",
    "inputValues = [5,2,1,4,6]"
   ]
  },
  {
   "cell_type": "code",
   "execution_count": 39,
   "metadata": {},
   "outputs": [
    {
     "name": "stdout",
     "output_type": "stream",
     "text": [
      "[5, 7, 8, 12, 18]\n"
     ]
    }
   ],
   "source": [
    "\n",
    "cumulativeValues=list(accumulate(inputValues,operator.add))\n",
    "print(cumulativeValues)\n"
   ]
  },
  {
   "cell_type": "code",
   "execution_count": 40,
   "metadata": {},
   "outputs": [
    {
     "data": {
      "text/plain": [
       "[5.0, 3.5, 2.6666666666666665, 3.0, 3.6]"
      ]
     },
     "execution_count": 40,
     "metadata": {},
     "output_type": "execute_result"
    }
   ],
   "source": [
    "counter=1\n",
    "cumulativeAvg=[]\n",
    "for i in cumulativeValues:\n",
    "    cumulativeAvg.append(i/counter)\n",
    "    counter+=1\n",
    "\n",
    "cumulativeAvg"
   ]
  },
  {
   "cell_type": "markdown",
   "metadata": {},
   "source": [
    "### 7. Write a program to count the number of elements in the string (given by the user) that are not present in the 'my_string'. Do not count the white spaces\n",
    "\n",
    "Use Recursion"
   ]
  },
  {
   "cell_type": "markdown",
   "metadata": {},
   "source": [
    "**my_string = 'Data Science'**"
   ]
  },
  {
   "cell_type": "code",
   "execution_count": 41,
   "metadata": {},
   "outputs": [],
   "source": [
    "my_string = 'Data Science'\n",
    "#mystr = \"input()\"\n",
    "mystr=\"Hello India\""
   ]
  },
  {
   "cell_type": "code",
   "execution_count": 42,
   "metadata": {},
   "outputs": [
    {
     "name": "stdout",
     "output_type": "stream",
     "text": [
      "6\n"
     ]
    }
   ],
   "source": [
    "count = 0\n",
    "for s in mystr:\n",
    "    if  s!=' ' and my_string.find(s) == -1:\n",
    "        count +=1\n",
    "\n",
    "print(count)"
   ]
  },
  {
   "cell_type": "markdown",
   "metadata": {},
   "source": [
    "### 8.  Define a function to check whether a number is in a range (1000,10000) or not"
   ]
  },
  {
   "cell_type": "code",
   "execution_count": 43,
   "metadata": {},
   "outputs": [
    {
     "name": "stdout",
     "output_type": "stream",
     "text": [
      "Number 4242 is in Range\n"
     ]
    }
   ],
   "source": [
    "number = 4242\n",
    "if number in range(1000, 10001):\n",
    "    print(\"Number {} is in Range\".format(number))\n",
    "else:\n",
    "    print(\"Number {} is not in Range\".format(number))\n"
   ]
  },
  {
   "cell_type": "markdown",
   "metadata": {},
   "source": [
    "### 9. Write a program to print pascal triangle upto 6 steps (using list)"
   ]
  },
  {
   "cell_type": "code",
   "execution_count": 44,
   "metadata": {},
   "outputs": [],
   "source": [
    "##  not implemented\n",
    "    "
   ]
  },
  {
   "cell_type": "markdown",
   "metadata": {},
   "source": [
    "### 10. Write a program to calculate the sum of all elements in the list"
   ]
  },
  {
   "cell_type": "markdown",
   "metadata": {},
   "source": [
    "**test_score = [10, 32, 23, 14, 25]**"
   ]
  },
  {
   "cell_type": "code",
   "execution_count": 45,
   "metadata": {},
   "outputs": [
    {
     "data": {
      "text/plain": [
       "104"
      ]
     },
     "execution_count": 45,
     "metadata": {},
     "output_type": "execute_result"
    }
   ],
   "source": [
    "test_score = [10, 32, 23, 14, 25]\n",
    "sum(test_score)"
   ]
  },
  {
   "cell_type": "markdown",
   "metadata": {},
   "source": [
    "### 11. Find the minimum value along each of the rows"
   ]
  },
  {
   "cell_type": "markdown",
   "metadata": {},
   "source": [
    "Create a 2D Numpy array from list of lists<br>\n",
    "\n",
    "Score = np.array([[210, 402, 383],<br>\n",
    "                 [140, 375, 106], <br>\n",
    "                 [140, 125, 217], <br>\n",
    "                 [292, 240, 295]])"
   ]
  },
  {
   "cell_type": "code",
   "execution_count": 46,
   "metadata": {},
   "outputs": [
    {
     "name": "stdout",
     "output_type": "stream",
     "text": [
      "[210 106 125 240]\n"
     ]
    }
   ],
   "source": [
    "import numpy as np\n",
    "Score = np.array([[210, 402, 383],\n",
    "[140, 375, 106],\n",
    "[140, 125, 217],\n",
    "[292, 240, 295]])\n",
    "\n",
    "print(np.min(Score, axis=1))"
   ]
  },
  {
   "cell_type": "markdown",
   "metadata": {},
   "source": [
    "### 12.  Replace all even numbers in the array with -1"
   ]
  },
  {
   "cell_type": "markdown",
   "metadata": {},
   "source": [
    "Use the array given below\n",
    "\n",
    "    num_array = np.array([0, 21, 32, 13, 44, 45, 26, 28, 38, 34, 65, 48, 76])"
   ]
  },
  {
   "cell_type": "code",
   "execution_count": 47,
   "metadata": {},
   "outputs": [
    {
     "name": "stdout",
     "output_type": "stream",
     "text": [
      "[-1 21 -1 13 -1 45 -1 -1 -1 -1 65 -1 -1]\n"
     ]
    }
   ],
   "source": [
    "num_array = np.array([0, 21, 32, 13, 44, 45, 26, 28, 38, 34, 65, 48, 76])\n",
    "\n",
    "num_array[num_array%2==0]=-1\n",
    "print(num_array)\n"
   ]
  },
  {
   "cell_type": "markdown",
   "metadata": {},
   "source": [
    "### 13. Create a pandas series having values 4, 8, -1, 2, NAN and their index as d, b, a, c, e"
   ]
  },
  {
   "cell_type": "code",
   "execution_count": 48,
   "metadata": {},
   "outputs": [
    {
     "name": "stdout",
     "output_type": "stream",
     "text": [
      "d    4.0\n",
      "b    8.0\n",
      "a   -1.0\n",
      "c    2.0\n",
      "e    NaN\n",
      "dtype: float64\n"
     ]
    }
   ],
   "source": [
    "import pandas as pd\n",
    "\n",
    "data=np.array([4,8,-1,2,np.nan])\n",
    "s = pd.Series (data, index=[\"d\", \"b\", \"a\", \"c\", \"e\"])\n",
    "\n",
    "print(s) "
   ]
  },
  {
   "cell_type": "markdown",
   "metadata": {},
   "source": [
    "### 14. Add a new column 'Height' in the give dataframe"
   ]
  },
  {
   "cell_type": "markdown",
   "metadata": {},
   "source": [
    "<table>\n",
    "  <tr>\n",
    "  <th>Name </th>\n",
    "  <th>Weight</th>\n",
    "  </tr>\n",
    "  <tr>\n",
    "  <td>Mia</td>\n",
    "  <td>55</td>    \n",
    "  </tr>\n",
    "  <tr>\n",
    "  <td>Joy</td>\n",
    "  <td>66</td> \n",
    "  </tr>\n",
    "  <tr>\n",
    "  <td>Karan</td>\n",
    "  <td>80</td> \n",
    "  </tr>\n",
    "  <tr>\n",
    "  <td>George</td>\n",
    "  <td>67</td> \n",
    "</tr>\n",
    "</table>\n",
    "  "
   ]
  },
  {
   "cell_type": "markdown",
   "metadata": {},
   "source": [
    "New Column:\n",
    "<table>\n",
    "  <tr>\n",
    "  <th>Height</th>   \n",
    "  </tr>\n",
    "  <tr>\n",
    "  <td>5.5</td>\n",
    "  </tr>\n",
    "  <tr>\n",
    "  <td>6.7</td>\n",
    "  </tr>\n",
    "  <tr>\n",
    "  <td>5.8</td>\n",
    "  </tr>\n",
    "  <tr>\n",
    "  <td>6</td>\n",
    "</tr>\n",
    "</table>"
   ]
  },
  {
   "cell_type": "code",
   "execution_count": 49,
   "metadata": {},
   "outputs": [],
   "source": [
    "\n",
    "dict1 = {'Name': [\"Mia\", \"Joy\", \"Karan\", \"George\"], \n",
    "         'Weight': [55, 66, 80, 67]}\n",
    "df1 = pd.DataFrame(dict1)\n",
    "\n",
    "arr1 = np.array([5.5, 6.7, 5.8, 6])\n",
    "s1 = pd.Series (arr1)\n",
    "\n",
    "df2 = pd.DataFrame(s1)\n",
    "df2 = df2.rename(columns={0:'Height'})\n",
    "df3=pd.concat([df1,df2], axis=1)\n",
    "\n"
   ]
  },
  {
   "cell_type": "code",
   "execution_count": 50,
   "metadata": {},
   "outputs": [
    {
     "data": {
      "text/html": [
       "<div>\n",
       "<style scoped>\n",
       "    .dataframe tbody tr th:only-of-type {\n",
       "        vertical-align: middle;\n",
       "    }\n",
       "\n",
       "    .dataframe tbody tr th {\n",
       "        vertical-align: top;\n",
       "    }\n",
       "\n",
       "    .dataframe thead th {\n",
       "        text-align: right;\n",
       "    }\n",
       "</style>\n",
       "<table border=\"1\" class=\"dataframe\">\n",
       "  <thead>\n",
       "    <tr style=\"text-align: right;\">\n",
       "      <th></th>\n",
       "      <th>Name</th>\n",
       "      <th>Weight</th>\n",
       "      <th>Height</th>\n",
       "    </tr>\n",
       "  </thead>\n",
       "  <tbody>\n",
       "    <tr>\n",
       "      <th>0</th>\n",
       "      <td>Mia</td>\n",
       "      <td>55</td>\n",
       "      <td>5.5</td>\n",
       "    </tr>\n",
       "    <tr>\n",
       "      <th>1</th>\n",
       "      <td>Joy</td>\n",
       "      <td>66</td>\n",
       "      <td>6.7</td>\n",
       "    </tr>\n",
       "    <tr>\n",
       "      <th>2</th>\n",
       "      <td>Karan</td>\n",
       "      <td>80</td>\n",
       "      <td>5.8</td>\n",
       "    </tr>\n",
       "    <tr>\n",
       "      <th>3</th>\n",
       "      <td>George</td>\n",
       "      <td>67</td>\n",
       "      <td>6.0</td>\n",
       "    </tr>\n",
       "  </tbody>\n",
       "</table>\n",
       "</div>"
      ],
      "text/plain": [
       "     Name  Weight  Height\n",
       "0     Mia      55     5.5\n",
       "1     Joy      66     6.7\n",
       "2   Karan      80     5.8\n",
       "3  George      67     6.0"
      ]
     },
     "execution_count": 50,
     "metadata": {},
     "output_type": "execute_result"
    }
   ],
   "source": [
    "df3"
   ]
  },
  {
   "cell_type": "markdown",
   "metadata": {},
   "source": [
    "### 15. Use the data created in question 14, to do the following:\n",
    "Access column 'Name' by specifying the column number<br>\n",
    "Access column 'Height' by specifying the column name"
   ]
  },
  {
   "cell_type": "code",
   "execution_count": 61,
   "metadata": {},
   "outputs": [
    {
     "data": {
      "text/plain": [
       "0       Mia\n",
       "1       Joy\n",
       "2     Karan\n",
       "3    George\n",
       "Name: Name, dtype: object"
      ]
     },
     "execution_count": 61,
     "metadata": {},
     "output_type": "execute_result"
    }
   ],
   "source": [
    "df3.iloc[:, 0]"
   ]
  },
  {
   "cell_type": "code",
   "execution_count": 63,
   "metadata": {},
   "outputs": [
    {
     "data": {
      "text/plain": [
       "0    5.5\n",
       "1    6.7\n",
       "2    5.8\n",
       "3    6.0\n",
       "Name: Height, dtype: float64"
      ]
     },
     "execution_count": 63,
     "metadata": {},
     "output_type": "execute_result"
    }
   ],
   "source": [
    "df3.Height"
   ]
  },
  {
   "cell_type": "markdown",
   "metadata": {},
   "source": [
    "### 16. Find duplicate rows based on the column 'Order_ID'"
   ]
  },
  {
   "cell_type": "markdown",
   "metadata": {},
   "source": [
    "**Use the dataframe given below:**\n",
    "   \n",
    "<table>\n",
    "<tr>\n",
    "<th>Order_ID</th>\n",
    "<th>Product</th>\n",
    "<th>City</th>\n",
    "</tr>\n",
    "<tr>\n",
    "<td>YZ1100</td>\n",
    "<td>Cell Phone</td>\n",
    "<td>Sydeny</td>\n",
    "</tr>\n",
    "<tr>\n",
    "<td>RW1200</td>\n",
    "<td>Watch</td>\n",
    "<td>Chicago</td>\n",
    "</tr>\n",
    "<tr>\n",
    "<td>YZ1100</td>\n",
    "<td>Cell Phone</td>\n",
    "<td>New York</td>\n",
    "</tr>\n",
    "<tr>\n",
    "<td>TY1400</td>\n",
    "<td>Charger</td>\n",
    "<td>Chicago</td>\n",
    "</tr>\n",
    "<tr>\n",
    "<td>VB1500</td>\n",
    "<td>Watch</td>\n",
    "<td>Chicago</td>\n",
    "</tr>\n",
    "<tr>\n",
    "<td>TY1400</td>\n",
    "<td>Headphones</td>\n",
    "<td>Texas</td>\n",
    "</tr>\n",
    "<tr>\n",
    "<td>MW1600</td>\n",
    "<td>Charger</td>\n",
    "<td>New York</td>\n",
    "</tr>\n",
    "<tr>\n",
    "<td>CN1600</td>\n",
    "<td>Headphones</td>\n",
    "<td>Chicago</td>\n",
    "</tr>\n",
    "   \n",
    "</table>"
   ]
  },
  {
   "cell_type": "code",
   "execution_count": null,
   "metadata": {},
   "outputs": [],
   "source": [
    "order = {'Order_ID': [\"YZ1100\", \"RW1200\", \"YZ1100\", \"TY1400\",\"VB1500\",\"TY1400\",\"MW1600\",\"CN1600\"], \n",
    "         'Product': [\"Cell Phone\", \"Watch\",\"Cell Phone\",\"Charger\",\"Watch\",\"Headphones\",\"Charger\",\"Headphones\"],\n",
    "        'City': [\"Sydeny\",\"Chicago\",\"New York\",\"Chicago\",\"Chicago\",\"Texas\",\"New York\",\"Chicago\"]}\n",
    "\n",
    "pdOrder = pd.DataFrame(order)\n",
    "print(pdOrder)\n",
    "\n",
    "pdOrder[pdOrder.duplicated(['Order_ID'], keep='first')]\n",
    "\n"
   ]
  },
  {
   "cell_type": "markdown",
   "metadata": {},
   "source": [
    "### 17. Use the data created in question 16, to do the following:\n",
    "In column 'Product', replace all the 'Cell Phone' values with 'Mobile' using numpy.where\n"
   ]
  },
  {
   "cell_type": "code",
   "execution_count": null,
   "metadata": {},
   "outputs": [],
   "source": [
    "pdOrder['Product']=np.where(pdOrder['Product']=='Cell Phone','Mobile',pdOrder['Product'])\n",
    "pdOrder"
   ]
  },
  {
   "cell_type": "markdown",
   "metadata": {},
   "source": [
    "### 18. Perform right join to combine values based on the 'ID' in the two dataframes"
   ]
  },
  {
   "cell_type": "markdown",
   "metadata": {},
   "source": [
    "**Use the dataframe given below:**\n",
    "   \n",
    "<table>\n",
    "    <tr>\n",
    "        <th>ID</th>\n",
    "        <th>Candidate_Name</th>\n",
    "        <th>Subject</th>\n",
    "    </tr>\n",
    "    <tr>\n",
    "        <td>101</td>\n",
    "        <td>Alex</td>\n",
    "        <td>History</td>\n",
    "    </tr>\n",
    "    <tr>\n",
    "        <td>102</td>\n",
    "        <td>Amy</td>\n",
    "        <td>English</td>\n",
    "    </tr>\n",
    "    <tr>\n",
    "        <td>103</td>\n",
    "        <td>Allen</td>\n",
    "        <td>Geography</td>\n",
    "    </tr>\n",
    "    <tr>\n",
    "        <td>104</td>\n",
    "        <td>Alice</td>\n",
    "        <td>German</td>\n",
    "    </tr>\n",
    "        <td>105</td>\n",
    "        <td>James</td>\n",
    "        <td>History</td>\n",
    "    </tr>\n",
    "    <tr>\n",
    "        <td>106</td>\n",
    "        <td>Sara</td>\n",
    "        <td>German</td>\n",
    "    </tr>\n",
    "    <tr>\n",
    "        <td>107</td>\n",
    "        <td>Mia</td>\n",
    "        <td>English</td>\n",
    "    </tr>  \n",
    "</table>\n",
    "<br>\n",
    "\n",
    "\n",
    "\n",
    "<table>\n",
    "    <tr>\n",
    "        <th>ID</th>\n",
    "        <th>City</th>\n",
    "        <th>Subject_Score</th>\n",
    "    </tr>\n",
    "    <tr>\n",
    "        <td>101</td>\n",
    "        <td>Delhi</td>\n",
    "        <td>89</td>\n",
    "    </tr>\n",
    "    <tr>\n",
    "        <td>102</td>\n",
    "        <td>Mumbai</td>\n",
    "        <td>78</td>\n",
    "    </tr>\n",
    "    <tr>\n",
    "        <td>103</td>\n",
    "        <td>Delhi</td>\n",
    "        <td>77</td>\n",
    "    </tr>\n",
    "    <tr>\n",
    "        <td>104</td>\n",
    "        <td>Chennai</td>\n",
    "        <td>87</td>\n",
    "    </tr>\n",
    "    <tr>\n",
    "        <td>105</td>\n",
    "        <td>Hyderabad</td>\n",
    "        <td>87</td>\n",
    "    </tr>\n",
    "        <td>108</td>\n",
    "        <td>Delhi</td>\n",
    "        <td>84</td>\n",
    "\n",
    "    </tr>\n",
    "</table>"
   ]
  },
  {
   "cell_type": "code",
   "execution_count": null,
   "metadata": {},
   "outputs": [],
   "source": [
    "d1 = {'ID': [101,102,103,104,105,106,107], \n",
    "         'Candidate Name': [\"Alex\", \"Amy\",\"Allen\",\"Alice\",\"James\",\"Sara\",\"Mia\"],\n",
    "        'Subject': [\"History\",\"English\",\"Geography\",\"German\",\"History\",\"German\",\"English\"]}\n",
    "\n",
    "pd1 = pd.DataFrame(d1)\n",
    "\n",
    "d2 = {'ID': [101,102,103,104,105,108], \n",
    "         'City': [\"Delhi\", \"Mumbai\",\"Delhi\",\"Chennai\",\"Hyderabad\",\"Delhi\"],\n",
    "        'Subject_Score': [89,78,77,87,87,84]}\n",
    "\n",
    "pd2 = pd.DataFrame(d2)\n",
    "\n",
    "pd.merge(pd1, pd2, on='ID',how='right')"
   ]
  },
  {
   "cell_type": "markdown",
   "metadata": {},
   "source": [
    "### 19. Use the following data to plot a pie chart and annotate the percentage sales"
   ]
  },
  {
   "cell_type": "markdown",
   "metadata": {},
   "source": [
    "<table>\n",
    "    <tr>\n",
    "        <th>City</th>\n",
    "        <th>Sales</th>\n",
    "    </tr>\n",
    "    <tr>\n",
    "        <td>Delhi</td>\n",
    "        <td>890</td>\n",
    "    </tr>\n",
    "    <tr>\n",
    "        <td>Mumbai</td>\n",
    "        <td>784</td>\n",
    "    </tr>\n",
    "    <tr>\n",
    "        <td>Delhi</td>\n",
    "        <td>775</td>\n",
    "    </tr>\n",
    "    <tr>\n",
    "        <td>Chennai</td>\n",
    "        <td>873</td>\n",
    "    </tr>\n",
    "    <tr>\n",
    "        <td>Hyderabad</td>\n",
    "        <td>387</td>\n",
    "    </tr>\n",
    "        <td>Delhi</td>\n",
    "        <td>684</td>\n",
    "\n",
    "    </tr>\n",
    "</table>"
   ]
  },
  {
   "cell_type": "code",
   "execution_count": null,
   "metadata": {},
   "outputs": [],
   "source": [
    "import matplotlib.pyplot as plt\n",
    "\n",
    "per1 = {'City': [\"Delhi\", \"Mumbai\",\"Delhi\",\"Chennai\",\"Hyderabad\",\"Delhi\"],\n",
    "        'Sales': [890,784,775,873,387,684]}\n",
    "pper1 = pd.DataFrame(per1)\n",
    "\n",
    "\n",
    "plt.pie(x=pper1['Sales'], labels=pper1['City'], autopct='%.1f%%')\n",
    "plt.title('Percentage Sales', color='b', fontsize=23)\n",
    "plt.show()\n"
   ]
  },
  {
   "cell_type": "markdown",
   "metadata": {},
   "source": [
    "### 20. Use the data created in question 19, to do the following:\n",
    "Calculate minimum, maximum and average sales for each origin"
   ]
  },
  {
   "cell_type": "code",
   "execution_count": null,
   "metadata": {},
   "outputs": [],
   "source": [
    "print(\"\\nMinimum: \",pper1.groupby('City')['Sales'].min())\n",
    "print(\"\\nMaximum: \",pper1.groupby('City')['Sales'].max())\n",
    "print(\"\\nAverage: \",pper1.groupby('City')['Sales'].mean())\n",
    "print(\"\\nMultiple stats: \",pper1.groupby('City')['Sales'].describe())\n",
    "print(\"\\nMultiple Aggregates: \",pper1.groupby('City')['Sales'].agg(['min', 'max','mean']))\n"
   ]
  }
 ],
 "metadata": {
  "kernelspec": {
   "display_name": "Python 3 (ipykernel)",
   "language": "python",
   "name": "python3"
  },
  "language_info": {
   "codemirror_mode": {
    "name": "ipython",
    "version": 3
   },
   "file_extension": ".py",
   "mimetype": "text/x-python",
   "name": "python",
   "nbconvert_exporter": "python",
   "pygments_lexer": "ipython3",
   "version": "3.9.13"
  }
 },
 "nbformat": 4,
 "nbformat_minor": 2
}
