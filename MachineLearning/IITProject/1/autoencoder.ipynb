{
  "cells": [
    {
      "cell_type": "code",
      "execution_count": 9,
      "metadata": {
        "colab": {
          "base_uri": "https://localhost:8080/",
          "height": 106
        },
        "id": "t6G6CoKkrmhl",
        "outputId": "d83575f5-a3e2-4f21-dc23-84f0ef6daf4c"
      },
      "outputs": [
        {
          "ename": "NameError",
          "evalue": "name 'video_path' is not defined",
          "output_type": "error",
          "traceback": [
            "\u001b[0;31m---------------------------------------------------------------------------\u001b[0m",
            "\u001b[0;31mNameError\u001b[0m                                 Traceback (most recent call last)",
            "Cell \u001b[0;32mIn[9], line 127\u001b[0m\n\u001b[1;32m    124\u001b[0m     plt\u001b[38;5;241m.\u001b[39mshow()\n\u001b[1;32m    126\u001b[0m \u001b[38;5;28;01mif\u001b[39;00m \u001b[38;5;18m__name__\u001b[39m \u001b[38;5;241m==\u001b[39m \u001b[38;5;124m\"\u001b[39m\u001b[38;5;124m__main__\u001b[39m\u001b[38;5;124m\"\u001b[39m:\n\u001b[0;32m--> 127\u001b[0m     main()\n",
            "Cell \u001b[0;32mIn[9], line 88\u001b[0m, in \u001b[0;36mmain\u001b[0;34m()\u001b[0m\n\u001b[1;32m     85\u001b[0m img_dir \u001b[38;5;241m=\u001b[39m \u001b[38;5;124m'\u001b[39m\u001b[38;5;124m/Users/dxs6024/Downloads/test_video.mp4\u001b[39m\u001b[38;5;124m'\u001b[39m\n\u001b[1;32m     86\u001b[0m img_height, img_width \u001b[38;5;241m=\u001b[39m \u001b[38;5;241m256\u001b[39m, \u001b[38;5;241m256\u001b[39m\n\u001b[0;32m---> 88\u001b[0m images \u001b[38;5;241m=\u001b[39m load_images_from_video(video_path, img_height, img_width)\n\u001b[1;32m     90\u001b[0m X_train, X_val \u001b[38;5;241m=\u001b[39m train_test_split(images, test_size\u001b[38;5;241m=\u001b[39m\u001b[38;5;241m0.2\u001b[39m, random_state\u001b[38;5;241m=\u001b[39m\u001b[38;5;241m42\u001b[39m)\n\u001b[1;32m     92\u001b[0m input_shape \u001b[38;5;241m=\u001b[39m (img_height, img_width, \u001b[38;5;241m3\u001b[39m)\n",
            "\u001b[0;31mNameError\u001b[0m: name 'video_path' is not defined"
          ]
        }
      ],
      "source": [
        "import os\n",
        "import cv2\n",
        "import numpy as np\n",
        "import matplotlib.pyplot as plt\n",
        "from sklearn.model_selection import train_test_split\n",
        "import tensorflow as tf\n",
        "from tensorflow.keras import layers, models\n",
        "\n",
        "# Load and preprocess the dataset\n",
        "#def load_images(img_dir, img_height, img_width):\n",
        "#    images = []\n",
        "\n",
        "#    for filename in os.listdir(img_dir):\n",
        "#        img_path = os.path.join(img_dir, filename)\n",
        "\n",
        "#        img = cv2.imread(img_path)\n",
        "#        img = cv2.resize(img, (img_width, img_height))\n",
        "\n",
        "#        images.append(img / 255.0)\n",
        "\n",
        "#    return np.array(images)\n",
        "\n",
        "def load_images_from_video(video_path, img_height, img_width):\n",
        "    cap = cv2.VideoCapture(video_path)\n",
        "    images = []\n",
        "\n",
        "    while cap.isOpened():\n",
        "        ret, frame = cap.read()\n",
        "        if not ret:\n",
        "            break\n",
        "\n",
        "        frame = cv2.resize(frame, (img_width, img_height))\n",
        "        images.append(frame / 255.0)\n",
        "\n",
        "    cap.release()\n",
        "    return np.array(images)\n",
        "\n",
        "\n",
        "# Define the autoencoder model\n",
        "def build_autoencoder(input_shape):\n",
        "    input_img = layers.Input(shape=input_shape)\n",
        "\n",
        "    # Encoder\n",
        "    x = layers.Conv2D(64, (3, 3), activation='relu', padding='same')(input_img)\n",
        "    x = layers.MaxPooling2D((2, 2), padding='same')(x)\n",
        "    x = layers.Conv2D(32, (3, 3), activation='relu', padding='same')(x)\n",
        "    encoded = layers.MaxPooling2D((2, 2), padding='same')(x)\n",
        "\n",
        "    # Decoder\n",
        "    x = layers.Conv2D(32, (3, 3), activation='relu', padding='same')(encoded)\n",
        "    x = layers.UpSampling2D((2, 2))(x)\n",
        "    x = layers.Conv2D(64, (3, 3), activation='relu', padding='same')(x)\n",
        "    x = layers.UpSampling2D((2, 2))(x)\n",
        "    decoded = layers.Conv2D(3, (3, 3), activation='sigmoid', padding='same')(x)\n",
        "\n",
        "    autoencoder = models.Model(input_img, decoded)\n",
        "    autoencoder.compile(optimizer='adam', loss='binary_crossentropy', metrics=['accuracy'])\n",
        "    return autoencoder\n",
        "\n",
        "# Calculate the steering angle\n",
        "def calculate_steering_angle(lane_image):\n",
        "    # Apply Gaussian Blur\n",
        "    blurred = cv2.GaussianBlur(lane_image, (5, 5), 0)\n",
        "\n",
        "    # Apply Canny Edge Detector\n",
        "    edges = cv2.Canny(blurred, 50, 150)\n",
        "\n",
        "    # Find the coordinates of the lane lines\n",
        "    histogram = np.sum(edges[edges.shape[0]//2:,:], axis=0)\n",
        "    midpoint = histogram.shape[0] // 2\n",
        "    left_base = np.argmax(histogram[:midpoint])\n",
        "    right_base = np.argmax(histogram[midpoint:]) + midpoint\n",
        "\n",
        "    # Calculate the center of the lanes\n",
        "    lane_center = (left_base + right_base) // 2\n",
        "    img_center = lane_image.shape[1] // 2\n",
        "\n",
        "    # Calculate the steering angle\n",
        "    angle = np.arctan((lane_center - img_center) / lane_image.shape[0])\n",
        "    angle = np.degrees(angle)\n",
        "    return angle\n",
        "\n",
        "# Main function\n",
        "def main():\n",
        "    video_path = '/Users/dxs6024/Downloads/test_video.mp4'\n",
        "    img_height, img_width = 256, 256\n",
        "\n",
        "    images = load_images_from_video(video_path, img_height, img_width)\n",
        "\n",
        "    X_train, X_val = train_test_split(images, test_size=0.2, random_state=42)\n",
        "\n",
        "    input_shape = (img_height, img_width, 3)\n",
        "    autoencoder = build_autoencoder(input_shape)\n",
        "\n",
        "    autoencoder.fit(X_train, X_train, epochs=50, batch_size=32, validation_data=(X_val, X_val))\n",
        "\n",
        "    # Save the trained model\n",
        "    autoencoder.save('lane_detection_autoencoder.h5')\n",
        "\n",
        "    # Test on some images and visualize the results\n",
        "    decoded_images = autoencoder.predict(X_val)\n",
        "\n",
        "    for i in range(5):\n",
        "        plt.subplot(3, 5, i + 1)\n",
        "        plt.imshow(X_val[i])\n",
        "        plt.title('Original')\n",
        "\n",
        "        plt.subplot(3, 5, i + 6)\n",
        "        plt.imshow(decoded_images[i])\n",
        "        plt.title('Autoencoded')\n",
        "\n",
        "        # Calculate and display the steering angle\n",
        "        lane_image = (decoded_images[i] * 255).astype(np.uint8)\n",
        "        angle = calculate_steering_angle(lane_image)\n",
        "        print(f\"Steering Angle: {angle:.2f} degrees\")\n",
        "\n",
        "        # Show the edges\n",
        "        blurred = cv2.GaussianBlur(lane_image, (5, 5), 0)\n",
        "        edges = cv2.Canny(blurred, 50, 150)\n",
        "        plt.subplot(3, 5, i + 11)\n",
        "        plt.imshow(edges, cmap='gray')\n",
        "        plt.title('Edges')\n",
        "\n",
        "    plt.show()\n",
        "\n",
        "if __name__ == \"__main__\":\n",
        "    main()"
      ]
    },
    {
      "cell_type": "code",
      "execution_count": 7,
      "metadata": {},
      "outputs": [
        {
          "name": "stdout",
          "output_type": "stream",
          "text": [
            "/Users/dxs6024/Downloads\n"
          ]
        }
      ],
      "source": [
        "!pwd"
      ]
    },
    {
      "cell_type": "code",
      "execution_count": null,
      "metadata": {},
      "outputs": [],
      "source": []
    }
  ],
  "metadata": {
    "colab": {
      "provenance": []
    },
    "kernelspec": {
      "display_name": "Python 3",
      "name": "python3"
    },
    "language_info": {
      "codemirror_mode": {
        "name": "ipython",
        "version": 3
      },
      "file_extension": ".py",
      "mimetype": "text/x-python",
      "name": "python",
      "nbconvert_exporter": "python",
      "pygments_lexer": "ipython3",
      "version": "3.11.7"
    }
  },
  "nbformat": 4,
  "nbformat_minor": 0
}
