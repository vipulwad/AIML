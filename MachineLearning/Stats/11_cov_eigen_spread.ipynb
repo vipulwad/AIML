{
 "cells": [
  {
   "cell_type": "markdown",
   "metadata": {},
   "source": [
    "# Generate N random points inside a Circle"
   ]
  },
  {
   "cell_type": "code",
   "execution_count": null,
   "metadata": {},
   "outputs": [],
   "source": [
    "import matplotlib.pyplot as plt\n",
    "import numpy as np\n",
    "import math\n",
    "import random\n",
    "# plt.figure(figsize=(8,8))\n",
    "circle_theta=np.linspace(0, 2*math.pi, 150)\n",
    "# circle_theta\n",
    "c_x=100\n",
    "c_y=100\n",
    "radius=20\n",
    "X=c_x+radius* np.cos(circle_theta)\n",
    "Y=c_y+radius* np.sin(circle_theta)\n",
    "\n",
    "#generate points\n",
    "p_x=[]\n",
    "p_y=[]\n",
    "num=np.random.randint(0,360, 1000)\n",
    "print(num)\n",
    "\n",
    "for i in num:\n",
    "  theta_in_radian=math.radians(i)\n",
    "  r=np.random.randint(0,radius, 1)\n",
    "  p_x.append(c_x + r*np.cos(theta_in_radian))\n",
    "  p_y.append(c_y + r*np.sin(theta_in_radian))\n",
    "print(len(p_x), len(p_y))\n",
    "\n",
    "# theta_in_radian=math.radians(45)\n",
    "# p_x=c_x+10*np.cos(theta_in_radian)\n",
    "# p_y=c_y+10*np.sin(theta_in_radian)\n",
    "# print(p_x, p_y)\n",
    "\n",
    "# plotting\n",
    "plt.plot(X,Y)\n",
    "plt.plot([c_x-radius, c_x+radius], [c_y, c_y])\n",
    "plt.plot([c_x, c_x], [c_y-radius, c_y+radius])\n",
    "plt.scatter(p_x, p_y)\n",
    "plt.axis('equal')\n",
    "plt.show()"
   ]
  },
  {
   "cell_type": "markdown",
   "metadata": {},
   "source": [
    "# Generate N random points inside a Ellipse"
   ]
  },
  {
   "cell_type": "code",
   "execution_count": null,
   "metadata": {},
   "outputs": [],
   "source": [
    "import matplotlib.pyplot as plt\n",
    "import numpy as np\n",
    "import math\n",
    "import random\n",
    "# plt.figure(figsize=(8,8))\n",
    "circle_theta=np.linspace(0, 2*math.pi, 150)\n",
    "# circle_theta\n",
    "c_x=100\n",
    "c_y=100\n",
    "\n",
    "radius_b=20\n",
    "radius_a=2*radius_b\n",
    "\n",
    "X=c_x+radius_a* np.cos(circle_theta)\n",
    "Y=c_y+radius_b* np.sin(circle_theta)\n",
    "\n",
    "#generate points\n",
    "p_x=[]\n",
    "p_y=[]\n",
    "num=np.random.randint(0,360, 200)\n",
    "print(num)\n",
    "\n",
    "for i in num:\n",
    "  theta_in_radian=math.radians(i)\n",
    "  r_A=np.random.randint(0,radius_a, 1)\n",
    "  r_B=np.random.randint(0,radius_b, 1)\n",
    "\n",
    "  p_x.append(c_x+r_A* np.cos(theta_in_radian))\n",
    "  p_y.append(c_y+r_B* np.sin(theta_in_radian))\n",
    "print(p_x, p_y)\n",
    "\n",
    "\n",
    "\n",
    "# theta_in_radian=math.radians(45)\n",
    "# p_x=c_x+10*np.cos(theta_in_radian)\n",
    "# p_y=c_y+10*np.sin(theta_in_radian)\n",
    "# print(p_x, p_y)\n",
    "\n"
   ]
  },
  {
   "cell_type": "markdown",
   "metadata": {},
   "source": [
    "## Eigenvalue and Eigenvector docomposition of Co-varriance matrix\n",
    "This exercise shows that eigenvectors are in that direction where the most of the data is spread. If we take a ellipse the data is sparead in the direction of major axis and minor axis. This example also shows if the data have more then two dimension."
   ]
  },
  {
   "cell_type": "code",
   "execution_count": null,
   "metadata": {},
   "outputs": [],
   "source": [
    "X_ = np.array([[x,y] for x,y in zip(p_x,p_y)])\n",
    "X_=X_.reshape(X_.shape[0], X_.shape[1])\n",
    "X_.shape"
   ]
  },
  {
   "cell_type": "code",
   "execution_count": null,
   "metadata": {},
   "outputs": [],
   "source": [
    "Co = np.cov(X_.T)\n",
    "Co"
   ]
  },
  {
   "cell_type": "code",
   "execution_count": null,
   "metadata": {},
   "outputs": [],
   "source": [
    "Co_inv = np.linalg.inv(Co)\n",
    "w,v = np.linalg.eig(Co)\n",
    "w,v"
   ]
  },
  {
   "cell_type": "code",
   "execution_count": null,
   "metadata": {},
   "outputs": [],
   "source": [
    "e_x1 = (v[0][0]*10) + float(c_x)\n",
    "e_y1 = (v[0][1]*10) + float(c_y)\n",
    "\n",
    "e_x2 = (v[1][0]*10) + float(c_x)\n",
    "e_y2 = (v[1][1]*10) + float(c_y)\n",
    "\n",
    "print(e_x1,e_y1)"
   ]
  },
  {
   "cell_type": "code",
   "execution_count": null,
   "metadata": {},
   "outputs": [],
   "source": [
    "# plotting\n",
    "plt.plot(X,Y)\n",
    "plt.plot([c_x-radius_a, c_x+radius_a], [c_y, c_y])\n",
    "plt.plot([c_x, c_x], [c_y-radius_b, c_y+radius_b])\n",
    "plt.scatter(p_x, p_y)\n",
    "plt.plot([c_x,e_x1],[c_y,e_y1],c='r',linewidth = '5')\n",
    "plt.plot([c_x,e_x2],[c_y,e_y2],c='g',linewidth = '5')\n",
    "plt.axis('equal')\n",
    "plt.show()"
   ]
  },
  {
   "cell_type": "code",
   "execution_count": null,
   "metadata": {},
   "outputs": [],
   "source": []
  }
 ],
 "metadata": {
  "kernelspec": {
   "display_name": "Python 3 (ipykernel)",
   "language": "python",
   "name": "python3"
  },
  "language_info": {
   "codemirror_mode": {
    "name": "ipython",
    "version": 3
   },
   "file_extension": ".py",
   "mimetype": "text/x-python",
   "name": "python",
   "nbconvert_exporter": "python",
   "pygments_lexer": "ipython3",
   "version": "3.11.5"
  }
 },
 "nbformat": 4,
 "nbformat_minor": 2
}
