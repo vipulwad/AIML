{
 "cells": [
  {
   "cell_type": "markdown",
   "metadata": {
    "id": "crBAx_7eOp6A"
   },
   "source": [
    "<center><h1>Stochastic Search</h1></center>\n",
    "<center><h2>Objective: Find the Global Optima for the Objective function.</h2></center>"
   ]
  },
  {
   "cell_type": "markdown",
   "metadata": {
    "id": "pVZ7Be-oOp6M"
   },
   "source": [
    "__Stochastic Search__ is an iterative method to find the global optima\n",
    "of a function in the search space. It uses information about the functional value to generate children points around the parent and gradually moving towards the global optima."
   ]
  },
  {
   "cell_type": "markdown",
   "metadata": {
    "id": "RgiA21JhOp6O"
   },
   "source": [
    "---"
   ]
  },
  {
   "cell_type": "markdown",
   "metadata": {
    "id": "llPbzV1jOp6P"
   },
   "source": [
    "## Overview of the Algorithm"
   ]
  },
  {
   "cell_type": "markdown",
   "metadata": {
    "id": "8FR8etlGOp6R"
   },
   "source": [
    "1. Define the Objective function to be optimized.\n",
    "2. Generate a set of points of size equal to __popsize__ in the search space.\n",
    "3. Calculate the functional values of all the points.\n",
    "4. Compute the weight values for all the points in the set.\n",
    "5. Calculate the number of children to be generated for all the population points using the weight values.\n",
    "6. Define the neighbourhood for all the points and generate the calculated children points for all the population.\n",
    "7. Generate __nRRI__ points by random sampling the entire search space.\n",
    "8. Generate __nRLC__ points by random linear recombination of population points.\n",
    "9. Create a super set by adding the parent points, children points, __nRRI__ points and __nRLC__ points to it.\n",
    "10. Select the __Best__ popsize number of points from the super set.\n",
    "11. Redefine the population with the best select points.\n",
    "12. Do the next iteration with the new set of points."
   ]
  },
  {
   "cell_type": "markdown",
   "metadata": {
    "id": "Gjq6XcXROp6S"
   },
   "source": [
    "### Demonstration of Stochastic Search"
   ]
  },
  {
   "cell_type": "markdown",
   "metadata": {
    "id": "UkHAKx6XOp6U"
   },
   "source": [
    "__OBJECTIVE FUNCTION__"
   ]
  },
  {
   "cell_type": "markdown",
   "metadata": {
    "id": "dKtB-jnROp6V"
   },
   "source": [
    "maximize \\begin{multline}\n",
    "\\label{equ:function}\n",
    "z = 1.7*exp\\bigg[-\\bigg\\{\\dfrac{{(x-3)}^2}{10}+\\dfrac{{(y-3)}^2}{10}\\bigg\\}\\bigg]+\n",
    "exp\\bigg[-\\bigg\\{\\dfrac{{(x+5)}^2}{8}+\\dfrac{{(y+5)}^2}{8}\\bigg\\}\\bigg] +\\\\ 2*exp\\bigg[-\\bigg\\{\\dfrac{{x}^2}{4}+\\dfrac{{y}^2}{5}\\bigg\\}\\bigg] +\n",
    "1.5*exp\\bigg[-\\bigg\\{\\dfrac{{(x-4)}^2}{18}+\\dfrac{{(y+4)}^2}{16}\\bigg\\}\\bigg]+\\\\\n",
    "1.2*exp\\bigg[-\\bigg\\{\\dfrac{{(x+4)}^2}{18}+\\dfrac{{(y-4)}^2}{16}\\bigg\\}\\bigg]\n",
    "\\end{multline}"
   ]
  },
  {
   "cell_type": "code",
   "execution_count": 1,
   "metadata": {
    "id": "8NuSjvvDOp6X",
    "outputId": "30fdd65b-45c0-450e-c74d-8aadc8104e83"
   },
   "outputs": [
    {
     "name": "stdout",
     "output_type": "stream",
     "text": [
      "Using matplotlib backend: <object object at 0x000001DD5889D2B0>\n"
     ]
    }
   ],
   "source": [
    "%matplotlib"
   ]
  },
  {
   "cell_type": "code",
   "execution_count": 2,
   "metadata": {
    "id": "rkOYITcIOp6e"
   },
   "outputs": [],
   "source": [
    "import numpy as np\n",
    "import matplotlib.pyplot as plt\n",
    "from math import exp"
   ]
  },
  {
   "cell_type": "code",
   "execution_count": 3,
   "metadata": {
    "id": "n5Wkx4T9Op6f"
   },
   "outputs": [],
   "source": [
    "def fun(x,y):  # Objective Function\n",
    "    z=1.7*exp(-1*(((x-3)**2)/10+((y-3)**2)/10))+exp(-1*(((x+5)**2)/8+((y+5)**2)/8))+2*exp(-1*(((x)**2)/4+((y)**2)/5))+1.5*exp(-1*(((x-4)**2)/18+(y+4)**2/16))+1.2*exp(-1*(((x+4)**2)/18+((y-4)**2)/16))\n",
    "    return(z)"
   ]
  },
  {
   "cell_type": "code",
   "execution_count": 4,
   "metadata": {
    "id": "3lrGZugZOp6g"
   },
   "outputs": [],
   "source": [
    "def initialise(xmin,xmax,ymin,ymax,popsize):\n",
    "    x = np.random.uniform(low=xmin, high=xmax, size=(popsize,1))  ## Generating the initial population\n",
    "    y = np.random.uniform(low=ymin, high=ymax, size=(popsize,1))\n",
    "    return (np.hstack((x,y)))"
   ]
  },
  {
   "cell_type": "code",
   "execution_count": 5,
   "metadata": {
    "id": "C9XHDTuKOp6g"
   },
   "outputs": [],
   "source": [
    "def NRRI(xmin,xmax,ymin,ymax,nrri):\n",
    "    x = np.random.uniform(low=xmin,high=xmax,size=(nrri,1)) # Generating the nRRI points\n",
    "    y = np.random.uniform(low=ymin,high=ymax,size=(nrri,1))\n",
    "    return (np.hstack((x,y)))"
   ]
  },
  {
   "cell_type": "code",
   "execution_count": 6,
   "metadata": {
    "id": "6fvK5n_VOp6h"
   },
   "outputs": [],
   "source": [
    "def NRLC(data,nrlc):\n",
    "    data_nrlc = np.empty((nrlc,2))\n",
    "    for i in range(nrlc):    # Generating the nRLC points\n",
    "        r1=np.random.randint(len(data)) # Randomly selecting points from parent to generate\n",
    "        r2=np.random.randint(len(data)) # linear combination points\n",
    "        eta = np.random.rand()\n",
    "        data_nrlc[i,0] = data[r1,0]*eta+(1-eta)*data[r2,0]\n",
    "        data_nrlc[i,1] = data[r1,1]*eta+(1-eta)*data[r2,1]\n",
    "    return data_nrlc"
   ]
  },
  {
   "cell_type": "code",
   "execution_count": 7,
   "metadata": {
    "id": "ZWe6osiGOp6h"
   },
   "outputs": [],
   "source": [
    "def stochasticsearch(xmin,xmax,ymin,ymax,popsize,radius,nrri,nrlc,maxitr):\n",
    "\n",
    "    data = initialise(xmin,xmax,ymin,ymax,popsize)  # Initialise the Population\n",
    "\n",
    "    for i in range(maxitr):  ## Repeating this for maxitr number of times\n",
    "        data_new = data\n",
    "        f = []\n",
    "        for x,y in zip(data[:,0],data[:,1]):  # calculating the functional values for the population\n",
    "            f.append(fun(x,y))\n",
    "        f = np.array(f)\n",
    "        fmin = min(f)\n",
    "\n",
    "        positive = f - fmin                 # Substracting the min. value of z to make z-value Positive\n",
    "        W = positive/sum(positive)          # Calculating the weights values\n",
    "        n = np.round(W*popsize).astype(int) # Calculating the number of children points for each parent point\n",
    "\n",
    "        for i in range(popsize):\n",
    "            data_child = np.empty((n[i],2))\n",
    "            for j in range(n[i]):                           # Generating Children Points around the parent points\n",
    "                theta = np.random.uniform(low=0,high=360)  # Define the neighbourhood for each parent point\n",
    "                data_child[j,0] = data[i,0] + radius*np.cos(theta)\n",
    "                data_child[j,1] = data[i,1] + radius*np.sin(theta)\n",
    "\n",
    "            data_new = np.append(data_new,data_child,axis=0)   # Appending the childern points in the super list\n",
    "\n",
    "        data_nrri = NRRI(xmin,xmax,ymin,ymax,nrri)  # function call to generate nrri points\n",
    "\n",
    "        data_new = np.append(data_new,data_nrri,axis=0)\n",
    "\n",
    "        data_nrlc = NRLC(data,nrlc)    # function call to generate nrlc points\n",
    "\n",
    "        data_new = np.append(data_new,data_nrlc,axis=0)\n",
    "\n",
    "        z = []\n",
    "        for x,y in zip(data_new[:,0],data_new[:,1]):  # calculating the functional values for the population\n",
    "            z.append(fun(x,y))\n",
    "        sort_index = np.argsort(z)[::-1]\n",
    "        data_new = data_new[sort_index]\n",
    "\n",
    "        ### For plotting the contour and the scattering the population\n",
    "\n",
    "        plt.figure(figsize=(8, 7), dpi=80)\n",
    "        xx = np.linspace(-10,10,100)\n",
    "        yy = np.linspace(-10,10,100)\n",
    "        zz = np.empty((100,100))\n",
    "        XX,YY = np.meshgrid(xx,yy)\n",
    "        for i in range(100):\n",
    "            for j in range(100):\n",
    "                zz[i][j] = fun(XX[i,j],YY[i,j])\n",
    "        plt.contour(XX,YY,zz)\n",
    "        plt.scatter(np.array(data[:,0]),np.array(data[:,1]),s=10,color='red')\n",
    "        plt.show()\n",
    "        plt.pause(1)\n",
    "        plt.clf()\n",
    "\n",
    "        data = data_new[0:popsize]  # Overwriting the previous population\n",
    "    plt.close('all')\n",
    "    return data"
   ]
  },
  {
   "cell_type": "code",
   "execution_count": 8,
   "metadata": {
    "id": "ctrn7dChOp6j",
    "outputId": "ec2c7724-a880-4d06-aee6-ef87ab6b6472",
    "scrolled": false
   },
   "outputs": [
    {
     "name": "stdout",
     "output_type": "stream",
     "text": [
      "x,y: 0.20895339085683134 0.21652881508498048\n",
      "f(x,y)= z = 2.7259306750372674\n"
     ]
    }
   ],
   "source": [
    "data = stochasticsearch(-10,10,-10,10,100,0.5,50,50,15)\n",
    "best = data[0]\n",
    "z = fun(data[0,0],data[0,1])\n",
    "print(\"x,y:\",data[0,0],data[0,1])\n",
    "print(\"f(x,y)= z =\",z)"
   ]
  },
  {
   "cell_type": "code",
   "execution_count": null,
   "metadata": {
    "id": "enPL_yg5Op6k"
   },
   "outputs": [],
   "source": []
  }
 ],
 "metadata": {
  "colab": {
   "provenance": []
  },
  "kernelspec": {
   "display_name": "Python 3 (ipykernel)",
   "language": "python",
   "name": "python3"
  },
  "language_info": {
   "codemirror_mode": {
    "name": "ipython",
    "version": 3
   },
   "file_extension": ".py",
   "mimetype": "text/x-python",
   "name": "python",
   "nbconvert_exporter": "python",
   "pygments_lexer": "ipython3",
   "version": "3.11.5"
  }
 },
 "nbformat": 4,
 "nbformat_minor": 1
}
