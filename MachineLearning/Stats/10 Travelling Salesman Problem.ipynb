{
 "cells": [
  {
   "cell_type": "markdown",
   "metadata": {
    "id": "CoU5ZnZ_W3HA"
   },
   "source": []
  },
  {
   "cell_type": "markdown",
   "metadata": {
    "id": "C-cAxX-FW2Ey"
   },
   "source": [
    "# Travelling Salesman Problem\n",
    "\n",
    "The Traveling Salesman Problem (TSP) is a classic optimization problem in the field of operations research and computer science. Given a list of cities and the distances between each pair of cities, the task is to find the shortest possible route that visits each city exactly once and returns to the starting city. The TSP is an NP-hard problem, meaning that there is no known algorithm that can solve it efficiently for large instances in polynomial time. However, there are several approaches to tackle the problem, ranging from exact algorithms to heuristic and approximation methods.\n",
    "\n",
    "1. Exact algorithms: These algorithms aim to find the optimal solution for small to medium-sized instances of the TSP. The most well-known exact algorithm is the Held-Karp algorithm, also known as the dynamic programming algorithm. It has a time complexity of O(n^2 * 2^n) and is not practical for large instances due to its exponential growth.\n",
    "\n",
    "2. Heuristic algorithms: Heuristic algorithms are methods that provide a reasonably good solution in a more efficient time frame compared to exact algorithms. Examples include the Nearest Neighbor algorithm, the Insertion algorithm, and the Genetic Algorithm.\n",
    "\n",
    "3. Approximation algorithms: These algorithms guarantee a solution that is within a certain factor of the optimal solution. The most famous approximation algorithm for TSP is the Christofides algorithm, which guarantees a solution that is at most 3/2 times the length of the optimal solution.\n",
    "\n",
    "4. Metaheuristic algorithms: These are high-level strategies that guide other algorithms to explore the solution space efficiently. Examples include Simulated Annealing, Ant Colony Optimization, and Particle Swarm Optimization.\n",
    "\n",
    "It's essential to choose the appropriate algorithm based on the size of the TSP instance and the desired level of optimality. For small instances, exact algorithms can be used, but for larger instances, heuristic or approximation algorithms are more practical.\n",
    "\n",
    "The TSP has numerous real-world applications, such as planning vehicle routes for delivery services, optimizing circuit board manufacturing, and DNA sequencing. Due to its computational complexity and practical significance, the TSP remains a widely studied problem in the field of optimization and computer science."
   ]
  },
  {
   "cell_type": "markdown",
   "metadata": {
    "id": "1VCONl7Dv8Iz"
   },
   "source": [
    "\n",
    "\n",
    "## Our Approach:\n",
    "We will modify the Stochastic Search algorithm to solve the TSP optimisation problem. The initial population generate children by random swapping the elements in the parent solution. The total distance covered is the objective function for this problem which we want to minimize. We will start from city '0' and come back to city '0' while covering all the cities."
   ]
  },
  {
   "cell_type": "markdown",
   "metadata": {
    "id": "q2s8RUfiv_mQ"
   },
   "source": [
    "### Import necessary Libraries"
   ]
  },
  {
   "cell_type": "code",
   "execution_count": 1,
   "metadata": {
    "id": "r9DKfgjxv82h"
   },
   "outputs": [],
   "source": [
    "import numpy as np\n",
    "import matplotlib.pyplot as plt\n",
    "import warnings\n",
    "warnings.filterwarnings('ignore')"
   ]
  },
  {
   "cell_type": "markdown",
   "metadata": {
    "id": "cgXZVbU9wDlz"
   },
   "source": [
    "### Read the Distance Matrix"
   ]
  },
  {
   "cell_type": "code",
   "execution_count": 2,
   "metadata": {
    "id": "zGA2rMF7wB6r"
   },
   "outputs": [
    {
     "ename": "OSError",
     "evalue": "/content/dist_matrix_TSP.csv not found.",
     "output_type": "error",
     "traceback": [
      "\u001b[1;31m---------------------------------------------------------------------------\u001b[0m",
      "\u001b[1;31mOSError\u001b[0m                                   Traceback (most recent call last)",
      "\u001b[1;32m~\\AppData\\Local\\Temp\\ipykernel_41184\\2656945351.py\u001b[0m in \u001b[0;36m<module>\u001b[1;34m\u001b[0m\n\u001b[1;32m----> 1\u001b[1;33m \u001b[0mdist_matr\u001b[0m \u001b[1;33m=\u001b[0m \u001b[0mnp\u001b[0m\u001b[1;33m.\u001b[0m\u001b[0mgenfromtxt\u001b[0m\u001b[1;33m(\u001b[0m\u001b[1;34m\"/content/dist_matrix_TSP.csv\"\u001b[0m\u001b[1;33m,\u001b[0m\u001b[0mdelimiter\u001b[0m\u001b[1;33m=\u001b[0m\u001b[1;34m','\u001b[0m\u001b[1;33m)\u001b[0m\u001b[1;33m\u001b[0m\u001b[1;33m\u001b[0m\u001b[0m\n\u001b[0m\u001b[0;32m      2\u001b[0m \u001b[0mprint\u001b[0m\u001b[1;33m(\u001b[0m\u001b[0mdist_matr\u001b[0m\u001b[1;33m)\u001b[0m\u001b[1;33m\u001b[0m\u001b[1;33m\u001b[0m\u001b[0m\n",
      "\u001b[1;32mC:\\Vipul\\Anaconda\\lib\\site-packages\\numpy\\lib\\npyio.py\u001b[0m in \u001b[0;36mgenfromtxt\u001b[1;34m(fname, dtype, comments, delimiter, skip_header, skip_footer, converters, missing_values, filling_values, usecols, names, excludelist, deletechars, replace_space, autostrip, case_sensitive, defaultfmt, unpack, usemask, loose, invalid_raise, max_rows, encoding, like)\u001b[0m\n\u001b[0;32m   1791\u001b[0m             \u001b[0mfname\u001b[0m \u001b[1;33m=\u001b[0m \u001b[0mos_fspath\u001b[0m\u001b[1;33m(\u001b[0m\u001b[0mfname\u001b[0m\u001b[1;33m)\u001b[0m\u001b[1;33m\u001b[0m\u001b[1;33m\u001b[0m\u001b[0m\n\u001b[0;32m   1792\u001b[0m         \u001b[1;32mif\u001b[0m \u001b[0misinstance\u001b[0m\u001b[1;33m(\u001b[0m\u001b[0mfname\u001b[0m\u001b[1;33m,\u001b[0m \u001b[0mstr\u001b[0m\u001b[1;33m)\u001b[0m\u001b[1;33m:\u001b[0m\u001b[1;33m\u001b[0m\u001b[1;33m\u001b[0m\u001b[0m\n\u001b[1;32m-> 1793\u001b[1;33m             \u001b[0mfid\u001b[0m \u001b[1;33m=\u001b[0m \u001b[0mnp\u001b[0m\u001b[1;33m.\u001b[0m\u001b[0mlib\u001b[0m\u001b[1;33m.\u001b[0m\u001b[0m_datasource\u001b[0m\u001b[1;33m.\u001b[0m\u001b[0mopen\u001b[0m\u001b[1;33m(\u001b[0m\u001b[0mfname\u001b[0m\u001b[1;33m,\u001b[0m \u001b[1;34m'rt'\u001b[0m\u001b[1;33m,\u001b[0m \u001b[0mencoding\u001b[0m\u001b[1;33m=\u001b[0m\u001b[0mencoding\u001b[0m\u001b[1;33m)\u001b[0m\u001b[1;33m\u001b[0m\u001b[1;33m\u001b[0m\u001b[0m\n\u001b[0m\u001b[0;32m   1794\u001b[0m             \u001b[0mfid_ctx\u001b[0m \u001b[1;33m=\u001b[0m \u001b[0mcontextlib\u001b[0m\u001b[1;33m.\u001b[0m\u001b[0mclosing\u001b[0m\u001b[1;33m(\u001b[0m\u001b[0mfid\u001b[0m\u001b[1;33m)\u001b[0m\u001b[1;33m\u001b[0m\u001b[1;33m\u001b[0m\u001b[0m\n\u001b[0;32m   1795\u001b[0m         \u001b[1;32melse\u001b[0m\u001b[1;33m:\u001b[0m\u001b[1;33m\u001b[0m\u001b[1;33m\u001b[0m\u001b[0m\n",
      "\u001b[1;32mC:\\Vipul\\Anaconda\\lib\\site-packages\\numpy\\lib\\_datasource.py\u001b[0m in \u001b[0;36mopen\u001b[1;34m(path, mode, destpath, encoding, newline)\u001b[0m\n\u001b[0;32m    191\u001b[0m \u001b[1;33m\u001b[0m\u001b[0m\n\u001b[0;32m    192\u001b[0m     \u001b[0mds\u001b[0m \u001b[1;33m=\u001b[0m \u001b[0mDataSource\u001b[0m\u001b[1;33m(\u001b[0m\u001b[0mdestpath\u001b[0m\u001b[1;33m)\u001b[0m\u001b[1;33m\u001b[0m\u001b[1;33m\u001b[0m\u001b[0m\n\u001b[1;32m--> 193\u001b[1;33m     \u001b[1;32mreturn\u001b[0m \u001b[0mds\u001b[0m\u001b[1;33m.\u001b[0m\u001b[0mopen\u001b[0m\u001b[1;33m(\u001b[0m\u001b[0mpath\u001b[0m\u001b[1;33m,\u001b[0m \u001b[0mmode\u001b[0m\u001b[1;33m,\u001b[0m \u001b[0mencoding\u001b[0m\u001b[1;33m=\u001b[0m\u001b[0mencoding\u001b[0m\u001b[1;33m,\u001b[0m \u001b[0mnewline\u001b[0m\u001b[1;33m=\u001b[0m\u001b[0mnewline\u001b[0m\u001b[1;33m)\u001b[0m\u001b[1;33m\u001b[0m\u001b[1;33m\u001b[0m\u001b[0m\n\u001b[0m\u001b[0;32m    194\u001b[0m \u001b[1;33m\u001b[0m\u001b[0m\n\u001b[0;32m    195\u001b[0m \u001b[1;33m\u001b[0m\u001b[0m\n",
      "\u001b[1;32mC:\\Vipul\\Anaconda\\lib\\site-packages\\numpy\\lib\\_datasource.py\u001b[0m in \u001b[0;36mopen\u001b[1;34m(self, path, mode, encoding, newline)\u001b[0m\n\u001b[0;32m    531\u001b[0m                                       encoding=encoding, newline=newline)\n\u001b[0;32m    532\u001b[0m         \u001b[1;32melse\u001b[0m\u001b[1;33m:\u001b[0m\u001b[1;33m\u001b[0m\u001b[1;33m\u001b[0m\u001b[0m\n\u001b[1;32m--> 533\u001b[1;33m             \u001b[1;32mraise\u001b[0m \u001b[0mIOError\u001b[0m\u001b[1;33m(\u001b[0m\u001b[1;34m\"%s not found.\"\u001b[0m \u001b[1;33m%\u001b[0m \u001b[0mpath\u001b[0m\u001b[1;33m)\u001b[0m\u001b[1;33m\u001b[0m\u001b[1;33m\u001b[0m\u001b[0m\n\u001b[0m\u001b[0;32m    534\u001b[0m \u001b[1;33m\u001b[0m\u001b[0m\n\u001b[0;32m    535\u001b[0m \u001b[1;33m\u001b[0m\u001b[0m\n",
      "\u001b[1;31mOSError\u001b[0m: /content/dist_matrix_TSP.csv not found."
     ]
    }
   ],
   "source": [
    "dist_matr = np.genfromtxt(\"/content/dist_matrix_TSP.csv\",delimiter=',')\n",
    "print(dist_matr)"
   ]
  },
  {
   "cell_type": "code",
   "execution_count": null,
   "metadata": {
    "colab": {
     "base_uri": "https://localhost:8080/"
    },
    "id": "V3_QuRTywIHc",
    "outputId": "2b1011f7-d007-4fcc-f4b5-c6354192c448"
   },
   "outputs": [],
   "source": [
    "print(dist_matr.shape)"
   ]
  },
  {
   "cell_type": "code",
   "execution_count": null,
   "metadata": {
    "colab": {
     "base_uri": "https://localhost:8080/"
    },
    "id": "3gVq0dxOwLJe",
    "outputId": "bdbfd0c0-7ba0-4798-93b3-895bc96617fa"
   },
   "outputs": [],
   "source": [
    "print((dist_matr==dist_matr.T).all())"
   ]
  },
  {
   "cell_type": "markdown",
   "metadata": {
    "id": "IDVXjfXwwNWk"
   },
   "source": [
    "### Define the Distance function"
   ]
  },
  {
   "cell_type": "code",
   "execution_count": null,
   "metadata": {
    "id": "jDD1DQobwLGW"
   },
   "outputs": [],
   "source": [
    "def dist_func(a,dist_matrix):  ## Function to calculate the distance covered for a vector solution\n",
    "    total_distance = 0\n",
    "    i = 0\n",
    "    for j in range(len(a)):\n",
    "        total_distance += dist_matrix[a[j]][i]\n",
    "        i = a[j]\n",
    "    total_distance += dist_matrix[i][0]\n",
    "    return total_distance"
   ]
  },
  {
   "cell_type": "markdown",
   "metadata": {
    "id": "QrNIhI-ewRER"
   },
   "source": [
    "### Function to Swap two elements"
   ]
  },
  {
   "cell_type": "code",
   "execution_count": null,
   "metadata": {
    "id": "uiUZNlaUwLDr"
   },
   "outputs": [],
   "source": [
    "def swap(x): # Helper function to generate children from the parent solution by swapping two elements\n",
    "    sampled_idx = np.random.choice(len(x),2,replace=False)\n",
    "    x[sampled_idx[0]],x[sampled_idx[1]] = x[sampled_idx[1]],x[sampled_idx[0]]\n",
    "    return x"
   ]
  },
  {
   "cell_type": "markdown",
   "metadata": {
    "id": "8I-tid0kwWIr"
   },
   "source": [
    "### Random re-initialize points"
   ]
  },
  {
   "cell_type": "code",
   "execution_count": null,
   "metadata": {
    "id": "Ie_QYR-wwLA3"
   },
   "outputs": [],
   "source": [
    "def rrI(arr,rri_num):  # Function to generate the Random Reinitialisation vectors\n",
    "    rri = []\n",
    "    for i in range(rri_num):\n",
    "        new = np.random.permutation(arr)\n",
    "        rri.append(new)\n",
    "    rri = np.matrix(rri)\n",
    "    return rri"
   ]
  },
  {
   "cell_type": "markdown",
   "metadata": {
    "id": "roCaD3p4wYtz"
   },
   "source": [
    "### Function to obtain Optimum Path"
   ]
  },
  {
   "cell_type": "code",
   "execution_count": null,
   "metadata": {
    "id": "Jpfz4wSBwK9z"
   },
   "outputs": [],
   "source": [
    "def Optimum_path(path,dist_matrix,popsize,rri_num,maxIter):\n",
    "    ## Generate the initial population\n",
    "    population = []\n",
    "    for i in range(popsize):\n",
    "        random_path = np.random.permutation(path)\n",
    "        population.append(random_path)\n",
    "    population = np.matrix(population)\n",
    "    # print(population)\n",
    "    ## Main Loop begins\n",
    "    for itr in range(maxIter):\n",
    "        y_arr = []\n",
    "        for i in range(population.shape[0]):\n",
    "            a = np.ravel(population[i,:])\n",
    "            y = dist_func(a,dist_matrix)\n",
    "            y_arr.append(y)\n",
    "\n",
    "        u_arr = [y_arr[i]-min(y_arr) for i in range(len(y_arr))]\n",
    "        fit_score = [u_arr[i]/sum(u_arr) for i in range(len(u_arr))]\n",
    "        # print('fit scores', fit_score)\n",
    "        child_num = [int(fit_score[i]*popsize) for i in range(len(y_arr))]\n",
    "        # print(child_num)\n",
    "        child_arr = []\n",
    "    ## Generate the children population\n",
    "        for i in range(len(y_arr)):\n",
    "            x_i = np.ravel(population[i,:])\n",
    "            for j in range(child_num[i]):\n",
    "                c = swap(x_i)\n",
    "                child_arr.append(c)\n",
    "        child_mat = np.matrix(child_arr)\n",
    "    ## Generate the RRI population\n",
    "        rri = rrI(path,rri_num)\n",
    "\n",
    "        total_pop = np.vstack((population,child_mat,rri))\n",
    "        # print(population.shape,child_mat.shape,rri.shape, total_pop.shape)\n",
    "        fitness_arr = []\n",
    "\n",
    "        for i in range(total_pop.shape[0]):\n",
    "            a = np.ravel(total_pop[i,:])\n",
    "            d = dist_func(a,dist_matrix)\n",
    "            fitness_arr.append(d)\n",
    "\n",
    "        fitness_arr = np.array(fitness_arr)\n",
    "        # print(fitness_arr)\n",
    "        min_idx = np.argsort(fitness_arr)\n",
    "        # print(min_idx)\n",
    "        useful_idx = min_idx[:popsize]\n",
    "        useful_dist = fitness_arr[useful_idx]\n",
    "\n",
    "        min_dist_idx = useful_idx[0]\n",
    "        best_memb = total_pop[min_dist_idx,:]\n",
    "        best_dist = useful_dist[0]\n",
    "\n",
    "        print(\"Iteration: \",itr+1)\n",
    "        print(\"Best Path till now is {}\".format(best_memb))\n",
    "        print(\"Best Distance till now is {}\".format(best_dist))\n",
    "        popList = []\n",
    "        for i in range(len(useful_idx)):\n",
    "            idx = useful_idx[i]\n",
    "            popMember = np.ravel(total_pop[idx,:])\n",
    "            popList.append(popMember)\n",
    "        population = np.matrix(popList)\n",
    "    return best_memb"
   ]
  },
  {
   "cell_type": "code",
   "execution_count": null,
   "metadata": {
    "colab": {
     "base_uri": "https://localhost:8080/"
    },
    "id": "8Eg4zbsAwd-F",
    "outputId": "8f001c44-3890-45be-b20f-7a652b0364e4"
   },
   "outputs": [],
   "source": [
    "path = np.arange(1,26,1)\n",
    "print(path)"
   ]
  },
  {
   "cell_type": "code",
   "execution_count": null,
   "metadata": {
    "id": "oT1Z_8b4wfc1"
   },
   "outputs": [],
   "source": [
    "opt_path = Optimum_path(path,dist_matr,300,200,3000)"
   ]
  },
  {
   "cell_type": "markdown",
   "metadata": {
    "id": "PET9sNxawhi6"
   },
   "source": [
    "## Optimal Answer to this problem"
   ]
  },
  {
   "cell_type": "code",
   "execution_count": null,
   "metadata": {
    "colab": {
     "base_uri": "https://localhost:8080/"
    },
    "id": "PRUSdEiPwh-j",
    "outputId": "f9365add-5bc8-4067-b6a4-06fced77338d"
   },
   "outputs": [],
   "source": [
    "ans = np.array([24,23,22,25,21,20,16,17,19,18,15,10,11,12,14,13,9,8,7,6,4,5,3,2,1])\n",
    "print(\"The minimum distance path is:\")\n",
    "print(str(0)+\"->\",end=\"\")\n",
    "for i in range(len(ans)):\n",
    "    print(str(ans[i])+\"->\",end=\"\")\n",
    "print(str(0))\n",
    "print(\"Minimum possible distance is {}\".format(dist_func(ans,dist_matr)))"
   ]
  },
  {
   "cell_type": "code",
   "execution_count": null,
   "metadata": {
    "id": "9WIs-fxgwlY_"
   },
   "outputs": [],
   "source": [
    "from sklearn.manifold import MDS #Multi-dimensional scaling\n",
    "model = MDS(n_components=2,dissimilarity='precomputed',random_state=1)\n",
    "out = model.fit_transform(dist_matr)\n",
    "\n",
    "n = np.arange(26)\n",
    "x = out[:,0]\n",
    "y = out[:,1]\n",
    "fig,ax = plt.subplots(figsize=(10,8))\n",
    "ax.scatter(x,y)\n",
    "ax.arrow(x[0],y[0],x[ans[0]]-x[0],y[ans[0]]-y[0])\n",
    "for i,txt in enumerate(n):\n",
    "    if(i<24):\n",
    "        ax.arrow(x[ans[i]],y[ans[i]],x[ans[i+1]]-x[ans[i]],y[ans[i+1]]-y[ans[i]])\n",
    "    ax.annotate(txt,(x[i],y[i]))\n",
    "plt.title(\"TSP Solution\")\n",
    "plt.show()"
   ]
  },
  {
   "cell_type": "code",
   "execution_count": null,
   "metadata": {
    "id": "ksqWxGdFHSDQ"
   },
   "outputs": [],
   "source": []
  }
 ],
 "metadata": {
  "colab": {
   "provenance": []
  },
  "kernelspec": {
   "display_name": "Python 3 (ipykernel)",
   "language": "python",
   "name": "python3"
  },
  "language_info": {
   "codemirror_mode": {
    "name": "ipython",
    "version": 3
   },
   "file_extension": ".py",
   "mimetype": "text/x-python",
   "name": "python",
   "nbconvert_exporter": "python",
   "pygments_lexer": "ipython3",
   "version": "3.11.5"
  }
 },
 "nbformat": 4,
 "nbformat_minor": 1
}
