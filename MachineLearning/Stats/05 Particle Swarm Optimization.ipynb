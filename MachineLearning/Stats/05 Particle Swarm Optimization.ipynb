{
 "cells": [
  {
   "cell_type": "markdown",
   "metadata": {
    "id": "Zee_y68xggNj"
   },
   "source": [
    "<center><h1>Particle Swarm Optimization</h1></center>\n",
    "<center><h2>Objective: Find the Global Minima for the Objective function.</h2></center>"
   ]
  },
  {
   "cell_type": "markdown",
   "metadata": {
    "id": "n_CHTRCPggNm"
   },
   "source": [
    "## Introduction\n",
    "\n",
    "Particle Swarm Optimization is an iterative method to find the global optima\n",
    "of a function in the search space. It uses information about the local best\n",
    "known position and the global best position to update the position."
   ]
  },
  {
   "cell_type": "markdown",
   "metadata": {
    "id": "2yVGG1LFggNn"
   },
   "source": [
    "## Basic Idea\n",
    "\n",
    "PSO algorithm works by having a __Population__ or a __Swarm__ of candidate\n",
    "solutions, called __Particles__. Each particle moves in the search space, hence\n",
    "has a __Velocity__ and remembers it’s __Personal Best Position__, where it had\n",
    "the best functional value. The particles in the swarm can communicate to\n",
    "decide the Global Best Position, where the function value is the best\n",
    "among all the particles in the swarm.\n",
    "The movement of a particle is decided by its __personal best position__ as\n",
    "well as the __global best position__ using a simple mathematical formula. This\n",
    "is repeated until convergence or maximum number of iterations."
   ]
  },
  {
   "cell_type": "markdown",
   "metadata": {
    "id": "OGd8U8CaggNo"
   },
   "source": [
    "## Algorithm and Pseudo Code"
   ]
  },
  {
   "cell_type": "markdown",
   "metadata": {
    "id": "rrl2WFZzggNo"
   },
   "source": [
    "Let $f :R^n \\leftarrow R$ be a function to be minimized over the domain S. Let $S$ be\n",
    "the population size. Each particle has the position $x_i \\in R^n$ and a velocity\n",
    "$v_i \\in R^n$ . Let $p_i$ be the $i^{th}$ particle’s best known position and $g$ be the global\n",
    "best known position.\n",
    "The values $b_{lo}$ and $b_{up}$ represent the bounds on the search space $S$. Termi-\n",
    "nation criteria could be maximum number of iterations or convergence of\n",
    "the function value to its global optimum. The parameters $\\omega$,$\\phi_p$ and $\\phi_g$ are\n",
    "user selected, which control the flow of the PSO algorithm."
   ]
  },
  {
   "cell_type": "code",
   "execution_count": 1,
   "metadata": {
    "id": "D3yV8QhEggNp"
   },
   "outputs": [
    {
     "ename": "FileNotFoundError",
     "evalue": "[Errno 2] No such file or directory: 'psoAlgo.png'",
     "output_type": "error",
     "traceback": [
      "\u001b[1;31m---------------------------------------------------------------------------\u001b[0m",
      "\u001b[1;31mFileNotFoundError\u001b[0m                         Traceback (most recent call last)",
      "\u001b[1;32m~\\AppData\\Local\\Temp\\ipykernel_32760\\110610320.py\u001b[0m in \u001b[0;36m<module>\u001b[1;34m\u001b[0m\n\u001b[0;32m      1\u001b[0m \u001b[1;32mfrom\u001b[0m \u001b[0mIPython\u001b[0m\u001b[1;33m.\u001b[0m\u001b[0mdisplay\u001b[0m \u001b[1;32mimport\u001b[0m \u001b[0mImage\u001b[0m\u001b[1;33m\u001b[0m\u001b[1;33m\u001b[0m\u001b[0m\n\u001b[1;32m----> 2\u001b[1;33m \u001b[0mImage\u001b[0m\u001b[1;33m(\u001b[0m\u001b[0mfilename\u001b[0m\u001b[1;33m=\u001b[0m\u001b[1;34m'psoAlgo.png'\u001b[0m\u001b[1;33m)\u001b[0m\u001b[1;33m\u001b[0m\u001b[1;33m\u001b[0m\u001b[0m\n\u001b[0m",
      "\u001b[1;32mC:\\Vipul\\Anaconda\\lib\\site-packages\\IPython\\core\\display.py\u001b[0m in \u001b[0;36m__init__\u001b[1;34m(self, data, url, filename, format, embed, width, height, retina, unconfined, metadata)\u001b[0m\n\u001b[0;32m   1229\u001b[0m         \u001b[0mself\u001b[0m\u001b[1;33m.\u001b[0m\u001b[0mretina\u001b[0m \u001b[1;33m=\u001b[0m \u001b[0mretina\u001b[0m\u001b[1;33m\u001b[0m\u001b[1;33m\u001b[0m\u001b[0m\n\u001b[0;32m   1230\u001b[0m         \u001b[0mself\u001b[0m\u001b[1;33m.\u001b[0m\u001b[0munconfined\u001b[0m \u001b[1;33m=\u001b[0m \u001b[0munconfined\u001b[0m\u001b[1;33m\u001b[0m\u001b[1;33m\u001b[0m\u001b[0m\n\u001b[1;32m-> 1231\u001b[1;33m         super(Image, self).__init__(data=data, url=url, filename=filename, \n\u001b[0m\u001b[0;32m   1232\u001b[0m                 metadata=metadata)\n\u001b[0;32m   1233\u001b[0m \u001b[1;33m\u001b[0m\u001b[0m\n",
      "\u001b[1;32mC:\\Vipul\\Anaconda\\lib\\site-packages\\IPython\\core\\display.py\u001b[0m in \u001b[0;36m__init__\u001b[1;34m(self, data, url, filename, metadata)\u001b[0m\n\u001b[0;32m    635\u001b[0m             \u001b[0mself\u001b[0m\u001b[1;33m.\u001b[0m\u001b[0mmetadata\u001b[0m \u001b[1;33m=\u001b[0m \u001b[1;33m{\u001b[0m\u001b[1;33m}\u001b[0m\u001b[1;33m\u001b[0m\u001b[1;33m\u001b[0m\u001b[0m\n\u001b[0;32m    636\u001b[0m \u001b[1;33m\u001b[0m\u001b[0m\n\u001b[1;32m--> 637\u001b[1;33m         \u001b[0mself\u001b[0m\u001b[1;33m.\u001b[0m\u001b[0mreload\u001b[0m\u001b[1;33m(\u001b[0m\u001b[1;33m)\u001b[0m\u001b[1;33m\u001b[0m\u001b[1;33m\u001b[0m\u001b[0m\n\u001b[0m\u001b[0;32m    638\u001b[0m         \u001b[0mself\u001b[0m\u001b[1;33m.\u001b[0m\u001b[0m_check_data\u001b[0m\u001b[1;33m(\u001b[0m\u001b[1;33m)\u001b[0m\u001b[1;33m\u001b[0m\u001b[1;33m\u001b[0m\u001b[0m\n\u001b[0;32m    639\u001b[0m \u001b[1;33m\u001b[0m\u001b[0m\n",
      "\u001b[1;32mC:\\Vipul\\Anaconda\\lib\\site-packages\\IPython\\core\\display.py\u001b[0m in \u001b[0;36mreload\u001b[1;34m(self)\u001b[0m\n\u001b[0;32m   1261\u001b[0m         \u001b[1;34m\"\"\"Reload the raw data from file or URL.\"\"\"\u001b[0m\u001b[1;33m\u001b[0m\u001b[1;33m\u001b[0m\u001b[0m\n\u001b[0;32m   1262\u001b[0m         \u001b[1;32mif\u001b[0m \u001b[0mself\u001b[0m\u001b[1;33m.\u001b[0m\u001b[0membed\u001b[0m\u001b[1;33m:\u001b[0m\u001b[1;33m\u001b[0m\u001b[1;33m\u001b[0m\u001b[0m\n\u001b[1;32m-> 1263\u001b[1;33m             \u001b[0msuper\u001b[0m\u001b[1;33m(\u001b[0m\u001b[0mImage\u001b[0m\u001b[1;33m,\u001b[0m\u001b[0mself\u001b[0m\u001b[1;33m)\u001b[0m\u001b[1;33m.\u001b[0m\u001b[0mreload\u001b[0m\u001b[1;33m(\u001b[0m\u001b[1;33m)\u001b[0m\u001b[1;33m\u001b[0m\u001b[1;33m\u001b[0m\u001b[0m\n\u001b[0m\u001b[0;32m   1264\u001b[0m             \u001b[1;32mif\u001b[0m \u001b[0mself\u001b[0m\u001b[1;33m.\u001b[0m\u001b[0mretina\u001b[0m\u001b[1;33m:\u001b[0m\u001b[1;33m\u001b[0m\u001b[1;33m\u001b[0m\u001b[0m\n\u001b[0;32m   1265\u001b[0m                 \u001b[0mself\u001b[0m\u001b[1;33m.\u001b[0m\u001b[0m_retina_shape\u001b[0m\u001b[1;33m(\u001b[0m\u001b[1;33m)\u001b[0m\u001b[1;33m\u001b[0m\u001b[1;33m\u001b[0m\u001b[0m\n",
      "\u001b[1;32mC:\\Vipul\\Anaconda\\lib\\site-packages\\IPython\\core\\display.py\u001b[0m in \u001b[0;36mreload\u001b[1;34m(self)\u001b[0m\n\u001b[0;32m    660\u001b[0m         \u001b[1;34m\"\"\"Reload the raw data from file or URL.\"\"\"\u001b[0m\u001b[1;33m\u001b[0m\u001b[1;33m\u001b[0m\u001b[0m\n\u001b[0;32m    661\u001b[0m         \u001b[1;32mif\u001b[0m \u001b[0mself\u001b[0m\u001b[1;33m.\u001b[0m\u001b[0mfilename\u001b[0m \u001b[1;32mis\u001b[0m \u001b[1;32mnot\u001b[0m \u001b[1;32mNone\u001b[0m\u001b[1;33m:\u001b[0m\u001b[1;33m\u001b[0m\u001b[1;33m\u001b[0m\u001b[0m\n\u001b[1;32m--> 662\u001b[1;33m             \u001b[1;32mwith\u001b[0m \u001b[0mopen\u001b[0m\u001b[1;33m(\u001b[0m\u001b[0mself\u001b[0m\u001b[1;33m.\u001b[0m\u001b[0mfilename\u001b[0m\u001b[1;33m,\u001b[0m \u001b[0mself\u001b[0m\u001b[1;33m.\u001b[0m\u001b[0m_read_flags\u001b[0m\u001b[1;33m)\u001b[0m \u001b[1;32mas\u001b[0m \u001b[0mf\u001b[0m\u001b[1;33m:\u001b[0m\u001b[1;33m\u001b[0m\u001b[1;33m\u001b[0m\u001b[0m\n\u001b[0m\u001b[0;32m    663\u001b[0m                 \u001b[0mself\u001b[0m\u001b[1;33m.\u001b[0m\u001b[0mdata\u001b[0m \u001b[1;33m=\u001b[0m \u001b[0mf\u001b[0m\u001b[1;33m.\u001b[0m\u001b[0mread\u001b[0m\u001b[1;33m(\u001b[0m\u001b[1;33m)\u001b[0m\u001b[1;33m\u001b[0m\u001b[1;33m\u001b[0m\u001b[0m\n\u001b[0;32m    664\u001b[0m         \u001b[1;32melif\u001b[0m \u001b[0mself\u001b[0m\u001b[1;33m.\u001b[0m\u001b[0murl\u001b[0m \u001b[1;32mis\u001b[0m \u001b[1;32mnot\u001b[0m \u001b[1;32mNone\u001b[0m\u001b[1;33m:\u001b[0m\u001b[1;33m\u001b[0m\u001b[1;33m\u001b[0m\u001b[0m\n",
      "\u001b[1;31mFileNotFoundError\u001b[0m: [Errno 2] No such file or directory: 'psoAlgo.png'"
     ]
    }
   ],
   "source": [
    "from IPython.display import Image\n",
    "Image(filename='psoAlgo.png')"
   ]
  },
  {
   "cell_type": "code",
   "execution_count": null,
   "metadata": {
    "id": "ar0znvn0ggNr"
   },
   "outputs": [],
   "source": [
    "Image(filename='pso.png')"
   ]
  },
  {
   "cell_type": "code",
   "execution_count": null,
   "metadata": {
    "id": "UD4JI8SKggNs"
   },
   "outputs": [],
   "source": [
    "%matplotlib"
   ]
  },
  {
   "cell_type": "code",
   "execution_count": null,
   "metadata": {
    "id": "lIvhqXbQggNs"
   },
   "outputs": [],
   "source": [
    "#import modules\n",
    "import numpy as np\n",
    "import matplotlib.pyplot as plt"
   ]
  },
  {
   "cell_type": "markdown",
   "metadata": {
    "id": "wOy5NrbUggNt"
   },
   "source": [
    "## Function for computing the function value:\n",
    "### List of objective functions:\n",
    "#### 1.) Ackley\n",
    "#### 2.) Beale\n",
    "#### 3.) Booth\n",
    "#### 4.) Cross-in-Tray\n",
    "#### 5.) Easom\n",
    "#### 6.) Goldstein-Price\n",
    "#### 7.) Himmelblau\n",
    "#### 8.) Holder Table\n",
    "#### 9.) Matyas\n",
    "#### 10.) Schaffer2\n",
    "#### 11.) ThreeHump Camel\n",
    "#### 12.) Eggholder"
   ]
  },
  {
   "cell_type": "code",
   "execution_count": null,
   "metadata": {
    "id": "Z5SEozkuggNt"
   },
   "outputs": [],
   "source": [
    "#function to find z value\n",
    "def fin_z(x_, y_,ind):\n",
    "    if (ind == 1):  #ackley [-10,10]\n",
    "        z_i = -20* np.exp(-0.2* np.sqrt(0.5* (x_**2 + y_**2))) - np.exp(0.5* (np.cos(2* np.pi* x_) + (np.cos(2* np.pi* y_)))) + np.exp(1) + 20\n",
    "    elif (ind == 2):    #beale [-4.5,4.5]\n",
    "        z_i =  (1.5 - x_ + x_ * y_) ** 2.0 + (2.25 - x_ + x_ * y_ ** 2.0) ** 2.0 + (2.625 - x_ + x_ * y_ ** 3.0) ** 2.0\n",
    "    elif (ind == 3):    #booth  [-10,10]\n",
    "        z_i = (x_ + 2 * y_ - 7) ** 2.0 + (2 * x_ + y_ - 5) ** 2.0\n",
    "    elif (ind == 4):    #cross-in-tray [-5,5]  #4 optimas\n",
    "        z_i = -0.0001 * np.power(np.abs( np.sin(x_) * np.sin(y_)* np.exp(np.abs(100 - (np.sqrt(x_ ** 2 + y_ ** 2) / np.pi))))  + 1,  0.1,)\n",
    "    elif (ind == 5):    #easom [2,4]\n",
    "        z_i =(-1 * np.cos(x_)* np.cos(y_)* np.exp(-1 * ((x_ - np.pi) ** 2 + (y_ - np.pi) ** 2)))\n",
    "    elif (ind == 6):    #goldstein [-2,2]\n",
    "        z_i = (1 + (x_ + y_ + 1) ** 2.0* (19 - 14 * x_+ 3 * x_ ** 2.0- 14 * y_+ 6 * x_ * y_+ 3 * y_ ** 2.0)) * (30+ (2 * x_ - 3 * y_) ** 2.0*(18 - 32 * x_+ 12 * x_ ** 2.0 + 48 * y_- 36 * x_ * y_ + 27 * y_ ** 2.0))\n",
    "    elif (ind == 7):    #himmelblau [-4,4]   #4 optimas\n",
    "        z_i = (x_ ** 2 + y_ - 11) ** 2 + (x_ + y_ ** 2 - 7) ** 2\n",
    "    elif (ind == 8):    #holder table [-10,10]   #4 optimas\n",
    "        z_i = -np.abs(np.sin(x_)* np.cos(y_)* np.exp(np.abs(1 - np.sqrt(x_ ** 2 + y_ ** 2) / np.pi)))\n",
    "    elif (ind == 9):    #matyas [-10,10]\n",
    "        z_i = 0.26 * (x_ ** 2.0 + y_ ** 2.0) - 0.48 * x_ * y_\n",
    "    elif (ind == 10):   #schaffer2 [-7.5,7.5]\n",
    "        z_i = 0.5 + ((np.sin(x_ ** 2.0 - y_ ** 2.0) ** 2.0 - 0.5)/ ((1 + 0.001 * (x_ ** 2.0 + y_ ** 2.0)) ** 2.0))\n",
    "    elif (ind == 11):   #3 hump camel [-2,2]\n",
    "        z_i = 2 * x_ ** 2 - 1.05 * (x_ ** 4) + (x_ ** 6) / 6 + x_ * y_ + y_ ** 2\n",
    "    elif (ind == 12):   #eggholder [0,512]\n",
    "        z_i = -(y_ + 47) * np.sin(np.sqrt(np.abs((x_ / 2) + y_ + 47))) - x_ * np.sin(np.sqrt(np.abs(x_ - (y_ + 47))))\n",
    "    else:\n",
    "        print(\"Invalid index\")\n",
    "    return z_i\n"
   ]
  },
  {
   "cell_type": "markdown",
   "metadata": {
    "id": "xk8lHj7mggNu"
   },
   "source": [
    "### Population size = 100;\n",
    "### Search space: [blo, bup];\n",
    "### Weights:\n",
    "   #### Current velocity: omg = 0.05;\n",
    "   #### Self best position: phi_p = 0.5;\n",
    "   #### Global best position: phi_g = 1\n",
    "### Note: Change the 'ind' value to select the function from the list of functions.   "
   ]
  },
  {
   "cell_type": "code",
   "execution_count": null,
   "metadata": {
    "id": "KA34_sqeggNv"
   },
   "outputs": [],
   "source": [
    "#parameters\n",
    "bounds = np.array(np.mat('-10 10;-4.5 4.5;-10 10;-5 5;2 4;-2 2;-4 4;-10 10;-10 10;-7.5 7.5;-2 2;0 512'))  #search space bounds\n",
    "ind = 2   #function index\n",
    "[blo,bup] = bounds[ind-1,:]  #search space bounds for the selected function\n",
    "omg = 0.1\n",
    "phi_p = 0.6\n",
    "phi_g = 1\n",
    "S = 150      # No of particles in the swarm\n",
    "x = np.zeros((2,S)) #position\n",
    "v = np.zeros((2,S)) #velocity\n",
    "p = np.zeros((2,S)) #best position of particle\n",
    "g = np.zeros((2)) #best position of swarm\n",
    "maxItr = 15\n",
    "\n",
    "z_p = np.zeros((S,S))           #To plot contour\n",
    "x_p = np.linspace(blo, bup, S)\n",
    "y_p = np.linspace(blo, bup, S)\n",
    "\n",
    "for i in range(0, S):\n",
    "    for j in range(0, S):\n",
    "        z_p[i,j] = fin_z(x_p[i], y_p[j],ind)   #used to plot contour"
   ]
  },
  {
   "cell_type": "code",
   "execution_count": null,
   "metadata": {
    "colab": {
     "base_uri": "https://localhost:8080/",
     "height": 434
    },
    "id": "i2XbRWLuUNcQ",
    "outputId": "4413f24e-6ed8-4819-9f01-950c82626f5e"
   },
   "outputs": [],
   "source": [
    "\n",
    "from mpl_toolkits.mplot3d import Axes3D\n",
    "fig = plt.figure()\n",
    "ax = fig.add_subplot(111, projection='3d')\n",
    "\n",
    "# Plot the surface\n",
    "surf = ax.plot_surface(x_p, y_p, z_p, cmap='viridis')\n",
    "\n",
    "# Customize the plot (optional)\n",
    "ax.set_xlabel('X axis')\n",
    "ax.set_ylabel('Y axis')\n",
    "ax.set_zlabel('Z axis')\n",
    "ax.set_title('3D Surface Plot')\n",
    "\n",
    "# Add a color bar (optional)\n",
    "fig.colorbar(surf)\n",
    "\n",
    "# Show the plot\n",
    "plt.show()"
   ]
  },
  {
   "cell_type": "markdown",
   "metadata": {
    "id": "1OWA0l2jggNw"
   },
   "source": [
    "## Initialization:"
   ]
  },
  {
   "cell_type": "code",
   "execution_count": null,
   "metadata": {
    "id": "A8dHaOuOggNw"
   },
   "outputs": [],
   "source": [
    "#initialization\n",
    "for i in range(S):\n",
    "    x[0,i] = (bup - blo)*np.random.random(1) + blo       #Initialize the particle’s position\n",
    "    x[1,i] = (bup - blo)*np.random.random(1) + blo\n",
    "\n",
    "    p[:,i] = x[:,i]                                     #Initialize the particle’s best known position\n",
    "\n",
    "    if fin_z(p[0,i], p[1,i],ind) < fin_z(g[0], g[1],ind):       #update the swarm’s best known position\n",
    "        g[:] = p[:,i]\n",
    "\n",
    "    low = -np.abs(bup - blo)                             #Initialize the particle’s velocity\n",
    "    high = np.abs(bup - blo)\n",
    "    v[0,i] = (high - low)*np.random.random(1) + low\n",
    "    v[1,i] = (high - low)*np.random.random(1) + low"
   ]
  },
  {
   "cell_type": "markdown",
   "metadata": {
    "id": "XzWaO8G3ggNx"
   },
   "source": [
    "## Algorithm:"
   ]
  },
  {
   "cell_type": "code",
   "execution_count": null,
   "metadata": {
    "id": "69118A2WggNx"
   },
   "outputs": [],
   "source": [
    "itr = 0\n",
    "#main loop starts\n",
    "while itr < maxItr:\n",
    "    plt.figure(figsize=(8,7),dpi=80)\n",
    "    plt.contour(x_p, y_p, z_p)       #plot contour and scattered points\n",
    "    plt.scatter(x[0,:], x[1,:],s=10,c = 'r')\n",
    "    plt.show()\n",
    "    plt.pause(1)\n",
    "    plt.clf()\n",
    "    for i in range(S):           # Update the particle’s velocity\n",
    "        for d in range(2):\n",
    "            rp = np.random.random(1)\n",
    "            rg = np.random.random(1)\n",
    "            v[d,i] = omg* v[d,i] + phi_p* rp* (p[d,i] - x[d,i]) + phi_g* rg* (g[d] - x[d,i])\n",
    "\n",
    "        x[:,i] = x[:,i] + v[:,i]   #Update the particle’s position\n",
    "\n",
    "        if fin_z(x[0,i], x[1,i],ind) < fin_z(p[0,i], p[1,i],ind): #Update the particle’s best known position\n",
    "            p[:,i] = x[:,i]\n",
    "            if fin_z(p[0,i], p[1,i],ind) < fin_z(g[0], g[1],ind): #Update the swarm’s best known position\n",
    "                g[:] = p[:,i]\n",
    "    itr += 1\n",
    "plt.close('all')"
   ]
  },
  {
   "cell_type": "markdown",
   "metadata": {
    "id": "JfVx-bELggNx"
   },
   "source": [
    "## Result:"
   ]
  },
  {
   "cell_type": "code",
   "execution_count": null,
   "metadata": {
    "colab": {
     "base_uri": "https://localhost:8080/"
    },
    "id": "ngkJJa0-ggNy",
    "outputId": "19d5e495-6be1-4c30-e0ed-2981038fa841"
   },
   "outputs": [],
   "source": [
    "print(g[:])  #optima\n",
    "print(\"f(g) = \",fin_z(g[0],g[1],ind))"
   ]
  },
  {
   "cell_type": "code",
   "execution_count": null,
   "metadata": {
    "id": "jC9JGf0PggNy"
   },
   "outputs": [],
   "source": []
  }
 ],
 "metadata": {
  "colab": {
   "provenance": []
  },
  "kernelspec": {
   "display_name": "Python 3 (ipykernel)",
   "language": "python",
   "name": "python3"
  },
  "language_info": {
   "codemirror_mode": {
    "name": "ipython",
    "version": 3
   },
   "file_extension": ".py",
   "mimetype": "text/x-python",
   "name": "python",
   "nbconvert_exporter": "python",
   "pygments_lexer": "ipython3",
   "version": "3.11.5"
  }
 },
 "nbformat": 4,
 "nbformat_minor": 1
}
