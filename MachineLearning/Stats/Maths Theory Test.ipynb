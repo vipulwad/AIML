{
 "cells": [
  {
   "cell_type": "code",
   "execution_count": 10,
   "id": "fef4ed18",
   "metadata": {},
   "outputs": [],
   "source": [
    "import numpy as np\n",
    "import scipy\n",
    "from scipy.spatial.distance import mahalanobis"
   ]
  },
  {
   "cell_type": "code",
   "execution_count": 2,
   "id": "d88e2ef1",
   "metadata": {},
   "outputs": [],
   "source": []
  },
  {
   "cell_type": "code",
   "execution_count": 4,
   "id": "b64cad6d",
   "metadata": {},
   "outputs": [],
   "source": []
  },
  {
   "cell_type": "code",
   "execution_count": 11,
   "id": "10cc6eb8",
   "metadata": {},
   "outputs": [
    {
     "ename": "LinAlgError",
     "evalue": "0-dimensional array given. Array must be at least two-dimensional",
     "output_type": "error",
     "traceback": [
      "\u001b[1;31m---------------------------------------------------------------------------\u001b[0m",
      "\u001b[1;31mLinAlgError\u001b[0m                               Traceback (most recent call last)",
      "\u001b[1;32m~\\AppData\\Local\\Temp\\ipykernel_530596\\825120519.py\u001b[0m in \u001b[0;36m<module>\u001b[1;34m\u001b[0m\n\u001b[0;32m      4\u001b[0m \u001b[1;33m\u001b[0m\u001b[0m\n\u001b[0;32m      5\u001b[0m \u001b[1;31m# Calculate the Mahalanobis Distance between two points\u001b[0m\u001b[1;33m\u001b[0m\u001b[1;33m\u001b[0m\u001b[0m\n\u001b[1;32m----> 6\u001b[1;33m \u001b[0mdist_y\u001b[0m \u001b[1;33m=\u001b[0m \u001b[0mmahalanobis\u001b[0m\u001b[1;33m(\u001b[0m\u001b[0my\u001b[0m\u001b[1;33m,\u001b[0m \u001b[0mmu\u001b[0m\u001b[1;33m,\u001b[0m \u001b[0mnp\u001b[0m\u001b[1;33m.\u001b[0m\u001b[0mlinalg\u001b[0m\u001b[1;33m.\u001b[0m\u001b[0minv\u001b[0m\u001b[1;33m(\u001b[0m\u001b[0msigma\u001b[0m\u001b[1;33m)\u001b[0m\u001b[1;33m)\u001b[0m\u001b[1;33m\u001b[0m\u001b[1;33m\u001b[0m\u001b[0m\n\u001b[0m\u001b[0;32m      7\u001b[0m \u001b[1;33m\u001b[0m\u001b[0m\n\u001b[0;32m      8\u001b[0m \u001b[1;31m# Print the distances\u001b[0m\u001b[1;33m\u001b[0m\u001b[1;33m\u001b[0m\u001b[0m\n",
      "\u001b[1;32m<__array_function__ internals>\u001b[0m in \u001b[0;36minv\u001b[1;34m(*args, **kwargs)\u001b[0m\n",
      "\u001b[1;32mC:\\Vipul\\Anaconda\\lib\\site-packages\\numpy\\linalg\\linalg.py\u001b[0m in \u001b[0;36minv\u001b[1;34m(a)\u001b[0m\n\u001b[0;32m    537\u001b[0m     \"\"\"\n\u001b[0;32m    538\u001b[0m     \u001b[0ma\u001b[0m\u001b[1;33m,\u001b[0m \u001b[0mwrap\u001b[0m \u001b[1;33m=\u001b[0m \u001b[0m_makearray\u001b[0m\u001b[1;33m(\u001b[0m\u001b[0ma\u001b[0m\u001b[1;33m)\u001b[0m\u001b[1;33m\u001b[0m\u001b[1;33m\u001b[0m\u001b[0m\n\u001b[1;32m--> 539\u001b[1;33m     \u001b[0m_assert_stacked_2d\u001b[0m\u001b[1;33m(\u001b[0m\u001b[0ma\u001b[0m\u001b[1;33m)\u001b[0m\u001b[1;33m\u001b[0m\u001b[1;33m\u001b[0m\u001b[0m\n\u001b[0m\u001b[0;32m    540\u001b[0m     \u001b[0m_assert_stacked_square\u001b[0m\u001b[1;33m(\u001b[0m\u001b[0ma\u001b[0m\u001b[1;33m)\u001b[0m\u001b[1;33m\u001b[0m\u001b[1;33m\u001b[0m\u001b[0m\n\u001b[0;32m    541\u001b[0m     \u001b[0mt\u001b[0m\u001b[1;33m,\u001b[0m \u001b[0mresult_t\u001b[0m \u001b[1;33m=\u001b[0m \u001b[0m_commonType\u001b[0m\u001b[1;33m(\u001b[0m\u001b[0ma\u001b[0m\u001b[1;33m)\u001b[0m\u001b[1;33m\u001b[0m\u001b[1;33m\u001b[0m\u001b[0m\n",
      "\u001b[1;32mC:\\Vipul\\Anaconda\\lib\\site-packages\\numpy\\linalg\\linalg.py\u001b[0m in \u001b[0;36m_assert_stacked_2d\u001b[1;34m(*arrays)\u001b[0m\n\u001b[0;32m    194\u001b[0m     \u001b[1;32mfor\u001b[0m \u001b[0ma\u001b[0m \u001b[1;32min\u001b[0m \u001b[0marrays\u001b[0m\u001b[1;33m:\u001b[0m\u001b[1;33m\u001b[0m\u001b[1;33m\u001b[0m\u001b[0m\n\u001b[0;32m    195\u001b[0m         \u001b[1;32mif\u001b[0m \u001b[0ma\u001b[0m\u001b[1;33m.\u001b[0m\u001b[0mndim\u001b[0m \u001b[1;33m<\u001b[0m \u001b[1;36m2\u001b[0m\u001b[1;33m:\u001b[0m\u001b[1;33m\u001b[0m\u001b[1;33m\u001b[0m\u001b[0m\n\u001b[1;32m--> 196\u001b[1;33m             raise LinAlgError('%d-dimensional array given. Array must be '\n\u001b[0m\u001b[0;32m    197\u001b[0m                     'at least two-dimensional' % a.ndim)\n\u001b[0;32m    198\u001b[0m \u001b[1;33m\u001b[0m\u001b[0m\n",
      "\u001b[1;31mLinAlgError\u001b[0m: 0-dimensional array given. Array must be at least two-dimensional"
     ]
    }
   ],
   "source": [
    "# Calculate the mean vector and covariance matrix of the dataset\n",
    "mu = np.mean(x, axis=0)\n",
    "sigma = np.cov(x.T)\n",
    "\n",
    "# Calculate the Mahalanobis Distance between two points\n",
    "dist_y = mahalanobis(y, mu, np.linalg.inv(sigma))\n",
    "\n",
    "# Print the distances\n",
    "print(\"Distance between point x2 and the distribution:\", dist_y)\n"
   ]
  },
  {
   "cell_type": "code",
   "execution_count": 6,
   "id": "09329b55",
   "metadata": {},
   "outputs": [
    {
     "ename": "LinAlgError",
     "evalue": "Singular matrix",
     "output_type": "error",
     "traceback": [
      "\u001b[1;31m---------------------------------------------------------------------------\u001b[0m",
      "\u001b[1;31mLinAlgError\u001b[0m                               Traceback (most recent call last)",
      "\u001b[1;32m~\\AppData\\Local\\Temp\\ipykernel_530596\\1532724852.py\u001b[0m in \u001b[0;36m<module>\u001b[1;34m\u001b[0m\n\u001b[0;32m      2\u001b[0m \u001b[0mX\u001b[0m \u001b[1;33m=\u001b[0m \u001b[0mnp\u001b[0m\u001b[1;33m.\u001b[0m\u001b[0mvstack\u001b[0m\u001b[1;33m(\u001b[0m\u001b[1;33m[\u001b[0m\u001b[0mx\u001b[0m\u001b[1;33m,\u001b[0m\u001b[0my\u001b[0m\u001b[1;33m]\u001b[0m\u001b[1;33m)\u001b[0m\u001b[1;33m\u001b[0m\u001b[1;33m\u001b[0m\u001b[0m\n\u001b[0;32m      3\u001b[0m \u001b[0mV\u001b[0m \u001b[1;33m=\u001b[0m \u001b[0mnp\u001b[0m\u001b[1;33m.\u001b[0m\u001b[0mcov\u001b[0m\u001b[1;33m(\u001b[0m\u001b[0mX\u001b[0m\u001b[1;33m.\u001b[0m\u001b[0mT\u001b[0m\u001b[1;33m)\u001b[0m\u001b[1;33m\u001b[0m\u001b[1;33m\u001b[0m\u001b[0m\n\u001b[1;32m----> 4\u001b[1;33m \u001b[0mp\u001b[0m \u001b[1;33m=\u001b[0m \u001b[0mnp\u001b[0m\u001b[1;33m.\u001b[0m\u001b[0mlinalg\u001b[0m\u001b[1;33m.\u001b[0m\u001b[0minv\u001b[0m\u001b[1;33m(\u001b[0m\u001b[0mV\u001b[0m\u001b[1;33m)\u001b[0m\u001b[1;33m\u001b[0m\u001b[1;33m\u001b[0m\u001b[0m\n\u001b[0m\u001b[0;32m      5\u001b[0m \u001b[0mD\u001b[0m \u001b[1;33m=\u001b[0m \u001b[0mnp\u001b[0m\u001b[1;33m.\u001b[0m\u001b[0msqrt\u001b[0m\u001b[1;33m(\u001b[0m\u001b[0mnp\u001b[0m\u001b[1;33m.\u001b[0m\u001b[0msum\u001b[0m\u001b[1;33m(\u001b[0m\u001b[0mnp\u001b[0m\u001b[1;33m.\u001b[0m\u001b[0mdot\u001b[0m\u001b[1;33m(\u001b[0m\u001b[0me\u001b[0m\u001b[1;33m,\u001b[0m\u001b[0mp\u001b[0m\u001b[1;33m)\u001b[0m \u001b[1;33m*\u001b[0m \u001b[0me\u001b[0m\u001b[1;33m,\u001b[0m \u001b[0maxis\u001b[0m \u001b[1;33m=\u001b[0m \u001b[1;36m1\u001b[0m\u001b[1;33m)\u001b[0m\u001b[1;33m)\u001b[0m\u001b[1;33m\u001b[0m\u001b[1;33m\u001b[0m\u001b[0m\n",
      "\u001b[1;32m<__array_function__ internals>\u001b[0m in \u001b[0;36minv\u001b[1;34m(*args, **kwargs)\u001b[0m\n",
      "\u001b[1;32mC:\\Vipul\\Anaconda\\lib\\site-packages\\numpy\\linalg\\linalg.py\u001b[0m in \u001b[0;36minv\u001b[1;34m(a)\u001b[0m\n\u001b[0;32m    543\u001b[0m     \u001b[0msignature\u001b[0m \u001b[1;33m=\u001b[0m \u001b[1;34m'D->D'\u001b[0m \u001b[1;32mif\u001b[0m \u001b[0misComplexType\u001b[0m\u001b[1;33m(\u001b[0m\u001b[0mt\u001b[0m\u001b[1;33m)\u001b[0m \u001b[1;32melse\u001b[0m \u001b[1;34m'd->d'\u001b[0m\u001b[1;33m\u001b[0m\u001b[1;33m\u001b[0m\u001b[0m\n\u001b[0;32m    544\u001b[0m     \u001b[0mextobj\u001b[0m \u001b[1;33m=\u001b[0m \u001b[0mget_linalg_error_extobj\u001b[0m\u001b[1;33m(\u001b[0m\u001b[0m_raise_linalgerror_singular\u001b[0m\u001b[1;33m)\u001b[0m\u001b[1;33m\u001b[0m\u001b[1;33m\u001b[0m\u001b[0m\n\u001b[1;32m--> 545\u001b[1;33m     \u001b[0mainv\u001b[0m \u001b[1;33m=\u001b[0m \u001b[0m_umath_linalg\u001b[0m\u001b[1;33m.\u001b[0m\u001b[0minv\u001b[0m\u001b[1;33m(\u001b[0m\u001b[0ma\u001b[0m\u001b[1;33m,\u001b[0m \u001b[0msignature\u001b[0m\u001b[1;33m=\u001b[0m\u001b[0msignature\u001b[0m\u001b[1;33m,\u001b[0m \u001b[0mextobj\u001b[0m\u001b[1;33m=\u001b[0m\u001b[0mextobj\u001b[0m\u001b[1;33m)\u001b[0m\u001b[1;33m\u001b[0m\u001b[1;33m\u001b[0m\u001b[0m\n\u001b[0m\u001b[0;32m    546\u001b[0m     \u001b[1;32mreturn\u001b[0m \u001b[0mwrap\u001b[0m\u001b[1;33m(\u001b[0m\u001b[0mainv\u001b[0m\u001b[1;33m.\u001b[0m\u001b[0mastype\u001b[0m\u001b[1;33m(\u001b[0m\u001b[0mresult_t\u001b[0m\u001b[1;33m,\u001b[0m \u001b[0mcopy\u001b[0m\u001b[1;33m=\u001b[0m\u001b[1;32mFalse\u001b[0m\u001b[1;33m)\u001b[0m\u001b[1;33m)\u001b[0m\u001b[1;33m\u001b[0m\u001b[1;33m\u001b[0m\u001b[0m\n\u001b[0;32m    547\u001b[0m \u001b[1;33m\u001b[0m\u001b[0m\n",
      "\u001b[1;32mC:\\Vipul\\Anaconda\\lib\\site-packages\\numpy\\linalg\\linalg.py\u001b[0m in \u001b[0;36m_raise_linalgerror_singular\u001b[1;34m(err, flag)\u001b[0m\n\u001b[0;32m     86\u001b[0m \u001b[1;33m\u001b[0m\u001b[0m\n\u001b[0;32m     87\u001b[0m \u001b[1;32mdef\u001b[0m \u001b[0m_raise_linalgerror_singular\u001b[0m\u001b[1;33m(\u001b[0m\u001b[0merr\u001b[0m\u001b[1;33m,\u001b[0m \u001b[0mflag\u001b[0m\u001b[1;33m)\u001b[0m\u001b[1;33m:\u001b[0m\u001b[1;33m\u001b[0m\u001b[1;33m\u001b[0m\u001b[0m\n\u001b[1;32m---> 88\u001b[1;33m     \u001b[1;32mraise\u001b[0m \u001b[0mLinAlgError\u001b[0m\u001b[1;33m(\u001b[0m\u001b[1;34m\"Singular matrix\"\u001b[0m\u001b[1;33m)\u001b[0m\u001b[1;33m\u001b[0m\u001b[1;33m\u001b[0m\u001b[0m\n\u001b[0m\u001b[0;32m     89\u001b[0m \u001b[1;33m\u001b[0m\u001b[0m\n\u001b[0;32m     90\u001b[0m \u001b[1;32mdef\u001b[0m \u001b[0m_raise_linalgerror_nonposdef\u001b[0m\u001b[1;33m(\u001b[0m\u001b[0merr\u001b[0m\u001b[1;33m,\u001b[0m \u001b[0mflag\u001b[0m\u001b[1;33m)\u001b[0m\u001b[1;33m:\u001b[0m\u001b[1;33m\u001b[0m\u001b[1;33m\u001b[0m\u001b[0m\n",
      "\u001b[1;31mLinAlgError\u001b[0m: Singular matrix"
     ]
    }
   ],
   "source": [
    "e = x-y\n",
    "X = np.vstack([x,y])\n",
    "V = np.cov(X.T) \n",
    "p = np.linalg.inv(V)\n",
    "D = np.sqrt(np.sum(np.dot(e,p) * e, axis = 1))"
   ]
  },
  {
   "cell_type": "code",
   "execution_count": null,
   "id": "23a25d24",
   "metadata": {},
   "outputs": [],
   "source": []
  },
  {
   "cell_type": "code",
   "execution_count": 12,
   "id": "6459ee21",
   "metadata": {},
   "outputs": [
    {
     "name": "stdout",
     "output_type": "stream",
     "text": [
      "9.750493071711166\n"
     ]
    }
   ],
   "source": [
    "# Create the vector V\n",
    "V = np.array([2, 9, 5, 4, 1])\n",
    "\n",
    "# Calculate the L3 norm of V\n",
    "L3_norm = np.linalg.norm(V, ord=3)\n",
    "\n",
    "# Print the L3 norm of V\n",
    "print(L3_norm)\n"
   ]
  },
  {
   "cell_type": "code",
   "execution_count": null,
   "id": "94e85505",
   "metadata": {},
   "outputs": [],
   "source": [
    "def mahalanobis(x=None, data=None, cov=None):\n",
    "    \"\"\"Compute the Mahalanobis Distance between each row of x and the data  \n",
    "    x    : vector or matrix of data with, say, p columns.\n",
    "    data : ndarray of the distribution from which Mahalanobis distance of each observation of x is to be computed.\n",
    "    cov  : covariance matrix (p x p) of the distribution. If None, will be computed from data.\n",
    "    \"\"\"\n",
    "    x_minus_mu = x - np.mean(data)\n",
    "    if not cov:\n",
    "        cov = np.cov(data.values.T)\n",
    "    inv_covmat = sp.linalg.inv(cov)\n",
    "    left_term = np.dot(x_minus_mu, inv_covmat)\n",
    "    mahal = np.dot(left_term, x_minus_mu.T)\n",
    "    return mahal.diagonal()\n",
    "\n",
    "df_x = df[['carat', 'depth', 'price']].head(500)\n",
    "df_x['mahala'] = mahalanobis(x=df_x, data=df[['carat', 'depth', 'price']])\n",
    "df_x.head()"
   ]
  },
  {
   "cell_type": "code",
   "execution_count": null,
   "id": "ba492feb",
   "metadata": {},
   "outputs": [],
   "source": [
    "d2_mahal = mahal(Y,X)\n"
   ]
  },
  {
   "cell_type": "code",
   "execution_count": 14,
   "id": "b39f9a5c",
   "metadata": {},
   "outputs": [
    {
     "name": "stdout",
     "output_type": "stream",
     "text": [
      "[[ 7. -3. -3.]\n",
      " [-1.  1.  0.]\n",
      " [-1.  0.  1.]]\n"
     ]
    }
   ],
   "source": [
    "A=np.array([[1,3,3],\n",
    "           [1,4,3],\n",
    "           [1,3,4]])\n",
    "print(np.linalg.inv(A))"
   ]
  },
  {
   "cell_type": "code",
   "execution_count": 15,
   "id": "ad1841c8",
   "metadata": {},
   "outputs": [
    {
     "name": "stdout",
     "output_type": "stream",
     "text": [
      "Eigenvalues\n",
      "[3. 1. 2.]\n",
      "Eigenvectors\n",
      "[[ 0.70710678 -0.70710678  0.        ]\n",
      " [ 0.          0.          1.        ]\n",
      " [ 0.70710678  0.70710678  0.        ]]\n"
     ]
    }
   ],
   "source": [
    "A=np.array([[2,0,1],\n",
    "           [0,2,0],\n",
    "           [1,0,2]])\n",
    "w,v=np.linalg.eig(A)\n",
    "print('Eigenvalues')\n",
    "print(w)\n",
    "print('Eigenvectors')\n",
    "print(v)"
   ]
  },
  {
   "cell_type": "code",
   "execution_count": null,
   "id": "a3c6e311",
   "metadata": {},
   "outputs": [],
   "source": []
  },
  {
   "cell_type": "code",
   "execution_count": null,
   "id": "4a1d6787",
   "metadata": {},
   "outputs": [],
   "source": []
  },
  {
   "cell_type": "code",
   "execution_count": 16,
   "id": "a682bcb3",
   "metadata": {},
   "outputs": [],
   "source": [
    "x = np.array([-1.313, 8.585, 5.353, 10, -8.383])"
   ]
  },
  {
   "cell_type": "code",
   "execution_count": 17,
   "id": "77415f98",
   "metadata": {},
   "outputs": [],
   "source": [
    "y = np.array([-1.062, 39.506, 27.089, 46.69, -28.019])"
   ]
  },
  {
   "cell_type": "code",
   "execution_count": 20,
   "id": "e82bbd04",
   "metadata": {},
   "outputs": [
    {
     "name": "stdout",
     "output_type": "stream",
     "text": [
      "a =  5.2968156570652525\n",
      "b =  4.052796076019782\n"
     ]
    }
   ],
   "source": [
    "x_mean = np.mean(x)\n",
    "y_mean = np.mean(y)\n",
    "\n",
    "# Calculate the covariance matrix\n",
    "covariance_matrix = np.cov(x, y)\n",
    "\n",
    "# Calculate the slope and intercept of the line\n",
    "b = covariance_matrix[0, 1] / covariance_matrix[0, 0]\n",
    "a = y_mean - b * x_mean\n",
    "\n",
    "# Print the values of the slope and intercept\n",
    "print(\"a = \", a)\n",
    "print(\"b = \", b)"
   ]
  },
  {
   "cell_type": "code",
   "execution_count": null,
   "id": "4826a345",
   "metadata": {},
   "outputs": [],
   "source": []
  },
  {
   "cell_type": "code",
   "execution_count": 22,
   "id": "8469b9d9",
   "metadata": {},
   "outputs": [
    {
     "ename": "TypeError",
     "evalue": "f() missing 1 required positional argument: 'x2'",
     "output_type": "error",
     "traceback": [
      "\u001b[1;31m---------------------------------------------------------------------------\u001b[0m",
      "\u001b[1;31mTypeError\u001b[0m                                 Traceback (most recent call last)",
      "\u001b[1;32m~\\AppData\\Local\\Temp\\ipykernel_530596\\3474120870.py\u001b[0m in \u001b[0;36m<module>\u001b[1;34m\u001b[0m\n\u001b[0;32m     11\u001b[0m \u001b[1;33m\u001b[0m\u001b[0m\n\u001b[0;32m     12\u001b[0m \u001b[0mx\u001b[0m \u001b[1;33m=\u001b[0m \u001b[0mnp\u001b[0m\u001b[1;33m.\u001b[0m\u001b[0marray\u001b[0m\u001b[1;33m(\u001b[0m\u001b[1;33m[\u001b[0m\u001b[1;33m[\u001b[0m\u001b[1;33m-\u001b[0m\u001b[1;36m1\u001b[0m\u001b[1;33m]\u001b[0m\u001b[1;33m,\u001b[0m \u001b[1;33m[\u001b[0m\u001b[1;36m1\u001b[0m\u001b[1;33m]\u001b[0m\u001b[1;33m]\u001b[0m\u001b[1;33m)\u001b[0m\u001b[1;33m\u001b[0m\u001b[1;33m\u001b[0m\u001b[0m\n\u001b[1;32m---> 13\u001b[1;33m \u001b[0mh\u001b[0m \u001b[1;33m=\u001b[0m \u001b[0mhessian\u001b[0m\u001b[1;33m(\u001b[0m\u001b[0mf\u001b[0m\u001b[1;33m,\u001b[0m \u001b[0mx\u001b[0m\u001b[1;33m)\u001b[0m\u001b[1;33m\u001b[0m\u001b[1;33m\u001b[0m\u001b[0m\n\u001b[0m\u001b[0;32m     14\u001b[0m \u001b[1;33m\u001b[0m\u001b[0m\n\u001b[0;32m     15\u001b[0m \u001b[0mprint\u001b[0m\u001b[1;33m(\u001b[0m\u001b[0mh\u001b[0m\u001b[1;33m)\u001b[0m\u001b[1;33m\u001b[0m\u001b[1;33m\u001b[0m\u001b[0m\n",
      "\u001b[1;32m~\\AppData\\Local\\Temp\\ipykernel_530596\\3474120870.py\u001b[0m in \u001b[0;36mhessian\u001b[1;34m(f, x)\u001b[0m\n\u001b[0;32m      6\u001b[0m   \u001b[1;32mfor\u001b[0m \u001b[0mi\u001b[0m \u001b[1;32min\u001b[0m \u001b[0mrange\u001b[0m\u001b[1;33m(\u001b[0m\u001b[1;36m2\u001b[0m\u001b[1;33m)\u001b[0m\u001b[1;33m:\u001b[0m\u001b[1;33m\u001b[0m\u001b[1;33m\u001b[0m\u001b[0m\n\u001b[0;32m      7\u001b[0m     \u001b[1;32mfor\u001b[0m \u001b[0mj\u001b[0m \u001b[1;32min\u001b[0m \u001b[0mrange\u001b[0m\u001b[1;33m(\u001b[0m\u001b[1;36m2\u001b[0m\u001b[1;33m)\u001b[0m\u001b[1;33m:\u001b[0m\u001b[1;33m\u001b[0m\u001b[1;33m\u001b[0m\u001b[0m\n\u001b[1;32m----> 8\u001b[1;33m       \u001b[0mh\u001b[0m\u001b[1;33m[\u001b[0m\u001b[0mi\u001b[0m\u001b[1;33m,\u001b[0m \u001b[0mj\u001b[0m\u001b[1;33m]\u001b[0m \u001b[1;33m=\u001b[0m \u001b[1;33m(\u001b[0m\u001b[0mf\u001b[0m\u001b[1;33m(\u001b[0m\u001b[0mx\u001b[0m \u001b[1;33m+\u001b[0m \u001b[0mnp\u001b[0m\u001b[1;33m.\u001b[0m\u001b[0marray\u001b[0m\u001b[1;33m(\u001b[0m\u001b[1;33m[\u001b[0m\u001b[1;36m1e-6\u001b[0m\u001b[1;33m,\u001b[0m \u001b[1;36m0\u001b[0m\u001b[1;33m]\u001b[0m\u001b[1;33m)\u001b[0m\u001b[1;33m)\u001b[0m \u001b[1;33m-\u001b[0m \u001b[0mf\u001b[0m\u001b[1;33m(\u001b[0m\u001b[0mx\u001b[0m\u001b[1;33m)\u001b[0m\u001b[1;33m)\u001b[0m \u001b[1;33m/\u001b[0m \u001b[1;33m(\u001b[0m\u001b[1;36m1e-6\u001b[0m\u001b[1;33m)\u001b[0m\u001b[1;33m\u001b[0m\u001b[1;33m\u001b[0m\u001b[0m\n\u001b[0m\u001b[0;32m      9\u001b[0m \u001b[1;33m\u001b[0m\u001b[0m\n\u001b[0;32m     10\u001b[0m   \u001b[1;32mreturn\u001b[0m \u001b[0mh\u001b[0m\u001b[1;33m\u001b[0m\u001b[1;33m\u001b[0m\u001b[0m\n",
      "\u001b[1;31mTypeError\u001b[0m: f() missing 1 required positional argument: 'x2'"
     ]
    }
   ],
   "source": [
    "def f(x1, x2):\n",
    "  return x1 - x2 + 2 * x1 * x2 + 2 * (x1 ** 2) + x2 ** 2\n",
    "\n",
    "def hessian(f, x):\n",
    "  h = np.zeros((2, 2))\n",
    "  for i in range(2):\n",
    "    for j in range(2):\n",
    "      h[i, j] = (f(x + np.array([1e-6, 0])) - f(x)) / (1e-6)\n",
    "\n",
    "  return h\n",
    "\n",
    "x = np.array([[-1], [1]])\n",
    "h = hessian(f, x)\n",
    "\n",
    "print(h)"
   ]
  },
  {
   "cell_type": "code",
   "execution_count": 30,
   "id": "3fec31d2",
   "metadata": {},
   "outputs": [],
   "source": [
    "def gradient_descent_with_lagrange_multipliers(g, h, x0, y0, η):\n",
    "  \"\"\"\n",
    "  Minimizes the function g(x, y) subject to the constraint h(x, y) = 0 using gradient descent.\n",
    "\n",
    "  Args:\n",
    "    g: The function to be minimized.\n",
    "    h: The constraint function.\n",
    "    x0: The initial value of x.\n",
    "    y0: The initial value of y.\n",
    "    η: The learning rate.\n",
    "\n",
    "  Returns:\n",
    "    A tuple (x, y) of the minimum point of the function g.\n",
    "  \"\"\"\n",
    "\n",
    "  x = x0\n",
    "  y = y0\n",
    "  λ = 0\n",
    "\n",
    "  while True:\n",
    "    gradient_g = g(x, y)\n",
    "    gradient_h = h(x, y)\n",
    "\n",
    "    x = x - η * gradient_g - λ * gradient_h[0]\n",
    "    y = y - η * gradient_g - λ * gradient_h[1]\n",
    "\n",
    "    λ = λ - η * gradient_g.dot(gradient_h) / gradient_h.dot(gradient_h)\n",
    "\n",
    "    if np.linalg.norm(gradient_g) < 1e-6:\n",
    "      break\n",
    "\n",
    "  return x, y"
   ]
  },
  {
   "cell_type": "code",
   "execution_count": 27,
   "id": "29d323a5",
   "metadata": {},
   "outputs": [],
   "source": [
    "def g(x, y):\n",
    "  return 2*x + y"
   ]
  },
  {
   "cell_type": "code",
   "execution_count": 32,
   "id": "643e3386",
   "metadata": {},
   "outputs": [],
   "source": [
    "def dg(x, y):\n",
    "  return 2"
   ]
  },
  {
   "cell_type": "code",
   "execution_count": 28,
   "id": "cd423d8a",
   "metadata": {},
   "outputs": [],
   "source": [
    "def h(x, y):\n",
    "  return x^2 + y^2 - 1"
   ]
  },
  {
   "cell_type": "code",
   "execution_count": 31,
   "id": "94ec25ad",
   "metadata": {},
   "outputs": [
    {
     "ename": "TypeError",
     "evalue": "'int' object is not subscriptable",
     "output_type": "error",
     "traceback": [
      "\u001b[1;31m---------------------------------------------------------------------------\u001b[0m",
      "\u001b[1;31mTypeError\u001b[0m                                 Traceback (most recent call last)",
      "\u001b[1;32m~\\AppData\\Local\\Temp\\ipykernel_530596\\1683373975.py\u001b[0m in \u001b[0;36m<module>\u001b[1;34m\u001b[0m\n\u001b[1;32m----> 1\u001b[1;33m \u001b[0mx\u001b[0m\u001b[1;33m,\u001b[0m \u001b[0my\u001b[0m \u001b[1;33m=\u001b[0m \u001b[0mgradient_descent_with_lagrange_multipliers\u001b[0m\u001b[1;33m(\u001b[0m\u001b[0mg\u001b[0m\u001b[1;33m,\u001b[0m \u001b[0mh\u001b[0m\u001b[1;33m,\u001b[0m \u001b[1;36m0\u001b[0m\u001b[1;33m,\u001b[0m \u001b[1;36m0\u001b[0m\u001b[1;33m,\u001b[0m \u001b[1;36m0.01\u001b[0m\u001b[1;33m)\u001b[0m\u001b[1;33m\u001b[0m\u001b[1;33m\u001b[0m\u001b[0m\n\u001b[0m\u001b[0;32m      2\u001b[0m \u001b[1;33m\u001b[0m\u001b[0m\n\u001b[0;32m      3\u001b[0m \u001b[0mprint\u001b[0m\u001b[1;33m(\u001b[0m\u001b[0mx\u001b[0m\u001b[1;33m,\u001b[0m \u001b[0my\u001b[0m\u001b[1;33m)\u001b[0m\u001b[1;33m\u001b[0m\u001b[1;33m\u001b[0m\u001b[0m\n",
      "\u001b[1;32m~\\AppData\\Local\\Temp\\ipykernel_530596\\176940557.py\u001b[0m in \u001b[0;36mgradient_descent_with_lagrange_multipliers\u001b[1;34m(g, h, x0, y0, η)\u001b[0m\n\u001b[0;32m     22\u001b[0m     \u001b[0mgradient_h\u001b[0m \u001b[1;33m=\u001b[0m \u001b[0mh\u001b[0m\u001b[1;33m(\u001b[0m\u001b[0mx\u001b[0m\u001b[1;33m,\u001b[0m \u001b[0my\u001b[0m\u001b[1;33m)\u001b[0m\u001b[1;33m\u001b[0m\u001b[1;33m\u001b[0m\u001b[0m\n\u001b[0;32m     23\u001b[0m \u001b[1;33m\u001b[0m\u001b[0m\n\u001b[1;32m---> 24\u001b[1;33m     \u001b[0mx\u001b[0m \u001b[1;33m=\u001b[0m \u001b[0mx\u001b[0m \u001b[1;33m-\u001b[0m \u001b[0mη\u001b[0m \u001b[1;33m*\u001b[0m \u001b[0mgradient_g\u001b[0m \u001b[1;33m-\u001b[0m \u001b[0mλ\u001b[0m \u001b[1;33m*\u001b[0m \u001b[0mgradient_h\u001b[0m\u001b[1;33m[\u001b[0m\u001b[1;36m0\u001b[0m\u001b[1;33m]\u001b[0m\u001b[1;33m\u001b[0m\u001b[1;33m\u001b[0m\u001b[0m\n\u001b[0m\u001b[0;32m     25\u001b[0m     \u001b[0my\u001b[0m \u001b[1;33m=\u001b[0m \u001b[0my\u001b[0m \u001b[1;33m-\u001b[0m \u001b[0mη\u001b[0m \u001b[1;33m*\u001b[0m \u001b[0mgradient_g\u001b[0m \u001b[1;33m-\u001b[0m \u001b[0mλ\u001b[0m \u001b[1;33m*\u001b[0m \u001b[0mgradient_h\u001b[0m\u001b[1;33m[\u001b[0m\u001b[1;36m1\u001b[0m\u001b[1;33m]\u001b[0m\u001b[1;33m\u001b[0m\u001b[1;33m\u001b[0m\u001b[0m\n\u001b[0;32m     26\u001b[0m \u001b[1;33m\u001b[0m\u001b[0m\n",
      "\u001b[1;31mTypeError\u001b[0m: 'int' object is not subscriptable"
     ]
    }
   ],
   "source": [
    "x, y = gradient_descent_with_lagrange_multipliers(g, h, 0, 0, 0.01)\n",
    "\n",
    "print(x, y)"
   ]
  },
  {
   "cell_type": "code",
   "execution_count": null,
   "id": "60f6b78d",
   "metadata": {},
   "outputs": [],
   "source": []
  },
  {
   "cell_type": "code",
   "execution_count": 33,
   "id": "90fd9620",
   "metadata": {},
   "outputs": [
    {
     "name": "stdout",
     "output_type": "stream",
     "text": [
      "   s1  s2  calculateMahalanobis\n",
      "0  -4   8              1.882353\n",
      "1   4  10              2.729412\n",
      "2  -2   9              0.596078\n",
      "3   0  14              2.007843\n",
      "4   2  13              0.784314\n"
     ]
    },
    {
     "name": "stderr",
     "output_type": "stream",
     "text": [
      "C:\\Vipul\\Anaconda\\lib\\site-packages\\numpy\\core\\fromnumeric.py:3438: FutureWarning: In a future version, DataFrame.mean(axis=None) will return a scalar mean over the entire DataFrame. To retain the old behavior, use 'frame.mean(axis=0)' or just 'frame.mean()'\n",
      "  return mean(axis=axis, dtype=dtype, out=out, **kwargs)\n"
     ]
    }
   ],
   "source": [
    "import numpy as np\n",
    "import pandas as pd\n",
    "import scipy as stats\n",
    "  \n",
    "# calculateMahalanobis function to calculate\n",
    "# the Mahalanobis distance\n",
    "def calculateMahalanobis(y=None, data=None, cov=None):\n",
    "  \n",
    "    y_mu = y - np.mean(data)\n",
    "    if not cov:\n",
    "        cov = np.cov(data.values.T)\n",
    "    inv_covmat = np.linalg.inv(cov)\n",
    "    left = np.dot(y_mu, inv_covmat)\n",
    "    mahal = np.dot(left, y_mu.T)\n",
    "    return mahal.diagonal()\n",
    "  \n",
    "# data\n",
    "data = { 's1': [-4, 4, -2, 0, 2],\n",
    "         's2': [8, 10, 9, 14, 13],\n",
    "           }\n",
    "# Creating dataset\n",
    "df = pd.DataFrame(data,columns=['s1', 's2'])\n",
    "  \n",
    "# Creating a new column in the dataframe that holds\n",
    "# the Mahalanobis distance for each row\n",
    "df['calculateMahalanobis'] = calculateMahalanobis(y=df, data=df[[\n",
    "  's1', 's2']])\n",
    "  \n",
    "# Display the dataframe\n",
    "print(df)"
   ]
  },
  {
   "cell_type": "code",
   "execution_count": null,
   "id": "85b5095c",
   "metadata": {},
   "outputs": [],
   "source": []
  },
  {
   "cell_type": "code",
   "execution_count": 34,
   "id": "d03f9f94",
   "metadata": {},
   "outputs": [
    {
     "name": "stdout",
     "output_type": "stream",
     "text": [
      "Mahalanobis Distances: [1.664376536043255, 1.3021222630996299, 0.9399904731178074, 1.236267854858009, 1.059428175810655]\n",
      "Average Mahalanobis Distance: 1.2404370605858712\n"
     ]
    }
   ],
   "source": [
    "import numpy as np\n",
    "\n",
    "# Define the point sets\n",
    "s1 = np.array([-4, 4, -2, 0, 2])\n",
    "s2 = np.array([8, 10, 9, 14, 13])\n",
    "\n",
    "# Calculate the sample mean (centroid) for each set\n",
    "mean_s1 = np.mean(s1)\n",
    "mean_s2 = np.mean(s2)\n",
    "\n",
    "# Calculate the sample covariance matrix for each set\n",
    "cov_s1 = np.cov(s1)\n",
    "cov_s2 = np.cov(s2)\n",
    "\n",
    "# Compute the Mahalanobis distance for each pair of points\n",
    "mahalanobis_distances = []\n",
    "for x, y in zip(s1, s2):\n",
    "    diff = np.array([x - mean_s1, y - mean_s2])\n",
    "    covariance_matrix = np.array([[cov_s1, 0], [0, cov_s2]])\n",
    "    inv_covariance_matrix = np.linalg.inv(covariance_matrix)\n",
    "    distance = np.sqrt(np.dot(np.dot(diff, inv_covariance_matrix), diff))\n",
    "    mahalanobis_distances.append(distance)\n",
    "\n",
    "# Calculate the average Mahalanobis distance\n",
    "average_mahalanobis_distance = np.mean(mahalanobis_distances)\n",
    "\n",
    "print(\"Mahalanobis Distances:\", mahalanobis_distances)\n",
    "print(\"Average Mahalanobis Distance:\", average_mahalanobis_distance)"
   ]
  },
  {
   "cell_type": "code",
   "execution_count": null,
   "id": "35f1e041",
   "metadata": {},
   "outputs": [],
   "source": []
  },
  {
   "cell_type": "code",
   "execution_count": 36,
   "id": "cd267232",
   "metadata": {},
   "outputs": [
    {
     "name": "stdout",
     "output_type": "stream",
     "text": [
      "Eigenvalues: [3. 1. 2.]\n",
      "Unit Eigenvectors:\n",
      "λ_1 = 3.0, v_1 = [0.70710678 0.         0.70710678]\n",
      "λ_2 = 1.0, v_2 = [-0.70710678  0.          0.70710678]\n",
      "λ_3 = 2.0, v_3 = [0. 1. 0.]\n"
     ]
    }
   ],
   "source": [
    "\n",
    "# Define the matrix A\n",
    "A = np.array([[2, 0, 1],\n",
    "              [0, 2, 0],\n",
    "              [1, 0, 2]])\n",
    "\n",
    "# Compute eigenvalues and eigenvectors\n",
    "eigenvalues, eigenvectors = np.linalg.eig(A)\n",
    "\n",
    "# Normalize the eigenvectors to make them unit vectors\n",
    "unit_eigenvectors = [v / np.linalg.norm(v) for v in eigenvectors.T]\n",
    "\n",
    "# Print eigenvalues and unit eigenvectors\n",
    "print(\"Eigenvalues:\", eigenvalues)\n",
    "print(\"Unit Eigenvectors:\")\n",
    "for i, v in enumerate(unit_eigenvectors):\n",
    "    print(f\"λ_{i+1} = {eigenvalues[i]}, v_{i+1} =\", v)"
   ]
  },
  {
   "cell_type": "code",
   "execution_count": 37,
   "id": "df23c1e2",
   "metadata": {},
   "outputs": [
    {
     "name": "stdout",
     "output_type": "stream",
     "text": [
      "Eigenvalues: [3. 1. 2.]\n",
      "Unit Eigenvectors:\n",
      "λ_1 = 3.0, v_1 = [0.70710678 0.         0.70710678]\n",
      "λ_2 = 1.0, v_2 = [-0.70710678  0.          0.70710678]\n",
      "λ_3 = 2.0, v_3 = [0. 1. 0.]\n"
     ]
    }
   ],
   "source": [
    "import numpy as np\n",
    "\n",
    "# Define the matrix A\n",
    "A = np.array([[2, 0, 1],\n",
    "              [0, 2, 0],\n",
    "              [1, 0, 2]])\n",
    "\n",
    "# Compute eigenvalues and eigenvectors\n",
    "eigenvalues, eigenvectors = np.linalg.eig(A)\n",
    "\n",
    "# Normalize the eigenvectors to make them unit vectors\n",
    "unit_eigenvectors = []\n",
    "for v in eigenvectors.T:\n",
    "    unit_vector = v / np.linalg.norm(v)\n",
    "    unit_eigenvectors.append(unit_vector)\n",
    "\n",
    "# Print eigenvalues and unit eigenvectors\n",
    "print(\"Eigenvalues:\", eigenvalues)\n",
    "print(\"Unit Eigenvectors:\")\n",
    "for i, v in enumerate(unit_eigenvectors):\n",
    "    print(f\"λ_{i+1} = {eigenvalues[i]}, v_{i+1} =\", v)\n"
   ]
  },
  {
   "cell_type": "code",
   "execution_count": 38,
   "id": "c842bdc0",
   "metadata": {},
   "outputs": [
    {
     "name": "stdout",
     "output_type": "stream",
     "text": [
      "Eigenvalues: [3. 1. 2.]\n",
      "Unit Eigenvectors:\n",
      "λ_1 = 3.0, v_1 = [0.70710678 0.         0.70710678]\n",
      "λ_2 = 1.0, v_2 = [-0.70710678  0.          0.70710678]\n",
      "λ_3 = 2.0, v_3 = [0. 1. 0.]\n"
     ]
    }
   ],
   "source": [
    "import numpy as np\n",
    "\n",
    "# Define the matrix A\n",
    "A = np.array([[2, 0, 1],\n",
    "              [0, 2, 0],\n",
    "              [1, 0, 2]])\n",
    "\n",
    "# Compute eigenvalues and eigenvectors\n",
    "eigenvalues, eigenvectors = np.linalg.eig(A)\n",
    "\n",
    "# Normalize the eigenvectors to make them unit vectors\n",
    "unit_eigenvectors = []\n",
    "for i in range(len(eigenvalues)):\n",
    "    eigenvector = eigenvectors[:, i]\n",
    "    unit_eigenvector = eigenvector / np.linalg.norm(eigenvector)\n",
    "    unit_eigenvectors.append(unit_eigenvector)\n",
    "\n",
    "# Print eigenvalues and unit eigenvectors\n",
    "print(\"Eigenvalues:\", eigenvalues)\n",
    "print(\"Unit Eigenvectors:\")\n",
    "for i, v in enumerate(unit_eigenvectors):\n",
    "    print(f\"λ_{i+1} = {eigenvalues[i]}, v_{i+1} =\", v)\n",
    "\n",
    "    "
   ]
  }
 ],
 "metadata": {
  "kernelspec": {
   "display_name": "Python 3 (ipykernel)",
   "language": "python",
   "name": "python3"
  },
  "language_info": {
   "codemirror_mode": {
    "name": "ipython",
    "version": 3
   },
   "file_extension": ".py",
   "mimetype": "text/x-python",
   "name": "python",
   "nbconvert_exporter": "python",
   "pygments_lexer": "ipython3",
   "version": "3.9.13"
  }
 },
 "nbformat": 4,
 "nbformat_minor": 5
}
