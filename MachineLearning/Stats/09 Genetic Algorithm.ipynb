{
 "cells": [
  {
   "cell_type": "markdown",
   "metadata": {
    "id": "6KuxJfyyrCEv"
   },
   "source": [
    "Genetic algorithms (GAs) are a type of optimization algorithm inspired by the process of natural selection and evolution. They are widely used to find optimal or near-optimal solutions to complex problems by mimicking the process of survival of the fittest in biological evolution.\n",
    "\n",
    "The basic idea behind genetic algorithms is to iteratively improve a population of potential solutions over generations. Here's a high-level overview of how they work:\n",
    "\n",
    "1. Initialization: Start by creating a population of random potential solutions (often called individuals or chromosomes) to the problem at hand. Each individual in the population represents a possible solution.\n",
    "\n",
    "2. Evaluation: Evaluate the fitness of each individual in the population. The fitness function quantifies how good each individual's solution is relative to the problem's objective. Individuals with higher fitness scores are considered better solutions.\n",
    "\n",
    "3. Selection: Choose individuals from the current population to become parents for the next generation. Typically, individuals with higher fitness have a higher chance of being selected, but some selection methods also maintain diversity by considering lower fitness individuals.\n",
    "\n",
    "4. Crossover (Recombination): Perform crossover (also known as recombination) to create offspring from the selected parents. Crossover involves exchanging genetic information between two parents to produce new solutions.\n",
    "\n",
    "5. Mutation: Apply mutation to some of the offspring. Mutation introduces small random changes to an individual's genetic information to promote exploration of the solution space.\n",
    "\n",
    "6. Replacement: Replace the old population with the newly created offspring. This forms the next generation of potential solutions.\n",
    "\n",
    "7. Termination: The process of selection, crossover, and mutation is repeated for a certain number of generations or until a termination condition is met, such as reaching a satisfactory solution or running out of computational resources."
   ]
  },
  {
   "cell_type": "code",
   "execution_count": 1,
   "metadata": {
    "id": "T09C5li8q_Ox"
   },
   "outputs": [],
   "source": [
    "import numpy as np\n",
    "import matplotlib.pyplot as plt"
   ]
  },
  {
   "cell_type": "code",
   "execution_count": 2,
   "metadata": {
    "id": "yUDV-SWGq_O3"
   },
   "outputs": [],
   "source": [
    "# Objective function for optimization\n",
    "def obj_function(x,y):  # Ackley's Function\n",
    "    # z = -20* np.exp(-0.2* np.sqrt(0.5* (x**2 + y**2))) - np.exp(0.5* (np.cos(2* np.pi* x) + (np.cos(2* np.pi* y)))) + np.exp(1) + 20\n",
    "    z=-(y + 47) * np.sin(np.sqrt(np.abs((x / 2) + y + 47))) - x * np.sin(np.sqrt(np.abs(x - (y + 47))))\n",
    "    return z"
   ]
  },
  {
   "cell_type": "code",
   "execution_count": 3,
   "metadata": {
    "id": "aeLS7OBFq_O5"
   },
   "outputs": [],
   "source": [
    "# Objective function for optimization\n",
    "def obj_function_init(popsize,bounds):\n",
    "    blo = bounds[0]\n",
    "    bup = bounds[1]\n",
    "    x = np.zeros((2,popsize)) #Population placeholder\n",
    "    z = np.zeros((popsize)) #Fitness placeholder\n",
    "\n",
    "    #initialization\n",
    "    for i in range(popsize):\n",
    "        x[0,i] = (bup - blo)*np.random.random(1) + blo\n",
    "        x[1,i] = (bup - blo)*np.random.random(1) + blo\n",
    "        z[i] = obj_function(x[0,i],x[1,i])\n",
    "    return x,z"
   ]
  },
  {
   "cell_type": "code",
   "execution_count": 4,
   "metadata": {
    "id": "ch1u5Hw7q_O6"
   },
   "outputs": [],
   "source": [
    "# Selecting top population for mating\n",
    "def select_mating_pool(x,fitness,num_parents):\n",
    "    sort_index = np.argsort(fitness)\n",
    "    x_sorted = x[:,sort_index]\n",
    "#     fitness_sorted = fitness[sort_index]\n",
    "    return x_sorted[:,:num_parents]"
   ]
  },
  {
   "cell_type": "code",
   "execution_count": 5,
   "metadata": {
    "id": "UmXrJyBHq_O7"
   },
   "outputs": [],
   "source": [
    "# Genes crossover of parents\n",
    "def crossover(x_parent,offspring_size):\n",
    "    x_child = np.zeros((2,offspring_size))\n",
    "    for k in range(offspring_size):\n",
    "        parent_idx = np.random.choice(x_parent.shape[1],2,replace=False)\n",
    "        x_child[0,k] = x_parent[0,parent_idx[0]]\n",
    "        x_child[1,k] = x_parent[1,parent_idx[1]]\n",
    "    return x_child"
   ]
  },
  {
   "cell_type": "code",
   "execution_count": 6,
   "metadata": {
    "id": "5KnVe0Ghq_O8"
   },
   "outputs": [],
   "source": [
    "# Gene Mutation of offsprings after crossover\n",
    "def mutation(offspring_crossover):\n",
    "    # Mutation changes a number of genes as defined by the num_mutations argument. The changes are random.\n",
    "    for idx in range(offspring_crossover.shape[1]):\n",
    "        mutation_index = np.random.choice([0,1])\n",
    "        # The random value to be added to the gene.\n",
    "        random_value = np.random.uniform(-1.0, 1.0, 1)\n",
    "        offspring_crossover[mutation_index,idx] = offspring_crossover[mutation_index, idx] + random_value\n",
    "    return offspring_crossover"
   ]
  },
  {
   "cell_type": "code",
   "execution_count": 7,
   "metadata": {
    "id": "DWq_JMKqq_O9"
   },
   "outputs": [],
   "source": [
    "def Genetic_Algorithm(popsize,bounds,num_parents,offspring_size,max_generations):\n",
    "    population, fitness = obj_function_init(popsize,bounds)\n",
    "    for generation in range(max_generations):\n",
    "        top_pop = select_mating_pool(population,fitness,num_parents)\n",
    "        offspring_crossover = crossover(top_pop,offspring_size)\n",
    "        offspring_mutation = mutation(offspring_crossover)\n",
    "        new_population = np.hstack((population,offspring_mutation))\n",
    "        new_fitness = np.zeros((new_population.shape[1]))\n",
    "        for i in range(new_population.shape[1]):\n",
    "            new_fitness[i] = obj_function(new_population[0,i],new_population[1,i])\n",
    "        sorted_index = np.argsort(new_fitness)\n",
    "        new_population_sorted = new_population[:,sorted_index]\n",
    "        new_fitness_sorted = new_fitness[sorted_index]\n",
    "        population = new_population_sorted[:,:popsize]\n",
    "        fitness = new_fitness_sorted[:popsize]\n",
    "        print(fitness[0])\n",
    "    return(population)"
   ]
  },
  {
   "cell_type": "code",
   "execution_count": 8,
   "metadata": {
    "colab": {
     "base_uri": "https://localhost:8080/"
    },
    "id": "mFbJNDzlq_O_",
    "outputId": "b4512c81-ffd7-4371-b241-696361ba5beb"
   },
   "outputs": [
    {
     "name": "stdout",
     "output_type": "stream",
     "text": [
      "-882.8326707136428\n",
      "-882.8326707136428\n",
      "-882.8326707136428\n",
      "-888.5268306279454\n",
      "-888.5268306279454\n",
      "-888.5268306279454\n",
      "-888.5268306279454\n",
      "-888.5268306279454\n",
      "-888.5268306279454\n",
      "-888.5268306279454\n",
      "-888.5268306279454\n",
      "-888.8946393282603\n",
      "-888.8946393282603\n",
      "-888.8946393282603\n",
      "-888.8946393282603\n",
      "-888.8946393282603\n",
      "-888.9198938644604\n",
      "-888.9293514677111\n",
      "-888.9379977995703\n",
      "-888.9395255287997\n",
      "-888.9418254488021\n",
      "-888.9418254488021\n",
      "-888.9473563221071\n",
      "-888.9473563221071\n",
      "-888.9473563221071\n",
      "-888.9473563221071\n",
      "-888.94743989393\n",
      "-888.9485850442863\n",
      "-888.9485850442863\n",
      "-888.9485850442863\n",
      "-888.9485850442863\n",
      "-888.9485850442863\n",
      "-888.9486441852423\n",
      "-888.9486912738844\n",
      "-888.9486912738844\n",
      "-888.9487605163622\n",
      "-888.9487605163622\n",
      "-888.9489203547081\n",
      "-888.9489203547081\n",
      "-888.9489203547081\n",
      "-888.9489203547081\n",
      "-888.9489203547081\n",
      "-888.9489203547081\n",
      "-888.9489203547081\n",
      "-888.9489203547081\n",
      "-888.9489203547081\n",
      "-888.9489203547081\n",
      "-888.9489203547081\n",
      "-888.9489400218436\n",
      "-888.9489400218436\n",
      "-888.9489400218436\n",
      "-888.9489400218436\n",
      "-888.9489400218436\n",
      "-888.9489400218436\n",
      "-888.9489400218436\n",
      "-888.9489400218436\n",
      "-888.9489400218436\n",
      "-888.9489400218436\n",
      "-888.949003464355\n",
      "-888.9490392133432\n",
      "-888.9490392133432\n",
      "-888.9490392133432\n",
      "-888.9490392133432\n",
      "-888.9490392133432\n",
      "-888.9490392133432\n",
      "-888.9490392133432\n",
      "-888.9490392133432\n",
      "-888.9490392133432\n",
      "-888.9490392133432\n",
      "-888.9490392133432\n",
      "-888.9490392133432\n",
      "-888.9490392133432\n",
      "-888.9490392133432\n",
      "-888.9490392133432\n",
      "-888.9490392133432\n",
      "-888.9490392133432\n",
      "-888.9490392133432\n",
      "-888.9491164411604\n",
      "-888.9491164411604\n",
      "-888.9491164411604\n",
      "-888.9491164411604\n",
      "-888.9491164411604\n",
      "-888.9491218795829\n",
      "-888.9491218795829\n",
      "-888.9491218795829\n",
      "-888.9491218795829\n",
      "-888.9491218795829\n",
      "-888.9491218795829\n",
      "-888.9491218795829\n",
      "-888.9491218795829\n",
      "-888.9491218795829\n",
      "-888.9491218795829\n",
      "-888.9491218795829\n",
      "-888.9491218795829\n",
      "-888.9491218795829\n",
      "-888.9491218795829\n",
      "-888.9491218795829\n",
      "-888.9491218795829\n",
      "-888.9491218795829\n",
      "-888.9491218795829\n",
      "-888.9491218795829\n",
      "-888.9491218795829\n",
      "-888.9491218795829\n",
      "-888.9491218795829\n",
      "-888.9491218795829\n",
      "-888.9491218795829\n",
      "-888.9491218795829\n",
      "-888.9491218795829\n",
      "-888.9491218795829\n",
      "-888.9491218795829\n",
      "-888.9491218795829\n",
      "-888.9491218795829\n",
      "-888.9491218795829\n",
      "-888.9491218795829\n",
      "-888.9491240656201\n",
      "-888.9491240656201\n",
      "-888.9491240656201\n",
      "-888.9491240656201\n",
      "-888.9491240656201\n",
      "-888.9491240656201\n",
      "-888.9491240656201\n",
      "-888.9491240656201\n",
      "-888.9491240656201\n",
      "-888.9491240656201\n",
      "-888.9491240656201\n",
      "-888.9491240656201\n",
      "-888.9491240656201\n",
      "-888.9491240656201\n",
      "-888.9491240656201\n",
      "-888.9491240656201\n",
      "-888.9491240656201\n",
      "-888.9491240656201\n",
      "-888.9491240656201\n",
      "-888.9491240656201\n",
      "-888.9491240656201\n",
      "-888.9491240656201\n",
      "-888.9491240656201\n",
      "-888.9491240656201\n",
      "-888.9491240656201\n",
      "-888.9491240656201\n",
      "-888.9491240656201\n",
      "-888.9491240656201\n",
      "-888.9491240656201\n",
      "-888.9491240656201\n",
      "-888.9491240656201\n",
      "-888.9491240656201\n",
      "-888.9491240656201\n",
      "-888.9491240656201\n",
      "-888.9491240656201\n",
      "-888.9491240656201\n",
      "-888.9491240656201\n",
      "-888.9491240656201\n",
      "-888.9491240656201\n",
      "-888.9491240656201\n",
      "-888.9491240656201\n",
      "-888.9491240656201\n",
      "-888.9491240656201\n",
      "-888.9491240656201\n",
      "-888.9491240656201\n",
      "-888.9491240656201\n",
      "-888.9491240656201\n",
      "-888.9491240656201\n",
      "-888.9491240656201\n",
      "-888.9491240656201\n",
      "-888.9491240656201\n",
      "-888.9491240656201\n",
      "-888.9491240656201\n",
      "-888.9491240656201\n",
      "-888.9491240656201\n",
      "-888.9491240656201\n",
      "-888.9491240656201\n",
      "-888.9491240656201\n",
      "-888.9491240656201\n",
      "-888.9491240656201\n",
      "-888.9491240656201\n",
      "-888.9491240656201\n",
      "-888.9491240656201\n",
      "-888.9491240656201\n",
      "-888.9491240656201\n",
      "-888.9491240656201\n",
      "-888.9491240656201\n",
      "-888.9491240656201\n",
      "-888.9491240656201\n",
      "-888.9491240656201\n",
      "-888.9491240656201\n",
      "-888.9491240656201\n",
      "-888.9491240656201\n",
      "-888.9491240656201\n",
      "-888.9491240656201\n",
      "-888.9491240656201\n",
      "-888.9491240656201\n",
      "-888.9491240656201\n",
      "-888.9491240656201\n",
      "-888.9491240656201\n",
      "-888.9491240656201\n",
      "-888.9491240656201\n",
      "-888.9491240656201\n",
      "-888.9491240656201\n",
      "-888.9491240656201\n",
      "-888.9491240656201\n"
     ]
    }
   ],
   "source": [
    "pop = Genetic_Algorithm(100,[0, 512],50,50,200)"
   ]
  },
  {
   "cell_type": "code",
   "execution_count": 9,
   "metadata": {
    "colab": {
     "base_uri": "https://localhost:8080/"
    },
    "id": "ExnXUZPVq_PA",
    "outputId": "b5246973-16f8-4e67-a9f3-50f5080d1536"
   },
   "outputs": [
    {
     "name": "stdout",
     "output_type": "stream",
     "text": [
      "[347.32647435 499.41319981]\n"
     ]
    }
   ],
   "source": [
    "# Global Optima\n",
    "print(pop[:,0])"
   ]
  },
  {
   "cell_type": "code",
   "execution_count": null,
   "metadata": {
    "id": "TZMVDqSSq_PB"
   },
   "outputs": [],
   "source": []
  }
 ],
 "metadata": {
  "colab": {
   "provenance": []
  },
  "kernelspec": {
   "display_name": "Python 3 (ipykernel)",
   "language": "python",
   "name": "python3"
  },
  "language_info": {
   "codemirror_mode": {
    "name": "ipython",
    "version": 3
   },
   "file_extension": ".py",
   "mimetype": "text/x-python",
   "name": "python",
   "nbconvert_exporter": "python",
   "pygments_lexer": "ipython3",
   "version": "3.11.5"
  }
 },
 "nbformat": 4,
 "nbformat_minor": 1
}
