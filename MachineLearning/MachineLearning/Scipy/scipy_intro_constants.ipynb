{
 "cells": [
  {
   "cell_type": "markdown",
   "metadata": {
    "id": "LKbc0XSe1GTe"
   },
   "source": [
    "# Scipy or Scientific Python\n",
    "* SciPy is a scientific computation library that uses NumPy underneath.\n",
    "* SciPy is a collection of mathematical algorithms and convenience functions\n",
    "* It provides more utility functions for optimization, stats and signal processing."
   ]
  },
  {
   "cell_type": "markdown",
   "metadata": {
    "id": "zZbv-tQS1vMl"
   },
   "source": [
    "# Installation of SciPy\n",
    "```\n",
    "pip install scipy\n",
    "```"
   ]
  },
  {
   "cell_type": "code",
   "execution_count": 1,
   "metadata": {
    "colab": {
     "base_uri": "https://localhost:8080/"
    },
    "executionInfo": {
     "elapsed": 569,
     "status": "ok",
     "timestamp": 1681829480790,
     "user": {
      "displayName": "Pankaj Choudhury",
      "userId": "11381187948817891789"
     },
     "user_tz": -330
    },
    "id": "w5COPuir0kUc",
    "outputId": "cbae567f-98de-4af0-b605-391cbba754c8"
   },
   "outputs": [
    {
     "name": "stdout",
     "output_type": "stream",
     "text": [
      "1.11.1\n"
     ]
    }
   ],
   "source": [
    "import scipy\n",
    "print(scipy.__version__)"
   ]
  },
  {
   "cell_type": "markdown",
   "metadata": {
    "id": "2hJPP4cN2rQJ"
   },
   "source": [
    "# Constants in SciPy"
   ]
  },
  {
   "cell_type": "code",
   "execution_count": 2,
   "metadata": {
    "colab": {
     "base_uri": "https://localhost:8080/"
    },
    "executionInfo": {
     "elapsed": 7,
     "status": "ok",
     "timestamp": 1681830911146,
     "user": {
      "displayName": "Pankaj Choudhury",
      "userId": "11381187948817891789"
     },
     "user_tz": -330
    },
    "id": "ILPxOdHh2IER",
    "outputId": "1f8c1723-7fdf-4379-f346-afbe85c7db08"
   },
   "outputs": [
    {
     "name": "stdout",
     "output_type": "stream",
     "text": [
      "3.141592653589793\n",
      "6.6743e-11\n",
      "299792458.0\n",
      "6.62607015e-34\n",
      "6.02214076e+23\n",
      "1.380649e-23\n",
      "9.1093837015e-31\n",
      "1.67262192369e-27\n",
      "1.67492749804e-27\n"
     ]
    }
   ],
   "source": [
    "from scipy import constants\n",
    "print(constants.pi)\n",
    "print(constants.G) # Newton’s gravitational constant\n",
    "print(constants.c) # Speed of light in vacuum\n",
    "print(constants.h) # Planck constant h\n",
    "print(constants.Avogadro) # Avogadro constant\n",
    "print(constants.k) # Boltzmann constant\n",
    "print(constants.electron_mass) # Speed of light in vacuum\n",
    "print(constants.proton_mass) # Proton mass\n",
    "print(constants.neutron_mass) # Neutron mass"
   ]
  },
  {
   "cell_type": "markdown",
   "metadata": {
    "id": "qexRdCqR3GXk"
   },
   "source": [
    "## Constant Units\n",
    "A list of all units under the constants module can be seen using the dir() function."
   ]
  },
  {
   "cell_type": "code",
   "execution_count": 3,
   "metadata": {
    "id": "_bDFhIXU2_wy"
   },
   "outputs": [
    {
     "data": {
      "text/plain": [
       "['Avogadro',\n",
       " 'Boltzmann',\n",
       " 'Btu',\n",
       " 'Btu_IT',\n",
       " 'Btu_th',\n",
       " 'ConstantWarning',\n",
       " 'G',\n",
       " 'Julian_year',\n",
       " 'N_A',\n",
       " 'Planck',\n",
       " 'R',\n",
       " 'Rydberg',\n",
       " 'Stefan_Boltzmann',\n",
       " 'Wien',\n",
       " '__all__',\n",
       " '__builtins__',\n",
       " '__cached__',\n",
       " '__doc__',\n",
       " '__file__',\n",
       " '__loader__',\n",
       " '__name__',\n",
       " '__package__',\n",
       " '__path__',\n",
       " '__spec__',\n",
       " '_codata',\n",
       " '_constants',\n",
       " '_obsolete_constants',\n",
       " 'acre',\n",
       " 'alpha',\n",
       " 'angstrom',\n",
       " 'arcmin',\n",
       " 'arcminute',\n",
       " 'arcsec',\n",
       " 'arcsecond',\n",
       " 'astronomical_unit',\n",
       " 'atm',\n",
       " 'atmosphere',\n",
       " 'atomic_mass',\n",
       " 'atto',\n",
       " 'au',\n",
       " 'bar',\n",
       " 'barrel',\n",
       " 'bbl',\n",
       " 'blob',\n",
       " 'c',\n",
       " 'calorie',\n",
       " 'calorie_IT',\n",
       " 'calorie_th',\n",
       " 'carat',\n",
       " 'centi',\n",
       " 'codata',\n",
       " 'constants',\n",
       " 'convert_temperature',\n",
       " 'day',\n",
       " 'deci',\n",
       " 'degree',\n",
       " 'degree_Fahrenheit',\n",
       " 'deka',\n",
       " 'dyn',\n",
       " 'dyne',\n",
       " 'e',\n",
       " 'eV',\n",
       " 'electron_mass',\n",
       " 'electron_volt',\n",
       " 'elementary_charge',\n",
       " 'epsilon_0',\n",
       " 'erg',\n",
       " 'exa',\n",
       " 'exbi',\n",
       " 'femto',\n",
       " 'fermi',\n",
       " 'find',\n",
       " 'fine_structure',\n",
       " 'fluid_ounce',\n",
       " 'fluid_ounce_US',\n",
       " 'fluid_ounce_imp',\n",
       " 'foot',\n",
       " 'g',\n",
       " 'gallon',\n",
       " 'gallon_US',\n",
       " 'gallon_imp',\n",
       " 'gas_constant',\n",
       " 'gibi',\n",
       " 'giga',\n",
       " 'golden',\n",
       " 'golden_ratio',\n",
       " 'grain',\n",
       " 'gram',\n",
       " 'gravitational_constant',\n",
       " 'h',\n",
       " 'hbar',\n",
       " 'hectare',\n",
       " 'hecto',\n",
       " 'horsepower',\n",
       " 'hour',\n",
       " 'hp',\n",
       " 'inch',\n",
       " 'k',\n",
       " 'kgf',\n",
       " 'kibi',\n",
       " 'kilo',\n",
       " 'kilogram_force',\n",
       " 'kmh',\n",
       " 'knot',\n",
       " 'lambda2nu',\n",
       " 'lb',\n",
       " 'lbf',\n",
       " 'light_year',\n",
       " 'liter',\n",
       " 'litre',\n",
       " 'long_ton',\n",
       " 'm_e',\n",
       " 'm_n',\n",
       " 'm_p',\n",
       " 'm_u',\n",
       " 'mach',\n",
       " 'mebi',\n",
       " 'mega',\n",
       " 'metric_ton',\n",
       " 'micro',\n",
       " 'micron',\n",
       " 'mil',\n",
       " 'mile',\n",
       " 'milli',\n",
       " 'minute',\n",
       " 'mmHg',\n",
       " 'mph',\n",
       " 'mu_0',\n",
       " 'nano',\n",
       " 'nautical_mile',\n",
       " 'neutron_mass',\n",
       " 'nu2lambda',\n",
       " 'ounce',\n",
       " 'oz',\n",
       " 'parsec',\n",
       " 'pebi',\n",
       " 'peta',\n",
       " 'physical_constants',\n",
       " 'pi',\n",
       " 'pico',\n",
       " 'point',\n",
       " 'pound',\n",
       " 'pound_force',\n",
       " 'precision',\n",
       " 'proton_mass',\n",
       " 'psi',\n",
       " 'pt',\n",
       " 'quecto',\n",
       " 'quetta',\n",
       " 'ronna',\n",
       " 'ronto',\n",
       " 'short_ton',\n",
       " 'sigma',\n",
       " 'slinch',\n",
       " 'slug',\n",
       " 'speed_of_light',\n",
       " 'speed_of_sound',\n",
       " 'stone',\n",
       " 'survey_foot',\n",
       " 'survey_mile',\n",
       " 'tebi',\n",
       " 'tera',\n",
       " 'test',\n",
       " 'ton_TNT',\n",
       " 'torr',\n",
       " 'troy_ounce',\n",
       " 'troy_pound',\n",
       " 'u',\n",
       " 'unit',\n",
       " 'value',\n",
       " 'week',\n",
       " 'yard',\n",
       " 'year',\n",
       " 'yobi',\n",
       " 'yocto',\n",
       " 'yotta',\n",
       " 'zebi',\n",
       " 'zepto',\n",
       " 'zero_Celsius',\n",
       " 'zetta']"
      ]
     },
     "execution_count": 3,
     "metadata": {},
     "output_type": "execute_result"
    }
   ],
   "source": [
    "from scipy import constants\n",
    "\n",
    "dir(constants)"
   ]
  },
  {
   "cell_type": "markdown",
   "metadata": {
    "id": "MIhLgQfO5HD9"
   },
   "source": [
    "## Mass\n",
    "Return the specified unit in kg (e.g. gram returns 0.001)"
   ]
  },
  {
   "cell_type": "code",
   "execution_count": 4,
   "metadata": {
    "id": "flSVultf3Mmv"
   },
   "outputs": [
    {
     "name": "stdout",
     "output_type": "stream",
     "text": [
      "0.001\n",
      "1000.0\n",
      "6.479891e-05\n",
      "0.45359236999999997\n",
      "0.45359236999999997\n",
      "0.028349523124999998\n",
      "0.028349523124999998\n",
      "6.3502931799999995\n",
      "1016.0469088\n",
      "907.1847399999999\n",
      "0.031103476799999998\n",
      "0.37324172159999996\n",
      "0.0002\n",
      "1.6605390666e-27\n",
      "1.6605390666e-27\n",
      "1.6605390666e-27\n"
     ]
    }
   ],
   "source": [
    "from scipy import constants\n",
    "\n",
    "print(constants.gram)        #0.001\n",
    "print(constants.metric_ton)  #1000.0\n",
    "print(constants.grain)       #6.479891e-05\n",
    "print(constants.lb)          #0.45359236999999997\n",
    "print(constants.pound)       #0.45359236999999997\n",
    "print(constants.oz)          #0.028349523124999998\n",
    "print(constants.ounce)       #0.028349523124999998\n",
    "print(constants.stone)       #6.3502931799999995\n",
    "print(constants.long_ton)    #1016.0469088\n",
    "print(constants.short_ton)   #907.1847399999999\n",
    "print(constants.troy_ounce)  #0.031103476799999998\n",
    "print(constants.troy_pound)  #0.37324172159999996\n",
    "print(constants.carat)       #0.0002\n",
    "print(constants.atomic_mass) #1.66053904e-27\n",
    "print(constants.m_u)         #1.66053904e-27\n",
    "print(constants.u)           #1.66053904e-27"
   ]
  },
  {
   "cell_type": "markdown",
   "metadata": {
    "id": "Tn6RZieW5Ort"
   },
   "source": [
    "## Angle\n",
    "Return the specified unit in radians (e.g. degree returns 0.017453292519943295)"
   ]
  },
  {
   "cell_type": "code",
   "execution_count": 5,
   "metadata": {
    "id": "UjVXmBKm5L2B"
   },
   "outputs": [
    {
     "name": "stdout",
     "output_type": "stream",
     "text": [
      "0.017453292519943295\n",
      "0.0002908882086657216\n",
      "0.0002908882086657216\n",
      "4.84813681109536e-06\n",
      "4.84813681109536e-06\n"
     ]
    }
   ],
   "source": [
    "from scipy import constants\n",
    "\n",
    "print(constants.degree)     #0.017453292519943295\n",
    "print(constants.arcmin)     #0.0002908882086657216\n",
    "print(constants.arcminute)  #0.0002908882086657216\n",
    "print(constants.arcsec)     #4.84813681109536e-06\n",
    "print(constants.arcsecond)  #4.84813681109536e-06"
   ]
  },
  {
   "cell_type": "markdown",
   "metadata": {
    "id": "OfOvxRia5UPu"
   },
   "source": [
    "## Time\n",
    "Return the specified unit in seconds (e.g. hour returns 3600.0)"
   ]
  },
  {
   "cell_type": "code",
   "execution_count": 6,
   "metadata": {
    "id": "0-0FqRbY5XY3"
   },
   "outputs": [
    {
     "name": "stdout",
     "output_type": "stream",
     "text": [
      "60.0\n",
      "3600.0\n",
      "86400.0\n",
      "604800.0\n",
      "31536000.0\n",
      "31557600.0\n"
     ]
    }
   ],
   "source": [
    "from scipy import constants\n",
    "\n",
    "print(constants.minute)      #60.0\n",
    "print(constants.hour)        #3600.0\n",
    "print(constants.day)         #86400.0\n",
    "print(constants.week)        #604800.0\n",
    "print(constants.year)        #31536000.0\n",
    "print(constants.Julian_year) #31557600.0"
   ]
  },
  {
   "cell_type": "markdown",
   "metadata": {
    "id": "uPvU0-fi5aed"
   },
   "source": [
    "## Length\n",
    "Return the specified unit in meters (e.g. nautical_mile returns 1852.0)\n",
    "\n"
   ]
  },
  {
   "cell_type": "code",
   "execution_count": 7,
   "metadata": {
    "id": "LZKzlcne5gR2"
   },
   "outputs": [
    {
     "name": "stdout",
     "output_type": "stream",
     "text": [
      "0.0254\n",
      "0.30479999999999996\n",
      "0.9143999999999999\n",
      "1609.3439999999998\n",
      "2.5399999999999997e-05\n",
      "0.00035277777777777776\n",
      "0.00035277777777777776\n",
      "0.3048006096012192\n",
      "1609.3472186944373\n",
      "1852.0\n",
      "1e-15\n",
      "1e-10\n",
      "1e-06\n",
      "149597870700.0\n",
      "149597870700.0\n",
      "9460730472580800.0\n",
      "3.085677581491367e+16\n"
     ]
    }
   ],
   "source": [
    "from scipy import constants\n",
    "\n",
    "print(constants.inch)              #0.0254\n",
    "print(constants.foot)              #0.30479999999999996\n",
    "print(constants.yard)              #0.9143999999999999\n",
    "print(constants.mile)              #1609.3439999999998\n",
    "print(constants.mil)               #2.5399999999999997e-05\n",
    "print(constants.pt)                #0.00035277777777777776\n",
    "print(constants.point)             #0.00035277777777777776\n",
    "print(constants.survey_foot)       #0.3048006096012192\n",
    "print(constants.survey_mile)       #1609.3472186944373\n",
    "print(constants.nautical_mile)     #1852.0\n",
    "print(constants.fermi)             #1e-15\n",
    "print(constants.angstrom)          #1e-10\n",
    "print(constants.micron)            #1e-06\n",
    "print(constants.au)                #149597870691.0\n",
    "print(constants.astronomical_unit) #149597870691.0\n",
    "print(constants.light_year)        #9460730472580800.0\n",
    "print(constants.parsec)            #3.0856775813057292e+16"
   ]
  },
  {
   "cell_type": "markdown",
   "metadata": {
    "id": "pIF92uF55g-W"
   },
   "source": [
    "## Pressure\n",
    "Return the specified unit in pascals (e.g. psi returns 6894.757293168361)\n",
    "\n"
   ]
  },
  {
   "cell_type": "code",
   "execution_count": 8,
   "metadata": {
    "id": "B_9Vxqyg5klO"
   },
   "outputs": [
    {
     "name": "stdout",
     "output_type": "stream",
     "text": [
      "101325.0\n",
      "101325.0\n",
      "100000.0\n",
      "133.32236842105263\n",
      "133.32236842105263\n",
      "6894.757293168361\n"
     ]
    }
   ],
   "source": [
    "from scipy import constants\n",
    "\n",
    "print(constants.atm)         #101325.0\n",
    "print(constants.atmosphere)  #101325.0\n",
    "print(constants.bar)         #100000.0\n",
    "print(constants.torr)        #133.32236842105263\n",
    "print(constants.mmHg)        #133.32236842105263\n",
    "print(constants.psi)         #6894.757293168361"
   ]
  },
  {
   "cell_type": "markdown",
   "metadata": {
    "id": "xVgyTFOs5md2"
   },
   "source": [
    "## Area\n",
    "Return the specified unit in square meters(e.g. hectare returns 10000.0)\n",
    "\n"
   ]
  },
  {
   "cell_type": "code",
   "execution_count": 9,
   "metadata": {
    "id": "LC_gnSPn5ra7"
   },
   "outputs": [
    {
     "name": "stdout",
     "output_type": "stream",
     "text": [
      "10000.0\n",
      "4046.8564223999992\n"
     ]
    }
   ],
   "source": [
    "from scipy import constants\n",
    "\n",
    "print(constants.hectare) #10000.0\n",
    "print(constants.acre)    #4046.8564223999992"
   ]
  },
  {
   "cell_type": "markdown",
   "metadata": {
    "id": "esvYnQD_5tE7"
   },
   "source": [
    "## Volume\n",
    "Return the specified unit in cubic meters (e.g. liter returns 0.001)\n",
    "\n"
   ]
  },
  {
   "cell_type": "code",
   "execution_count": 10,
   "metadata": {
    "id": "HUSvCO4L5xgn"
   },
   "outputs": [
    {
     "name": "stdout",
     "output_type": "stream",
     "text": [
      "0.001\n",
      "0.001\n",
      "0.0037854117839999997\n",
      "0.0037854117839999997\n",
      "0.00454609\n",
      "2.9573529562499998e-05\n",
      "2.9573529562499998e-05\n",
      "2.84130625e-05\n",
      "0.15898729492799998\n",
      "0.15898729492799998\n"
     ]
    }
   ],
   "source": [
    "from scipy import constants\n",
    "\n",
    "print(constants.liter)            #0.001\n",
    "print(constants.litre)            #0.001\n",
    "print(constants.gallon)           #0.0037854117839999997\n",
    "print(constants.gallon_US)        #0.0037854117839999997\n",
    "print(constants.gallon_imp)       #0.00454609\n",
    "print(constants.fluid_ounce)      #2.9573529562499998e-05\n",
    "print(constants.fluid_ounce_US)   #2.9573529562499998e-05\n",
    "print(constants.fluid_ounce_imp)  #2.84130625e-05\n",
    "print(constants.barrel)           #0.15898729492799998\n",
    "print(constants.bbl)              #0.15898729492799998"
   ]
  },
  {
   "cell_type": "markdown",
   "metadata": {
    "id": "0QmaVjyD50H4"
   },
   "source": [
    "## Speed\n",
    "Return the specified unit in meters per second (e.g. speed_of_sound returns 340.5)\n"
   ]
  },
  {
   "cell_type": "code",
   "execution_count": 11,
   "metadata": {
    "id": "M8cFe3CN548O"
   },
   "outputs": [
    {
     "name": "stdout",
     "output_type": "stream",
     "text": [
      "0.2777777777777778\n",
      "0.44703999999999994\n",
      "340.5\n",
      "340.5\n",
      "0.5144444444444445\n"
     ]
    }
   ],
   "source": [
    "from scipy import constants\n",
    "\n",
    "print(constants.kmh)            #0.2777777777777778\n",
    "print(constants.mph)            #0.44703999999999994\n",
    "print(constants.mach)           #340.5\n",
    "print(constants.speed_of_sound) #340.5\n",
    "print(constants.knot)           #0.5144444444444445"
   ]
  },
  {
   "cell_type": "markdown",
   "metadata": {
    "id": "FUPnRuZh58VG"
   },
   "source": [
    "## Temperature\n",
    "Return the specified unit in Kelvin (e.g. zero_Celsius returns 273.15)\n",
    "\n"
   ]
  },
  {
   "cell_type": "code",
   "execution_count": 12,
   "metadata": {
    "id": "1bfZKhKL5_6O"
   },
   "outputs": [
    {
     "name": "stdout",
     "output_type": "stream",
     "text": [
      "273.15\n",
      "0.5555555555555556\n"
     ]
    }
   ],
   "source": [
    "from scipy import constants\n",
    "\n",
    "print(constants.zero_Celsius)      #273.15\n",
    "print(constants.degree_Fahrenheit) #0.5555555555555556"
   ]
  },
  {
   "cell_type": "markdown",
   "metadata": {
    "id": "6LyST65H6DOt"
   },
   "source": [
    "## Energy\n",
    "Return the specified unit in joules (e.g. calorie returns 4.184)"
   ]
  },
  {
   "cell_type": "code",
   "execution_count": 13,
   "metadata": {
    "id": "JEzHRehb6Hgq"
   },
   "outputs": [
    {
     "name": "stdout",
     "output_type": "stream",
     "text": [
      "1.602176634e-19\n",
      "1.602176634e-19\n",
      "4.184\n",
      "4.184\n",
      "4.1868\n",
      "1e-07\n",
      "1055.05585262\n",
      "1055.05585262\n",
      "1054.3502644888888\n",
      "4184000000.0\n"
     ]
    }
   ],
   "source": [
    "from scipy import constants\n",
    "\n",
    "print(constants.eV)            #1.6021766208e-19\n",
    "print(constants.electron_volt) #1.6021766208e-19\n",
    "print(constants.calorie)       #4.184\n",
    "print(constants.calorie_th)    #4.184\n",
    "print(constants.calorie_IT)    #4.1868\n",
    "print(constants.erg)           #1e-07\n",
    "print(constants.Btu)           #1055.05585262\n",
    "print(constants.Btu_IT)        #1055.05585262\n",
    "print(constants.Btu_th)        #1054.3502644888888\n",
    "print(constants.ton_TNT)       #4184000000.0"
   ]
  },
  {
   "cell_type": "markdown",
   "metadata": {
    "id": "kYDi_UUV6Klw"
   },
   "source": [
    "## Power\n",
    "Return the specified unit in watts (e.g. horsepower returns 745.6998715822701)"
   ]
  },
  {
   "cell_type": "code",
   "execution_count": 14,
   "metadata": {
    "id": "ms7N-6Gj6PMW"
   },
   "outputs": [
    {
     "name": "stdout",
     "output_type": "stream",
     "text": [
      "745.6998715822701\n",
      "745.6998715822701\n"
     ]
    }
   ],
   "source": [
    "from scipy import constants\n",
    "\n",
    "print(constants.hp)         #745.6998715822701\n",
    "print(constants.horsepower) #745.6998715822701"
   ]
  },
  {
   "cell_type": "markdown",
   "metadata": {
    "id": "N9ZcO0zJ6Qx-"
   },
   "source": [
    "## Force\n",
    "Return the specified unit in newton (e.g. kilogram_force returns 9.80665)"
   ]
  },
  {
   "cell_type": "code",
   "execution_count": 15,
   "metadata": {
    "id": "jQk2HUkk6VfY"
   },
   "outputs": [
    {
     "name": "stdout",
     "output_type": "stream",
     "text": [
      "1e-05\n",
      "1e-05\n",
      "4.4482216152605\n",
      "4.4482216152605\n",
      "9.80665\n",
      "9.80665\n"
     ]
    }
   ],
   "source": [
    "from scipy import constants\n",
    "\n",
    "print(constants.dyn)             #1e-05\n",
    "print(constants.dyne)            #1e-05\n",
    "print(constants.lbf)             #4.4482216152605\n",
    "print(constants.pound_force)     #4.4482216152605\n",
    "print(constants.kgf)             #9.80665\n",
    "print(constants.kilogram_force)  #9.80665"
   ]
  },
  {
   "cell_type": "markdown",
   "metadata": {
    "id": "3uq8zciU6f1e"
   },
   "source": [
    "## Metric (SI) Prefixes\n",
    "Return the specified unit in meter (e.g. centi returns 0.01)"
   ]
  },
  {
   "cell_type": "code",
   "execution_count": 16,
   "metadata": {
    "id": "mJejJyan6vL-"
   },
   "outputs": [
    {
     "name": "stdout",
     "output_type": "stream",
     "text": [
      "1e+24\n",
      "1e+21\n",
      "1e+18\n",
      "1000000000000000.0\n",
      "1000000000000.0\n",
      "1000000000.0\n",
      "1000000.0\n",
      "1000.0\n",
      "100.0\n",
      "10.0\n",
      "0.1\n",
      "0.01\n",
      "0.001\n",
      "1e-06\n",
      "1e-09\n",
      "1e-12\n",
      "1e-15\n",
      "1e-18\n",
      "1e-21\n"
     ]
    }
   ],
   "source": [
    "from scipy import constants\n",
    "\n",
    "print(constants.yotta)    #1e+24\n",
    "print(constants.zetta)    #1e+21\n",
    "print(constants.exa)      #1e+18\n",
    "print(constants.peta)     #1000000000000000.0\n",
    "print(constants.tera)     #1000000000000.0\n",
    "print(constants.giga)     #1000000000.0\n",
    "print(constants.mega)     #1000000.0\n",
    "print(constants.kilo)     #1000.0\n",
    "print(constants.hecto)    #100.0\n",
    "print(constants.deka)     #10.0\n",
    "print(constants.deci)     #0.1\n",
    "print(constants.centi)    #0.01\n",
    "print(constants.milli)    #0.001\n",
    "print(constants.micro)    #1e-06\n",
    "print(constants.nano)     #1e-09\n",
    "print(constants.pico)     #1e-12\n",
    "print(constants.femto)    #1e-15\n",
    "print(constants.atto)     #1e-18\n",
    "print(constants.zepto)    #1e-21"
   ]
  },
  {
   "cell_type": "markdown",
   "metadata": {
    "id": "maXUxekB6uRG"
   },
   "source": [
    "# Binary Prefixes\n",
    "Return the specified unit in bytes (e.g. kibi returns 1024)\n",
    "\n"
   ]
  },
  {
   "cell_type": "code",
   "execution_count": 17,
   "metadata": {
    "id": "s5xjhl3O656-"
   },
   "outputs": [
    {
     "name": "stdout",
     "output_type": "stream",
     "text": [
      "1024\n",
      "1048576\n",
      "1073741824\n",
      "1099511627776\n",
      "1125899906842624\n",
      "1152921504606846976\n",
      "1180591620717411303424\n",
      "1208925819614629174706176\n"
     ]
    }
   ],
   "source": [
    "from scipy import constants\n",
    "\n",
    "print(constants.kibi)    #1024\n",
    "print(constants.mebi)    #1048576\n",
    "print(constants.gibi)    #1073741824\n",
    "print(constants.tebi)    #1099511627776\n",
    "print(constants.pebi)    #1125899906842624\n",
    "print(constants.exbi)    #1152921504606846976\n",
    "print(constants.zebi)    #1180591620717411303424\n",
    "print(constants.yobi)    #1208925819614629174706176"
   ]
  }
 ],
 "metadata": {
  "colab": {
   "authorship_tag": "ABX9TyPEJnBPx87iWOaMG0+wxU+9",
   "provenance": []
  },
  "kernelspec": {
   "display_name": "Python 3 (ipykernel)",
   "language": "python",
   "name": "python3"
  },
  "language_info": {
   "codemirror_mode": {
    "name": "ipython",
    "version": 3
   },
   "file_extension": ".py",
   "mimetype": "text/x-python",
   "name": "python",
   "nbconvert_exporter": "python",
   "pygments_lexer": "ipython3",
   "version": "3.11.5"
  }
 },
 "nbformat": 4,
 "nbformat_minor": 1
}
