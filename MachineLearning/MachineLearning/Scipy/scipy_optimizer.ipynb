{
 "cells": [
  {
   "cell_type": "markdown",
   "metadata": {
    "id": "FvHMfmk7_k8Q"
   },
   "source": [
    "# Optimizers in SciPy\n",
    "* Optimizers are a set of procedures defined in SciPy that either find the minimum value of a function, or the root of an equation.\n",
    "* Essentially, all of the algorithms in Machine Learning are nothing more than a complex equation that needs to be minimized with the help of given data.\n",
    "* [For more](https://docs.scipy.org/doc/scipy/tutorial/optimize.html#)\n",
    "\n"
   ]
  },
  {
   "cell_type": "markdown",
   "metadata": {
    "id": "45CEOGKx_9dY"
   },
   "source": [
    "# Roots of an Equation\n",
    "\n",
    "Scipy is capable of finding roots for polynomials and linear equations\n",
    "```\n",
    "from scipy.optimize import root\n",
    "\n",
    "root(eqn, x0)\n",
    "```\n",
    "eqn - a function representing an equation.\n",
    "\n",
    "x0 - an initial guess for the root.\n"
   ]
  },
  {
   "cell_type": "code",
   "execution_count": 1,
   "metadata": {
    "id": "zHmZ3cam_RJq"
   },
   "outputs": [
    {
     "name": "stdout",
     "output_type": "stream",
     "text": [
      "[2.99999996]\n"
     ]
    }
   ],
   "source": [
    "from scipy.optimize import root\n",
    "# from math import cos\n",
    "\n",
    "def eqn(x):\n",
    "  return x**2 -6*x+9\n",
    "\n",
    "myroot = root(eqn, 0)\n",
    "\n",
    "print(myroot.x)"
   ]
  },
  {
   "cell_type": "code",
   "execution_count": 2,
   "metadata": {
    "id": "bTGTP6u5A5nK"
   },
   "outputs": [
    {
     "name": "stdout",
     "output_type": "stream",
     "text": [
      " message: The solution converged.\n",
      " success: True\n",
      "  status: 1\n",
      "     fun: [ 0.000e+00]\n",
      "       x: [-7.391e-01]\n",
      "    nfev: 9\n",
      "    fjac: [[-1.000e+00]]\n",
      "       r: [-1.674e+00]\n",
      "     qtf: [-2.668e-13]\n"
     ]
    }
   ],
   "source": [
    "from scipy.optimize import root\n",
    "from math import cos\n",
    "\n",
    "def eqn(x):\n",
    "  return x + cos(x)\n",
    "\n",
    "myroot = root(eqn, 0)\n",
    "\n",
    "print(myroot)"
   ]
  },
  {
   "cell_type": "markdown",
   "metadata": {
    "id": "8_K9AXzWBAmX"
   },
   "source": [
    "## Exercise"
   ]
  },
  {
   "cell_type": "code",
   "execution_count": null,
   "metadata": {
    "id": "XRXHgGaNArD9"
   },
   "outputs": [],
   "source": []
  },
  {
   "cell_type": "markdown",
   "metadata": {
    "id": "iGXA_z6vDhaz"
   },
   "source": [
    "# Least Squares\n",
    "Solve a nonlinear least-squares problem"
   ]
  },
  {
   "cell_type": "code",
   "execution_count": 3,
   "metadata": {
    "id": "jeMDNt77DtNM"
   },
   "outputs": [
    {
     "data": {
      "text/plain": [
       "     message: `gtol` termination condition is satisfied.\n",
       "     success: True\n",
       "      status: 1\n",
       "         fun: [ 4.441e-15  1.110e-16]\n",
       "           x: [ 1.000e+00  1.000e+00]\n",
       "        cost: 9.866924291084687e-30\n",
       "         jac: [[-2.000e+01  1.000e+01]\n",
       "               [-1.000e+00  0.000e+00]]\n",
       "        grad: [-8.893e-14  4.441e-14]\n",
       "  optimality: 8.892886493421953e-14\n",
       " active_mask: [ 0.000e+00  0.000e+00]\n",
       "        nfev: 3\n",
       "        njev: 3"
      ]
     },
     "execution_count": 3,
     "metadata": {},
     "output_type": "execute_result"
    }
   ],
   "source": [
    "import numpy as np\n",
    "from scipy.optimize import least_squares\n",
    "def fun_rosenbrock(x):\n",
    "   return np.array([10 * (x[1] - x[0]**2), (1 - x[0])])\n",
    "\n",
    "input = np.array([2, 2])\n",
    "res = least_squares(fun_rosenbrock, input)\n",
    "res"
   ]
  },
  {
   "cell_type": "markdown",
   "metadata": {
    "id": "y8B5cXmPBIQw"
   },
   "source": [
    "# Finding Minima\n",
    "For what value of x the function returns minimum value.\n",
    "```\n",
    "scipy.optimize.minimize(fun, x0, method)\n",
    "\n",
    "```\n",
    "fun - a function representing an equation.\n",
    "\n",
    "x0 - an initial guess for the root.\n",
    "\n",
    "method - name of the method to use. Legal values:\n",
    "\n",
    "    * 'CG'\n",
    "    * 'BFGS'\n",
    "    * 'Newton-CG'\n",
    "    * 'L-BFGS-B'\n",
    "    * 'TNC'\n",
    "    * 'COBYLA'\n",
    "    * 'SLSQP'"
   ]
  },
  {
   "cell_type": "code",
   "execution_count": 4,
   "metadata": {
    "id": "xmP-SXXYBKAV"
   },
   "outputs": [
    {
     "name": "stdout",
     "output_type": "stream",
     "text": [
      "  message: Optimization terminated successfully.\n",
      "  success: True\n",
      "   status: 0\n",
      "      fun: 1.75\n",
      "        x: [-5.000e-01]\n",
      "      nit: 2\n",
      "      jac: [ 0.000e+00]\n",
      " hess_inv: [[ 5.000e-01]]\n",
      "     nfev: 8\n",
      "     njev: 4\n"
     ]
    }
   ],
   "source": [
    "from scipy.optimize import minimize\n",
    "\n",
    "def eqn(x):\n",
    "  return x**2 + x + 2\n",
    "\n",
    "mymin = minimize(eqn, 0, method='BFGS')\n",
    "\n",
    "print(mymin)"
   ]
  }
 ],
 "metadata": {
  "colab": {
   "authorship_tag": "ABX9TyP1da77WEE72FK/XmGvAU6r",
   "provenance": []
  },
  "kernelspec": {
   "display_name": "Python 3 (ipykernel)",
   "language": "python",
   "name": "python3"
  },
  "language_info": {
   "codemirror_mode": {
    "name": "ipython",
    "version": 3
   },
   "file_extension": ".py",
   "mimetype": "text/x-python",
   "name": "python",
   "nbconvert_exporter": "python",
   "pygments_lexer": "ipython3",
   "version": "3.11.5"
  }
 },
 "nbformat": 4,
 "nbformat_minor": 1
}
