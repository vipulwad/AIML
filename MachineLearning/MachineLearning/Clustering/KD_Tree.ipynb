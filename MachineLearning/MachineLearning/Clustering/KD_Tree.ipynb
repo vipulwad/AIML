{
 "cells": [
  {
   "cell_type": "markdown",
   "metadata": {
    "id": "mPGOnUI1Isy8"
   },
   "source": [
    "# KDTree\n",
    "A KD-tree (K-dimensional tree) is a data structure used for organizing multidimensional points in a way that facilitates efficient spatial searching, nearest neighbor queries, and range queries. Here are the basic steps to construct and use a KD-tree:\n",
    "\n",
    "1. **Choose the dimension**: Decide on the dimension (K) of the KD-tree. This is the number of attributes or features in each data point.\n",
    "\n",
    "2. **Build the KD-tree**:\n",
    "   - **Select a split axis**: Choose one of the dimensions as the current splitting axis. Typically, you alternate dimensions at each level of the tree, cycling through dimensions 0 to (K-1).\n",
    "   - **Select a pivot**: Choose a pivot point for the current node. The choice of pivot can significantly impact the tree's performance. Common pivot selection methods include median-of-median or median-of-means.\n",
    "   - **Partition the data**: Split the data into two subsets based on the pivot and the current split axis. Points that have values less than the pivot on the current axis go to the left subtree, and those with values greater than or equal to the pivot go to the right subtree.\n",
    "   - **Recursively build subtrees**: Recursively build KD-trees for the left and right subsets of data, using the next dimension as the splitting axis.\n",
    "\n",
    "3. **Searching in a KD-tree**:\n",
    "\n",
    "   - **Nearest Neighbor Search**:\n",
    "     - Start at the root node.\n",
    "     - Traverse the tree, moving left or right at each level based on the current splitting axis, until you reach a leaf node.\n",
    "     - At each node you visit, check the distance between the query point and the current node's point.\n",
    "     - Keep track of the closest point found so far.\n",
    "     - After reaching a leaf node, backtrack up the tree, checking other subtrees if there could be points closer than the current closest point.\n",
    "     - Continue the search until you've checked all relevant subtrees.\n",
    "\n",
    "   - **Range Query**:\n",
    "     - Start at the root node.\n",
    "     - Traverse the tree, moving left or right at each level based on the current splitting axis, until you reach a leaf node.\n",
    "     - At each node, check if the range (e.g., a hyperrectangle) defined by the query intersects with the partition created by the current node. If it does, recursively search the subtrees of that node.\n",
    "     - Continue this process, visiting all relevant subtrees.\n",
    "\n",
    "4. **Balancing and Optimization**:\n",
    "   - To ensure the KD-tree remains balanced, you can use techniques like rebalancing or choosing good pivot selection strategies.\n",
    "   - There are variations and optimizations of KD-trees, such as KD-BTrees, that aim to improve performance for specific scenarios.\n",
    "\n",
    "Remember that constructing and using KD-trees efficiently can require careful consideration of the data, the pivot selection method, and the balancing strategy. While KD-trees are effective for certain types of spatial searching and nearest neighbor queries, they may not always be the best choice, and other data structures like Ball Trees or R-Trees might be more suitable depending on your specific application and data characteristics."
   ]
  },
  {
   "cell_type": "code",
   "execution_count": 1,
   "metadata": {
    "id": "3h-inBah6xg6"
   },
   "outputs": [],
   "source": [
    "from sklearn.neighbors import KDTree\n",
    "from sklearn.datasets import fetch_openml\n",
    "import numpy as np\n",
    "import matplotlib.pyplot as plt"
   ]
  },
  {
   "cell_type": "code",
   "execution_count": 2,
   "metadata": {
    "colab": {
     "base_uri": "https://localhost:8080/"
    },
    "id": "5xBjTI256xeB",
    "outputId": "35de18dd-011f-414a-bcf6-a09e4eb9db68"
   },
   "outputs": [
    {
     "name": "stderr",
     "output_type": "stream",
     "text": [
      "C:\\Users\\vwadhawan\\AppData\\Local\\anaconda3\\Lib\\site-packages\\sklearn\\datasets\\_openml.py:1002: FutureWarning: The default value of `parser` will change from `'liac-arff'` to `'auto'` in 1.4. You can set `parser='auto'` to silence this warning. Therefore, an `ImportError` will be raised from 1.4 if the dataset is dense and pandas is not installed. Note that the pandas parser may return different data types. See the Notes Section in fetch_openml's API doc for details.\n",
      "  warn(\n"
     ]
    }
   ],
   "source": [
    "# Load MNIST dataset\n",
    "mnist = fetch_openml(\"mnist_784\")\n",
    "X = mnist.data.astype(\"float32\")\n",
    "y = mnist.target.astype(\"int\")"
   ]
  },
  {
   "cell_type": "code",
   "execution_count": 3,
   "metadata": {
    "id": "umS_1tmc61Pm"
   },
   "outputs": [],
   "source": [
    "\n",
    "# Split data into training and test sets\n",
    "X_train, X_test = X[:60000], X[60000:]\n",
    "y_train, y_test = y[:60000], y[60000:]"
   ]
  },
  {
   "cell_type": "code",
   "execution_count": 4,
   "metadata": {
    "colab": {
     "base_uri": "https://localhost:8080/",
     "height": 447
    },
    "id": "CP30_iHU7aYy",
    "outputId": "0284d80c-1ad9-49e5-8632-fa020bb6b0c9"
   },
   "outputs": [
    {
     "data": {
      "text/plain": [
       "<matplotlib.image.AxesImage at 0x1ee5a964810>"
      ]
     },
     "execution_count": 4,
     "metadata": {},
     "output_type": "execute_result"
    },
    {
     "data": {
      "image/png": "[encoded data removed]",
      "text/plain": [
       "<Figure size 640x480 with 1 Axes>"
      ]
     },
     "metadata": {},
     "output_type": "display_data"
    }
   ],
   "source": [
    "x=X_train.iloc[0, :].to_numpy()\n",
    "plt.imshow(x.reshape(28,28))"
   ]
  },
  {
   "cell_type": "code",
   "execution_count": 5,
   "metadata": {
    "colab": {
     "base_uri": "https://localhost:8080/",
     "height": 471
    },
    "id": "wSFpD4uR62lm",
    "outputId": "4afc77b5-ec0b-4487-f1ed-91705ed312c2"
   },
   "outputs": [
    {
     "data": {
      "image/png": "[encoded data removed]",
      "text/plain": [
       "<Figure size 1200x600 with 10 Axes>"
      ]
     },
     "metadata": {},
     "output_type": "display_data"
    }
   ],
   "source": [
    "# Show 10 samples\n",
    "plt.figure(figsize=(12, 6))\n",
    "for i in range(10):\n",
    "    plt.subplot(2, 5, i + 1)\n",
    "    x=X_train.iloc[i, :].to_numpy()\n",
    "    plt.imshow(x.reshape(28,28), cmap=\"gray\")\n",
    "    # plt.imshow(X_train[i])\n",
    "    plt.title(f\"Label: {y_train[i]}\")\n",
    "    plt.axis('off')\n",
    "\n",
    "plt.show()"
   ]
  },
  {
   "cell_type": "code",
   "execution_count": 6,
   "metadata": {
    "id": "4KQgwSMNSdyf"
   },
   "outputs": [],
   "source": [
    "import time\n",
    "# Build the KD-Tree\n",
    "kdtree = KDTree(X_train)\n",
    "\n"
   ]
  },
  {
   "cell_type": "code",
   "execution_count": 7,
   "metadata": {
    "colab": {
     "base_uri": "https://localhost:8080/",
     "height": 213
    },
    "id": "_Qc175q182oy",
    "outputId": "c1b3e017-c4c9-4afa-cc3b-6cb2cf28995a"
   },
   "outputs": [
    {
     "data": {
      "image/png": "[encoded data removed]",
      "text/plain": [
       "<Figure size 200x200 with 1 Axes>"
      ]
     },
     "metadata": {},
     "output_type": "display_data"
    }
   ],
   "source": [
    "# Choose a query image (you can change the index)\n",
    "query_image = X_test.iloc[0,:].to_numpy()\n",
    "# Display the query image\n",
    "plt.figure(figsize=(2, 2))\n",
    "plt.imshow(query_image.reshape(28, 28), cmap=\"gray\")\n",
    "plt.title(\"Query Image\")\n",
    "plt.axis(\"off\")\n",
    "plt.show()"
   ]
  },
  {
   "cell_type": "code",
   "execution_count": 8,
   "metadata": {
    "colab": {
     "base_uri": "https://localhost:8080/",
     "height": 560
    },
    "id": "ECm3c4wD8ulm",
    "outputId": "2cab3b8e-df2d-4ae6-9622-adb05d096345"
   },
   "outputs": [
    {
     "data": {
      "image/png": "[encoded data removed]",
      "text/plain": [
       "<Figure size 1200x600 with 10 Axes>"
      ]
     },
     "metadata": {},
     "output_type": "display_data"
    }
   ],
   "source": [
    "k_neighbors = 10  # Number of similar images to retrieve\n",
    "\n",
    "# Perform K-nearest neighbors search for the query image\n",
    "distances, indices = kdtree.query([query_image], k=k_neighbors)\n",
    "\n",
    "# Get the indices of the K-nearest neighbors\n",
    "neighbor_indices = indices[0]\n",
    "\n",
    "\n",
    "\n",
    "# Display the top 10 similar images\n",
    "plt.figure(figsize=(12, 6))\n",
    "for i, neighbor_idx in enumerate(neighbor_indices):\n",
    "    plt.subplot(2, 5, i + 1)\n",
    "    x=X_train.iloc[neighbor_idx, :].to_numpy()\n",
    "    plt.imshow(x.reshape(28, 28), cmap=\"gray\")\n",
    "    plt.title(f\"Similar Image {i + 1} -- Label: {y_train[neighbor_idx]}\")\n",
    "    plt.axis(\"off\")\n",
    "\n",
    "plt.tight_layout()\n",
    "plt.show()"
   ]
  },
  {
   "cell_type": "markdown",
   "metadata": {
    "id": "Ul9hWY5i_1Q9"
   },
   "source": [
    "## Performance Evaluation"
   ]
  },
  {
   "cell_type": "code",
   "execution_count": 9,
   "metadata": {
    "colab": {
     "base_uri": "https://localhost:8080/",
     "height": 331
    },
    "id": "KzWV164Z-qF_",
    "outputId": "5f5d06ea-17dc-4fb5-a7ed-39c64f5c181f"
   },
   "outputs": [
    {
     "ename": "NameError",
     "evalue": "name 'search_and_calculate_precision' is not defined",
     "output_type": "error",
     "traceback": [
      "\u001b[1;31m---------------------------------------------------------------------------\u001b[0m",
      "\u001b[1;31mNameError\u001b[0m                                 Traceback (most recent call last)",
      "Cell \u001b[1;32mIn[9], line 1\u001b[0m\n\u001b[1;32m----> 1\u001b[0m precision \u001b[38;5;241m=\u001b[39m search_and_calculate_precision(X_test\u001b[38;5;241m.\u001b[39mto_numpy(), y_test,y_train, k\u001b[38;5;241m=\u001b[39m\u001b[38;5;241m10\u001b[39m)\n",
      "\u001b[1;31mNameError\u001b[0m: name 'search_and_calculate_precision' is not defined"
     ]
    }
   ],
   "source": [
    "precision = search_and_calculate_precision(X_test.to_numpy(), y_test,y_train, k=10)"
   ]
  },
  {
   "cell_type": "code",
   "execution_count": null,
   "metadata": {
    "id": "xnGPY1Rc-qBs"
   },
   "outputs": [],
   "source": []
  },
  {
   "cell_type": "code",
   "execution_count": null,
   "metadata": {
    "id": "LQOWioZh-p9H"
   },
   "outputs": [],
   "source": []
  },
  {
   "cell_type": "markdown",
   "metadata": {
    "id": "_zJSkfo4AfHu"
   },
   "source": [
    "## PCA & K-D Tree"
   ]
  },
  {
   "cell_type": "code",
   "execution_count": null,
   "metadata": {
    "id": "WdD4doANAxIn"
   },
   "outputs": [],
   "source": [
    "from sklearn.neighbors import KDTree\n",
    "from sklearn.datasets import fetch_openml\n",
    "from sklearn.decomposition import PCA\n",
    "from sklearn.preprocessing import StandardScaler\n",
    "import numpy as np\n",
    "import matplotlib.pyplot as plt"
   ]
  },
  {
   "cell_type": "code",
   "execution_count": null,
   "metadata": {
    "colab": {
     "base_uri": "https://localhost:8080/"
    },
    "id": "iF7S6tiEAxGT",
    "outputId": "b0ed227d-e494-40e3-8b7c-f1408aa3095d"
   },
   "outputs": [],
   "source": [
    "# Load MNIST dataset\n",
    "mnist = fetch_openml(\"mnist_784\")\n",
    "X = mnist.data.astype(\"float32\")\n",
    "y = mnist.target.astype(\"int\")"
   ]
  },
  {
   "cell_type": "code",
   "execution_count": null,
   "metadata": {
    "id": "qON18VNnAxDW"
   },
   "outputs": [],
   "source": [
    "# Split data into training and test sets\n",
    "X_train, X_test = X[:60000], X[60000:]\n",
    "y_train, y_test = y[:60000], y[60000:]"
   ]
  },
  {
   "cell_type": "markdown",
   "metadata": {
    "id": "3rxRs7cKBaBx"
   },
   "source": [
    "### StandardScaler\n",
    "StandardScaler in sklearn is a class that is used to standardize features by removing the mean and scaling to unit variance. StandardScaler works by first calculating the mean and standard deviation of each feature in the training set. These values are then stored and used to transform the test set. The transformation process simply subtracts the mean from each feature and then divides it by the standard deviation. This results in a new set of features that have a mean of zero and a standard deviation of one."
   ]
  },
  {
   "cell_type": "code",
   "execution_count": null,
   "metadata": {
    "id": "_KHhHDGoAxAW"
   },
   "outputs": [],
   "source": [
    "# Standardize the data\n",
    "scaler = StandardScaler()\n",
    "X_train_scaled = scaler.fit_transform(X_train)\n",
    "X_test_scaled = scaler.transform(X_test)"
   ]
  },
  {
   "cell_type": "code",
   "execution_count": null,
   "metadata": {
    "id": "2-YQGe_8BC1v"
   },
   "outputs": [],
   "source": [
    "# Apply PCA for dimensionality reduction\n",
    "n_components = 50  # Adjust the number of components as needed 784 to 50\n",
    "pca = PCA(n_components=n_components)\n",
    "X_train_pca = pca.fit_transform(X_train_scaled)\n",
    "X_test_pca = pca.transform(X_test_scaled)"
   ]
  },
  {
   "cell_type": "code",
   "execution_count": null,
   "metadata": {
    "id": "cSeQd6SbCGe8"
   },
   "outputs": [],
   "source": [
    "# Build the KD-Tree with reduced-dimensional data\n",
    "kdtree = KDTree(X_train_pca)"
   ]
  },
  {
   "cell_type": "code",
   "execution_count": null,
   "metadata": {
    "colab": {
     "base_uri": "https://localhost:8080/",
     "height": 213
    },
    "id": "NkPGmGGjC61B",
    "outputId": "e923e61c-42b5-48dc-c46a-70f7ca7e00ce"
   },
   "outputs": [],
   "source": [
    "# Choose a query image (you can change the index)\n",
    "query_image = X_test_pca[0]\n",
    "test_image=X_test.iloc[0,:].to_numpy()\n",
    "k_neighbors = 10  # Number of similar images to retrieve\n",
    "\n",
    "plt.figure(figsize=(2, 2))\n",
    "plt.imshow(test_image.reshape(28, 28), cmap=\"gray\")\n",
    "plt.title(\"Query Image\")\n",
    "plt.axis(\"off\")\n",
    "plt.show()"
   ]
  },
  {
   "cell_type": "code",
   "execution_count": null,
   "metadata": {
    "colab": {
     "base_uri": "https://localhost:8080/",
     "height": 560
    },
    "id": "dW0a0WvpsjRm",
    "outputId": "19bf6a21-f99f-4b5c-9bea-86e9758b6abe"
   },
   "outputs": [],
   "source": [
    "# Perform K-nearest neighbors search for the query image\n",
    "distances, indices = kdtree.query([query_image], k=k_neighbors)\n",
    "\n",
    "# Map indices back to the original high-dimensional space\n",
    "neighbor_indices = indices[0]\n",
    "\n",
    "# Display the query image\n",
    "# plt.figure(figsize=(2, 2))\n",
    "# plt.imshow(query_image, cmap=\"gray\")\n",
    "# plt.title(\"Query Image (PCA)\")\n",
    "# plt.axis(\"off\")\n",
    "# plt.show()\n",
    "\n",
    "# Display the top 10 similar images\n",
    "plt.figure(figsize=(12, 6))\n",
    "for i, neighbor_idx in enumerate(neighbor_indices):\n",
    "    plt.subplot(2, 5, i + 1)\n",
    "    x=X_train.iloc[neighbor_idx, :].to_numpy()\n",
    "    plt.imshow(x.reshape(28, 28), cmap=\"gray\")\n",
    "    plt.title(f\"Similar Image {i + 1} -- Label: {y_train[neighbor_idx]}\")\n",
    "    plt.axis(\"off\")\n",
    "\n",
    "plt.tight_layout()\n",
    "plt.show()\n"
   ]
  },
  {
   "cell_type": "code",
   "execution_count": null,
   "metadata": {
    "id": "wtxw5ZIKI0A5"
   },
   "outputs": [],
   "source": [
    "from sklearn.metrics import precision_score\n",
    "# Define a function to perform a KD-tree image search and calculate precision\n",
    "def search_and_calculate_precision(query_images, query_labels,y_train, k=10):\n",
    "    predicted_labels = []\n",
    "    true_labels = []\n",
    "    query_labels=query_labels.to_list()\n",
    "    for i, query_image in enumerate(query_images):\n",
    "        # Perform a KD-tree query to find the k-nearest neighbors\n",
    "        distances, indices = kdtree.query([query_image], k=k)\n",
    "\n",
    "        # Get the labels of the k-nearest neighbors\n",
    "        neighbor_labels = [y_train[idx] for idx in indices[0]]\n",
    "\n",
    "        # Predict the label based on the majority class among neighbors\n",
    "        predicted_label = np.argmax(np.bincount(neighbor_labels))\n",
    "\n",
    "        predicted_labels.append(predicted_label)\n",
    "        true_labels.append(query_labels[i])\n",
    "\n",
    "    # Calculate precision\n",
    "    precision = precision_score(true_labels, predicted_labels, average='micro')\n",
    "\n",
    "    return precision"
   ]
  },
  {
   "cell_type": "code",
   "execution_count": null,
   "metadata": {
    "colab": {
     "base_uri": "https://localhost:8080/"
    },
    "id": "K9Q4dM4tJVoQ",
    "outputId": "e54eccc9-b69d-49cd-d79e-e015a0d9b1b1"
   },
   "outputs": [],
   "source": [
    "X_test_pca.shape, y_test.shape"
   ]
  },
  {
   "cell_type": "code",
   "execution_count": null,
   "metadata": {
    "id": "SXn_-CooI18n"
   },
   "outputs": [],
   "source": [
    "precision = search_and_calculate_precision(X_test_pca, y_test,y_train, k=10)"
   ]
  },
  {
   "cell_type": "code",
   "execution_count": null,
   "metadata": {
    "colab": {
     "base_uri": "https://localhost:8080/"
    },
    "id": "NgU8gwgvKpi3",
    "outputId": "23455b16-e449-4cf1-eb5e-b799d01f4f6a"
   },
   "outputs": [],
   "source": [
    "precision"
   ]
  },
  {
   "cell_type": "markdown",
   "metadata": {
    "id": "dHskyiakEb1G"
   },
   "source": [
    "## KDTree With different disnce meansures"
   ]
  },
  {
   "cell_type": "code",
   "execution_count": null,
   "metadata": {
    "id": "Mn9mFIyuEZcQ"
   },
   "outputs": [],
   "source": [
    "import numpy as np\n",
    "\n",
    "# def custom_distance(x, y):\n",
    "#     # Define your custom distance calculation here\n",
    "#     return np.sum(np.abs(x - y))  # Manhattan distance as an example\n",
    "# # Create a wrapper function that conforms to the expected signature\n",
    "# def custom_distance_wrapper(x, y):\n",
    "#     return custom_distance(x, y)\n",
    "\n",
    "# Using a built-in distance metric (e.g., Euclidean)\n",
    "kdtree_euclidean = KDTree(X_train_pca, metric='euclidean')\n",
    "\n",
    "# Using a different built-in distance metric (e.g., Manhattan)\n",
    "kdtree_manhattan = KDTree(X_train_pca, metric='manhattan')\n",
    "\n",
    "# Using a custom distance metric\n",
    "# kdtree_custom = KDTree(X_train_pca, metric=custom_distance)\n",
    "distances, indices = kdtree_euclidean.query([query_image], k=k_neighbors)\n",
    "\n",
    "distances, indices = kdtree_manhattan.query([query_image], k=k_neighbors)"
   ]
  },
  {
   "cell_type": "code",
   "execution_count": null,
   "metadata": {
    "id": "woAciFQ8EZZl"
   },
   "outputs": [],
   "source": []
  },
  {
   "cell_type": "code",
   "execution_count": null,
   "metadata": {
    "colab": {
     "base_uri": "https://localhost:8080/",
     "height": 331
    },
    "id": "T8CBqVtKEZXG",
    "outputId": "0e241a52-7cb3-4fd2-c05e-d91d0bf383cd"
   },
   "outputs": [],
   "source": []
  },
  {
   "cell_type": "code",
   "execution_count": null,
   "metadata": {
    "id": "yITSQcW8EZTp"
   },
   "outputs": [],
   "source": []
  },
  {
   "cell_type": "code",
   "execution_count": null,
   "metadata": {
    "id": "KL979ssPEZQb"
   },
   "outputs": [],
   "source": []
  },
  {
   "cell_type": "code",
   "execution_count": null,
   "metadata": {
    "id": "uBX_AQ42EZNg"
   },
   "outputs": [],
   "source": []
  },
  {
   "cell_type": "code",
   "execution_count": null,
   "metadata": {
    "id": "DeQZ_ofXs9YC"
   },
   "outputs": [],
   "source": []
  },
  {
   "cell_type": "code",
   "execution_count": null,
   "metadata": {
    "colab": {
     "base_uri": "https://localhost:8080/"
    },
    "id": "zGMFqqa5Salf",
    "outputId": "72d2253f-e65c-42a6-a090-d064563c8055"
   },
   "outputs": [],
   "source": [
    "import random\n",
    "\n",
    "class Node:\n",
    "    def __init__(self, point, left=None, right=None):\n",
    "        self.point = point\n",
    "        self.left = left\n",
    "        self.right = right\n",
    "\n",
    "def build_kdtree(points, depth=0):\n",
    "    if not points:\n",
    "        return None\n",
    "\n",
    "    k = len(points[0])  # Number of dimensions\n",
    "    axis = depth % k\n",
    "\n",
    "    points.sort(key=lambda point: point[axis])\n",
    "    median_idx = len(points) // 2\n",
    "    median = points[median_idx]\n",
    "\n",
    "    left_subtree = build_kdtree(points[:median_idx], depth + 1)\n",
    "    right_subtree = build_kdtree(points[median_idx + 1:], depth + 1)\n",
    "\n",
    "    return Node(median, left_subtree, right_subtree)\n",
    "\n",
    "def print_kdtree(node, level=0):\n",
    "    if node is not None:\n",
    "        print(\"  \" * level + str(node.point))\n",
    "        print_kdtree(node.left, level + 1)\n",
    "        print_kdtree(node.right, level + 1)\n",
    "\n",
    "# Generate random 2D points\n",
    "random.seed(42)\n",
    "points = [(random.randint(0, 20), random.randint(0, 20)) for _ in range(10)]\n",
    "\n",
    "# Build and print the k-d tree\n",
    "kdtree = build_kdtree(points)\n",
    "print_kdtree(kdtree)\n"
   ]
  },
  {
   "cell_type": "code",
   "execution_count": null,
   "metadata": {
    "id": "B7WO8Mry5BlC"
   },
   "outputs": [],
   "source": []
  },
  {
   "cell_type": "code",
   "execution_count": null,
   "metadata": {
    "id": "9y3DGD5W5Bhr"
   },
   "outputs": [],
   "source": []
  },
  {
   "cell_type": "markdown",
   "metadata": {
    "id": "tVQqh-r7Issv"
   },
   "source": []
  }
 ],
 "metadata": {
  "colab": {
   "provenance": []
  },
  "kernelspec": {
   "display_name": "Python 3 (ipykernel)",
   "language": "python",
   "name": "python3"
  },
  "language_info": {
   "codemirror_mode": {
    "name": "ipython",
    "version": 3
   },
   "file_extension": ".py",
   "mimetype": "text/x-python",
   "name": "python",
   "nbconvert_exporter": "python",
   "pygments_lexer": "ipython3",
   "version": "3.11.5"
  }
 },
 "nbformat": 4,
 "nbformat_minor": 1
}
