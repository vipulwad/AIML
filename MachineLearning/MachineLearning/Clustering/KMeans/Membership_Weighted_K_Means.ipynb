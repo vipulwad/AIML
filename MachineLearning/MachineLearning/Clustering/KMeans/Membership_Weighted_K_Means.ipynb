{
 "cells": [
  {
   "cell_type": "markdown",
   "metadata": {
    "id": "IKYtH1wfW-z5"
   },
   "source": [
    "Membership Weighted K-Means is a clustering algorithm that combines the concepts of membership degrees from fuzzy clustering and weighted k-means. In this approach, each data point is assigned membership degrees (probabilities) for belonging to each cluster, and weights can be applied to the data points to indicate their importance in the clustering process. This allows for both soft clustering and consideration of data point weights."
   ]
  },
  {
   "cell_type": "markdown",
   "metadata": {
    "id": "nNnfuI1RX5T7"
   },
   "source": [
    "## Kmeans vs Membership Weighted K-Means\n",
    "\n",
    "Membership Weighted K-Means and traditional K-Means are two different clustering algorithms with distinct characteristics and use cases.\n",
    "1. **Clustering Approach**:\n",
    "   - **Traditional K-Means**: Traditional K-Means is a hard clustering algorithm, which means that each data point is assigned to one and only one cluster. It seeks to find the cluster center (centroid) that minimizes the sum of squared distances between data points and their assigned cluster centers.\n",
    "   - **Membership Weighted K-Means**: Membership Weighted K-Means is a soft clustering algorithm, incorporating fuzzy clustering concepts. It assigns membership degrees (probabilities) to data points, indicating the likelihood of each point belonging to each cluster. This allows data points to belong partially to multiple clusters simultaneously.\n",
    "\n",
    "2. **Cluster Assignments**:\n",
    "   - **Traditional K-Means**: In traditional K-Means, each data point is assigned a single, hard cluster label, making it exclusive to one cluster.\n",
    "   - **Membership Weighted K-Means**: In Membership Weighted K-Means, each data point is assigned membership degrees for each cluster, indicating the degree of belongingness to each cluster.\n",
    "\n",
    "3. **Output**:\n",
    "   - **Traditional K-Means**: The output consists of cluster assignments for each data point, i.e., each data point belongs to one cluster.\n",
    "   - **Membership Weighted K-Means**: The output includes membership degrees (probabilities) for each data point across all clusters, allowing for a more nuanced understanding of cluster association.\n",
    "\n",
    "4. **Use Cases**:\n",
    "   - **Traditional K-Means**: Traditional K-Means is suitable when you want to partition data points into mutually exclusive clusters. It is widely used in various applications like customer segmentation, image compression, and document categorization.\n",
    "   - **Membership Weighted K-Means**: Membership Weighted K-Means is appropriate when you want to capture the uncertainty or partial membership of data points in multiple clusters. It is used in cases where data points may belong to more than one category simultaneously, such as soft image segmentation, fuzzy document clustering, or cases where data point importance varies.\n",
    "\n",
    "5. **Complexity**:\n",
    "   - **Traditional K-Means**: Traditional K-Means is computationally less complex compared to Membership Weighted K-Means since it involves straightforward centroid updates based on hard cluster assignments.\n",
    "   - **Membership Weighted K-Means**: Membership Weighted K-Means is computationally more complex due to the calculation of membership degrees for each data point and the consideration of weighted data points.\n",
    "\n",
    "6. **Implementation**:\n",
    "   - **Traditional K-Means**: Implementation is relatively straightforward and available in many machine learning libraries such as scikit-learn.\n",
    "   - **Membership Weighted K-Means**: Implementation may require custom code or the use of specialized libraries that support fuzzy clustering with weighted data.\n",
    "\n",
    "NOTE:\n",
    "Traditional K-Means is suitable for hard clustering problems where data points belong exclusively to one cluster. Membership Weighted K-Means is useful when you need to account for the partial membership of data points in multiple clusters and consider data point importance through weights."
   ]
  },
  {
   "cell_type": "markdown",
   "metadata": {
    "id": "g72_lnVzblpm"
   },
   "source": [
    "Here are some common use cases for Membership Weighted K-Means:\n",
    "\n",
    "1. **Outlier Handling**: Membership weights can be used to downweight outliers, reducing their influence on cluster centroids. This makes the clustering algorithm more robust to noisy data.\n",
    "\n",
    "2. **Imbalanced Data**: When dealing with imbalanced datasets, where some clusters are much smaller than others, assigning higher weights to the minority class can help in obtaining better cluster centroids and improving the separation of smaller clusters.\n",
    "\n",
    "3. **Anomaly Detection**: In anomaly detection, you often want to identify data points that deviate significantly from the norm. By assigning low weights to normal data points and high weights to potential anomalies, Membership Weighted K-Means can help in detecting anomalies effectively.\n",
    "\n",
    "4. **Personalization**: When clustering user preferences or behavior for personalization in recommendation systems, you might want to assign different weights to user interactions based on their recency or importance. This allows you to prioritize recent interactions or important actions when forming user segments.\n",
    "\n",
    "5. **Customer Segmentation**: In customer segmentation, not all customers are equally valuable. Membership weights can reflect the value or profitability of a customer, helping businesses focus on their most valuable segments.\n",
    "\n",
    "6. **Time-Series Data**: For time-series data, assigning weights based on time stamps can give more importance to recent data points, making the clustering algorithm adapt to changes over time.\n",
    "\n",
    "7. **Feature Importance**: In feature selection or feature engineering, you can use Membership Weighted K-Means to emphasize the most informative features while clustering. This can help in finding clusters that are more relevant for predictive modeling.\n",
    "\n",
    "8. **Anchored Clustering**: Sometimes, you may have predefined anchor points or centroids. Membership weights can be used to adjust the influence of these anchors on the clustering process.\n",
    "\n",
    "9. **Cost-Sensitive Clustering**: In certain applications, the cost of misclassifying a data point into the wrong cluster can vary. Membership weights can be used to reflect the cost sensitivity of different data points.\n",
    "\n",
    "10. **Hybrid Clustering**: Membership Weighted K-Means can be integrated with other clustering techniques to create hybrid clustering algorithms that take both distance-based and membership-based information into account.\n",
    "\n",
    "When using Membership Weighted K-Means, it's essential to carefully choose or compute the membership weights based on the specific problem you are solving. The appropriate weighting strategy will depend on the characteristics of your data and the goals of your clustering task."
   ]
  },
  {
   "cell_type": "code",
   "execution_count": 1,
   "metadata": {
    "id": "nzO0OBvKSjW5"
   },
   "outputs": [],
   "source": [
    "import numpy as np\n",
    "from sklearn.cluster import KMeans"
   ]
  },
  {
   "cell_type": "code",
   "execution_count": 2,
   "metadata": {
    "id": "hbgpv8U2Sl4W"
   },
   "outputs": [
    {
     "data": {
      "text/plain": [
       "(300, 2)"
      ]
     },
     "execution_count": 2,
     "metadata": {},
     "output_type": "execute_result"
    }
   ],
   "source": [
    "\n",
    "# Generate or load your dataset (replace this with your actual data)\n",
    "# For demonstration purposes, we'll generate a random dataset.\n",
    "np.random.seed(0)\n",
    "n_samples = 300\n",
    "n_features = 2\n",
    "data = np.random.randn(n_samples, n_features)\n",
    "data.shape"
   ]
  },
  {
   "cell_type": "code",
   "execution_count": 3,
   "metadata": {
    "id": "MITwdrh8Sw-0"
   },
   "outputs": [
    {
     "name": "stdout",
     "output_type": "stream",
     "text": [
      "[[5.68217594e-01 2.46556940e-01 5.96433065e-01]\n",
      " [1.17525643e-01 9.75883868e-01 9.32561204e-01]\n",
      " [3.91796939e-01 2.42178594e-01 2.50398213e-01]\n",
      " [4.83393535e-01 3.99928019e-02 6.39705106e-01]\n",
      " [4.08302908e-01 3.77406573e-01 8.09364971e-01]\n",
      " [7.09035460e-01 9.54333815e-01 3.51936240e-01]\n",
      " [8.97542765e-01 7.69967186e-01 3.57424652e-01]\n",
      " [6.21665436e-01 2.88569958e-01 8.74399917e-01]\n",
      " [1.12427317e-01 2.12434361e-01 1.83033292e-01]\n",
      " [4.03026002e-01 7.45232960e-01 5.26907449e-01]\n",
      " [4.87676324e-01 5.45964897e-04 4.25401725e-01]\n",
      " [6.35537748e-02 2.08253252e-01 9.32393939e-01]\n",
      " [2.15398204e-01 8.58337639e-01 8.02893372e-01]\n",
      " [1.59146237e-01 6.05711957e-01 1.15661872e-01]\n",
      " [7.27888158e-01 6.37462277e-01 8.11938562e-01]\n",
      " [4.79384549e-01 9.14863088e-01 4.93489468e-02]\n",
      " [2.92888565e-01 7.15052597e-01 4.18109212e-01]\n",
      " [1.72951354e-01 1.07210745e-01 8.17339111e-01]\n",
      " [4.73142978e-01 8.82283672e-01 7.33289134e-01]\n",
      " [4.09726206e-01 3.73511014e-01 5.15638347e-01]\n",
      " [8.89059953e-01 7.37278580e-01 5.15296427e-03]\n",
      " [6.94157851e-01 9.19507407e-01 7.10455760e-01]\n",
      " [1.77005782e-01 4.83518127e-01 1.40316018e-01]\n",
      " [3.58995278e-01 9.37117042e-01 9.23305308e-01]\n",
      " [2.82836852e-01 3.39631044e-01 6.00212868e-01]\n",
      " [9.63197295e-01 1.47801334e-01 2.56916644e-01]\n",
      " [8.73556827e-01 4.91892232e-01 8.98961092e-01]\n",
      " [1.85517898e-01 5.32668587e-01 3.26269633e-01]\n",
      " [3.16542560e-01 4.46876964e-01 4.33077449e-01]\n",
      " [3.57346880e-01 9.14970770e-01 7.31744185e-01]\n",
      " [7.27546991e-01 2.89913450e-01 5.77709424e-01]\n",
      " [7.79179433e-01 7.95590369e-01 3.44530461e-01]\n",
      " [7.70872757e-01 7.35893897e-01 1.41506486e-01]\n",
      " [8.65945469e-01 4.41321470e-01 4.86410449e-01]\n",
      " [4.48369179e-01 5.67846001e-01 6.21169247e-01]\n",
      " [4.98179566e-01 8.66788543e-01 6.27734756e-01]\n",
      " [4.01427949e-01 4.16691757e-01 8.10838615e-01]\n",
      " [3.48191943e-01 2.11454796e-01 5.93831880e-02]\n",
      " [8.76026848e-01 9.18546451e-01 1.20120182e-01]\n",
      " [3.34473741e-01 1.75372070e-01 1.15898469e-01]\n",
      " [8.99866743e-01 5.68772591e-02 9.80485663e-01]\n",
      " [9.64508607e-02 8.63470649e-01 5.66506107e-01]\n",
      " [3.67917488e-01 3.42342377e-01 7.57364143e-01]\n",
      " [3.14573295e-01 6.57318917e-01 5.17326084e-01]\n",
      " [4.84965645e-01 9.01162171e-01 5.54645059e-01]\n",
      " [8.26861603e-01 7.25573534e-01 3.85572461e-02]\n",
      " [7.73110053e-01 2.16870250e-01 9.03149647e-01]\n",
      " [4.29241906e-02 3.33072034e-01 9.97329472e-02]\n",
      " [4.75589117e-01 8.20022436e-01 2.98187360e-01]\n",
      " [1.50934897e-01 3.30267036e-01 8.13880142e-01]\n",
      " [1.40383958e-01 2.27362449e-01 6.88519645e-02]\n",
      " [7.05710044e-01 3.95233244e-01 3.10839977e-01]\n",
      " [7.18626390e-01 3.35977542e-01 7.27771273e-01]\n",
      " [8.15199395e-01 2.17662843e-01 9.73818697e-01]\n",
      " [1.62357948e-01 2.90840907e-01 1.79795291e-01]\n",
      " [3.45505656e-01 4.80060888e-01 5.22175869e-01]\n",
      " [8.53606042e-01 8.89447909e-01 2.20103861e-01]\n",
      " [6.22894032e-01 1.11496057e-01 4.58969860e-01]\n",
      " [3.22333538e-01 3.16500745e-01 4.82584242e-01]\n",
      " [7.29827636e-01 6.91826588e-02 8.79173338e-01]\n",
      " [7.34813775e-01 1.76499389e-01 9.39160909e-01]\n",
      " [5.06312224e-01 9.99808578e-01 1.97259474e-01]\n",
      " [5.34908198e-01 2.90248043e-01 3.04173557e-01]\n",
      " [5.91065381e-01 9.21719067e-01 8.05263856e-01]\n",
      " [7.23941399e-01 5.59173782e-01 9.22298504e-01]\n",
      " [4.92361407e-01 8.73832178e-01 8.33981644e-01]\n",
      " [2.13835347e-01 7.71225463e-01 1.21711569e-02]\n",
      " [3.22829538e-01 2.29567445e-01 5.06862958e-01]\n",
      " [7.36853162e-01 9.76763674e-02 5.14922202e-01]\n",
      " [9.38412022e-01 2.28646551e-01 6.77141144e-01]\n",
      " [5.92880271e-01 1.00636957e-02 4.75826196e-01]\n",
      " [7.08770391e-01 4.39754320e-02 8.79521483e-01]\n",
      " [5.20081417e-01 3.06610483e-02 2.24413612e-01]\n",
      " [9.53675696e-01 5.82319733e-01 1.07472568e-01]\n",
      " [2.87544502e-01 4.56703626e-01 2.09500693e-02]\n",
      " [4.11615514e-01 4.89458635e-01 2.43677875e-01]\n",
      " [5.88639000e-01 7.53240120e-01 2.35834224e-01]\n",
      " [6.20499900e-01 6.39622243e-01 9.48540301e-01]\n",
      " [7.78276167e-01 8.48345270e-01 4.90419908e-01]\n",
      " [1.85348587e-01 9.95815293e-01 1.29355761e-01]\n",
      " [4.71457319e-01 6.80930992e-02 9.43850857e-01]\n",
      " [9.64924941e-01 7.19389062e-01 3.49992844e-01]\n",
      " [2.54382401e-01 2.65303325e-01 1.27294025e-01]\n",
      " [5.25808953e-01 1.41817276e-01 3.16730667e-01]\n",
      " [6.26706476e-01 7.27543610e-01 2.42727046e-02]\n",
      " [4.30115984e-01 6.52124595e-01 8.53245976e-01]\n",
      " [4.75324782e-01 9.69205872e-01 2.65632548e-01]\n",
      " [1.35087066e-02 4.83752865e-01 2.56113795e-01]\n",
      " [8.23717672e-01 2.32772672e-01 3.10629218e-01]\n",
      " [7.91227431e-01 7.15143252e-01 5.58051237e-01]\n",
      " [7.04948062e-01 4.18636864e-01 5.31004761e-03]\n",
      " [1.13551285e-02 5.11221788e-01 8.32909797e-02]\n",
      " [5.10754802e-02 9.65516639e-01 8.59002640e-01]\n",
      " [1.52027227e-01 6.64218590e-04 9.41667795e-01]\n",
      " [2.78325298e-01 1.85897603e-01 6.91508108e-01]\n",
      " [1.08903739e-01 2.64649598e-01 9.75094680e-01]\n",
      " [6.39462774e-01 5.20677791e-01 3.97918615e-01]\n",
      " [7.74500955e-01 1.40957477e-01 9.67337802e-01]\n",
      " [8.61123008e-01 6.17656983e-01 4.29061904e-02]\n",
      " [7.00855649e-01 9.13284341e-01 5.24577067e-01]\n",
      " [3.54224822e-01 1.20277345e-01 7.54901104e-01]\n",
      " [8.85021851e-01 1.00251744e-01 7.58984555e-01]\n",
      " [1.70604863e-02 9.67054918e-01 6.15058021e-01]\n",
      " [5.52439059e-01 2.95949834e-01 9.29291672e-01]\n",
      " [2.65905627e-01 8.28146613e-01 9.85108679e-01]\n",
      " [7.83396646e-01 5.18989920e-01 6.60742639e-02]\n",
      " [4.72413789e-01 4.38255947e-01 2.02796041e-01]\n",
      " [4.23587637e-01 3.57757884e-01 1.63684261e-01]\n",
      " [4.41374143e-01 2.62799956e-01 5.22062421e-01]\n",
      " [3.51600597e-02 9.06231420e-01 8.16364306e-01]\n",
      " [5.52581333e-01 8.51808583e-01 9.62395074e-01]\n",
      " [1.10522294e-01 6.30831808e-01 9.97994001e-01]\n",
      " [9.87889169e-01 6.03322992e-01 1.28020870e-01]\n",
      " [5.83192831e-01 2.06463557e-03 1.98911335e-01]\n",
      " [9.56123160e-01 3.30440573e-01 6.38390106e-01]\n",
      " [2.80859495e-01 9.47821887e-01 7.28558730e-01]\n",
      " [3.29651158e-01 7.91761421e-01 1.08165524e-01]\n",
      " [3.92318940e-01 2.21218128e-01 6.83726447e-01]\n",
      " [1.02446282e-01 3.97025832e-01 2.76649730e-01]\n",
      " [5.06342919e-01 3.49897681e-01 7.06410578e-01]\n",
      " [2.45770243e-02 6.33986921e-01 2.30571290e-01]\n",
      " [2.68709029e-01 8.00255604e-01 9.55568394e-01]\n",
      " [3.16550210e-01 8.26805270e-01 1.03990838e-01]\n",
      " [6.33981653e-01 7.51032300e-01 1.55977928e-01]\n",
      " [4.26002388e-01 8.92707164e-01 1.03578463e-01]\n",
      " [1.80963582e-02 5.90585379e-01 4.35531541e-01]\n",
      " [7.98689249e-01 9.23455538e-01 2.99153645e-01]\n",
      " [3.88404117e-01 4.86272086e-01 5.88151460e-01]\n",
      " [9.83853830e-01 6.97330251e-01 3.89548507e-01]\n",
      " [2.63767686e-01 9.44625718e-01 1.35548433e-01]\n",
      " [7.20265853e-01 9.25395025e-01 6.64665587e-01]\n",
      " [4.23054440e-01 1.98990940e-01 3.67475322e-01]\n",
      " [7.06871809e-01 6.49534224e-01 9.27976167e-01]\n",
      " [8.66860914e-01 8.16150752e-01 9.11450875e-01]\n",
      " [2.76337153e-01 3.69523540e-01 3.79893904e-01]\n",
      " [5.60450589e-01 6.68218230e-01 2.86716683e-01]\n",
      " [1.94624673e-02 3.99222384e-01 3.08527960e-01]\n",
      " [9.42184719e-01 8.88265041e-01 8.60310678e-01]\n",
      " [6.52999761e-01 3.44289165e-01 5.48849267e-01]\n",
      " [8.15225041e-01 9.86103687e-02 8.01074880e-01]\n",
      " [4.11797913e-02 8.16421031e-01 8.07563804e-01]\n",
      " [5.10073088e-02 6.27160711e-01 5.02453074e-01]\n",
      " [1.69819503e-01 1.48378938e-01 7.73259126e-01]\n",
      " [5.67692749e-01 9.82999135e-01 9.82247777e-01]\n",
      " [9.92666993e-01 1.18615518e-01 9.38256137e-01]\n",
      " [2.44569609e-01 4.58212260e-01 7.57406556e-01]\n",
      " [2.03620932e-01 5.66311606e-01 1.85816748e-01]\n",
      " [1.04736107e-01 1.16558612e-01 3.57639035e-01]\n",
      " [4.65483684e-03 4.24853921e-01 6.64197105e-01]\n",
      " [4.01688185e-01 8.57946005e-02 6.26888620e-02]\n",
      " [2.78116513e-01 1.69312691e-01 9.65094973e-01]\n",
      " [1.51230225e-01 8.05462437e-01 5.86107942e-01]\n",
      " [5.69286920e-01 5.12080716e-01 9.71763076e-01]\n",
      " [3.63844775e-01 7.87915751e-01 5.55294107e-01]\n",
      " [3.95633668e-01 9.55465933e-01 5.98315969e-01]\n",
      " [1.18916942e-01 4.17539201e-01 7.81581728e-01]\n",
      " [6.93747023e-01 9.16340330e-01 2.59377384e-01]\n",
      " [7.58193716e-01 4.59875207e-01 5.73609747e-01]\n",
      " [9.55046681e-01 9.79286320e-01 8.61590964e-01]\n",
      " [3.59097088e-01 8.87700836e-01 6.38609178e-01]\n",
      " [4.29996780e-01 3.57426825e-02 7.70128124e-01]\n",
      " [5.02105581e-01 7.86188499e-01 7.48022799e-01]\n",
      " [7.93567368e-01 3.00651159e-01 8.00798599e-01]\n",
      " [5.48846328e-01 4.73326200e-01 6.75125914e-01]\n",
      " [2.13586829e-02 1.02316816e-01 2.92177365e-01]\n",
      " [9.82990110e-01 1.39745779e-01 3.30596301e-01]\n",
      " [5.10530647e-02 3.31268880e-01 3.20326287e-01]\n",
      " [9.46807171e-01 8.45154087e-01 3.82764219e-01]\n",
      " [2.47690580e-02 8.31031114e-01 6.60536177e-01]\n",
      " [1.52364484e-01 9.96071271e-01 1.00233437e-01]\n",
      " [8.67114542e-01 2.94266164e-01 4.35353466e-01]\n",
      " [7.95456527e-01 6.77508356e-01 9.37864374e-01]\n",
      " [6.21140325e-01 9.78101615e-02 8.84360363e-01]\n",
      " [7.69155525e-01 7.11870451e-01 5.37335474e-02]\n",
      " [3.96222745e-01 1.67435819e-01 8.21903908e-01]\n",
      " [7.00528623e-01 8.83077597e-01 9.66575107e-01]\n",
      " [7.74747614e-01 9.94233083e-01 6.14769886e-01]\n",
      " [3.71296039e-02 1.42515152e-02 3.42103875e-01]\n",
      " [8.23471719e-01 8.66134706e-01 9.60812529e-01]\n",
      " [6.51214685e-02 4.45711110e-02 9.13283596e-01]\n",
      " [3.05046698e-01 5.57987401e-01 9.82444883e-01]\n",
      " [4.00448535e-01 6.65871398e-01 4.00879564e-01]\n",
      " [7.68194664e-01 5.27714726e-01 2.37523138e-01]\n",
      " [2.71306101e-01 2.58059213e-01 5.32320328e-01]\n",
      " [7.03189016e-01 9.49279900e-01 6.94087375e-01]\n",
      " [7.81192844e-01 1.68926116e-01 3.74062625e-01]\n",
      " [4.13780220e-01 6.86380230e-01 2.95891976e-01]\n",
      " [3.03291921e-01 3.55889155e-01 8.10302082e-01]\n",
      " [5.77590090e-01 7.52772798e-02 7.82460997e-02]\n",
      " [3.71286944e-01 7.66591051e-01 6.88683426e-01]\n",
      " [7.07982355e-01 7.67210066e-01 2.87152713e-01]\n",
      " [5.48256282e-01 5.43352640e-01 7.39632501e-01]\n",
      " [9.56870569e-01 2.77989945e-01 7.93281673e-01]\n",
      " [6.59970549e-01 5.80237871e-01 7.74879779e-01]\n",
      " [9.44032466e-01 3.66914179e-02 1.47400103e-01]\n",
      " [7.56287232e-01 8.37913529e-02 5.16123701e-01]\n",
      " [2.19860777e-01 2.74295704e-01 7.01840483e-01]\n",
      " [3.01927733e-02 8.73319428e-01 4.44478955e-01]\n",
      " [5.02393294e-01 5.40047964e-01 6.45544295e-01]\n",
      " [3.44856587e-01 1.01107491e-01 3.18378937e-01]\n",
      " [1.68142118e-01 5.56133179e-01 3.18028631e-01]\n",
      " [9.58067178e-01 9.65734278e-01 6.20125881e-01]\n",
      " [6.17497268e-01 9.85378565e-01 8.87283151e-01]\n",
      " [7.65069949e-01 3.13590612e-01 3.65539028e-01]\n",
      " [2.01266766e-01 4.87148127e-01 9.90368522e-01]\n",
      " [9.12150953e-01 1.18349434e-01 2.51902893e-02]\n",
      " [8.98637668e-01 5.37170128e-01 2.00189888e-01]\n",
      " [6.73653270e-01 6.44223178e-01 1.22085607e-01]\n",
      " [2.59600233e-01 6.00779643e-02 2.09860474e-01]\n",
      " [1.32305675e-01 1.93236292e-01 6.85467146e-01]\n",
      " [4.94997443e-02 1.01854615e-01 1.34173638e-01]\n",
      " [3.16541121e-01 2.98750311e-01 2.55063785e-01]\n",
      " [7.50536653e-01 9.98022788e-01 5.33977924e-01]\n",
      " [9.44202718e-01 3.96610112e-01 1.06682447e-01]\n",
      " [4.08773829e-01 2.96127773e-01 4.93406962e-01]\n",
      " [6.57043677e-01 4.61050219e-01 9.35160512e-01]\n",
      " [8.84764822e-01 7.01977595e-01 4.89684912e-01]\n",
      " [1.31687282e-01 3.97013667e-01 7.04401539e-01]\n",
      " [2.84885521e-01 1.03988078e-01 9.07898458e-01]\n",
      " [7.09050810e-01 6.15276427e-01 7.92498906e-01]\n",
      " [8.35646038e-01 4.83458998e-01 8.81188251e-01]\n",
      " [9.16419011e-01 2.71551095e-01 6.07545360e-01]\n",
      " [5.26584029e-01 5.37945779e-01 9.37663094e-01]\n",
      " [3.05188703e-01 9.83433978e-01 9.02131215e-01]\n",
      " [4.58722889e-01 8.17453264e-01 7.69046994e-01]\n",
      " [6.77894970e-01 3.19833889e-01 1.96450992e-01]\n",
      " [6.71527697e-01 8.42973296e-01 1.62527887e-02]\n",
      " [6.42803375e-01 4.42873025e-01 8.98087755e-01]\n",
      " [3.21472931e-01 4.74184812e-01 5.14767104e-01]\n",
      " [1.40439521e-01 7.12892303e-01 8.30476345e-01]\n",
      " [5.79092769e-02 2.91388821e-01 3.80446815e-02]\n",
      " [9.56544105e-01 6.67168821e-01 9.64200419e-01]\n",
      " [5.31494278e-01 8.02068524e-01 3.74413984e-01]\n",
      " [3.53819033e-01 3.78267817e-01 6.57862134e-01]\n",
      " [3.59453151e-01 9.00367452e-01 9.83274865e-01]\n",
      " [3.04265153e-02 1.93623290e-01 1.12249993e-01]\n",
      " [4.23640471e-02 2.27740993e-01 4.46793320e-01]\n",
      " [8.36990365e-01 2.21824031e-01 4.93945256e-01]\n",
      " [9.29618739e-01 6.67214707e-01 7.98079020e-01]\n",
      " [5.50993970e-01 9.80466459e-01 5.88662155e-01]\n",
      " [4.55107140e-02 1.97982800e-01 4.04773629e-01]\n",
      " [6.01277173e-01 7.71930867e-01 4.13086126e-01]\n",
      " [7.10058305e-01 7.89869503e-01 3.17260197e-01]\n",
      " [9.79270240e-01 6.49656495e-01 8.80998061e-01]\n",
      " [5.55937689e-01 7.41603107e-01 7.70544062e-01]\n",
      " [9.08248379e-01 1.50349757e-01 5.58283424e-01]\n",
      " [4.28378513e-01 9.23159021e-01 1.05094694e-01]\n",
      " [9.82573889e-01 8.75451324e-01 7.38262816e-02]\n",
      " [4.90966386e-01 7.17559500e-01 7.38151546e-01]\n",
      " [9.06494125e-01 7.99865436e-01 3.10930380e-01]\n",
      " [4.98434786e-01 7.01785763e-01 1.38436841e-01]\n",
      " [1.93990798e-01 4.81042448e-01 2.98245799e-01]\n",
      " [8.62559250e-01 5.86277322e-01 3.48665198e-01]\n",
      " [8.48833026e-01 8.04878449e-01 9.98354877e-01]\n",
      " [8.47307688e-01 4.14456535e-01 1.27498882e-01]\n",
      " [8.40640908e-01 5.97579180e-02 3.50271207e-01]\n",
      " [9.19737981e-01 9.60766473e-01 6.40564594e-01]\n",
      " [6.88648317e-01 4.24544887e-02 5.14480341e-01]\n",
      " [5.46868179e-01 3.40100746e-01 6.85968348e-02]\n",
      " [2.28907600e-01 3.57983937e-01 4.35141987e-01]\n",
      " [5.90926726e-01 7.22391519e-01 3.17631873e-01]\n",
      " [3.28953760e-01 1.96916427e-02 4.08748601e-02]\n",
      " [2.57821694e-01 7.40244998e-01 6.28313830e-01]\n",
      " [7.69789021e-01 7.68919436e-01 8.56567468e-01]\n",
      " [7.20319266e-01 9.79010919e-01 8.98825219e-01]\n",
      " [5.86717166e-01 5.88157670e-01 3.42670404e-02]\n",
      " [9.98526578e-01 1.31575997e-01 7.40347197e-01]\n",
      " [8.21015195e-01 3.73054529e-01 1.96852055e-01]\n",
      " [9.87598868e-02 7.48606006e-01 4.52653529e-01]\n",
      " [7.13717759e-01 9.15407649e-01 1.46583736e-01]\n",
      " [9.19171001e-01 4.11626460e-01 3.05267010e-01]\n",
      " [9.43062261e-01 9.90651693e-01 1.98892218e-01]\n",
      " [6.56838347e-01 1.06495314e-01 6.50914004e-01]\n",
      " [8.27313228e-01 6.84498547e-01 4.17333142e-01]\n",
      " [3.83066360e-01 3.93122415e-01 5.89711818e-01]\n",
      " [8.81567270e-01 9.29066157e-01 5.35296202e-02]\n",
      " [1.81622395e-01 1.12224316e-01 1.93334641e-01]\n",
      " [3.46607811e-01 5.06531683e-01 6.29461227e-01]\n",
      " [7.32142219e-01 8.90111541e-01 9.89088437e-01]\n",
      " [6.62856479e-01 8.45364519e-01 7.78038847e-01]\n",
      " [3.07532039e-01 8.75692270e-01 4.27631379e-02]\n",
      " [3.67343751e-04 2.73732629e-01 4.62097530e-01]\n",
      " [6.38362895e-01 1.01770267e-01 6.73010134e-01]\n",
      " [8.01815867e-01 1.85312920e-01 4.15125255e-01]\n",
      " [5.19984990e-01 4.51807018e-01 7.99829931e-01]\n",
      " [9.60522398e-01 7.98953164e-01 7.79928179e-02]\n",
      " [8.04935572e-01 6.65963322e-02 2.35970385e-01]\n",
      " [1.53096897e-01 1.97519107e-01 5.28315127e-01]\n",
      " [6.71689858e-01 4.70321282e-01 9.59695639e-01]\n",
      " [2.40292320e-01 7.63140230e-01 8.70182179e-01]\n",
      " [5.62066111e-01 4.56222502e-01 5.96184447e-01]\n",
      " [4.28809770e-01 5.55193882e-01 4.16933952e-01]\n",
      " [4.00469710e-01 6.95346468e-01 9.28512131e-02]\n",
      " [1.66542073e-01 8.51198472e-01 7.71077347e-01]\n",
      " [2.81453727e-01 3.77268933e-01 9.26026507e-01]\n",
      " [8.18077225e-01 6.14346300e-01 2.21490179e-01]\n",
      " [4.42519713e-02 4.31257847e-01 6.72627139e-01]\n",
      " [8.28480491e-01 8.52689006e-01 3.27759013e-02]\n",
      " [2.44157034e-01 3.39094588e-01 1.88732211e-01]\n",
      " [8.02975378e-01 7.67465763e-01 5.16833040e-01]]\n"
     ]
    }
   ],
   "source": [
    "# Generate random cluster memberships (replace this with your actual memberships)\n",
    "# In a real-world scenario, you would have actual membership values.\n",
    "# For demonstration purposes, we'll generate random memberships.\n",
    "n_clusters = 3\n",
    "memberships = np.random.rand(n_samples, n_clusters)\n",
    "print(memberships)\n",
    "memberships /= memberships.sum(axis=1)[:, np.newaxis]"
   ]
  },
  {
   "cell_type": "code",
   "execution_count": 4,
   "metadata": {},
   "outputs": [],
   "source": [
    "\n",
    "\n",
    "# Number of clusters you want to find\n",
    "n_clusters_to_find = 3\n",
    "\n",
    "# Define the number of iterations and other K-Means parameters\n",
    "n_init = 10  # Number of times the algorithm will be run with different centroids\n",
    "max_iter = 300  # Maximum number of iterations for each single run\n",
    "\n",
    "# Initialize an array to store cluster centers\n",
    "cluster_centers = np.zeros((n_clusters_to_find, n_features))"
   ]
  },
  {
   "cell_type": "code",
   "execution_count": 5,
   "metadata": {
    "colab": {
     "base_uri": "https://localhost:8080/"
    },
    "id": "iUCBoYm3WwOt",
    "outputId": "c69d669c-d939-4aee-940c-71e5bc03f400"
   },
   "outputs": [
    {
     "name": "stdout",
     "output_type": "stream",
     "text": [
      "Cluster Centers:\n",
      "[[-0.08714662 -0.0142298 ]\n",
      " [-0.07815745 -0.07751896]\n",
      " [-0.09179328  0.0190049 ]]\n"
     ]
    }
   ],
   "source": [
    "\n",
    "\n",
    "# Membership Weighted K-Means\n",
    "for i in range(n_clusters_to_find):\n",
    "    # Create a weighted dataset by repeating each data point based on its membership\n",
    "    weighted_data = np.repeat(data, np.round(memberships[:, i] * n_samples).astype(int), axis=0)\n",
    "\n",
    "    # Apply K-Means clustering to the weighted data\n",
    "    kmeans = KMeans(n_clusters=1, n_init=n_init, max_iter=max_iter)\n",
    "    kmeans.fit(weighted_data)\n",
    "\n",
    "    # Store the cluster center as the new cluster center\n",
    "    cluster_centers[i] = kmeans.cluster_centers_\n",
    "\n",
    "# The resulting cluster_centers array contains the centers of the clusters found by MWK-Means.\n",
    "print(\"Cluster Centers:\")\n",
    "print(cluster_centers)\n"
   ]
  },
  {
   "cell_type": "code",
   "execution_count": 6,
   "metadata": {
    "colab": {
     "base_uri": "https://localhost:8080/"
    },
    "id": "Ia-VAlTRYqNc",
    "outputId": "c873ad28-c5ba-4d90-b4cc-edd545a0bd3b"
   },
   "outputs": [
    {
     "name": "stderr",
     "output_type": "stream",
     "text": [
      "C:\\Users\\vwadhawan\\AppData\\Local\\anaconda3\\Lib\\site-packages\\sklearn\\cluster\\_kmeans.py:1436: UserWarning: KMeans is known to have a memory leak on Windows with MKL, when there are less chunks than available threads. You can avoid it by setting the environment variable OMP_NUM_THREADS=1.\n",
      "  warnings.warn(\n",
      "C:\\Users\\vwadhawan\\AppData\\Local\\anaconda3\\Lib\\site-packages\\sklearn\\cluster\\_kmeans.py:1436: UserWarning: KMeans is known to have a memory leak on Windows with MKL, when there are less chunks than available threads. You can avoid it by setting the environment variable OMP_NUM_THREADS=1.\n",
      "  warnings.warn(\n",
      "C:\\Users\\vwadhawan\\AppData\\Local\\anaconda3\\Lib\\site-packages\\sklearn\\cluster\\_kmeans.py:1436: UserWarning: KMeans is known to have a memory leak on Windows with MKL, when there are less chunks than available threads. You can avoid it by setting the environment variable OMP_NUM_THREADS=1.\n",
      "  warnings.warn(\n"
     ]
    },
    {
     "name": "stdout",
     "output_type": "stream",
     "text": [
      "Cluster Centers:\n",
      "[[5.006 3.428 1.462 0.246]\n",
      " [5.936 2.77  4.26  1.326]\n",
      " [6.588 2.974 5.552 2.026]]\n"
     ]
    }
   ],
   "source": [
    "import numpy as np\n",
    "from sklearn.cluster import KMeans\n",
    "from sklearn import datasets\n",
    "\n",
    "# Load the Iris dataset\n",
    "iris = datasets.load_iris()\n",
    "data = iris.data  # Features\n",
    "target = iris.target  # Ground truth labels\n",
    "\n",
    "# Number of clusters you want to find\n",
    "n_clusters_to_find = 3\n",
    "\n",
    "# Define the number of iterations and other K-Means parameters\n",
    "n_init = 10  # Number of times the algorithm will be run with different centroids\n",
    "max_iter = 300  # Maximum number of iterations for each single run\n",
    "\n",
    "# Initialize an array to store cluster centers\n",
    "cluster_centers = np.zeros((n_clusters_to_find, data.shape[1]))\n",
    "\n",
    "# Membership Weighted K-Means\n",
    "for i in range(n_clusters_to_find):\n",
    "    # Create a weighted dataset based on the true labels (species)\n",
    "    weighted_data = data[target == i]\n",
    "\n",
    "    # Apply K-Means clustering to the weighted data\n",
    "    kmeans = KMeans(n_clusters=1, n_init=n_init, max_iter=max_iter)\n",
    "    kmeans.fit(weighted_data)\n",
    "\n",
    "    # Store the cluster center as the new cluster center\n",
    "    cluster_centers[i] = kmeans.cluster_centers_\n",
    "\n",
    "# The resulting cluster_centers array contains the centers of the clusters found by MWK-Means.\n",
    "print(\"Cluster Centers:\")\n",
    "print(cluster_centers)\n"
   ]
  },
  {
   "cell_type": "code",
   "execution_count": null,
   "metadata": {
    "id": "8OngkjjEbJjn"
   },
   "outputs": [],
   "source": []
  },
  {
   "cell_type": "code",
   "execution_count": 7,
   "metadata": {
    "colab": {
     "base_uri": "https://localhost:8080/",
     "height": 523
    },
    "id": "LwIvEZc9bJgX",
    "outputId": "612f3ba6-94f6-4a0e-e692-cfb504d5271e"
   },
   "outputs": [
    {
     "name": "stderr",
     "output_type": "stream",
     "text": [
      "C:\\Users\\vwadhawan\\AppData\\Local\\anaconda3\\Lib\\site-packages\\sklearn\\cluster\\_kmeans.py:1412: FutureWarning: The default value of `n_init` will change from 10 to 'auto' in 1.4. Set the value of `n_init` explicitly to suppress the warning\n",
      "  super()._check_params_vs_input(X, default_n_init=10)\n",
      "C:\\Users\\vwadhawan\\AppData\\Local\\anaconda3\\Lib\\site-packages\\sklearn\\cluster\\_kmeans.py:1436: UserWarning: KMeans is known to have a memory leak on Windows with MKL, when there are less chunks than available threads. You can avoid it by setting the environment variable OMP_NUM_THREADS=2.\n",
      "  warnings.warn(\n"
     ]
    },
    {
     "data": {
      "image/png": "[encoded data removed]",
      "text/plain": [
       "<Figure size 1200x500 with 2 Axes>"
      ]
     },
     "metadata": {},
     "output_type": "display_data"
    }
   ],
   "source": [
    "import numpy as np\n",
    "import matplotlib.pyplot as plt\n",
    "from sklearn.datasets import make_blobs\n",
    "from sklearn.cluster import KMeans\n",
    "\n",
    "# Generate random data\n",
    "n_samples = 300\n",
    "n_clusters = 3\n",
    "random_state = 42\n",
    "\n",
    "X, y = make_blobs(n_samples=n_samples, centers=n_clusters, random_state=random_state)\n",
    "\n",
    "# Initialize K-Means with scikit-learn\n",
    "kmeans = KMeans(n_clusters=n_clusters, random_state=random_state)\n",
    "kmeans.fit(X)\n",
    "\n",
    "# Function for Membership Weighted K-Means\n",
    "def membership_weighted_kmeans(X, n_clusters, weights, max_iters=100):\n",
    "    n_samples, n_features = X.shape\n",
    "    centroids = X[np.random.choice(n_samples, n_clusters, replace=False)]\n",
    "\n",
    "    for _ in range(max_iters):\n",
    "        distances = np.linalg.norm(X[:, np.newaxis] - centroids, axis=2)\n",
    "        cluster_assignments = np.argmin(distances, axis=1)\n",
    "\n",
    "        new_centroids = np.zeros((n_clusters, n_features))\n",
    "        for i in range(n_clusters):\n",
    "            if np.sum(weights[cluster_assignments == i]) == 0:\n",
    "                continue\n",
    "            new_centroids[i] = np.sum(X[cluster_assignments == i] * weights[cluster_assignments == i, np.newaxis], axis=0) / np.sum(weights[cluster_assignments == i])\n",
    "\n",
    "        if np.all(centroids == new_centroids):\n",
    "            break\n",
    "\n",
    "        centroids = new_centroids\n",
    "\n",
    "    return centroids, cluster_assignments\n",
    "\n",
    "# Generate random weights for each data point (for demonstration purposes)\n",
    "weights = np.random.rand(n_samples)\n",
    "\n",
    "# Normalize weights to sum to 1\n",
    "weights /= weights.sum()\n",
    "\n",
    "# Run Membership Weighted K-Means\n",
    "weighted_centroids, weighted_cluster_assignments = membership_weighted_kmeans(X, n_clusters, weights)\n",
    "\n",
    "# Plot the results\n",
    "plt.figure(figsize=(12, 5))\n",
    "\n",
    "# Plot the data points\n",
    "plt.subplot(1, 2, 1)\n",
    "plt.scatter(X[:, 0], X[:, 1], c=y, cmap='viridis')\n",
    "plt.title(\"Original Data\")\n",
    "\n",
    "# Plot the clusters with weighted centroids\n",
    "plt.subplot(1, 2, 2)\n",
    "plt.scatter(X[:, 0], X[:, 1], c=weighted_cluster_assignments, cmap='viridis')\n",
    "plt.scatter(weighted_centroids[:, 0], weighted_centroids[:, 1], c='red', marker='x', s=100)\n",
    "plt.title(\"Membership Weighted K-Means\")\n",
    "\n",
    "plt.show()\n"
   ]
  },
  {
   "cell_type": "code",
   "execution_count": null,
   "metadata": {
    "id": "jSNqgyiMYrI_"
   },
   "outputs": [],
   "source": []
  },
  {
   "cell_type": "code",
   "execution_count": null,
   "metadata": {},
   "outputs": [],
   "source": []
  },
  {
   "cell_type": "code",
   "execution_count": null,
   "metadata": {},
   "outputs": [],
   "source": []
  },
  {
   "cell_type": "code",
   "execution_count": 8,
   "metadata": {},
   "outputs": [],
   "source": [
    "#create 10x2 data\n",
    "data = np.array([[6,8],[-4,-9],[4,-4],[7,-5],[0,0],[-7,8],[1,10],[-8,-1],[0,6],[-7,7]])"
   ]
  },
  {
   "cell_type": "code",
   "execution_count": 9,
   "metadata": {},
   "outputs": [
    {
     "data": {
      "text/plain": [
       "(10, 2)"
      ]
     },
     "execution_count": 9,
     "metadata": {},
     "output_type": "execute_result"
    }
   ],
   "source": [
    "data.shape"
   ]
  },
  {
   "cell_type": "code",
   "execution_count": 10,
   "metadata": {},
   "outputs": [
    {
     "data": {
      "text/plain": [
       "array([[0.5, 0.5],\n",
       "       [0.5, 0.5],\n",
       "       [0.5, 0.5],\n",
       "       [0.5, 0.5],\n",
       "       [0.5, 0.5],\n",
       "       [0.5, 0.5],\n",
       "       [0.5, 0.5],\n",
       "       [0.5, 0.5],\n",
       "       [0.5, 0.5],\n",
       "       [0.5, 0.5]])"
      ]
     },
     "execution_count": 10,
     "metadata": {},
     "output_type": "execute_result"
    }
   ],
   "source": [
    "no_of_clusters = 2\n",
    "init_prob = 1/no_of_clusters\n",
    "# fill the membership with probability values of row X clusters values \n",
    "membership=np.full((data.shape[0],no_of_clusters), init_prob)\n",
    "membership"
   ]
  },
  {
   "cell_type": "code",
   "execution_count": 11,
   "metadata": {},
   "outputs": [
    {
     "data": {
      "text/plain": [
       "array([-4., 10.])"
      ]
     },
     "execution_count": 11,
     "metadata": {},
     "output_type": "execute_result"
    }
   ],
   "source": [
    "# Find the mean for 1st cluster.\n",
    "# multiple data with all the values and get the mean based on column wise\n",
    "m1 = np.sum(data*membership[:,0][:,np.newaxis], axis=0)\n",
    "m1"
   ]
  },
  {
   "cell_type": "code",
   "execution_count": 12,
   "metadata": {},
   "outputs": [
    {
     "data": {
      "text/plain": [
       "array([-4., 10.])"
      ]
     },
     "execution_count": 12,
     "metadata": {},
     "output_type": "execute_result"
    }
   ],
   "source": [
    "# Find the mean for 2nd cluster\n",
    "# multiple data with all the values and get the mean based on column wise\n",
    "m2 = np.sum(data*membership[:,1][:,np.newaxis], axis=0)\n",
    "m2"
   ]
  },
  {
   "cell_type": "code",
   "execution_count": 13,
   "metadata": {},
   "outputs": [
    {
     "data": {
      "text/plain": [
       "array([[ 10.,  -2.],\n",
       "       [  0., -19.],\n",
       "       [  8., -14.],\n",
       "       [ 11., -15.],\n",
       "       [  4., -10.],\n",
       "       [ -3.,  -2.],\n",
       "       [  5.,   0.],\n",
       "       [ -4., -11.],\n",
       "       [  4.,  -4.],\n",
       "       [ -3.,  -3.]])"
      ]
     },
     "execution_count": 13,
     "metadata": {},
     "output_type": "execute_result"
    }
   ],
   "source": [
    "z_i_j = np.subtract(data, m1)\n",
    "z_i_j"
   ]
  },
  {
   "cell_type": "code",
   "execution_count": 14,
   "metadata": {},
   "outputs": [
    {
     "name": "stdout",
     "output_type": "stream",
     "text": [
      "[[706.]]\n"
     ]
    },
    {
     "data": {
      "text/plain": [
       "array([[706.,   0.],\n",
       "       [  0.,   1.]])"
      ]
     },
     "execution_count": 14,
     "metadata": {},
     "output_type": "execute_result"
    }
   ],
   "source": [
    "i=0\n",
    "temp=[]\n",
    "cov_matrix=np.identity((no_of_clusters))\n",
    "\n",
    "for i in range(data.shape[0]):\n",
    "    z_i_j=np.subtract(data[i,:], m1)\n",
    "    z_i_j = z_i_j.reshape(2,1)\n",
    "    z=np.matmul(z_i_j.T, z_i_j)\n",
    "    p_mult_z=z*membership[i,0]\n",
    "    temp.append(p_mult_z)\n",
    "\n",
    "cov1=sum(temp)\n",
    "print(cov1)\n",
    "cov_matrix[0,0]=cov1\n",
    "cov_matrix"
   ]
  },
  {
   "cell_type": "code",
   "execution_count": 15,
   "metadata": {},
   "outputs": [
    {
     "data": {
      "text/plain": [
       "0.5331827849933758"
      ]
     },
     "execution_count": 15,
     "metadata": {},
     "output_type": "execute_result"
    }
   ],
   "source": [
    "cov_inv=np.linalg.inv(cov_matrix)\n",
    "z_i_j=np.subtract(data[0,:], m1)\n",
    "z=np.matmul(z_i_j.T, cov_inv)\n",
    "zz = np.matmul(z, z_i_j)\n",
    "determinant = np.linalg.det(cov_matrix)\n",
    "const_part = 1/(2*np.pi)**(data.shape[1]/2)\n",
    "\n",
    "probability_1 = const_part * np.sqrt(determinant) * np.exp((-0.5)*zz)\n",
    "probability_1"
   ]
  },
  {
   "cell_type": "code",
   "execution_count": null,
   "metadata": {},
   "outputs": [],
   "source": []
  }
 ],
 "metadata": {
  "colab": {
   "provenance": []
  },
  "kernelspec": {
   "display_name": "Python 3 (ipykernel)",
   "language": "python",
   "name": "python3"
  },
  "language_info": {
   "codemirror_mode": {
    "name": "ipython",
    "version": 3
   },
   "file_extension": ".py",
   "mimetype": "text/x-python",
   "name": "python",
   "nbconvert_exporter": "python",
   "pygments_lexer": "ipython3",
   "version": "3.11.5"
  }
 },
 "nbformat": 4,
 "nbformat_minor": 1
}
