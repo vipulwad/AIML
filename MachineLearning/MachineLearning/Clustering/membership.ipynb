{
 "cells": [
  {
   "cell_type": "code",
   "execution_count": 4,
   "metadata": {},
   "outputs": [],
   "source": [
    "import numpy as np\n",
    "from sklearn.cluster import KMeans"
   ]
  },
  {
   "cell_type": "code",
   "execution_count": 5,
   "metadata": {},
   "outputs": [
    {
     "data": {
      "text/plain": [
       "(10, 2)"
      ]
     },
     "execution_count": 5,
     "metadata": {},
     "output_type": "execute_result"
    }
   ],
   "source": [
    "data=np.array([[6,8],[-4,-9],[4,-4],[7,-5],[0,0],[-7,8],[1,10],[-8,-1],[0,6],[-7,7]])\n",
    "data.shape"
   ]
  },
  {
   "cell_type": "code",
   "execution_count": 12,
   "metadata": {},
   "outputs": [],
   "source": [
    "no_cluster=2"
   ]
  },
  {
   "cell_type": "code",
   "execution_count": null,
   "metadata": {},
   "outputs": [],
   "source": [
    "init_prob=1/no_cluster\n",
    "membership=np.full((data.shape[0], no_cluster), init_prob)\n",
    "membership"
   ]
  },
  {
   "cell_type": "code",
   "execution_count": 20,
   "metadata": {},
   "outputs": [
    {
     "data": {
      "text/plain": [
       "array([-4., 10.])"
      ]
     },
     "execution_count": 20,
     "metadata": {},
     "output_type": "execute_result"
    }
   ],
   "source": [
    "# mean update\n",
    "mean_1=np.sum(data*membership[:,0][:,np.newaxis], axis=0)\n",
    "mean_1"
   ]
  },
  {
   "cell_type": "code",
   "execution_count": 22,
   "metadata": {},
   "outputs": [
    {
     "data": {
      "text/plain": [
       "array([-4., 10.])"
      ]
     },
     "execution_count": 22,
     "metadata": {},
     "output_type": "execute_result"
    }
   ],
   "source": [
    "mean_2=np.sum(data*membership[:,1][:,np.newaxis], axis=0)\n",
    "mean_2"
   ]
  },
  {
   "cell_type": "code",
   "execution_count": 66,
   "metadata": {},
   "outputs": [],
   "source": [
    "# inittialization\n",
    "mean_1=[-4,-9]\n",
    "mean_2=[7,-5]"
   ]
  },
  {
   "cell_type": "code",
   "execution_count": 67,
   "metadata": {},
   "outputs": [
    {
     "data": {
      "text/plain": [
       "array([[1., 0.],\n",
       "       [0., 1.]])"
      ]
     },
     "execution_count": 67,
     "metadata": {},
     "output_type": "execute_result"
    }
   ],
   "source": [
    "cov_matrix=np.identity((no_cluster))\n",
    "cov_matrix"
   ]
  },
  {
   "cell_type": "code",
   "execution_count": 68,
   "metadata": {},
   "outputs": [
    {
     "name": "stdout",
     "output_type": "stream",
     "text": [
      "[[991.]]\n"
     ]
    },
    {
     "data": {
      "text/plain": [
       "array([[991.,   0.],\n",
       "       [  0.,   1.]])"
      ]
     },
     "execution_count": 68,
     "metadata": {},
     "output_type": "execute_result"
    }
   ],
   "source": [
    "# cov update\n",
    "temp=[]\n",
    "for i in range(data.shape[0]):\n",
    "    z_i_j=np.subtract(data[i,:], mean_1)\n",
    "    z_i_j=z_i_j.reshape(2,1)\n",
    "    z=np.matmul(z_i_j.T,z_i_j)\n",
    "    p_mult_z=z*membership[i,0]\n",
    "    temp.append(p_mult_z)\n",
    "    # print(z,p_mult_z)\n",
    "cov1=sum(temp)\n",
    "print(cov1)\n",
    "cov_matrix[0,0]=cov1\n",
    "cov_matrix"
   ]
  },
  {
   "cell_type": "code",
   "execution_count": 69,
   "metadata": {},
   "outputs": [
    {
     "name": "stdout",
     "output_type": "stream",
     "text": [
      "[[884.]]\n"
     ]
    },
    {
     "data": {
      "text/plain": [
       "array([[991.,   0.],\n",
       "       [  0., 884.]])"
      ]
     },
     "execution_count": 69,
     "metadata": {},
     "output_type": "execute_result"
    }
   ],
   "source": [
    "temp=[]\n",
    "for i in range(data.shape[0]):\n",
    "    z_i_j=np.subtract(data[i,:], mean_2)\n",
    "    z_i_j=z_i_j.reshape(2,1)\n",
    "    z=np.matmul(z_i_j.T,z_i_j)\n",
    "    p_mult_z=z*membership[i,1]\n",
    "    temp.append(p_mult_z)\n",
    "    # print(z,p_mult_z)\n",
    "cov1=sum(temp)\n",
    "print(cov1)\n",
    "cov_matrix[1,1]=cov1\n",
    "cov_matrix"
   ]
  },
  {
   "cell_type": "code",
   "execution_count": 70,
   "metadata": {},
   "outputs": [
    {
     "data": {
      "text/plain": [
       "38.285193202578256"
      ]
     },
     "execution_count": 70,
     "metadata": {},
     "output_type": "execute_result"
    }
   ],
   "source": [
    "cov_inv=np.linalg.inv(cov_matrix)\n",
    "z_i_j=np.subtract(data[0,:], mean_1)\n",
    "z=np.matmul(z_i_j.T,cov_inv)\n",
    "zz=np.matmul(z, z_i_j)\n",
    "\n",
    "detm=np.linalg.det(cov_matrix)\n",
    "const_part=1/((2*np.pi)**data.shape[1]/2)\n",
    "\n",
    "probability_1=const_part*np.sqrt(detm)*np.exp((-0.5)*zz)\n",
    "probability_1"
   ]
  },
  {
   "cell_type": "code",
   "execution_count": 71,
   "metadata": {},
   "outputs": [
    {
     "data": {
      "text/plain": [
       "43.072557184756654"
      ]
     },
     "execution_count": 71,
     "metadata": {},
     "output_type": "execute_result"
    }
   ],
   "source": [
    "cov_inv=np.linalg.inv(cov_matrix)\n",
    "z_i_j=np.subtract(data[0,:], mean_2)\n",
    "z=np.matmul(z_i_j.T,cov_inv)\n",
    "zz=np.matmul(z, z_i_j)\n",
    "\n",
    "detm=np.linalg.det(cov_matrix)\n",
    "const_part=1/((2*np.pi)**data.shape[1]/2)\n",
    "\n",
    "probability_1=const_part*np.sqrt(detm)*np.exp((-0.5)*zz)\n",
    "probability_1"
   ]
  },
  {
   "cell_type": "code",
   "execution_count": 40,
   "metadata": {},
   "outputs": [
    {
     "data": {
      "text/plain": [
       "array([[10., -2.]])"
      ]
     },
     "execution_count": 40,
     "metadata": {},
     "output_type": "execute_result"
    }
   ],
   "source": [
    "# z_i_j.T"
   ]
  },
  {
   "cell_type": "code",
   "execution_count": 42,
   "metadata": {},
   "outputs": [
    {
     "data": {
      "text/plain": [
       "array([[104.]])"
      ]
     },
     "execution_count": 42,
     "metadata": {},
     "output_type": "execute_result"
    }
   ],
   "source": []
  },
  {
   "cell_type": "code",
   "execution_count": null,
   "metadata": {},
   "outputs": [],
   "source": [
    "# data*membership[:,0][:,np.newaxis]"
   ]
  }
 ],
 "metadata": {
  "kernelspec": {
   "display_name": "Python 3 (ipykernel)",
   "language": "python",
   "name": "python3"
  },
  "language_info": {
   "codemirror_mode": {
    "name": "ipython",
    "version": 3
   },
   "file_extension": ".py",
   "mimetype": "text/x-python",
   "name": "python",
   "nbconvert_exporter": "python",
   "pygments_lexer": "ipython3",
   "version": "3.11.5"
  }
 },
 "nbformat": 4,
 "nbformat_minor": 2
}
