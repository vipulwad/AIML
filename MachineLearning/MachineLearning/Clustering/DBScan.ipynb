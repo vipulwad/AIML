{
 "cells": [
  {
   "cell_type": "markdown",
   "id": "e0565631",
   "metadata": {},
   "source": [
    "# Density Based Spatial Clustering of Application with Noise"
   ]
  },
  {
   "cell_type": "code",
   "execution_count": 1,
   "id": "46a54eee",
   "metadata": {},
   "outputs": [],
   "source": [
    "import numpy as np\n",
    "import pandas as pd\n",
    "import math\n",
    "import matplotlib.pyplot as plt\n",
    "np.random.seed(42)"
   ]
  },
  {
   "cell_type": "code",
   "execution_count": 2,
   "id": "8f3132fd",
   "metadata": {},
   "outputs": [],
   "source": [
    "def CirclePoints(r, n=200, noise=20):\n",
    "    return [(math.cos(2*math.pi/n*i)*r+np.random.uniform(-noise, noise), math.sin(2*math.pi/n*i)*r + np.random.uniform(-noise, noise))]"
   ]
  },
  {
   "cell_type": "code",
   "execution_count": 8,
   "id": "917ce1fe",
   "metadata": {},
   "outputs": [
    {
     "ename": "NameError",
     "evalue": "name 'i' is not defined",
     "output_type": "error",
     "traceback": [
      "\u001b[1;31m---------------------------------------------------------------------------\u001b[0m",
      "\u001b[1;31mNameError\u001b[0m                                 Traceback (most recent call last)",
      "Cell \u001b[1;32mIn[8], line 1\u001b[0m\n\u001b[1;32m----> 1\u001b[0m df \u001b[38;5;241m=\u001b[39m pd\u001b[38;5;241m.\u001b[39mDataFrame(CirclePoints(\u001b[38;5;241m100\u001b[39m,\u001b[38;5;241m200\u001b[39m,\u001b[38;5;241m20\u001b[39m))\n",
      "Cell \u001b[1;32mIn[2], line 2\u001b[0m, in \u001b[0;36mCirclePoints\u001b[1;34m(r, n, noise)\u001b[0m\n\u001b[0;32m      1\u001b[0m \u001b[38;5;28;01mdef\u001b[39;00m \u001b[38;5;21mCirclePoints\u001b[39m(r, n\u001b[38;5;241m=\u001b[39m\u001b[38;5;241m200\u001b[39m, noise\u001b[38;5;241m=\u001b[39m\u001b[38;5;241m20\u001b[39m):\n\u001b[1;32m----> 2\u001b[0m     \u001b[38;5;28;01mreturn\u001b[39;00m [(math\u001b[38;5;241m.\u001b[39mcos(\u001b[38;5;241m2\u001b[39m\u001b[38;5;241m*\u001b[39mmath\u001b[38;5;241m.\u001b[39mpi\u001b[38;5;241m/\u001b[39mn\u001b[38;5;241m*\u001b[39mi)\u001b[38;5;241m*\u001b[39mr\u001b[38;5;241m+\u001b[39mnp\u001b[38;5;241m.\u001b[39mrandom\u001b[38;5;241m.\u001b[39muniform(\u001b[38;5;241m-\u001b[39mnoise, noise), math\u001b[38;5;241m.\u001b[39msin(\u001b[38;5;241m2\u001b[39m\u001b[38;5;241m*\u001b[39mmath\u001b[38;5;241m.\u001b[39mpi\u001b[38;5;241m/\u001b[39mn\u001b[38;5;241m*\u001b[39mi)\u001b[38;5;241m*\u001b[39mr \u001b[38;5;241m+\u001b[39m np\u001b[38;5;241m.\u001b[39mrandom\u001b[38;5;241m.\u001b[39muniform(\u001b[38;5;241m-\u001b[39mnoise, noise))]\n",
      "\u001b[1;31mNameError\u001b[0m: name 'i' is not defined"
     ]
    }
   ],
   "source": [
    "df = pd.DataFrame(CirclePoints(100,200,20))"
   ]
  },
  {
   "cell_type": "code",
   "execution_count": 9,
   "id": "b33ed6ca",
   "metadata": {},
   "outputs": [
    {
     "ename": "NameError",
     "evalue": "name 'df' is not defined",
     "output_type": "error",
     "traceback": [
      "\u001b[1;31m---------------------------------------------------------------------------\u001b[0m",
      "\u001b[1;31mNameError\u001b[0m                                 Traceback (most recent call last)",
      "Cell \u001b[1;32mIn[9], line 1\u001b[0m\n\u001b[1;32m----> 1\u001b[0m df \u001b[38;5;241m=\u001b[39m df\u001b[38;5;241m.\u001b[39mappend(CirclePoints(\u001b[38;5;241m300\u001b[39m,\u001b[38;5;241m400\u001b[39m,\u001b[38;5;241m40\u001b[39m))\n\u001b[0;32m      2\u001b[0m df \u001b[38;5;241m=\u001b[39m df\u001b[38;5;241m.\u001b[39mappend(CirclePoints(\u001b[38;5;241m500\u001b[39m,\u001b[38;5;241m700\u001b[39m,\u001b[38;5;241m60\u001b[39m))\n\u001b[0;32m      3\u001b[0m df \u001b[38;5;241m=\u001b[39m df\u001b[38;5;241m.\u001b[39mappend([(np\u001b[38;5;241m.\u001b[39mrandom\u001b[38;5;241m.\u001b[39mrandint(\u001b[38;5;241m-\u001b[39m\u001b[38;5;241m650\u001b[39m, \u001b[38;5;241m650\u001b[39m), np\u001b[38;5;241m.\u001b[39mrandom\u001b[38;5;241m.\u001b[39mrandint(\u001b[38;5;241m-\u001b[39m\u001b[38;5;241m650\u001b[39m,\u001b[38;5;241m650\u001b[39m)) \u001b[38;5;28;01mfor\u001b[39;00m i \u001b[38;5;129;01min\u001b[39;00m \u001b[38;5;28mrange\u001b[39m(\u001b[38;5;241m200\u001b[39m)])\n",
      "\u001b[1;31mNameError\u001b[0m: name 'df' is not defined"
     ]
    }
   ],
   "source": [
    "df = df.append(CirclePoints(300,400,40))\n",
    "df = df.append(CirclePoints(500,700,60))\n",
    "df = df.append([(np.random.randint(-650, 650), np.random.randint(-650,650)) for i in range(200)])"
   ]
  },
  {
   "cell_type": "code",
   "execution_count": 10,
   "id": "a1ece953",
   "metadata": {},
   "outputs": [
    {
     "ename": "NameError",
     "evalue": "name 'df' is not defined",
     "output_type": "error",
     "traceback": [
      "\u001b[1;31m---------------------------------------------------------------------------\u001b[0m",
      "\u001b[1;31mNameError\u001b[0m                                 Traceback (most recent call last)",
      "Cell \u001b[1;32mIn[10], line 1\u001b[0m\n\u001b[1;32m----> 1\u001b[0m df\n",
      "\u001b[1;31mNameError\u001b[0m: name 'df' is not defined"
     ]
    }
   ],
   "source": [
    "df"
   ]
  },
  {
   "cell_type": "code",
   "execution_count": null,
   "id": "40e73eb1",
   "metadata": {},
   "outputs": [],
   "source": [
    "plt.scatter(df[0],df[1],s=10)"
   ]
  },
  {
   "cell_type": "code",
   "execution_count": null,
   "id": "dea6f9ef",
   "metadata": {},
   "outputs": [],
   "source": [
    "from sklearn.cluster import KMeans\n",
    "kmeans = KMeans(n_clusters=3)\n",
    "kmeans.fit(df[[0,1]])"
   ]
  },
  {
   "cell_type": "code",
   "execution_count": null,
   "id": "4c7b8489",
   "metadata": {},
   "outputs": [],
   "source": [
    "df[\"Kmeans\"]=kmeans.labels_"
   ]
  },
  {
   "cell_type": "code",
   "execution_count": null,
   "id": "a761bfef",
   "metadata": {},
   "outputs": [],
   "source": [
    "plt.figure(figsize=(8,8))\n",
    "plt.scatter(df[0],df[1], c=df(\"Kmeans\"))"
   ]
  },
  {
   "cell_type": "code",
   "execution_count": null,
   "id": "400b7630",
   "metadata": {},
   "outputs": [],
   "source": []
  },
  {
   "cell_type": "code",
   "execution_count": null,
   "id": "ed69d8f1",
   "metadata": {},
   "outputs": [],
   "source": []
  },
  {
   "cell_type": "code",
   "execution_count": null,
   "id": "b986f4e3",
   "metadata": {},
   "outputs": [],
   "source": []
  },
  {
   "cell_type": "code",
   "execution_count": null,
   "id": "53bc9460",
   "metadata": {},
   "outputs": [],
   "source": []
  }
 ],
 "metadata": {
  "kernelspec": {
   "display_name": "Python 3 (ipykernel)",
   "language": "python",
   "name": "python3"
  },
  "language_info": {
   "codemirror_mode": {
    "name": "ipython",
    "version": 3
   },
   "file_extension": ".py",
   "mimetype": "text/x-python",
   "name": "python",
   "nbconvert_exporter": "python",
   "pygments_lexer": "ipython3",
   "version": "3.11.5"
  }
 },
 "nbformat": 4,
 "nbformat_minor": 5
}
