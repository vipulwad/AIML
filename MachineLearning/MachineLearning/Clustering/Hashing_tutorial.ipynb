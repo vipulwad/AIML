{
  "cells": [
    {
      "cell_type": "markdown",
      "metadata": {
        "id": "5FRZPoMpREbw"
      },
      "source": [
        "# <center>Demo on Hashing</center>"
      ]
    },
    {
      "cell_type": "code",
      "source": [
        "! unzip YALE.zip"
      ],
      "metadata": {
        "id": "nIfZWPsNRhQN"
      },
      "execution_count": null,
      "outputs": []
    },
    {
      "source": [
        "## Import libraries and Load data"
      ],
      "cell_type": "markdown",
      "metadata": {
        "id": "iH4BL4quREby"
      }
    },
    {
      "cell_type": "code",
      "execution_count": 2,
      "metadata": {
        "id": "u44OOC8GREbz"
      },
      "outputs": [],
      "source": [
        "import os\n",
        "import numpy as np\n",
        "import matplotlib.image as mpimg\n",
        "import matplotlib.pyplot as plt"
      ]
    },
    {
      "cell_type": "code",
      "execution_count": 3,
      "metadata": {
        "id": "dZqGPVImREb0"
      },
      "outputs": [],
      "source": [
        "# Reading multiple images from a folder and storing it in a list.\n",
        "folder = \"/content/YALE\"\n",
        "images = []\n",
        "for file in os.listdir(folder):\n",
        "    img = mpimg.imread(os.path.join(folder, file))\n",
        "    if img is not None:\n",
        "        images.append(img)"
      ]
    },
    {
      "cell_type": "code",
      "source": [
        "len(images)"
      ],
      "metadata": {
        "id": "IYkSbtf-HwTO"
      },
      "execution_count": null,
      "outputs": []
    },
    {
      "cell_type": "code",
      "execution_count": 14,
      "metadata": {
        "id": "wZPcjSgQREb0"
      },
      "outputs": [],
      "source": [
        "# Vectorizing the images and storing it in a list\n",
        "image_vector = []\n",
        "for image in images:\n",
        "    row,col = image.shape\n",
        "    img_vec = image.reshape(row*col)\n",
        "    img_vec_norm = img_vec / np.linalg.norm(img_vec)  # Converting the image vector to a unit vector\n",
        "    image_vector.append(img_vec_norm)"
      ]
    },
    {
      "cell_type": "markdown",
      "metadata": {
        "id": "Gsa6q8YsREb1"
      },
      "source": [
        "# Locality Sensitive Hashing – Random Projections\n",
        "\n",
        "Locality-Sensitive Hashing (LSH) is a technique used in computer science and data mining to approximate and speed up the nearest neighbor search in high-dimensional spaces. It is particularly useful when dealing with large datasets and high-dimensional data, where traditional exact nearest neighbor search algorithms become computationally expensive.\n",
        "\n",
        "The main idea behind LSH is to hash data points in such a way that similar data points are more likely to be hashed to the same or nearby buckets, allowing for efficient approximate similarity search. LSH works on the principle that if two points are similar, they should collide or hash to the same bucket with high probability, but if they are dissimilar, they should collide with low probability.\n",
        "\n",
        "## Random Projections\n",
        "The core idea behind random projection is that if points in a vector space are of sufficiently high dimension, then they may be projected into a suitable lower-dimensional space in a way which approximately preserves the distances between the points.\n",
        "\n",
        "## Steps:\n",
        "1. Generate K random  unit vectors\n",
        "\n",
        "2. Perform dot product with unit vector and data. If result is greater then or equal to 0 generate 1 else 0. do this with all the K unit vectors.\n",
        "\n",
        "3. Concatenate all the bit values computed for k dot products. The sequence of 0's and 1's will be the hash.  \n"
      ]
    },
    {
      "cell_type": "code",
      "execution_count": 10,
      "metadata": {
        "id": "KP2pMOs4REb1"
      },
      "outputs": [],
      "source": [
        "def genRandomHashVectors(m, length):  # Generate random unit vectors for Hashing\n",
        "    hash_vector = []\n",
        "    for i in range(m):\n",
        "        v = np.random.uniform(-1,1,length)\n",
        "        vcap = v / np.linalg.norm(v)\n",
        "        hash_vector.append(vcap)\n",
        "    return hash_vector"
      ]
    },
    {
      "cell_type": "code",
      "execution_count": 11,
      "metadata": {
        "id": "qtQ7eVjSREb2"
      },
      "outputs": [],
      "source": [
        "def localSensitiveHashing(hash_vector ,data):\n",
        "    hash_code = []\n",
        "    for i in range(len(hash_vector)):\n",
        "        if np.dot(data,hash_vector[i]) > 0:\n",
        "            hash_code.append('1')\n",
        "        else:\n",
        "            hash_code.append('0')\n",
        "    return ''.join(hash_code)"
      ]
    },
    {
      "cell_type": "code",
      "source": [
        "x=['I', 'am', 'a', 'boy']\n",
        "''.join(x)"
      ],
      "metadata": {
        "colab": {
          "base_uri": "https://localhost:8080/",
          "height": 35
        },
        "id": "CIxleJmEMcXB",
        "outputId": "8a8e87a3-a688-41f1-f7cd-0edd7951aceb"
      },
      "execution_count": 12,
      "outputs": [
        {
          "output_type": "execute_result",
          "data": {
            "text/plain": [
              "'Iamaboy'"
            ],
            "application/vnd.google.colaboratory.intrinsic+json": {
              "type": "string"
            }
          },
          "metadata": {},
          "execution_count": 12
        }
      ]
    },
    {
      "cell_type": "code",
      "execution_count": 15,
      "metadata": {
        "id": "Ccik2jSXREb2"
      },
      "outputs": [],
      "source": [
        "hash_vector = genRandomHashVectors(20,len(image_vector[0]))"
      ]
    },
    {
      "cell_type": "code",
      "source": [
        "hash_vector"
      ],
      "metadata": {
        "id": "-Hc284chMuYX"
      },
      "execution_count": null,
      "outputs": []
    },
    {
      "cell_type": "code",
      "source": [
        "print(localSensitiveHashing(hash_vector,image_vector[0]))"
      ],
      "metadata": {
        "id": "SmCLwN8aMsWF"
      },
      "execution_count": null,
      "outputs": []
    },
    {
      "cell_type": "code",
      "execution_count": 21,
      "metadata": {
        "id": "wyY-IJ-MREb3"
      },
      "outputs": [],
      "source": [
        "# Creating a Image Dictionary using the hash as the keys\n",
        "image_dict = {}\n",
        "for i in range(len(image_vector)):\n",
        "    hash_code = localSensitiveHashing(hash_vector,image_vector[i])\n",
        "    if hash_code not in image_dict.keys():\n",
        "        image_dict[hash_code] = [i]\n",
        "    else:\n",
        "        image_dict[hash_code].append(i)"
      ]
    },
    {
      "cell_type": "code",
      "execution_count": 22,
      "metadata": {
        "id": "eHnGGdIPREb3"
      },
      "outputs": [],
      "source": [
        "# Getting the keys and values of the Dictionary\n",
        "keys = list(image_dict.keys())\n",
        "values = list(image_dict.values())"
      ]
    },
    {
      "cell_type": "code",
      "source": [
        "len(keys)"
      ],
      "metadata": {
        "colab": {
          "base_uri": "https://localhost:8080/"
        },
        "id": "UZO-cvdxPkzD",
        "outputId": "5abfa548-b0a4-4b5f-c841-7482a462ac0f"
      },
      "execution_count": 25,
      "outputs": [
        {
          "output_type": "execute_result",
          "data": {
            "text/plain": [
              "94"
            ]
          },
          "metadata": {},
          "execution_count": 25
        }
      ]
    },
    {
      "cell_type": "code",
      "source": [
        "values"
      ],
      "metadata": {
        "id": "k9sN9QQVPxF5"
      },
      "execution_count": null,
      "outputs": []
    },
    {
      "cell_type": "code",
      "execution_count": null,
      "metadata": {
        "id": "NsLZE_BtREb4"
      },
      "outputs": [],
      "source": [
        "print(image_dict)"
      ]
    },
    {
      "cell_type": "code",
      "execution_count": 36,
      "metadata": {
        "id": "4aHck11sREb4"
      },
      "outputs": [],
      "source": [
        "# Plotting images with same hash code\n",
        "def plotImages(images, img_indices):\n",
        "    imgs = [images[i] for i in range(len(images)) if i in img_indices]\n",
        "    fig = plt.figure()\n",
        "    cols = 2\n",
        "    n_images = len(imgs)\n",
        "    for n,image in zip(range(n_images),imgs):\n",
        "        ax = fig.add_subplot(cols, int(np.ceil(n_images/float(cols))), n + 1)\n",
        "        plt.gray()\n",
        "        plt.imshow(image)\n",
        "    fig.set_size_inches(np.array(fig.get_size_inches()) * n_images)\n",
        "    plt.show()"
      ]
    },
    {
      "cell_type": "code",
      "source": [
        "values[15]"
      ],
      "metadata": {
        "id": "dqL4MG4TRFrn"
      },
      "execution_count": null,
      "outputs": []
    },
    {
      "cell_type": "code",
      "execution_count": null,
      "metadata": {
        "id": "_JgXdRpeREb5"
      },
      "outputs": [],
      "source": [
        "plotImages(images, values[15])"
      ]
    },
    {
      "cell_type": "code",
      "source": [],
      "metadata": {
        "id": "V1OW1pspRINI"
      },
      "execution_count": null,
      "outputs": []
    }
  ],
  "metadata": {
    "kernelspec": {
      "display_name": "Python 3",
      "language": "python",
      "name": "python3"
    },
    "language_info": {
      "codemirror_mode": {
        "name": "ipython",
        "version": 3
      },
      "file_extension": ".py",
      "mimetype": "text/x-python",
      "name": "python",
      "nbconvert_exporter": "python",
      "pygments_lexer": "ipython3",
      "version": "3.8.3-final"
    },
    "colab": {
      "provenance": []
    }
  },
  "nbformat": 4,
  "nbformat_minor": 0
}