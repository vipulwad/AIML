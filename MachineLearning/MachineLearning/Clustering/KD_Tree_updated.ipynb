{
  "nbformat": 4,
  "nbformat_minor": 0,
  "metadata": {
    "colab": {
      "provenance": []
    },
    "kernelspec": {
      "name": "python3",
      "display_name": "Python 3"
    },
    "language_info": {
      "name": "python"
    }
  },
  "cells": [
    {
      "cell_type": "markdown",
      "source": [
        "# KDTree\n",
        "A KD-tree (K-dimensional tree) is a data structure used for organizing multidimensional points in a way that facilitates efficient spatial searching, nearest neighbor queries, and range queries. Here are the basic steps to construct and use a KD-tree:\n",
        "\n",
        "1. **Choose the dimension**: Decide on the dimension (K) of the KD-tree. This is the number of attributes or features in each data point.\n",
        "\n",
        "2. **Build the KD-tree**:\n",
        "   - **Select a split axis**: Choose one of the dimensions as the current splitting axis. Typically, you alternate dimensions at each level of the tree, cycling through dimensions 0 to (K-1).\n",
        "   - **Select a pivot**: Choose a pivot point for the current node. The choice of pivot can significantly impact the tree's performance. Common pivot selection methods include median-of-median or median-of-means.\n",
        "   - **Partition the data**: Split the data into two subsets based on the pivot and the current split axis. Points that have values less than the pivot on the current axis go to the left subtree, and those with values greater than or equal to the pivot go to the right subtree.\n",
        "   - **Recursively build subtrees**: Recursively build KD-trees for the left and right subsets of data, using the next dimension as the splitting axis.\n",
        "\n",
        "3. **Searching in a KD-tree**:\n",
        "\n",
        "   - **Nearest Neighbor Search**:\n",
        "     - Start at the root node.\n",
        "     - Traverse the tree, moving left or right at each level based on the current splitting axis, until you reach a leaf node.\n",
        "     - At each node you visit, check the distance between the query point and the current node's point.\n",
        "     - Keep track of the closest point found so far.\n",
        "     - After reaching a leaf node, backtrack up the tree, checking other subtrees if there could be points closer than the current closest point.\n",
        "     - Continue the search until you've checked all relevant subtrees.\n",
        "\n",
        "   - **Range Query**:\n",
        "     - Start at the root node.\n",
        "     - Traverse the tree, moving left or right at each level based on the current splitting axis, until you reach a leaf node.\n",
        "     - At each node, check if the range (e.g., a hyperrectangle) defined by the query intersects with the partition created by the current node. If it does, recursively search the subtrees of that node.\n",
        "     - Continue this process, visiting all relevant subtrees.\n",
        "\n",
        "4. **Balancing and Optimization**:\n",
        "   - To ensure the KD-tree remains balanced, you can use techniques like rebalancing or choosing good pivot selection strategies.\n",
        "   - There are variations and optimizations of KD-trees, such as KD-BTrees, that aim to improve performance for specific scenarios.\n",
        "\n",
        "Remember that constructing and using KD-trees efficiently can require careful consideration of the data, the pivot selection method, and the balancing strategy. While KD-trees are effective for certain types of spatial searching and nearest neighbor queries, they may not always be the best choice, and other data structures like Ball Trees or R-Trees might be more suitable depending on your specific application and data characteristics."
      ],
      "metadata": {
        "id": "mPGOnUI1Isy8"
      }
    },
    {
      "cell_type": "code",
      "source": [
        "from sklearn.neighbors import KDTree\n",
        "from sklearn.datasets import fetch_openml\n",
        "import numpy as np\n",
        "import matplotlib.pyplot as plt"
      ],
      "metadata": {
        "id": "3h-inBah6xg6"
      },
      "execution_count": 1,
      "outputs": []
    },
    {
      "cell_type": "code",
      "source": [
        "# Load MNIST dataset\n",
        "mnist = fetch_openml(\"mnist_784\")\n"
      ],
      "metadata": {
        "colab": {
          "base_uri": "https://localhost:8080/"
        },
        "id": "5xBjTI256xeB",
        "outputId": "9cad9a93-d1dd-4bdd-ea31-0a976551f982"
      },
      "execution_count": 2,
      "outputs": [
        {
          "output_type": "stream",
          "name": "stderr",
          "text": [
            "/usr/local/lib/python3.10/dist-packages/sklearn/datasets/_openml.py:968: FutureWarning: The default value of `parser` will change from `'liac-arff'` to `'auto'` in 1.4. You can set `parser='auto'` to silence this warning. Therefore, an `ImportError` will be raised from 1.4 if the dataset is dense and pandas is not installed. Note that the pandas parser may return different data types. See the Notes Section in fetch_openml's API doc for details.\n",
            "  warn(\n"
          ]
        }
      ]
    },
    {
      "cell_type": "code",
      "source": [
        "mnist.data"
      ],
      "metadata": {
        "id": "QLg42_c6bKmP"
      },
      "execution_count": null,
      "outputs": []
    },
    {
      "cell_type": "code",
      "source": [
        "X = mnist.data.astype(\"float32\")\n",
        "y = mnist.target.astype(\"int\")"
      ],
      "metadata": {
        "id": "ulqO53hsa1tN"
      },
      "execution_count": 12,
      "outputs": []
    },
    {
      "cell_type": "code",
      "source": [
        "\n",
        "# Split data into training and test sets\n",
        "X_train, X_test = X[:60000], X[60000:]\n",
        "y_train, y_test = y[:60000], y[60000:]"
      ],
      "metadata": {
        "id": "umS_1tmc61Pm"
      },
      "execution_count": null,
      "outputs": []
    },
    {
      "cell_type": "code",
      "source": [
        "x=X_train.iloc[54139, :].to_numpy()\n",
        "plt.imshow(x.reshape(28,28), cmap='gray')\n",
        "plt.title(y_train.iloc[54139])"
      ],
      "metadata": {
        "colab": {
          "base_uri": "https://localhost:8080/",
          "height": 469
        },
        "id": "CP30_iHU7aYy",
        "outputId": "f16d9570-afb9-4b19-9f3d-488a8c627a4e"
      },
      "execution_count": 17,
      "outputs": [
        {
          "output_type": "execute_result",
          "data": {
            "text/plain": [
              "Text(0.5, 1.0, '9')"
            ]
          },
          "metadata": {},
          "execution_count": 17
        },
        {
          "output_type": "display_data",
          "data": {
            "text/plain": [
              "<Figure size 640x480 with 1 Axes>"
            ],
            "image/png": "[encoded data removed]"
          },
          "metadata": {}
        }
      ]
    },
    {
      "cell_type": "code",
      "source": [
        "# Show 10 samples\n",
        "plt.figure(figsize=(12, 6))\n",
        "for i in range(10):\n",
        "    plt.subplot(2, 5, i + 1)\n",
        "    x=X_train.iloc[i, :].to_numpy()\n",
        "    plt.imshow(x.reshape(28,28), cmap=\"gray\")\n",
        "    # plt.imshow(X_train[i])\n",
        "    plt.title(f\"Label: {y_train[i]}\")\n",
        "    plt.axis('off')\n",
        "\n",
        "plt.show()"
      ],
      "metadata": {
        "colab": {
          "base_uri": "https://localhost:8080/",
          "height": 394
        },
        "id": "wSFpD4uR62lm",
        "outputId": "77b19889-4af1-49b8-977f-df277fa134ce"
      },
      "execution_count": 18,
      "outputs": [
        {
          "output_type": "display_data",
          "data": {
            "text/plain": [
              "<Figure size 1200x600 with 10 Axes>"
            ],
            "image/png": "[encoded data removed]"
          },
          "metadata": {}
        }
      ]
    },
    {
      "cell_type": "code",
      "source": [
        "import time\n",
        "# Build the KD-Tree\n",
        "kdtree = KDTree(X_train)\n",
        "\n"
      ],
      "metadata": {
        "id": "4KQgwSMNSdyf"
      },
      "execution_count": 19,
      "outputs": []
    },
    {
      "cell_type": "code",
      "source": [
        "# Choose a query image (you can change the index)\n",
        "id=np.random.randint(0,9999)\n",
        "print(id)\n",
        "query_image = X_test.iloc[id,:].to_numpy()\n",
        "# Display the query image\n",
        "plt.figure(figsize=(2, 2))\n",
        "plt.imshow(query_image.reshape(28, 28), cmap=\"gray\")\n",
        "plt.title(\"Query Image\")\n",
        "plt.axis(\"off\")\n",
        "plt.show()"
      ],
      "metadata": {
        "colab": {
          "base_uri": "https://localhost:8080/",
          "height": 230
        },
        "id": "_Qc175q182oy",
        "outputId": "f0399667-a8a8-4ce8-d8b9-e73045f3288d"
      },
      "execution_count": 48,
      "outputs": [
        {
          "output_type": "stream",
          "name": "stdout",
          "text": [
            "7026\n"
          ]
        },
        {
          "output_type": "display_data",
          "data": {
            "text/plain": [
              "<Figure size 200x200 with 1 Axes>"
            ],
            "image/png": "[encoded data removed]"
          },
          "metadata": {}
        }
      ]
    },
    {
      "cell_type": "code",
      "source": [
        "k_neighbors = 10  # Number of similar images to retrieve\n",
        "\n",
        "# Perform K-nearest neighbors search for the query image\n",
        "distances, indices = kdtree.query([query_image], k=k_neighbors)\n",
        "print(distances, indices)\n",
        "# Get the indices of the K-nearest neighbors\n",
        "neighbor_indices = indices[0]"
      ],
      "metadata": {
        "colab": {
          "base_uri": "https://localhost:8080/"
        },
        "id": "ECm3c4wD8ulm",
        "outputId": "b6db73ca-014b-40b1-8168-8fe22737043a"
      },
      "execution_count": 36,
      "outputs": [
        {
          "output_type": "stream",
          "name": "stdout",
          "text": [
            "[[ 931.23197969  993.21347152 1063.69168465 1122.18358569 1170.58660508\n",
            "  1181.92639365 1207.10314389 1241.0020145  1245.68214244 1257.2919311 ]] [[14148 23891 24495 23875 13411 31581 45721 48780 37787 49243]]\n"
          ]
        }
      ]
    },
    {
      "cell_type": "code",
      "source": [
        "# Display the top 10 similar images\n",
        "plt.figure(figsize=(12, 6))\n",
        "for i, neighbor_idx in enumerate(neighbor_indices):\n",
        "    plt.subplot(2, 5, i + 1)\n",
        "    x=X_train.iloc[neighbor_idx, :].to_numpy()\n",
        "    plt.imshow(x.reshape(28, 28), cmap=\"gray\")\n",
        "    plt.title(f\"Similar Image {i + 1} -- Label: {y_train[neighbor_idx]}\")\n",
        "    plt.axis(\"off\")\n",
        "\n",
        "plt.tight_layout()\n",
        "plt.show()"
      ],
      "metadata": {
        "id": "63Eah2qSevxF"
      },
      "execution_count": null,
      "outputs": []
    },
    {
      "cell_type": "markdown",
      "source": [
        "## Performance Evaluation"
      ],
      "metadata": {
        "id": "Ul9hWY5i_1Q9"
      }
    },
    {
      "cell_type": "code",
      "source": [
        "from sklearn.metrics import precision_score\n",
        "from tqdm import tqdm\n",
        "# Define a function to perform a KD-tree image search and calculate precision\n",
        "def search_and_calculate_precision(query_images, query_labels,y_train, k=10):\n",
        "    predicted_labels = []\n",
        "    true_labels = []\n",
        "    query_labels=query_labels.to_list()\n",
        "    for i, query_image in tqdm(enumerate(query_images)):\n",
        "        # Perform a KD-tree query to find the k-nearest neighbors\n",
        "        distances, indices = kdtree.query([query_image], k=k)\n",
        "        # print(i)\n",
        "        # Get the labels of the k-nearest neighbors\n",
        "        neighbor_labels = [y_train[idx] for idx in indices[0]]\n",
        "        # print('neighbor_labels ',neighbor_labels)\n",
        "        # Predict the label based on the majority class among neighbors\n",
        "        # print('bincount ',np.bincount(neighbor_labels))\n",
        "        predicted_label = np.argmax(np.bincount(neighbor_labels))\n",
        "        # print('predicted_label ',predicted_label)\n",
        "        predicted_labels.append(predicted_label)\n",
        "        true_labels.append(query_labels[i])\n",
        "        # if i==20:\n",
        "        #   break\n",
        "    # Calculate precision\n",
        "    precision = precision_score(true_labels, predicted_labels, average='micro')\n",
        "\n",
        "    return precision"
      ],
      "metadata": {
        "id": "An86dW3tf-Wy"
      },
      "execution_count": 52,
      "outputs": []
    },
    {
      "cell_type": "code",
      "source": [
        "precision = search_and_calculate_precision(X_test.to_numpy()[:100], y_test,y_train, k=10)"
      ],
      "metadata": {
        "colab": {
          "base_uri": "https://localhost:8080/"
        },
        "id": "KzWV164Z-qF_",
        "outputId": "0df6d609-6c9b-44d2-a6ab-9c184e0f3b03"
      },
      "execution_count": 55,
      "outputs": [
        {
          "output_type": "stream",
          "name": "stderr",
          "text": [
            "100it [00:13,  7.50it/s]\n"
          ]
        }
      ]
    },
    {
      "cell_type": "code",
      "source": [
        "precision"
      ],
      "metadata": {
        "id": "xnGPY1Rc-qBs",
        "colab": {
          "base_uri": "https://localhost:8080/"
        },
        "outputId": "e6e9eaa2-2a87-42f9-fb28-45bf3a9ea90c"
      },
      "execution_count": 56,
      "outputs": [
        {
          "output_type": "execute_result",
          "data": {
            "text/plain": [
              "0.96"
            ]
          },
          "metadata": {},
          "execution_count": 56
        }
      ]
    },
    {
      "cell_type": "code",
      "source": [],
      "metadata": {
        "id": "LQOWioZh-p9H"
      },
      "execution_count": null,
      "outputs": []
    },
    {
      "cell_type": "markdown",
      "source": [
        "## PCA & K-D Tree"
      ],
      "metadata": {
        "id": "_zJSkfo4AfHu"
      }
    },
    {
      "cell_type": "code",
      "source": [
        "from sklearn.neighbors import KDTree\n",
        "from sklearn.datasets import fetch_openml\n",
        "from sklearn.decomposition import PCA\n",
        "from sklearn.preprocessing import StandardScaler\n",
        "import numpy as np\n",
        "import matplotlib.pyplot as plt"
      ],
      "metadata": {
        "id": "WdD4doANAxIn"
      },
      "execution_count": null,
      "outputs": []
    },
    {
      "cell_type": "code",
      "source": [
        "# Load MNIST dataset\n",
        "mnist = fetch_openml(\"mnist_784\")\n",
        "X = mnist.data.astype(\"float32\")\n",
        "y = mnist.target.astype(\"int\")"
      ],
      "metadata": {
        "colab": {
          "base_uri": "https://localhost:8080/"
        },
        "id": "iF7S6tiEAxGT",
        "outputId": "b0ed227d-e494-40e3-8b7c-f1408aa3095d"
      },
      "execution_count": null,
      "outputs": [
        {
          "output_type": "stream",
          "name": "stderr",
          "text": [
            "/usr/local/lib/python3.10/dist-packages/sklearn/datasets/_openml.py:968: FutureWarning: The default value of `parser` will change from `'liac-arff'` to `'auto'` in 1.4. You can set `parser='auto'` to silence this warning. Therefore, an `ImportError` will be raised from 1.4 if the dataset is dense and pandas is not installed. Note that the pandas parser may return different data types. See the Notes Section in fetch_openml's API doc for details.\n",
            "  warn(\n"
          ]
        }
      ]
    },
    {
      "cell_type": "code",
      "source": [
        "# Split data into training and test sets\n",
        "X_train, X_test = X[:60000], X[60000:]\n",
        "y_train, y_test = y[:60000], y[60000:]"
      ],
      "metadata": {
        "id": "qON18VNnAxDW"
      },
      "execution_count": null,
      "outputs": []
    },
    {
      "cell_type": "markdown",
      "source": [
        "### StandardScaler\n",
        "StandardScaler in sklearn is a class that is used to standardize features by removing the mean and scaling to unit variance. StandardScaler works by first calculating the mean and standard deviation of each feature in the training set. These values are then stored and used to transform the test set. The transformation process simply subtracts the mean from each feature and then divides it by the standard deviation. This results in a new set of features that have a mean of zero and a standard deviation of one."
      ],
      "metadata": {
        "id": "3rxRs7cKBaBx"
      }
    },
    {
      "cell_type": "code",
      "source": [
        "# Standardize the data\n",
        "scaler = StandardScaler()\n",
        "X_train_scaled = scaler.fit_transform(X_train)\n",
        "X_test_scaled = scaler.transform(X_test)"
      ],
      "metadata": {
        "id": "_KHhHDGoAxAW"
      },
      "execution_count": null,
      "outputs": []
    },
    {
      "cell_type": "code",
      "source": [
        "# Apply PCA for dimensionality reduction\n",
        "n_components = 50  # Adjust the number of components as needed 784 to 50\n",
        "pca = PCA(n_components=n_components)\n",
        "X_train_pca = pca.fit_transform(X_train_scaled)\n",
        "X_test_pca = pca.transform(X_test_scaled)"
      ],
      "metadata": {
        "id": "2-YQGe_8BC1v"
      },
      "execution_count": null,
      "outputs": []
    },
    {
      "cell_type": "code",
      "source": [
        "# Build the KD-Tree with reduced-dimensional data\n",
        "kdtree = KDTree(X_train_pca)"
      ],
      "metadata": {
        "id": "cSeQd6SbCGe8"
      },
      "execution_count": null,
      "outputs": []
    },
    {
      "cell_type": "code",
      "source": [
        "# Choose a query image (you can change the index)\n",
        "query_image = X_test_pca[0]\n",
        "test_image=X_test.iloc[0,:].to_numpy()\n",
        "k_neighbors = 10  # Number of similar images to retrieve\n",
        "\n",
        "plt.figure(figsize=(2, 2))\n",
        "plt.imshow(test_image.reshape(28, 28), cmap=\"gray\")\n",
        "plt.title(\"Query Image\")\n",
        "plt.axis(\"off\")\n",
        "plt.show()"
      ],
      "metadata": {
        "colab": {
          "base_uri": "https://localhost:8080/",
          "height": 213
        },
        "id": "NkPGmGGjC61B",
        "outputId": "e923e61c-42b5-48dc-c46a-70f7ca7e00ce"
      },
      "execution_count": null,
      "outputs": [
        {
          "output_type": "display_data",
          "data": {
            "text/plain": [
              "<Figure size 200x200 with 1 Axes>"
            ],
            "image/png": "[encoded data removed]"
          },
          "metadata": {}
        }
      ]
    },
    {
      "cell_type": "code",
      "source": [
        "# Perform K-nearest neighbors search for the query image\n",
        "distances, indices = kdtree.query([query_image], k=k_neighbors)\n",
        "\n",
        "# Map indices back to the original high-dimensional space\n",
        "neighbor_indices = indices[0]\n",
        "\n",
        "# Display the query image\n",
        "# plt.figure(figsize=(2, 2))\n",
        "# plt.imshow(query_image, cmap=\"gray\")\n",
        "# plt.title(\"Query Image (PCA)\")\n",
        "# plt.axis(\"off\")\n",
        "# plt.show()\n",
        "\n",
        "# Display the top 10 similar images\n",
        "plt.figure(figsize=(12, 6))\n",
        "for i, neighbor_idx in enumerate(neighbor_indices):\n",
        "    plt.subplot(2, 5, i + 1)\n",
        "    x=X_train.iloc[neighbor_idx, :].to_numpy()\n",
        "    plt.imshow(x.reshape(28, 28), cmap=\"gray\")\n",
        "    plt.title(f\"Similar Image {i + 1} -- Label: {y_train[neighbor_idx]}\")\n",
        "    plt.axis(\"off\")\n",
        "\n",
        "plt.tight_layout()\n",
        "plt.show()\n"
      ],
      "metadata": {
        "colab": {
          "base_uri": "https://localhost:8080/",
          "height": 560
        },
        "id": "dW0a0WvpsjRm",
        "outputId": "19bf6a21-f99f-4b5c-9bea-86e9758b6abe"
      },
      "execution_count": null,
      "outputs": [
        {
          "output_type": "display_data",
          "data": {
            "text/plain": [
              "<Figure size 1200x600 with 10 Axes>"
            ],
            "image/png": "[encoded data removed]"
          },
          "metadata": {}
        }
      ]
    },
    {
      "cell_type": "code",
      "source": [],
      "metadata": {
        "id": "wtxw5ZIKI0A5"
      },
      "execution_count": null,
      "outputs": []
    },
    {
      "cell_type": "code",
      "source": [
        "X_test_pca.shape, y_test.shape"
      ],
      "metadata": {
        "colab": {
          "base_uri": "https://localhost:8080/"
        },
        "id": "K9Q4dM4tJVoQ",
        "outputId": "e54eccc9-b69d-49cd-d79e-e015a0d9b1b1"
      },
      "execution_count": null,
      "outputs": [
        {
          "output_type": "execute_result",
          "data": {
            "text/plain": [
              "((10000, 50), (10000,))"
            ]
          },
          "metadata": {},
          "execution_count": 74
        }
      ]
    },
    {
      "cell_type": "code",
      "source": [
        "precision = search_and_calculate_precision(X_test_pca, y_test,y_train, k=10)"
      ],
      "metadata": {
        "id": "SXn_-CooI18n"
      },
      "execution_count": null,
      "outputs": []
    },
    {
      "cell_type": "code",
      "source": [
        "precision"
      ],
      "metadata": {
        "colab": {
          "base_uri": "https://localhost:8080/"
        },
        "id": "NgU8gwgvKpi3",
        "outputId": "23455b16-e449-4cf1-eb5e-b799d01f4f6a"
      },
      "execution_count": null,
      "outputs": [
        {
          "output_type": "execute_result",
          "data": {
            "text/plain": [
              "0.9556"
            ]
          },
          "metadata": {},
          "execution_count": 76
        }
      ]
    },
    {
      "cell_type": "markdown",
      "source": [
        "## KDTree With different disnce meansures"
      ],
      "metadata": {
        "id": "dHskyiakEb1G"
      }
    },
    {
      "cell_type": "code",
      "source": [
        "import numpy as np\n",
        "\n",
        "# def custom_distance(x, y):\n",
        "#     # Define your custom distance calculation here\n",
        "#     return np.sum(np.abs(x - y))  # Manhattan distance as an example\n",
        "# # Create a wrapper function that conforms to the expected signature\n",
        "# def custom_distance_wrapper(x, y):\n",
        "#     return custom_distance(x, y)\n",
        "\n",
        "# Using a built-in distance metric (e.g., Euclidean)\n",
        "kdtree_euclidean = KDTree(X_train_pca, metric='euclidean')\n",
        "\n",
        "# Using a different built-in distance metric (e.g., Manhattan)\n",
        "kdtree_manhattan = KDTree(X_train_pca, metric='manhattan')\n",
        "\n",
        "# Using a custom distance metric\n",
        "# kdtree_custom = KDTree(X_train_pca, metric=custom_distance)\n",
        "distances, indices = kdtree_euclidean.query([query_image], k=k_neighbors)\n",
        "\n",
        "distances, indices = kdtree_manhattan.query([query_image], k=k_neighbors)"
      ],
      "metadata": {
        "id": "Mn9mFIyuEZcQ"
      },
      "execution_count": null,
      "outputs": []
    },
    {
      "cell_type": "code",
      "source": [],
      "metadata": {
        "id": "woAciFQ8EZZl"
      },
      "execution_count": null,
      "outputs": []
    },
    {
      "cell_type": "code",
      "source": [],
      "metadata": {
        "colab": {
          "base_uri": "https://localhost:8080/",
          "height": 331
        },
        "id": "T8CBqVtKEZXG",
        "outputId": "0e241a52-7cb3-4fd2-c05e-d91d0bf383cd"
      },
      "execution_count": null,
      "outputs": [
        {
          "output_type": "error",
          "ename": "ValueError",
          "evalue": "ignored",
          "traceback": [
            "\u001b[0;31m---------------------------------------------------------------------------\u001b[0m",
            "\u001b[0;31mValueError\u001b[0m                                Traceback (most recent call last)",
            "\u001b[0;32m<ipython-input-54-dd7bc7762b3d>\u001b[0m in \u001b[0;36m<cell line: 1>\u001b[0;34m()\u001b[0m\n\u001b[0;32m----> 1\u001b[0;31m \u001b[0mprecision\u001b[0m \u001b[0;34m=\u001b[0m \u001b[0msearch_and_calculate_precision\u001b[0m\u001b[0;34m(\u001b[0m\u001b[0mX_test_scaled\u001b[0m\u001b[0;34m,\u001b[0m \u001b[0my_test\u001b[0m\u001b[0;34m,\u001b[0m \u001b[0mk\u001b[0m\u001b[0;34m=\u001b[0m\u001b[0;36m10\u001b[0m\u001b[0;34m)\u001b[0m\u001b[0;34m\u001b[0m\u001b[0;34m\u001b[0m\u001b[0m\n\u001b[0m",
            "\u001b[0;32m<ipython-input-50-3dc1c2b28e72>\u001b[0m in \u001b[0;36msearch_and_calculate_precision\u001b[0;34m(query_images, query_labels, k)\u001b[0m\n\u001b[1;32m      7\u001b[0m     \u001b[0;32mfor\u001b[0m \u001b[0mi\u001b[0m\u001b[0;34m,\u001b[0m \u001b[0mquery_image\u001b[0m \u001b[0;32min\u001b[0m \u001b[0menumerate\u001b[0m\u001b[0;34m(\u001b[0m\u001b[0mquery_images\u001b[0m\u001b[0;34m)\u001b[0m\u001b[0;34m:\u001b[0m\u001b[0;34m\u001b[0m\u001b[0;34m\u001b[0m\u001b[0m\n\u001b[1;32m      8\u001b[0m         \u001b[0;31m# Perform a KD-tree query to find the k-nearest neighbors\u001b[0m\u001b[0;34m\u001b[0m\u001b[0;34m\u001b[0m\u001b[0m\n\u001b[0;32m----> 9\u001b[0;31m         \u001b[0mdistances\u001b[0m\u001b[0;34m,\u001b[0m \u001b[0mindices\u001b[0m \u001b[0;34m=\u001b[0m \u001b[0mkdtree\u001b[0m\u001b[0;34m.\u001b[0m\u001b[0mquery\u001b[0m\u001b[0;34m(\u001b[0m\u001b[0;34m[\u001b[0m\u001b[0mquery_image\u001b[0m\u001b[0;34m]\u001b[0m\u001b[0;34m,\u001b[0m \u001b[0mk\u001b[0m\u001b[0;34m=\u001b[0m\u001b[0mk\u001b[0m\u001b[0;34m)\u001b[0m\u001b[0;34m\u001b[0m\u001b[0;34m\u001b[0m\u001b[0m\n\u001b[0m\u001b[1;32m     10\u001b[0m \u001b[0;34m\u001b[0m\u001b[0m\n\u001b[1;32m     11\u001b[0m         \u001b[0;31m# Get the labels of the k-nearest neighbors\u001b[0m\u001b[0;34m\u001b[0m\u001b[0;34m\u001b[0m\u001b[0m\n",
            "\u001b[0;32msklearn/neighbors/_binary_tree.pxi\u001b[0m in \u001b[0;36msklearn.neighbors._kd_tree.BinaryTree.query\u001b[0;34m()\u001b[0m\n",
            "\u001b[0;31mValueError\u001b[0m: query data dimension must match training data dimension"
          ]
        }
      ]
    },
    {
      "cell_type": "code",
      "source": [],
      "metadata": {
        "id": "yITSQcW8EZTp"
      },
      "execution_count": null,
      "outputs": []
    },
    {
      "cell_type": "code",
      "source": [],
      "metadata": {
        "id": "KL979ssPEZQb"
      },
      "execution_count": null,
      "outputs": []
    },
    {
      "cell_type": "code",
      "source": [],
      "metadata": {
        "id": "uBX_AQ42EZNg"
      },
      "execution_count": null,
      "outputs": []
    },
    {
      "cell_type": "code",
      "source": [],
      "metadata": {
        "id": "DeQZ_ofXs9YC"
      },
      "execution_count": null,
      "outputs": []
    },
    {
      "cell_type": "code",
      "execution_count": null,
      "metadata": {
        "colab": {
          "base_uri": "https://localhost:8080/"
        },
        "id": "zGMFqqa5Salf",
        "outputId": "72d2253f-e65c-42a6-a090-d064563c8055"
      },
      "outputs": [
        {
          "output_type": "stream",
          "name": "stdout",
          "text": [
            "(7, 16)\n",
            "  (2, 6)\n",
            "    (4, 3)\n",
            "      (1, 0)\n",
            "    (7, 7)\n",
            "      (0, 8)\n",
            "  (20, 3)\n",
            "    (19, 0)\n",
            "      (17, 2)\n",
            "    (18, 13)\n"
          ]
        }
      ],
      "source": [
        "import random\n",
        "\n",
        "class Node:\n",
        "    def __init__(self, point, left=None, right=None):\n",
        "        self.point = point\n",
        "        self.left = left\n",
        "        self.right = right\n",
        "\n",
        "def build_kdtree(points, depth=0):\n",
        "    if not points:\n",
        "        return None\n",
        "\n",
        "    k = len(points[0])  # Number of dimensions\n",
        "    axis = depth % k\n",
        "\n",
        "    points.sort(key=lambda point: point[axis])\n",
        "    median_idx = len(points) // 2\n",
        "    median = points[median_idx]\n",
        "\n",
        "    left_subtree = build_kdtree(points[:median_idx], depth + 1)\n",
        "    right_subtree = build_kdtree(points[median_idx + 1:], depth + 1)\n",
        "\n",
        "    return Node(median, left_subtree, right_subtree)\n",
        "\n",
        "def print_kdtree(node, level=0):\n",
        "    if node is not None:\n",
        "        print(\"  \" * level + str(node.point))\n",
        "        print_kdtree(node.left, level + 1)\n",
        "        print_kdtree(node.right, level + 1)\n",
        "\n",
        "# Generate random 2D points\n",
        "random.seed(42)\n",
        "points = [(random.randint(0, 20), random.randint(0, 20)) for _ in range(10)]\n",
        "\n",
        "# Build and print the k-d tree\n",
        "kdtree = build_kdtree(points)\n",
        "print_kdtree(kdtree)\n"
      ]
    },
    {
      "cell_type": "code",
      "source": [],
      "metadata": {
        "id": "B7WO8Mry5BlC"
      },
      "execution_count": null,
      "outputs": []
    },
    {
      "cell_type": "code",
      "source": [],
      "metadata": {
        "id": "9y3DGD5W5Bhr"
      },
      "execution_count": null,
      "outputs": []
    },
    {
      "cell_type": "markdown",
      "source": [],
      "metadata": {
        "id": "tVQqh-r7Issv"
      }
    }
  ]
}