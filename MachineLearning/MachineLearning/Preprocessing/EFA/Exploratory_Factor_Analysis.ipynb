{
 "cells": [
  {
   "cell_type": "markdown",
   "metadata": {},
   "source": [
    "# Import the necessary libaries"
   ]
  },
  {
   "cell_type": "code",
   "execution_count": 1,
   "metadata": {},
   "outputs": [],
   "source": [
    "import numpy as np\n",
    "import matplotlib.pyplot as plt\n",
    "import pandas as pd\n",
    "import seaborn as sns"
   ]
  },
  {
   "cell_type": "markdown",
   "metadata": {},
   "source": [
    "**Generate the dataframe from the excel file**"
   ]
  },
  {
   "cell_type": "code",
   "execution_count": 3,
   "metadata": {},
   "outputs": [
    {
     "data": {
      "text/html": [
       "<div>\n",
       "<style scoped>\n",
       "    .dataframe tbody tr th:only-of-type {\n",
       "        vertical-align: middle;\n",
       "    }\n",
       "\n",
       "    .dataframe tbody tr th {\n",
       "        vertical-align: top;\n",
       "    }\n",
       "\n",
       "    .dataframe thead th {\n",
       "        text-align: right;\n",
       "    }\n",
       "</style>\n",
       "<table border=\"1\" class=\"dataframe\">\n",
       "  <thead>\n",
       "    <tr style=\"text-align: right;\">\n",
       "      <th></th>\n",
       "      <th>cost</th>\n",
       "      <th>size</th>\n",
       "      <th>alcohol</th>\n",
       "      <th>reputat</th>\n",
       "      <th>color</th>\n",
       "      <th>aroma</th>\n",
       "      <th>taste</th>\n",
       "      <th>rnd1</th>\n",
       "      <th>rnd2</th>\n",
       "      <th>rnd3</th>\n",
       "      <th>rnd4</th>\n",
       "      <th>rnd5</th>\n",
       "      <th>rnd6</th>\n",
       "      <th>rnd7</th>\n",
       "    </tr>\n",
       "  </thead>\n",
       "  <tbody>\n",
       "    <tr>\n",
       "      <th>0</th>\n",
       "      <td>10</td>\n",
       "      <td>15</td>\n",
       "      <td>20</td>\n",
       "      <td>85</td>\n",
       "      <td>40</td>\n",
       "      <td>30</td>\n",
       "      <td>50</td>\n",
       "      <td>40</td>\n",
       "      <td>80</td>\n",
       "      <td>65</td>\n",
       "      <td>25</td>\n",
       "      <td>90</td>\n",
       "      <td>45</td>\n",
       "      <td>40</td>\n",
       "    </tr>\n",
       "    <tr>\n",
       "      <th>1</th>\n",
       "      <td>100</td>\n",
       "      <td>70</td>\n",
       "      <td>50</td>\n",
       "      <td>30</td>\n",
       "      <td>75</td>\n",
       "      <td>60</td>\n",
       "      <td>80</td>\n",
       "      <td>70</td>\n",
       "      <td>55</td>\n",
       "      <td>45</td>\n",
       "      <td>25</td>\n",
       "      <td>95</td>\n",
       "      <td>95</td>\n",
       "      <td>60</td>\n",
       "    </tr>\n",
       "    <tr>\n",
       "      <th>2</th>\n",
       "      <td>65</td>\n",
       "      <td>30</td>\n",
       "      <td>35</td>\n",
       "      <td>80</td>\n",
       "      <td>80</td>\n",
       "      <td>60</td>\n",
       "      <td>90</td>\n",
       "      <td>45</td>\n",
       "      <td>90</td>\n",
       "      <td>65</td>\n",
       "      <td>90</td>\n",
       "      <td>20</td>\n",
       "      <td>95</td>\n",
       "      <td>35</td>\n",
       "    </tr>\n",
       "    <tr>\n",
       "      <th>3</th>\n",
       "      <td>0</td>\n",
       "      <td>0</td>\n",
       "      <td>20</td>\n",
       "      <td>30</td>\n",
       "      <td>80</td>\n",
       "      <td>90</td>\n",
       "      <td>100</td>\n",
       "      <td>85</td>\n",
       "      <td>30</td>\n",
       "      <td>45</td>\n",
       "      <td>85</td>\n",
       "      <td>40</td>\n",
       "      <td>80</td>\n",
       "      <td>5</td>\n",
       "    </tr>\n",
       "    <tr>\n",
       "      <th>4</th>\n",
       "      <td>10</td>\n",
       "      <td>25</td>\n",
       "      <td>10</td>\n",
       "      <td>100</td>\n",
       "      <td>50</td>\n",
       "      <td>40</td>\n",
       "      <td>60</td>\n",
       "      <td>20</td>\n",
       "      <td>5</td>\n",
       "      <td>25</td>\n",
       "      <td>25</td>\n",
       "      <td>20</td>\n",
       "      <td>25</td>\n",
       "      <td>80</td>\n",
       "    </tr>\n",
       "  </tbody>\n",
       "</table>\n",
       "</div>"
      ],
      "text/plain": [
       "   cost  size  alcohol  reputat  color  aroma  taste  rnd1  rnd2  rnd3  rnd4  \\\n",
       "0    10    15       20       85     40     30     50    40    80    65    25   \n",
       "1   100    70       50       30     75     60     80    70    55    45    25   \n",
       "2    65    30       35       80     80     60     90    45    90    65    90   \n",
       "3     0     0       20       30     80     90    100    85    30    45    85   \n",
       "4    10    25       10      100     50     40     60    20     5    25    25   \n",
       "\n",
       "   rnd5  rnd6  rnd7  \n",
       "0    90    45    40  \n",
       "1    95    95    60  \n",
       "2    20    95    35  \n",
       "3    40    80     5  \n",
       "4    20    25    80  "
      ]
     },
     "execution_count": 3,
     "metadata": {},
     "output_type": "execute_result"
    }
   ],
   "source": [
    "df = pd.read_excel(\"beer_rnd.xlsx\")\n",
    "df.head()"
   ]
  },
  {
   "cell_type": "markdown",
   "metadata": {},
   "source": [
    "**Find $\\tilde{x}_{n}$ from $x_{n}$**"
   ]
  },
  {
   "cell_type": "code",
   "execution_count": 4,
   "metadata": {},
   "outputs": [
    {
     "name": "stdout",
     "output_type": "stream",
     "text": [
      "(14, 99)\n"
     ]
    }
   ],
   "source": [
    "x = df.values\n",
    "x_mean = np.mean(x,axis=0)\n",
    "x_n = x - np.matrix(x_mean)\n",
    "x_n = x_n.T ## Converts row vectors to column vectors\n",
    "print(x_n.shape)"
   ]
  },
  {
   "cell_type": "code",
   "execution_count": 5,
   "metadata": {},
   "outputs": [],
   "source": [
    "C1 = np.cov(x_n)\n",
    "eig_val,eig_vec = np.linalg.eig(C1)\n",
    "\n",
    "C2 = np.corrcoef(x_n)## Corr(x,y) = Cov(x,y)/sqrt(Var(x)*Var(y))"
   ]
  },
  {
   "cell_type": "code",
   "execution_count": 6,
   "metadata": {},
   "outputs": [
    {
     "data": {
      "image/png": "[encoded data removed]",
      "text/plain": [
       "<Figure size 432x288 with 2 Axes>"
      ]
     },
     "metadata": {
      "needs_background": "light"
     },
     "output_type": "display_data"
    }
   ],
   "source": [
    "ax = sns.heatmap(C2,cmap='Blues')"
   ]
  },
  {
   "cell_type": "markdown",
   "metadata": {},
   "source": [
    "**Extract the eigen vectors and eigen values**"
   ]
  },
  {
   "cell_type": "code",
   "execution_count": 7,
   "metadata": {},
   "outputs": [
    {
     "name": "stdout",
     "output_type": "stream",
     "text": [
      "[array([ 0.70193013,  0.37201503,  0.2725436 , -0.32948115,  0.26089232,\n",
      "        0.14239528,  0.14929638,  0.1630631 , -0.02522316,  0.08848518,\n",
      "        0.17821216,  0.01762618, -0.01281384, -0.09022515]), array([ 0.28861251,  0.31249978,  0.06952238,  0.41877894, -0.30882442,\n",
      "       -0.41533076, -0.37304177,  0.33366758, -0.0672483 , -0.10673324,\n",
      "       -0.3129719 ,  0.03056463,  0.0527614 , -0.05373518])]\n",
      "[1616.526262726835, 1338.8130361055867]\n"
     ]
    }
   ],
   "source": [
    "eig_sorted = np.sort(eig_val)[::-1]\n",
    "arg_sort = np.argsort(eig_val)[::-1]\n",
    "\n",
    "eig_vec_ls = []\n",
    "eig_val_ls = []\n",
    "imp_vec = arg_sort[:2]\n",
    "for i in imp_vec:\n",
    "    e_1 = eig_vec[:,i]\n",
    "    lambda_1 = eig_val[i]\n",
    "    eig_vec_ls.append(e_1)\n",
    "    eig_val_ls.append(lambda_1)\n",
    "print(eig_vec_ls)\n",
    "print(eig_val_ls)"
   ]
  },
  {
   "cell_type": "markdown",
   "metadata": {},
   "source": [
    "**Estimate V**"
   ]
  },
  {
   "cell_type": "code",
   "execution_count": 8,
   "metadata": {},
   "outputs": [
    {
     "name": "stdout",
     "output_type": "stream",
     "text": [
      "[[ 28.22183629  10.56027235]\n",
      " [ 14.95725385  11.43430264]\n",
      " [ 10.95790115   2.54380952]\n",
      " [-13.24713481  15.32303516]\n",
      " [ 10.48944915 -11.29982209]\n",
      " [  5.72515136 -15.19686717]\n",
      " [  6.00261733 -13.64952169]\n",
      " [  6.55612267  12.20882815]\n",
      " [ -1.01412339  -2.46060145]\n",
      " [  3.55763937  -3.90534714]\n",
      " [  7.16520659 -11.45157729]\n",
      " [  0.70867892   1.11835357]\n",
      " [ -0.51519401   1.93052865]\n",
      " [ -3.62759658  -1.96615922]]\n"
     ]
    }
   ],
   "source": [
    "eig_val_arr  = np.array(eig_val_ls)\n",
    "lambda_1 = np.diag(eig_val_arr)\n",
    "eig_vec_mat = np.matrix(eig_vec_ls).T\n",
    "V = eig_vec_mat@np.sqrt(lambda_1)\n",
    "print(V)"
   ]
  },
  {
   "cell_type": "markdown",
   "metadata": {},
   "source": [
    "**Compute $\\sigma^{2}_{i}, i=0,1,2,...13$ and estimate S**"
   ]
  },
  {
   "cell_type": "code",
   "execution_count": 9,
   "metadata": {},
   "outputs": [
    {
     "name": "stdout",
     "output_type": "stream",
     "text": [
      "[[ 64.84811057   0.           0.           0.           0.\n",
      "    0.           0.           0.           0.           0.\n",
      "    0.           0.           0.           0.        ]\n",
      " [  0.          51.71011986   0.           0.           0.\n",
      "    0.           0.           0.           0.           0.\n",
      "    0.           0.           0.           0.        ]\n",
      " [  0.           0.          22.21886762   0.           0.\n",
      "    0.           0.           0.           0.           0.\n",
      "    0.           0.           0.           0.        ]\n",
      " [  0.           0.           0.         253.2982598    0.\n",
      "    0.           0.           0.           0.           0.\n",
      "    0.           0.           0.           0.        ]\n",
      " [  0.           0.           0.           0.          88.82868724\n",
      "    0.           0.           0.           0.           0.\n",
      "    0.           0.           0.           0.        ]\n",
      " [  0.           0.           0.           0.           0.\n",
      "  123.93219113   0.           0.           0.           0.\n",
      "    0.           0.           0.           0.        ]\n",
      " [  0.           0.           0.           0.           0.\n",
      "    0.          74.57272303   0.           0.           0.\n",
      "    0.           0.           0.           0.        ]\n",
      " [  0.           0.           0.           0.           0.\n",
      "    0.           0.         633.83157994   0.           0.\n",
      "    0.           0.           0.           0.        ]\n",
      " [  0.           0.           0.           0.           0.\n",
      "    0.           0.           0.         765.8279217    0.\n",
      "    0.           0.           0.           0.        ]\n",
      " [  0.           0.           0.           0.           0.\n",
      "    0.           0.           0.           0.         642.03841\n",
      "    0.           0.           0.           0.        ]\n",
      " [  0.           0.           0.           0.           0.\n",
      "    0.           0.           0.           0.           0.\n",
      "  581.38712429   0.           0.           0.        ]\n",
      " [  0.           0.           0.           0.           0.\n",
      "    0.           0.           0.           0.           0.\n",
      "    0.         665.14329455   0.           0.        ]\n",
      " [  0.           0.           0.           0.           0.\n",
      "    0.           0.           0.           0.           0.\n",
      "    0.           0.         882.83550896   0.        ]\n",
      " [  0.           0.           0.           0.           0.\n",
      "    0.           0.           0.           0.           0.\n",
      "    0.           0.           0.         826.32237855]]\n"
     ]
    }
   ],
   "source": [
    "var_ls = []\n",
    "x_var = np.var(x_n,axis=1)\n",
    "x_var = np.ravel(x_var)\n",
    "\n",
    "for i in range(V.shape[0]):\n",
    "    s = np.sum(np.square(np.ravel(V[i,:])))\n",
    "    sig_2 = x_var[i] - s\n",
    "    var_ls.append(sig_2)\n",
    "var_ls = np.array(var_ls)\n",
    "S = np.diag(var_ls)\n",
    "print(S)"
   ]
  },
  {
   "cell_type": "markdown",
   "metadata": {},
   "source": [
    "**Dimensionality reduction transformation**"
   ]
  },
  {
   "cell_type": "code",
   "execution_count": 10,
   "metadata": {},
   "outputs": [
    {
     "name": "stdout",
     "output_type": "stream",
     "text": [
      "(2, 14)\n",
      "[[ 0.01745832  0.00925271  0.00677867 -0.00819482  0.00648888  0.00354164\n",
      "   0.00371328  0.00405569 -0.00062735  0.00220079  0.00443247  0.0004384\n",
      "  -0.0003187  -0.00224407]\n",
      " [ 0.00788779  0.00854063  0.00190005  0.01144524 -0.00844018 -0.011351\n",
      "  -0.01019524  0.00911914 -0.0018379  -0.00291702 -0.00855353  0.00083533\n",
      "   0.00144197 -0.00146858]]\n"
     ]
    }
   ],
   "source": [
    "C1_inv = np.linalg.inv(C1)\n",
    "W = V.T@C1_inv\n",
    "print(W.shape)\n",
    "print(W)"
   ]
  },
  {
   "cell_type": "code",
   "execution_count": 11,
   "metadata": {},
   "outputs": [
    {
     "data": {
      "image/png": "[encoded data removed]",
      "text/plain": [
       "<Figure size 432x288 with 1 Axes>"
      ]
     },
     "metadata": {
      "needs_background": "light"
     },
     "output_type": "display_data"
    }
   ],
   "source": [
    "z = W@x_n\n",
    "z1 = z.T\n",
    "plt.scatter(np.ravel(z1[:,0]),np.ravel(z1[:,1]))\n",
    "plt.show()"
   ]
  },
  {
   "cell_type": "code",
   "execution_count": null,
   "metadata": {},
   "outputs": [],
   "source": []
  }
 ],
 "metadata": {
  "kernelspec": {
   "display_name": "Python 3",
   "language": "python",
   "name": "python3"
  },
  "language_info": {
   "codemirror_mode": {
    "name": "ipython",
    "version": 3
   },
   "file_extension": ".py",
   "mimetype": "text/x-python",
   "name": "python",
   "nbconvert_exporter": "python",
   "pygments_lexer": "ipython3",
   "version": "3.7.6"
  }
 },
 "nbformat": 4,
 "nbformat_minor": 4
}
