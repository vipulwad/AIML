{
 "cells": [
  {
   "cell_type": "markdown",
   "metadata": {
    "id": "MUNb6M5SFrDl"
   },
   "source": [
    "# Import the necessary libaries"
   ]
  },
  {
   "cell_type": "code",
   "execution_count": 2,
   "metadata": {
    "id": "JF05u3LbOUiL"
   },
   "outputs": [],
   "source": [
    "import numpy as np\n",
    "import matplotlib.pyplot as plt\n",
    "import pandas as pd\n",
    "import seaborn as sns"
   ]
  },
  {
   "cell_type": "code",
   "execution_count": 3,
   "metadata": {
    "id": "a7v4oieAOUep"
   },
   "outputs": [],
   "source": [
    "data=np.array([[11,8,4],\n",
    " [3,13,3],\n",
    "  [6,16,13],\n",
    "   [16,8,9],\n",
    "    [0,1,4],\n",
    "     [16,8,1],\n",
    "      [0,7,15],\n",
    "       [14,19,14],\n",
    "        [18,14,13],\n",
    "         [13,19,18]])"
   ]
  },
  {
   "cell_type": "code",
   "execution_count": 4,
   "metadata": {
    "id": "6QAlPrAROUYJ"
   },
   "outputs": [
    {
     "data": {
      "text/plain": [
       "(10, 3)"
      ]
     },
     "execution_count": 4,
     "metadata": {},
     "output_type": "execute_result"
    }
   ],
   "source": [
    "data.shape"
   ]
  },
  {
   "cell_type": "markdown",
   "metadata": {
    "id": "5aUnw80EQpUL"
   },
   "source": [
    "Step1 : Find Mean\n"
   ]
  },
  {
   "cell_type": "code",
   "execution_count": 5,
   "metadata": {
    "colab": {
     "base_uri": "https://localhost:8080/"
    },
    "id": "kdvgEUmIOUSu",
    "outputId": "7f80326d-93da-429f-c837-154edb024eae"
   },
   "outputs": [
    {
     "data": {
      "text/plain": [
       "matrix([[ 9.7, 11.3,  9.4]])"
      ]
     },
     "execution_count": 5,
     "metadata": {},
     "output_type": "execute_result"
    }
   ],
   "source": [
    "mean=np.mean(data, axis=0)\n",
    "mean=np.matrix(mean)\n",
    "mean"
   ]
  },
  {
   "cell_type": "markdown",
   "metadata": {
    "id": "C8GvBm1zRAG1"
   },
   "source": [
    "Step2: Subtract mean\n"
   ]
  },
  {
   "cell_type": "code",
   "execution_count": 6,
   "metadata": {
    "id": "wooLWNk2Q_lX"
   },
   "outputs": [
    {
     "data": {
      "text/plain": [
       "matrix([[  1.3,  -3.3,  -5.4],\n",
       "        [ -6.7,   1.7,  -6.4],\n",
       "        [ -3.7,   4.7,   3.6],\n",
       "        [  6.3,  -3.3,  -0.4],\n",
       "        [ -9.7, -10.3,  -5.4],\n",
       "        [  6.3,  -3.3,  -8.4],\n",
       "        [ -9.7,  -4.3,   5.6],\n",
       "        [  4.3,   7.7,   4.6],\n",
       "        [  8.3,   2.7,   3.6],\n",
       "        [  3.3,   7.7,   8.6]])"
      ]
     },
     "execution_count": 6,
     "metadata": {},
     "output_type": "execute_result"
    }
   ],
   "source": [
    "data_sub=data-mean\n",
    "data_sub"
   ]
  },
  {
   "cell_type": "markdown",
   "metadata": {
    "id": "IU8q71U6RcGY"
   },
   "source": [
    "Step3: Cov(X)"
   ]
  },
  {
   "cell_type": "code",
   "execution_count": 7,
   "metadata": {
    "id": "YDiPklMRRgf_"
   },
   "outputs": [
    {
     "data": {
      "text/plain": [
       "array([[47.34444444, 16.43333333,  4.8       ],\n",
       "       [16.43333333, 34.23333333, 21.75555556],\n",
       "       [ 4.8       , 21.75555556, 35.82222222]])"
      ]
     },
     "execution_count": 7,
     "metadata": {},
     "output_type": "execute_result"
    }
   ],
   "source": [
    "cov_X=np.cov(data.T)\n",
    "cov_X"
   ]
  },
  {
   "cell_type": "markdown",
   "metadata": {
    "id": "eyKzEY7KRzky"
   },
   "source": [
    "Step4: Decomposing Cov(X) to eigenvector"
   ]
  },
  {
   "cell_type": "code",
   "execution_count": 8,
   "metadata": {
    "colab": {
     "base_uri": "https://localhost:8080/"
    },
    "id": "6GoGt-_PRgcc",
    "outputId": "929c26ba-83dd-4cd9-e257-e6a827a25f06"
   },
   "outputs": [
    {
     "data": {
      "text/plain": [
       "(array([68.13767142, 38.29344163, 10.96888695]),\n",
       " array([[-0.60394947, -0.75372118,  0.25913205],\n",
       "        [-0.61670866,  0.23596888, -0.75099209],\n",
       "        [-0.50489154,  0.61337025,  0.60733966]]))"
      ]
     },
     "execution_count": 8,
     "metadata": {},
     "output_type": "execute_result"
    }
   ],
   "source": [
    "eigValue, eigVector=np.linalg.eig(cov_X)\n",
    "eigValue, eigVector"
   ]
  },
  {
   "cell_type": "code",
   "execution_count": 9,
   "metadata": {
    "colab": {
     "base_uri": "https://localhost:8080/"
    },
    "id": "0M1YYe7sRgZE",
    "outputId": "e2464927-be20-4cc6-fa05-255c878b07b4"
   },
   "outputs": [
    {
     "data": {
      "text/plain": [
       "array([[-0.60394947, -0.75372118],\n",
       "       [-0.61670866,  0.23596888],\n",
       "       [-0.50489154,  0.61337025]])"
      ]
     },
     "execution_count": 9,
     "metadata": {},
     "output_type": "execute_result"
    }
   ],
   "source": [
    "E=eigVector[:, :2]\n",
    "E"
   ]
  },
  {
   "cell_type": "code",
   "execution_count": 10,
   "metadata": {
    "colab": {
     "base_uri": "https://localhost:8080/"
    },
    "id": "PKEnwFvDRgV2",
    "outputId": "ecbfbad6-f083-475a-d69c-66d8b7ebd568"
   },
   "outputs": [
    {
     "data": {
      "text/plain": [
       "array([[68.13767142,  0.        ],\n",
       "       [ 0.        , 38.29344163]])"
      ]
     },
     "execution_count": 10,
     "metadata": {},
     "output_type": "execute_result"
    }
   ],
   "source": [
    "lambda_1=eigValue[:2]\n",
    "lambda_1=np.diag(lambda_1)\n",
    "lambda_1"
   ]
  },
  {
   "cell_type": "markdown",
   "metadata": {
    "id": "EDnCPvtRTIts"
   },
   "source": [
    "Step5:\n",
    "Find V"
   ]
  },
  {
   "cell_type": "code",
   "execution_count": 11,
   "metadata": {
    "colab": {
     "base_uri": "https://localhost:8080/"
    },
    "id": "BKDLowMkTIOG",
    "outputId": "708d88de-f9be-4445-d37c-bc3c44edf6b2"
   },
   "outputs": [
    {
     "data": {
      "text/plain": [
       "array([[-4.98533385, -4.66415441],\n",
       "       [-5.0906553 ,  1.46021544],\n",
       "       [-4.16765479,  3.79563909]])"
      ]
     },
     "execution_count": 11,
     "metadata": {},
     "output_type": "execute_result"
    }
   ],
   "source": [
    "V=E@np.sqrt(lambda_1)\n",
    "V"
   ]
  },
  {
   "cell_type": "markdown",
   "metadata": {
    "id": "5Y5alcxMUMK5"
   },
   "source": [
    "Step6: Find eta"
   ]
  },
  {
   "cell_type": "code",
   "execution_count": 12,
   "metadata": {
    "colab": {
     "base_uri": "https://localhost:8080/"
    },
    "id": "W9PZZVKETIEz",
    "outputId": "397f5858-f2e0-40ef-b335-d39d4439fec2"
   },
   "outputs": [
    {
     "data": {
      "text/plain": [
       "array([[24.85355363, 21.75433641],\n",
       "       [25.91477135,  2.13222914],\n",
       "       [17.36934644, 14.40687609]])"
      ]
     },
     "execution_count": 12,
     "metadata": {},
     "output_type": "execute_result"
    }
   ],
   "source": [
    "v_square=V**2\n",
    "v_square"
   ]
  },
  {
   "cell_type": "code",
   "execution_count": 13,
   "metadata": {
    "id": "XtsrXodVWqUd"
   },
   "outputs": [
    {
     "data": {
      "text/plain": [
       "matrix([[46.60789003, 28.04700049, 31.77622253]])"
      ]
     },
     "execution_count": 13,
     "metadata": {},
     "output_type": "execute_result"
    }
   ],
   "source": [
    "v_sum=np.sum(v_square, axis=1)\n",
    "v_sum=np.matrix(v_sum)\n",
    "v_sum"
   ]
  },
  {
   "cell_type": "code",
   "execution_count": 14,
   "metadata": {
    "colab": {
     "base_uri": "https://localhost:8080/"
    },
    "id": "rFYMXG_zTIAr",
    "outputId": "8d4e7e4e-977f-48d3-ceeb-e8dd1f75891f"
   },
   "outputs": [
    {
     "data": {
      "text/plain": [
       "matrix([[42.61, 30.81, 32.24]])"
      ]
     },
     "execution_count": 14,
     "metadata": {},
     "output_type": "execute_result"
    }
   ],
   "source": [
    "data_sub_var=np.var(data_sub, axis=0)\n",
    "data_sub_var"
   ]
  },
  {
   "cell_type": "code",
   "execution_count": 15,
   "metadata": {
    "id": "0NO3p_y6TH81"
   },
   "outputs": [
    {
     "data": {
      "text/plain": [
       "matrix([[ 3.99789003, -2.76299951, -0.46377747]])"
      ]
     },
     "execution_count": 15,
     "metadata": {},
     "output_type": "execute_result"
    }
   ],
   "source": [
    "eta=v_sum-data_sub_var\n",
    "eta"
   ]
  },
  {
   "cell_type": "markdown",
   "metadata": {
    "id": "jxjsaXCgXeg6"
   },
   "source": [
    "Step6: Reduce Dimension"
   ]
  },
  {
   "cell_type": "code",
   "execution_count": 16,
   "metadata": {
    "colab": {
     "base_uri": "https://localhost:8080/"
    },
    "id": "jbDReT5YXIiv",
    "outputId": "a10ba314-875a-4bdb-d2dd-4990a235053b"
   },
   "outputs": [
    {
     "data": {
      "text/plain": [
       "array([[ 0.02631034, -0.01691987,  0.00675032],\n",
       "       [-0.01691987,  0.05845302, -0.03323251],\n",
       "       [ 0.00675032, -0.03323251,  0.0471939 ]])"
      ]
     },
     "execution_count": 16,
     "metadata": {},
     "output_type": "execute_result"
    }
   ],
   "source": [
    "cov_inv=np.linalg.inv(cov_X)\n",
    "cov_inv"
   ]
  },
  {
   "cell_type": "code",
   "execution_count": 17,
   "metadata": {
    "colab": {
     "base_uri": "https://localhost:8080/"
    },
    "id": "G3VxhCXTXId9",
    "outputId": "e0eee1ac-dcb2-422f-b4c9-5387a2a68783"
   },
   "outputs": [
    {
     "data": {
      "text/plain": [
       "array([[-0.0731656 , -0.07471132, -0.06116521],\n",
       "       [-0.12180035,  0.03813226,  0.09911982]])"
      ]
     },
     "execution_count": 17,
     "metadata": {},
     "output_type": "execute_result"
    }
   ],
   "source": [
    "W=V.T@cov_inv\n",
    "W"
   ]
  },
  {
   "cell_type": "code",
   "execution_count": 18,
   "metadata": {
    "id": "F65H699ERgS5"
   },
   "outputs": [
    {
     "data": {
      "text/plain": [
       "matrix([[ 0.48172419, -0.81942394],\n",
       "        [ 0.75465763,  0.2465203 ],\n",
       "        [-0.30062521,  0.98671425],\n",
       "        [-0.18992987, -0.93282656],\n",
       "        [ 1.80952506,  0.25345405],\n",
       "        [ 0.29939179, -1.72578513],\n",
       "        [ 0.68843987,  1.57256563],\n",
       "        [-1.1712492 ,  0.22582809],\n",
       "        [-1.02918982, -0.55115441],\n",
       "        [-1.34274443,  0.74410772]])"
      ]
     },
     "execution_count": 18,
     "metadata": {},
     "output_type": "execute_result"
    }
   ],
   "source": [
    "Z_n=data_sub@W.T\n",
    "Z_n"
   ]
  },
  {
   "cell_type": "code",
   "execution_count": null,
   "metadata": {
    "id": "HWXIs9LVYb5l"
   },
   "outputs": [],
   "source": []
  },
  {
   "cell_type": "code",
   "execution_count": 19,
   "metadata": {
    "id": "a5uMCRMNFrDo"
   },
   "outputs": [],
   "source": [
    "import numpy as np\n",
    "import matplotlib.pyplot as plt\n",
    "import pandas as pd\n",
    "import seaborn as sns"
   ]
  },
  {
   "cell_type": "markdown",
   "metadata": {
    "id": "79cusT7iFrDq"
   },
   "source": [
    "**Generate the dataframe from the excel file**"
   ]
  },
  {
   "cell_type": "code",
   "execution_count": 23,
   "metadata": {
    "colab": {
     "base_uri": "https://localhost:8080/",
     "height": 206
    },
    "id": "0UZ97vdsFrDq",
    "outputId": "35d255f6-d4ed-4a6b-f21f-dd73ec2a7ed0"
   },
   "outputs": [
    {
     "data": {
      "text/html": [
       "<div>\n",
       "<style scoped>\n",
       "    .dataframe tbody tr th:only-of-type {\n",
       "        vertical-align: middle;\n",
       "    }\n",
       "\n",
       "    .dataframe tbody tr th {\n",
       "        vertical-align: top;\n",
       "    }\n",
       "\n",
       "    .dataframe thead th {\n",
       "        text-align: right;\n",
       "    }\n",
       "</style>\n",
       "<table border=\"1\" class=\"dataframe\">\n",
       "  <thead>\n",
       "    <tr style=\"text-align: right;\">\n",
       "      <th></th>\n",
       "      <th>cost</th>\n",
       "      <th>size</th>\n",
       "      <th>alcohol</th>\n",
       "      <th>reputat</th>\n",
       "      <th>color</th>\n",
       "      <th>aroma</th>\n",
       "      <th>taste</th>\n",
       "      <th>rnd1</th>\n",
       "      <th>rnd2</th>\n",
       "      <th>rnd3</th>\n",
       "      <th>rnd4</th>\n",
       "      <th>rnd5</th>\n",
       "      <th>rnd6</th>\n",
       "      <th>rnd7</th>\n",
       "    </tr>\n",
       "  </thead>\n",
       "  <tbody>\n",
       "    <tr>\n",
       "      <th>0</th>\n",
       "      <td>10</td>\n",
       "      <td>15</td>\n",
       "      <td>20</td>\n",
       "      <td>85</td>\n",
       "      <td>40</td>\n",
       "      <td>30</td>\n",
       "      <td>50</td>\n",
       "      <td>40</td>\n",
       "      <td>80</td>\n",
       "      <td>65</td>\n",
       "      <td>25</td>\n",
       "      <td>90</td>\n",
       "      <td>45</td>\n",
       "      <td>40</td>\n",
       "    </tr>\n",
       "    <tr>\n",
       "      <th>1</th>\n",
       "      <td>100</td>\n",
       "      <td>70</td>\n",
       "      <td>50</td>\n",
       "      <td>30</td>\n",
       "      <td>75</td>\n",
       "      <td>60</td>\n",
       "      <td>80</td>\n",
       "      <td>70</td>\n",
       "      <td>55</td>\n",
       "      <td>45</td>\n",
       "      <td>25</td>\n",
       "      <td>95</td>\n",
       "      <td>95</td>\n",
       "      <td>60</td>\n",
       "    </tr>\n",
       "    <tr>\n",
       "      <th>2</th>\n",
       "      <td>65</td>\n",
       "      <td>30</td>\n",
       "      <td>35</td>\n",
       "      <td>80</td>\n",
       "      <td>80</td>\n",
       "      <td>60</td>\n",
       "      <td>90</td>\n",
       "      <td>45</td>\n",
       "      <td>90</td>\n",
       "      <td>65</td>\n",
       "      <td>90</td>\n",
       "      <td>20</td>\n",
       "      <td>95</td>\n",
       "      <td>35</td>\n",
       "    </tr>\n",
       "    <tr>\n",
       "      <th>3</th>\n",
       "      <td>0</td>\n",
       "      <td>0</td>\n",
       "      <td>20</td>\n",
       "      <td>30</td>\n",
       "      <td>80</td>\n",
       "      <td>90</td>\n",
       "      <td>100</td>\n",
       "      <td>85</td>\n",
       "      <td>30</td>\n",
       "      <td>45</td>\n",
       "      <td>85</td>\n",
       "      <td>40</td>\n",
       "      <td>80</td>\n",
       "      <td>5</td>\n",
       "    </tr>\n",
       "    <tr>\n",
       "      <th>4</th>\n",
       "      <td>10</td>\n",
       "      <td>25</td>\n",
       "      <td>10</td>\n",
       "      <td>100</td>\n",
       "      <td>50</td>\n",
       "      <td>40</td>\n",
       "      <td>60</td>\n",
       "      <td>20</td>\n",
       "      <td>5</td>\n",
       "      <td>25</td>\n",
       "      <td>25</td>\n",
       "      <td>20</td>\n",
       "      <td>25</td>\n",
       "      <td>80</td>\n",
       "    </tr>\n",
       "  </tbody>\n",
       "</table>\n",
       "</div>"
      ],
      "text/plain": [
       "   cost  size  alcohol  reputat  color  aroma  taste  rnd1  rnd2  rnd3  rnd4  \\\n",
       "0    10    15       20       85     40     30     50    40    80    65    25   \n",
       "1   100    70       50       30     75     60     80    70    55    45    25   \n",
       "2    65    30       35       80     80     60     90    45    90    65    90   \n",
       "3     0     0       20       30     80     90    100    85    30    45    85   \n",
       "4    10    25       10      100     50     40     60    20     5    25    25   \n",
       "\n",
       "   rnd5  rnd6  rnd7  \n",
       "0    90    45    40  \n",
       "1    95    95    60  \n",
       "2    20    95    35  \n",
       "3    40    80     5  \n",
       "4    20    25    80  "
      ]
     },
     "execution_count": 23,
     "metadata": {},
     "output_type": "execute_result"
    }
   ],
   "source": [
    "df = pd.read_excel(\"data/beer_rnd.xlsx\")\n",
    "df.head()"
   ]
  },
  {
   "cell_type": "markdown",
   "metadata": {
    "id": "_f8z3jgjFrDr"
   },
   "source": [
    "**Find $\\tilde{x}_{n}$ from $x_{n}$**"
   ]
  },
  {
   "cell_type": "code",
   "execution_count": 24,
   "metadata": {
    "id": "mva1bTMoFrDr",
    "outputId": "36f9e6ce-0613-44fd-a354-f7d748801fe2"
   },
   "outputs": [
    {
     "name": "stdout",
     "output_type": "stream",
     "text": [
      "(14, 99)\n"
     ]
    }
   ],
   "source": [
    "x = df.values\n",
    "x_mean = np.mean(x,axis=0)\n",
    "x_n = x - np.matrix(x_mean)\n",
    "x_n = x_n.T ## Converts row vectors to column vectors\n",
    "print(x_n.shape)"
   ]
  },
  {
   "cell_type": "code",
   "execution_count": 25,
   "metadata": {
    "id": "YvwlYP0cFrDs"
   },
   "outputs": [],
   "source": [
    "C1 = np.cov(x_n)\n",
    "eig_val,eig_vec = np.linalg.eig(C1)\n",
    "\n",
    "C2 = np.corrcoef(x_n)## Corr(x,y) = Cov(x,y)/sqrt(Var(x)*Var(y))"
   ]
  },
  {
   "cell_type": "code",
   "execution_count": 26,
   "metadata": {
    "id": "r63aa7mVFrDt",
    "outputId": "bebe43d0-5d8b-40ab-a575-52755f129d72"
   },
   "outputs": [
    {
     "data": {
      "image/png": "[encoded data removed]",
      "text/plain": [
       "<Figure size 640x480 with 2 Axes>"
      ]
     },
     "metadata": {},
     "output_type": "display_data"
    }
   ],
   "source": [
    "ax = sns.heatmap(C2,cmap='Blues')"
   ]
  },
  {
   "cell_type": "markdown",
   "metadata": {
    "id": "X6_jPIkDFrDt"
   },
   "source": [
    "**Extract the eigen vectors and eigen values**"
   ]
  },
  {
   "cell_type": "code",
   "execution_count": 27,
   "metadata": {
    "id": "9e0f9k6wFrDu",
    "outputId": "d35171b9-1ebe-4c82-e0e4-3b57b295510f"
   },
   "outputs": [
    {
     "name": "stdout",
     "output_type": "stream",
     "text": [
      "[array([ 0.70193013,  0.37201503,  0.2725436 , -0.32948115,  0.26089232,\n",
      "        0.14239528,  0.14929638,  0.1630631 , -0.02522316,  0.08848518,\n",
      "        0.17821216,  0.01762618, -0.01281384, -0.09022515]), array([ 0.28861251,  0.31249978,  0.06952238,  0.41877894, -0.30882442,\n",
      "       -0.41533076, -0.37304177,  0.33366758, -0.0672483 , -0.10673324,\n",
      "       -0.3129719 ,  0.03056463,  0.0527614 , -0.05373518])]\n",
      "[1616.5262627268394, 1338.81303610559]\n"
     ]
    }
   ],
   "source": [
    "eig_sorted = np.sort(eig_val)[::-1]\n",
    "arg_sort = np.argsort(eig_val)[::-1]\n",
    "\n",
    "eig_vec_ls = []\n",
    "eig_val_ls = []\n",
    "imp_vec = arg_sort[:2]\n",
    "for i in imp_vec:\n",
    "    e_1 = eig_vec[:,i]\n",
    "    lambda_1 = eig_val[i]\n",
    "    eig_vec_ls.append(e_1)\n",
    "    eig_val_ls.append(lambda_1)\n",
    "print(eig_vec_ls)\n",
    "print(eig_val_ls)"
   ]
  },
  {
   "cell_type": "markdown",
   "metadata": {
    "id": "98sreekkFrDu"
   },
   "source": [
    "**Estimate V**"
   ]
  },
  {
   "cell_type": "code",
   "execution_count": 28,
   "metadata": {
    "id": "ERN8a207FrDu",
    "outputId": "210a1772-c00b-4ad2-efaa-83126f6920aa"
   },
   "outputs": [
    {
     "name": "stdout",
     "output_type": "stream",
     "text": [
      "[[ 28.22183629  10.56027235]\n",
      " [ 14.95725385  11.43430264]\n",
      " [ 10.95790115   2.54380952]\n",
      " [-13.24713481  15.32303516]\n",
      " [ 10.48944915 -11.29982209]\n",
      " [  5.72515136 -15.19686717]\n",
      " [  6.00261733 -13.64952169]\n",
      " [  6.55612267  12.20882815]\n",
      " [ -1.01412339  -2.46060145]\n",
      " [  3.55763937  -3.90534714]\n",
      " [  7.16520659 -11.45157729]\n",
      " [  0.70867892   1.11835357]\n",
      " [ -0.51519401   1.93052865]\n",
      " [ -3.62759658  -1.96615922]]\n"
     ]
    }
   ],
   "source": [
    "eig_val_arr  = np.array(eig_val_ls)\n",
    "lambda_1 = np.diag(eig_val_arr)\n",
    "eig_vec_mat = np.matrix(eig_vec_ls).T\n",
    "V = eig_vec_mat@np.sqrt(lambda_1)\n",
    "print(V)"
   ]
  },
  {
   "cell_type": "markdown",
   "metadata": {
    "id": "nKYfTUc-FrDv"
   },
   "source": [
    "**Compute $\\sigma^{2}_{i}, i=0,1,2,...13$ and estimate S**"
   ]
  },
  {
   "cell_type": "code",
   "execution_count": 29,
   "metadata": {
    "id": "dR8um7OnFrDv",
    "outputId": "668b6601-b47e-43cc-92eb-98a0f3d5a7cf"
   },
   "outputs": [
    {
     "name": "stdout",
     "output_type": "stream",
     "text": [
      "[[ 64.84811057   0.           0.           0.           0.\n",
      "    0.           0.           0.           0.           0.\n",
      "    0.           0.           0.           0.        ]\n",
      " [  0.          51.71011986   0.           0.           0.\n",
      "    0.           0.           0.           0.           0.\n",
      "    0.           0.           0.           0.        ]\n",
      " [  0.           0.          22.21886762   0.           0.\n",
      "    0.           0.           0.           0.           0.\n",
      "    0.           0.           0.           0.        ]\n",
      " [  0.           0.           0.         253.2982598    0.\n",
      "    0.           0.           0.           0.           0.\n",
      "    0.           0.           0.           0.        ]\n",
      " [  0.           0.           0.           0.          88.82868724\n",
      "    0.           0.           0.           0.           0.\n",
      "    0.           0.           0.           0.        ]\n",
      " [  0.           0.           0.           0.           0.\n",
      "  123.93219113   0.           0.           0.           0.\n",
      "    0.           0.           0.           0.        ]\n",
      " [  0.           0.           0.           0.           0.\n",
      "    0.          74.57272303   0.           0.           0.\n",
      "    0.           0.           0.           0.        ]\n",
      " [  0.           0.           0.           0.           0.\n",
      "    0.           0.         633.83157994   0.           0.\n",
      "    0.           0.           0.           0.        ]\n",
      " [  0.           0.           0.           0.           0.\n",
      "    0.           0.           0.         765.8279217    0.\n",
      "    0.           0.           0.           0.        ]\n",
      " [  0.           0.           0.           0.           0.\n",
      "    0.           0.           0.           0.         642.03841\n",
      "    0.           0.           0.           0.        ]\n",
      " [  0.           0.           0.           0.           0.\n",
      "    0.           0.           0.           0.           0.\n",
      "  581.38712429   0.           0.           0.        ]\n",
      " [  0.           0.           0.           0.           0.\n",
      "    0.           0.           0.           0.           0.\n",
      "    0.         665.14329455   0.           0.        ]\n",
      " [  0.           0.           0.           0.           0.\n",
      "    0.           0.           0.           0.           0.\n",
      "    0.           0.         882.83550896   0.        ]\n",
      " [  0.           0.           0.           0.           0.\n",
      "    0.           0.           0.           0.           0.\n",
      "    0.           0.           0.         826.32237855]]\n"
     ]
    }
   ],
   "source": [
    "var_ls = []\n",
    "x_var = np.var(x_n,axis=1)\n",
    "x_var = np.ravel(x_var)\n",
    "\n",
    "for i in range(V.shape[0]):\n",
    "    s = np.sum(np.square(np.ravel(V[i,:])))\n",
    "    sig_2 = x_var[i] - s\n",
    "    var_ls.append(sig_2)\n",
    "var_ls = np.array(var_ls)\n",
    "S = np.diag(var_ls)\n",
    "print(S)"
   ]
  },
  {
   "cell_type": "markdown",
   "metadata": {
    "id": "soBqoGKHFrDw"
   },
   "source": [
    "**Dimensionality reduction transformation**"
   ]
  },
  {
   "cell_type": "code",
   "execution_count": 30,
   "metadata": {
    "id": "mxFCN3eRFrDw",
    "outputId": "4a1157ff-17c5-4629-de85-ced4fd93be7d"
   },
   "outputs": [
    {
     "name": "stdout",
     "output_type": "stream",
     "text": [
      "(2, 14)\n",
      "[[ 0.01745832  0.00925271  0.00677867 -0.00819482  0.00648888  0.00354164\n",
      "   0.00371328  0.00405569 -0.00062735  0.00220079  0.00443247  0.0004384\n",
      "  -0.0003187  -0.00224407]\n",
      " [ 0.00788779  0.00854063  0.00190005  0.01144524 -0.00844018 -0.011351\n",
      "  -0.01019524  0.00911914 -0.0018379  -0.00291702 -0.00855353  0.00083533\n",
      "   0.00144197 -0.00146858]]\n"
     ]
    }
   ],
   "source": [
    "C1_inv = np.linalg.inv(C1)\n",
    "W = V.T@C1_inv\n",
    "print(W.shape)\n",
    "print(W)"
   ]
  },
  {
   "cell_type": "code",
   "execution_count": 31,
   "metadata": {
    "id": "mShmb8-2FrDw",
    "outputId": "b353c402-b1c2-482c-f5b5-27b2fcc0afc7"
   },
   "outputs": [
    {
     "data": {
      "image/png": "[encoded data removed]",
      "text/plain": [
       "<Figure size 640x480 with 1 Axes>"
      ]
     },
     "metadata": {},
     "output_type": "display_data"
    }
   ],
   "source": [
    "z = W@x_n\n",
    "z1 = z.T\n",
    "plt.scatter(np.ravel(z1[:,0]),np.ravel(z1[:,1]))\n",
    "plt.show()"
   ]
  },
  {
   "cell_type": "code",
   "execution_count": null,
   "metadata": {},
   "outputs": [],
   "source": []
  }
 ],
 "metadata": {
  "colab": {
   "provenance": []
  },
  "kernelspec": {
   "display_name": "Python 3 (ipykernel)",
   "language": "python",
   "name": "python3"
  },
  "language_info": {
   "codemirror_mode": {
    "name": "ipython",
    "version": 3
   },
   "file_extension": ".py",
   "mimetype": "text/x-python",
   "name": "python",
   "nbconvert_exporter": "python",
   "pygments_lexer": "ipython3",
   "version": "3.9.13"
  }
 },
 "nbformat": 4,
 "nbformat_minor": 1
}
