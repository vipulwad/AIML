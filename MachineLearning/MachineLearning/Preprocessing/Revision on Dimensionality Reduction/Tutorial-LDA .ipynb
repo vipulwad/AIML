{
 "cells": [
  {
   "cell_type": "markdown",
   "metadata": {},
   "source": [
    "# <center> Linear Discriminant Analysis </center>\n",
    "---"
   ]
  },
  {
   "cell_type": "markdown",
   "metadata": {},
   "source": [
    "## Introduction\n",
    "\n",
    "Linear Discriminant Analysis (LDA) is a dimensionality reduction technique. As the name implies dimensionality reduction techniques reduce the number of dimensions (i.e. variables) in a dataset while retaining as much information as possible.\n",
    "\n",
    "Linear Discriminant Analysis, or LDA, uses the information from all features to create a new axis and projects the data on the new axis in such a way as to minimizes the variance and maximizes the distance between the means of the two classes."
   ]
  },
  {
   "cell_type": "markdown",
   "metadata": {},
   "source": [
    "## Example Problem "
   ]
  },
  {
   "cell_type": "markdown",
   "metadata": {},
   "source": [
    "### This example problem shows the direction of PCA and LDA vectors"
   ]
  },
  {
   "cell_type": "code",
   "execution_count": 1,
   "metadata": {},
   "outputs": [],
   "source": [
    "import numpy as np\n",
    "import matplotlib.pyplot as plt"
   ]
  },
  {
   "cell_type": "code",
   "execution_count": 2,
   "metadata": {},
   "outputs": [],
   "source": [
    "X1 = [[1,1],[2,2],[3,3],[5,4],[4,5],[6,6],[8,7]]\n",
    "X2 = [[-2,3],[-1,4],[1,5],[3,6],[4,7],[2,8],[5,9]]"
   ]
  },
  {
   "cell_type": "code",
   "execution_count": 3,
   "metadata": {},
   "outputs": [
    {
     "name": "stdout",
     "output_type": "stream",
     "text": [
      "(7, 2) (7, 2)\n"
     ]
    }
   ],
   "source": [
    "X1 = np.array(X1)\n",
    "X2 = np.array(X2)\n",
    "print(X1.shape,X2.shape)"
   ]
  },
  {
   "cell_type": "code",
   "execution_count": 4,
   "metadata": {},
   "outputs": [
    {
     "data": {
      "image/png": "[encoded data removed]",
      "text/plain": [
       "<Figure size 432x288 with 1 Axes>"
      ]
     },
     "metadata": {
      "needs_background": "light"
     },
     "output_type": "display_data"
    }
   ],
   "source": [
    "plt.figure()\n",
    "plt.title(\"Scatter Plot\")\n",
    "plt.xlabel(\"X-axis\")\n",
    "plt.ylabel(\"Y-axis\")\n",
    "plt.scatter(X1[:,0],X1[:,1],c='r')\n",
    "plt.scatter(X2[:,0],X2[:,1],c='b')\n",
    "plt.show()"
   ]
  },
  {
   "cell_type": "code",
   "execution_count": 5,
   "metadata": {},
   "outputs": [
    {
     "name": "stdout",
     "output_type": "stream",
     "text": [
      "[4.14285714 4.        ] [1.71428571 6.        ]\n"
     ]
    }
   ],
   "source": [
    "mu1 = np.mean(X1,axis=0)\n",
    "mu2 = np.mean(X2,axis=0)\n",
    "print(mu1,mu2)"
   ]
  },
  {
   "cell_type": "code",
   "execution_count": 6,
   "metadata": {},
   "outputs": [
    {
     "name": "stdout",
     "output_type": "stream",
     "text": [
      "[ 2.42857143 -2.        ]\n"
     ]
    }
   ],
   "source": [
    "mudiff = mu1 - mu2\n",
    "print(mudiff)"
   ]
  },
  {
   "cell_type": "code",
   "execution_count": 7,
   "metadata": {},
   "outputs": [
    {
     "name": "stdout",
     "output_type": "stream",
     "text": [
      "(14, 2)\n"
     ]
    }
   ],
   "source": [
    "X = np.append(X1,X2,axis=0)\n",
    "print(X.shape)"
   ]
  },
  {
   "cell_type": "code",
   "execution_count": 8,
   "metadata": {},
   "outputs": [
    {
     "name": "stdout",
     "output_type": "stream",
     "text": [
      "[2.92857143 5.        ]\n"
     ]
    }
   ],
   "source": [
    "mu = np.mean(X,axis=0)\n",
    "print(mu)"
   ]
  },
  {
   "cell_type": "code",
   "execution_count": 9,
   "metadata": {},
   "outputs": [
    {
     "name": "stdout",
     "output_type": "stream",
     "text": [
      "[[4.97959184 4.28571429]\n",
      " [4.28571429 4.        ]]\n"
     ]
    }
   ],
   "source": [
    "C1 = np.cov(X1.T,bias=True)\n",
    "print(C1)"
   ]
  },
  {
   "cell_type": "code",
   "execution_count": 10,
   "metadata": {},
   "outputs": [
    {
     "name": "stdout",
     "output_type": "stream",
     "text": [
      "[[5.63265306 4.28571429]\n",
      " [4.28571429 4.        ]]\n"
     ]
    }
   ],
   "source": [
    "C2 = np.cov(X2.T,bias=True)\n",
    "print(C2)"
   ]
  },
  {
   "cell_type": "code",
   "execution_count": 11,
   "metadata": {},
   "outputs": [
    {
     "name": "stdout",
     "output_type": "stream",
     "text": [
      "[[10.6122449   8.57142857]\n",
      " [ 8.57142857  8.        ]]\n"
     ]
    }
   ],
   "source": [
    "Sw = C1 + C2\n",
    "print(Sw)"
   ]
  },
  {
   "cell_type": "code",
   "execution_count": 12,
   "metadata": {},
   "outputs": [
    {
     "name": "stdout",
     "output_type": "stream",
     "text": [
      "[[6.78061224 3.07142857]\n",
      " [3.07142857 5.        ]]\n"
     ]
    }
   ],
   "source": [
    "C = np.cov(X.T,bias=True)\n",
    "print(C)"
   ]
  },
  {
   "cell_type": "code",
   "execution_count": 13,
   "metadata": {},
   "outputs": [
    {
     "name": "stdout",
     "output_type": "stream",
     "text": [
      "(1, 2)\n"
     ]
    }
   ],
   "source": [
    "u = np.matmul(np.linalg.inv(Sw),mudiff)\n",
    "u = np.matrix(u)\n",
    "print(u.shape)"
   ]
  },
  {
   "cell_type": "code",
   "execution_count": 14,
   "metadata": {},
   "outputs": [
    {
     "name": "stdout",
     "output_type": "stream",
     "text": [
      "[[ 0.65632378 -0.75447935]]\n"
     ]
    }
   ],
   "source": [
    "Ucap = u / np.linalg.norm(u)         # LDA unit Vector\n",
    "print(Ucap)"
   ]
  },
  {
   "cell_type": "code",
   "execution_count": 15,
   "metadata": {},
   "outputs": [],
   "source": [
    "eigenValue,eigenVector = np.linalg.eig(C)"
   ]
  },
  {
   "cell_type": "code",
   "execution_count": 16,
   "metadata": {},
   "outputs": [
    {
     "name": "stdout",
     "output_type": "stream",
     "text": [
      "[9.08816767 2.69244458]\n",
      "[[ 0.79950194 -0.6006635 ]\n",
      " [ 0.6006635   0.79950194]]\n"
     ]
    }
   ],
   "source": [
    "print(eigenValue)\n",
    "print(eigenVector)"
   ]
  },
  {
   "cell_type": "code",
   "execution_count": 17,
   "metadata": {},
   "outputs": [
    {
     "data": {
      "text/plain": [
       "array([0.79950194, 0.6006635 ])"
      ]
     },
     "execution_count": 17,
     "metadata": {},
     "output_type": "execute_result"
    }
   ],
   "source": [
    "eigenVector[:,0]  # Principal PCA Vector"
   ]
  },
  {
   "cell_type": "code",
   "execution_count": 18,
   "metadata": {},
   "outputs": [
    {
     "name": "stdout",
     "output_type": "stream",
     "text": [
      "[[ 0.65632378 -0.75447935]\n",
      " [ 0.79950194  0.6006635 ]]\n"
     ]
    },
    {
     "data": {
      "image/png": "[encoded data removed]",
      "text/plain": [
       "<Figure size 480x320 with 1 Axes>"
      ]
     },
     "metadata": {
      "needs_background": "light"
     },
     "output_type": "display_data"
    }
   ],
   "source": [
    "ucap = np.array(Ucap)[0]\n",
    "Vector = eigenVector[:,0]           \n",
    "V = np.array([ucap,Vector])\n",
    "origin = [0], [0] # origin point\n",
    "print(V)\n",
    "\n",
    "plt.figure(dpi=80)\n",
    "plt.title(\"Priniciple Eigen Vector and LDA direction\")\n",
    "plt.xlabel(\"X-axis\")\n",
    "plt.ylabel(\"Y-axis\")\n",
    "plt.quiver(*origin, V[:,0], V[:,1], color=['r','b'], scale=3)\n",
    "plt.show()"
   ]
  },
  {
   "cell_type": "markdown",
   "metadata": {},
   "source": [
    "---"
   ]
  },
  {
   "cell_type": "markdown",
   "metadata": {},
   "source": [
    "# LDA on a Binary-class dataset"
   ]
  },
  {
   "cell_type": "code",
   "execution_count": 19,
   "metadata": {},
   "outputs": [],
   "source": [
    "from sklearn.model_selection import train_test_split\n",
    "from sklearn.discriminant_analysis import LinearDiscriminantAnalysis\n",
    "from sklearn.tree import DecisionTreeClassifier # Used for checking the performance of LDA"
   ]
  },
  {
   "cell_type": "code",
   "execution_count": 20,
   "metadata": {},
   "outputs": [
    {
     "data": {
      "text/plain": [
       "(200, 3)"
      ]
     },
     "execution_count": 20,
     "metadata": {},
     "output_type": "execute_result"
    }
   ],
   "source": [
    "dataset = np.genfromtxt(\"CheckerBoard_Dataset.csv\",delimiter=',')\n",
    "dataset.shape"
   ]
  },
  {
   "cell_type": "code",
   "execution_count": 21,
   "metadata": {},
   "outputs": [
    {
     "name": "stdout",
     "output_type": "stream",
     "text": [
      "[0. 1.]\n"
     ]
    }
   ],
   "source": [
    "X , y = dataset[:,:-1], dataset[:,-1]\n",
    "labels = np.unique(y)\n",
    "print(labels)"
   ]
  },
  {
   "cell_type": "code",
   "execution_count": 22,
   "metadata": {},
   "outputs": [],
   "source": [
    "X_p = np.array([X[i] for i in range(len(y)) if y[i]==labels[0]])\n",
    "X_n = np.array([X[i] for i in range(len(y)) if y[i]==labels[1]])"
   ]
  },
  {
   "cell_type": "code",
   "execution_count": 23,
   "metadata": {},
   "outputs": [
    {
     "name": "stdout",
     "output_type": "stream",
     "text": [
      "(100, 2) (100, 2)\n"
     ]
    }
   ],
   "source": [
    "print(X_p.shape,X_n.shape)"
   ]
  },
  {
   "cell_type": "code",
   "execution_count": 24,
   "metadata": {},
   "outputs": [
    {
     "data": {
      "image/png": "[encoded data removed]",
      "text/plain": [
       "<Figure size 432x288 with 1 Axes>"
      ]
     },
     "metadata": {
      "needs_background": "light"
     },
     "output_type": "display_data"
    }
   ],
   "source": [
    "plt.figure()\n",
    "plt.title(\"Scatter Plot\")\n",
    "plt.scatter(X_p[:,0],X_p[:,1],c='r')\n",
    "plt.scatter(X_n[:,0],X_n[:,1],c='b')\n",
    "plt.show()"
   ]
  },
  {
   "cell_type": "code",
   "execution_count": 25,
   "metadata": {},
   "outputs": [],
   "source": [
    "# Split into train/test\n",
    "X_train, X_test, y_train, y_test = train_test_split(X, y, test_size=0.3)"
   ]
  },
  {
   "cell_type": "code",
   "execution_count": 26,
   "metadata": {},
   "outputs": [
    {
     "name": "stdout",
     "output_type": "stream",
     "text": [
      "Accuracy 0.8333333333333334\n"
     ]
    }
   ],
   "source": [
    "tree = DecisionTreeClassifier(criterion=\"entropy\")\n",
    "tree.fit(X_train,y_train)\n",
    "accuracy = tree.score(X_test,y_test)\n",
    "print(\"Accuracy\",accuracy)"
   ]
  },
  {
   "cell_type": "code",
   "execution_count": 27,
   "metadata": {},
   "outputs": [],
   "source": [
    "LDA = LinearDiscriminantAnalysis(n_components=1) # model for reduction in 1D"
   ]
  },
  {
   "cell_type": "code",
   "execution_count": 28,
   "metadata": {},
   "outputs": [
    {
     "data": {
      "image/png": "[encoded data removed]",
      "text/plain": [
       "<Figure size 432x288 with 1 Axes>"
      ]
     },
     "metadata": {
      "needs_background": "light"
     },
     "output_type": "display_data"
    }
   ],
   "source": [
    "# Fit the method's model\n",
    "LDA.fit(X_train, y_train)\n",
    "\n",
    "# Fit a Decision Tree classifier on the embedded training set\n",
    "tree.fit(LDA.transform(X_train), y_train)\n",
    "\n",
    "# Compute the Decision Tree accuracy on the embedded test set\n",
    "acc = tree.score(LDA.transform(X_test), y_test)\n",
    "X_p_transformed = LDA.transform(X_p)\n",
    "X_n_transformed = LDA.transform(X_n)\n",
    "plt.figure()\n",
    "plt.scatter(X_p_transformed,np.zeros(len(X_p_transformed)),c='r')\n",
    "plt.scatter(X_n_transformed,np.zeros(len(X_n_transformed)),c='b')\n",
    "plt.title(\"LDA, Decision Tree\\nTest accuracy = {:.2f}\".format(acc))\n",
    "plt.show()"
   ]
  },
  {
   "cell_type": "markdown",
   "metadata": {},
   "source": [
    "---"
   ]
  },
  {
   "cell_type": "markdown",
   "metadata": {},
   "source": [
    "# LDA on a Multi-class Dataset(Iris)"
   ]
  },
  {
   "cell_type": "code",
   "execution_count": 29,
   "metadata": {},
   "outputs": [],
   "source": [
    "import numpy as np\n",
    "import matplotlib.pyplot as plt\n",
    "from sklearn import datasets\n",
    "from sklearn.discriminant_analysis import LinearDiscriminantAnalysis\n",
    "from sklearn.tree import DecisionTreeClassifier\n",
    "from sklearn.model_selection import train_test_split"
   ]
  },
  {
   "cell_type": "code",
   "execution_count": 30,
   "metadata": {},
   "outputs": [
    {
     "name": "stdout",
     "output_type": "stream",
     "text": [
      "dict_keys(['data', 'target', 'target_names', 'DESCR', 'feature_names', 'filename'])\n",
      "['sepal length (cm)', 'sepal width (cm)', 'petal length (cm)', 'petal width (cm)']\n",
      "['setosa' 'versicolor' 'virginica']\n"
     ]
    }
   ],
   "source": [
    "iris = datasets.load_iris() # iris data set\n",
    "X = iris.data\n",
    "y = iris.target\n",
    "print(iris.keys())\n",
    "features=iris.feature_names\n",
    "target_names = iris.target_names\n",
    "print(features)\n",
    "print(target_names)\n",
    "colors = ['navy', 'turquoise', 'darkorange']"
   ]
  },
  {
   "cell_type": "code",
   "execution_count": 31,
   "metadata": {},
   "outputs": [],
   "source": [
    "# Split into train/test\n",
    "X_train, X_test, y_train, y_test = train_test_split(X, y, test_size=0.3)"
   ]
  },
  {
   "cell_type": "code",
   "execution_count": 32,
   "metadata": {},
   "outputs": [],
   "source": [
    "# Use a Decision Tree classifier to evaluate the methods\n",
    "tree = DecisionTreeClassifier(criterion='entropy')"
   ]
  },
  {
   "cell_type": "code",
   "execution_count": 33,
   "metadata": {},
   "outputs": [
    {
     "name": "stdout",
     "output_type": "stream",
     "text": [
      "Without LDA 0.9777777777777777\n"
     ]
    }
   ],
   "source": [
    "tree.fit(X_train,y_train)\n",
    "acc = tree.score(X_test,y_test)\n",
    "print(\"Without LDA\",acc)"
   ]
  },
  {
   "cell_type": "code",
   "execution_count": 34,
   "metadata": {},
   "outputs": [],
   "source": [
    "lda2 = LinearDiscriminantAnalysis(n_components=2) # model for reduction in 2D\n",
    "lda1 = LinearDiscriminantAnalysis(n_components=1) # model for reduction in 1D"
   ]
  },
  {
   "cell_type": "markdown",
   "metadata": {},
   "source": [
    "## Checking Accuracy after reducing data to 2D"
   ]
  },
  {
   "cell_type": "code",
   "execution_count": 35,
   "metadata": {},
   "outputs": [
    {
     "data": {
      "image/png": "[encoded data removed]",
      "text/plain": [
       "<Figure size 864x360 with 1 Axes>"
      ]
     },
     "metadata": {
      "needs_background": "light"
     },
     "output_type": "display_data"
    }
   ],
   "source": [
    "# Fit the method's model\n",
    "lda2.fit(X_train, y_train)\n",
    "\n",
    "# Fit a Decision Tree classifier on the embedded training set\n",
    "tree.fit(lda2.transform(X_train), y_train)\n",
    "\n",
    "# Compute the Decision Tree accuracy on the embedded test set\n",
    "acc = tree.score(lda2.transform(X_test), y_test)\n",
    "X_2 = lda2.transform(X)\n",
    "plt.figure(figsize=(12,5))\n",
    "for color, i, target_name in zip(colors, [0, 1, 2], target_names):\n",
    "    plt.scatter(X_2[y == i, 0], X_2[y == i, 1], alpha=.8, color=color,\n",
    "                label=target_name)\n",
    "plt.legend(loc='best')\n",
    "plt.title(\"LDA, Decision Tree\\nTest accuracy = {:.2f}\".format(acc))\n",
    "plt.show()"
   ]
  },
  {
   "cell_type": "markdown",
   "metadata": {},
   "source": [
    "## Checking Accuracy after reducing data to 1D"
   ]
  },
  {
   "cell_type": "code",
   "execution_count": 36,
   "metadata": {},
   "outputs": [
    {
     "data": {
      "image/png": "[encoded data removed]",
      "text/plain": [
       "<Figure size 576x216 with 1 Axes>"
      ]
     },
     "metadata": {
      "needs_background": "light"
     },
     "output_type": "display_data"
    }
   ],
   "source": [
    "# Fit the method's model\n",
    "lda1.fit(X_train, y_train)\n",
    "\n",
    "# Fit a Decision Tree classifier on the embedded training set\n",
    "tree.fit(lda1.transform(X_train), y_train)\n",
    "\n",
    "# Compute the Decision Tree accuracy on the embedded test set\n",
    "acc = tree.score(lda1.transform(X_test), y_test)\n",
    "X_1 = lda1.transform(X)\n",
    "plt.figure(figsize=(8,3))\n",
    "for color, i, target_name in zip(colors, [0, 1, 2], target_names):\n",
    "    plt.scatter(X_1[y == i, 0],np.zeros_like(X[y == i, 1]), alpha=.8, color=color,\n",
    "                label=target_name)\n",
    "plt.legend(loc='best')\n",
    "plt.title(\"LDA, Decision Tree\\nTest accuracy = {:.2f}\".format(acc))\n",
    "plt.show()"
   ]
  },
  {
   "cell_type": "code",
   "execution_count": null,
   "metadata": {},
   "outputs": [],
   "source": []
  }
 ],
 "metadata": {
  "kernelspec": {
   "display_name": "Python 3",
   "language": "python",
   "name": "python3"
  },
  "language_info": {
   "codemirror_mode": {
    "name": "ipython",
    "version": 3
   },
   "file_extension": ".py",
   "mimetype": "text/x-python",
   "name": "python",
   "nbconvert_exporter": "python",
   "pygments_lexer": "ipython3",
   "version": "3.7.7"
  }
 },
 "nbformat": 4,
 "nbformat_minor": 2
}
