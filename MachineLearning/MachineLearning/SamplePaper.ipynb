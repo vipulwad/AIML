{
 "cells": [
  {
   "cell_type": "code",
   "execution_count": 1,
   "id": "e53a5430",
   "metadata": {},
   "outputs": [],
   "source": [
    "import numpy as np\n",
    "import math\n",
    "import weightedstats as ws"
   ]
  },
  {
   "cell_type": "code",
   "execution_count": 38,
   "id": "9ce33a44",
   "metadata": {},
   "outputs": [],
   "source": [
    "ar = np.array([[8,2],\n",
    "              [15,2],\n",
    "              [-5,4],\n",
    "              [31,2],\n",
    "              [19,4],\n",
    "              [4,8],\n",
    "              ])"
   ]
  },
  {
   "cell_type": "code",
   "execution_count": 39,
   "id": "70bc4ede",
   "metadata": {},
   "outputs": [
    {
     "data": {
      "text/plain": [
       "array([2, 2, 4, 2, 4, 8])"
      ]
     },
     "execution_count": 39,
     "metadata": {},
     "output_type": "execute_result"
    }
   ],
   "source": [
    "ar[:,1]"
   ]
  },
  {
   "cell_type": "markdown",
   "id": "7bd2c5df",
   "metadata": {},
   "source": [
    "## Weighted Mean"
   ]
  },
  {
   "cell_type": "code",
   "execution_count": null,
   "id": "478929cb",
   "metadata": {},
   "outputs": [],
   "source": []
  },
  {
   "cell_type": "code",
   "execution_count": 40,
   "id": "d80ec907",
   "metadata": {},
   "outputs": [
    {
     "name": "stdout",
     "output_type": "stream",
     "text": [
      "8 2\n",
      "16\n",
      "2\n",
      "15 2\n",
      "46\n",
      "4\n",
      "-5 4\n",
      "26\n",
      "8\n",
      "31 2\n",
      "88\n",
      "10\n",
      "19 4\n",
      "164\n",
      "14\n",
      "4 8\n",
      "196\n",
      "22\n",
      "8.909090909090908\n"
     ]
    }
   ],
   "source": [
    "#Find Weighted Mean\n",
    "weighted_sum = 0\n",
    "weighted_denominator=0\n",
    "for x,w in ar:\n",
    "    print(x,w)\n",
    "    weighted_sum=weighted_sum+(x*w)\n",
    "    weighted_denominator+=w\n",
    "    print(weighted_sum)\n",
    "    print(weighted_denominator)\n",
    "\n",
    "weighted_mean=weighted_sum/weighted_denominator\n",
    "print (weighted_mean)"
   ]
  },
  {
   "cell_type": "markdown",
   "id": "5fc5f65a",
   "metadata": {},
   "source": [
    "## Weighted Median"
   ]
  },
  {
   "cell_type": "code",
   "execution_count": 47,
   "id": "253610e0",
   "metadata": {},
   "outputs": [
    {
     "data": {
      "text/plain": [
       "array([[ 4,  8],\n",
       "       [19,  4],\n",
       "       [-5,  4],\n",
       "       [31,  2],\n",
       "       [15,  2],\n",
       "       [ 8,  2]])"
      ]
     },
     "execution_count": 47,
     "metadata": {},
     "output_type": "execute_result"
    }
   ],
   "source": [
    "#find Weighted median\n",
    "#sort based on 2nd column\n",
    "sortedar=ar[np.argsort(ar[:, 0])[::-1]]\n",
    "sortedar"
   ]
  },
  {
   "cell_type": "code",
   "execution_count": 48,
   "id": "fd807837",
   "metadata": {},
   "outputs": [
    {
     "data": {
      "text/plain": [
       "11.0"
      ]
     },
     "execution_count": 48,
     "metadata": {},
     "output_type": "execute_result"
    }
   ],
   "source": [
    "median_weight=sortedar[:, 1].sum()/2\n",
    "median_weight"
   ]
  },
  {
   "cell_type": "code",
   "execution_count": 49,
   "id": "11076670",
   "metadata": {},
   "outputs": [
    {
     "name": "stdout",
     "output_type": "stream",
     "text": [
      "0 8 0\n",
      "8 4 1\n",
      "12 1\n"
     ]
    }
   ],
   "source": [
    "#find cumulative\n",
    "cum_weight = 0\n",
    "rowid = 0\n",
    "for i in sortedar[:,1]:\n",
    "    print(cum_weight, i, rowid)\n",
    "    cum_weight = cum_weight + i\n",
    "    if cum_weight> median_weight:\n",
    "        break\n",
    "    rowid+=1\n",
    "    \n",
    "print(cum_weight, rowid)"
   ]
  },
  {
   "cell_type": "code",
   "execution_count": 50,
   "id": "edd36ae2",
   "metadata": {},
   "outputs": [
    {
     "data": {
      "text/plain": [
       "19"
      ]
     },
     "execution_count": 50,
     "metadata": {},
     "output_type": "execute_result"
    }
   ],
   "source": [
    "sortedar[rowid][0]"
   ]
  },
  {
   "cell_type": "code",
   "execution_count": 51,
   "id": "c65f0265",
   "metadata": {},
   "outputs": [
    {
     "name": "stdout",
     "output_type": "stream",
     "text": [
      "19\n"
     ]
    }
   ],
   "source": [
    "if sortedar[rowid][0] > 1:\n",
    "    median_val = sortedar[rowid][0]\n",
    "else:\n",
    "    median_val = (sortedar[rowid-1][0] + sortedar[rowid][0])/2\n",
    "#else if cum_weight - 1 < median_weight:\n",
    "#    median_val = (sortedar[rowid-1][0] + sortedar[rowid][0])/2\n",
    "print (median_val)"
   ]
  },
  {
   "cell_type": "code",
   "execution_count": 52,
   "id": "dd15032b",
   "metadata": {},
   "outputs": [
    {
     "data": {
      "text/plain": [
       "4"
      ]
     },
     "execution_count": 52,
     "metadata": {},
     "output_type": "execute_result"
    }
   ],
   "source": [
    "ws.weighted_median(ar[:,0], weights=ar[:,1])"
   ]
  },
  {
   "cell_type": "markdown",
   "id": "5a6e012a",
   "metadata": {},
   "source": [
    "## Weighted Standard Deviation"
   ]
  },
  {
   "cell_type": "code",
   "execution_count": 53,
   "id": "1e5e3594",
   "metadata": {},
   "outputs": [
    {
     "data": {
      "text/plain": [
       "array([[ 8,  2],\n",
       "       [15,  2],\n",
       "       [-5,  4],\n",
       "       [31,  2],\n",
       "       [19,  4],\n",
       "       [ 4,  8]])"
      ]
     },
     "execution_count": 53,
     "metadata": {},
     "output_type": "execute_result"
    }
   ],
   "source": [
    "ar"
   ]
  },
  {
   "cell_type": "code",
   "execution_count": 60,
   "id": "927f6f18",
   "metadata": {},
   "outputs": [
    {
     "data": {
      "text/plain": [
       "23.54878881270658"
      ]
     },
     "execution_count": 60,
     "metadata": {},
     "output_type": "execute_result"
    }
   ],
   "source": [
    "numerator = 0\n",
    "denominator = 0\n",
    "\n",
    "for x,w in ar:\n",
    "    numerator = numerator + (x*w)**2\n",
    "    denominator = denominator + w\n",
    "\n",
    "weighted_std_dev = math.sqrt(numerator/denominator)\n",
    "weighted_std_dev"
   ]
  },
  {
   "cell_type": "code",
   "execution_count": null,
   "id": "bc713ad4",
   "metadata": {},
   "outputs": [],
   "source": []
  },
  {
   "cell_type": "markdown",
   "id": "a67856ea",
   "metadata": {},
   "source": [
    "## Mahalanobis Distance"
   ]
  },
  {
   "cell_type": "code",
   "execution_count": null,
   "id": "e232a8a2",
   "metadata": {},
   "outputs": [],
   "source": []
  },
  {
   "cell_type": "code",
   "execution_count": null,
   "id": "b039359a",
   "metadata": {},
   "outputs": [],
   "source": []
  }
 ],
 "metadata": {
  "kernelspec": {
   "display_name": "Python 3 (ipykernel)",
   "language": "python",
   "name": "python3"
  },
  "language_info": {
   "codemirror_mode": {
    "name": "ipython",
    "version": 3
   },
   "file_extension": ".py",
   "mimetype": "text/x-python",
   "name": "python",
   "nbconvert_exporter": "python",
   "pygments_lexer": "ipython3",
   "version": "3.9.13"
  }
 },
 "nbformat": 4,
 "nbformat_minor": 5
}
