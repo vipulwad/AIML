{
 "cells": [
  {
   "cell_type": "markdown",
   "metadata": {
    "id": "pFxiVeXGO7d3"
   },
   "source": [
    "# Performance Analysis of Classification problem\n",
    "Performance analysis for supervised machine learning involves assessing how well a model performs on a given task, typically through the use of evaluation metrics and visualizations.\n",
    "\n",
    "Performance analysis for supervised machine learning involves assessing how well a model performs on a given task, typically through the use of evaluation metrics and visualizations. The specific metrics and methods used may vary depending on the nature of the problem (e.g., classification or regression) and the characteristics of the data. Here are some common techniques for performance analysis in supervised machine learning:\n",
    "\n",
    "1. **Confusion Matrix:**\n",
    "   - Provides a detailed breakdown of true positive, true negative, false positive, and false negative predictions.\n",
    "\n",
    "2. **Accuracy:**\n",
    "   - The ratio of correctly predicted instances to the total instances.\n",
    "\n",
    "3. **Precision, Recall, and F1 Score:**\n",
    "   - Precision: Proportion of true positive predictions among all positive predictions.\n",
    "   - Recall (Sensitivity): Proportion of true positive predictions among all actual positives.\n",
    "   - F1 Score: Harmonic mean of precision and recall, providing a balance between the two.\n",
    "\n",
    "4. **Receiver Operating Characteristic (ROC) Curve and Area Under the Curve (AUC):**\n",
    "   - Visualizes the trade-off between true positive rate and false positive rate for different probability thresholds.\n"
   ]
  },
  {
   "cell_type": "markdown",
   "metadata": {
    "id": "OqB7I4s5QOHU"
   },
   "source": [
    "## Confusion Matrix\n",
    "\n",
    "A confusion matrix is a table used in classification to evaluate the performance of a machine learning model. It provides a detailed breakdown of the model's predictions by comparing them to the true labels. The matrix consists of four components: true positives (TP), true negatives (TN), false positives (FP), and false negatives (FN).\n",
    "\n",
    "Let's break down the confusion matrix components using a binary classification example:\n",
    "\n",
    "Suppose we have a binary classification problem where we predict whether an email is spam (positive class) or not spam (negative class).\n",
    "\n",
    "**Example Confusion Matrix:**\n",
    "\n",
    "Assume we have made predictions for 100 emails:\n",
    "\n",
    "- **True Positives (TP):** 30 emails were actually spam, and the model correctly predicted them as spam.\n",
    "- **True Negatives (TN):** 60 emails were not spam, and the model correctly predicted them as not spam.\n",
    "- **False Positives (FP):** 5 emails were not spam, but the model incorrectly predicted them as spam.\n",
    "- **False Negatives (FN):** 5 emails were actually spam, but the model incorrectly predicted them as not spam.\n",
    "\n",
    "The confusion matrix would look like this:\n",
    "\n",
    "```\n",
    "                   Actual Not Spam (0)   Actual Spam (1)\n",
    "Predicted Not Spam        60 (TN)              5 (FP)\n",
    "Predicted Spam             5 (FN)             30 (TP)\n",
    "```\n",
    "\n",
    "In this confusion matrix:\n",
    "\n",
    "- True Positives (TP): 30 emails were correctly predicted as spam.\n",
    "- True Negatives (TN): 60 emails were correctly predicted as not spam.\n",
    "- False Positives (FP): 5 emails were incorrectly predicted as spam (Type I error).\n",
    "- False Negatives (FN): 5 emails were incorrectly predicted as not spam (Type II error).\n",
    "\n",
    "From the confusion matrix, you can calculate various performance metrics such as accuracy, precision, recall, and F1 score, which provide insights into the model's overall performance and its ability to correctly classify instances of each class."
   ]
  },
  {
   "cell_type": "code",
   "execution_count": null,
   "metadata": {
    "id": "3uMJg3Y_Ozfq"
   },
   "outputs": [],
   "source": []
  },
  {
   "cell_type": "markdown",
   "metadata": {
    "id": "9Vf5rrDeRiyN"
   },
   "source": [
    "## Precision, Recall, and F1 Score\n",
    "Precision, recall, and F1 score are commonly used metrics in classification problems, especially when dealing with imbalanced datasets. These metrics provide insights into the performance of a classification model beyond simple accuracy. Let's define each of these metrics:\n",
    "\n",
    "1. **Precision:**\n",
    "   - Precision is the ratio of correctly predicted positive observations (True Positives) to the total predicted positives (True Positives + False Positives). It is a measure of the accuracy of the positive predictions.\n",
    "   - Precision = $(\\frac{\\text{True Positives}}{\\text{True Positives + False Positives}})$\n",
    "   - Precision ranges from 0 to 1, where 1 indicates perfect precision (no false positives).\n",
    "\n",
    "2. **Recall (Sensitivity or True Positive Rate):**\n",
    "   - Recall is the ratio of correctly predicted positive observations (True Positives) to the total actual positives (True Positives + False Negatives). It is a measure of the model's ability to capture all positive instances.\n",
    "   - Recall = $(\\frac{\\text{True Positives}}{\\text{True Positives + False Negatives}})$\n",
    "   - Recall ranges from 0 to 1, where 1 indicates perfect recall (no false negatives).\n",
    "\n",
    "3. **F1 Score:**\n",
    "   - The F1 score is the harmonic mean of precision and recall. It provides a balance between precision and recall, especially when dealing with imbalanced datasets.\n",
    "   - F1 Score = $(\\frac{2 \\times \\text{Precision} \\times \\text{Recall}}{\\text{Precision + Recall}})$\n",
    "   - The F1 score ranges from 0 to 1, where 1 indicates a perfect balance between precision and recall.\n",
    "\n",
    "Here's how you can interpret these metrics:\n",
    "\n",
    "- **Precision:** High precision means that when the model predicts positive, it is likely correct. It is essential when the cost of false positives is high.\n",
    "  \n",
    "- **Recall:** High recall means that the model is able to capture most of the positive instances. It is crucial when the cost of false negatives is high.\n",
    "\n",
    "- **F1 Score:** The F1 score is suitable when you want to strike a balance between precision and recall. It is particularly useful in situations where there is an imbalance between the classes."
   ]
  },
  {
   "cell_type": "code",
   "execution_count": null,
   "metadata": {
    "id": "xiqTDtf59QJL"
   },
   "outputs": [],
   "source": []
  },
  {
   "cell_type": "markdown",
   "metadata": {
    "id": "fs94ubaK9Qu1"
   },
   "source": [
    "# Exercise\n",
    " ROC curve of Chebyshev inequality based classifier.\n",
    "\n",
    "(a) Write the following function in python to generate n number of points\n",
    "in a ring on 2D plane centered at (c x, c y) of respective inner and\n",
    "outer radius rinner and router.\n",
    "genRandPointsInRing( rinner, router , [c x, c y]\n",
    "T\n",
    ", n )\n",
    "Please note that we have to check and maintain the condition that\n",
    "rinner ≥ 0 and router > rinner. Also, the same function can be used\n",
    "to generate points within a circle of radius rcircle by setting rinner = 0\n",
    "and router = rcircle.\n",
    "\n",
    "(b) Using the above function generate n+ = 250 points belonging to the\n",
    "positive class in a circle of radius rcircle = 5 centered at [c x, c y]\n",
    "T =\n",
    "[0, 0]T\n",
    ". Using the same function generate n− = 350 points belonging\n",
    "to the negative class in a ring of radii rinner = 4 , router = 8 and\n",
    "centered at [c x, c y]\n",
    "T = [0, 0]T and display the scatter plot of the\n",
    "positive class points and negative class points in red and blue color\n",
    "respectively.\n",
    "\n",
    "(c) Use the Chebyshev inequality based classifier on the positive class\n",
    "points and plot the ROC curve with k = 0.01 : 0.05 : 10\n",
    "\n",
    "(d) Experiment with non-overlapping class ( rcircle < rinner ) and over\u0002lapping class ( rcircle > rinner ) and plot the ROC curves for the same.\n",
    "Please note that router is always greater than rcircle and rinner."
   ]
  },
  {
   "cell_type": "code",
   "execution_count": 77,
   "metadata": {
    "id": "H87JMETd_YDQ"
   },
   "outputs": [],
   "source": [
    "import numpy as np\n",
    "import matplotlib.pyplot as plt\n",
    "import math"
   ]
  },
  {
   "cell_type": "code",
   "execution_count": 78,
   "metadata": {
    "id": "tKBuGC3i_b8k"
   },
   "outputs": [],
   "source": [
    "def genRandPointsInRing(r_inner,r_outer,c_x,c_y,n):\n",
    "    A_positive=[]\n",
    "    for i in range(0,n):\n",
    "        R=np.random.uniform(r_inner,r_outer)\n",
    "        theta=np.random.uniform(0,360)\n",
    "        x=c_x+R*np.cos(theta)\n",
    "        y=c_y+R*np.sin(theta)\n",
    "        A_positive.append([x,y])\n",
    "#    print(A_positive)\n",
    "#    print(x,y)\n",
    "    return A_positive\n",
    "#function definition  end"
   ]
  },
  {
   "cell_type": "code",
   "execution_count": 79,
   "metadata": {
    "id": "IyE1YqO0_ju2"
   },
   "outputs": [],
   "source": [
    "#function call\n",
    "A=genRandPointsInRing(0,4,0,0,250)\n",
    "C=genRandPointsInRing(5,8,0,0,350)\n",
    "Pos=np.array(A)\n",
    "Neg=np.array(C)"
   ]
  },
  {
   "cell_type": "code",
   "execution_count": 80,
   "metadata": {
    "colab": {
     "base_uri": "https://localhost:8080/",
     "height": 430
    },
    "id": "9pF8VP2fA0SC",
    "outputId": "5bf80165-167c-4fb5-ad40-0e19712a2d03"
   },
   "outputs": [
    {
     "data": {
      "image/png": "[encoded data removed]",
      "text/plain": [
       "<Figure size 640x480 with 1 Axes>"
      ]
     },
     "metadata": {},
     "output_type": "display_data"
    }
   ],
   "source": [
    "plt.scatter(Pos[:,0],Pos[:,1], color=\"r\", marker='x')\n",
    "plt.scatter(Neg[:,0],Neg[:,1], color=\"b\", marker='o')\n",
    "plt.show()"
   ]
  },
  {
   "cell_type": "code",
   "execution_count": 81,
   "metadata": {
    "colab": {
     "base_uri": "https://localhost:8080/"
    },
    "id": "qyDPhqzZBM-o",
    "outputId": "e7736201-ac03-483b-c21f-2e0c6e9ff14f"
   },
   "outputs": [
    {
     "name": "stdout",
     "output_type": "stream",
     "text": [
      "[[0.]\n",
      " [0.]\n",
      " [0.]\n",
      " [0.]\n",
      " [0.]\n",
      " [0.]\n",
      " [0.]\n",
      " [0.]\n",
      " [0.]\n",
      " [0.]\n",
      " [0.]\n",
      " [0.]\n",
      " [0.]\n",
      " [0.]\n",
      " [0.]\n",
      " [0.]\n",
      " [0.]\n",
      " [0.]\n",
      " [0.]\n",
      " [0.]\n",
      " [0.]\n",
      " [0.]\n",
      " [0.]\n",
      " [0.]\n",
      " [0.]\n",
      " [0.]\n",
      " [0.]\n",
      " [0.]\n",
      " [0.]\n",
      " [0.]\n",
      " [0.]\n",
      " [0.]\n",
      " [0.]\n",
      " [0.]\n",
      " [0.]\n",
      " [0.]\n",
      " [0.]\n",
      " [0.]\n",
      " [0.]\n",
      " [0.]\n",
      " [0.]\n",
      " [0.]\n",
      " [0.]\n",
      " [0.]\n",
      " [0.]\n",
      " [0.]\n",
      " [0.]\n",
      " [0.]\n",
      " [0.]\n",
      " [0.]\n",
      " [0.]\n",
      " [0.]\n",
      " [0.]\n",
      " [0.]\n",
      " [0.]\n",
      " [0.]\n",
      " [0.]\n",
      " [0.]\n",
      " [0.]\n",
      " [0.]\n",
      " [0.]\n",
      " [0.]\n",
      " [0.]\n",
      " [0.]\n",
      " [0.]\n",
      " [0.]\n",
      " [0.]\n",
      " [0.]\n",
      " [0.]\n",
      " [0.]\n",
      " [0.]\n",
      " [0.]\n",
      " [0.]\n",
      " [0.]\n",
      " [0.]\n",
      " [0.]\n",
      " [0.]\n",
      " [0.]\n",
      " [0.]\n",
      " [0.]\n",
      " [0.]\n",
      " [0.]\n",
      " [0.]\n",
      " [0.]\n",
      " [0.]\n",
      " [0.]\n",
      " [0.]\n",
      " [0.]\n",
      " [0.]\n",
      " [0.]\n",
      " [0.]\n",
      " [0.]\n",
      " [0.]\n",
      " [0.]\n",
      " [0.]\n",
      " [0.]\n",
      " [0.]\n",
      " [0.]\n",
      " [0.]\n",
      " [0.]\n",
      " [0.]\n",
      " [0.]\n",
      " [0.]\n",
      " [0.]\n",
      " [0.]\n",
      " [0.]\n",
      " [0.]\n",
      " [0.]\n",
      " [0.]\n",
      " [0.]\n",
      " [0.]\n",
      " [0.]\n",
      " [0.]\n",
      " [0.]\n",
      " [0.]\n",
      " [0.]\n",
      " [0.]\n",
      " [0.]\n",
      " [0.]\n",
      " [0.]\n",
      " [0.]\n",
      " [0.]\n",
      " [0.]\n",
      " [0.]\n",
      " [0.]\n",
      " [0.]\n",
      " [0.]\n",
      " [0.]\n",
      " [0.]\n",
      " [0.]\n",
      " [0.]\n",
      " [0.]\n",
      " [0.]\n",
      " [0.]\n",
      " [0.]\n",
      " [0.]\n",
      " [0.]\n",
      " [0.]\n",
      " [0.]\n",
      " [0.]\n",
      " [0.]\n",
      " [0.]\n",
      " [0.]\n",
      " [0.]\n",
      " [0.]\n",
      " [0.]\n",
      " [0.]\n",
      " [0.]\n",
      " [0.]\n",
      " [0.]\n",
      " [0.]\n",
      " [0.]\n",
      " [0.]\n",
      " [0.]\n",
      " [0.]\n",
      " [0.]\n",
      " [0.]\n",
      " [0.]\n",
      " [0.]\n",
      " [0.]\n",
      " [0.]\n",
      " [0.]\n",
      " [0.]\n",
      " [0.]\n",
      " [0.]\n",
      " [0.]\n",
      " [0.]\n",
      " [0.]\n",
      " [0.]\n",
      " [0.]\n",
      " [0.]\n",
      " [0.]\n",
      " [0.]\n",
      " [0.]\n",
      " [0.]\n",
      " [0.]\n",
      " [0.]\n",
      " [0.]\n",
      " [0.]\n",
      " [0.]\n",
      " [0.]\n",
      " [0.]\n",
      " [0.]\n",
      " [0.]\n",
      " [0.]\n",
      " [0.]\n",
      " [0.]\n",
      " [0.]\n",
      " [0.]\n",
      " [0.]\n",
      " [0.]\n",
      " [0.]\n",
      " [0.]\n",
      " [0.]\n",
      " [0.]\n",
      " [0.]\n",
      " [0.]\n",
      " [0.]\n",
      " [0.]\n",
      " [0.]\n",
      " [0.]\n",
      " [0.]\n",
      " [0.]\n",
      " [0.]\n",
      " [0.]\n",
      " [0.]\n",
      " [0.]\n",
      " [0.]\n",
      " [0.]\n",
      " [0.]\n",
      " [0.]\n",
      " [0.]\n",
      " [0.]\n",
      " [0.]\n",
      " [0.]\n",
      " [0.]\n",
      " [0.]\n",
      " [0.]\n",
      " [0.]\n",
      " [0.]\n",
      " [0.]\n",
      " [0.]\n",
      " [0.]\n",
      " [0.]\n",
      " [0.]\n",
      " [0.]\n",
      " [0.]\n",
      " [0.]\n",
      " [0.]\n",
      " [0.]\n",
      " [0.]\n",
      " [0.]\n",
      " [0.]\n",
      " [0.]\n",
      " [0.]\n",
      " [0.]\n",
      " [0.]\n",
      " [0.]\n",
      " [0.]\n",
      " [0.]\n",
      " [0.]\n",
      " [0.]\n",
      " [0.]\n",
      " [0.]\n",
      " [0.]\n",
      " [0.]\n",
      " [0.]\n",
      " [0.]\n",
      " [0.]\n",
      " [0.]]\n",
      "[[1.]\n",
      " [1.]\n",
      " [1.]\n",
      " [1.]\n",
      " [1.]\n",
      " [1.]\n",
      " [1.]\n",
      " [1.]\n",
      " [1.]\n",
      " [1.]\n",
      " [1.]\n",
      " [1.]\n",
      " [1.]\n",
      " [1.]\n",
      " [1.]\n",
      " [1.]\n",
      " [1.]\n",
      " [1.]\n",
      " [1.]\n",
      " [1.]\n",
      " [1.]\n",
      " [1.]\n",
      " [1.]\n",
      " [1.]\n",
      " [1.]\n",
      " [1.]\n",
      " [1.]\n",
      " [1.]\n",
      " [1.]\n",
      " [1.]\n",
      " [1.]\n",
      " [1.]\n",
      " [1.]\n",
      " [1.]\n",
      " [1.]\n",
      " [1.]\n",
      " [1.]\n",
      " [1.]\n",
      " [1.]\n",
      " [1.]\n",
      " [1.]\n",
      " [1.]\n",
      " [1.]\n",
      " [1.]\n",
      " [1.]\n",
      " [1.]\n",
      " [1.]\n",
      " [1.]\n",
      " [1.]\n",
      " [1.]\n",
      " [1.]\n",
      " [1.]\n",
      " [1.]\n",
      " [1.]\n",
      " [1.]\n",
      " [1.]\n",
      " [1.]\n",
      " [1.]\n",
      " [1.]\n",
      " [1.]\n",
      " [1.]\n",
      " [1.]\n",
      " [1.]\n",
      " [1.]\n",
      " [1.]\n",
      " [1.]\n",
      " [1.]\n",
      " [1.]\n",
      " [1.]\n",
      " [1.]\n",
      " [1.]\n",
      " [1.]\n",
      " [1.]\n",
      " [1.]\n",
      " [1.]\n",
      " [1.]\n",
      " [1.]\n",
      " [1.]\n",
      " [1.]\n",
      " [1.]\n",
      " [1.]\n",
      " [1.]\n",
      " [1.]\n",
      " [1.]\n",
      " [1.]\n",
      " [1.]\n",
      " [1.]\n",
      " [1.]\n",
      " [1.]\n",
      " [1.]\n",
      " [1.]\n",
      " [1.]\n",
      " [1.]\n",
      " [1.]\n",
      " [1.]\n",
      " [1.]\n",
      " [1.]\n",
      " [1.]\n",
      " [1.]\n",
      " [1.]\n",
      " [1.]\n",
      " [1.]\n",
      " [1.]\n",
      " [1.]\n",
      " [1.]\n",
      " [1.]\n",
      " [1.]\n",
      " [1.]\n",
      " [1.]\n",
      " [1.]\n",
      " [1.]\n",
      " [1.]\n",
      " [1.]\n",
      " [1.]\n",
      " [1.]\n",
      " [1.]\n",
      " [1.]\n",
      " [1.]\n",
      " [1.]\n",
      " [1.]\n",
      " [1.]\n",
      " [1.]\n",
      " [1.]\n",
      " [1.]\n",
      " [1.]\n",
      " [1.]\n",
      " [1.]\n",
      " [1.]\n",
      " [1.]\n",
      " [1.]\n",
      " [1.]\n",
      " [1.]\n",
      " [1.]\n",
      " [1.]\n",
      " [1.]\n",
      " [1.]\n",
      " [1.]\n",
      " [1.]\n",
      " [1.]\n",
      " [1.]\n",
      " [1.]\n",
      " [1.]\n",
      " [1.]\n",
      " [1.]\n",
      " [1.]\n",
      " [1.]\n",
      " [1.]\n",
      " [1.]\n",
      " [1.]\n",
      " [1.]\n",
      " [1.]\n",
      " [1.]\n",
      " [1.]\n",
      " [1.]\n",
      " [1.]\n",
      " [1.]\n",
      " [1.]\n",
      " [1.]\n",
      " [1.]\n",
      " [1.]\n",
      " [1.]\n",
      " [1.]\n",
      " [1.]\n",
      " [1.]\n",
      " [1.]\n",
      " [1.]\n",
      " [1.]\n",
      " [1.]\n",
      " [1.]\n",
      " [1.]\n",
      " [1.]\n",
      " [1.]\n",
      " [1.]\n",
      " [1.]\n",
      " [1.]\n",
      " [1.]\n",
      " [1.]\n",
      " [1.]\n",
      " [1.]\n",
      " [1.]\n",
      " [1.]\n",
      " [1.]\n",
      " [1.]\n",
      " [1.]\n",
      " [1.]\n",
      " [1.]\n",
      " [1.]\n",
      " [1.]\n",
      " [1.]\n",
      " [1.]\n",
      " [1.]\n",
      " [1.]\n",
      " [1.]\n",
      " [1.]\n",
      " [1.]\n",
      " [1.]\n",
      " [1.]\n",
      " [1.]\n",
      " [1.]\n",
      " [1.]\n",
      " [1.]\n",
      " [1.]\n",
      " [1.]\n",
      " [1.]\n",
      " [1.]\n",
      " [1.]\n",
      " [1.]\n",
      " [1.]\n",
      " [1.]\n",
      " [1.]\n",
      " [1.]\n",
      " [1.]\n",
      " [1.]\n",
      " [1.]\n",
      " [1.]\n",
      " [1.]\n",
      " [1.]\n",
      " [1.]\n",
      " [1.]\n",
      " [1.]\n",
      " [1.]\n",
      " [1.]\n",
      " [1.]\n",
      " [1.]\n",
      " [1.]\n",
      " [1.]\n",
      " [1.]\n",
      " [1.]\n",
      " [1.]\n",
      " [1.]\n",
      " [1.]\n",
      " [1.]\n",
      " [1.]\n",
      " [1.]\n",
      " [1.]\n",
      " [1.]\n",
      " [1.]\n",
      " [1.]\n",
      " [1.]\n",
      " [1.]\n",
      " [1.]\n",
      " [1.]\n",
      " [1.]\n",
      " [1.]\n",
      " [1.]\n",
      " [1.]\n",
      " [1.]\n",
      " [1.]\n",
      " [1.]\n",
      " [1.]\n",
      " [1.]\n",
      " [1.]\n",
      " [1.]\n",
      " [1.]\n",
      " [1.]\n",
      " [1.]\n",
      " [1.]\n",
      " [1.]\n",
      " [1.]\n",
      " [1.]\n",
      " [1.]\n",
      " [1.]\n",
      " [1.]\n",
      " [1.]\n",
      " [1.]\n",
      " [1.]\n",
      " [1.]\n",
      " [1.]\n",
      " [1.]\n",
      " [1.]\n",
      " [1.]\n",
      " [1.]\n",
      " [1.]\n",
      " [1.]\n",
      " [1.]\n",
      " [1.]\n",
      " [1.]\n",
      " [1.]\n",
      " [1.]\n",
      " [1.]\n",
      " [1.]\n",
      " [1.]\n",
      " [1.]\n",
      " [1.]\n",
      " [1.]\n",
      " [1.]\n",
      " [1.]\n",
      " [1.]\n",
      " [1.]\n",
      " [1.]\n",
      " [1.]\n",
      " [1.]\n",
      " [1.]\n",
      " [1.]\n",
      " [1.]\n",
      " [1.]\n",
      " [1.]\n",
      " [1.]\n",
      " [1.]\n",
      " [1.]\n",
      " [1.]\n",
      " [1.]\n",
      " [1.]\n",
      " [1.]\n",
      " [1.]\n",
      " [1.]\n",
      " [1.]\n",
      " [1.]\n",
      " [1.]\n",
      " [1.]\n",
      " [1.]\n",
      " [1.]\n",
      " [1.]\n",
      " [1.]\n",
      " [1.]\n",
      " [1.]\n",
      " [1.]\n",
      " [1.]\n",
      " [1.]\n",
      " [1.]\n",
      " [1.]\n",
      " [1.]\n",
      " [1.]\n",
      " [1.]\n",
      " [1.]\n",
      " [1.]\n",
      " [1.]\n",
      " [1.]\n",
      " [1.]\n",
      " [1.]\n",
      " [1.]\n",
      " [1.]\n",
      " [1.]\n",
      " [1.]\n",
      " [1.]\n",
      " [1.]\n",
      " [1.]\n",
      " [1.]\n",
      " [1.]\n",
      " [1.]\n",
      " [1.]\n",
      " [1.]\n",
      " [1.]\n",
      " [1.]\n",
      " [1.]\n",
      " [1.]\n",
      " [1.]\n",
      " [1.]\n",
      " [1.]\n",
      " [1.]]\n"
     ]
    }
   ],
   "source": [
    "e=(250,1)   #for positive class label\n",
    "zeros=np.zeros(e)\n",
    "print(zeros)\n",
    "\n",
    "f=(350,1)    #for neg class level\n",
    "ones=np.ones(f)\n",
    "print(ones)"
   ]
  },
  {
   "cell_type": "code",
   "execution_count": 82,
   "metadata": {
    "colab": {
     "base_uri": "https://localhost:8080/"
    },
    "id": "phTFjNCsBmO5",
    "outputId": "fd6dc47a-0301-49d0-ade7-dcadfb417941"
   },
   "outputs": [
    {
     "data": {
      "text/plain": [
       "(600, 3)"
      ]
     },
     "execution_count": 82,
     "metadata": {},
     "output_type": "execute_result"
    }
   ],
   "source": [
    "Data_pos=np.hstack((Pos,zeros))\n",
    "Data_neg=np.hstack((Neg,ones))\n",
    "\n",
    "Data_set=np.vstack((Data_pos,Data_neg))\n",
    "Data_set.shape"
   ]
  },
  {
   "cell_type": "code",
   "execution_count": 83,
   "metadata": {
    "colab": {
     "base_uri": "https://localhost:8080/"
    },
    "id": "YxZWg-iYEabS",
    "outputId": "d4b2c918-ed2f-45cf-ca1f-8fe25e8aed19"
   },
   "outputs": [
    {
     "data": {
      "text/plain": [
       "(array([-0.02236718, -0.10617823,  0.58333333]),\n",
       " array([3.68468394, 3.72911504, 0.49300665]))"
      ]
     },
     "execution_count": 83,
     "metadata": {},
     "output_type": "execute_result"
    }
   ],
   "source": [
    "Mean=np.mean(Data_set, axis=0) #mean\n",
    "std=np.std(Data_set, axis=0) #standard deviation\n",
    "Mean, std"
   ]
  },
  {
   "cell_type": "code",
   "execution_count": 84,
   "metadata": {
    "id": "Pc7nEj16Csvb"
   },
   "outputs": [],
   "source": [
    "\n",
    "#now check chebyshev inequality\n",
    "y=Data_set[:,2]\n",
    "\n",
    "mu1=Mean[0]\n",
    "mu2=Mean[1]\n",
    "std1=std[0]\n",
    "std2=std[1]"
   ]
  },
  {
   "cell_type": "code",
   "execution_count": 85,
   "metadata": {
    "id": "RKjq1KnMF6v3"
   },
   "outputs": [],
   "source": [
    "# k=1.3\n",
    "# y_predict=[]\n",
    "# for d in Data_set:\n",
    "#     # print(d)\n",
    "#     X1=d[0]\n",
    "#     X2=d[1]\n",
    "#     if ((X1-mu1)**2)<=((k*std1)**2) and ((X2-mu2)**2)<=((k*std2)**2):\n",
    "#         y_predict.append(0)\n",
    "#     else:\n",
    "#         y_predict.append(1)\n",
    "\n",
    "# # y_predict"
   ]
  },
  {
   "cell_type": "code",
   "execution_count": 86,
   "metadata": {
    "id": "M4C6tWyJGbJy"
   },
   "outputs": [],
   "source": [
    "# TP=float(0)\n",
    "# TN=float(0)\n",
    "# FP=float(0)\n",
    "# FN=float(0)\n",
    "# for i in range(len(y)):\n",
    "#     # print(y[i], y_predict[i])\n",
    "#     if y[i]==0 and y_predict[i]==0:\n",
    "#         TP+=1\n",
    "#     if y[i]==0 and y_predict[i]==1:\n",
    "#         FN+=1\n",
    "#     if y[i]==1 and y_predict[i]==0:\n",
    "#         FP+=1\n",
    "#     if y[i]==1 and y_predict[i]==1:\n",
    "#         TN+=1\n",
    "#     # break\n",
    "# print(\"TP {}, FP {}, TN {}, FN {}\".format(TP,FP,TN,FN))\n",
    "# TPR=float(TP/(TP+FN))\n",
    "# FPR=float(FP/(TN+FP))\n",
    "# print(\"TPR {}, FPR {}\".format(TPR, FPR))\n",
    "#     # TPR1.append(TPR)\n",
    "#     # FPR1.append(FPR)"
   ]
  },
  {
   "cell_type": "code",
   "execution_count": null,
   "metadata": {
    "id": "MYa8tiPdy9-r"
   },
   "outputs": [],
   "source": [
    "\n",
    "K=np.arange(.01,10,.05)\n",
    "TPR1=[]\n",
    "FPR1=[]\n",
    "PRC=[]\n",
    "RRC=[]\n",
    "for k in K:\n",
    "    y_predict=[]\n",
    "    for d in Data_set:\n",
    "        X1=d[0]\n",
    "        X2=d[1]\n",
    "        if ((X1-mu1)**2)<=((k*std1)**2) and ((X2-mu2)**2)<=((k*std2)**2):\n",
    "        # if ((X1-mu1)**2)>=((k*std1)**2) and ((X2-mu2)**2)>=((k*std2)**2):\n",
    "            y_predict.append(0)\n",
    "        else:\n",
    "            y_predict.append(1)\n",
    "\n",
    "    TP=float(0)\n",
    "    TN=float(0)\n",
    "    FP=float(0)\n",
    "    FN=float(0)\n",
    "    for i in range(len(y)):\n",
    "        if y[i]==0 and y_predict[i]==0:\n",
    "            TP+=1\n",
    "        if y[i]==0 and y_predict[i]==1:\n",
    "            FN+=1\n",
    "        if y[i]==1 and y_predict[i]==0:\n",
    "            FP+=1\n",
    "        if y[i]==1 and y_predict[i]==1:\n",
    "            TN+=1\n",
    "\n",
    "\n",
    "    TPR=float(TP/(TP+FN))\n",
    "    FPR=float(FP/(TN+FP))\n",
    "    PR=float(TP/(TP+FP))\n",
    "    RC=float(TP/(TP+FN))\n",
    "    F1=(2*PR*RC)/(PR+RC)\n",
    "    print(\"TP {}, FP {}, TN {}, FN {}\".format(TP,FP,TN,FN))\n",
    "    print(\"K {}, TPR {}, FPR {}, PR {}, RC {}, F1 {}\".format(k, TPR, FPR, PR, RC, F1))\n",
    "    TPR1.append(TPR)\n",
    "    FPR1.append(FPR)\n",
    "    PRC.append(PR)\n",
    "    RRC.append(RC)\n"
   ]
  },
  {
   "cell_type": "code",
   "execution_count": 90,
   "metadata": {
    "colab": {
     "base_uri": "https://localhost:8080/",
     "height": 447
    },
    "id": "YWaEjFxpHlpg",
    "outputId": "35c6cf31-c062-4174-8401-52b5d3d3b8f7"
   },
   "outputs": [
    {
     "data": {
      "text/plain": [
       "<matplotlib.collections.PathCollection at 0x7c4ad8a797b0>"
      ]
     },
     "execution_count": 90,
     "metadata": {},
     "output_type": "execute_result"
    },
    {
     "data": {
      "image/png": "[encoded data removed]",
      "text/plain": [
       "<Figure size 640x480 with 3 Axes>"
      ]
     },
     "metadata": {},
     "output_type": "display_data"
    }
   ],
   "source": [
    "fig=plt.figure()\n",
    "ax1=fig.add_subplot(1, 3, 1)\n",
    "ax2=fig.add_subplot(1, 3, 2)\n",
    "ax3=fig.add_subplot(1, 3, 3)\n",
    "\n",
    "ax1.scatter(Pos[:,0],Pos[:,1], color=\"r\", marker='x')\n",
    "ax1.scatter(Neg[:,0],Neg[:,1], color=\"b\", marker='o')\n",
    "\n",
    "ax2.scatter(FPR1,TPR1)\n",
    "ax3.scatter(PRC, RRC)"
   ]
  },
  {
   "cell_type": "markdown",
   "metadata": {
    "id": "ti7T_c_Nz8kP"
   },
   "source": [
    "## ROC and AUC\n",
    "\n",
    "The Receiver Operating Characteristic (ROC) curve and Area Under the Curve (AUC) are tools used to evaluate the performance of a classification model, particularly in binary classification problems.\n",
    "\n",
    "### Receiver Operating Characteristic (ROC) Curve:\n",
    "\n",
    "- The ROC curve is a graphical representation of the trade-off between the true positive rate (sensitivity) and the false positive rate (1 - specificity) for various threshold values.\n",
    "- It visualizes the model's ability to distinguish between the positive and negative classes across different decision thresholds.\n",
    "- The curve is created by plotting the true positive rate (TPR) against the false positive rate (FPR) at various threshold settings.\n",
    "- The diagonal line (45-degree line) represents a random classifier, and the goal is for the ROC curve to be as far away from this line as possible, towards the top-left corner.\n",
    "\n",
    "### Area Under the Curve (AUC):\n",
    "\n",
    "- The AUC is a scalar value that quantifies the overall performance of a classifier summarized by the ROC curve. It represents the area under the ROC curve.\n",
    "- A perfect classifier has an AUC of 1, indicating that it achieves a TPR of 1 with no false positives.\n",
    "- A random classifier has an AUC of 0.5, as its ROC curve follows the diagonal line.\n",
    "- A classifier with an AUC between 0.5 and 1 is generally considered better than random, with a higher AUC indicating better discrimination between classes.\n",
    "\n",
    "### Interpreting ROC-AUC:\n",
    "\n",
    "- An AUC of 0.5 suggests no discrimination (classifier is no better than random).\n",
    "- An AUC between 0.7 and 0.8 is considered acceptable.\n",
    "- An AUC between 0.8 and 0.9 is considered excellent.\n",
    "- An AUC above 0.9 is considered outstanding.\n",
    "\n",
    "\n",
    "In this example, we use logistic regression and plot the ROC curve with AUC for a binary classification task using the Iris dataset. Adjust the code accordingly based on your specific use case and dataset."
   ]
  },
  {
   "cell_type": "markdown",
   "metadata": {
    "id": "w82i0UU2Pp9e"
   },
   "source": [
    "# Performance Analysis using sklearn"
   ]
  },
  {
   "cell_type": "code",
   "execution_count": 96,
   "metadata": {
    "colab": {
     "base_uri": "https://localhost:8080/"
    },
    "id": "DhZzIOlfTaon",
    "outputId": "577dffd8-28bd-441b-dd91-dda95423ead5"
   },
   "outputs": [
    {
     "data": {
      "text/plain": [
       "(150, 4)"
      ]
     },
     "execution_count": 96,
     "metadata": {},
     "output_type": "execute_result"
    }
   ],
   "source": [
    "from sklearn.datasets import load_iris\n",
    "\n",
    "# Load the Iris dataset\n",
    "iris = load_iris()\n",
    "X, y = iris.data, iris.target\n",
    "X.shape"
   ]
  },
  {
   "cell_type": "code",
   "execution_count": 92,
   "metadata": {
    "id": "dDde7adJTi1j"
   },
   "outputs": [],
   "source": [
    "from sklearn.linear_model import LogisticRegression\n",
    "from sklearn.model_selection import train_test_split"
   ]
  },
  {
   "cell_type": "code",
   "execution_count": 97,
   "metadata": {
    "id": "jbDGRaABTtAz"
   },
   "outputs": [],
   "source": [
    "# Consider only two classes: Setosa (class 0) and non-Setosa (classes 1 and 2)\n",
    "X_binary = X[y != 0]\n",
    "y_binary = (y[y != 0] == 1).astype(int)"
   ]
  },
  {
   "cell_type": "code",
   "execution_count": 98,
   "metadata": {
    "colab": {
     "base_uri": "https://localhost:8080/"
    },
    "id": "cE9oh96uTszG",
    "outputId": "a6baa6fe-8f18-4283-fc9a-05e93c67293b"
   },
   "outputs": [
    {
     "data": {
      "text/plain": [
       "((70, 4), (30, 4))"
      ]
     },
     "execution_count": 98,
     "metadata": {},
     "output_type": "execute_result"
    }
   ],
   "source": [
    "# Split the data into training and testing sets\n",
    "X_train, X_test, y_train, y_test = train_test_split(X_binary, y_binary, test_size=0.3, random_state=42)\n",
    "X_train.shape, X_test.shape"
   ]
  },
  {
   "cell_type": "code",
   "execution_count": 99,
   "metadata": {
    "colab": {
     "base_uri": "https://localhost:8080/",
     "height": 74
    },
    "id": "LJQiOXKzUtZ0",
    "outputId": "44fec26e-4eb3-4b76-b85a-6258dd5e4a48"
   },
   "outputs": [
    {
     "data": {
      "text/html": [
       "<style>#sk-container-id-1 {color: black;background-color: white;}#sk-container-id-1 pre{padding: 0;}#sk-container-id-1 div.sk-toggleable {background-color: white;}#sk-container-id-1 label.sk-toggleable__label {cursor: pointer;display: block;width: 100%;margin-bottom: 0;padding: 0.3em;box-sizing: border-box;text-align: center;}#sk-container-id-1 label.sk-toggleable__label-arrow:before {content: \"▸\";float: left;margin-right: 0.25em;color: #696969;}#sk-container-id-1 label.sk-toggleable__label-arrow:hover:before {color: black;}#sk-container-id-1 div.sk-estimator:hover label.sk-toggleable__label-arrow:before {color: black;}#sk-container-id-1 div.sk-toggleable__content {max-height: 0;max-width: 0;overflow: hidden;text-align: left;background-color: #f0f8ff;}#sk-container-id-1 div.sk-toggleable__content pre {margin: 0.2em;color: black;border-radius: 0.25em;background-color: #f0f8ff;}#sk-container-id-1 input.sk-toggleable__control:checked~div.sk-toggleable__content {max-height: 200px;max-width: 100%;overflow: auto;}#sk-container-id-1 input.sk-toggleable__control:checked~label.sk-toggleable__label-arrow:before {content: \"▾\";}#sk-container-id-1 div.sk-estimator input.sk-toggleable__control:checked~label.sk-toggleable__label {background-color: #d4ebff;}#sk-container-id-1 div.sk-label input.sk-toggleable__control:checked~label.sk-toggleable__label {background-color: #d4ebff;}#sk-container-id-1 input.sk-hidden--visually {border: 0;clip: rect(1px 1px 1px 1px);clip: rect(1px, 1px, 1px, 1px);height: 1px;margin: -1px;overflow: hidden;padding: 0;position: absolute;width: 1px;}#sk-container-id-1 div.sk-estimator {font-family: monospace;background-color: #f0f8ff;border: 1px dotted black;border-radius: 0.25em;box-sizing: border-box;margin-bottom: 0.5em;}#sk-container-id-1 div.sk-estimator:hover {background-color: #d4ebff;}#sk-container-id-1 div.sk-parallel-item::after {content: \"\";width: 100%;border-bottom: 1px solid gray;flex-grow: 1;}#sk-container-id-1 div.sk-label:hover label.sk-toggleable__label {background-color: #d4ebff;}#sk-container-id-1 div.sk-serial::before {content: \"\";position: absolute;border-left: 1px solid gray;box-sizing: border-box;top: 0;bottom: 0;left: 50%;z-index: 0;}#sk-container-id-1 div.sk-serial {display: flex;flex-direction: column;align-items: center;background-color: white;padding-right: 0.2em;padding-left: 0.2em;position: relative;}#sk-container-id-1 div.sk-item {position: relative;z-index: 1;}#sk-container-id-1 div.sk-parallel {display: flex;align-items: stretch;justify-content: center;background-color: white;position: relative;}#sk-container-id-1 div.sk-item::before, #sk-container-id-1 div.sk-parallel-item::before {content: \"\";position: absolute;border-left: 1px solid gray;box-sizing: border-box;top: 0;bottom: 0;left: 50%;z-index: -1;}#sk-container-id-1 div.sk-parallel-item {display: flex;flex-direction: column;z-index: 1;position: relative;background-color: white;}#sk-container-id-1 div.sk-parallel-item:first-child::after {align-self: flex-end;width: 50%;}#sk-container-id-1 div.sk-parallel-item:last-child::after {align-self: flex-start;width: 50%;}#sk-container-id-1 div.sk-parallel-item:only-child::after {width: 0;}#sk-container-id-1 div.sk-dashed-wrapped {border: 1px dashed gray;margin: 0 0.4em 0.5em 0.4em;box-sizing: border-box;padding-bottom: 0.4em;background-color: white;}#sk-container-id-1 div.sk-label label {font-family: monospace;font-weight: bold;display: inline-block;line-height: 1.2em;}#sk-container-id-1 div.sk-label-container {text-align: center;}#sk-container-id-1 div.sk-container {/* jupyter's `normalize.less` sets `[hidden] { display: none; }` but bootstrap.min.css set `[hidden] { display: none !important; }` so we also need the `!important` here to be able to override the default hidden behavior on the sphinx rendered scikit-learn.org. See: https://github.com/scikit-learn/scikit-learn/issues/21755 */display: inline-block !important;position: relative;}#sk-container-id-1 div.sk-text-repr-fallback {display: none;}</style><div id=\"sk-container-id-1\" class=\"sk-top-container\"><div class=\"sk-text-repr-fallback\"><pre>LogisticRegression()</pre><b>In a Jupyter environment, please rerun this cell to show the HTML representation or trust the notebook. <br />On GitHub, the HTML representation is unable to render, please try loading this page with nbviewer.org.</b></div><div class=\"sk-container\" hidden><div class=\"sk-item\"><div class=\"sk-estimator sk-toggleable\"><input class=\"sk-toggleable__control sk-hidden--visually\" id=\"sk-estimator-id-1\" type=\"checkbox\" checked><label for=\"sk-estimator-id-1\" class=\"sk-toggleable__label sk-toggleable__label-arrow\">LogisticRegression</label><div class=\"sk-toggleable__content\"><pre>LogisticRegression()</pre></div></div></div></div></div>"
      ],
      "text/plain": [
       "LogisticRegression()"
      ]
     },
     "execution_count": 99,
     "metadata": {},
     "output_type": "execute_result"
    }
   ],
   "source": [
    "# Train a logistic regression model\n",
    "model = LogisticRegression()\n",
    "model.fit(X_train, y_train)"
   ]
  },
  {
   "cell_type": "code",
   "execution_count": null,
   "metadata": {
    "id": "wfUxcWGnU4Zt"
   },
   "outputs": [],
   "source": [
    "# Get predicted probabilities for the positive class\n",
    "y_prob = model.predict_proba(X_test)[:, 1]\n",
    "y_predict = model.predict(X_test)\n",
    "y_prob, y_predict"
   ]
  },
  {
   "cell_type": "code",
   "execution_count": 102,
   "metadata": {
    "id": "oicmIoQCVVdQ"
   },
   "outputs": [],
   "source": [
    "import sklearn.metrics as mtr"
   ]
  },
  {
   "cell_type": "code",
   "execution_count": null,
   "metadata": {
    "id": "-WrcBTh-Vl2y"
   },
   "outputs": [],
   "source": [
    "print(\"Accuracy\", mtr.accuracy_score(y_test, y_predict))"
   ]
  },
  {
   "cell_type": "code",
   "execution_count": null,
   "metadata": {
    "id": "N0o6iOGjV5FZ"
   },
   "outputs": [],
   "source": [
    "print(\"Confusion Matrix\", mtr.confusion_matrix(y_test, y_predict))"
   ]
  },
  {
   "cell_type": "code",
   "execution_count": 106,
   "metadata": {
    "colab": {
     "base_uri": "https://localhost:8080/"
    },
    "id": "VNRenHHMWK58",
    "outputId": "7f6cd6e2-1983-47ae-e39e-8ae3eae3ebcd"
   },
   "outputs": [
    {
     "name": "stdout",
     "output_type": "stream",
     "text": [
      "Precision 0.9411764705882353\n"
     ]
    }
   ],
   "source": [
    "print(\"Precision\", mtr.precision_score(y_test, y_predict))"
   ]
  },
  {
   "cell_type": "code",
   "execution_count": null,
   "metadata": {
    "id": "NhJtDFG5WRoY"
   },
   "outputs": [],
   "source": [
    "print(\"Recall\", mtr.recall_score(y_test, y_predict))"
   ]
  },
  {
   "cell_type": "code",
   "execution_count": 108,
   "metadata": {
    "colab": {
     "base_uri": "https://localhost:8080/"
    },
    "id": "LYg_R_zyWysI",
    "outputId": "40167f49-2559-4657-9d29-f128b61ebd24"
   },
   "outputs": [
    {
     "data": {
      "text/plain": [
       "(array([0.        , 0.        , 0.        , 0.46153846, 0.46153846,\n",
       "        1.        ]),\n",
       " array([0.        , 0.05882353, 0.94117647, 0.94117647, 1.        ,\n",
       "        1.        ]),\n",
       " array([1.98823157, 0.98823157, 0.55136873, 0.42235438, 0.37321513,\n",
       "        0.00553598]))"
      ]
     },
     "execution_count": 108,
     "metadata": {},
     "output_type": "execute_result"
    }
   ],
   "source": [
    "from sklearn.metrics import roc_curve, auc\n",
    "import matplotlib.pyplot as plt\n",
    "# Compute ROC curve and AUC\n",
    "fpr, tpr, thresholds = roc_curve(y_test, y_prob)\n",
    "fpr, tpr, thresholds"
   ]
  },
  {
   "cell_type": "code",
   "execution_count": 109,
   "metadata": {
    "id": "ab83RDRsW6Ny"
   },
   "outputs": [],
   "source": [
    "roc_auc = auc(fpr, tpr)"
   ]
  },
  {
   "cell_type": "code",
   "execution_count": null,
   "metadata": {
    "id": "CwlQggpk0wFJ"
   },
   "outputs": [],
   "source": [
    "# Plot the ROC curve\n",
    "plt.figure(figsize=(8, 6))\n",
    "plt.plot(fpr, tpr, color='darkorange', lw=2, label=f'ROC curve (AUC = {roc_auc:.2f})')\n",
    "plt.plot([0, 1], [0, 1], color='navy', lw=2, linestyle='--', label='Random')\n",
    "plt.xlabel('False Positive Rate (FPR)')\n",
    "plt.ylabel('True Positive Rate (TPR)')\n",
    "plt.title('Receiver Operating Characteristic (ROC) Curve')\n",
    "plt.legend(loc='lower right')\n",
    "plt.show()\n"
   ]
  },
  {
   "cell_type": "markdown",
   "metadata": {
    "id": "nfOoxSvKbSJ1"
   },
   "source": [
    "## Perfroamce for multi class classification"
   ]
  },
  {
   "cell_type": "code",
   "execution_count": 122,
   "metadata": {
    "colab": {
     "base_uri": "https://localhost:8080/"
    },
    "id": "IGvsidjO0Ffn",
    "outputId": "fdd29702-de71-4a1b-b178-3ba880fe8d01"
   },
   "outputs": [
    {
     "name": "stdout",
     "output_type": "stream",
     "text": [
      "Accuracy 1.0\n",
      "Precision 1.0\n",
      "Recall 1.0\n",
      "F1 score 1.0\n",
      "Confusion Matrix [[19  0  0]\n",
      " [ 0 13  0]\n",
      " [ 0  0 13]]\n"
     ]
    }
   ],
   "source": [
    "from sklearn.datasets import load_iris\n",
    "\n",
    "# Load the Iris dataset\n",
    "iris = load_iris()\n",
    "X, y = iris.data, iris.target\n",
    "X.shape\n",
    "from sklearn.linear_model import LogisticRegression\n",
    "from sklearn.model_selection import train_test_split\n",
    "# Split the data into training and testing sets\n",
    "X_train, X_test, y_train, y_test = train_test_split(X, y, test_size=0.3, random_state=42)\n",
    "X_train.shape, X_test.shape\n",
    "# Train a logistic regression model\n",
    "model = LogisticRegression()\n",
    "model.fit(X_train, y_train)\n",
    "# Get predicted probabilities for the positive class\n",
    "y_predict = model.predict(X_test)\n",
    "import sklearn.metrics as mtr\n",
    "print(\"Accuracy\", mtr.accuracy_score(y_test, y_predict))\n",
    "print(\"Precision\", mtr.precision_score(y_test, y_predict, average='weighted'))\n",
    "print(\"Recall\", mtr.recall_score(y_test, y_predict, average='weighted'))\n",
    "print(\"F1 score\", mtr.f1_score(y_test, y_predict, average='weighted'))\n",
    "print(\"Confusion Matrix\", mtr.confusion_matrix(y_test, y_predict))"
   ]
  },
  {
   "cell_type": "code",
   "execution_count": null,
   "metadata": {
    "id": "5Vyc-Fn5cfzq"
   },
   "outputs": [],
   "source": []
  }
 ],
 "metadata": {
  "colab": {
   "provenance": []
  },
  "kernelspec": {
   "display_name": "Python 3 (ipykernel)",
   "language": "python",
   "name": "python3"
  },
  "language_info": {
   "codemirror_mode": {
    "name": "ipython",
    "version": 3
   },
   "file_extension": ".py",
   "mimetype": "text/x-python",
   "name": "python",
   "nbconvert_exporter": "python",
   "pygments_lexer": "ipython3",
   "version": "3.11.5"
  }
 },
 "nbformat": 4,
 "nbformat_minor": 1
}
