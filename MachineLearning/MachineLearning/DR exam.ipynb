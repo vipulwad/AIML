{
 "cells": [
  {
   "cell_type": "markdown",
   "id": "74cc7bf4",
   "metadata": {},
   "source": [
    "### 1. Load the two datasets MFCC_N.npy and MFCC_S.npy into arrays N and S respectively. Use the python function np.load( filename )."
   ]
  },
  {
   "cell_type": "code",
   "execution_count": 1,
   "id": "2c4fe96c",
   "metadata": {},
   "outputs": [],
   "source": [
    "import numpy as np\n",
    "\n",
    "N = np.load('MFCC_N.npy')\n",
    "\n"
   ]
  },
  {
   "cell_type": "code",
   "execution_count": 2,
   "id": "dc9aa9c1",
   "metadata": {},
   "outputs": [
    {
     "name": "stdout",
     "output_type": "stream",
     "text": [
      "[[-3.07566538e+00 -7.51789641e+00 -1.37935714e+00 ... -1.82278820e-01\n",
      "  -1.28024164e-01 -5.51434103e-02]\n",
      " [-4.74620322e+00 -8.24191711e+00 -3.29561593e+00 ... -1.82278820e-01\n",
      "  -1.28024164e-01 -5.51434103e-02]\n",
      " [-6.14211871e+00 -7.14666554e+00 -3.27335573e+00 ... -1.82278820e-01\n",
      "  -1.28024164e-01 -5.51434103e-02]\n",
      " ...\n",
      " [-7.71371120e+00 -6.14062540e+00 -1.47728654e+00 ...  5.78613172e-04\n",
      "  -3.16157648e-02  3.14920383e-02]\n",
      " [-8.41157271e+00 -6.76442848e+00 -2.88334322e+00 ... -7.77647217e-02\n",
      "  -3.92632496e-02  5.87718113e-02]\n",
      " [-7.85749522e+00 -6.23226913e+00 -2.67651362e+00 ... -1.07297892e-01\n",
      "  -2.10350006e-02  7.70180031e-02]]\n"
     ]
    }
   ],
   "source": [
    "print(N)"
   ]
  },
  {
   "cell_type": "code",
   "execution_count": 3,
   "id": "76808a53",
   "metadata": {},
   "outputs": [],
   "source": [
    "S = np.load('MFCC_S.npy')"
   ]
  },
  {
   "cell_type": "code",
   "execution_count": 4,
   "id": "592fd3a6",
   "metadata": {},
   "outputs": [
    {
     "name": "stdout",
     "output_type": "stream",
     "text": [
      "[[-1.93120017 -8.69720499 -3.49635365 ... -0.03773189  0.01375286\n",
      "   0.08436367]\n",
      " [-2.37015629 -8.50103375 -3.38788939 ... -0.03773189  0.01375286\n",
      "   0.08436367]\n",
      " [-1.21453927 -7.43380569 -2.07692403 ... -0.03773189  0.01375286\n",
      "   0.08436367]\n",
      " ...\n",
      " [-0.44452607 -2.42714359  1.14703097 ...  0.06772775 -0.09744316\n",
      "   0.05741571]\n",
      " [-0.95209519 -2.48856936  0.94593755 ...  0.08053609 -0.04815612\n",
      "   0.0702999 ]\n",
      " [-1.02272398 -3.08247184  0.86577434 ...  0.08053609 -0.04815612\n",
      "   0.0702999 ]]\n"
     ]
    }
   ],
   "source": [
    "print(S)"
   ]
  },
  {
   "cell_type": "markdown",
   "id": "d602ea8a",
   "metadata": {},
   "source": [
    "### 2. Compute centroids (𝑚𝑛 , 𝑚𝑠 ) and covariance matrices (𝐶𝑛, 𝐶𝑠) of both arrays."
   ]
  },
  {
   "cell_type": "code",
   "execution_count": 5,
   "id": "33548bd1",
   "metadata": {},
   "outputs": [
    {
     "name": "stdout",
     "output_type": "stream",
     "text": [
      "Centroid of N : \n",
      " [-5.71919033e+00 -6.06992381e+00 -8.97206821e-01 -2.90754126e+00\n",
      " -3.04440936e-01 -7.14711597e-01 -1.55648134e+00 -7.22671720e-02\n",
      " -8.42341770e-01  5.02520187e-01 -1.37568704e+00  4.07826158e-01\n",
      "  5.69209859e-01 -6.78630770e-04  9.70663228e-01  2.50408440e-01\n",
      " -2.14331156e-01 -1.31001962e-01 -1.43171258e-01 -1.07669573e-01\n",
      "  3.79291946e-02  2.44832786e-02 -1.00837173e-02  1.61066333e-02\n",
      " -1.61554815e-03 -8.56180297e-03 -6.97317758e-04 -1.92334729e-02\n",
      " -1.33735091e-03 -1.82358917e-02 -4.70143764e-03 -1.15430229e-02\n",
      " -1.41863414e-02 -5.14523760e-03 -1.67334276e-02 -2.62643569e-03\n",
      "  1.68618108e-03  8.08813270e-03  1.21493429e-02  4.10679596e-03\n",
      " -7.20186681e-04  2.63899367e-03  6.18497322e-04  2.74881696e-03\n",
      " -1.18633720e-03 -1.66716507e-03 -9.30620439e-05 -2.05277064e-03\n",
      " -1.65952503e-03 -3.82080818e-03 -8.45211950e-04 -2.05404469e-03\n",
      " -7.95565720e-04  1.92776322e-04  2.38554663e-04  2.41347703e-03\n",
      "  2.76952923e-03  2.16808389e-03 -3.34912596e-04 -1.73641504e-03]\n",
      "Centroid of S : \n",
      " [-1.25995801e+00 -2.41262643e+00 -1.37380816e+00 -2.75987888e+00\n",
      " -1.29049751e+00 -1.57796544e+00 -1.44558631e+00 -1.36528003e+00\n",
      " -8.52013579e-01 -9.79454197e-03 -1.57688372e+00 -5.70433413e-01\n",
      " -3.67863782e-01 -1.08988892e+00 -4.29314615e-01  5.00350774e-02\n",
      " -6.77928168e-01 -3.09200853e-02  1.34823478e-01  9.65283781e-02\n",
      " -4.29406756e-03  2.80828913e-02  1.23635874e-02  2.17370939e-02\n",
      "  1.50805638e-02  4.47657871e-03  8.70941963e-03 -1.11897178e-02\n",
      "  4.56865204e-03 -1.77545483e-02  2.10973349e-03 -7.87633067e-03\n",
      " -1.41424586e-03  1.79944503e-04 -6.53908164e-03 -9.59333323e-03\n",
      " -1.27671016e-02 -1.41440168e-02 -2.02268967e-02 -1.23119175e-02\n",
      " -4.34882015e-03  4.68249014e-03  5.77922292e-03  6.39450958e-03\n",
      "  1.50678366e-03 -1.02522154e-03 -1.35877218e-03 -5.96147257e-04\n",
      "  6.61507139e-04 -2.25412360e-03  5.82518188e-04 -1.42934336e-04\n",
      " -5.20556165e-05 -1.34300076e-03  1.02178761e-04 -1.40119154e-04\n",
      " -3.58329399e-04  5.33972634e-04 -5.04398237e-04  3.27886515e-05]\n"
     ]
    }
   ],
   "source": [
    "# Compute centroids\n",
    "\n",
    "mn = np.mean(N, axis=0)\n",
    "\n",
    "ms = np.mean(S, axis=0)\n",
    "\n",
    "print('Centroid of N : \\n', mn)\n",
    "\n",
    "print('Centroid of S : \\n', ms)"
   ]
  },
  {
   "cell_type": "code",
   "execution_count": 10,
   "id": "7a36f1bf",
   "metadata": {},
   "outputs": [
    {
     "name": "stdout",
     "output_type": "stream",
     "text": [
      "covariance of N : \n",
      " [[ 7.36475613e+00  9.13008268e-01 -2.09734880e+00 ... -2.35532909e-02\n",
      "  -1.06132959e-02 -1.05406654e-02]\n",
      " [ 9.13008268e-01  6.26794286e+00  1.03840729e+00 ... -1.46518722e-02\n",
      "  -9.21121884e-03 -1.19364798e-02]\n",
      " [-2.09734880e+00  1.03840729e+00  3.71755205e+00 ...  4.23005781e-03\n",
      "   7.12463063e-03  7.31867728e-04]\n",
      " ...\n",
      " [-2.35532909e-02 -1.46518722e-02  4.23005781e-03 ...  8.57289952e-03\n",
      "   3.43520527e-03 -4.80261256e-04]\n",
      " [-1.06132959e-02 -9.21121884e-03  7.12463063e-03 ...  3.43520527e-03\n",
      "   9.61629777e-03  4.47198381e-03]\n",
      " [-1.05406654e-02 -1.19364798e-02  7.31867728e-04 ... -4.80261256e-04\n",
      "   4.47198381e-03  1.04588784e-02]]\n",
      "covariance of S : \n",
      " [[ 4.01816579e+00 -3.52651438e-01 -2.47486179e+00 ...  1.32173263e-02\n",
      "   2.80149909e-03  7.79689030e-03]\n",
      " [-3.52651438e-01  8.38441416e+00  2.09117278e+00 ...  3.06460659e-03\n",
      "   5.82239271e-03 -4.33164156e-03]\n",
      " [-2.47486179e+00  2.09117278e+00  4.56047345e+00 ... -7.69728766e-03\n",
      "   7.23777558e-04 -8.78222958e-03]\n",
      " ...\n",
      " [ 1.32173263e-02  3.06460659e-03 -7.69728766e-03 ...  4.12337698e-03\n",
      "   1.00416185e-03  5.55617054e-04]\n",
      " [ 2.80149909e-03  5.82239271e-03  7.23777558e-04 ...  1.00416185e-03\n",
      "   4.07544969e-03  7.38998739e-04]\n",
      " [ 7.79689030e-03 -4.33164156e-03 -8.78222958e-03 ...  5.55617054e-04\n",
      "   7.38998739e-04  3.45880172e-03]]\n"
     ]
    },
    {
     "data": {
      "text/plain": [
       "(60, 60)"
      ]
     },
     "execution_count": 10,
     "metadata": {},
     "output_type": "execute_result"
    }
   ],
   "source": [
    "# Compute covariance matrices\n",
    "\n",
    "Cn = np.cov(N, rowvar=False)\n",
    "\n",
    "Cs = np.cov(S, rowvar=False)\n",
    "\n",
    "print('covariance of N : \\n' , Cn)\n",
    "\n",
    "print('covariance of S : \\n' , Cs)\n"
   ]
  },
  {
   "cell_type": "markdown",
   "id": "c6c8b160",
   "metadata": {},
   "source": [
    "### 3. Compute the optimal direction vector 𝜔̂ (unit vector) for LDA."
   ]
  },
  {
   "cell_type": "code",
   "execution_count": 11,
   "id": "96d484e0",
   "metadata": {},
   "outputs": [
    {
     "name": "stdout",
     "output_type": "stream",
     "text": [
      "Optimal direction vector (unit vector) for LDA:  \n",
      "\n",
      "[  1.08211904   0.44453677   0.24774534   0.01660177  -0.4526199\n",
      "  -0.68405472  -0.44396333  -1.27992473   0.05257014  -0.51945953\n",
      "  -1.34552534  -0.46726072  -0.73070658  -0.27589133  -1.21923399\n",
      "   1.07102044  -1.92308418   0.72121136  -1.11334418   0.75082249\n",
      "  -0.11958232  -0.05894285   0.20333132  -0.43300314  -0.13527231\n",
      "   0.17592405   0.06522278   0.41996174   0.31042272   0.95084115\n",
      "  -0.08408309  -0.09894176   1.13717637  -0.75132331   0.34976704\n",
      "   0.31013421   0.07449026  -0.09484315  -0.0865482    0.24255812\n",
      "   6.36247538   2.81241035   1.39536516  -0.62549659  -3.1325294\n",
      "  -4.59714671  -2.40894584  -5.15806201  -0.58176401  -2.26444689\n",
      "  -6.92569499  -2.29261741  -4.24354581  -2.58418353  -6.8426816\n",
      "   5.56545998 -10.6144653    2.91160998  -6.2296001    3.39977505]\n"
     ]
    },
    {
     "data": {
      "text/plain": [
       "(60,)"
      ]
     },
     "execution_count": 11,
     "metadata": {},
     "output_type": "execute_result"
    }
   ],
   "source": [
    "from sklearn.discriminant_analysis import LinearDiscriminantAnalysis\n",
    "\n",
    "#  data and labels\n",
    "X = np.vstack((N, S))\n",
    "y = np.hstack((np.zeros(N.shape[0]), np.ones(S.shape[0])))\n",
    "\n",
    "# Fit LDA model\n",
    "lda = LinearDiscriminantAnalysis(n_components=1)\n",
    "lda.fit(X, y)\n",
    "\n",
    "# Compute the optimal direction vector (unit vector)\n",
    "w_hat = lda.coef_.ravel()\n",
    "\n",
    "print(\"Optimal direction vector (unit vector) for LDA:  \\n\")\n",
    "print(w_hat)\n"
   ]
  },
  {
   "cell_type": "markdown",
   "id": "360a9b7d",
   "metadata": {},
   "source": [
    "### 4. Project the vector data in arrays N and S to generate the respective array of scalars zN and zS."
   ]
  },
  {
   "cell_type": "code",
   "execution_count": 8,
   "id": "d9a4f39c",
   "metadata": {},
   "outputs": [
    {
     "name": "stdout",
     "output_type": "stream",
     "text": [
      "Projected array for normal speech (zN):  \n",
      " [ -1.93671649  -3.19980899  -4.67428947 ... -14.74369452 -15.19986981\n",
      " -15.37785287]\n",
      "Projected array for shouted speech (zS):  \n",
      " [ 3.55190727  3.19170668  1.33573642 ... 10.59729223 10.69366491\n",
      " 10.94161794]\n"
     ]
    }
   ],
   "source": [
    "# Project the data \n",
    "zN = np.dot(N, w_hat)\n",
    "zS = np.dot(S, w_hat)\n",
    "\n",
    "\n",
    "print(\"Projected array for normal speech (zN):  \\n\", zN)\n",
    "print(\"Projected array for shouted speech (zS):  \\n\", zS)"
   ]
  },
  {
   "cell_type": "markdown",
   "id": "c1b02049",
   "metadata": {},
   "source": [
    "### 5. Plot the normalized histograms of zN and zS in two different colors (red and blue)."
   ]
  },
  {
   "cell_type": "code",
   "execution_count": 9,
   "id": "4d446f95",
   "metadata": {},
   "outputs": [
    {
     "data": {
      "image/png": "[encoded data removed]",
      "text/plain": [
       "<Figure size 640x480 with 1 Axes>"
      ]
     },
     "metadata": {},
     "output_type": "display_data"
    }
   ],
   "source": [
    "import matplotlib.pyplot as plt\n",
    "\n",
    "plt.hist(zN, bins=30, color='red', alpha=0.7, label='Normal Speech')\n",
    "plt.hist(zS, bins=30, color='blue', alpha=0.7, label='Shouted Speech')\n",
    "plt.xlabel('Projected Value')\n",
    "plt.ylabel('Frequency')\n",
    "plt.legend()\n",
    "plt.show()"
   ]
  },
  {
   "cell_type": "code",
   "execution_count": null,
   "id": "d2c558b8",
   "metadata": {},
   "outputs": [],
   "source": []
  }
 ],
 "metadata": {
  "kernelspec": {
   "display_name": "Python 3 (ipykernel)",
   "language": "python",
   "name": "python3"
  },
  "language_info": {
   "codemirror_mode": {
    "name": "ipython",
    "version": 3
   },
   "file_extension": ".py",
   "mimetype": "text/x-python",
   "name": "python",
   "nbconvert_exporter": "python",
   "pygments_lexer": "ipython3",
   "version": "3.11.5"
  }
 },
 "nbformat": 4,
 "nbformat_minor": 5
}
