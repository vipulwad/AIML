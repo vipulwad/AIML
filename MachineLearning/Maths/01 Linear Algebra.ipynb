{
 "cells": [
  {
   "cell_type": "markdown",
   "metadata": {},
   "source": [
    "## Import Libraries"
   ]
  },
  {
   "cell_type": "code",
   "execution_count": 1,
   "metadata": {},
   "outputs": [],
   "source": [
    "# import libraries\n",
    "import numpy as np\n",
    "import matplotlib.pyplot as plt\n",
    "import math"
   ]
  },
  {
   "cell_type": "markdown",
   "metadata": {},
   "source": [
    "## Load Dataset"
   ]
  },
  {
   "cell_type": "code",
   "execution_count": 2,
   "metadata": {},
   "outputs": [
    {
     "data": {
      "text/plain": [
       "Index(['Id', 'SepalLengthCm', 'SepalWidthCm', 'PetalLengthCm', 'PetalWidthCm',\n",
       "       'Species'],\n",
       "      dtype='object')"
      ]
     },
     "execution_count": 2,
     "metadata": {},
     "output_type": "execute_result"
    }
   ],
   "source": [
    "import pandas as pd\n",
    "df = pd.read_csv(\"data/Iris.csv\")\n",
    "df.columns"
   ]
  },
  {
   "cell_type": "code",
   "execution_count": 3,
   "metadata": {},
   "outputs": [],
   "source": [
    "X = df.drop(columns=['Id','Species'])\n",
    "y = df.Species"
   ]
  },
  {
   "cell_type": "code",
   "execution_count": 4,
   "metadata": {},
   "outputs": [
    {
     "data": {
      "text/plain": [
       "0         Iris-setosa\n",
       "1         Iris-setosa\n",
       "2         Iris-setosa\n",
       "3         Iris-setosa\n",
       "4         Iris-setosa\n",
       "            ...      \n",
       "145    Iris-virginica\n",
       "146    Iris-virginica\n",
       "147    Iris-virginica\n",
       "148    Iris-virginica\n",
       "149    Iris-virginica\n",
       "Name: Species, Length: 150, dtype: object"
      ]
     },
     "execution_count": 4,
     "metadata": {},
     "output_type": "execute_result"
    }
   ],
   "source": [
    "y"
   ]
  },
  {
   "cell_type": "code",
   "execution_count": 5,
   "metadata": {},
   "outputs": [
    {
     "name": "stdout",
     "output_type": "stream",
     "text": [
      "['setosa' 'versicolor' 'virginica']\n"
     ]
    }
   ],
   "source": [
    "# load Iris dataset from sklearn\n",
    "from sklearn.datasets import load_iris\n",
    "data = load_iris()\n",
    "X, y = data.data, data.target\n",
    "feature_names = data.feature_names\n",
    "target_names = data.target_names\n",
    "print(target_names)"
   ]
  },
  {
   "cell_type": "code",
   "execution_count": 6,
   "metadata": {},
   "outputs": [
    {
     "data": {
      "text/plain": [
       "(150, 4)"
      ]
     },
     "execution_count": 6,
     "metadata": {},
     "output_type": "execute_result"
    }
   ],
   "source": [
    "X.shape"
   ]
  },
  {
   "cell_type": "code",
   "execution_count": 7,
   "metadata": {},
   "outputs": [
    {
     "data": {
      "text/plain": [
       "array([4.9, 3. , 1.4, 0.2])"
      ]
     },
     "execution_count": 7,
     "metadata": {},
     "output_type": "execute_result"
    }
   ],
   "source": [
    "X[1]"
   ]
  },
  {
   "cell_type": "code",
   "execution_count": 8,
   "metadata": {},
   "outputs": [],
   "source": [
    "v1 = X[0]\n",
    "v2 = X[1]\n",
    "v3 = X[2]"
   ]
  },
  {
   "cell_type": "code",
   "execution_count": 9,
   "metadata": {},
   "outputs": [
    {
     "data": {
      "text/plain": [
       "array([14.7,  9.7,  4.1,  0.6])"
      ]
     },
     "execution_count": 9,
     "metadata": {},
     "output_type": "execute_result"
    }
   ],
   "source": [
    "v1 + (v2 + v3)"
   ]
  },
  {
   "cell_type": "code",
   "execution_count": 10,
   "metadata": {},
   "outputs": [
    {
     "data": {
      "text/plain": [
       "array([14.7,  9.7,  4.1,  0.6])"
      ]
     },
     "execution_count": 10,
     "metadata": {},
     "output_type": "execute_result"
    }
   ],
   "source": [
    "(v1 + v2) + v3"
   ]
  },
  {
   "cell_type": "code",
   "execution_count": 11,
   "metadata": {},
   "outputs": [
    {
     "data": {
      "text/plain": [
       "array([0., 0., 0., 0.])"
      ]
     },
     "execution_count": 11,
     "metadata": {},
     "output_type": "execute_result"
    }
   ],
   "source": [
    "v1 + (-1 * v1)"
   ]
  },
  {
   "cell_type": "code",
   "execution_count": 12,
   "metadata": {},
   "outputs": [
    {
     "data": {
      "text/plain": [
       "array([0., 0., 0., 0.])"
      ]
     },
     "execution_count": 12,
     "metadata": {},
     "output_type": "execute_result"
    }
   ],
   "source": [
    "0 * v1"
   ]
  },
  {
   "cell_type": "code",
   "execution_count": 13,
   "metadata": {
    "scrolled": true
   },
   "outputs": [
    {
     "data": {
      "text/plain": [
       "array([30.6, 21. ,  8.4,  1.2])"
      ]
     },
     "execution_count": 13,
     "metadata": {},
     "output_type": "execute_result"
    }
   ],
   "source": [
    "2 * (3*v1)"
   ]
  },
  {
   "cell_type": "code",
   "execution_count": 14,
   "metadata": {},
   "outputs": [
    {
     "data": {
      "text/plain": [
       "array([25.5, 17.5,  7. ,  1. ])"
      ]
     },
     "execution_count": 14,
     "metadata": {},
     "output_type": "execute_result"
    }
   ],
   "source": [
    "(2 + 3)*v1"
   ]
  },
  {
   "cell_type": "code",
   "execution_count": 15,
   "metadata": {},
   "outputs": [
    {
     "data": {
      "text/plain": [
       "array([25.5, 17.5,  7. ,  1. ])"
      ]
     },
     "execution_count": 15,
     "metadata": {},
     "output_type": "execute_result"
    }
   ],
   "source": [
    "2 * v1 + 3 * v1 "
   ]
  },
  {
   "cell_type": "markdown",
   "metadata": {},
   "source": [
    "## Visualize vectors "
   ]
  },
  {
   "cell_type": "code",
   "execution_count": 16,
   "metadata": {},
   "outputs": [],
   "source": [
    "## 2-d visualization\n",
    "v11 = v1[:2]\n",
    "v22 = v2[:2]"
   ]
  },
  {
   "cell_type": "code",
   "execution_count": 17,
   "metadata": {},
   "outputs": [
    {
     "data": {
      "text/plain": [
       "array([5.1, 3.5])"
      ]
     },
     "execution_count": 17,
     "metadata": {},
     "output_type": "execute_result"
    }
   ],
   "source": [
    "v11"
   ]
  },
  {
   "cell_type": "code",
   "execution_count": 18,
   "metadata": {},
   "outputs": [
    {
     "data": {
      "text/plain": [
       "array([4.9, 3. ])"
      ]
     },
     "execution_count": 18,
     "metadata": {},
     "output_type": "execute_result"
    }
   ],
   "source": [
    "v22"
   ]
  },
  {
   "cell_type": "code",
   "execution_count": 19,
   "metadata": {},
   "outputs": [
    {
     "data": {
      "image/png": "[encoded data removed]",
      "text/plain": [
       "<Figure size 640x480 with 1 Axes>"
      ]
     },
     "metadata": {},
     "output_type": "display_data"
    }
   ],
   "source": [
    "x, y = zip(v11, v22)\n",
    "subplot = plt.subplot()\n",
    "subplot.scatter(x,y)\n",
    "subplot.arrow(0,0,v11[0],v11[1],head_length=0.3,head_width=0.2,color='blue',length_includes_head=True)\n",
    "subplot.arrow(0,0,v22[0],v22[1],head_length=0.3,head_width=0.2,color='red',length_includes_head=True)\n",
    "subplot.grid()\n",
    "plt.show()"
   ]
  },
  {
   "cell_type": "code",
   "execution_count": 20,
   "metadata": {},
   "outputs": [
    {
     "data": {
      "image/png": "[encoded data removed]",
      "text/plain": [
       "<Figure size 640x480 with 1 Axes>"
      ]
     },
     "metadata": {},
     "output_type": "display_data"
    }
   ],
   "source": [
    "x, y = X[:,0], X[:,2] \n",
    "subplot = plt.subplot()\n",
    "subplot.scatter(x,y)\n",
    "subplot.grid()\n",
    "plt.show()"
   ]
  },
  {
   "cell_type": "code",
   "execution_count": 21,
   "metadata": {},
   "outputs": [
    {
     "data": {
      "image/png": "[encoded data removed]",
      "text/plain": [
       "<Figure size 640x480 with 1 Axes>"
      ]
     },
     "metadata": {},
     "output_type": "display_data"
    }
   ],
   "source": [
    "## 3-d visualization\n",
    "x, y, z = X[:,0], X[:,1], X[:,2]\n",
    "subplot = plt.subplot(projection='3d')\n",
    "subplot.scatter(x,y,z)\n",
    "plt.show()"
   ]
  },
  {
   "cell_type": "markdown",
   "metadata": {},
   "source": [
    "## Norm of a vector"
   ]
  },
  {
   "cell_type": "code",
   "execution_count": 22,
   "metadata": {},
   "outputs": [],
   "source": [
    "def my_norm(vector, p=2):\n",
    "    s = 0\n",
    "    for i in range(len(vector)):\n",
    "        s += vector[i]**p\n",
    "    return s**(1/p)"
   ]
  },
  {
   "cell_type": "code",
   "execution_count": 23,
   "metadata": {},
   "outputs": [
    {
     "data": {
      "text/plain": [
       "array([5.1, 3.5, 1.4, 0.2])"
      ]
     },
     "execution_count": 23,
     "metadata": {},
     "output_type": "execute_result"
    }
   ],
   "source": [
    "X[0]"
   ]
  },
  {
   "cell_type": "code",
   "execution_count": 24,
   "metadata": {},
   "outputs": [
    {
     "data": {
      "text/plain": [
       "6.345076831686122"
      ]
     },
     "execution_count": 24,
     "metadata": {},
     "output_type": "execute_result"
    }
   ],
   "source": [
    "my_norm(X[0])"
   ]
  },
  {
   "cell_type": "code",
   "execution_count": 25,
   "metadata": {},
   "outputs": [
    {
     "data": {
      "text/plain": [
       "4.58257569495584"
      ]
     },
     "execution_count": 25,
     "metadata": {},
     "output_type": "execute_result"
    }
   ],
   "source": [
    "x = np.array([1, -2, 4])\n",
    "my_norm(x)"
   ]
  },
  {
   "cell_type": "code",
   "execution_count": 26,
   "metadata": {},
   "outputs": [
    {
     "data": {
      "text/plain": [
       "4.795831523312719"
      ]
     },
     "execution_count": 26,
     "metadata": {},
     "output_type": "execute_result"
    }
   ],
   "source": [
    "x = [4 , -4, -1, 2]\n",
    "p = 4\n",
    "my_norm(x, p=4)"
   ]
  },
  {
   "cell_type": "code",
   "execution_count": 27,
   "metadata": {},
   "outputs": [
    {
     "data": {
      "text/plain": [
       "4.795831523312719"
      ]
     },
     "execution_count": 27,
     "metadata": {},
     "output_type": "execute_result"
    }
   ],
   "source": [
    "np.linalg.norm(x,4)"
   ]
  },
  {
   "cell_type": "markdown",
   "metadata": {},
   "source": [
    "## Dot Product of vectors"
   ]
  },
  {
   "cell_type": "code",
   "execution_count": 28,
   "metadata": {},
   "outputs": [],
   "source": [
    "def inner_product(vector1,vector2):\n",
    "    s = 0\n",
    "    for i in range(len(vector1)):\n",
    "        s += vector1[i]*vector2[i]\n",
    "    return s"
   ]
  },
  {
   "cell_type": "code",
   "execution_count": 29,
   "metadata": {},
   "outputs": [
    {
     "data": {
      "text/plain": [
       "37.489999999999995"
      ]
     },
     "execution_count": 29,
     "metadata": {},
     "output_type": "execute_result"
    }
   ],
   "source": [
    "inner_product(X[0],X[1])"
   ]
  },
  {
   "cell_type": "code",
   "execution_count": 30,
   "metadata": {},
   "outputs": [
    {
     "data": {
      "text/plain": [
       "37.489999999999995"
      ]
     },
     "execution_count": 30,
     "metadata": {},
     "output_type": "execute_result"
    }
   ],
   "source": [
    "np.dot(X[0],X[1])"
   ]
  },
  {
   "cell_type": "code",
   "execution_count": 31,
   "metadata": {},
   "outputs": [
    {
     "data": {
      "text/plain": [
       "37.489999999999995"
      ]
     },
     "execution_count": 31,
     "metadata": {},
     "output_type": "execute_result"
    }
   ],
   "source": [
    "X[0].dot(X[1])"
   ]
  },
  {
   "cell_type": "markdown",
   "metadata": {},
   "source": [
    "## Calculate angle between vectors"
   ]
  },
  {
   "cell_type": "code",
   "execution_count": 32,
   "metadata": {},
   "outputs": [],
   "source": [
    "def cal_angle(vector1, vector2):\n",
    "    prod = inner_product(vector1,vector2)\n",
    "    n1 = my_norm(vector1)\n",
    "    n2 = my_norm(vector2)\n",
    "    theta = np.arccos(prod/(n1*n2))\n",
    "    return theta * 180 / np.pi"
   ]
  },
  {
   "cell_type": "code",
   "execution_count": 33,
   "metadata": {},
   "outputs": [
    {
     "data": {
      "text/plain": [
       "38.2029290645368"
      ]
     },
     "execution_count": 33,
     "metadata": {},
     "output_type": "execute_result"
    }
   ],
   "source": [
    "x = [1,-1,2]\n",
    "y = [5,2,7]\n",
    "cal_angle(x,y)"
   ]
  },
  {
   "cell_type": "code",
   "execution_count": 34,
   "metadata": {},
   "outputs": [
    {
     "data": {
      "text/plain": [
       "90.0"
      ]
     },
     "execution_count": 34,
     "metadata": {},
     "output_type": "execute_result"
    }
   ],
   "source": [
    "x = [0,5,0]\n",
    "y = [1,0,0]\n",
    "cal_angle(x,y)"
   ]
  },
  {
   "cell_type": "markdown",
   "metadata": {},
   "source": [
    "## Unit vectors"
   ]
  },
  {
   "cell_type": "code",
   "execution_count": 35,
   "metadata": {},
   "outputs": [
    {
     "data": {
      "text/plain": [
       "array([ 0.32163376,  0.75047877,  0.53605627, -0.21442251])"
      ]
     },
     "execution_count": 35,
     "metadata": {},
     "output_type": "execute_result"
    }
   ],
   "source": [
    "x = np.array([3,7,5,-2])\n",
    "x_unit = x / np.linalg.norm(x)\n",
    "x_unit"
   ]
  },
  {
   "cell_type": "code",
   "execution_count": 36,
   "metadata": {},
   "outputs": [
    {
     "data": {
      "text/plain": [
       "0.9999999999999999"
      ]
     },
     "execution_count": 36,
     "metadata": {},
     "output_type": "execute_result"
    }
   ],
   "source": [
    "np.linalg.norm(x_unit)"
   ]
  },
  {
   "cell_type": "code",
   "execution_count": 37,
   "metadata": {},
   "outputs": [
    {
     "data": {
      "text/plain": [
       "array([0.80377277, 0.55160877, 0.22064351, 0.0315205 ])"
      ]
     },
     "execution_count": 37,
     "metadata": {},
     "output_type": "execute_result"
    }
   ],
   "source": [
    "unit_vector_X =  X[0]/ np.linalg.norm(X[0])\n",
    "unit_vector_X"
   ]
  },
  {
   "cell_type": "markdown",
   "metadata": {},
   "source": [
    "## Calculate distance between vectors "
   ]
  },
  {
   "cell_type": "code",
   "execution_count": 38,
   "metadata": {},
   "outputs": [],
   "source": [
    "## Euclidean distance\n",
    "\n",
    "def euclidean_distance(vector1, vector2):\n",
    "    s = 0\n",
    "    for i in range(len(vector1)):\n",
    "        s += (vector2[i] - vector1[i])**2\n",
    "    return s**0.5"
   ]
  },
  {
   "cell_type": "code",
   "execution_count": 39,
   "metadata": {},
   "outputs": [
    {
     "data": {
      "text/plain": [
       "0.5385164807134502"
      ]
     },
     "execution_count": 39,
     "metadata": {},
     "output_type": "execute_result"
    }
   ],
   "source": [
    "euclidean_distance(vector1=X[0],vector2=X[1])"
   ]
  },
  {
   "cell_type": "code",
   "execution_count": 40,
   "metadata": {},
   "outputs": [
    {
     "data": {
      "text/plain": [
       "0.5385164807134502"
      ]
     },
     "execution_count": 40,
     "metadata": {},
     "output_type": "execute_result"
    }
   ],
   "source": [
    "euclidean_distance(vector1=X[1],vector2=X[0])"
   ]
  },
  {
   "cell_type": "code",
   "execution_count": 41,
   "metadata": {},
   "outputs": [],
   "source": [
    "x, y, z = X[0], X[1], X[1]\n",
    "distxy = euclidean_distance(x,y)\n",
    "distyz = euclidean_distance(y,z)\n",
    "distxz = euclidean_distance(x,z)"
   ]
  },
  {
   "cell_type": "code",
   "execution_count": 42,
   "metadata": {},
   "outputs": [
    {
     "data": {
      "text/plain": [
       "0.5385164807134502"
      ]
     },
     "execution_count": 42,
     "metadata": {},
     "output_type": "execute_result"
    }
   ],
   "source": [
    "distxy "
   ]
  },
  {
   "cell_type": "code",
   "execution_count": 43,
   "metadata": {},
   "outputs": [
    {
     "data": {
      "text/plain": [
       "0.5385164807134502"
      ]
     },
     "execution_count": 43,
     "metadata": {},
     "output_type": "execute_result"
    }
   ],
   "source": [
    "distyz + distxz"
   ]
  },
  {
   "cell_type": "code",
   "execution_count": 44,
   "metadata": {},
   "outputs": [
    {
     "data": {
      "text/plain": [
       "0.5385164807134502"
      ]
     },
     "execution_count": 44,
     "metadata": {},
     "output_type": "execute_result"
    }
   ],
   "source": [
    "math.dist(X[0],X[1])"
   ]
  },
  {
   "cell_type": "code",
   "execution_count": 45,
   "metadata": {},
   "outputs": [
    {
     "data": {
      "text/plain": [
       "0.5385164807134502"
      ]
     },
     "execution_count": 45,
     "metadata": {},
     "output_type": "execute_result"
    }
   ],
   "source": [
    "from scipy.spatial import distance\n",
    "distance.euclidean(X[0],X[1])"
   ]
  },
  {
   "cell_type": "code",
   "execution_count": 46,
   "metadata": {},
   "outputs": [],
   "source": [
    "## Manhattan distance\n",
    "\n",
    "def manhattan_distance(vector1,vector2):\n",
    "    s = 0\n",
    "    for i in range(len(vector1)):\n",
    "        s += abs(vector1[i] - vector2[i])\n",
    "    return s"
   ]
  },
  {
   "cell_type": "code",
   "execution_count": 47,
   "metadata": {},
   "outputs": [
    {
     "data": {
      "text/plain": [
       "0.6999999999999993"
      ]
     },
     "execution_count": 47,
     "metadata": {},
     "output_type": "execute_result"
    }
   ],
   "source": [
    "manhattan_distance(X[0],X[1])"
   ]
  },
  {
   "cell_type": "code",
   "execution_count": 48,
   "metadata": {},
   "outputs": [
    {
     "data": {
      "text/plain": [
       "0.6999999999999993"
      ]
     },
     "execution_count": 48,
     "metadata": {},
     "output_type": "execute_result"
    }
   ],
   "source": [
    "manhattan_distance(X[1],X[0])"
   ]
  },
  {
   "cell_type": "code",
   "execution_count": 49,
   "metadata": {},
   "outputs": [],
   "source": [
    "x, y, z = X[0], X[1], X[2]\n",
    "distxy = manhattan_distance(x,y)\n",
    "distyz = manhattan_distance(y,z)\n",
    "distxz = manhattan_distance(x,z)"
   ]
  },
  {
   "cell_type": "code",
   "execution_count": 50,
   "metadata": {},
   "outputs": [
    {
     "data": {
      "text/plain": [
       "0.6999999999999993"
      ]
     },
     "execution_count": 50,
     "metadata": {},
     "output_type": "execute_result"
    }
   ],
   "source": [
    "distxy"
   ]
  },
  {
   "cell_type": "code",
   "execution_count": 51,
   "metadata": {},
   "outputs": [
    {
     "data": {
      "text/plain": [
       "1.2999999999999994"
      ]
     },
     "execution_count": 51,
     "metadata": {},
     "output_type": "execute_result"
    }
   ],
   "source": [
    "distxz + distyz"
   ]
  },
  {
   "cell_type": "code",
   "execution_count": 52,
   "metadata": {},
   "outputs": [
    {
     "name": "stdout",
     "output_type": "stream",
     "text": [
      "(50, 4) (50, 4) (50, 4)\n"
     ]
    }
   ],
   "source": [
    "## Exercise\n",
    "X_0, X_1, X_2 = X[:50,:], X[50:100,:], X[100:,:]\n",
    "print(X_0.shape, X_1.shape, X_2.shape)"
   ]
  },
  {
   "cell_type": "code",
   "execution_count": 53,
   "metadata": {},
   "outputs": [],
   "source": [
    "dist11 = euclidean_distance(X_0[0],X_0[1])\n",
    "dist22 = euclidean_distance(X_1[0],X_1[1])\n",
    "dist33 = euclidean_distance(X_2[0],X_2[1])"
   ]
  },
  {
   "cell_type": "code",
   "execution_count": 54,
   "metadata": {},
   "outputs": [
    {
     "name": "stdout",
     "output_type": "stream",
     "text": [
      "0.5385164807134502 0.6403124237432847 1.3341664064126335\n"
     ]
    }
   ],
   "source": [
    "print(dist11, dist22, dist33)"
   ]
  },
  {
   "cell_type": "code",
   "execution_count": 55,
   "metadata": {},
   "outputs": [],
   "source": [
    "dist12 = euclidean_distance(X_0[0],X_1[0])\n",
    "dist23 = euclidean_distance(X_1[0],X_2[0])\n",
    "dist31 = euclidean_distance(X_2[0],X_0[0])"
   ]
  },
  {
   "cell_type": "code",
   "execution_count": 56,
   "metadata": {},
   "outputs": [
    {
     "name": "stdout",
     "output_type": "stream",
     "text": [
      "4.003748243833521 1.8439088914585773 5.2848841046895245\n"
     ]
    }
   ],
   "source": [
    "print(dist12,dist23,dist31)"
   ]
  },
  {
   "cell_type": "code",
   "execution_count": 57,
   "metadata": {},
   "outputs": [],
   "source": [
    "dist11 = manhattan_distance(X_0[0],X_0[1])\n",
    "dist22 = manhattan_distance(X_1[0],X_1[1])\n",
    "dist33 = manhattan_distance(X_2[0],X_2[1])"
   ]
  },
  {
   "cell_type": "code",
   "execution_count": 58,
   "metadata": {},
   "outputs": [
    {
     "name": "stdout",
     "output_type": "stream",
     "text": [
      "0.6999999999999993 0.8999999999999999 2.6\n"
     ]
    }
   ],
   "source": [
    "print(dist11, dist22, dist33)"
   ]
  },
  {
   "cell_type": "code",
   "execution_count": 59,
   "metadata": {},
   "outputs": [],
   "source": [
    "dist12 = manhattan_distance(X_0[0],X_1[0])\n",
    "dist23 = manhattan_distance(X_1[0],X_2[0])\n",
    "dist31 = manhattan_distance(X_2[0],X_0[0])"
   ]
  },
  {
   "cell_type": "code",
   "execution_count": 60,
   "metadata": {},
   "outputs": [
    {
     "name": "stdout",
     "output_type": "stream",
     "text": [
      "6.7 3.1999999999999997 8.3\n"
     ]
    }
   ],
   "source": [
    "print(dist12,dist23,dist31)"
   ]
  },
  {
   "cell_type": "code",
   "execution_count": 61,
   "metadata": {},
   "outputs": [
    {
     "name": "stdout",
     "output_type": "stream",
     "text": [
      "Euclidean Distance 7.0710678118654755\n",
      "Manhattan Distance 12\n"
     ]
    }
   ],
   "source": [
    "x = [5,2,7]\n",
    "y = [1,-1,2]\n",
    "print(\"Euclidean Distance\", euclidean_distance(x,y))\n",
    "print(\"Manhattan Distance\", manhattan_distance(x,y))"
   ]
  },
  {
   "cell_type": "code",
   "execution_count": 62,
   "metadata": {},
   "outputs": [],
   "source": [
    "## weighted euclidean distance\n",
    "def wt_euclidean_distance(vector1,vector2,weight):\n",
    "    s = 0\n",
    "    for i in range(len(vector1)):\n",
    "        s += weight[i]*(vector1[i]-vector2[i])**2 \n",
    "    return s**0.5"
   ]
  },
  {
   "cell_type": "code",
   "execution_count": 63,
   "metadata": {},
   "outputs": [
    {
     "data": {
      "text/plain": [
       "0.8774964387392121"
      ]
     },
     "execution_count": 63,
     "metadata": {},
     "output_type": "execute_result"
    }
   ],
   "source": [
    "w = [0.5,3,1.5,0.001]\n",
    "wt_euclidean_distance(X[0],X[1],w)"
   ]
  },
  {
   "cell_type": "code",
   "execution_count": 64,
   "metadata": {},
   "outputs": [
    {
     "data": {
      "text/plain": [
       "0.5385164807134502"
      ]
     },
     "execution_count": 64,
     "metadata": {},
     "output_type": "execute_result"
    }
   ],
   "source": [
    "euclidean_distance(X[0],X[1])"
   ]
  },
  {
   "cell_type": "code",
   "execution_count": 65,
   "metadata": {},
   "outputs": [],
   "source": [
    "dist11 = wt_euclidean_distance(X_0[0],X_0[1],w)\n",
    "dist22 = wt_euclidean_distance(X_1[0],X_1[1],w)\n",
    "dist33 = wt_euclidean_distance(X_2[0],X_2[1],w)"
   ]
  },
  {
   "cell_type": "code",
   "execution_count": 66,
   "metadata": {},
   "outputs": [
    {
     "name": "stdout",
     "output_type": "stream",
     "text": [
      "0.8774964387392121 0.4899081546575847 1.5557506226898963\n"
     ]
    }
   ],
   "source": [
    "print(dist11,dist22,dist33)"
   ]
  },
  {
   "cell_type": "code",
   "execution_count": 67,
   "metadata": {},
   "outputs": [],
   "source": [
    "dist12 = wt_euclidean_distance(X_0[0],X_1[0],w)\n",
    "dist23 = wt_euclidean_distance(X_1[0],X_2[0],w)\n",
    "dist31 = wt_euclidean_distance(X_2[0],X_0[0],w)"
   ]
  },
  {
   "cell_type": "code",
   "execution_count": 68,
   "metadata": {},
   "outputs": [
    {
     "name": "stdout",
     "output_type": "stream",
     "text": [
      "4.29085539257617 1.676666335321372 5.708352652035437\n"
     ]
    }
   ],
   "source": [
    "print(dist12,dist23,dist31)"
   ]
  },
  {
   "cell_type": "markdown",
   "metadata": {},
   "source": [
    "## Generate random Matrix"
   ]
  },
  {
   "cell_type": "code",
   "execution_count": 69,
   "metadata": {},
   "outputs": [
    {
     "data": {
      "text/plain": [
       "array([[-1.26321766,  0.9831675 , -0.55728733, -1.21116788, -0.12231262,\n",
       "         1.08376514, -0.49240554,  1.45703026,  0.23533565,  0.0348162 ],\n",
       "       [ 0.91729917, -1.56104632,  0.54444366,  1.37745357,  1.4934109 ,\n",
       "         1.30712241, -0.48867248, -0.37711343,  0.44753409,  0.36920375],\n",
       "       [ 0.4073066 ,  0.46351296,  0.54473327,  0.33805658,  2.15860114,\n",
       "        -0.52227362,  0.6287359 , -1.61354027,  0.08091114, -0.71958832],\n",
       "       [ 0.45215441,  0.70309726, -0.99136823, -0.56077938, -0.54840507,\n",
       "        -0.86876606,  0.56984827,  1.34059531,  0.49695392, -2.20338337],\n",
       "       [ 1.04285655,  1.35841952,  0.00547241, -1.06509685,  0.79210062,\n",
       "        -0.55590201, -0.61752388,  0.84408784,  3.00893446, -0.75946361],\n",
       "       [-0.91685309,  1.17226324,  1.11830473, -0.97532124,  0.66119791,\n",
       "        -0.62793635, -0.65478669,  0.87637128, -0.80407491, -0.8402735 ],\n",
       "       [ 0.1191013 ,  1.41511254, -1.35711099,  0.92869003, -0.59251229,\n",
       "         2.24854772,  0.68484752,  0.10062591, -1.47725668, -1.18394255],\n",
       "       [ 1.37654476,  1.58879739, -0.58326506,  0.608664  , -0.51486708,\n",
       "         0.09031623, -0.02424043, -0.23016667, -0.95614023,  1.01369625],\n",
       "       [-1.04444025,  0.67438147,  0.75961528,  1.03483201, -1.20156815,\n",
       "         1.84107719, -1.62173654, -0.71390535,  0.61936844, -0.26082681],\n",
       "       [-1.09201956, -0.32347694,  0.22382569, -0.6477618 ,  0.81126701,\n",
       "        -1.01719876,  0.03432462, -1.85780455,  0.29091616,  0.77421189]])"
      ]
     },
     "execution_count": 69,
     "metadata": {},
     "output_type": "execute_result"
    }
   ],
   "source": [
    "A = np.random.randn(10,10)\n",
    "A"
   ]
  },
  {
   "cell_type": "code",
   "execution_count": 70,
   "metadata": {},
   "outputs": [
    {
     "data": {
      "text/plain": [
       "array([[-1.26321766,  0.9831675 , -0.55728733],\n",
       "       [ 0.91729917, -1.56104632,  0.54444366],\n",
       "       [ 0.4073066 ,  0.46351296,  0.54473327]])"
      ]
     },
     "execution_count": 70,
     "metadata": {},
     "output_type": "execute_result"
    }
   ],
   "source": [
    "A[0:3,0:3]"
   ]
  },
  {
   "cell_type": "code",
   "execution_count": 71,
   "metadata": {},
   "outputs": [
    {
     "data": {
      "text/plain": [
       "array([[ 0.28086496,  1.59425722,  0.22579939, -1.6513784 , -0.82115611,\n",
       "         1.30126929, -0.43528857, -1.29734962,  0.92557751, -0.5778605 ,\n",
       "        -0.32619104,  0.51009399,  1.0216049 ,  1.07833377, -0.25898891,\n",
       "        -1.35771044, -0.60410359, -0.31194251,  0.53769252,  0.46155889,\n",
       "         1.1139662 , -0.53561503, -0.45072103,  0.46037914, -2.53150559,\n",
       "        -0.75900049,  0.59795271,  1.63529227,  0.45377118,  0.72206562,\n",
       "         0.29835273, -1.39606046, -0.03782041,  0.13114165,  0.4405544 ,\n",
       "         0.6847344 , -1.7354616 , -1.0245389 , -0.33391419, -0.68204284,\n",
       "        -0.822761  , -0.00920989,  0.2744071 , -0.21299255,  1.43248359,\n",
       "        -0.50991075,  0.56956977, -0.59703319,  0.14027996, -0.84773635,\n",
       "         0.89513542,  0.84504858,  0.86568969,  0.28942644,  0.65520498,\n",
       "         0.3366381 , -1.58637993,  0.2862819 , -0.59963991,  0.49395543,\n",
       "         0.93502433,  0.61733493, -0.05201832, -1.14859359, -0.9679634 ,\n",
       "         1.17731883, -0.64502287, -1.11902531,  1.35996975,  1.11980099,\n",
       "        -1.74968281, -0.32678938, -0.78885164, -0.95176057,  1.2201363 ,\n",
       "        -0.80161948, -1.10799197, -0.75802405, -0.41924563, -0.56314196,\n",
       "         0.16094812,  1.33202541,  0.67532158,  0.58665812,  0.31357763,\n",
       "        -2.04583108, -0.02961409,  0.3589844 ,  1.44290812,  1.39841937,\n",
       "         0.6089871 ,  1.72919003,  0.16989972,  0.13123156,  0.94221417,\n",
       "        -0.75198105,  2.79413639,  1.61099063, -1.31801066, -0.1627474 ]])"
      ]
     },
     "execution_count": 71,
     "metadata": {},
     "output_type": "execute_result"
    }
   ],
   "source": [
    "v = np.random.randn(1,100)\n",
    "v"
   ]
  },
  {
   "cell_type": "code",
   "execution_count": 72,
   "metadata": {},
   "outputs": [
    {
     "data": {
      "text/plain": [
       "array([[ 0.28086496,  1.59425722,  0.22579939, -1.6513784 , -0.82115611,\n",
       "         1.30126929, -0.43528857, -1.29734962,  0.92557751, -0.5778605 ,\n",
       "        -0.32619104,  0.51009399,  1.0216049 ,  1.07833377, -0.25898891,\n",
       "        -1.35771044, -0.60410359, -0.31194251,  0.53769252,  0.46155889],\n",
       "       [ 1.1139662 , -0.53561503, -0.45072103,  0.46037914, -2.53150559,\n",
       "        -0.75900049,  0.59795271,  1.63529227,  0.45377118,  0.72206562,\n",
       "         0.29835273, -1.39606046, -0.03782041,  0.13114165,  0.4405544 ,\n",
       "         0.6847344 , -1.7354616 , -1.0245389 , -0.33391419, -0.68204284],\n",
       "       [-0.822761  , -0.00920989,  0.2744071 , -0.21299255,  1.43248359,\n",
       "        -0.50991075,  0.56956977, -0.59703319,  0.14027996, -0.84773635,\n",
       "         0.89513542,  0.84504858,  0.86568969,  0.28942644,  0.65520498,\n",
       "         0.3366381 , -1.58637993,  0.2862819 , -0.59963991,  0.49395543],\n",
       "       [ 0.93502433,  0.61733493, -0.05201832, -1.14859359, -0.9679634 ,\n",
       "         1.17731883, -0.64502287, -1.11902531,  1.35996975,  1.11980099,\n",
       "        -1.74968281, -0.32678938, -0.78885164, -0.95176057,  1.2201363 ,\n",
       "        -0.80161948, -1.10799197, -0.75802405, -0.41924563, -0.56314196],\n",
       "       [ 0.16094812,  1.33202541,  0.67532158,  0.58665812,  0.31357763,\n",
       "        -2.04583108, -0.02961409,  0.3589844 ,  1.44290812,  1.39841937,\n",
       "         0.6089871 ,  1.72919003,  0.16989972,  0.13123156,  0.94221417,\n",
       "        -0.75198105,  2.79413639,  1.61099063, -1.31801066, -0.1627474 ]])"
      ]
     },
     "execution_count": 72,
     "metadata": {},
     "output_type": "execute_result"
    }
   ],
   "source": [
    "R = np.resize(v,(5,20))\n",
    "R"
   ]
  },
  {
   "cell_type": "markdown",
   "metadata": {},
   "source": [
    "## Matrix Transpose"
   ]
  },
  {
   "cell_type": "code",
   "execution_count": 73,
   "metadata": {},
   "outputs": [
    {
     "data": {
      "text/plain": [
       "array([[ 2,  3,  5],\n",
       "       [ 1, -4,  1],\n",
       "       [ 0,  0,  3]])"
      ]
     },
     "execution_count": 73,
     "metadata": {},
     "output_type": "execute_result"
    }
   ],
   "source": [
    "A = np.array([[2,3,5],[1,-4,1],[0,0,3]])\n",
    "A"
   ]
  },
  {
   "cell_type": "code",
   "execution_count": 74,
   "metadata": {},
   "outputs": [
    {
     "data": {
      "text/plain": [
       "array([[ 2,  1,  0],\n",
       "       [ 3, -4,  0],\n",
       "       [ 5,  1,  3]])"
      ]
     },
     "execution_count": 74,
     "metadata": {},
     "output_type": "execute_result"
    }
   ],
   "source": [
    "A.T"
   ]
  },
  {
   "cell_type": "code",
   "execution_count": 75,
   "metadata": {},
   "outputs": [
    {
     "data": {
      "text/plain": [
       "array([[ 2,  1,  0],\n",
       "       [ 3, -4,  0],\n",
       "       [ 5,  1,  3]])"
      ]
     },
     "execution_count": 75,
     "metadata": {},
     "output_type": "execute_result"
    }
   ],
   "source": [
    "np.transpose(A)"
   ]
  },
  {
   "cell_type": "markdown",
   "metadata": {},
   "source": [
    "## Generate symmetric matrix"
   ]
  },
  {
   "cell_type": "code",
   "execution_count": 76,
   "metadata": {},
   "outputs": [
    {
     "data": {
      "text/plain": [
       "array([[-0.33382282, -0.1248533 ,  1.82458519,  2.32836534, -0.35317583],\n",
       "       [-0.31572785,  1.04882298,  1.38611759, -0.40119038, -1.53732325],\n",
       "       [-0.45287476, -0.68686501,  0.21453276,  1.28853735, -0.43698243],\n",
       "       [-0.04434981, -1.03195563, -0.69952597,  0.0701679 ,  0.8243761 ],\n",
       "       [ 0.81355273,  0.99538901, -0.28620762, -0.10889768, -0.29299166]])"
      ]
     },
     "execution_count": 76,
     "metadata": {},
     "output_type": "execute_result"
    }
   ],
   "source": [
    "A = np.random.randn(5,5)\n",
    "A"
   ]
  },
  {
   "cell_type": "code",
   "execution_count": 77,
   "metadata": {},
   "outputs": [
    {
     "data": {
      "text/plain": [
       "array([[-0.66764563, -0.44058115,  1.37171043,  2.28401553,  0.4603769 ],\n",
       "       [-0.44058115,  2.09764595,  0.69925257, -1.43314601, -0.54193424],\n",
       "       [ 1.37171043,  0.69925257,  0.42906553,  0.58901139, -0.72319005],\n",
       "       [ 2.28401553, -1.43314601,  0.58901139,  0.1403358 ,  0.71547842],\n",
       "       [ 0.4603769 , -0.54193424, -0.72319005,  0.71547842, -0.58598332]])"
      ]
     },
     "execution_count": 77,
     "metadata": {},
     "output_type": "execute_result"
    }
   ],
   "source": [
    "B = A + A.T\n",
    "B"
   ]
  },
  {
   "cell_type": "code",
   "execution_count": 78,
   "metadata": {},
   "outputs": [
    {
     "data": {
      "text/plain": [
       "array([[-0.66764563, -0.44058115,  1.37171043,  2.28401553,  0.4603769 ],\n",
       "       [-0.44058115,  2.09764595,  0.69925257, -1.43314601, -0.54193424],\n",
       "       [ 1.37171043,  0.69925257,  0.42906553,  0.58901139, -0.72319005],\n",
       "       [ 2.28401553, -1.43314601,  0.58901139,  0.1403358 ,  0.71547842],\n",
       "       [ 0.4603769 , -0.54193424, -0.72319005,  0.71547842, -0.58598332]])"
      ]
     },
     "execution_count": 78,
     "metadata": {},
     "output_type": "execute_result"
    }
   ],
   "source": [
    "B.T"
   ]
  },
  {
   "cell_type": "markdown",
   "metadata": {},
   "source": [
    "## Matrix Operations\n",
    "### Scalar Multiplication"
   ]
  },
  {
   "cell_type": "code",
   "execution_count": 79,
   "metadata": {},
   "outputs": [
    {
     "data": {
      "text/plain": [
       "array([[ 2,  3,  5],\n",
       "       [ 1, -4,  1],\n",
       "       [ 0,  0,  3]])"
      ]
     },
     "execution_count": 79,
     "metadata": {},
     "output_type": "execute_result"
    }
   ],
   "source": [
    "A = np.array([[2,3,5],[1,-4,1],[0,0,3]])\n",
    "A"
   ]
  },
  {
   "cell_type": "code",
   "execution_count": 80,
   "metadata": {},
   "outputs": [
    {
     "data": {
      "text/plain": [
       "array([[ 3. ,  4.5,  7.5],\n",
       "       [ 1.5, -6. ,  1.5],\n",
       "       [ 0. ,  0. ,  4.5]])"
      ]
     },
     "execution_count": 80,
     "metadata": {},
     "output_type": "execute_result"
    }
   ],
   "source": [
    "1.5*A"
   ]
  },
  {
   "cell_type": "code",
   "execution_count": 81,
   "metadata": {},
   "outputs": [
    {
     "data": {
      "text/plain": [
       "array([[ 3. ,  4.5,  7.5],\n",
       "       [ 1.5, -6. ,  1.5],\n",
       "       [ 0. ,  0. ,  4.5]])"
      ]
     },
     "execution_count": 81,
     "metadata": {},
     "output_type": "execute_result"
    }
   ],
   "source": [
    "A*1.5"
   ]
  },
  {
   "cell_type": "markdown",
   "metadata": {},
   "source": [
    "### Matix Addition"
   ]
  },
  {
   "cell_type": "code",
   "execution_count": 82,
   "metadata": {},
   "outputs": [
    {
     "data": {
      "text/plain": [
       "array([[ 3,  2,  9],\n",
       "       [-3,  1, 13]])"
      ]
     },
     "execution_count": 82,
     "metadata": {},
     "output_type": "execute_result"
    }
   ],
   "source": [
    "A = np.array([[1,5,2],[-2,3,7]])\n",
    "B = np.array([[2,-3,7],[-1,-2,6]])\n",
    "A+B"
   ]
  },
  {
   "cell_type": "code",
   "execution_count": 83,
   "metadata": {},
   "outputs": [
    {
     "data": {
      "text/plain": [
       "array([[ -4,  19, -17],\n",
       "       [ -1,  12,  -4]])"
      ]
     },
     "execution_count": 83,
     "metadata": {},
     "output_type": "execute_result"
    }
   ],
   "source": [
    "2*A - 3*B"
   ]
  },
  {
   "cell_type": "code",
   "execution_count": 84,
   "metadata": {},
   "outputs": [
    {
     "data": {
      "text/plain": [
       "array([[-2.21066227, -0.35954744,  1.89317705,  0.8194896 ,  2.97485877],\n",
       "       [-0.89330593, -1.69408956,  4.49037069,  1.96549976,  1.4390563 ],\n",
       "       [-2.07714813, -0.04773694, -3.07086866,  1.00466541, -2.15236606]])"
      ]
     },
     "execution_count": 84,
     "metadata": {},
     "output_type": "execute_result"
    }
   ],
   "source": [
    "A = np.random.randn(3,5)\n",
    "B = np.random.randn(3,5)\n",
    "2*(A+B) "
   ]
  },
  {
   "cell_type": "code",
   "execution_count": 85,
   "metadata": {},
   "outputs": [
    {
     "data": {
      "text/plain": [
       "array([[-2.21066227, -0.35954744,  1.89317705,  0.8194896 ,  2.97485877],\n",
       "       [-0.89330593, -1.69408956,  4.49037069,  1.96549976,  1.4390563 ],\n",
       "       [-2.07714813, -0.04773694, -3.07086866,  1.00466541, -2.15236606]])"
      ]
     },
     "execution_count": 85,
     "metadata": {},
     "output_type": "execute_result"
    }
   ],
   "source": [
    "2*A + 2*B "
   ]
  },
  {
   "cell_type": "code",
   "execution_count": 86,
   "metadata": {},
   "outputs": [
    {
     "name": "stdout",
     "output_type": "stream",
     "text": [
      "shape of A: (2, 3)\n",
      "shape of x (3, 1)\n"
     ]
    }
   ],
   "source": [
    "A = np.array([[1,3,-2],[3,1,4]])\n",
    "x = np.array([[2],[5],[1]])\n",
    "print(\"shape of A:\",A.shape)\n",
    "print(\"shape of x\",x.shape)"
   ]
  },
  {
   "cell_type": "code",
   "execution_count": 87,
   "metadata": {},
   "outputs": [],
   "source": [
    "x = 2*x"
   ]
  },
  {
   "cell_type": "code",
   "execution_count": 88,
   "metadata": {},
   "outputs": [
    {
     "data": {
      "text/plain": [
       "array([[60],\n",
       "       [60]])"
      ]
     },
     "execution_count": 88,
     "metadata": {},
     "output_type": "execute_result"
    }
   ],
   "source": [
    "2*np.matmul(A,x)"
   ]
  },
  {
   "cell_type": "markdown",
   "metadata": {},
   "source": [
    "### Matrix Multiplication"
   ]
  },
  {
   "cell_type": "code",
   "execution_count": 89,
   "metadata": {},
   "outputs": [
    {
     "data": {
      "text/plain": [
       "array([[ -1,  -6],\n",
       "       [-14,  42]])"
      ]
     },
     "execution_count": 89,
     "metadata": {},
     "output_type": "execute_result"
    }
   ],
   "source": [
    "A = np.array([[1,2,-3],[7,-1,2]])\n",
    "B = np.array([[-2,5],[2,-1],[1,3]])\n",
    "np.matmul(A,B)"
   ]
  },
  {
   "cell_type": "code",
   "execution_count": 90,
   "metadata": {},
   "outputs": [
    {
     "data": {
      "text/plain": [
       "(2, 3)"
      ]
     },
     "execution_count": 90,
     "metadata": {},
     "output_type": "execute_result"
    }
   ],
   "source": [
    "A.shape"
   ]
  },
  {
   "cell_type": "code",
   "execution_count": 91,
   "metadata": {},
   "outputs": [
    {
     "data": {
      "text/plain": [
       "(3, 2)"
      ]
     },
     "execution_count": 91,
     "metadata": {},
     "output_type": "execute_result"
    }
   ],
   "source": [
    "B.shape"
   ]
  },
  {
   "cell_type": "code",
   "execution_count": 92,
   "metadata": {},
   "outputs": [
    {
     "data": {
      "text/plain": [
       "array([[33, -9, 16],\n",
       "       [-5,  5, -8],\n",
       "       [22, -1,  3]])"
      ]
     },
     "execution_count": 92,
     "metadata": {},
     "output_type": "execute_result"
    }
   ],
   "source": [
    "np.matmul(B,A)"
   ]
  },
  {
   "cell_type": "code",
   "execution_count": 93,
   "metadata": {},
   "outputs": [
    {
     "data": {
      "text/plain": [
       "array([[ 1.8477301 , -3.39698319, -0.9426459 ],\n",
       "       [ 0.45604135,  2.89579687, -2.09236292],\n",
       "       [-2.20331673, -3.25745659,  9.4766252 ]])"
      ]
     },
     "execution_count": 93,
     "metadata": {},
     "output_type": "execute_result"
    }
   ],
   "source": [
    "A = np.random.randn(3,3)\n",
    "B = A + A.T\n",
    "np.matmul(A,B)"
   ]
  },
  {
   "cell_type": "code",
   "execution_count": 94,
   "metadata": {},
   "outputs": [
    {
     "data": {
      "text/plain": [
       "array([[ 2.35847246, -4.258908  , -3.00874129],\n",
       "       [-0.40588346,  6.52268196,  2.95014034],\n",
       "       [-4.26941212,  1.78504666,  5.33899775]])"
      ]
     },
     "execution_count": 94,
     "metadata": {},
     "output_type": "execute_result"
    }
   ],
   "source": [
    "np.matmul(B,A)"
   ]
  },
  {
   "cell_type": "code",
   "execution_count": 95,
   "metadata": {},
   "outputs": [],
   "source": [
    "A = np.random.randn(3,3)\n",
    "B = np.random.randn(3,3)\n",
    "C = np.random.randn(3,3)"
   ]
  },
  {
   "cell_type": "code",
   "execution_count": 96,
   "metadata": {},
   "outputs": [
    {
     "data": {
      "text/plain": [
       "array([[-3.25413378,  0.09201827, -2.76620827],\n",
       "       [ 0.46818743, -0.16772069,  0.51622854],\n",
       "       [-0.87390784, -0.30951432, -0.47250941]])"
      ]
     },
     "execution_count": 96,
     "metadata": {},
     "output_type": "execute_result"
    }
   ],
   "source": [
    "np.matmul(A,np.matmul(B,C))"
   ]
  },
  {
   "cell_type": "code",
   "execution_count": 97,
   "metadata": {},
   "outputs": [
    {
     "data": {
      "text/plain": [
       "array([[-3.25413378,  0.09201827, -2.76620827],\n",
       "       [ 0.46818743, -0.16772069,  0.51622854],\n",
       "       [-0.87390784, -0.30951432, -0.47250941]])"
      ]
     },
     "execution_count": 97,
     "metadata": {},
     "output_type": "execute_result"
    }
   ],
   "source": [
    "np.matmul(np.matmul(A,B),C)"
   ]
  },
  {
   "cell_type": "code",
   "execution_count": 98,
   "metadata": {},
   "outputs": [
    {
     "data": {
      "text/plain": [
       "array([[ 1.31177245,  0.38537753,  2.02835495],\n",
       "       [-0.44035855,  0.07904649, -0.62713097],\n",
       "       [-0.11520474,  0.35519327, -0.04050817]])"
      ]
     },
     "execution_count": 98,
     "metadata": {},
     "output_type": "execute_result"
    }
   ],
   "source": [
    "np.matmul(A,(B + C))"
   ]
  },
  {
   "cell_type": "code",
   "execution_count": 99,
   "metadata": {},
   "outputs": [
    {
     "data": {
      "text/plain": [
       "array([[ 1.31177245,  0.38537753,  2.02835495],\n",
       "       [-0.44035855,  0.07904649, -0.62713097],\n",
       "       [-0.11520474,  0.35519327, -0.04050817]])"
      ]
     },
     "execution_count": 99,
     "metadata": {},
     "output_type": "execute_result"
    }
   ],
   "source": [
    "np.matmul(A,B) + np.matmul(A,C)"
   ]
  },
  {
   "cell_type": "code",
   "execution_count": 100,
   "metadata": {},
   "outputs": [
    {
     "data": {
      "text/plain": [
       "array([[ 3.29900896, -3.99001437,  7.27999147],\n",
       "       [-1.17957524, -1.00406822,  0.0290102 ],\n",
       "       [-1.52776247, -2.13025036,  1.18499908]])"
      ]
     },
     "execution_count": 100,
     "metadata": {},
     "output_type": "execute_result"
    }
   ],
   "source": [
    "np.matmul((A+ B),C)"
   ]
  },
  {
   "cell_type": "code",
   "execution_count": 101,
   "metadata": {},
   "outputs": [
    {
     "data": {
      "text/plain": [
       "array([[ 3.29900896, -3.99001437,  7.27999147],\n",
       "       [-1.17957524, -1.00406822,  0.0290102 ],\n",
       "       [-1.52776247, -2.13025036,  1.18499908]])"
      ]
     },
     "execution_count": 101,
     "metadata": {},
     "output_type": "execute_result"
    }
   ],
   "source": [
    "np.matmul(A, C) + np.matmul(B, C)"
   ]
  },
  {
   "cell_type": "code",
   "execution_count": 102,
   "metadata": {},
   "outputs": [
    {
     "data": {
      "text/plain": [
       "array([[ 0.1209152 ,  0.26837224,  0.56797599],\n",
       "       [ 2.67874521, -0.26268864,  0.97425642],\n",
       "       [-1.6327603 ,  0.3470379 , -0.21483683]])"
      ]
     },
     "execution_count": 102,
     "metadata": {},
     "output_type": "execute_result"
    }
   ],
   "source": [
    "np.matmul(A,B).T"
   ]
  },
  {
   "cell_type": "code",
   "execution_count": 103,
   "metadata": {},
   "outputs": [
    {
     "data": {
      "text/plain": [
       "array([[-0.24339943, -0.42074632,  0.53463183],\n",
       "       [ 0.90764088,  0.81350449,  0.5668739 ],\n",
       "       [-0.3036839 , -0.09022287, -0.92671533]])"
      ]
     },
     "execution_count": 103,
     "metadata": {},
     "output_type": "execute_result"
    }
   ],
   "source": [
    "np.matmul(A.T,B.T)"
   ]
  },
  {
   "cell_type": "code",
   "execution_count": 104,
   "metadata": {},
   "outputs": [
    {
     "data": {
      "text/plain": [
       "array([[ 0.1209152 ,  0.26837224,  0.56797599],\n",
       "       [ 2.67874521, -0.26268864,  0.97425642],\n",
       "       [-1.6327603 ,  0.3470379 , -0.21483683]])"
      ]
     },
     "execution_count": 104,
     "metadata": {},
     "output_type": "execute_result"
    }
   ],
   "source": [
    "np.matmul(B.T,A.T)"
   ]
  },
  {
   "cell_type": "code",
   "execution_count": 105,
   "metadata": {},
   "outputs": [
    {
     "data": {
      "text/plain": [
       "array([[ 0.1209152 ,  0.26837224,  0.56797599],\n",
       "       [ 2.67874521, -0.26268864,  0.97425642],\n",
       "       [-1.6327603 ,  0.3470379 , -0.21483683]])"
      ]
     },
     "execution_count": 105,
     "metadata": {},
     "output_type": "execute_result"
    }
   ],
   "source": [
    "np.matmul(A,B,C).T"
   ]
  },
  {
   "cell_type": "code",
   "execution_count": 106,
   "metadata": {},
   "outputs": [
    {
     "data": {
      "text/plain": [
       "array([[ 0.58389474,  0.53635568,  0.35415966],\n",
       "       [ 0.8402158 ,  1.20092351, -1.17483881],\n",
       "       [-0.10378298, -0.40220926,  0.98680297]])"
      ]
     },
     "execution_count": 106,
     "metadata": {},
     "output_type": "execute_result"
    }
   ],
   "source": [
    "np.matmul(C.T,B.T,A.T)"
   ]
  },
  {
   "cell_type": "markdown",
   "metadata": {},
   "source": [
    "## Transformation Matrix"
   ]
  },
  {
   "cell_type": "markdown",
   "metadata": {},
   "source": [
    "#### create two 2X1 vector and project them in 3D space using a transformation matrix. Check the Euclidean distance of original vector and transformed vector. and plot using matplotib"
   ]
  },
  {
   "cell_type": "markdown",
   "metadata": {},
   "source": [
    "### this uses . Product by using @"
   ]
  },
  {
   "cell_type": "code",
   "execution_count": 107,
   "metadata": {},
   "outputs": [],
   "source": [
    "trans_matrix = np.array([[3, 4],\n",
    "       [7, 1],\n",
    "       [1, 4]])"
   ]
  },
  {
   "cell_type": "code",
   "execution_count": 108,
   "metadata": {},
   "outputs": [
    {
     "name": "stdout",
     "output_type": "stream",
     "text": [
      "[[3 4]\n",
      " [7 1]\n",
      " [1 4]]\n"
     ]
    }
   ],
   "source": [
    "print(trans_matrix)"
   ]
  },
  {
   "cell_type": "code",
   "execution_count": 109,
   "metadata": {},
   "outputs": [
    {
     "name": "stdout",
     "output_type": "stream",
     "text": [
      "[[1]\n",
      " [4]]\n",
      "[[1]\n",
      " [4]]\n"
     ]
    }
   ],
   "source": [
    "v7=np.random.randint(1,10,(2,1))\n",
    "v8=np.random.randint(1,10,(2,1))\n",
    "print (v7)\n",
    "print(v8)"
   ]
  },
  {
   "cell_type": "code",
   "execution_count": 110,
   "metadata": {},
   "outputs": [
    {
     "name": "stdout",
     "output_type": "stream",
     "text": [
      "[[8]\n",
      " [1]]\n",
      "[[5]\n",
      " [8]]\n"
     ]
    }
   ],
   "source": [
    "v7=np.random.randint(1,10,(2,1))\n",
    "v8=np.random.randint(1,10,(2,1))\n",
    "print (v7)\n",
    "print(v8)"
   ]
  },
  {
   "cell_type": "code",
   "execution_count": 111,
   "metadata": {},
   "outputs": [
    {
     "name": "stdout",
     "output_type": "stream",
     "text": [
      "[[28]\n",
      " [57]\n",
      " [12]]\n",
      "(3, 1)\n"
     ]
    }
   ],
   "source": [
    "v7_trans=trans_matrix@v7\n",
    "print(v7_trans)\n",
    "print(v7_trans.shape)"
   ]
  },
  {
   "cell_type": "code",
   "execution_count": 112,
   "metadata": {},
   "outputs": [
    {
     "name": "stdout",
     "output_type": "stream",
     "text": [
      "[[47]\n",
      " [43]\n",
      " [37]]\n"
     ]
    }
   ],
   "source": [
    "v8_trans=trans_matrix@v8\n",
    "print(v8_trans)"
   ]
  },
  {
   "cell_type": "code",
   "execution_count": 113,
   "metadata": {},
   "outputs": [
    {
     "name": "stdout",
     "output_type": "stream",
     "text": [
      "7.615773105863909\n"
     ]
    }
   ],
   "source": [
    "print(distance.euclidean(v7.reshape(2),v8.reshape(2)))"
   ]
  },
  {
   "cell_type": "code",
   "execution_count": 114,
   "metadata": {},
   "outputs": [
    {
     "name": "stdout",
     "output_type": "stream",
     "text": [
      "34.38022687534217\n"
     ]
    }
   ],
   "source": [
    "print(distance.euclidean(v7_trans.reshape(3),v8_trans.reshape(3)))"
   ]
  },
  {
   "cell_type": "markdown",
   "metadata": {},
   "source": [
    "## Determinant of a Matrix"
   ]
  },
  {
   "cell_type": "code",
   "execution_count": 115,
   "metadata": {},
   "outputs": [
    {
     "data": {
      "text/plain": [
       "55.000000000000014"
      ]
     },
     "execution_count": 115,
     "metadata": {},
     "output_type": "execute_result"
    }
   ],
   "source": [
    "A = np.array([[1,-2,5],[7,-3,2],[-1,2,0]])\n",
    "np.linalg.det(A)"
   ]
  },
  {
   "cell_type": "code",
   "execution_count": 116,
   "metadata": {},
   "outputs": [
    {
     "data": {
      "text/plain": [
       "0.0"
      ]
     },
     "execution_count": 116,
     "metadata": {},
     "output_type": "execute_result"
    }
   ],
   "source": [
    "A = np.array([[5,2,7],[-5,-2,-7],[10,4,14]])\n",
    "np.linalg.det(A)"
   ]
  },
  {
   "cell_type": "markdown",
   "metadata": {},
   "source": [
    "## Matrix Inverse"
   ]
  },
  {
   "cell_type": "code",
   "execution_count": 117,
   "metadata": {},
   "outputs": [
    {
     "data": {
      "text/plain": [
       "array([[-0.07272727,  0.18181818,  0.2       ],\n",
       "       [-0.03636364,  0.09090909,  0.6       ],\n",
       "       [ 0.2       ,  0.        ,  0.2       ]])"
      ]
     },
     "execution_count": 117,
     "metadata": {},
     "output_type": "execute_result"
    }
   ],
   "source": [
    "A = np.array([[1,-2,5],[7,-3,2],[-1,2,0]])\n",
    "np.linalg.inv(A)"
   ]
  },
  {
   "cell_type": "code",
   "execution_count": 175,
   "metadata": {},
   "outputs": [
    {
     "data": {
      "text/plain": [
       "array([[ 5,  2,  7],\n",
       "       [-5, -2, -7],\n",
       "       [10,  4, 14]])"
      ]
     },
     "execution_count": 175,
     "metadata": {},
     "output_type": "execute_result"
    }
   ],
   "source": [
    "A = np.array([[5,2,7],[-5,-2,-7],[10,4,14]])\n",
    "A"
   ]
  },
  {
   "cell_type": "code",
   "execution_count": 176,
   "metadata": {},
   "outputs": [
    {
     "ename": "LinAlgError",
     "evalue": "Singular matrix",
     "output_type": "error",
     "traceback": [
      "\u001b[1;31m---------------------------------------------------------------------------\u001b[0m",
      "\u001b[1;31mLinAlgError\u001b[0m                               Traceback (most recent call last)",
      "\u001b[1;32m~\\AppData\\Local\\Temp\\ipykernel_78768\\4176319916.py\u001b[0m in \u001b[0;36m<module>\u001b[1;34m\u001b[0m\n\u001b[1;32m----> 1\u001b[1;33m \u001b[0mnp\u001b[0m\u001b[1;33m.\u001b[0m\u001b[0mlinalg\u001b[0m\u001b[1;33m.\u001b[0m\u001b[0minv\u001b[0m\u001b[1;33m(\u001b[0m\u001b[0mA\u001b[0m\u001b[1;33m)\u001b[0m\u001b[1;33m\u001b[0m\u001b[1;33m\u001b[0m\u001b[0m\n\u001b[0m\u001b[0;32m      2\u001b[0m \u001b[1;33m\u001b[0m\u001b[0m\n\u001b[0;32m      3\u001b[0m \u001b[1;31m#This is expected to return an error/exception of singular matrix\u001b[0m\u001b[1;33m\u001b[0m\u001b[1;33m\u001b[0m\u001b[0m\n",
      "\u001b[1;32m<__array_function__ internals>\u001b[0m in \u001b[0;36minv\u001b[1;34m(*args, **kwargs)\u001b[0m\n",
      "\u001b[1;32mC:\\Vipul\\Anaconda\\lib\\site-packages\\numpy\\linalg\\linalg.py\u001b[0m in \u001b[0;36minv\u001b[1;34m(a)\u001b[0m\n\u001b[0;32m    543\u001b[0m     \u001b[0msignature\u001b[0m \u001b[1;33m=\u001b[0m \u001b[1;34m'D->D'\u001b[0m \u001b[1;32mif\u001b[0m \u001b[0misComplexType\u001b[0m\u001b[1;33m(\u001b[0m\u001b[0mt\u001b[0m\u001b[1;33m)\u001b[0m \u001b[1;32melse\u001b[0m \u001b[1;34m'd->d'\u001b[0m\u001b[1;33m\u001b[0m\u001b[1;33m\u001b[0m\u001b[0m\n\u001b[0;32m    544\u001b[0m     \u001b[0mextobj\u001b[0m \u001b[1;33m=\u001b[0m \u001b[0mget_linalg_error_extobj\u001b[0m\u001b[1;33m(\u001b[0m\u001b[0m_raise_linalgerror_singular\u001b[0m\u001b[1;33m)\u001b[0m\u001b[1;33m\u001b[0m\u001b[1;33m\u001b[0m\u001b[0m\n\u001b[1;32m--> 545\u001b[1;33m     \u001b[0mainv\u001b[0m \u001b[1;33m=\u001b[0m \u001b[0m_umath_linalg\u001b[0m\u001b[1;33m.\u001b[0m\u001b[0minv\u001b[0m\u001b[1;33m(\u001b[0m\u001b[0ma\u001b[0m\u001b[1;33m,\u001b[0m \u001b[0msignature\u001b[0m\u001b[1;33m=\u001b[0m\u001b[0msignature\u001b[0m\u001b[1;33m,\u001b[0m \u001b[0mextobj\u001b[0m\u001b[1;33m=\u001b[0m\u001b[0mextobj\u001b[0m\u001b[1;33m)\u001b[0m\u001b[1;33m\u001b[0m\u001b[1;33m\u001b[0m\u001b[0m\n\u001b[0m\u001b[0;32m    546\u001b[0m     \u001b[1;32mreturn\u001b[0m \u001b[0mwrap\u001b[0m\u001b[1;33m(\u001b[0m\u001b[0mainv\u001b[0m\u001b[1;33m.\u001b[0m\u001b[0mastype\u001b[0m\u001b[1;33m(\u001b[0m\u001b[0mresult_t\u001b[0m\u001b[1;33m,\u001b[0m \u001b[0mcopy\u001b[0m\u001b[1;33m=\u001b[0m\u001b[1;32mFalse\u001b[0m\u001b[1;33m)\u001b[0m\u001b[1;33m)\u001b[0m\u001b[1;33m\u001b[0m\u001b[1;33m\u001b[0m\u001b[0m\n\u001b[0;32m    547\u001b[0m \u001b[1;33m\u001b[0m\u001b[0m\n",
      "\u001b[1;32mC:\\Vipul\\Anaconda\\lib\\site-packages\\numpy\\linalg\\linalg.py\u001b[0m in \u001b[0;36m_raise_linalgerror_singular\u001b[1;34m(err, flag)\u001b[0m\n\u001b[0;32m     86\u001b[0m \u001b[1;33m\u001b[0m\u001b[0m\n\u001b[0;32m     87\u001b[0m \u001b[1;32mdef\u001b[0m \u001b[0m_raise_linalgerror_singular\u001b[0m\u001b[1;33m(\u001b[0m\u001b[0merr\u001b[0m\u001b[1;33m,\u001b[0m \u001b[0mflag\u001b[0m\u001b[1;33m)\u001b[0m\u001b[1;33m:\u001b[0m\u001b[1;33m\u001b[0m\u001b[1;33m\u001b[0m\u001b[0m\n\u001b[1;32m---> 88\u001b[1;33m     \u001b[1;32mraise\u001b[0m \u001b[0mLinAlgError\u001b[0m\u001b[1;33m(\u001b[0m\u001b[1;34m\"Singular matrix\"\u001b[0m\u001b[1;33m)\u001b[0m\u001b[1;33m\u001b[0m\u001b[1;33m\u001b[0m\u001b[0m\n\u001b[0m\u001b[0;32m     89\u001b[0m \u001b[1;33m\u001b[0m\u001b[0m\n\u001b[0;32m     90\u001b[0m \u001b[1;32mdef\u001b[0m \u001b[0m_raise_linalgerror_nonposdef\u001b[0m\u001b[1;33m(\u001b[0m\u001b[0merr\u001b[0m\u001b[1;33m,\u001b[0m \u001b[0mflag\u001b[0m\u001b[1;33m)\u001b[0m\u001b[1;33m:\u001b[0m\u001b[1;33m\u001b[0m\u001b[1;33m\u001b[0m\u001b[0m\n",
      "\u001b[1;31mLinAlgError\u001b[0m: Singular matrix"
     ]
    }
   ],
   "source": [
    "np.linalg.inv(A)\n",
    "\n",
    "#This is expected to return an error/exception of singular matrix"
   ]
  },
  {
   "cell_type": "markdown",
   "metadata": {},
   "source": [
    "#### Perturbation"
   ]
  },
  {
   "cell_type": "code",
   "execution_count": null,
   "metadata": {},
   "outputs": [],
   "source": [
    "delta = 0.02\n",
    "A = A + delta"
   ]
  },
  {
   "cell_type": "code",
   "execution_count": null,
   "metadata": {},
   "outputs": [],
   "source": [
    "A"
   ]
  },
  {
   "cell_type": "code",
   "execution_count": null,
   "metadata": {},
   "outputs": [],
   "source": [
    "np.linalg.det(A)"
   ]
  },
  {
   "cell_type": "code",
   "execution_count": null,
   "metadata": {},
   "outputs": [],
   "source": [
    "np.linalg.inv(A)"
   ]
  },
  {
   "cell_type": "markdown",
   "metadata": {},
   "source": [
    "## Linear Equation Solving "
   ]
  },
  {
   "cell_type": "code",
   "execution_count": null,
   "metadata": {},
   "outputs": [],
   "source": [
    "## x - 2y + 5z = 2\n",
    "## 7x -3y + 2z = 5\n",
    "## 2y -x = 3\n",
    "\n",
    "A = np.array([[1,-2,5],[7,-3,2],[-1,2,0]])\n",
    "b = np.array([[2],[5],[3]])"
   ]
  },
  {
   "cell_type": "code",
   "execution_count": null,
   "metadata": {},
   "outputs": [],
   "source": [
    "x = np.matmul(np.linalg.inv(A),b)\n",
    "x"
   ]
  },
  {
   "cell_type": "code",
   "execution_count": null,
   "metadata": {},
   "outputs": [],
   "source": [
    "## 5x+3y +4z = 11\n",
    "## 2x+y+z = 3 \n",
    "## 4x+7y +5z=17\n",
    "\n",
    "A = np.array([[5,3,4],[2,1,1],[4,7,5]])\n",
    "b = np.array([[11],[3],[17]])"
   ]
  },
  {
   "cell_type": "code",
   "execution_count": null,
   "metadata": {},
   "outputs": [],
   "source": [
    "x = np.matmul(np.linalg.inv(A),b)\n",
    "x"
   ]
  },
  {
   "cell_type": "code",
   "execution_count": null,
   "metadata": {},
   "outputs": [],
   "source": [
    "##a + 3b + 2c + 2d = 1\n",
    "##2a + b + c + 2d = 0\n",
    "##3a + b + 2c + d = 1\n",
    "##2a + c + 3d = 0\n",
    "\n",
    "A = np.array([[1,3,2,2],[2,1,1,2],[3,1,2,1],[2,0,1,3]])\n",
    "b = np.array([[1],[0],[1],[0]])"
   ]
  },
  {
   "cell_type": "code",
   "execution_count": null,
   "metadata": {},
   "outputs": [],
   "source": [
    "x = np.matmul(np.linalg.inv(A),b)\n",
    "x"
   ]
  },
  {
   "cell_type": "markdown",
   "metadata": {},
   "source": [
    "## Trace of a sqaure Matrix"
   ]
  },
  {
   "cell_type": "code",
   "execution_count": null,
   "metadata": {},
   "outputs": [],
   "source": [
    "def my_trace(M):\n",
    "    s = 0\n",
    "    for i in range(M.shape[0]):\n",
    "        s += M[i][i]\n",
    "    return s"
   ]
  },
  {
   "cell_type": "code",
   "execution_count": null,
   "metadata": {},
   "outputs": [],
   "source": [
    "M.shape"
   ]
  },
  {
   "cell_type": "code",
   "execution_count": null,
   "metadata": {},
   "outputs": [],
   "source": [
    "row, col = M.shape\n",
    "print(col)"
   ]
  },
  {
   "cell_type": "code",
   "execution_count": null,
   "metadata": {},
   "outputs": [],
   "source": [
    "M = np.array([[4,5],[6,7]])\n",
    "my_trace(M)"
   ]
  },
  {
   "cell_type": "code",
   "execution_count": null,
   "metadata": {},
   "outputs": [],
   "source": [
    "A = np.random.randn(4,4)\n",
    "my_trace(A)"
   ]
  },
  {
   "cell_type": "code",
   "execution_count": 122,
   "metadata": {},
   "outputs": [
    {
     "data": {
      "text/plain": [
       "17"
      ]
     },
     "execution_count": 122,
     "metadata": {},
     "output_type": "execute_result"
    }
   ],
   "source": [
    "A.trace()"
   ]
  },
  {
   "cell_type": "code",
   "execution_count": 123,
   "metadata": {},
   "outputs": [
    {
     "data": {
      "text/plain": [
       "17"
      ]
     },
     "execution_count": 123,
     "metadata": {},
     "output_type": "execute_result"
    }
   ],
   "source": [
    "np.trace(A)"
   ]
  },
  {
   "cell_type": "code",
   "execution_count": 124,
   "metadata": {},
   "outputs": [
    {
     "data": {
      "text/plain": [
       "11"
      ]
     },
     "execution_count": 124,
     "metadata": {},
     "output_type": "execute_result"
    }
   ],
   "source": [
    "Matrix= np.array([[4,5],[6,7]])\n",
    "Matrix.trace()"
   ]
  },
  {
   "cell_type": "markdown",
   "metadata": {},
   "source": [
    "## Convert a vector to Diagonal Matrix"
   ]
  },
  {
   "cell_type": "code",
   "execution_count": 125,
   "metadata": {},
   "outputs": [
    {
     "data": {
      "text/plain": [
       "array([[0., 0., 0.],\n",
       "       [0., 0., 0.],\n",
       "       [0., 0., 0.]])"
      ]
     },
     "execution_count": 125,
     "metadata": {},
     "output_type": "execute_result"
    }
   ],
   "source": [
    "np.zeros((3,3))"
   ]
  },
  {
   "cell_type": "code",
   "execution_count": 126,
   "metadata": {},
   "outputs": [],
   "source": [
    "def vec_to_diag_mat(v):\n",
    "    M = np.zeros((len(v),len(v)))\n",
    "    for i in range(len(v)):\n",
    "        M[i][i] = v[i]\n",
    "    return M"
   ]
  },
  {
   "cell_type": "code",
   "execution_count": 127,
   "metadata": {},
   "outputs": [
    {
     "data": {
      "text/plain": [
       "array([[1., 0., 0.],\n",
       "       [0., 2., 0.],\n",
       "       [0., 0., 3.]])"
      ]
     },
     "execution_count": 127,
     "metadata": {},
     "output_type": "execute_result"
    }
   ],
   "source": [
    "v = np.array([1,2,3])\n",
    "vec_to_diag_mat(v)"
   ]
  },
  {
   "cell_type": "code",
   "execution_count": 128,
   "metadata": {},
   "outputs": [],
   "source": [
    "## Alternate Method but avoid using unnessary loops\n",
    "def diagonal_M(v):\n",
    "    M = np.zeros((len(v),len(v)))\n",
    "    row, col = M.shape\n",
    "    for i in range(row):\n",
    "        for j in range(col):\n",
    "            if i == j:\n",
    "                M[i][i] = v[i]\n",
    "            else:\n",
    "                M[i][j] = 0\n",
    "    return M"
   ]
  },
  {
   "cell_type": "code",
   "execution_count": 129,
   "metadata": {},
   "outputs": [
    {
     "data": {
      "text/plain": [
       "array([[1., 0., 0.],\n",
       "       [0., 2., 0.],\n",
       "       [0., 0., 3.]])"
      ]
     },
     "execution_count": 129,
     "metadata": {},
     "output_type": "execute_result"
    }
   ],
   "source": [
    "diagonal_M(v)"
   ]
  },
  {
   "cell_type": "code",
   "execution_count": 130,
   "metadata": {},
   "outputs": [
    {
     "data": {
      "text/plain": [
       "array([[ 1,  0,  0,  0],\n",
       "       [ 0,  4,  0,  0],\n",
       "       [ 0,  0,  7,  0],\n",
       "       [ 0,  0,  0, -2]])"
      ]
     },
     "execution_count": 130,
     "metadata": {},
     "output_type": "execute_result"
    }
   ],
   "source": [
    "np.diag([1,4,7,-2])"
   ]
  },
  {
   "cell_type": "markdown",
   "metadata": {},
   "source": [
    "## Eigen Value and Eigen Vector"
   ]
  },
  {
   "cell_type": "code",
   "execution_count": 131,
   "metadata": {},
   "outputs": [
    {
     "data": {
      "text/plain": [
       "array([[ 0.94552998, -2.50131082, -1.00502215],\n",
       "       [-0.05463448, -0.12032403,  1.9062376 ],\n",
       "       [-0.29343444,  0.22691508, -1.02847678]])"
      ]
     },
     "execution_count": 131,
     "metadata": {},
     "output_type": "execute_result"
    }
   ],
   "source": [
    "A = np.random.randn(3,3)\n",
    "A"
   ]
  },
  {
   "cell_type": "code",
   "execution_count": 132,
   "metadata": {},
   "outputs": [],
   "source": [
    "def eig_val_vec(M):\n",
    "    return np.linalg.eig(M)"
   ]
  },
  {
   "cell_type": "code",
   "execution_count": 133,
   "metadata": {},
   "outputs": [],
   "source": [
    "values, vectors = eig_val_vec(A)"
   ]
  },
  {
   "cell_type": "code",
   "execution_count": 134,
   "metadata": {},
   "outputs": [
    {
     "data": {
      "text/plain": [
       "array([ 1.53563032+0.j        , -0.86945057+0.29625986j,\n",
       "       -0.86945057-0.29625986j])"
      ]
     },
     "execution_count": 134,
     "metadata": {},
     "output_type": "execute_result"
    }
   ],
   "source": [
    "values"
   ]
  },
  {
   "cell_type": "code",
   "execution_count": 135,
   "metadata": {},
   "outputs": [
    {
     "data": {
      "text/plain": [
       "array([[-0.97556787+0.j        , -0.73522742+0.j        ,\n",
       "        -0.73522742-0.j        ],\n",
       "       [ 0.17893201+0.j        , -0.61243347+0.14882538j,\n",
       "        -0.61243347-0.14882538j],\n",
       "       [ 0.12747813+0.j        ,  0.19647625-0.1536684j ,\n",
       "         0.19647625+0.1536684j ]])"
      ]
     },
     "execution_count": 135,
     "metadata": {},
     "output_type": "execute_result"
    }
   ],
   "source": [
    "vectors"
   ]
  },
  {
   "cell_type": "markdown",
   "metadata": {},
   "source": [
    "$$ Ax = \\lambda x$$"
   ]
  },
  {
   "cell_type": "code",
   "execution_count": 136,
   "metadata": {},
   "outputs": [
    {
     "data": {
      "text/plain": [
       "array([-1.49811159+0.j,  0.27477343+0.j,  0.19575928+0.j])"
      ]
     },
     "execution_count": 136,
     "metadata": {},
     "output_type": "execute_result"
    }
   ],
   "source": [
    "np.matmul(A, vectors[:,0])"
   ]
  },
  {
   "cell_type": "code",
   "execution_count": 137,
   "metadata": {},
   "outputs": [
    {
     "data": {
      "text/plain": [
       "array([-1.49811159+0.j,  0.27477343+0.j,  0.19575928+0.j])"
      ]
     },
     "execution_count": 137,
     "metadata": {},
     "output_type": "execute_result"
    }
   ],
   "source": [
    "values[0]*vectors[:,0]"
   ]
  },
  {
   "cell_type": "code",
   "execution_count": 138,
   "metadata": {},
   "outputs": [
    {
     "data": {
      "text/plain": [
       "1.0000000000000002"
      ]
     },
     "execution_count": 138,
     "metadata": {},
     "output_type": "execute_result"
    }
   ],
   "source": [
    "np.linalg.norm(vectors[:,2])"
   ]
  },
  {
   "cell_type": "markdown",
   "metadata": {},
   "source": [
    "## Eigenvalues and Eigenvectors of a random symmetric Matrix"
   ]
  },
  {
   "cell_type": "code",
   "execution_count": 139,
   "metadata": {},
   "outputs": [
    {
     "data": {
      "text/plain": [
       "array([[ 0.44739265, -0.88273649],\n",
       "       [-0.88273649,  1.95418989]])"
      ]
     },
     "execution_count": 139,
     "metadata": {},
     "output_type": "execute_result"
    }
   ],
   "source": [
    "A = np.random.randn(2,2)\n",
    "B = A + A.T\n",
    "B"
   ]
  },
  {
   "cell_type": "code",
   "execution_count": 140,
   "metadata": {},
   "outputs": [],
   "source": [
    "values, vectors = eig_val_vec(B)"
   ]
  },
  {
   "cell_type": "code",
   "execution_count": 141,
   "metadata": {},
   "outputs": [
    {
     "data": {
      "text/plain": [
       "array([0.04025984, 2.3613227 ])"
      ]
     },
     "execution_count": 141,
     "metadata": {},
     "output_type": "execute_result"
    }
   ],
   "source": [
    "values"
   ]
  },
  {
   "cell_type": "code",
   "execution_count": 142,
   "metadata": {},
   "outputs": [
    {
     "data": {
      "text/plain": [
       "array([[-0.90807053,  0.41881729],\n",
       "       [-0.41881729, -0.90807053]])"
      ]
     },
     "execution_count": 142,
     "metadata": {},
     "output_type": "execute_result"
    }
   ],
   "source": [
    "vectors"
   ]
  },
  {
   "cell_type": "code",
   "execution_count": 143,
   "metadata": {},
   "outputs": [
    {
     "name": "stdout",
     "output_type": "stream",
     "text": [
      "Trace is equal to the sum of the eigen values\n"
     ]
    }
   ],
   "source": [
    "## Avoid comparing numbers with big decimal part\n",
    "## precision ERROR!!\n",
    "# trace is same as sum of Eigen values. Hence both values should be same.\n",
    "if np.trace(B) == sum(values):\n",
    "    print(\"Trace is equal to the sum of the eigen values\")\n",
    "else:\n",
    "    print(\"Trace is not equal to the sum of the eigen values\")"
   ]
  },
  {
   "cell_type": "code",
   "execution_count": 144,
   "metadata": {},
   "outputs": [
    {
     "name": "stdout",
     "output_type": "stream",
     "text": [
      "Trace is equal to the sum of the eigen values\n"
     ]
    }
   ],
   "source": [
    "if (np.trace(B) - sum(values)) < 0.0001:\n",
    "    print(\"Trace is equal to the sum of the eigen values\")\n",
    "else:\n",
    "    print(\"Trace is not equal to the sum of the eigen values\")"
   ]
  },
  {
   "cell_type": "code",
   "execution_count": 145,
   "metadata": {},
   "outputs": [
    {
     "data": {
      "text/plain": [
       "2.4015825381379603"
      ]
     },
     "execution_count": 145,
     "metadata": {},
     "output_type": "execute_result"
    }
   ],
   "source": [
    "sum(values)"
   ]
  },
  {
   "cell_type": "code",
   "execution_count": 146,
   "metadata": {},
   "outputs": [
    {
     "data": {
      "text/plain": [
       "2.4015825381379603"
      ]
     },
     "execution_count": 146,
     "metadata": {},
     "output_type": "execute_result"
    }
   ],
   "source": [
    "np.trace(B)"
   ]
  },
  {
   "cell_type": "code",
   "execution_count": 147,
   "metadata": {},
   "outputs": [
    {
     "data": {
      "text/plain": [
       "0.09506647971585283"
      ]
     },
     "execution_count": 147,
     "metadata": {},
     "output_type": "execute_result"
    }
   ],
   "source": [
    "values[0]*values[1]"
   ]
  },
  {
   "cell_type": "code",
   "execution_count": 148,
   "metadata": {},
   "outputs": [
    {
     "data": {
      "text/plain": [
       "0.09506647971585265"
      ]
     },
     "execution_count": 148,
     "metadata": {},
     "output_type": "execute_result"
    }
   ],
   "source": [
    "np.linalg.det(B)"
   ]
  },
  {
   "cell_type": "code",
   "execution_count": 152,
   "metadata": {},
   "outputs": [
    {
     "name": "stdout",
     "output_type": "stream",
     "text": [
      "product =  0.09506647971585283\n",
      "determinant =  0.09506647971585265\n"
     ]
    }
   ],
   "source": [
    "# Determinant is same as product of Eigen vectors. Hence both values should be same.\n",
    "print('product = ', values[0]*values[1])\n",
    "print('determinant = ', np.linalg.det(B))"
   ]
  },
  {
   "cell_type": "code",
   "execution_count": 153,
   "metadata": {},
   "outputs": [
    {
     "data": {
      "text/plain": [
       "0.0"
      ]
     },
     "execution_count": 153,
     "metadata": {},
     "output_type": "execute_result"
    }
   ],
   "source": [
    "np.dot(vectors[:,0],vectors[:,1])"
   ]
  },
  {
   "cell_type": "code",
   "execution_count": 154,
   "metadata": {},
   "outputs": [
    {
     "data": {
      "image/png": "[encoded data removed]",
      "text/plain": [
       "<Figure size 640x480 with 1 Axes>"
      ]
     },
     "metadata": {},
     "output_type": "display_data"
    }
   ],
   "source": [
    "subplot = plt.subplot()\n",
    "subplot.arrow(0,0,vectors[:,0][0],vectors[:,0][1],head_length=0.2,head_width=0.1,color='blue',length_includes_head=True)\n",
    "subplot.arrow(0,0,vectors[:,1][0],vectors[:,1][1],head_length=0.2,head_width=0.1,color='red',length_includes_head=True)\n",
    "subplot.grid()\n",
    "plt.show()"
   ]
  },
  {
   "cell_type": "markdown",
   "metadata": {},
   "source": [
    "## Positive(semi) Definite and Negative(semi) Definite Matrix"
   ]
  },
  {
   "cell_type": "code",
   "execution_count": 155,
   "metadata": {},
   "outputs": [],
   "source": [
    "A = np.random.rand(3,3)\n",
    "M = A+A.T"
   ]
  },
  {
   "cell_type": "code",
   "execution_count": 156,
   "metadata": {},
   "outputs": [
    {
     "data": {
      "text/plain": [
       "array([[0.64604085, 0.87430322, 0.66662755],\n",
       "       [0.87430322, 0.45949631, 1.39917353],\n",
       "       [0.66662755, 1.39917353, 0.90420464]])"
      ]
     },
     "execution_count": 156,
     "metadata": {},
     "output_type": "execute_result"
    }
   ],
   "source": [
    "M"
   ]
  },
  {
   "cell_type": "code",
   "execution_count": 157,
   "metadata": {},
   "outputs": [],
   "source": [
    "def pos_neg_definite(M):\n",
    "    values, vectors = eig_val_vec(M)\n",
    "    count_positive = 0\n",
    "    count_negative = 0\n",
    "    count_positive_eigen = 0\n",
    "    count_negative_eigen = 0\n",
    "    \n",
    "    for i in range(len(values)):\n",
    "        if values[i] > 0:\n",
    "            count_positive += 1\n",
    "        else:\n",
    "            count_negative += 1\n",
    "        if np.matmul(np.matmul(vectors[:,i].T,M), vectors[:,i]) > 0:  ## x^t * A * x\n",
    "            count_positive_eigen += 1\n",
    "        else:\n",
    "            count_negative_eigen += 1\n",
    "    if count_negative == 0 and count_negative_eigen == 0:\n",
    "        print(\"The given Matrix is a Positive Definite Matrix.\")\n",
    "    elif count_positive == 0 and count_positive_eigen == 0:\n",
    "        print(\"The given Matrix is Negative Definite Matrix.\")\n",
    "    else:\n",
    "        print(\"The given Matrix is neither Postive Definite nor Negative Definite Matrix.\")"
   ]
  },
  {
   "cell_type": "code",
   "execution_count": 158,
   "metadata": {},
   "outputs": [
    {
     "name": "stdout",
     "output_type": "stream",
     "text": [
      "The given Matrix is neither Postive Definite nor Negative Definite Matrix.\n"
     ]
    }
   ],
   "source": [
    "pos_neg_definite(M)"
   ]
  },
  {
   "cell_type": "code",
   "execution_count": 159,
   "metadata": {},
   "outputs": [
    {
     "data": {
      "text/plain": [
       "array([[ 2, -1,  0],\n",
       "       [-1,  2, -1],\n",
       "       [ 0, -1,  2]])"
      ]
     },
     "execution_count": 159,
     "metadata": {},
     "output_type": "execute_result"
    }
   ],
   "source": [
    "M = np.array([[2,-1,0],[-1,2,-1],[0,-1,2]])\n",
    "M"
   ]
  },
  {
   "cell_type": "code",
   "execution_count": 160,
   "metadata": {},
   "outputs": [
    {
     "name": "stdout",
     "output_type": "stream",
     "text": [
      "The given Matrix is a Positive Definite Matrix.\n"
     ]
    }
   ],
   "source": [
    "pos_neg_definite(M)"
   ]
  },
  {
   "cell_type": "markdown",
   "metadata": {},
   "source": [
    "## Matrix Diagonalization"
   ]
  },
  {
   "cell_type": "code",
   "execution_count": 161,
   "metadata": {},
   "outputs": [],
   "source": [
    "A = np.random.randn(5,5)\n",
    "M = A + A.T"
   ]
  },
  {
   "cell_type": "code",
   "execution_count": 162,
   "metadata": {},
   "outputs": [
    {
     "data": {
      "text/plain": [
       "array([[-2.14770336,  0.68261541,  0.23699519, -0.85803841, -0.96242954],\n",
       "       [ 0.68261541,  2.85243147,  1.41785634, -0.77676967, -0.01844057],\n",
       "       [ 0.23699519,  1.41785634, -0.89715987,  0.51632557, -1.15517774],\n",
       "       [-0.85803841, -0.77676967,  0.51632557,  1.93315256,  1.76802166],\n",
       "       [-0.96242954, -0.01844057, -1.15517774,  1.76802166,  0.59910787]])"
      ]
     },
     "execution_count": 162,
     "metadata": {},
     "output_type": "execute_result"
    }
   ],
   "source": [
    "M   ## LHS"
   ]
  },
  {
   "cell_type": "code",
   "execution_count": 163,
   "metadata": {},
   "outputs": [],
   "source": [
    "values, vectors = eig_val_vec(M)"
   ]
  },
  {
   "cell_type": "code",
   "execution_count": 164,
   "metadata": {},
   "outputs": [
    {
     "data": {
      "text/plain": [
       "array([-2.62165373, -2.24678921,  4.23808643,  0.3879218 ,  2.58226339])"
      ]
     },
     "execution_count": 164,
     "metadata": {},
     "output_type": "execute_result"
    }
   ],
   "source": [
    "values"
   ]
  },
  {
   "cell_type": "code",
   "execution_count": 165,
   "metadata": {},
   "outputs": [
    {
     "data": {
      "text/plain": [
       "array([[ 0.8029966 , -0.54556518,  0.21418828, -0.07726596,  0.07555422],\n",
       "       [-0.20513182, -0.16708538,  0.65457877,  0.19741208, -0.68011654],\n",
       "       [ 0.36333892,  0.67216217,  0.2250682 , -0.56259122, -0.2214007 ],\n",
       "       [-0.08663067, -0.35671142, -0.55906595, -0.4835716 , -0.56467324],\n",
       "       [ 0.41665016,  0.30886257, -0.40303794,  0.6361667 , -0.4047949 ]])"
      ]
     },
     "execution_count": 165,
     "metadata": {},
     "output_type": "execute_result"
    }
   ],
   "source": [
    "vectors"
   ]
  },
  {
   "cell_type": "code",
   "execution_count": 166,
   "metadata": {},
   "outputs": [
    {
     "data": {
      "text/plain": [
       "array([[-2.62165373,  0.        ,  0.        ,  0.        ,  0.        ],\n",
       "       [ 0.        , -2.24678921,  0.        ,  0.        ,  0.        ],\n",
       "       [ 0.        ,  0.        ,  4.23808643,  0.        ,  0.        ],\n",
       "       [ 0.        ,  0.        ,  0.        ,  0.3879218 ,  0.        ],\n",
       "       [ 0.        ,  0.        ,  0.        ,  0.        ,  2.58226339]])"
      ]
     },
     "execution_count": 166,
     "metadata": {},
     "output_type": "execute_result"
    }
   ],
   "source": [
    "M_diag = np.diag(values)\n",
    "M_diag"
   ]
  },
  {
   "cell_type": "code",
   "execution_count": 167,
   "metadata": {},
   "outputs": [],
   "source": [
    "Q = vectors"
   ]
  },
  {
   "cell_type": "code",
   "execution_count": 168,
   "metadata": {},
   "outputs": [
    {
     "data": {
      "text/plain": [
       "array([[-2.14770336,  0.68261541,  0.23699519, -0.85803841, -0.96242954],\n",
       "       [ 0.68261541,  2.85243147,  1.41785634, -0.77676967, -0.01844057],\n",
       "       [ 0.23699519,  1.41785634, -0.89715987,  0.51632557, -1.15517774],\n",
       "       [-0.85803841, -0.77676967,  0.51632557,  1.93315256,  1.76802166],\n",
       "       [-0.96242954, -0.01844057, -1.15517774,  1.76802166,  0.59910787]])"
      ]
     },
     "execution_count": 168,
     "metadata": {},
     "output_type": "execute_result"
    }
   ],
   "source": [
    "np.matmul(np.matmul(Q,M_diag), Q.T)   ## RHS of the equation"
   ]
  },
  {
   "cell_type": "code",
   "execution_count": 169,
   "metadata": {},
   "outputs": [
    {
     "data": {
      "text/plain": [
       "array([[ 0.8029966 , -0.20513182,  0.36333892, -0.08663067,  0.41665016],\n",
       "       [-0.54556518, -0.16708538,  0.67216217, -0.35671142,  0.30886257],\n",
       "       [ 0.21418828,  0.65457877,  0.2250682 , -0.55906595, -0.40303794],\n",
       "       [-0.07726596,  0.19741208, -0.56259122, -0.4835716 ,  0.6361667 ],\n",
       "       [ 0.07555422, -0.68011654, -0.2214007 , -0.56467324, -0.4047949 ]])"
      ]
     },
     "execution_count": 169,
     "metadata": {},
     "output_type": "execute_result"
    }
   ],
   "source": [
    "Q.T"
   ]
  },
  {
   "cell_type": "code",
   "execution_count": 170,
   "metadata": {},
   "outputs": [
    {
     "data": {
      "text/plain": [
       "array([[ 0.8029966 , -0.20513182,  0.36333892, -0.08663067,  0.41665016],\n",
       "       [-0.54556518, -0.16708538,  0.67216217, -0.35671142,  0.30886257],\n",
       "       [ 0.21418828,  0.65457877,  0.2250682 , -0.55906595, -0.40303794],\n",
       "       [-0.07726596,  0.19741208, -0.56259122, -0.4835716 ,  0.6361667 ],\n",
       "       [ 0.07555422, -0.68011654, -0.2214007 , -0.56467324, -0.4047949 ]])"
      ]
     },
     "execution_count": 170,
     "metadata": {},
     "output_type": "execute_result"
    }
   ],
   "source": [
    "np.linalg.inv(Q)"
   ]
  },
  {
   "cell_type": "code",
   "execution_count": 171,
   "metadata": {},
   "outputs": [
    {
     "data": {
      "text/plain": [
       "-0.9999999999999997"
      ]
     },
     "execution_count": 171,
     "metadata": {},
     "output_type": "execute_result"
    }
   ],
   "source": [
    "np.linalg.det(Q)"
   ]
  },
  {
   "cell_type": "code",
   "execution_count": 172,
   "metadata": {},
   "outputs": [
    {
     "data": {
      "image/png": "[encoded data removed]",
      "text/plain": [
       "<Figure size 640x480 with 1 Axes>"
      ]
     },
     "metadata": {},
     "output_type": "display_data"
    }
   ],
   "source": [
    "plt.figure()\n",
    "plt.stem(values)\n",
    "plt.title(\"Spectrum of Eigen Values\")\n",
    "plt.xlabel(\"indices\")\n",
    "plt.ylabel(\"Eigen-values\")\n",
    "plt.show()"
   ]
  },
  {
   "cell_type": "code",
   "execution_count": null,
   "metadata": {},
   "outputs": [],
   "source": []
  }
 ],
 "metadata": {
  "interpreter": {
   "hash": "e0105ac9406840dc292ffde5e398b59ab58478a652bb16a9603dc66a7e7ff2c1"
  },
  "kernelspec": {
   "display_name": "Python 3 (ipykernel)",
   "language": "python",
   "name": "python3"
  },
  "language_info": {
   "codemirror_mode": {
    "name": "ipython",
    "version": 3
   },
   "file_extension": ".py",
   "mimetype": "text/x-python",
   "name": "python",
   "nbconvert_exporter": "python",
   "pygments_lexer": "ipython3",
   "version": "3.11.5"
  }
 },
 "nbformat": 4,
 "nbformat_minor": 2
}
