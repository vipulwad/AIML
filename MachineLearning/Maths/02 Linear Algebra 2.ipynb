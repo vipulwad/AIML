{
 "cells": [
  {
   "cell_type": "markdown",
   "metadata": {
    "id": "TsYful03bpoN"
   },
   "source": [
    "# NumPy - Linear Algebra"
   ]
  },
  {
   "cell_type": "markdown",
   "metadata": {
    "id": "ppaMp_yUbwvG"
   },
   "source": [
    "## Transpose\n",
    "numpy.T - changes rows to columns"
   ]
  },
  {
   "cell_type": "code",
   "execution_count": 1,
   "metadata": {
    "id": "C5fy6vJqVG8A"
   },
   "outputs": [],
   "source": [
    "import numpy as np"
   ]
  },
  {
   "cell_type": "code",
   "execution_count": 2,
   "metadata": {
    "colab": {
     "base_uri": "https://localhost:8080/"
    },
    "id": "wneirkaVcD1E",
    "outputId": "b9f4752c-be71-4a7f-d279-200562a9c0d5"
   },
   "outputs": [
    {
     "name": "stdout",
     "output_type": "stream",
     "text": [
      "[[77 35 22 97]\n",
      " [15 30 25 23]\n",
      " [24  9 84 30]]\n",
      "----------------------------------------------------------------------------------------------------\n",
      "[[77 15 24]\n",
      " [35 30  9]\n",
      " [22 25 84]\n",
      " [97 23 30]]\n"
     ]
    }
   ],
   "source": [
    "data=np.random.randint(1,100,(3,4))\n",
    "print(data)\n",
    "print('-'*100)\n",
    "print(data.T)\n"
   ]
  },
  {
   "cell_type": "markdown",
   "metadata": {
    "id": "s2C9GXqfhQ4R"
   },
   "source": [
    "## Determinant"
   ]
  },
  {
   "cell_type": "code",
   "execution_count": 3,
   "metadata": {
    "id": "y2v8ZDY8fbmv"
   },
   "outputs": [
    {
     "name": "stdout",
     "output_type": "stream",
     "text": [
      "[[5 2 2 4 6 9 5 6 8 9 8 5 8 6 5 7 2 9 9 7]\n",
      " [4 5 3 2 5 5 9 5 6 6 2 7 3 3 9 7 8 1 9 3]\n",
      " [5 1 8 3 4 3 1 5 3 8 6 7 5 3 3 8 3 8 5 6]\n",
      " [1 4 2 7 7 4 8 7 5 6 5 2 9 3 4 4 5 6 4 5]\n",
      " [4 3 3 9 3 5 6 8 3 2 5 6 9 8 1 6 4 7 3 5]\n",
      " [1 9 7 8 2 6 1 2 4 3 7 9 9 2 2 9 5 1 6 4]\n",
      " [4 9 1 3 4 3 6 4 8 1 8 4 2 4 9 2 7 9 8 8]\n",
      " [5 9 5 9 4 5 4 3 7 9 2 5 1 1 7 9 3 2 9 1]\n",
      " [2 5 1 7 5 7 4 7 1 5 5 4 9 2 7 4 5 1 6 6]\n",
      " [1 9 5 6 4 3 1 1 8 2 1 5 4 4 5 7 2 2 6 6]\n",
      " [5 2 7 8 8 5 5 2 1 4 2 1 3 3 9 8 1 6 5 3]\n",
      " [9 7 4 5 8 9 9 2 8 7 6 4 8 9 6 1 1 5 7 4]\n",
      " [7 4 8 6 6 5 3 5 1 1 3 6 3 3 1 5 8 6 4 2]\n",
      " [2 4 6 3 3 3 8 3 5 8 9 1 4 9 3 7 3 3 4 5]\n",
      " [8 5 1 9 3 9 2 9 8 5 3 5 2 3 2 9 2 3 7 5]\n",
      " [6 6 4 1 1 7 2 3 5 1 8 5 2 8 6 1 1 9 8 3]\n",
      " [1 8 3 2 9 1 9 7 7 6 3 5 6 3 1 5 3 6 8 8]\n",
      " [2 6 9 5 9 9 9 3 6 8 9 1 5 1 2 7 4 7 1 8]\n",
      " [4 2 9 4 6 3 3 1 6 3 7 8 6 8 3 8 6 4 7 8]\n",
      " [3 3 2 5 9 8 3 3 8 4 3 4 8 9 3 3 7 9 8 2]]\n",
      "-6.903602767592323e+17\n"
     ]
    }
   ],
   "source": [
    "x=np.random.randint(1,10,(20,20))\n",
    "print(x)\n",
    "print(np.linalg.det(x))"
   ]
  },
  {
   "cell_type": "markdown",
   "metadata": {},
   "source": [
    "# Rank"
   ]
  },
  {
   "cell_type": "code",
   "execution_count": 4,
   "metadata": {},
   "outputs": [
    {
     "name": "stdout",
     "output_type": "stream",
     "text": [
      "Rank of A: 3\n"
     ]
    }
   ],
   "source": [
    "import numpy as np\n",
    " \n",
    "A = np.array([[6, 1, 1],\n",
    "              [4, -2, 5],\n",
    "              [2, 8, 7]])\n",
    " \n",
    "# Rank of a matrix\n",
    "print(\"Rank of A:\", np.linalg.matrix_rank(A))\n",
    " \n"
   ]
  },
  {
   "cell_type": "code",
   "execution_count": 5,
   "metadata": {},
   "outputs": [
    {
     "name": "stdout",
     "output_type": "stream",
     "text": [
      "[[9 4 9]\n",
      " [1 2 2]]\n"
     ]
    },
    {
     "data": {
      "text/plain": [
       "2"
      ]
     },
     "execution_count": 5,
     "metadata": {},
     "output_type": "execute_result"
    }
   ],
   "source": [
    "x=np.random.randint(1,10,(2,3))\n",
    "print(x)\n",
    "np.linalg.matrix_rank(x)"
   ]
  },
  {
   "cell_type": "markdown",
   "metadata": {},
   "source": [
    "# Trace"
   ]
  },
  {
   "cell_type": "code",
   "execution_count": 6,
   "metadata": {},
   "outputs": [
    {
     "name": "stdout",
     "output_type": "stream",
     "text": [
      "\n",
      "Trace of A: 11\n"
     ]
    }
   ],
   "source": [
    "A = np.array([[6, 1, 1],\n",
    "              [4, -2, 5],\n",
    "              [2, 8, 7]])\n",
    "# Trace of matrix A\n",
    "print(\"\\nTrace of A:\", np.trace(A))\n",
    " \n"
   ]
  },
  {
   "cell_type": "code",
   "execution_count": 7,
   "metadata": {},
   "outputs": [
    {
     "name": "stdout",
     "output_type": "stream",
     "text": [
      "[[3 1 8 8 2]\n",
      " [5 8 2 9 6]\n",
      " [4 1 4 6 7]]\n"
     ]
    },
    {
     "data": {
      "text/plain": [
       "15"
      ]
     },
     "execution_count": 7,
     "metadata": {},
     "output_type": "execute_result"
    }
   ],
   "source": [
    "x=np.random.randint(1,10,(3,5))\n",
    "print(x)\n",
    "np.trace(x)"
   ]
  },
  {
   "cell_type": "markdown",
   "metadata": {},
   "source": [
    "# Inverse"
   ]
  },
  {
   "cell_type": "code",
   "execution_count": 8,
   "metadata": {},
   "outputs": [
    {
     "name": "stdout",
     "output_type": "stream",
     "text": [
      "\n",
      "Inverse of A:\n",
      " [[ 0.17647059 -0.00326797 -0.02287582]\n",
      " [ 0.05882353 -0.13071895  0.08496732]\n",
      " [-0.11764706  0.1503268   0.05228758]]\n"
     ]
    }
   ],
   "source": [
    "A = np.array([[6, 1, 1],\n",
    "              [4, -2, 5],\n",
    "              [2, 8, 7]])\n",
    "# Inverse of matrix A\n",
    "print(\"\\nInverse of A:\\n\", np.linalg.inv(A))"
   ]
  },
  {
   "cell_type": "markdown",
   "metadata": {},
   "source": [
    "# Diagonal "
   ]
  },
  {
   "cell_type": "code",
   "execution_count": 9,
   "metadata": {},
   "outputs": [
    {
     "name": "stdout",
     "output_type": "stream",
     "text": [
      "\\diagonal of A:\n",
      " [2]\n"
     ]
    }
   ],
   "source": [
    "A = np.array([[6, 1, 1],\n",
    "              [4, -2, 5],\n",
    "              [2, 8, 7]])\n",
    "print(\"\\diagonal of A:\\n\", np.diag(A, k=-2))"
   ]
  },
  {
   "cell_type": "markdown",
   "metadata": {},
   "source": [
    "## Linear Equation Solving "
   ]
  },
  {
   "cell_type": "code",
   "execution_count": 10,
   "metadata": {},
   "outputs": [],
   "source": [
    "## x - 2y + 5z = 2\n",
    "## 7x -3y + 2z = 5\n",
    "## 2y -x = 3\n",
    "\n",
    "A = np.array([[1,-2,5],[7,-3,2],[-1,2,0]])\n",
    "b = np.array([[2],[5],[3]])"
   ]
  },
  {
   "cell_type": "code",
   "execution_count": 11,
   "metadata": {},
   "outputs": [
    {
     "data": {
      "text/plain": [
       "array([[ 1, -2,  5],\n",
       "       [ 7, -3,  2],\n",
       "       [-1,  2,  0]])"
      ]
     },
     "execution_count": 11,
     "metadata": {},
     "output_type": "execute_result"
    }
   ],
   "source": [
    "A"
   ]
  },
  {
   "cell_type": "code",
   "execution_count": 12,
   "metadata": {},
   "outputs": [
    {
     "data": {
      "text/plain": [
       "array([[2],\n",
       "       [5],\n",
       "       [3]])"
      ]
     },
     "execution_count": 12,
     "metadata": {},
     "output_type": "execute_result"
    }
   ],
   "source": [
    "b"
   ]
  },
  {
   "cell_type": "code",
   "execution_count": 13,
   "metadata": {},
   "outputs": [
    {
     "data": {
      "text/plain": [
       "array([[-0.07272727,  0.18181818,  0.2       ],\n",
       "       [-0.03636364,  0.09090909,  0.6       ],\n",
       "       [ 0.2       ,  0.        ,  0.2       ]])"
      ]
     },
     "execution_count": 13,
     "metadata": {},
     "output_type": "execute_result"
    }
   ],
   "source": [
    "np.linalg.inv(A)"
   ]
  },
  {
   "cell_type": "code",
   "execution_count": 14,
   "metadata": {},
   "outputs": [
    {
     "data": {
      "text/plain": [
       "array([[1.36363636],\n",
       "       [2.18181818],\n",
       "       [1.        ]])"
      ]
     },
     "execution_count": 14,
     "metadata": {},
     "output_type": "execute_result"
    }
   ],
   "source": [
    "x = np.matmul(np.linalg.inv(A),b)\n",
    "x"
   ]
  },
  {
   "cell_type": "code",
   "execution_count": 15,
   "metadata": {},
   "outputs": [],
   "source": [
    "## 5x+3y +4z = 11\n",
    "## 2x+y+z = 3 \n",
    "## 4x+7y +5z=17\n",
    "\n",
    "A = np.array([[5,3,4],[2,1,1],[4,7,5]])\n",
    "b = np.array([[11],[3],[17]])"
   ]
  },
  {
   "cell_type": "code",
   "execution_count": 16,
   "metadata": {},
   "outputs": [
    {
     "data": {
      "text/plain": [
       "(array([[5, 3, 4],\n",
       "        [2, 1, 1],\n",
       "        [4, 7, 5]]),\n",
       " array([[11],\n",
       "        [ 3],\n",
       "        [17]]))"
      ]
     },
     "execution_count": 16,
     "metadata": {},
     "output_type": "execute_result"
    }
   ],
   "source": [
    "A, b"
   ]
  },
  {
   "cell_type": "code",
   "execution_count": 17,
   "metadata": {},
   "outputs": [
    {
     "data": {
      "text/plain": [
       "array([[4.4408921e-16],\n",
       "       [1.0000000e+00],\n",
       "       [2.0000000e+00]])"
      ]
     },
     "execution_count": 17,
     "metadata": {},
     "output_type": "execute_result"
    }
   ],
   "source": [
    "x = np.matmul(np.linalg.inv(A),b)\n",
    "x"
   ]
  },
  {
   "cell_type": "code",
   "execution_count": 18,
   "metadata": {},
   "outputs": [
    {
     "data": {
      "text/plain": [
       "(array([[1, 3, 2, 2],\n",
       "        [2, 1, 1, 2],\n",
       "        [3, 1, 2, 1],\n",
       "        [2, 0, 1, 3]]),\n",
       " array([[1],\n",
       "        [0],\n",
       "        [1],\n",
       "        [0]]))"
      ]
     },
     "execution_count": 18,
     "metadata": {},
     "output_type": "execute_result"
    }
   ],
   "source": [
    "##a + 3b + 2c + 2d = 1\n",
    "##2a + b + c + 2d = 0\n",
    "##3a + b + 2c + d = 1\n",
    "##2a + c + 3d = 0\n",
    "\n",
    "A = np.array([[1,3,2,2],[2,1,1,2],[3,1,2,1],[2,0,1,3]])\n",
    "b = np.array([[1],[0],[1],[0]])\n",
    "A,b"
   ]
  },
  {
   "cell_type": "code",
   "execution_count": 19,
   "metadata": {},
   "outputs": [
    {
     "data": {
      "text/plain": [
       "array([[-0.27272727],\n",
       "       [-0.18181818],\n",
       "       [ 1.09090909],\n",
       "       [-0.18181818]])"
      ]
     },
     "execution_count": 19,
     "metadata": {},
     "output_type": "execute_result"
    }
   ],
   "source": [
    "x = np.matmul(np.linalg.inv(A),b)\n",
    "x"
   ]
  },
  {
   "cell_type": "code",
   "execution_count": 20,
   "metadata": {},
   "outputs": [
    {
     "data": {
      "text/plain": [
       "1.0100000000000002"
      ]
     },
     "execution_count": 20,
     "metadata": {},
     "output_type": "execute_result"
    }
   ],
   "source": [
    "-0.27 + 3*(-0.18) + 2*1.09 + 2*(-0.18)"
   ]
  },
  {
   "cell_type": "markdown",
   "metadata": {},
   "source": [
    "# Eigenvalues and Eigenvectors"
   ]
  },
  {
   "cell_type": "code",
   "execution_count": 21,
   "metadata": {
    "id": "V74i4BdfhsFf"
   },
   "outputs": [
    {
     "name": "stdout",
     "output_type": "stream",
     "text": [
      "Eigenvalues  [11.24862343  5.09285054 -5.34147398]\n",
      "Eigenvectors \n",
      "sum= 11.0\n",
      "product= -306.00000000000006\n"
     ]
    }
   ],
   "source": [
    "A = np.array([[6, 1, 1],\n",
    "              [4, -2, 5],\n",
    "              [2, 8, 7]])\n",
    "w, v= np.linalg.eig(A)\n",
    "print('Eigenvalues ',w)\n",
    "print('Eigenvectors ')\n",
    "print('sum=', w[0]+w[1]+w[2])\n",
    "print('product=', w[0]*w[1]*w[2])"
   ]
  },
  {
   "cell_type": "markdown",
   "metadata": {},
   "source": [
    "## Exercise 1\n",
    "Find eigenvalue and vector of a random matrix and verify it with its determinant."
   ]
  },
  {
   "cell_type": "code",
   "execution_count": 24,
   "metadata": {},
   "outputs": [
    {
     "name": "stdout",
     "output_type": "stream",
     "text": [
      "sum= 11.0\n",
      "trace =  11\n",
      "product =  -306.00000000000006\n",
      "determinant =  -306.0\n"
     ]
    }
   ],
   "source": [
    "# trace is same as sum of Eigen values. Hence both values should be same.\n",
    "print('sum=', w.sum())\n",
    "print('trace = ', np.trace(A))\n",
    "\n",
    "# Determinant is same as product of Eigen vectors. Hence both values should be same.\n",
    "print('product = ', w[0]*w[1]*w[2])\n",
    "print('determinant = ', np.linalg.det(A))"
   ]
  },
  {
   "attachments": {
    "image.png": {
     "image/png": "[encoded data removed]"
    }
   },
   "cell_type": "markdown",
   "metadata": {},
   "source": [
    "### Find Covariance Matrix of the following:\n",
    "![image.png](attachment:image.png)"
   ]
  },
  {
   "cell_type": "code",
   "execution_count": 25,
   "metadata": {},
   "outputs": [
    {
     "name": "stdout",
     "output_type": "stream",
     "text": [
      "[ 1.33333333 -1.        ]\n",
      "[[ 2.  -2.   7. ]\n",
      " [-2.   2.  -7. ]\n",
      " [ 7.  -7.  24.5]]\n"
     ]
    }
   ],
   "source": [
    "# Covariance MAtrix\n",
    "B=np.array([[1,-1],\n",
    "          [0,2],\n",
    "          [3,-4]])\n",
    "\n",
    "print(np.mean(B,axis=0))\n",
    "Y=np.cov(B)\n",
    "print (Y)"
   ]
  },
  {
   "cell_type": "code",
   "execution_count": 26,
   "metadata": {},
   "outputs": [
    {
     "name": "stdout",
     "output_type": "stream",
     "text": [
      "[ 0.   1.  -0.5]\n",
      "[[ 2.33333333 -4.5       ]\n",
      " [-4.5         9.        ]]\n"
     ]
    }
   ],
   "source": [
    "# Covariance MAtrix\n",
    "B=np.array([[1,0, 3],\n",
    "          [-1, 2, -4]])\n",
    "\n",
    "print(np.mean(B,axis=0))\n",
    "Y=np.cov(B)\n",
    "print (Y)"
   ]
  },
  {
   "cell_type": "markdown",
   "metadata": {},
   "source": [
    "## Exercise 2\n",
    "Find eigenvalue and vector of a random matrix and verify it with its trace."
   ]
  },
  {
   "cell_type": "code",
   "execution_count": 23,
   "metadata": {},
   "outputs": [
    {
     "data": {
      "text/plain": [
       "11"
      ]
     },
     "execution_count": 23,
     "metadata": {},
     "output_type": "execute_result"
    }
   ],
   "source": [
    "np.trace(A)"
   ]
  },
  {
   "cell_type": "code",
   "execution_count": null,
   "metadata": {},
   "outputs": [],
   "source": []
  }
 ],
 "metadata": {
  "colab": {
   "provenance": []
  },
  "kernelspec": {
   "display_name": "Python 3 (ipykernel)",
   "language": "python",
   "name": "python3"
  },
  "language_info": {
   "codemirror_mode": {
    "name": "ipython",
    "version": 3
   },
   "file_extension": ".py",
   "mimetype": "text/x-python",
   "name": "python",
   "nbconvert_exporter": "python",
   "pygments_lexer": "ipython3",
   "version": "3.11.5"
  }
 },
 "nbformat": 4,
 "nbformat_minor": 1
}
