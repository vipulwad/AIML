{
 "cells": [
  {
   "cell_type": "markdown",
   "metadata": {
    "id": "pS0oGVQ9yRym"
   },
   "source": [
    "# Training a Perceptron for Multi-Class classification (MNIST digit dataset)"
   ]
  },
  {
   "cell_type": "code",
   "execution_count": 1,
   "metadata": {},
   "outputs": [],
   "source": [
    "import pandas as pd\n",
    "import numpy as np\n",
    "import matplotlib.pyplot as plt\n",
    "from sklearn.preprocessing import MinMaxScaler, StandardScaler\n",
    "from sklearn.neural_network import MLPClassifier\n",
    "from sklearn.linear_model import Perceptron\n",
    "from sklearn.model_selection import train_test_split\n",
    "from sklearn.metrics import accuracy_score, f1_score"
   ]
  },
  {
   "cell_type": "code",
   "execution_count": 2,
   "metadata": {
    "id": "3mj8r56iyRym",
    "outputId": "4471bed3-db5f-4415-aa56-6b748d405234"
   },
   "outputs": [],
   "source": [
    "train_data = pd.read_csv(\"mnist_train/mnist_train.csv\").values"
   ]
  },
  {
   "cell_type": "code",
   "execution_count": 3,
   "metadata": {},
   "outputs": [
    {
     "name": "stdout",
     "output_type": "stream",
     "text": [
      "(60000, 784)\n",
      "(60000,)\n",
      "[0 1 2 3 4 5 6 7 8 9]\n"
     ]
    }
   ],
   "source": [
    "X_train = train_data[:,1:]\n",
    "y_train = train_data[:,0]\n",
    "print(X_train.shape)\n",
    "print(y_train.shape)\n",
    "print(np.unique(y_train))"
   ]
  },
  {
   "cell_type": "code",
   "execution_count": 4,
   "metadata": {},
   "outputs": [
    {
     "data": {
      "image/png": "[encoded data removed]",
      "text/plain": [
       "<Figure size 1500x600 with 10 Axes>"
      ]
     },
     "metadata": {},
     "output_type": "display_data"
    }
   ],
   "source": [
    "rand_idx = np.random.choice(train_data.shape[0],10)\n",
    "fig,ax = plt.subplots(2,5,figsize=(15,6))\n",
    "c = 0\n",
    "for i in range(2):\n",
    "    for j in range(5):\n",
    "        img_arr = X_train[rand_idx[c],:]\n",
    "        label=y_train[rand_idx[c]]\n",
    "        img_arr = np.uint8(img_arr.reshape(28,28))\n",
    "        ax[i,j].imshow(img_arr,cmap=\"gray\")\n",
    "        ax[i,j].set_title(label)\n",
    "        ax[i,j].set_axis_off()\n",
    "        c += 1\n",
    "plt.show()"
   ]
  },
  {
   "cell_type": "code",
   "execution_count": 5,
   "metadata": {},
   "outputs": [
    {
     "name": "stdout",
     "output_type": "stream",
     "text": [
      "(10, 784)\n"
     ]
    }
   ],
   "source": [
    "scaler = MinMaxScaler()\n",
    "X_train = scaler.fit_transform(X_train)\n",
    "\n",
    "clf = Perceptron()\n",
    "clf.fit(X_train,np.ravel(y_train))\n",
    "W_ls = clf.coef_\n",
    "print(W_ls.shape)"
   ]
  },
  {
   "cell_type": "markdown",
   "metadata": {},
   "source": [
    "## Without Normalization"
   ]
  },
  {
   "cell_type": "code",
   "execution_count": 6,
   "metadata": {},
   "outputs": [],
   "source": [
    "test_data = pd.read_csv(\"mnist_test/mnist_test.csv\").values"
   ]
  },
  {
   "cell_type": "code",
   "execution_count": 7,
   "metadata": {},
   "outputs": [
    {
     "name": "stdout",
     "output_type": "stream",
     "text": [
      "(10000, 784)\n",
      "(10000,)\n",
      "[0 1 2 3 4 5 6 7 8 9]\n"
     ]
    }
   ],
   "source": [
    "X_test = test_data[:,1:]\n",
    "y_test = test_data[:,0]\n",
    "print(X_test.shape)\n",
    "print(y_test.shape)\n",
    "print(np.unique(y_test))"
   ]
  },
  {
   "cell_type": "code",
   "execution_count": 8,
   "metadata": {},
   "outputs": [],
   "source": [
    "clf_no_norm = Perceptron()\n",
    "clf_no_norm.fit(X_train,np.ravel(y_train))\n",
    "y_pred_no_norm=clf_no_norm.predict(X_test)\n"
   ]
  },
  {
   "cell_type": "code",
   "execution_count": 9,
   "metadata": {},
   "outputs": [
    {
     "name": "stdout",
     "output_type": "stream",
     "text": [
      "Accuracy score of our classifier is :0.7816\n"
     ]
    }
   ],
   "source": [
    "print(\"Accuracy score of our classifier is :{}\".format(accuracy_score(np.ravel(y_test), y_pred_no_norm)))"
   ]
  },
  {
   "cell_type": "code",
   "execution_count": 10,
   "metadata": {},
   "outputs": [
    {
     "name": "stdout",
     "output_type": "stream",
     "text": [
      "F1 score of our classifier is: [0.959      0.75368651 0.85378869 0.81141329 0.84288145 0.55903614\n",
      " 0.92973523 0.78504673 0.57978227 0.78866698]\n"
     ]
    }
   ],
   "source": [
    "print(\"F1 score of our classifier is: {}\".format(f1_score(y_test, y_pred_no_norm, average=None)))"
   ]
  },
  {
   "cell_type": "code",
   "execution_count": 11,
   "metadata": {},
   "outputs": [
    {
     "name": "stdout",
     "output_type": "stream",
     "text": [
      "F1 score of our classifier in weighted avg is: 0.7880448662225638\n"
     ]
    }
   ],
   "source": [
    "print(\"F1 score of our classifier in weighted avg is: {}\".format(f1_score(np.ravel(y_test), y_pred_no_norm, average='weighted')))"
   ]
  },
  {
   "cell_type": "markdown",
   "metadata": {},
   "source": [
    "### Using Min Max Scaler"
   ]
  },
  {
   "cell_type": "code",
   "execution_count": 12,
   "metadata": {
    "id": "2btgk86KyRyn",
    "outputId": "ab5239ef-6f42-4d98-bd35-c47eac851716"
   },
   "outputs": [],
   "source": [
    "MinMaxScaler_scaler = MinMaxScaler()\n",
    "X_train_MinMaxScaler= MinMaxScaler_scaler.fit_transform(X_train)\n",
    "X_test_MinMaxScaler= MinMaxScaler_scaler.fit_transform(X_test)"
   ]
  },
  {
   "cell_type": "markdown",
   "metadata": {},
   "source": [
    "##### SAve nub max scaler to pickle for future use"
   ]
  },
  {
   "cell_type": "code",
   "execution_count": 13,
   "metadata": {},
   "outputs": [],
   "source": [
    "import pickle\n",
    "with open('minmaxscaler.pkl', 'wb') as ws:\n",
    "    pickle.dump(MinMaxScaler_scaler, ws)"
   ]
  },
  {
   "cell_type": "code",
   "execution_count": 14,
   "metadata": {},
   "outputs": [],
   "source": [
    "clf_MinMaxScaler = Perceptron()\n",
    "clf_MinMaxScaler.fit(X_train_MinMaxScaler,np.ravel(y_train))\n",
    "y_pred_MinMaxScaler=clf_no_norm.predict(X_test_MinMaxScaler)\n"
   ]
  },
  {
   "cell_type": "markdown",
   "metadata": {},
   "source": [
    "##### Save the model"
   ]
  },
  {
   "cell_type": "code",
   "execution_count": 15,
   "metadata": {},
   "outputs": [],
   "source": [
    "import pickle\n",
    "with open('minmaxmodel.pkl', 'wb') as wm:\n",
    "    pickle.dump(clf_MinMaxScaler, wm)"
   ]
  },
  {
   "cell_type": "code",
   "execution_count": null,
   "metadata": {},
   "outputs": [],
   "source": [
    "\n",
    "\n",
    "\n"
   ]
  },
  {
   "cell_type": "code",
   "execution_count": 16,
   "metadata": {},
   "outputs": [
    {
     "name": "stdout",
     "output_type": "stream",
     "text": [
      "Accuracy score of our classifier is :0.8924\n"
     ]
    }
   ],
   "source": [
    "print(\"Accuracy score of our classifier is :{}\".format(accuracy_score(np.ravel(y_test), y_pred_MinMaxScaler)))\n"
   ]
  },
  {
   "cell_type": "code",
   "execution_count": 17,
   "metadata": {},
   "outputs": [
    {
     "name": "stdout",
     "output_type": "stream",
     "text": [
      "F1 score of our classifier is: [0.96236012 0.97049758 0.88997555 0.84310189 0.88626292 0.84038353\n",
      " 0.93577023 0.90872416 0.81844052 0.85252327]\n"
     ]
    }
   ],
   "source": [
    "print(\"F1 score of our classifier is: {}\".format(f1_score(np.ravel(y_test), y_pred_MinMaxScaler, average=None)))\n"
   ]
  },
  {
   "cell_type": "code",
   "execution_count": 18,
   "metadata": {},
   "outputs": [
    {
     "name": "stdout",
     "output_type": "stream",
     "text": [
      "F1 score of our classifier in weighted avg is: 0.8922541021701329\n"
     ]
    }
   ],
   "source": [
    "print(\"F1 score of our classifier in weighted avg is: {}\".format(f1_score(np.ravel(y_test), y_pred_MinMaxScaler, average='weighted')))"
   ]
  },
  {
   "cell_type": "markdown",
   "metadata": {},
   "source": [
    "### Using Standard Scaler"
   ]
  },
  {
   "cell_type": "code",
   "execution_count": 19,
   "metadata": {},
   "outputs": [],
   "source": [
    "StandardScaler_scaler = StandardScaler()\n",
    "X_train_StandardScaler= StandardScaler_scaler.fit_transform(X_train)\n",
    "X_test_StandardScaler= StandardScaler_scaler.fit_transform(X_test)"
   ]
  },
  {
   "cell_type": "code",
   "execution_count": 20,
   "metadata": {},
   "outputs": [],
   "source": [
    "clf_StandardScaler = Perceptron()\n",
    "clf_StandardScaler.fit(X_train_StandardScaler,np.ravel(y_train))\n",
    "y_pred_StandardScaler=clf_no_norm.predict(X_test_StandardScaler)\n"
   ]
  },
  {
   "cell_type": "code",
   "execution_count": 21,
   "metadata": {},
   "outputs": [
    {
     "name": "stdout",
     "output_type": "stream",
     "text": [
      "Accuracy score of our classifier is :0.8075\n"
     ]
    }
   ],
   "source": [
    "print(\"Accuracy score of our classifier is :{}\".format(accuracy_score(np.ravel(y_test), y_pred_StandardScaler)))"
   ]
  },
  {
   "cell_type": "code",
   "execution_count": 22,
   "metadata": {},
   "outputs": [
    {
     "name": "stdout",
     "output_type": "stream",
     "text": [
      "F1 score of our classifier is: [0.92150171 0.78203343 0.8172378  0.80171951 0.82884615 0.77491601\n",
      " 0.9057187  0.85108388 0.46749226 0.80811986]\n"
     ]
    }
   ],
   "source": [
    "print(\"F1 score of our classifier is: {}\".format(f1_score(y_test, y_pred_StandardScaler, average=None)))"
   ]
  },
  {
   "cell_type": "code",
   "execution_count": 23,
   "metadata": {},
   "outputs": [
    {
     "name": "stdout",
     "output_type": "stream",
     "text": [
      "F1 score of our classifier in weighted avg is: 0.7962280879772075\n"
     ]
    }
   ],
   "source": [
    "print(\"F1 score of our classifier in weighted avg is: {}\".format(f1_score(y_test, y_pred_StandardScaler, average='weighted')))"
   ]
  },
  {
   "cell_type": "markdown",
   "metadata": {},
   "source": [
    "### Reuse the saved models"
   ]
  },
  {
   "cell_type": "code",
   "execution_count": 24,
   "metadata": {},
   "outputs": [
    {
     "name": "stdout",
     "output_type": "stream",
     "text": [
      "Perceptron()\n",
      "MinMaxScaler()\n"
     ]
    }
   ],
   "source": [
    "import pickle\n",
    "with open('minmaxmodel.pkl', 'rb') as rm:\n",
    "    model=pickle.load(rm)\n",
    "print( model)\n",
    "\n",
    "with open('minmaxscaler.pkl', 'rb') as rs:\n",
    "    sclr=pickle.load(rs)\n",
    "print( sclr)"
   ]
  },
  {
   "cell_type": "code",
   "execution_count": 44,
   "metadata": {},
   "outputs": [
    {
     "name": "stdout",
     "output_type": "stream",
     "text": [
      "data/test_2.png\n",
      "(47, 58)\n",
      "(28, 28)\n",
      "<class 'numpy.ndarray'>\n",
      "(784,)\n",
      "(1, 784)\n",
      "The image value is :  [2]\n"
     ]
    }
   ],
   "source": [
    "import cv2\n",
    "def input_process(img_file, model, scaler):\n",
    "    print(img_file)\n",
    "    img=cv2.imread(img_file)\n",
    "    img=cv2.cvtColor(img, cv2.COLOR_BGR2GRAY)\n",
    "    cv2.destroyAllWindows() #close the image window\n",
    "    cv2.waitKey(0) #wait for any key\n",
    "    cv2.imshow('image', img)\n",
    "\n",
    "    print(img.shape)\n",
    "    reshape_img=cv2.resize(img,(28,28))\n",
    "    print(reshape_img.shape)\n",
    "    print(type(reshape_img))\n",
    "    \n",
    "    cv2.destroyAllWindows() #close the image window\n",
    "    cv2.waitKey(0) #wait for any key\n",
    "    cv2.imshow('image',reshape_img)\n",
    "    \n",
    "    flatten_img = reshape_img.flatten()\n",
    "    print(flatten_img.shape)\n",
    "    \n",
    "    img_sc=scaler.transform(flatten_img.reshape(1,-1))\n",
    "    print(img_sc.shape)\n",
    "    pred=model.predict(img_sc)\n",
    "    print('The image value is : ',pred)\n",
    "    \n",
    "input_process('data/test_2.png', model, sclr)\n",
    "\n",
    "cv2.destroyAllWindows() #close the image window\n"
   ]
  },
  {
   "cell_type": "markdown",
   "metadata": {
    "id": "PUMC-agIyRyo"
   },
   "source": [
    "### Visualizing the Weight Matrices"
   ]
  },
  {
   "cell_type": "code",
   "execution_count": 26,
   "metadata": {
    "id": "uJA70J6MyRyo",
    "outputId": "ed075b49-9d27-4183-d9c2-22ccd8a532d5"
   },
   "outputs": [
    {
     "data": {
      "image/png": "[encoded data removed]",
      "text/plain": [
       "<Figure size 1500x600 with 10 Axes>"
      ]
     },
     "metadata": {},
     "output_type": "display_data"
    }
   ],
   "source": [
    "fig,ax = plt.subplots(2,5,figsize=(15,6))\n",
    "c = 0\n",
    "for i in range(2):\n",
    "    for j in range(5):\n",
    "        wt_img = W_ls[c].reshape(28,28)\n",
    "        wt_img = np.uint8(wt_img)\n",
    "        ax[i,j].imshow(wt_img,cmap=\"gray\")\n",
    "        ax[i,j].set_axis_off()\n",
    "        c += 1\n",
    "plt.show()"
   ]
  },
  {
   "cell_type": "markdown",
   "metadata": {
    "id": "sWW4PPviyRyp"
   },
   "source": [
    "### Getting the Testing Accuracy"
   ]
  },
  {
   "cell_type": "code",
   "execution_count": 27,
   "metadata": {
    "id": "NPJyzhR2yRyp",
    "outputId": "a38805f6-4b9d-415b-b297-fb8d6cdc06e5"
   },
   "outputs": [
    {
     "name": "stdout",
     "output_type": "stream",
     "text": [
      "Accuracy Score of our multi-class classifier is: 0.8925\n",
      "F1 Score of our classifier is: [0.96236012 0.97049758 0.89041096 0.84310189 0.88681102 0.84038353\n",
      " 0.93577023 0.90872416 0.81844052 0.85252327]\n"
     ]
    }
   ],
   "source": [
    "test_data = pd.read_csv(\"./mnist_test/mnist_test.csv\").values\n",
    "X_test = test_data[:,1:]\n",
    "y_test = test_data[:,0]\n",
    "X_test = scaler.transform(X_test)\n",
    "y_pred = clf.predict(X_test)\n",
    "print(\"Accuracy Score of our multi-class classifier is: {}\".format(accuracy_score(np.ravel(y_test),y_pred)))\n",
    "print(\"F1 Score of our classifier is: {}\".format(f1_score(np.ravel(y_test),y_pred,average=None)))"
   ]
  },
  {
   "cell_type": "code",
   "execution_count": null,
   "metadata": {},
   "outputs": [],
   "source": []
  },
  {
   "cell_type": "code",
   "execution_count": null,
   "metadata": {},
   "outputs": [],
   "source": []
  }
 ],
 "metadata": {
  "colab": {
   "authorship_tag": "ABX9TyMtPwQE8qFaWBuVqIIHvQJ7",
   "provenance": []
  },
  "kernelspec": {
   "display_name": "Python 3 (ipykernel)",
   "language": "python",
   "name": "python3"
  },
  "language_info": {
   "codemirror_mode": {
    "name": "ipython",
    "version": 3
   },
   "file_extension": ".py",
   "mimetype": "text/x-python",
   "name": "python",
   "nbconvert_exporter": "python",
   "pygments_lexer": "ipython3",
   "version": "3.11.5"
  }
 },
 "nbformat": 4,
 "nbformat_minor": 1
}
