{
 "cells": [
  {
   "cell_type": "markdown",
   "metadata": {
    "id": "m9YrAZr1MvW4"
   },
   "source": [
    "# Classification for CIFAR-100"
   ]
  },
  {
   "cell_type": "code",
   "execution_count": 1,
   "metadata": {
    "id": "waJF2I0iKXlQ"
   },
   "outputs": [],
   "source": [
    "import torch"
   ]
  },
  {
   "cell_type": "markdown",
   "metadata": {
    "id": "UdGFX17mAAGd"
   },
   "source": [
    "## Dataset loading"
   ]
  },
  {
   "cell_type": "code",
   "execution_count": 2,
   "metadata": {
    "id": "hpqoj_QD_yGW"
   },
   "outputs": [],
   "source": [
    "import torchvision as tv\n",
    "import torchvision.transforms as transforms\n"
   ]
  },
  {
   "cell_type": "code",
   "execution_count": 3,
   "metadata": {
    "colab": {
     "base_uri": "https://localhost:8080/"
    },
    "id": "53UVOsS4AViM",
    "outputId": "5fa4847d-f90a-4985-ffaf-e7ca914247dc"
   },
   "outputs": [
    {
     "name": "stdout",
     "output_type": "stream",
     "text": [
      "Files already downloaded and verified\n",
      "Files already downloaded and verified\n"
     ]
    }
   ],
   "source": [
    "train_dataset=tv.datasets.CIFAR100('./data', train=True, download=True,\n",
    "                                transform=transforms.ToTensor())\n",
    "test_dataset=tv.datasets.CIFAR100('./data', train=False, download=True,\n",
    "                               transform=transforms.ToTensor())"
   ]
  },
  {
   "cell_type": "code",
   "execution_count": 4,
   "metadata": {
    "id": "b-SwOOj1Nogz"
   },
   "outputs": [],
   "source": [
    "data, label=train_dataset[3692]"
   ]
  },
  {
   "cell_type": "code",
   "execution_count": 5,
   "metadata": {
    "colab": {
     "base_uri": "https://localhost:8080/"
    },
    "id": "zRSETWRDNuPn",
    "outputId": "f577cb44-9dcd-4c10-9993-ac7d0bcf0745"
   },
   "outputs": [
    {
     "data": {
      "text/plain": [
       "(torch.Size([3, 32, 32]), 21)"
      ]
     },
     "execution_count": 5,
     "metadata": {},
     "output_type": "execute_result"
    }
   ],
   "source": [
    "data.shape, label"
   ]
  },
  {
   "cell_type": "code",
   "execution_count": 6,
   "metadata": {
    "id": "ba1C5_-5Nz29"
   },
   "outputs": [
    {
     "data": {
      "text/plain": [
       "{'apple': 0,\n",
       " 'aquarium_fish': 1,\n",
       " 'baby': 2,\n",
       " 'bear': 3,\n",
       " 'beaver': 4,\n",
       " 'bed': 5,\n",
       " 'bee': 6,\n",
       " 'beetle': 7,\n",
       " 'bicycle': 8,\n",
       " 'bottle': 9,\n",
       " 'bowl': 10,\n",
       " 'boy': 11,\n",
       " 'bridge': 12,\n",
       " 'bus': 13,\n",
       " 'butterfly': 14,\n",
       " 'camel': 15,\n",
       " 'can': 16,\n",
       " 'castle': 17,\n",
       " 'caterpillar': 18,\n",
       " 'cattle': 19,\n",
       " 'chair': 20,\n",
       " 'chimpanzee': 21,\n",
       " 'clock': 22,\n",
       " 'cloud': 23,\n",
       " 'cockroach': 24,\n",
       " 'couch': 25,\n",
       " 'crab': 26,\n",
       " 'crocodile': 27,\n",
       " 'cup': 28,\n",
       " 'dinosaur': 29,\n",
       " 'dolphin': 30,\n",
       " 'elephant': 31,\n",
       " 'flatfish': 32,\n",
       " 'forest': 33,\n",
       " 'fox': 34,\n",
       " 'girl': 35,\n",
       " 'hamster': 36,\n",
       " 'house': 37,\n",
       " 'kangaroo': 38,\n",
       " 'keyboard': 39,\n",
       " 'lamp': 40,\n",
       " 'lawn_mower': 41,\n",
       " 'leopard': 42,\n",
       " 'lion': 43,\n",
       " 'lizard': 44,\n",
       " 'lobster': 45,\n",
       " 'man': 46,\n",
       " 'maple_tree': 47,\n",
       " 'motorcycle': 48,\n",
       " 'mountain': 49,\n",
       " 'mouse': 50,\n",
       " 'mushroom': 51,\n",
       " 'oak_tree': 52,\n",
       " 'orange': 53,\n",
       " 'orchid': 54,\n",
       " 'otter': 55,\n",
       " 'palm_tree': 56,\n",
       " 'pear': 57,\n",
       " 'pickup_truck': 58,\n",
       " 'pine_tree': 59,\n",
       " 'plain': 60,\n",
       " 'plate': 61,\n",
       " 'poppy': 62,\n",
       " 'porcupine': 63,\n",
       " 'possum': 64,\n",
       " 'rabbit': 65,\n",
       " 'raccoon': 66,\n",
       " 'ray': 67,\n",
       " 'road': 68,\n",
       " 'rocket': 69,\n",
       " 'rose': 70,\n",
       " 'sea': 71,\n",
       " 'seal': 72,\n",
       " 'shark': 73,\n",
       " 'shrew': 74,\n",
       " 'skunk': 75,\n",
       " 'skyscraper': 76,\n",
       " 'snail': 77,\n",
       " 'snake': 78,\n",
       " 'spider': 79,\n",
       " 'squirrel': 80,\n",
       " 'streetcar': 81,\n",
       " 'sunflower': 82,\n",
       " 'sweet_pepper': 83,\n",
       " 'table': 84,\n",
       " 'tank': 85,\n",
       " 'telephone': 86,\n",
       " 'television': 87,\n",
       " 'tiger': 88,\n",
       " 'tractor': 89,\n",
       " 'train': 90,\n",
       " 'trout': 91,\n",
       " 'tulip': 92,\n",
       " 'turtle': 93,\n",
       " 'wardrobe': 94,\n",
       " 'whale': 95,\n",
       " 'willow_tree': 96,\n",
       " 'wolf': 97,\n",
       " 'woman': 98,\n",
       " 'worm': 99}"
      ]
     },
     "execution_count": 6,
     "metadata": {},
     "output_type": "execute_result"
    }
   ],
   "source": [
    "train_dataset.class_to_idx"
   ]
  },
  {
   "cell_type": "code",
   "execution_count": 7,
   "metadata": {
    "id": "0qOFwKzyQGG4"
   },
   "outputs": [
    {
     "data": {
      "text/plain": [
       "['apple',\n",
       " 'aquarium_fish',\n",
       " 'baby',\n",
       " 'bear',\n",
       " 'beaver',\n",
       " 'bed',\n",
       " 'bee',\n",
       " 'beetle',\n",
       " 'bicycle',\n",
       " 'bottle',\n",
       " 'bowl',\n",
       " 'boy',\n",
       " 'bridge',\n",
       " 'bus',\n",
       " 'butterfly',\n",
       " 'camel',\n",
       " 'can',\n",
       " 'castle',\n",
       " 'caterpillar',\n",
       " 'cattle',\n",
       " 'chair',\n",
       " 'chimpanzee',\n",
       " 'clock',\n",
       " 'cloud',\n",
       " 'cockroach',\n",
       " 'couch',\n",
       " 'crab',\n",
       " 'crocodile',\n",
       " 'cup',\n",
       " 'dinosaur',\n",
       " 'dolphin',\n",
       " 'elephant',\n",
       " 'flatfish',\n",
       " 'forest',\n",
       " 'fox',\n",
       " 'girl',\n",
       " 'hamster',\n",
       " 'house',\n",
       " 'kangaroo',\n",
       " 'keyboard',\n",
       " 'lamp',\n",
       " 'lawn_mower',\n",
       " 'leopard',\n",
       " 'lion',\n",
       " 'lizard',\n",
       " 'lobster',\n",
       " 'man',\n",
       " 'maple_tree',\n",
       " 'motorcycle',\n",
       " 'mountain',\n",
       " 'mouse',\n",
       " 'mushroom',\n",
       " 'oak_tree',\n",
       " 'orange',\n",
       " 'orchid',\n",
       " 'otter',\n",
       " 'palm_tree',\n",
       " 'pear',\n",
       " 'pickup_truck',\n",
       " 'pine_tree',\n",
       " 'plain',\n",
       " 'plate',\n",
       " 'poppy',\n",
       " 'porcupine',\n",
       " 'possum',\n",
       " 'rabbit',\n",
       " 'raccoon',\n",
       " 'ray',\n",
       " 'road',\n",
       " 'rocket',\n",
       " 'rose',\n",
       " 'sea',\n",
       " 'seal',\n",
       " 'shark',\n",
       " 'shrew',\n",
       " 'skunk',\n",
       " 'skyscraper',\n",
       " 'snail',\n",
       " 'snake',\n",
       " 'spider',\n",
       " 'squirrel',\n",
       " 'streetcar',\n",
       " 'sunflower',\n",
       " 'sweet_pepper',\n",
       " 'table',\n",
       " 'tank',\n",
       " 'telephone',\n",
       " 'television',\n",
       " 'tiger',\n",
       " 'tractor',\n",
       " 'train',\n",
       " 'trout',\n",
       " 'tulip',\n",
       " 'turtle',\n",
       " 'wardrobe',\n",
       " 'whale',\n",
       " 'willow_tree',\n",
       " 'wolf',\n",
       " 'woman',\n",
       " 'worm']"
      ]
     },
     "execution_count": 7,
     "metadata": {},
     "output_type": "execute_result"
    }
   ],
   "source": [
    "train_dataset.classes"
   ]
  },
  {
   "cell_type": "code",
   "execution_count": 8,
   "metadata": {
    "code_folding": [],
    "id": "EqvHwtTUOk-W"
   },
   "outputs": [
    {
     "data": {
      "image/png": "[encoded data removed]",
      "text/plain": [
       "<Figure size 640x480 with 1 Axes>"
      ]
     },
     "metadata": {},
     "output_type": "display_data"
    }
   ],
   "source": [
    "import matplotlib.pyplot as plt\n",
    "plt.imshow(data.permute(1,2,0))\n",
    "plt.title(train_dataset.classes[label])\n",
    "plt.show()"
   ]
  },
  {
   "cell_type": "code",
   "execution_count": null,
   "metadata": {
    "id": "q5s_QbdSPwQS"
   },
   "outputs": [],
   "source": []
  },
  {
   "cell_type": "markdown",
   "metadata": {
    "id": "2Tp5uXBhJiEh"
   },
   "source": [
    "## Dataloader"
   ]
  },
  {
   "cell_type": "code",
   "execution_count": 9,
   "metadata": {
    "id": "rvxsYDz8JkVi"
   },
   "outputs": [],
   "source": [
    "from torch.utils.data import DataLoader"
   ]
  },
  {
   "cell_type": "code",
   "execution_count": 10,
   "metadata": {
    "id": "fP85nmVjJog3"
   },
   "outputs": [],
   "source": [
    "batch_size=32\n",
    "train_loader = DataLoader(dataset=train_dataset, batch_size=batch_size,\n",
    "                          shuffle=True)\n",
    "test_loader = DataLoader(dataset=test_dataset, batch_size=batch_size,\n",
    "                         shuffle=False)\n"
   ]
  },
  {
   "cell_type": "code",
   "execution_count": 11,
   "metadata": {
    "colab": {
     "base_uri": "https://localhost:8080/"
    },
    "id": "CIXJP-R6LGX2",
    "outputId": "48892a0e-5044-485b-9f7a-6efaa54c9916"
   },
   "outputs": [
    {
     "name": "stdout",
     "output_type": "stream",
     "text": [
      "torch.Size([32, 3, 32, 32]) tensor([ 8, 70, 25, 78, 17, 70, 98, 56, 42, 71, 72, 87, 57, 88, 34, 35, 34,  3,\n",
      "        45, 10, 46, 19, 86, 37, 21, 67, 17, 40,  8, 86, 57, 68])\n"
     ]
    }
   ],
   "source": [
    "for ddata, ddlabel in train_loader:\n",
    "  print(ddata.shape, ddlabel)\n",
    "  break"
   ]
  },
  {
   "cell_type": "code",
   "execution_count": null,
   "metadata": {
    "id": "Hmh5gcoSRQ-M"
   },
   "outputs": [],
   "source": []
  },
  {
   "cell_type": "markdown",
   "metadata": {
    "id": "iblGJeWbOZlm"
   },
   "source": [
    "## Creating Model"
   ]
  },
  {
   "cell_type": "code",
   "execution_count": 12,
   "metadata": {
    "id": "--qe5BKIOs1G"
   },
   "outputs": [],
   "source": [
    "import torch.nn as nn"
   ]
  },
  {
   "cell_type": "code",
   "execution_count": 13,
   "metadata": {
    "id": "84uYWGcYObl7"
   },
   "outputs": [],
   "source": [
    "class GENMODEL(nn.Module):\n",
    "  def __init__(self, input_layer_node, ouput_layer_node):\n",
    "    super(GENMODEL, self).__init__()\n",
    "    print(\"My first Model is created\")\n",
    "    self.flatten= nn.Flatten()\n",
    "    self.input=nn.Linear(in_features=input_layer_node, out_features=128)\n",
    "    self.hidden=nn.Linear(in_features=128, out_features=64)\n",
    "    self.output=nn.Linear(in_features=64, out_features=ouput_layer_node)\n",
    "    self.relu=nn.ReLU()\n",
    "  def forward(self, x):\n",
    "    x=self.flatten(x) # preprocessign 28X28 --> 784\n",
    "    x = self.input(x) # input layer\n",
    "    x=self.relu(x)\n",
    "    x=self.hidden(x) # hidden layer\n",
    "    x=self.relu(x)\n",
    "    x=self.output(x) # output layer\n",
    "    return x"
   ]
  },
  {
   "cell_type": "code",
   "execution_count": 14,
   "metadata": {
    "id": "t3_Rp6msWErR"
   },
   "outputs": [],
   "source": [
    "class GENMODELv2(nn.Module):\n",
    "  def __init__(self, input_layer_node, ouput_layer_node):\n",
    "    super(GENMODELv2, self).__init__()\n",
    "    print(\"My first Model is created\")\n",
    "    self.flatten= nn.Flatten()\n",
    "    self.input=nn.Linear(in_features=input_layer_node, out_features=1024)\n",
    "    self.hidden1=nn.Linear(in_features=1024, out_features=512)\n",
    "    self.hidden2=nn.Linear(in_features=512, out_features=128)\n",
    "    self.hidden3=nn.Linear(in_features=128, out_features=64)\n",
    "    self.output=nn.Linear(in_features=64, out_features=ouput_layer_node)\n",
    "    self.relu=nn.ReLU()\n",
    "  def forward(self, x):\n",
    "    x=self.flatten(x) # preprocessign 32X32 --> 3072\n",
    "    x = self.input(x) # input layer\n",
    "    x=self.relu(x)\n",
    "    x=self.hidden1(x) # hidden layer\n",
    "    x=self.relu(x)\n",
    "    x=self.hidden2(x) # hidden layer\n",
    "    x=self.relu(x)\n",
    "    x=self.hidden3(x) # hidden layer\n",
    "    x=self.relu(x)\n",
    "    x=self.output(x) # output layer\n",
    "    return x"
   ]
  },
  {
   "cell_type": "code",
   "execution_count": 15,
   "metadata": {
    "id": "-R-0uLoCWjEi"
   },
   "outputs": [],
   "source": [
    "data_input, label=train_dataset[0]"
   ]
  },
  {
   "cell_type": "code",
   "execution_count": 16,
   "metadata": {
    "colab": {
     "base_uri": "https://localhost:8080/"
    },
    "id": "naC4SnmfS2Qt",
    "outputId": "69144729-d6aa-4d80-94e8-aceae019b820"
   },
   "outputs": [
    {
     "data": {
      "text/plain": [
       "3072"
      ]
     },
     "execution_count": 16,
     "metadata": {},
     "output_type": "execute_result"
    }
   ],
   "source": [
    "input_size=data_input.shape[0]*data_input.shape[1]*data_input.shape[2]\n",
    "input_size"
   ]
  },
  {
   "cell_type": "code",
   "execution_count": 17,
   "metadata": {
    "id": "ZNSmP37STIS9"
   },
   "outputs": [],
   "source": [
    "output_size=len(train_dataset.classes)"
   ]
  },
  {
   "cell_type": "code",
   "execution_count": 18,
   "metadata": {
    "id": "-6kQQrTfPQbe"
   },
   "outputs": [
    {
     "name": "stdout",
     "output_type": "stream",
     "text": [
      "My first Model is created\n"
     ]
    },
    {
     "data": {
      "text/plain": [
       "GENMODELv2(\n",
       "  (flatten): Flatten(start_dim=1, end_dim=-1)\n",
       "  (input): Linear(in_features=3072, out_features=1024, bias=True)\n",
       "  (hidden1): Linear(in_features=1024, out_features=512, bias=True)\n",
       "  (hidden2): Linear(in_features=512, out_features=128, bias=True)\n",
       "  (hidden3): Linear(in_features=128, out_features=64, bias=True)\n",
       "  (output): Linear(in_features=64, out_features=100, bias=True)\n",
       "  (relu): ReLU()\n",
       ")"
      ]
     },
     "execution_count": 18,
     "metadata": {},
     "output_type": "execute_result"
    }
   ],
   "source": [
    "model=GENMODELv2(input_size,output_size)\n",
    "model"
   ]
  },
  {
   "cell_type": "code",
   "execution_count": 19,
   "metadata": {
    "colab": {
     "base_uri": "https://localhost:8080/"
    },
    "id": "N_VRfsMQTLEJ",
    "outputId": "8a6da8b8-c9f7-44f9-b7f1-e49718080576"
   },
   "outputs": [
    {
     "name": "stdout",
     "output_type": "stream",
     "text": [
      "Before torch.Size([32, 3, 32, 32])\n",
      "aftr feedforward torch.Size([32, 100])\n"
     ]
    }
   ],
   "source": [
    "for ddata, ddlabel in train_loader:\n",
    "  print(\"Before\", ddata.shape)\n",
    "  out=model(ddata)\n",
    "  print(\"aftr feedforward\",out.shape)\n",
    "  break"
   ]
  },
  {
   "cell_type": "code",
   "execution_count": null,
   "metadata": {
    "id": "sK7Afs_UTb3D"
   },
   "outputs": [],
   "source": []
  },
  {
   "cell_type": "markdown",
   "metadata": {
    "id": "TyCnsM0BcWNy"
   },
   "source": [
    "## Optimizer and Loss"
   ]
  },
  {
   "cell_type": "code",
   "execution_count": 20,
   "metadata": {
    "id": "aAVzgP_Bche0"
   },
   "outputs": [],
   "source": [
    "import torch.optim as optim"
   ]
  },
  {
   "cell_type": "code",
   "execution_count": 21,
   "metadata": {
    "id": "yBaKW9y0ckBI"
   },
   "outputs": [],
   "source": [
    "loss_fn = nn.CrossEntropyLoss()\n",
    "learning_rate=0.01\n",
    "optimizer = optim.SGD(model.parameters(), lr=learning_rate)"
   ]
  },
  {
   "cell_type": "markdown",
   "metadata": {
    "id": "Lhwsf5z5dZ4c"
   },
   "source": [
    "### Model to GPU"
   ]
  },
  {
   "cell_type": "code",
   "execution_count": 22,
   "metadata": {
    "colab": {
     "base_uri": "https://localhost:8080/"
    },
    "id": "geuejin_dctX",
    "outputId": "928502de-8d5b-4cd5-fe89-d2d5d7d448c3"
   },
   "outputs": [
    {
     "name": "stdout",
     "output_type": "stream",
     "text": [
      "cpu\n"
     ]
    }
   ],
   "source": [
    "device=\"cuda\" if torch.cuda.is_available() else \"cpu\"\n",
    "print(device)"
   ]
  },
  {
   "cell_type": "code",
   "execution_count": 23,
   "metadata": {
    "id": "THa1X3Hrd4g8"
   },
   "outputs": [],
   "source": [
    "model=model.to(device)"
   ]
  },
  {
   "cell_type": "markdown",
   "metadata": {
    "id": "PQQ3lfZMeGvN"
   },
   "source": [
    "## Training Loop"
   ]
  },
  {
   "cell_type": "code",
   "execution_count": 24,
   "metadata": {
    "colab": {
     "base_uri": "https://localhost:8080/"
    },
    "id": "BtusaeGIeIps",
    "outputId": "0651b02b-093c-40e5-8dea-d6cbc638448a"
   },
   "outputs": [
    {
     "name": "stderr",
     "output_type": "stream",
     "text": [
      "100%|██████████| 1563/1563 [00:26<00:00, 59.91it/s]\n",
      "100%|██████████| 313/313 [00:03<00:00, 98.65it/s] \n"
     ]
    },
    {
     "name": "stdout",
     "output_type": "stream",
     "text": [
      "\n",
      "Epoch: 0/10 train Loss :4.6047 Test Loss:4.6000  Test Accuracy: 1.3800\n"
     ]
    },
    {
     "name": "stderr",
     "output_type": "stream",
     "text": [
      "100%|██████████| 1563/1563 [00:26<00:00, 59.22it/s]\n",
      "100%|██████████| 313/313 [00:03<00:00, 96.38it/s] \n"
     ]
    },
    {
     "name": "stdout",
     "output_type": "stream",
     "text": [
      "\n",
      "Epoch: 1/10 train Loss :4.5869 Test Loss:4.5592  Test Accuracy: 1.3300\n"
     ]
    },
    {
     "name": "stderr",
     "output_type": "stream",
     "text": [
      "100%|██████████| 1563/1563 [00:26<00:00, 59.66it/s]\n",
      "100%|██████████| 313/313 [00:03<00:00, 86.53it/s]\n"
     ]
    },
    {
     "name": "stdout",
     "output_type": "stream",
     "text": [
      "\n",
      "Epoch: 2/10 train Loss :4.4290 Test Loss:4.2987  Test Accuracy: 3.7400\n"
     ]
    },
    {
     "name": "stderr",
     "output_type": "stream",
     "text": [
      "100%|██████████| 1563/1563 [00:25<00:00, 60.69it/s]\n",
      "100%|██████████| 313/313 [00:03<00:00, 88.64it/s] \n"
     ]
    },
    {
     "name": "stdout",
     "output_type": "stream",
     "text": [
      "\n",
      "Epoch: 3/10 train Loss :4.1936 Test Loss:4.1394  Test Accuracy: 5.6300\n"
     ]
    },
    {
     "name": "stderr",
     "output_type": "stream",
     "text": [
      "100%|██████████| 1563/1563 [00:26<00:00, 58.03it/s]\n",
      "100%|██████████| 313/313 [00:03<00:00, 104.06it/s]\n"
     ]
    },
    {
     "name": "stdout",
     "output_type": "stream",
     "text": [
      "\n",
      "Epoch: 4/10 train Loss :4.0631 Test Loss:4.0306  Test Accuracy: 6.7500\n"
     ]
    },
    {
     "name": "stderr",
     "output_type": "stream",
     "text": [
      "100%|██████████| 1563/1563 [00:26<00:00, 59.30it/s]\n",
      "100%|██████████| 313/313 [00:02<00:00, 110.32it/s]\n"
     ]
    },
    {
     "name": "stdout",
     "output_type": "stream",
     "text": [
      "\n",
      "Epoch: 5/10 train Loss :4.0004 Test Loss:4.0092  Test Accuracy: 7.1300\n"
     ]
    },
    {
     "name": "stderr",
     "output_type": "stream",
     "text": [
      "100%|██████████| 1563/1563 [00:26<00:00, 58.54it/s]\n",
      "100%|██████████| 313/313 [00:03<00:00, 91.50it/s] \n"
     ]
    },
    {
     "name": "stdout",
     "output_type": "stream",
     "text": [
      "\n",
      "Epoch: 6/10 train Loss :3.9456 Test Loss:3.9681  Test Accuracy: 8.2000\n"
     ]
    },
    {
     "name": "stderr",
     "output_type": "stream",
     "text": [
      "100%|██████████| 1563/1563 [00:27<00:00, 55.85it/s]\n",
      "100%|██████████| 313/313 [00:03<00:00, 102.18it/s]\n"
     ]
    },
    {
     "name": "stdout",
     "output_type": "stream",
     "text": [
      "\n",
      "Epoch: 7/10 train Loss :3.8790 Test Loss:3.8862  Test Accuracy: 9.9700\n"
     ]
    },
    {
     "name": "stderr",
     "output_type": "stream",
     "text": [
      "100%|██████████| 1563/1563 [00:27<00:00, 57.87it/s]\n",
      "100%|██████████| 313/313 [00:03<00:00, 91.10it/s] \n"
     ]
    },
    {
     "name": "stdout",
     "output_type": "stream",
     "text": [
      "\n",
      "Epoch: 8/10 train Loss :3.8087 Test Loss:3.8068  Test Accuracy: 11.6400\n"
     ]
    },
    {
     "name": "stderr",
     "output_type": "stream",
     "text": [
      "100%|██████████| 1563/1563 [00:26<00:00, 59.49it/s]\n",
      "100%|██████████| 313/313 [00:03<00:00, 98.31it/s] "
     ]
    },
    {
     "name": "stdout",
     "output_type": "stream",
     "text": [
      "\n",
      "Epoch: 9/10 train Loss :3.7404 Test Loss:3.8721  Test Accuracy: 10.6200\n"
     ]
    },
    {
     "name": "stderr",
     "output_type": "stream",
     "text": [
      "\n"
     ]
    }
   ],
   "source": [
    "import time\n",
    "from tqdm import tqdm\n",
    "import numpy as np\n",
    "start_time=time.time()\n",
    "max_epoch=10\n",
    "training_data=[]\n",
    "for epoch in range(max_epoch):\n",
    "  # pass data through model for training\n",
    "  mean_train_loss=0\n",
    "  mean_val_loss=0\n",
    "  for data, label in tqdm(train_loader):\n",
    "    # print(data.shape, label)\n",
    "    # Put data to GPU\n",
    "    data=data.to(device)\n",
    "    label=label.to(device)\n",
    "    # Feed forward\n",
    "    out=model(data)\n",
    "    # print(out.shape)\n",
    "    # Training Loss calculation\n",
    "    train_loss=loss_fn(out, label)\n",
    "    # print(train_loss)\n",
    "    # Backward pass and optimization\n",
    "    optimizer.zero_grad()\n",
    "    # backprop\n",
    "    train_loss.backward()\n",
    "    # weight updation\n",
    "    optimizer.step()\n",
    "    # print(\"train loss \",train_loss)\n",
    "    mean_train_loss+=train_loss.item()\n",
    "    # break\n",
    "  # validation\n",
    "  total=0\n",
    "  correct=0\n",
    "  with torch.no_grad():\n",
    "    for data, label in tqdm(test_loader):\n",
    "      # print(data.shape, label)\n",
    "      # Put data to GPU\n",
    "      data=data.to(device)\n",
    "      label=label.to(device)\n",
    "      # Feed forward\n",
    "      out=model(data)\n",
    "      # print(out.shape)\n",
    "      # validation Loss calculation\n",
    "      val_loss=loss_fn(out, label)\n",
    "      # print(\"val loss \",val_loss)\n",
    "\n",
    "      _, predicted = torch.max(out, 1)\n",
    "      total += label.size(0)\n",
    "      correct += (predicted == label).sum().item()\n",
    "      mean_val_loss+=val_loss\n",
    "      # break\n",
    "  mean_train_loss = mean_train_loss/len(train_loader)\n",
    "  mean_test_loss = mean_val_loss/len(test_loader)\n",
    "  accuracy = correct / total\n",
    "  training_data.append({\"Train_loss\": mean_train_loss,\n",
    "                        \"val_loss\": mean_test_loss.item(),\n",
    "                        \"accuracy\": accuracy,\n",
    "                        \"epoch\": epoch})\n",
    "  print('\\nEpoch: {}/{} train Loss :{:.4f} Test Loss:{:.4f}  Test Accuracy: {:.4f}'\n",
    "  .format(epoch,max_epoch, mean_train_loss, mean_test_loss, accuracy*100))\n",
    "end_time=time.time()"
   ]
  },
  {
   "cell_type": "markdown",
   "metadata": {
    "id": "QrZDWnz1idaJ"
   },
   "source": [
    "## Time Complexity"
   ]
  },
  {
   "cell_type": "code",
   "execution_count": 25,
   "metadata": {
    "colab": {
     "base_uri": "https://localhost:8080/"
    },
    "id": "Et3DHkJpibKl",
    "outputId": "e786faef-560e-4eac-fb76-e45ae6fe29d0"
   },
   "outputs": [
    {
     "data": {
      "text/plain": [
       "298.3324673175812"
      ]
     },
     "execution_count": 25,
     "metadata": {},
     "output_type": "execute_result"
    }
   ],
   "source": [
    "end_time - start_time"
   ]
  },
  {
   "cell_type": "markdown",
   "metadata": {
    "id": "bOBbKWwStkRQ"
   },
   "source": [
    "## Train validation Accuracy plot"
   ]
  },
  {
   "cell_type": "code",
   "execution_count": 26,
   "metadata": {
    "id": "BrxYSmuMtpUv"
   },
   "outputs": [
    {
     "name": "stderr",
     "output_type": "stream",
     "text": [
      "C:\\Users\\vwadhawan\\AppData\\Local\\Temp\\ipykernel_29176\\432526209.py:1: DeprecationWarning: \n",
      "Pyarrow will become a required dependency of pandas in the next major release of pandas (pandas 3.0),\n",
      "(to allow more performant data types, such as the Arrow string type, and better interoperability with other libraries)\n",
      "but was not found to be installed on your system.\n",
      "If this would cause problems for you,\n",
      "please provide us feedback at https://github.com/pandas-dev/pandas/issues/54466\n",
      "        \n",
      "  import pandas as pd\n"
     ]
    }
   ],
   "source": [
    "import pandas as pd\n",
    "import seaborn as sns"
   ]
  },
  {
   "cell_type": "code",
   "execution_count": 27,
   "metadata": {
    "colab": {
     "base_uri": "https://localhost:8080/",
     "height": 363
    },
    "id": "vkp2hy36uGXj",
    "outputId": "9df8b083-a484-4d2e-f471-f24a6fbed38b"
   },
   "outputs": [
    {
     "data": {
      "text/html": [
       "<div>\n",
       "<style scoped>\n",
       "    .dataframe tbody tr th:only-of-type {\n",
       "        vertical-align: middle;\n",
       "    }\n",
       "\n",
       "    .dataframe tbody tr th {\n",
       "        vertical-align: top;\n",
       "    }\n",
       "\n",
       "    .dataframe thead th {\n",
       "        text-align: right;\n",
       "    }\n",
       "</style>\n",
       "<table border=\"1\" class=\"dataframe\">\n",
       "  <thead>\n",
       "    <tr style=\"text-align: right;\">\n",
       "      <th></th>\n",
       "      <th>Train_loss</th>\n",
       "      <th>val_loss</th>\n",
       "      <th>accuracy</th>\n",
       "      <th>epoch</th>\n",
       "    </tr>\n",
       "  </thead>\n",
       "  <tbody>\n",
       "    <tr>\n",
       "      <th>0</th>\n",
       "      <td>4.604711</td>\n",
       "      <td>4.600040</td>\n",
       "      <td>0.0138</td>\n",
       "      <td>0</td>\n",
       "    </tr>\n",
       "    <tr>\n",
       "      <th>1</th>\n",
       "      <td>4.586898</td>\n",
       "      <td>4.559190</td>\n",
       "      <td>0.0133</td>\n",
       "      <td>1</td>\n",
       "    </tr>\n",
       "    <tr>\n",
       "      <th>2</th>\n",
       "      <td>4.429025</td>\n",
       "      <td>4.298691</td>\n",
       "      <td>0.0374</td>\n",
       "      <td>2</td>\n",
       "    </tr>\n",
       "    <tr>\n",
       "      <th>3</th>\n",
       "      <td>4.193562</td>\n",
       "      <td>4.139382</td>\n",
       "      <td>0.0563</td>\n",
       "      <td>3</td>\n",
       "    </tr>\n",
       "    <tr>\n",
       "      <th>4</th>\n",
       "      <td>4.063088</td>\n",
       "      <td>4.030606</td>\n",
       "      <td>0.0675</td>\n",
       "      <td>4</td>\n",
       "    </tr>\n",
       "    <tr>\n",
       "      <th>5</th>\n",
       "      <td>4.000383</td>\n",
       "      <td>4.009202</td>\n",
       "      <td>0.0713</td>\n",
       "      <td>5</td>\n",
       "    </tr>\n",
       "    <tr>\n",
       "      <th>6</th>\n",
       "      <td>3.945636</td>\n",
       "      <td>3.968064</td>\n",
       "      <td>0.0820</td>\n",
       "      <td>6</td>\n",
       "    </tr>\n",
       "    <tr>\n",
       "      <th>7</th>\n",
       "      <td>3.878961</td>\n",
       "      <td>3.886223</td>\n",
       "      <td>0.0997</td>\n",
       "      <td>7</td>\n",
       "    </tr>\n",
       "    <tr>\n",
       "      <th>8</th>\n",
       "      <td>3.808712</td>\n",
       "      <td>3.806820</td>\n",
       "      <td>0.1164</td>\n",
       "      <td>8</td>\n",
       "    </tr>\n",
       "    <tr>\n",
       "      <th>9</th>\n",
       "      <td>3.740425</td>\n",
       "      <td>3.872072</td>\n",
       "      <td>0.1062</td>\n",
       "      <td>9</td>\n",
       "    </tr>\n",
       "  </tbody>\n",
       "</table>\n",
       "</div>"
      ],
      "text/plain": [
       "   Train_loss  val_loss  accuracy  epoch\n",
       "0    4.604711  4.600040    0.0138      0\n",
       "1    4.586898  4.559190    0.0133      1\n",
       "2    4.429025  4.298691    0.0374      2\n",
       "3    4.193562  4.139382    0.0563      3\n",
       "4    4.063088  4.030606    0.0675      4\n",
       "5    4.000383  4.009202    0.0713      5\n",
       "6    3.945636  3.968064    0.0820      6\n",
       "7    3.878961  3.886223    0.0997      7\n",
       "8    3.808712  3.806820    0.1164      8\n",
       "9    3.740425  3.872072    0.1062      9"
      ]
     },
     "execution_count": 27,
     "metadata": {},
     "output_type": "execute_result"
    }
   ],
   "source": [
    "df=pd.DataFrame(training_data)\n",
    "df"
   ]
  },
  {
   "cell_type": "code",
   "execution_count": 28,
   "metadata": {
    "id": "CT4rtGKNvFOw"
   },
   "outputs": [
    {
     "data": {
      "text/plain": [
       "<Axes: xlabel='epoch', ylabel='Train_loss'>"
      ]
     },
     "execution_count": 28,
     "metadata": {},
     "output_type": "execute_result"
    },
    {
     "data": {
      "image/png": "[encoded data removed]",
      "text/plain": [
       "<Figure size 640x480 with 1 Axes>"
      ]
     },
     "metadata": {},
     "output_type": "display_data"
    }
   ],
   "source": [
    "sns.scatterplot(data=df, x='epoch', y='Train_loss')\n",
    "sns.scatterplot(data=df, x='epoch', y='val_loss')\n",
    "sns.scatterplot(data=df, x='epoch', y='accuracy')\n"
   ]
  },
  {
   "cell_type": "markdown",
   "metadata": {
    "id": "Ox4r08JIZnAB"
   },
   "source": [
    "## Model weights visualization"
   ]
  },
  {
   "cell_type": "code",
   "execution_count": 29,
   "metadata": {
    "colab": {
     "base_uri": "https://localhost:8080/"
    },
    "id": "ritLLKM1ZqfR",
    "outputId": "4c976187-2165-4567-d960-b941e7e5b545"
   },
   "outputs": [
    {
     "data": {
      "text/plain": [
       "torch.Size([1024, 3072])"
      ]
     },
     "execution_count": 29,
     "metadata": {},
     "output_type": "execute_result"
    }
   ],
   "source": [
    "model.input.weight.data.shape"
   ]
  },
  {
   "cell_type": "code",
   "execution_count": 30,
   "metadata": {
    "colab": {
     "base_uri": "https://localhost:8080/"
    },
    "id": "inv_ZKpEZtL1",
    "outputId": "c8aa81b4-7593-4115-d474-f74695baf398"
   },
   "outputs": [
    {
     "data": {
      "text/plain": [
       "torch.Size([512, 1024])"
      ]
     },
     "execution_count": 30,
     "metadata": {},
     "output_type": "execute_result"
    }
   ],
   "source": [
    "model.hidden1.weight.data.shape"
   ]
  },
  {
   "cell_type": "code",
   "execution_count": 31,
   "metadata": {
    "id": "mChGXJlaaUhF"
   },
   "outputs": [
    {
     "data": {
      "text/plain": [
       "tensor([[ 0.0072,  0.0380,  0.0350,  ..., -0.0101, -0.0155,  0.0493],\n",
       "        [ 0.0307, -0.0446, -0.0281,  ..., -0.0028, -0.0501,  0.0243],\n",
       "        [ 0.0262,  0.0020, -0.0285,  ...,  0.0288,  0.0304, -0.0201],\n",
       "        ...,\n",
       "        [ 0.0205, -0.0315,  0.0279,  ...,  0.0300,  0.0243, -0.0031],\n",
       "        [ 0.0244, -0.0155, -0.0455,  ..., -0.0249,  0.0310,  0.0490],\n",
       "        [-0.0439, -0.0166,  0.0078,  ...,  0.0177,  0.0346,  0.0382]])"
      ]
     },
     "execution_count": 31,
     "metadata": {},
     "output_type": "execute_result"
    }
   ],
   "source": [
    "model.hidden2.weight.data"
   ]
  },
  {
   "cell_type": "code",
   "execution_count": 32,
   "metadata": {
    "id": "_oagEBf-aZ7p"
   },
   "outputs": [],
   "source": [
    "w3=model.hidden3.weight.data"
   ]
  },
  {
   "cell_type": "code",
   "execution_count": 33,
   "metadata": {
    "id": "Vh_NEJlkbbRm"
   },
   "outputs": [],
   "source": [
    "#import matplotlib.pyplot as plt\n",
    "#plt.imshow(w3.cpu().numpy())\n",
    "#plt.show()"
   ]
  },
  {
   "cell_type": "markdown",
   "metadata": {
    "id": "zhKdFceiaike"
   },
   "source": [
    "## Save the torch model"
   ]
  },
  {
   "cell_type": "code",
   "execution_count": 34,
   "metadata": {
    "id": "ALPzyKGcabN1"
   },
   "outputs": [],
   "source": [
    "torch.save(model.state_dict(), 'model_weights.pth')"
   ]
  },
  {
   "cell_type": "code",
   "execution_count": null,
   "metadata": {
    "id": "HL2_amooazwP"
   },
   "outputs": [],
   "source": []
  },
  {
   "cell_type": "code",
   "execution_count": null,
   "metadata": {},
   "outputs": [],
   "source": []
  }
 ],
 "metadata": {
  "accelerator": "GPU",
  "colab": {
   "gpuType": "T4",
   "provenance": []
  },
  "kernelspec": {
   "display_name": "Python 3 (ipykernel)",
   "language": "python",
   "name": "python3"
  },
  "language_info": {
   "codemirror_mode": {
    "name": "ipython",
    "version": 3
   },
   "file_extension": ".py",
   "mimetype": "text/x-python",
   "name": "python",
   "nbconvert_exporter": "python",
   "pygments_lexer": "ipython3",
   "version": "3.11.7"
  }
 },
 "nbformat": 4,
 "nbformat_minor": 4
}
