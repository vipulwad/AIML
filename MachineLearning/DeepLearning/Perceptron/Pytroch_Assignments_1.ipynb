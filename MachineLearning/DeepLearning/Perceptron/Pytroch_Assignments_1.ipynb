{
 "cells": [
  {
   "cell_type": "markdown",
   "metadata": {
    "id": "m9YrAZr1MvW4"
   },
   "source": [
    "# Classification for CIFAR-10"
   ]
  },
  {
   "cell_type": "code",
   "execution_count": 1,
   "metadata": {
    "id": "waJF2I0iKXlQ"
   },
   "outputs": [],
   "source": [
    "import torch"
   ]
  },
  {
   "cell_type": "markdown",
   "metadata": {
    "id": "UdGFX17mAAGd"
   },
   "source": [
    "## Dataset loading"
   ]
  },
  {
   "cell_type": "code",
   "execution_count": 2,
   "metadata": {
    "id": "hpqoj_QD_yGW"
   },
   "outputs": [],
   "source": [
    "import torchvision as tv\n",
    "import torchvision.transforms as transforms\n"
   ]
  },
  {
   "cell_type": "code",
   "execution_count": 3,
   "metadata": {
    "colab": {
     "base_uri": "https://localhost:8080/"
    },
    "id": "53UVOsS4AViM",
    "outputId": "5fa4847d-f90a-4985-ffaf-e7ca914247dc"
   },
   "outputs": [
    {
     "name": "stdout",
     "output_type": "stream",
     "text": [
      "Files already downloaded and verified\n",
      "Files already downloaded and verified\n"
     ]
    }
   ],
   "source": [
    "train_dataset=tv.datasets.CIFAR10('./data', train=True, download=True,\n",
    "                                transform=transforms.ToTensor())\n",
    "test_dataset=tv.datasets.CIFAR10('./data', train=False, download=True,\n",
    "                               transform=transforms.ToTensor())"
   ]
  },
  {
   "cell_type": "code",
   "execution_count": 4,
   "metadata": {
    "id": "b-SwOOj1Nogz"
   },
   "outputs": [],
   "source": [
    "data, label=train_dataset[3692]"
   ]
  },
  {
   "cell_type": "code",
   "execution_count": 5,
   "metadata": {
    "colab": {
     "base_uri": "https://localhost:8080/"
    },
    "id": "zRSETWRDNuPn",
    "outputId": "f577cb44-9dcd-4c10-9993-ac7d0bcf0745"
   },
   "outputs": [
    {
     "data": {
      "text/plain": [
       "(torch.Size([3, 32, 32]), 2)"
      ]
     },
     "execution_count": 5,
     "metadata": {},
     "output_type": "execute_result"
    }
   ],
   "source": [
    "data.shape, label"
   ]
  },
  {
   "cell_type": "code",
   "execution_count": 6,
   "metadata": {
    "id": "ba1C5_-5Nz29"
   },
   "outputs": [
    {
     "data": {
      "text/plain": [
       "{'airplane': 0,\n",
       " 'automobile': 1,\n",
       " 'bird': 2,\n",
       " 'cat': 3,\n",
       " 'deer': 4,\n",
       " 'dog': 5,\n",
       " 'frog': 6,\n",
       " 'horse': 7,\n",
       " 'ship': 8,\n",
       " 'truck': 9}"
      ]
     },
     "execution_count": 6,
     "metadata": {},
     "output_type": "execute_result"
    }
   ],
   "source": [
    "train_dataset.class_to_idx"
   ]
  },
  {
   "cell_type": "code",
   "execution_count": 7,
   "metadata": {
    "id": "0qOFwKzyQGG4"
   },
   "outputs": [
    {
     "data": {
      "text/plain": [
       "['airplane',\n",
       " 'automobile',\n",
       " 'bird',\n",
       " 'cat',\n",
       " 'deer',\n",
       " 'dog',\n",
       " 'frog',\n",
       " 'horse',\n",
       " 'ship',\n",
       " 'truck']"
      ]
     },
     "execution_count": 7,
     "metadata": {},
     "output_type": "execute_result"
    }
   ],
   "source": [
    "train_dataset.classes"
   ]
  },
  {
   "cell_type": "code",
   "execution_count": 8,
   "metadata": {
    "id": "EqvHwtTUOk-W"
   },
   "outputs": [
    {
     "data": {
      "image/png": "[encoded data removed]",
      "text/plain": [
       "<Figure size 640x480 with 1 Axes>"
      ]
     },
     "metadata": {},
     "output_type": "display_data"
    }
   ],
   "source": [
    "import matplotlib.pyplot as plt\n",
    "plt.imshow(data.permute(1,2,0))\n",
    "plt.title(train_dataset.classes[label])\n",
    "plt.show()"
   ]
  },
  {
   "cell_type": "code",
   "execution_count": null,
   "metadata": {
    "id": "q5s_QbdSPwQS"
   },
   "outputs": [],
   "source": []
  },
  {
   "cell_type": "markdown",
   "metadata": {
    "id": "2Tp5uXBhJiEh"
   },
   "source": [
    "## Dataloader"
   ]
  },
  {
   "cell_type": "code",
   "execution_count": 9,
   "metadata": {
    "id": "rvxsYDz8JkVi"
   },
   "outputs": [],
   "source": [
    "from torch.utils.data import DataLoader"
   ]
  },
  {
   "cell_type": "code",
   "execution_count": 10,
   "metadata": {
    "id": "fP85nmVjJog3"
   },
   "outputs": [],
   "source": [
    "batch_size=32\n",
    "train_loader = DataLoader(dataset=train_dataset, batch_size=batch_size,\n",
    "                          shuffle=True)\n",
    "test_loader = DataLoader(dataset=test_dataset, batch_size=batch_size,\n",
    "                         shuffle=False)\n"
   ]
  },
  {
   "cell_type": "code",
   "execution_count": 11,
   "metadata": {
    "colab": {
     "base_uri": "https://localhost:8080/"
    },
    "id": "CIXJP-R6LGX2",
    "outputId": "48892a0e-5044-485b-9f7a-6efaa54c9916"
   },
   "outputs": [
    {
     "name": "stdout",
     "output_type": "stream",
     "text": [
      "torch.Size([32, 3, 32, 32]) tensor([9, 5, 3, 5, 2, 2, 3, 6, 6, 3, 9, 0, 2, 4, 5, 3, 8, 4, 7, 0, 5, 0, 8, 9,\n",
      "        3, 9, 6, 6, 7, 1, 6, 7])\n"
     ]
    }
   ],
   "source": [
    "for ddata, ddlabel in train_loader:\n",
    "  print(ddata.shape, ddlabel)\n",
    "  break"
   ]
  },
  {
   "cell_type": "code",
   "execution_count": null,
   "metadata": {
    "id": "Hmh5gcoSRQ-M"
   },
   "outputs": [],
   "source": []
  },
  {
   "cell_type": "markdown",
   "metadata": {
    "id": "iblGJeWbOZlm"
   },
   "source": [
    "## Creating Model"
   ]
  },
  {
   "cell_type": "code",
   "execution_count": 12,
   "metadata": {
    "id": "--qe5BKIOs1G"
   },
   "outputs": [],
   "source": [
    "import torch.nn as nn"
   ]
  },
  {
   "cell_type": "code",
   "execution_count": 13,
   "metadata": {
    "id": "84uYWGcYObl7"
   },
   "outputs": [],
   "source": [
    "class GENMODEL(nn.Module):\n",
    "  def __init__(self, input_layer_node, ouput_layer_node):\n",
    "    super(GENMODEL, self).__init__()\n",
    "    print(\"My first Model is created\")\n",
    "    self.flatten= nn.Flatten()\n",
    "    self.input=nn.Linear(in_features=input_layer_node, out_features=128)\n",
    "    self.hidden=nn.Linear(in_features=128, out_features=64)\n",
    "    self.output=nn.Linear(in_features=64, out_features=ouput_layer_node)\n",
    "    self.relu=nn.ReLU()\n",
    "  def forward(self, x):\n",
    "    x=self.flatten(x) # preprocessign 28X28 --> 784\n",
    "    x = self.input(x) # input layer\n",
    "    x=self.relu(x)\n",
    "    x=self.hidden(x) # hidden layer\n",
    "    x=self.relu(x)\n",
    "    x=self.output(x) # output layer\n",
    "    return x"
   ]
  },
  {
   "cell_type": "code",
   "execution_count": 14,
   "metadata": {
    "id": "t3_Rp6msWErR"
   },
   "outputs": [],
   "source": [
    "class GENMODELv2(nn.Module):\n",
    "  def __init__(self, input_layer_node, ouput_layer_node):\n",
    "    super(GENMODELv2, self).__init__()\n",
    "    print(\"My first Model is created\")\n",
    "    self.flatten= nn.Flatten()\n",
    "    self.input=nn.Linear(in_features=input_layer_node, out_features=1024)\n",
    "    self.hidden1=nn.Linear(in_features=1024, out_features=512)\n",
    "    self.hidden2=nn.Linear(in_features=512, out_features=128)\n",
    "    self.hidden3=nn.Linear(in_features=128, out_features=64)\n",
    "    self.output=nn.Linear(in_features=64, out_features=ouput_layer_node)\n",
    "    self.relu=nn.ReLU()\n",
    "  def forward(self, x):\n",
    "    x=self.flatten(x) # preprocessign 32X32 --> 3072\n",
    "    x = self.input(x) # input layer\n",
    "    x=self.relu(x)\n",
    "    x=self.hidden1(x) # hidden layer\n",
    "    x=self.relu(x)\n",
    "    x=self.hidden2(x) # hidden layer\n",
    "    x=self.relu(x)\n",
    "    x=self.hidden3(x) # hidden layer\n",
    "    x=self.relu(x)\n",
    "    x=self.output(x) # output layer\n",
    "    return x"
   ]
  },
  {
   "cell_type": "code",
   "execution_count": 15,
   "metadata": {
    "id": "-R-0uLoCWjEi"
   },
   "outputs": [],
   "source": [
    "data_input, label=train_dataset[0]"
   ]
  },
  {
   "cell_type": "code",
   "execution_count": 16,
   "metadata": {
    "colab": {
     "base_uri": "https://localhost:8080/"
    },
    "id": "naC4SnmfS2Qt",
    "outputId": "69144729-d6aa-4d80-94e8-aceae019b820"
   },
   "outputs": [
    {
     "data": {
      "text/plain": [
       "3072"
      ]
     },
     "execution_count": 16,
     "metadata": {},
     "output_type": "execute_result"
    }
   ],
   "source": [
    "input_size=data_input.shape[0]*data_input.shape[1]*data_input.shape[2]\n",
    "input_size"
   ]
  },
  {
   "cell_type": "code",
   "execution_count": 17,
   "metadata": {
    "id": "ZNSmP37STIS9"
   },
   "outputs": [],
   "source": [
    "output_size=len(train_dataset.classes)"
   ]
  },
  {
   "cell_type": "code",
   "execution_count": 18,
   "metadata": {
    "id": "-6kQQrTfPQbe"
   },
   "outputs": [
    {
     "name": "stdout",
     "output_type": "stream",
     "text": [
      "My first Model is created\n"
     ]
    },
    {
     "data": {
      "text/plain": [
       "GENMODELv2(\n",
       "  (flatten): Flatten(start_dim=1, end_dim=-1)\n",
       "  (input): Linear(in_features=3072, out_features=1024, bias=True)\n",
       "  (hidden1): Linear(in_features=1024, out_features=512, bias=True)\n",
       "  (hidden2): Linear(in_features=512, out_features=128, bias=True)\n",
       "  (hidden3): Linear(in_features=128, out_features=64, bias=True)\n",
       "  (output): Linear(in_features=64, out_features=10, bias=True)\n",
       "  (relu): ReLU()\n",
       ")"
      ]
     },
     "execution_count": 18,
     "metadata": {},
     "output_type": "execute_result"
    }
   ],
   "source": [
    "model=GENMODELv2(input_size,output_size)\n",
    "model"
   ]
  },
  {
   "cell_type": "code",
   "execution_count": 19,
   "metadata": {
    "colab": {
     "base_uri": "https://localhost:8080/"
    },
    "id": "N_VRfsMQTLEJ",
    "outputId": "8a6da8b8-c9f7-44f9-b7f1-e49718080576"
   },
   "outputs": [
    {
     "name": "stdout",
     "output_type": "stream",
     "text": [
      "Before torch.Size([32, 3, 32, 32])\n",
      "aftr feedforward torch.Size([32, 10])\n"
     ]
    }
   ],
   "source": [
    "for ddata, ddlabel in train_loader:\n",
    "  print(\"Before\", ddata.shape)\n",
    "  out=model(ddata)\n",
    "  print(\"aftr feedforward\",out.shape)\n",
    "  break"
   ]
  },
  {
   "cell_type": "code",
   "execution_count": null,
   "metadata": {
    "id": "sK7Afs_UTb3D"
   },
   "outputs": [],
   "source": []
  },
  {
   "cell_type": "markdown",
   "metadata": {
    "id": "TyCnsM0BcWNy"
   },
   "source": [
    "## Optimizer and Loss"
   ]
  },
  {
   "cell_type": "code",
   "execution_count": 20,
   "metadata": {
    "id": "aAVzgP_Bche0"
   },
   "outputs": [],
   "source": [
    "import torch.optim as optim"
   ]
  },
  {
   "cell_type": "code",
   "execution_count": 21,
   "metadata": {
    "id": "yBaKW9y0ckBI"
   },
   "outputs": [],
   "source": [
    "loss_fn = nn.CrossEntropyLoss()\n",
    "learning_rate=0.01\n",
    "optimizer = optim.SGD(model.parameters(), lr=learning_rate)"
   ]
  },
  {
   "cell_type": "markdown",
   "metadata": {
    "id": "Lhwsf5z5dZ4c"
   },
   "source": [
    "### Model to GPU"
   ]
  },
  {
   "cell_type": "code",
   "execution_count": 22,
   "metadata": {
    "colab": {
     "base_uri": "https://localhost:8080/"
    },
    "id": "geuejin_dctX",
    "outputId": "928502de-8d5b-4cd5-fe89-d2d5d7d448c3"
   },
   "outputs": [
    {
     "name": "stdout",
     "output_type": "stream",
     "text": [
      "cpu\n"
     ]
    }
   ],
   "source": [
    "device=\"cuda\" if torch.cuda.is_available() else \"cpu\"\n",
    "print(device)"
   ]
  },
  {
   "cell_type": "code",
   "execution_count": 23,
   "metadata": {
    "id": "THa1X3Hrd4g8"
   },
   "outputs": [],
   "source": [
    "model=model.to(device)"
   ]
  },
  {
   "cell_type": "markdown",
   "metadata": {
    "id": "PQQ3lfZMeGvN"
   },
   "source": [
    "## Training Loop"
   ]
  },
  {
   "cell_type": "code",
   "execution_count": 35,
   "metadata": {
    "colab": {
     "base_uri": "https://localhost:8080/"
    },
    "id": "BtusaeGIeIps",
    "outputId": "0651b02b-093c-40e5-8dea-d6cbc638448a"
   },
   "outputs": [
    {
     "name": "stderr",
     "output_type": "stream",
     "text": [
      "100%|██████████| 1563/1563 [00:30<00:00, 50.44it/s]\n",
      "100%|██████████| 313/313 [00:03<00:00, 96.98it/s] \n"
     ]
    },
    {
     "name": "stdout",
     "output_type": "stream",
     "text": [
      "\n",
      "Epoch: 0/3 train Loss :2.2303 Test Loss:2.0493  Test Accuracy: 22.9600\n"
     ]
    },
    {
     "name": "stderr",
     "output_type": "stream",
     "text": [
      "100%|██████████| 1563/1563 [00:27<00:00, 56.31it/s]\n",
      "100%|██████████| 313/313 [00:03<00:00, 102.29it/s]\n"
     ]
    },
    {
     "name": "stdout",
     "output_type": "stream",
     "text": [
      "\n",
      "Epoch: 1/3 train Loss :1.9646 Test Loss:1.8763  Test Accuracy: 31.1700\n"
     ]
    },
    {
     "name": "stderr",
     "output_type": "stream",
     "text": [
      "100%|██████████| 1563/1563 [00:26<00:00, 58.11it/s]\n",
      "100%|██████████| 313/313 [00:03<00:00, 103.64it/s]"
     ]
    },
    {
     "name": "stdout",
     "output_type": "stream",
     "text": [
      "\n",
      "Epoch: 2/3 train Loss :1.8443 Test Loss:1.7762  Test Accuracy: 35.8500\n"
     ]
    },
    {
     "name": "stderr",
     "output_type": "stream",
     "text": [
      "\n"
     ]
    }
   ],
   "source": [
    "import time\n",
    "from tqdm import tqdm\n",
    "import numpy as np\n",
    "start_time=time.time()\n",
    "max_epoch=3\n",
    "training_data=[]\n",
    "for epoch in range(max_epoch):\n",
    "  # pass data through model for training\n",
    "  mean_train_loss=0\n",
    "  mean_val_loss=0\n",
    "  for data, label in tqdm(train_loader):\n",
    "    # print(data.shape, label)\n",
    "    # Put data to GPU\n",
    "    data=data.to(device)\n",
    "    label=label.to(device)\n",
    "    # Feed forward\n",
    "    out=model(data)\n",
    "    # print(out.shape)\n",
    "    # Training Loss calculation\n",
    "    train_loss=loss_fn(out, label)\n",
    "    # print(train_loss)\n",
    "    # Backward pass and optimization\n",
    "    optimizer.zero_grad()\n",
    "    # backprop\n",
    "    train_loss.backward()\n",
    "    # weight updation\n",
    "    optimizer.step()\n",
    "    # print(\"train loss \",train_loss)\n",
    "    mean_train_loss+=train_loss.item()\n",
    "    # break\n",
    "  # validation\n",
    "  total=0\n",
    "  correct=0\n",
    "  with torch.no_grad():\n",
    "    for data, label in tqdm(test_loader):\n",
    "      # print(data.shape, label)\n",
    "      # Put data to GPU\n",
    "      data=data.to(device)\n",
    "      label=label.to(device)\n",
    "      # Feed forward\n",
    "      out=model(data)\n",
    "      # print(out.shape)\n",
    "      # validation Loss calculation\n",
    "      val_loss=loss_fn(out, label)\n",
    "      # print(\"val loss \",val_loss)\n",
    "\n",
    "      _, predicted = torch.max(out, 1)\n",
    "      total += label.size(0)\n",
    "      correct += (predicted == label).sum().item()\n",
    "      mean_val_loss+=val_loss\n",
    "      # break\n",
    "  mean_train_loss = mean_train_loss/len(train_loader)\n",
    "  mean_test_loss = mean_val_loss/len(test_loader)\n",
    "  accuracy = correct / total\n",
    "  training_data.append({\"Train_loss\": mean_train_loss,\n",
    "                        \"val_loss\": mean_test_loss.item(),\n",
    "                        \"accuracy\": accuracy,\n",
    "                        \"epoch\": epoch})\n",
    "  print('\\nEpoch: {}/{} train Loss :{:.4f} Test Loss:{:.4f}  Test Accuracy: {:.4f}'\n",
    "  .format(epoch,max_epoch, mean_train_loss, mean_test_loss, accuracy*100))\n",
    "end_time=time.time()"
   ]
  },
  {
   "cell_type": "markdown",
   "metadata": {
    "id": "QrZDWnz1idaJ"
   },
   "source": [
    "## Time Complexity"
   ]
  },
  {
   "cell_type": "code",
   "execution_count": 36,
   "metadata": {
    "colab": {
     "base_uri": "https://localhost:8080/"
    },
    "id": "Et3DHkJpibKl",
    "outputId": "e786faef-560e-4eac-fb76-e45ae6fe29d0"
   },
   "outputs": [
    {
     "data": {
      "text/plain": [
       "94.99760723114014"
      ]
     },
     "execution_count": 36,
     "metadata": {},
     "output_type": "execute_result"
    }
   ],
   "source": [
    "end_time - start_time"
   ]
  },
  {
   "cell_type": "markdown",
   "metadata": {
    "id": "bOBbKWwStkRQ"
   },
   "source": [
    "## Train validation Accuracy plot"
   ]
  },
  {
   "cell_type": "code",
   "execution_count": 37,
   "metadata": {
    "id": "BrxYSmuMtpUv"
   },
   "outputs": [
    {
     "name": "stderr",
     "output_type": "stream",
     "text": [
      "C:\\Users\\vwadhawan\\AppData\\Local\\Temp\\ipykernel_1712\\432526209.py:1: DeprecationWarning: \n",
      "Pyarrow will become a required dependency of pandas in the next major release of pandas (pandas 3.0),\n",
      "(to allow more performant data types, such as the Arrow string type, and better interoperability with other libraries)\n",
      "but was not found to be installed on your system.\n",
      "If this would cause problems for you,\n",
      "please provide us feedback at https://github.com/pandas-dev/pandas/issues/54466\n",
      "        \n",
      "  import pandas as pd\n"
     ]
    }
   ],
   "source": [
    "import pandas as pd\n",
    "import seaborn as sns"
   ]
  },
  {
   "cell_type": "code",
   "execution_count": 38,
   "metadata": {
    "colab": {
     "base_uri": "https://localhost:8080/",
     "height": 363
    },
    "id": "vkp2hy36uGXj",
    "outputId": "9df8b083-a484-4d2e-f471-f24a6fbed38b"
   },
   "outputs": [
    {
     "data": {
      "text/html": [
       "<div>\n",
       "<style scoped>\n",
       "    .dataframe tbody tr th:only-of-type {\n",
       "        vertical-align: middle;\n",
       "    }\n",
       "\n",
       "    .dataframe tbody tr th {\n",
       "        vertical-align: top;\n",
       "    }\n",
       "\n",
       "    .dataframe thead th {\n",
       "        text-align: right;\n",
       "    }\n",
       "</style>\n",
       "<table border=\"1\" class=\"dataframe\">\n",
       "  <thead>\n",
       "    <tr style=\"text-align: right;\">\n",
       "      <th></th>\n",
       "      <th>Train_loss</th>\n",
       "      <th>val_loss</th>\n",
       "      <th>accuracy</th>\n",
       "      <th>epoch</th>\n",
       "    </tr>\n",
       "  </thead>\n",
       "  <tbody>\n",
       "    <tr>\n",
       "      <th>0</th>\n",
       "      <td>2.230299</td>\n",
       "      <td>2.049281</td>\n",
       "      <td>0.2296</td>\n",
       "      <td>0</td>\n",
       "    </tr>\n",
       "    <tr>\n",
       "      <th>1</th>\n",
       "      <td>1.964606</td>\n",
       "      <td>1.876281</td>\n",
       "      <td>0.3117</td>\n",
       "      <td>1</td>\n",
       "    </tr>\n",
       "    <tr>\n",
       "      <th>2</th>\n",
       "      <td>1.844260</td>\n",
       "      <td>1.776170</td>\n",
       "      <td>0.3585</td>\n",
       "      <td>2</td>\n",
       "    </tr>\n",
       "  </tbody>\n",
       "</table>\n",
       "</div>"
      ],
      "text/plain": [
       "   Train_loss  val_loss  accuracy  epoch\n",
       "0    2.230299  2.049281    0.2296      0\n",
       "1    1.964606  1.876281    0.3117      1\n",
       "2    1.844260  1.776170    0.3585      2"
      ]
     },
     "execution_count": 38,
     "metadata": {},
     "output_type": "execute_result"
    }
   ],
   "source": [
    "df=pd.DataFrame(training_data)\n",
    "df"
   ]
  },
  {
   "cell_type": "code",
   "execution_count": 39,
   "metadata": {
    "id": "CT4rtGKNvFOw"
   },
   "outputs": [
    {
     "data": {
      "text/plain": [
       "<Axes: xlabel='epoch', ylabel='Train_loss'>"
      ]
     },
     "execution_count": 39,
     "metadata": {},
     "output_type": "execute_result"
    },
    {
     "data": {
      "image/png": "[encoded data removed]",
      "text/plain": [
       "<Figure size 640x480 with 1 Axes>"
      ]
     },
     "metadata": {},
     "output_type": "display_data"
    }
   ],
   "source": [
    "sns.scatterplot(data=df, x='epoch', y='Train_loss')\n",
    "sns.scatterplot(data=df, x='epoch', y='val_loss')\n",
    "sns.scatterplot(data=df, x='epoch', y='accuracy')\n"
   ]
  },
  {
   "cell_type": "markdown",
   "metadata": {
    "id": "Ox4r08JIZnAB"
   },
   "source": [
    "## Model weights visualization"
   ]
  },
  {
   "cell_type": "code",
   "execution_count": 40,
   "metadata": {
    "colab": {
     "base_uri": "https://localhost:8080/"
    },
    "id": "ritLLKM1ZqfR",
    "outputId": "4c976187-2165-4567-d960-b941e7e5b545"
   },
   "outputs": [
    {
     "data": {
      "text/plain": [
       "torch.Size([1024, 3072])"
      ]
     },
     "execution_count": 40,
     "metadata": {},
     "output_type": "execute_result"
    }
   ],
   "source": [
    "model.input.weight.data.shape"
   ]
  },
  {
   "cell_type": "code",
   "execution_count": 41,
   "metadata": {
    "colab": {
     "base_uri": "https://localhost:8080/"
    },
    "id": "inv_ZKpEZtL1",
    "outputId": "c8aa81b4-7593-4115-d474-f74695baf398"
   },
   "outputs": [
    {
     "data": {
      "text/plain": [
       "torch.Size([512, 1024])"
      ]
     },
     "execution_count": 41,
     "metadata": {},
     "output_type": "execute_result"
    }
   ],
   "source": [
    "model.hidden1.weight.data.shape"
   ]
  },
  {
   "cell_type": "code",
   "execution_count": 42,
   "metadata": {
    "id": "mChGXJlaaUhF"
   },
   "outputs": [
    {
     "data": {
      "text/plain": [
       "tensor([[-0.0288, -0.0427, -0.0066,  ..., -0.0101, -0.0297, -0.0257],\n",
       "        [-0.0441, -0.0115,  0.0112,  ..., -0.0428,  0.0226,  0.0311],\n",
       "        [-0.0301, -0.0388, -0.0302,  ..., -0.0252, -0.0241, -0.0050],\n",
       "        ...,\n",
       "        [ 0.0281, -0.0387,  0.0246,  ..., -0.0454,  0.0134, -0.0356],\n",
       "        [-0.0133, -0.0060,  0.0285,  ..., -0.0310, -0.0186,  0.0007],\n",
       "        [-0.0289, -0.0101,  0.0283,  ...,  0.0361, -0.0118, -0.0004]])"
      ]
     },
     "execution_count": 42,
     "metadata": {},
     "output_type": "execute_result"
    }
   ],
   "source": [
    "model.hidden2.weight.data"
   ]
  },
  {
   "cell_type": "code",
   "execution_count": 43,
   "metadata": {
    "id": "_oagEBf-aZ7p"
   },
   "outputs": [],
   "source": [
    "w3=model.hidden3.weight.data"
   ]
  },
  {
   "cell_type": "code",
   "execution_count": 44,
   "metadata": {
    "id": "Vh_NEJlkbbRm"
   },
   "outputs": [],
   "source": [
    "#import matplotlib.pyplot as plt\n",
    "#plt.imshow(w3.cpu().numpy())\n",
    "#plt.show()"
   ]
  },
  {
   "cell_type": "markdown",
   "metadata": {
    "id": "zhKdFceiaike"
   },
   "source": [
    "## Save the torch model"
   ]
  },
  {
   "cell_type": "code",
   "execution_count": 45,
   "metadata": {
    "id": "ALPzyKGcabN1"
   },
   "outputs": [],
   "source": [
    "torch.save(model.state_dict(), 'model_weights.pth')"
   ]
  },
  {
   "cell_type": "code",
   "execution_count": null,
   "metadata": {
    "id": "HL2_amooazwP"
   },
   "outputs": [],
   "source": []
  },
  {
   "cell_type": "code",
   "execution_count": null,
   "metadata": {},
   "outputs": [],
   "source": []
  },
  {
   "cell_type": "code",
   "execution_count": null,
   "metadata": {},
   "outputs": [],
   "source": []
  }
 ],
 "metadata": {
  "accelerator": "GPU",
  "colab": {
   "gpuType": "T4",
   "provenance": []
  },
  "kernelspec": {
   "display_name": "Python 3 (ipykernel)",
   "language": "python",
   "name": "python3"
  },
  "language_info": {
   "codemirror_mode": {
    "name": "ipython",
    "version": 3
   },
   "file_extension": ".py",
   "mimetype": "text/x-python",
   "name": "python",
   "nbconvert_exporter": "python",
   "pygments_lexer": "ipython3",
   "version": "3.11.7"
  }
 },
 "nbformat": 4,
 "nbformat_minor": 4
}
